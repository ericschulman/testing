{
 "cells": [
  {
   "cell_type": "code",
   "execution_count": 19,
   "metadata": {},
   "outputs": [],
   "source": [
    "import numpy as np\n",
    "import statsmodels.api as sm\n",
    "import matplotlib.pyplot as plt\n",
    "from scipy.stats import norm"
   ]
  },
  {
   "cell_type": "code",
   "execution_count": 20,
   "metadata": {},
   "outputs": [],
   "source": [
    "#generate the sample\n",
    "def gen_data():\n",
    "    nobs = 1000\n",
    "    beta = 3\n",
    "    x = np.random.uniform(low=-1., high=1., size=nobs)\n",
    "    e = np.random.normal(loc=0.0, scale=1.0, size=nobs) #uniform(low=-1., high=1., size=nobs)  #(loc=0.0, scale=1.0, size=nobs) ##\n",
    "    y = 1*(1 + beta * x + e >= 0) \n",
    "    return y,x,nobs"
   ]
  },
  {
   "cell_type": "code",
   "execution_count": 21,
   "metadata": {},
   "outputs": [
    {
     "name": "stdout",
     "output_type": "stream",
     "text": [
      "                          Probit Regression Results                           \n",
      "==============================================================================\n",
      "Dep. Variable:                      y   No. Observations:                 1000\n",
      "Model:                         Probit   Df Residuals:                      998\n",
      "Method:                           MLE   Df Model:                            1\n",
      "Date:                Tue, 06 Oct 2020   Pseudo R-squ.:                  0.5305\n",
      "Time:                        17:04:46   Log-Likelihood:                -300.96\n",
      "converged:                       True   LL-Null:                       -641.04\n",
      "Covariance Type:            nonrobust   LLR p-value:                6.209e-150\n",
      "==============================================================================\n",
      "                 coef    std err          z      P>|z|      [0.025      0.975]\n",
      "------------------------------------------------------------------------------\n",
      "const          1.0127      0.078     12.988      0.000       0.860       1.165\n",
      "x1             2.9973      0.172     17.442      0.000       2.660       3.334\n",
      "==============================================================================\n",
      "                           Logit Regression Results                           \n",
      "==============================================================================\n",
      "Dep. Variable:                      y   No. Observations:                 1000\n",
      "Model:                          Logit   Df Residuals:                      998\n",
      "Method:                           MLE   Df Model:                            1\n",
      "Date:                Tue, 06 Oct 2020   Pseudo R-squ.:                  0.5261\n",
      "Time:                        17:04:46   Log-Likelihood:                -303.77\n",
      "converged:                       True   LL-Null:                       -641.04\n",
      "Covariance Type:            nonrobust   LLR p-value:                1.038e-148\n",
      "==============================================================================\n",
      "                 coef    std err          z      P>|z|      [0.025      0.975]\n",
      "------------------------------------------------------------------------------\n",
      "const          1.7730      0.145     12.251      0.000       1.489       2.057\n",
      "x1             5.1842      0.325     15.935      0.000       4.547       5.822\n",
      "==============================================================================\n"
     ]
    },
    {
     "data": {
      "image/png": "[encoded data removed]",
      "text/plain": [
       "<Figure size 432x288 with 1 Axes>"
      ]
     },
     "metadata": {
      "needs_background": "light"
     },
     "output_type": "display_data"
    }
   ],
   "source": [
    "yn,xn, nobs = gen_data()\n",
    "support = np.arange(-3,3,1/nobs)\n",
    "model1 = sm.Probit(yn,sm.add_constant(xn))\n",
    "model1 = model1.fit(disp=False)\n",
    "print(model1.summary())\n",
    "model1_fit =  norm.cdf(model1.params[0] + model1.params[1]*support)\n",
    "\n",
    "model2 = sm.Logit(yn,sm.add_constant(xn))\n",
    "model2 = model2.fit(disp=False)\n",
    "logit = lambda x: np.exp(x)/(1+np.exp(x))\n",
    "model2_fit = logit(model2.params[0] + model2.params[1]*support)\n",
    "print(model2.summary())\n",
    "\n",
    "plt.scatter(xn,yn)\n",
    "plt.plot(support,model1_fit,label=\"Probit\")\n",
    "plt.plot(support,model2_fit,label=\"Logit\")\n",
    "plt.legend()\n",
    "\n",
    "plt.ylabel(\"Density\")\n",
    "plt.xlabel(\"Covariate 'x'\")\n",
    "plt.xlim((-1.2,.8))\n",
    "plt.savefig('figs/nonnested')\n",
    "plt.xlim((-.6,-0.0))\n",
    "plt.savefig('figs/nonnested_zoom')\n",
    "plt.show()"
   ]
  },
  {
   "cell_type": "code",
   "execution_count": null,
   "metadata": {},
   "outputs": [],
   "source": [
    "#N(0,1) epsilon, U[-1,1] x/ a= b= \n",
    "#U[-1,1] epsilon, U[-1,1] x/ a= b= "
   ]
  }
 ],
 "metadata": {
  "kernelspec": {
   "display_name": "Python 3",
   "language": "python",
   "name": "python3"
  },
  "language_info": {
   "codemirror_mode": {
    "name": "ipython",
    "version": 3
   },
   "file_extension": ".py",
   "mimetype": "text/x-python",
   "name": "python",
   "nbconvert_exporter": "python",
   "pygments_lexer": "ipython3",
   "version": "3.8.8"
  }
 },
 "nbformat": 4,
 "nbformat_minor": 2
}
