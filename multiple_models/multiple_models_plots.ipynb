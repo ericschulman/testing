{
 "cells": [
  {
   "cell_type": "code",
   "execution_count": 1,
   "id": "5023a4d1",
   "metadata": {},
   "outputs": [],
   "source": [
    "%load_ext autoreload\n",
    "%autoreload 2\n",
    "\n",
    "import numpy as np\n",
    "import scipy.stats as stats\n",
    "import scipy.special\n",
    "#graphing\n",
    "import matplotlib.pyplot as plt\n",
    "#stats\n",
    "import statsmodels.api as sm\n",
    "from statsmodels.base.model import GenericLikelihoodModel\n",
    "\n",
    "#import testing\n",
    "import sys\n",
    "sys.path.append(\"../\")\n",
    "import vuong_plots"
   ]
  },
  {
   "cell_type": "code",
   "execution_count": 2,
   "id": "c0009daa",
   "metadata": {},
   "outputs": [],
   "source": [
    "class OLS_loglike(GenericLikelihoodModel):\n",
    "    \n",
    "    def __init__(self, *args,ols=False, **kwargs):\n",
    "        super(OLS_loglike,self).__init__(*args,**kwargs)\n",
    "        self.ols = ols\n",
    "\n",
    "    def loglikeobs(self, params):\n",
    "        y = self.endog\n",
    "        x = self.exog\n",
    "        mu_y = np.matmul(x,params)  \n",
    "        resid = y - mu_y\n",
    "        sigma = np.sqrt(np.sum(resid**2)/resid.shape[0])\n",
    "        pr_y = stats.norm.logpdf( resid, loc=0,scale=sigma )\n",
    "        return pr_y"
   ]
  },
  {
   "cell_type": "code",
   "execution_count": 3,
   "id": "01eb018b",
   "metadata": {},
   "outputs": [],
   "source": [
    "def gen_data(nobs=1000, a=0.25, num_params=4):\n",
    "    x = np.random.normal(scale=1., size=(nobs,num_params))\n",
    "    e = np.random.normal(loc=0.0, scale=1.0, size=nobs)\n",
    "    y = 1 + a*x.sum(axis=1) + e\n",
    "    return y,x,nobs"
   ]
  },
  {
   "cell_type": "code",
   "execution_count": 4,
   "id": "a64c168d",
   "metadata": {},
   "outputs": [],
   "source": [
    "def setup_model(yn,xn):\n",
    "    \"\"\"setup models for ease\"\"\"\n",
    "    model1 = sm.OLS(yn,sm.add_constant(xn))\n",
    "    model1_fit = model1.fit(disp=False)\n",
    "    params1 = (model1_fit.params)\n",
    "    model1_deriv = OLS_loglike(yn,sm.add_constant(xn))\n",
    "    ll1 = model1_deriv.loglikeobs(model1_fit.params)\n",
    "    grad1 =  model1_deriv.score_obs(model1_fit.params)    \n",
    "    hess1 = model1_deriv.hessian(model1_fit.params)\n",
    "    return ll1,grad1,hess1,params1\n",
    "\n",
    "\n",
    "def setup_test(yn,xn):\n",
    "    lls = []\n",
    "    grads = []\n",
    "    hesss = []\n",
    "    params = []                \n",
    "    for i in range(xn.shape[1]):\n",
    "        ll,grad,hess,param = setup_model(yn,xn[:,i])\n",
    "        lls.append(ll)\n",
    "        grads.append(grad)\n",
    "        hesss.append(hess)\n",
    "        params.append(param)\n",
    "    \n",
    "    #determine 1 and 2\n",
    "    lls_sum = np.array(lls).sum(axis=1)\n",
    "    lls_sorted = lls_sum.copy()\n",
    "    lls_sorted.sort()\n",
    "    ind1,ind2 = lls_sorted[-2:]\n",
    "    ind1 = (lls_sum == ind1).argmax()\n",
    "    ind2 = (lls_sum == ind2).argmax()\n",
    "    return lls[ind1],grads[ind1],hesss[ind1],params[ind1], lls[ind2],grads[ind2],hesss[ind2],params[ind2]\n",
    "\n",
    "yn,xn,nobs = gen_data()\n",
    "ll1,grad1,hess1,params1,ll2,grad2,hess2,params2 = setup_test(yn,xn)"
   ]
  },
  {
   "cell_type": "markdown",
   "id": "c312dd9b",
   "metadata": {},
   "source": [
    "# K = 4"
   ]
  },
  {
   "cell_type": "code",
   "execution_count": 5,
   "id": "2d68c53c",
   "metadata": {},
   "outputs": [
    {
     "data": {
      "image/png": "[encoded data removed]",
      "text/plain": [
       "<Figure size 432x288 with 1 Axes>"
      ]
     },
     "metadata": {
      "needs_background": "light"
     },
     "output_type": "display_data"
    },
    {
     "name": "stdout",
     "output_type": "stream",
     "text": [
      "\\begin{center}\n",
      "\\begin{tabular}{ccccccc}\n",
      "\\toprule\n",
      "\\textbf{Test} & \\textbf{Mean} & \\textbf{Var} & \\textbf{K-Stat 3} & \\textbf{K-Stat 4} & \\textbf{Skew} & \\textbf{Kurtosis} \\\\ \\midrule\n",
      "True & 0.117 & 0.178 & -0.003 & 0.061 & -0.003 & 0.155 \\\\\n",
      "Bootstrap & 0.144 & 0.334 & -0.005 & 0.234 & -0.005 & 0.566 \\\\\n",
      "Normal & 0.010 & 0.989 & -0.010 & -0.094 & -0.010 & 2.839 \\\\\n",
      "Overlapping & -0.019 & 0.249 & 0.008 & -0.011 & 0.008 & 0.175 \\\\\n",
      "\\bottomrule\n",
      "\\end{tabular}\n",
      "\\end{center}\n"
     ]
    }
   ],
   "source": [
    "gen_data_ex = lambda : gen_data(nobs=1000, a=0.0, num_params=4)\n",
    "vuong_plots.plot_kstats_table(gen_data_ex,setup_test)"
   ]
  },
  {
   "cell_type": "code",
   "execution_count": 6,
   "id": "482d6c09",
   "metadata": {},
   "outputs": [
    {
     "data": {
      "image/png": "[encoded data removed]",
      "text/plain": [
       "<Figure size 432x288 with 1 Axes>"
      ]
     },
     "metadata": {
      "needs_background": "light"
     },
     "output_type": "display_data"
    },
    {
     "name": "stdout",
     "output_type": "stream",
     "text": [
      "\\begin{center}\n",
      "\\begin{tabular}{ccccccc}\n",
      "\\toprule\n",
      "\\textbf{Test} & \\textbf{Mean} & \\textbf{Var} & \\textbf{K-Stat 3} & \\textbf{K-Stat 4} & \\textbf{Skew} & \\textbf{Kurtosis} \\\\ \\midrule\n",
      "True & 0.009 & 0.183 & -0.098 & 0.057 & -0.098 & 0.157 \\\\\n",
      "Bootstrap & 0.012 & 0.286 & -0.168 & 0.095 & -0.167 & 0.338 \\\\\n",
      "Normal & -0.014 & 1.007 & -0.006 & -0.011 & -0.006 & 3.031 \\\\\n",
      "Overlapping & -0.033 & 0.300 & 0.010 & -0.025 & 0.010 & 0.245 \\\\\n",
      "\\bottomrule\n",
      "\\end{tabular}\n",
      "\\end{center}\n"
     ]
    }
   ],
   "source": [
    "gen_data_ex = lambda : gen_data(nobs=1000, a=0.25, num_params=4)\n",
    "vuong_plots.plot_kstats_table(gen_data_ex,setup_test)"
   ]
  },
  {
   "cell_type": "code",
   "execution_count": 7,
   "id": "baab5e04",
   "metadata": {},
   "outputs": [
    {
     "data": {
      "image/png": "[encoded data removed]",
      "text/plain": [
       "<Figure size 432x288 with 1 Axes>"
      ]
     },
     "metadata": {
      "needs_background": "light"
     },
     "output_type": "display_data"
    },
    {
     "name": "stdout",
     "output_type": "stream",
     "text": [
      "\\begin{center}\n",
      "\\begin{tabular}{ccccccc}\n",
      "\\toprule\n",
      "\\textbf{Test} & \\textbf{Mean} & \\textbf{Var} & \\textbf{K-Stat 3} & \\textbf{K-Stat 4} & \\textbf{Skew} & \\textbf{Kurtosis} \\\\ \\midrule\n",
      "True & 0.004 & 0.179 & -0.096 & 0.061 & -0.096 & 0.156 \\\\\n",
      "Bootstrap & 0.004 & 0.452 & -0.221 & -0.025 & -0.220 & 0.586 \\\\\n",
      "Normal & 0.013 & 1.026 & 0.040 & 0.100 & 0.040 & 3.253 \\\\\n",
      "Overlapping & -0.010 & 0.313 & -0.007 & -0.030 & -0.007 & 0.263 \\\\\n",
      "\\bottomrule\n",
      "\\end{tabular}\n",
      "\\end{center}\n"
     ]
    }
   ],
   "source": [
    "gen_data_ex = lambda : gen_data(nobs=1000, a=0.5, num_params=4)\n",
    "vuong_plots.plot_kstats_table(gen_data_ex,setup_test)"
   ]
  },
  {
   "cell_type": "markdown",
   "id": "32ea244e",
   "metadata": {},
   "source": [
    "# K = 9"
   ]
  },
  {
   "cell_type": "code",
   "execution_count": 8,
   "id": "1165b45e",
   "metadata": {},
   "outputs": [
    {
     "data": {
      "image/png": "[encoded data removed]",
      "text/plain": [
       "<Figure size 432x288 with 1 Axes>"
      ]
     },
     "metadata": {
      "needs_background": "light"
     },
     "output_type": "display_data"
    },
    {
     "name": "stdout",
     "output_type": "stream",
     "text": [
      "\\begin{center}\n",
      "\\begin{tabular}{ccccccc}\n",
      "\\toprule\n",
      "\\textbf{Test} & \\textbf{Mean} & \\textbf{Var} & \\textbf{K-Stat 3} & \\textbf{K-Stat 4} & \\textbf{Skew} & \\textbf{Kurtosis} \\\\ \\midrule\n",
      "True & 0.060 & 0.118 & -0.043 & 0.019 & -0.043 & 0.061 \\\\\n",
      "Bootstrap & 0.096 & 0.414 & -0.157 & -0.005 & -0.157 & 0.508 \\\\\n",
      "Normal & -0.002 & 1.031 & 0.016 & 0.009 & 0.016 & 3.193 \\\\\n",
      "Overlapping & -0.007 & 0.274 & 0.004 & -0.016 & 0.004 & 0.209 \\\\\n",
      "\\bottomrule\n",
      "\\end{tabular}\n",
      "\\end{center}\n"
     ]
    }
   ],
   "source": [
    "gen_data_ex = lambda : gen_data(nobs=1000, a=0.0, num_params=9)\n",
    "vuong_plots.plot_kstats_table(gen_data_ex,setup_test)"
   ]
  },
  {
   "cell_type": "code",
   "execution_count": 9,
   "id": "ff02ab4d",
   "metadata": {},
   "outputs": [
    {
     "data": {
      "image/png": "[encoded data removed]",
      "text/plain": [
       "<Figure size 432x288 with 1 Axes>"
      ]
     },
     "metadata": {
      "needs_background": "light"
     },
     "output_type": "display_data"
    },
    {
     "name": "stdout",
     "output_type": "stream",
     "text": [
      "\\begin{center}\n",
      "\\begin{tabular}{ccccccc}\n",
      "\\toprule\n",
      "\\textbf{Test} & \\textbf{Mean} & \\textbf{Var} & \\textbf{K-Stat 3} & \\textbf{K-Stat 4} & \\textbf{Skew} & \\textbf{Kurtosis} \\\\ \\midrule\n",
      "True & 0.008 & 0.116 & -0.047 & 0.018 & -0.047 & 0.058 \\\\\n",
      "Bootstrap & 0.012 & 0.364 & -0.197 & 0.064 & -0.197 & 0.460 \\\\\n",
      "Normal & -0.006 & 0.996 & -0.010 & -0.033 & -0.010 & 2.938 \\\\\n",
      "Overlapping & -0.036 & 0.307 & 0.006 & -0.024 & 0.006 & 0.258 \\\\\n",
      "\\bottomrule\n",
      "\\end{tabular}\n",
      "\\end{center}\n"
     ]
    }
   ],
   "source": [
    "gen_data_ex = lambda : gen_data(nobs=1000, a=0.25, num_params=9)\n",
    "vuong_plots.plot_kstats_table(gen_data_ex,setup_test)"
   ]
  },
  {
   "cell_type": "code",
   "execution_count": 10,
   "id": "98e8bf59",
   "metadata": {},
   "outputs": [
    {
     "data": {
      "image/png": "[encoded data removed]",
      "text/plain": [
       "<Figure size 432x288 with 1 Axes>"
      ]
     },
     "metadata": {
      "needs_background": "light"
     },
     "output_type": "display_data"
    },
    {
     "name": "stdout",
     "output_type": "stream",
     "text": [
      "\\begin{center}\n",
      "\\begin{tabular}{ccccccc}\n",
      "\\toprule\n",
      "\\textbf{Test} & \\textbf{Mean} & \\textbf{Var} & \\textbf{K-Stat 3} & \\textbf{K-Stat 4} & \\textbf{Skew} & \\textbf{Kurtosis} \\\\ \\midrule\n",
      "True & 0.005 & 0.113 & -0.050 & 0.026 & -0.050 & 0.065 \\\\\n",
      "Bootstrap & 0.013 & 0.336 & -0.224 & 0.219 & -0.223 & 0.554 \\\\\n",
      "Normal & 0.023 & 1.002 & 0.009 & -0.069 & 0.009 & 2.944 \\\\\n",
      "Overlapping & -0.017 & 0.318 & 0.013 & -0.032 & 0.013 & 0.271 \\\\\n",
      "\\bottomrule\n",
      "\\end{tabular}\n",
      "\\end{center}\n"
     ]
    }
   ],
   "source": [
    "gen_data_ex = lambda : gen_data(nobs=1000, a=0.5, num_params=9)\n",
    "vuong_plots.plot_kstats_table(gen_data_ex,setup_test)"
   ]
  },
  {
   "cell_type": "markdown",
   "id": "236ad5b4",
   "metadata": {},
   "source": [
    "# K = 19"
   ]
  },
  {
   "cell_type": "code",
   "execution_count": 11,
   "id": "7901c395",
   "metadata": {},
   "outputs": [
    {
     "data": {
      "image/png": "[encoded data removed]",
      "text/plain": [
       "<Figure size 432x288 with 1 Axes>"
      ]
     },
     "metadata": {
      "needs_background": "light"
     },
     "output_type": "display_data"
    },
    {
     "name": "stdout",
     "output_type": "stream",
     "text": [
      "\\begin{center}\n",
      "\\begin{tabular}{ccccccc}\n",
      "\\toprule\n",
      "\\textbf{Test} & \\textbf{Mean} & \\textbf{Var} & \\textbf{K-Stat 3} & \\textbf{K-Stat 4} & \\textbf{Skew} & \\textbf{Kurtosis} \\\\ \\midrule\n",
      "True & 0.036 & 0.087 & -0.030 & 0.011 & -0.030 & 0.034 \\\\\n",
      "Bootstrap & 0.038 & 0.155 & -0.068 & 0.028 & -0.068 & 0.100 \\\\\n",
      "Normal & -0.029 & 0.966 & 0.071 & 0.045 & 0.071 & 2.841 \\\\\n",
      "Overlapping & 0.022 & 0.258 & -0.012 & -0.011 & -0.012 & 0.189 \\\\\n",
      "\\bottomrule\n",
      "\\end{tabular}\n",
      "\\end{center}\n"
     ]
    }
   ],
   "source": [
    "gen_data_ex = lambda : gen_data(nobs=1000, a=0.0, num_params=19)\n",
    "vuong_plots.plot_kstats_table(gen_data_ex,setup_test)"
   ]
  },
  {
   "cell_type": "code",
   "execution_count": 12,
   "id": "d99f2d35",
   "metadata": {},
   "outputs": [
    {
     "data": {
      "image/png": "[encoded data removed]",
      "text/plain": [
       "<Figure size 432x288 with 1 Axes>"
      ]
     },
     "metadata": {
      "needs_background": "light"
     },
     "output_type": "display_data"
    },
    {
     "name": "stdout",
     "output_type": "stream",
     "text": [
      "\\begin{center}\n",
      "\\begin{tabular}{ccccccc}\n",
      "\\toprule\n",
      "\\textbf{Test} & \\textbf{Mean} & \\textbf{Var} & \\textbf{K-Stat 3} & \\textbf{K-Stat 4} & \\textbf{Skew} & \\textbf{Kurtosis} \\\\ \\midrule\n",
      "True & 0.007 & 0.090 & -0.032 & 0.009 & -0.031 & 0.032 \\\\\n",
      "Bootstrap & 0.010 & 0.148 & -0.076 & 0.045 & -0.076 & 0.110 \\\\\n",
      "Normal & 0.009 & 1.006 & 0.004 & -0.103 & 0.004 & 2.931 \\\\\n",
      "Overlapping & 0.006 & 0.300 & 0.004 & -0.032 & 0.004 & 0.238 \\\\\n",
      "\\bottomrule\n",
      "\\end{tabular}\n",
      "\\end{center}\n"
     ]
    }
   ],
   "source": [
    "gen_data_ex = lambda : gen_data(nobs=1000, a=0.25, num_params=19)\n",
    "vuong_plots.plot_kstats_table(gen_data_ex,setup_test)"
   ]
  },
  {
   "cell_type": "code",
   "execution_count": 13,
   "id": "bc8155af",
   "metadata": {},
   "outputs": [
    {
     "data": {
      "image/png": "[encoded data removed]",
      "text/plain": [
       "<Figure size 432x288 with 1 Axes>"
      ]
     },
     "metadata": {
      "needs_background": "light"
     },
     "output_type": "display_data"
    },
    {
     "name": "stdout",
     "output_type": "stream",
     "text": [
      "\\begin{center}\n",
      "\\begin{tabular}{ccccccc}\n",
      "\\toprule\n",
      "\\textbf{Test} & \\textbf{Mean} & \\textbf{Var} & \\textbf{K-Stat 3} & \\textbf{K-Stat 4} & \\textbf{Skew} & \\textbf{Kurtosis} \\\\ \\midrule\n",
      "True & 0.006 & 0.090 & -0.040 & 0.023 & -0.040 & 0.046 \\\\\n",
      "Bootstrap & 0.017 & 0.293 & -0.195 & 0.122 & -0.194 & 0.378 \\\\\n",
      "Normal & -0.001 & 1.000 & -0.034 & -0.045 & -0.034 & 2.953 \\\\\n",
      "Overlapping & 0.041 & 0.302 & -0.012 & -0.036 & -0.012 & 0.238 \\\\\n",
      "\\bottomrule\n",
      "\\end{tabular}\n",
      "\\end{center}\n"
     ]
    }
   ],
   "source": [
    "gen_data_ex = lambda : gen_data(nobs=1000, a=0.5, num_params=19)\n",
    "vuong_plots.plot_kstats_table(gen_data_ex,setup_test)"
   ]
  },
  {
   "cell_type": "code",
   "execution_count": null,
   "id": "a421f614",
   "metadata": {},
   "outputs": [],
   "source": []
  },
  {
   "cell_type": "code",
   "execution_count": null,
   "id": "891b6dfa",
   "metadata": {},
   "outputs": [],
   "source": []
  },
  {
   "cell_type": "code",
   "execution_count": null,
   "id": "cfc5c9a6",
   "metadata": {},
   "outputs": [],
   "source": []
  }
 ],
 "metadata": {
  "kernelspec": {
   "display_name": "Python 3",
   "language": "python",
   "name": "python3"
  },
  "language_info": {
   "codemirror_mode": {
    "name": "ipython",
    "version": 3
   },
   "file_extension": ".py",
   "mimetype": "text/x-python",
   "name": "python",
   "nbconvert_exporter": "python",
   "pygments_lexer": "ipython3",
   "version": "3.8.8"
  }
 },
 "nbformat": 4,
 "nbformat_minor": 5
}
