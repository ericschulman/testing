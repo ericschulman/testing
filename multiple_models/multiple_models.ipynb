{
 "cells": [
  {
   "cell_type": "code",
   "execution_count": 40,
   "id": "5023a4d1",
   "metadata": {},
   "outputs": [
    {
     "name": "stdout",
     "output_type": "stream",
     "text": [
      "The autoreload extension is already loaded. To reload it, use:\n",
      "  %reload_ext autoreload\n"
     ]
    }
   ],
   "source": [
    "%load_ext autoreload\n",
    "%autoreload 2\n",
    "\n",
    "import numpy as np\n",
    "import matplotlib.pyplot as plt\n",
    "import statsmodels.api as sm\n",
    "from statsmodels.base.model import GenericLikelihoodModel\n",
    "import scipy.stats as stats\n",
    "import sys\n",
    "\n",
    "sys.path.append(\"../\")\n",
    "import vuong_tests5"
   ]
  },
  {
   "cell_type": "code",
   "execution_count": 41,
   "id": "c0009daa",
   "metadata": {},
   "outputs": [],
   "source": [
    "class OLS_loglike(GenericLikelihoodModel):\n",
    "    \n",
    "    def __init__(self, *args,ols=False, **kwargs):\n",
    "        super(OLS_loglike,self).__init__(*args,**kwargs)\n",
    "        self.ols = ols\n",
    "\n",
    "    def loglikeobs(self, params):\n",
    "        y = self.endog\n",
    "        x = self.exog\n",
    "        mu_y = np.matmul(x,params)  \n",
    "        resid = y - mu_y\n",
    "        sigma = np.sqrt(np.sum(resid**2)/resid.shape[0])\n",
    "        pr_y = stats.norm.logpdf( resid, loc=0,scale=sigma )\n",
    "        return pr_y"
   ]
  },
  {
   "cell_type": "code",
   "execution_count": 42,
   "id": "01eb018b",
   "metadata": {},
   "outputs": [],
   "source": [
    "def gen_data(nobs=1000, a=0.25, num_params=4):\n",
    "    x = np.random.normal(scale=1., size=(nobs,num_params))\n",
    "    e = np.random.normal(loc=0.0, scale=1.0, size=nobs)\n",
    "    y = 1 + a*x.sum(axis=1) + e\n",
    "    return y,x,nobs"
   ]
  },
  {
   "cell_type": "code",
   "execution_count": 43,
   "id": "a64c168d",
   "metadata": {},
   "outputs": [],
   "source": [
    "def setup_model(yn,xn):\n",
    "    \"\"\"setup models for ease\"\"\"\n",
    "    model1 = sm.OLS(yn,sm.add_constant(xn))\n",
    "    model1_fit = model1.fit(disp=False)\n",
    "    params1 = (model1_fit.params)\n",
    "    model1_deriv = OLS_loglike(yn,sm.add_constant(xn))\n",
    "    ll1 = model1_deriv.loglikeobs(model1_fit.params)\n",
    "    grad1 =  model1_deriv.score_obs(model1_fit.params)    \n",
    "    hess1 = model1_deriv.hessian(model1_fit.params)\n",
    "    return ll1,grad1,hess1,params1\n",
    "\n",
    "\n",
    "def setup_test(yn,xn):\n",
    "    lls = []\n",
    "    grads = []\n",
    "    hesss = []\n",
    "    params = []                \n",
    "    for i in range(xn.shape[1]):\n",
    "        ll,grad,hess,param = setup_model(yn,xn[:,i])\n",
    "        lls.append(ll)\n",
    "        grads.append(grad)\n",
    "        hesss.append(hess)\n",
    "        params.append(param)\n",
    "    \n",
    "    #determine 1 and 2\n",
    "    lls_sum = np.array(lls).sum(axis=1)\n",
    "    lls_sorted = lls_sum.copy()\n",
    "    lls_sorted.sort()\n",
    "    ind1,ind2 = lls_sorted[-2:]\n",
    "    ind1 = (lls_sum == ind1).argmax()\n",
    "    ind2 = (lls_sum == ind2).argmax()\n",
    "    return lls[ind1],grads[ind1],hesss[ind1],params[ind1], lls[ind2],grads[ind2],hesss[ind2],params[ind2]\n",
    "\n",
    "yn,xn,nobs = gen_data()\n",
    "ll1,grad1,hess1,params1,ll2,grad2,hess2,params2 = setup_test(yn,xn)"
   ]
  },
  {
   "cell_type": "code",
   "execution_count": 47,
   "id": "f2812e7f",
   "metadata": {},
   "outputs": [
    {
     "name": "stdout",
     "output_type": "stream",
     "text": [
      "(array([0.97, 0.  , 0.03]), -5.552828560970343, 5.201526707776683, 10.897773505553026)\n"
     ]
    }
   ],
   "source": [
    "def monte_carlo(total,gen_data,setup_test,trials=100):\n",
    "    reg = np.array([0, 0 ,0])\n",
    "    omega = 0\n",
    "    llr = 0\n",
    "    var = 0\n",
    "\n",
    "    for i in range(total):\n",
    "        \n",
    "        #setup data\n",
    "        np.random.seed()\n",
    "        yn,xn,nobs = gen_data()\n",
    "        \n",
    "        #update llr and summary stats\n",
    "        ll1,grad1,hess1,params1,ll2,grad2,hess2,params2 = setup_test(yn,xn)\n",
    "        llrn = (ll1 - ll2).sum()\n",
    "        omegan = np.sqrt( (ll1 -ll2).var())\n",
    "        llr = llr +llrn\n",
    "        var = llrn**2 + var\n",
    "        omega = omega +omegan\n",
    "    \n",
    "        #shi/twosteptest\n",
    "        reg_index = vuong_tests5.two_step_test(ll1,grad1,hess1,params1,ll2,grad2,hess2,params2,biascorrect=True)\n",
    "        reg[reg_index] = reg[reg_index] + 1\n",
    "\n",
    "    return  reg/total,llr/total,np.sqrt( (var/total-(llr/total)**2) ),omega*np.sqrt(nobs)/total\n",
    "\n"
   ]
  },
  {
   "cell_type": "markdown",
   "id": "c312dd9b",
   "metadata": {},
   "source": [
    "# K = 4"
   ]
  },
  {
   "cell_type": "code",
   "execution_count": 48,
   "id": "2d68c53c",
   "metadata": {},
   "outputs": [
    {
     "name": "stdout",
     "output_type": "stream",
     "text": [
      "(array([1., 0., 0.]), -0.6982014874948568, 0.6116663561069424, 1.744702044256684)\n"
     ]
    }
   ],
   "source": [
    "gen_data_ex = lambda : gen_data(nobs=1000, a=0.0, num_params=4)\n",
    "print(monte_carlo(100,gen_data_ex,setup_test))"
   ]
  },
  {
   "cell_type": "code",
   "execution_count": 49,
   "id": "482d6c09",
   "metadata": {},
   "outputs": [
    {
     "name": "stdout",
     "output_type": "stream",
     "text": [
      "(array([1., 0., 0.]), -5.8202029903092525, 4.878721812795434, 11.135646672858215)\n"
     ]
    }
   ],
   "source": [
    "gen_data_ex = lambda : gen_data(nobs=1000, a=0.25, num_params=4)\n",
    "print(monte_carlo(100,gen_data_ex,setup_test))"
   ]
  },
  {
   "cell_type": "code",
   "execution_count": 50,
   "id": "baab5e04",
   "metadata": {},
   "outputs": [
    {
     "name": "stdout",
     "output_type": "stream",
     "text": [
      "(array([0.99, 0.  , 0.01]), -9.197461104627488, 6.792073128648582, 17.057531072237044)\n"
     ]
    }
   ],
   "source": [
    "gen_data_ex = lambda : gen_data(nobs=1000, a=0.5, num_params=4)\n",
    "print(monte_carlo(100,gen_data_ex,setup_test))"
   ]
  },
  {
   "cell_type": "markdown",
   "id": "32ea244e",
   "metadata": {},
   "source": [
    "# K = 9"
   ]
  },
  {
   "cell_type": "code",
   "execution_count": 51,
   "id": "1165b45e",
   "metadata": {},
   "outputs": [
    {
     "name": "stdout",
     "output_type": "stream",
     "text": [
      "(array([1., 0., 0.]), -0.8179191137507064, 0.8590012951745671, 2.3718762326036202)\n"
     ]
    }
   ],
   "source": [
    "gen_data_ex = lambda : gen_data(nobs=1000, a=0.0, num_params=9)\n",
    "print(monte_carlo(100,gen_data_ex,setup_test))"
   ]
  },
  {
   "cell_type": "code",
   "execution_count": 52,
   "id": "ff02ab4d",
   "metadata": {},
   "outputs": [
    {
     "name": "stdout",
     "output_type": "stream",
     "text": [
      "(array([1., 0., 0.]), -4.095790169084625, 3.608453249462736, 10.542482068078154)\n"
     ]
    }
   ],
   "source": [
    "gen_data_ex = lambda : gen_data(nobs=1000, a=0.25, num_params=9)\n",
    "print(monte_carlo(100,gen_data_ex,setup_test))"
   ]
  },
  {
   "cell_type": "code",
   "execution_count": 53,
   "id": "98e8bf59",
   "metadata": {},
   "outputs": [
    {
     "name": "stdout",
     "output_type": "stream",
     "text": [
      "(array([1., 0., 0.]), -6.193037281131777, 5.123248769387499, 14.170242031351457)\n"
     ]
    }
   ],
   "source": [
    "gen_data_ex = lambda : gen_data(nobs=1000, a=0.5, num_params=9)\n",
    "print(monte_carlo(100,gen_data_ex,setup_test))"
   ]
  },
  {
   "cell_type": "markdown",
   "id": "236ad5b4",
   "metadata": {},
   "source": [
    "# K = 19"
   ]
  },
  {
   "cell_type": "code",
   "execution_count": 54,
   "id": "7901c395",
   "metadata": {},
   "outputs": [
    {
     "name": "stdout",
     "output_type": "stream",
     "text": [
      "(array([1., 0., 0.]), -0.9811162243925549, 1.1420726481200485, 2.7888781547456434)\n"
     ]
    }
   ],
   "source": [
    "gen_data_ex = lambda : gen_data(nobs=1000, a=0.0, num_params=19)\n",
    "print(monte_carlo(100,gen_data_ex,setup_test))"
   ]
  },
  {
   "cell_type": "code",
   "execution_count": 55,
   "id": "d99f2d35",
   "metadata": {},
   "outputs": [
    {
     "name": "stdout",
     "output_type": "stream",
     "text": [
      "(array([1., 0., 0.]), -3.2010632171332385, 2.8290825732471903, 9.853952891887156)\n"
     ]
    }
   ],
   "source": [
    "gen_data_ex = lambda : gen_data(nobs=1000, a=0.25, num_params=19)\n",
    "print(monte_carlo(100,gen_data_ex,setup_test))"
   ]
  },
  {
   "cell_type": "code",
   "execution_count": 56,
   "id": "bc8155af",
   "metadata": {},
   "outputs": [
    {
     "name": "stdout",
     "output_type": "stream",
     "text": [
      "(array([1., 0., 0.]), -4.025449596320765, 3.2298077901506557, 11.52022145110401)\n"
     ]
    }
   ],
   "source": [
    "gen_data_ex = lambda : gen_data(nobs=1000, a=0.5, num_params=19)\n",
    "print(monte_carlo(100,gen_data_ex,setup_test))"
   ]
  },
  {
   "cell_type": "markdown",
   "id": "fc004fce",
   "metadata": {},
   "source": [
    "# Power"
   ]
  },
  {
   "cell_type": "code",
   "execution_count": 65,
   "id": "debd44e1",
   "metadata": {},
   "outputs": [],
   "source": [
    "def gen_data2(nobs=1000, a=0.25, scaler = .1, num_params=4):\n",
    "    x = np.random.normal(scale=1., size=(nobs,num_params))\n",
    "    e = np.random.normal(loc=0.0, scale=1.0, size=nobs)\n",
    "    y = 1 + a*scaler*x[:,0] + a*x.sum(axis=1) + e \n",
    "    return y,x,nobs"
   ]
  },
  {
   "cell_type": "markdown",
   "id": "8e270e8c",
   "metadata": {},
   "source": [
    "# K = 19\n",
    "\n",
    "seems like the big issue is power, the second alternative is going to seem better and better... how to model that?"
   ]
  },
  {
   "cell_type": "code",
   "execution_count": 81,
   "id": "ed2996e0",
   "metadata": {},
   "outputs": [
    {
     "name": "stdout",
     "output_type": "stream",
     "text": [
      "(array([1., 0., 0.]), -3.7942825726109586, 3.0324626137231245, 9.879441275336694)\n"
     ]
    }
   ],
   "source": [
    "gen_data_ex = lambda : gen_data2(nobs=1000, a=0.25, scaler= .1, num_params=19)\n",
    "print(monte_carlo(100,gen_data_ex,setup_test))"
   ]
  },
  {
   "cell_type": "code",
   "execution_count": 82,
   "id": "a943ab85",
   "metadata": {
    "scrolled": true
   },
   "outputs": [
    {
     "name": "stdout",
     "output_type": "stream",
     "text": [
      "(array([0.96, 0.  , 0.04]), -7.620765915397299, 6.4619635346160385, 10.582802552106102)\n"
     ]
    }
   ],
   "source": [
    "gen_data_ex = lambda : gen_data2(nobs=1000, a=0.25,  scaler= .5,  num_params=19)\n",
    "print(monte_carlo(100,gen_data_ex,setup_test))"
   ]
  },
  {
   "cell_type": "code",
   "execution_count": 83,
   "id": "536ff5e2",
   "metadata": {},
   "outputs": [
    {
     "name": "stdout",
     "output_type": "stream",
     "text": [
      "(array([0.19, 0.  , 0.81]), -32.220760295281984, 9.03036645757417, 12.476992130000836)\n"
     ]
    }
   ],
   "source": [
    "gen_data_ex = lambda : gen_data2(nobs=1000, a=0.25, scaler= 1,  num_params=19)\n",
    "print(monte_carlo(100,gen_data_ex,setup_test))"
   ]
  },
  {
   "cell_type": "markdown",
   "id": "ca2099f8",
   "metadata": {},
   "source": [
    "# K = 4"
   ]
  },
  {
   "cell_type": "code",
   "execution_count": 84,
   "id": "f76ab43d",
   "metadata": {},
   "outputs": [
    {
     "name": "stdout",
     "output_type": "stream",
     "text": [
      "(array([1., 0., 0.]), -6.6345167136836825, 4.761114518061067, 11.300711192113827)\n"
     ]
    }
   ],
   "source": [
    "gen_data_ex = lambda : gen_data2(nobs=1000, a=0.25, scaler= .1, num_params=4)\n",
    "print(monte_carlo(100,gen_data_ex,setup_test))"
   ]
  },
  {
   "cell_type": "code",
   "execution_count": 85,
   "id": "53b4af3a",
   "metadata": {
    "scrolled": true
   },
   "outputs": [
    {
     "name": "stdout",
     "output_type": "stream",
     "text": [
      "(array([0.56, 0.  , 0.44]), -24.62915753520873, 11.805464909345865, 13.03695233195193)\n"
     ]
    }
   ],
   "source": [
    "gen_data_ex = lambda : gen_data2(nobs=1000, a=0.25,  scaler= .5,  num_params=4)\n",
    "print(monte_carlo(100,gen_data_ex,setup_test))"
   ]
  },
  {
   "cell_type": "code",
   "execution_count": 86,
   "id": "84c55808",
   "metadata": {},
   "outputs": [
    {
     "name": "stdout",
     "output_type": "stream",
     "text": [
      "(array([0., 0., 1.]), -66.06376583143705, 14.578705095782349, 15.239359475178127)\n"
     ]
    }
   ],
   "source": [
    "gen_data_ex = lambda : gen_data2(nobs=1000, a=0.25, scaler= 1,  num_params=4)\n",
    "print(monte_carlo(100,gen_data_ex,setup_test))"
   ]
  },
  {
   "cell_type": "code",
   "execution_count": null,
   "id": "a421f614",
   "metadata": {},
   "outputs": [],
   "source": []
  },
  {
   "cell_type": "code",
   "execution_count": null,
   "id": "891b6dfa",
   "metadata": {},
   "outputs": [],
   "source": []
  }
 ],
 "metadata": {
  "kernelspec": {
   "display_name": "Python 3",
   "language": "python",
   "name": "python3"
  },
  "language_info": {
   "codemirror_mode": {
    "name": "ipython",
    "version": 3
   },
   "file_extension": ".py",
   "mimetype": "text/x-python",
   "name": "python",
   "nbconvert_exporter": "python",
   "pygments_lexer": "ipython3",
   "version": "3.8.8"
  }
 },
 "nbformat": 4,
 "nbformat_minor": 5
}
