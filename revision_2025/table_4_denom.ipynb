{
 "cells": [
  {
   "cell_type": "code",
   "execution_count": 1,
   "metadata": {},
   "outputs": [],
   "source": [
    "%load_ext autoreload\n",
    "%autoreload 2\n",
    "\n",
    "from statsmodels.base.model import GenericLikelihoodModel\n",
    "\n",
    "import numpy as np\n",
    "import pandas as pd\n",
    "import matplotlib.pyplot as plt\n",
    "import statsmodels.api as sm\n",
    "import scipy.stats as stats\n",
    "import sys\n",
    "import re\n",
    "\n",
    "from scipy.interpolate import make_interp_spline, BSpline\n",
    "from scipy.stats import multivariate_normal\n",
    "\n",
    "sys.path.append(\"../\")\n",
    "import vuong_tests11 as vuong_tests_fast"
   ]
  },
  {
   "cell_type": "code",
   "execution_count": 2,
   "metadata": {},
   "outputs": [
    {
     "name": "stdout",
     "output_type": "stream",
     "text": [
      "(1000, 1) (1, 1)\n"
     ]
    }
   ],
   "source": [
    "class JointNormal1(GenericLikelihoodModel):\n",
    "    \n",
    "    def loglikeobs(self, params):\n",
    "        data = np.concatenate([[self.endog],self.exog.transpose()],axis=0)\n",
    "        mult_rv = stats.multivariate_normal([params[0], 0.0], [[1,0],[0,1]])\n",
    "        return mult_rv.logpdf(data.transpose())\n",
    "    \n",
    "    \n",
    "class JointNormal2(GenericLikelihoodModel):\n",
    "    \n",
    "    def loglikeobs(self, params):\n",
    "        data = np.concatenate([[self.endog],self.exog.transpose()],axis=0)\n",
    "        mult_rv = stats.multivariate_normal([0.0, params[0]], [[1,0],[0,1]])\n",
    "        return mult_rv.logpdf(data.transpose())\n",
    "\n",
    "\n",
    "def setup_shi(yn,xn):\n",
    "    # model 1 grad, etc.\n",
    "    nobs = yn.shape[0]\n",
    "    model1_param = np.array([yn.mean()])\n",
    "    model2_param = np.array([xn.mean()])\n",
    "    \n",
    "    model1_deriv = JointNormal1(yn,xn)\n",
    "    ll1 = model1_deriv.loglikeobs(model1_param)\n",
    "    grad1 =  model1_deriv.score_obs(model1_param).reshape( (nobs,1) )\n",
    "    hess1 = model1_deriv.hessian(model1_param)\n",
    "    \n",
    "    \n",
    "    model2_deriv = JointNormal2(yn,xn)\n",
    "    ll2 = model2_deriv.loglikeobs(model2_param)\n",
    "    grad2 =  model2_deriv.score_obs(model2_param).reshape( (nobs,1) )  \n",
    "    hess2 = model2_deriv.hessian(model2_param)\n",
    "    \n",
    "    return ll1,grad1,hess1,model1_param,ll2,grad2,hess2,model2_param\n",
    "\n",
    "def gen_data(beta= 1.5, nobs=1000):\n",
    "    cov = [[25, 0], [0, 1]]\n",
    "    data = np.random.multivariate_normal([beta,beta], [[25,0],[0,1]],  nobs)\n",
    "    return data[:,0],data[:,1],nobs\n",
    "\n",
    "yn,xn,nobs = gen_data()\n",
    "ll1,grad1,hess1,params1,ll2,grad2,hess2,params2 = setup_shi(yn,xn)\n",
    "print(grad1.shape,hess1.shape)\n",
    "#NOTE! Weird size distortions with shi's test when theta = .5...."
   ]
  },
  {
   "cell_type": "code",
   "execution_count": 3,
   "metadata": {},
   "outputs": [],
   "source": [
    "nsims= 20\n",
    "trials =1000\n",
    "skip_boot=False\n",
    "skip_shi=False\n",
    "refinement_test=True\n",
    "linspace=5\n",
    "smoothing =5\n",
    "adapt_c= True\n",
    "data_tuned_c = .01\n"
   ]
  },
  {
   "cell_type": "code",
   "execution_count": 4,
   "metadata": {},
   "outputs": [],
   "source": [
    "def create_fig(params,res,name='test.png'):\n",
    "    results2 = np.array(res)\n",
    "    \n",
    "    col_labels = ['Param','Vuong 1 Step','Vuong 2 Step', 'Refinement Test','Shi (2015)', 'Naive Bootstrap','Bootstrap TIC','Bootstrap ND']\n",
    "\n",
    "\n",
    "\n",
    "    np_results = np.concatenate((params.reshape(params.shape[0],1),results2[:,:,0]),axis=1)\n",
    "    df_results = pd.DataFrame(data=np_results,columns=col_labels)\n",
    "    df_results.to_csv(\"paper_figs_0902/\"+name[:-4]+\".csv\")\n",
    "    \n",
    "    ma2 = lambda x : np.convolve(x,np.ones(smoothing)/smoothing, mode='valid')\n",
    "    params_new = np.linspace( ma2(params).min(),  ma2(params).max(), 300) \n",
    "    interp = lambda x: make_interp_spline(ma2(params), ma2(x), k=3)(params_new)\n",
    "\n",
    "\n",
    "    plt.plot(params_new, interp(1-results2[:,0,0]) ,label='Vuong 1 Step')\n",
    "    plt.plot(params_new, interp(1-results2[:,1,0]) ,label='Vuong 2 Step')\n",
    "    \n",
    "    if not skip_boot:\n",
    "        plt.plot(params_new,interp(1-results2[:,4,0]),label='Naive Bootstrap')\n",
    "        plt.plot(params_new,interp(1-results2[:,6,0]),label='Bootstrap ND')\n",
    "        \n",
    "    if not skip_shi:\n",
    "        plt.plot(params_new,interp(1-results2[:,3,0]),label='Shi (2015)')\n",
    "\n",
    "    plt.legend()\n",
    "    plt.savefig('paper_figs_0902/'+name,dpi=300)\n",
    "    plt.show()\n"
   ]
  },
  {
   "cell_type": "code",
   "execution_count": 5,
   "metadata": {},
   "outputs": [],
   "source": [
    "def keep_alphanumeric(string):\n",
    "    return re.sub(r'[^a-zA-Z0-9_]', '', string)\n",
    "\n",
    "\n",
    "def mc_run_size(nobs,epsilon,data_tuned_c=None):\n",
    "    betas = np.linspace(0,3,linspace)\n",
    "    results = []\n",
    "\n",
    "    for beta in betas:\n",
    "        setup_shi_ex  = lambda yn,xn: setup_shi(yn,xn,num_params=num_params)\n",
    "        gen_data_ex = lambda : gen_data(nobs=nobs, beta =beta)\n",
    "        mc_out = vuong_tests_fast.monte_carlo(nsims,gen_data_ex,setup_shi,trials=trials,\n",
    "                                              skip_boot=skip_boot,skip_shi=skip_shi,refinement_test=refinement_test,\n",
    "                                              epsilon=epsilon)\n",
    "        reg,twostep, refine_test, boot1,boot2,boot3,shi, llr,std, omega = mc_out\n",
    "        results.append([reg,twostep,refine_test,shi,boot1,boot2,boot3])\n",
    "        print(beta,boot3)\n",
    "\n",
    "    name = keep_alphanumeric('size_c1%s_datac%s_nobs%s_trials%s'%(epsilon,data_tuned_c,nobs,trials))\n",
    "    name = name+'.png'\n",
    "    print('--------saving fig------------')\n",
    "    print(name)\n",
    "    print('--------------------')\n",
    "    create_fig(betas,results,name=name)"
   ]
  },
  {
   "cell_type": "code",
   "execution_count": 6,
   "metadata": {},
   "outputs": [],
   "source": [
    "def gen_data3(beta= 1.5, nobs=1000):\n",
    "    cov = [[25, 0], [0, 1]]\n",
    "    data = np.random.multivariate_normal([0,beta], [[25,0],[0,1]],  nobs)\n",
    "    return data[:,0],data[:,1],nobs\n",
    "\n",
    "def mc_run_power(nobs,epsilon,data_tuned_c=None):\n",
    "    betas = np.linspace(0,3,linspace)\n",
    "    results = []\n",
    "    for beta in betas:\n",
    "        setup_shi_ex  = lambda yn,xn: setup_shi(yn,xn)\n",
    "        gen_data_ex = lambda : gen_data3(nobs=nobs, beta =beta)\n",
    "        mc_out = vuong_tests_fast.monte_carlo(nsims,gen_data_ex,setup_shi_ex,trials=trials,\n",
    "                                              skip_boot=skip_boot,skip_shi=skip_shi,refinement_test=refinement_test,\n",
    "                                              epsilon=epsilon)\n",
    "        reg,twostep, refine_test, boot1,boot2,boot3,shi, llr,std, omega = mc_out\n",
    "        results.append([reg,twostep,refine_test,shi,boot1,boot2,boot3])\n",
    "\n",
    "    name = keep_alphanumeric('power_c1%s_datac%s_nobs%s_trials%s'%(epsilon,data_tuned_c,nobs,trials))\n",
    "    name = name+'.png'\n",
    "    print('--------saving fig------------')\n",
    "    print(name)\n",
    "    print('--------------------')\n",
    "    create_fig(betas,results,name=name)"
   ]
  },
  {
   "cell_type": "markdown",
   "metadata": {},
   "source": [
    "# Size stuff"
   ]
  },
  {
   "cell_type": "code",
   "execution_count": 7,
   "metadata": {
    "scrolled": true
   },
   "outputs": [
    {
     "name": "stdout",
     "output_type": "stream",
     "text": [
      "mean=1.283, cv_lower=-0.754, stat_obs=-1.190, cv_upper=3.295\n",
      "mean=1.170, cv_lower=-0.789, stat_obs=-1.190, cv_upper=3.142\n",
      "0.0 [0.8 0.1 0.1]\n",
      "mean=0.468, cv_lower=-1.497, stat_obs=0.435, cv_upper=2.424\n",
      "mean=0.461, cv_lower=-1.536, stat_obs=0.435, cv_upper=2.528\n",
      "0.75 [0.85 0.05 0.1 ]\n",
      "mean=0.072, cv_lower=-1.862, stat_obs=1.419, cv_upper=2.062\n",
      "mean=0.090, cv_lower=-2.020, stat_obs=1.419, cv_upper=2.037\n",
      "1.5 [0.8 0.  0.2]\n",
      "mean=-0.233, cv_lower=-2.246, stat_obs=-1.724, cv_upper=1.769\n",
      "mean=-0.255, cv_lower=-2.402, stat_obs=-1.724, cv_upper=1.555\n",
      "2.25 [1. 0. 0.]\n",
      "mean=-0.144, cv_lower=-2.089, stat_obs=-0.502, cv_upper=2.034\n",
      "mean=-0.157, cv_lower=-2.082, stat_obs=-0.502, cv_upper=1.786\n",
      "3.0 [0.95 0.   0.05]\n",
      "--------saving fig------------\n",
      "size_c101_datac001_nobs100_trials1000.png\n",
      "--------------------\n"
     ]
    },
    {
     "ename": "ValueError",
     "evalue": "The number of derivatives at boundaries does not match: expected 3, got 0+0",
     "output_type": "error",
     "traceback": [
      "\u001b[1;31m---------------------------------------------------------------------------\u001b[0m",
      "\u001b[1;31mValueError\u001b[0m                                Traceback (most recent call last)",
      "Cell \u001b[1;32mIn[7], line 4\u001b[0m\n\u001b[0;32m      1\u001b[0m epsilon\u001b[38;5;241m=\u001b[39m\u001b[38;5;241m.1\u001b[39m\n\u001b[0;32m      2\u001b[0m nobs\u001b[38;5;241m=\u001b[39m\u001b[38;5;241m100\u001b[39m\n\u001b[1;32m----> 4\u001b[0m \u001b[43mmc_run_size\u001b[49m\u001b[43m(\u001b[49m\u001b[43mnobs\u001b[49m\u001b[43m,\u001b[49m\u001b[43mepsilon\u001b[49m\u001b[43m,\u001b[49m\u001b[43mdata_tuned_c\u001b[49m\u001b[38;5;241;43m=\u001b[39;49m\u001b[43mdata_tuned_c\u001b[49m\u001b[43m)\u001b[49m\n",
      "Cell \u001b[1;32mIn[5], line 24\u001b[0m, in \u001b[0;36mmc_run_size\u001b[1;34m(nobs, epsilon, data_tuned_c)\u001b[0m\n\u001b[0;32m     22\u001b[0m \u001b[38;5;28mprint\u001b[39m(name)\n\u001b[0;32m     23\u001b[0m \u001b[38;5;28mprint\u001b[39m(\u001b[38;5;124m'\u001b[39m\u001b[38;5;124m--------------------\u001b[39m\u001b[38;5;124m'\u001b[39m)\n\u001b[1;32m---> 24\u001b[0m \u001b[43mcreate_fig\u001b[49m\u001b[43m(\u001b[49m\u001b[43mbetas\u001b[49m\u001b[43m,\u001b[49m\u001b[43mresults\u001b[49m\u001b[43m,\u001b[49m\u001b[43mname\u001b[49m\u001b[38;5;241;43m=\u001b[39;49m\u001b[43mname\u001b[49m\u001b[43m)\u001b[49m\n",
      "Cell \u001b[1;32mIn[4], line 17\u001b[0m, in \u001b[0;36mcreate_fig\u001b[1;34m(params, res, name)\u001b[0m\n\u001b[0;32m     13\u001b[0m params_new \u001b[38;5;241m=\u001b[39m np\u001b[38;5;241m.\u001b[39mlinspace( ma2(params)\u001b[38;5;241m.\u001b[39mmin(),  ma2(params)\u001b[38;5;241m.\u001b[39mmax(), \u001b[38;5;241m300\u001b[39m) \n\u001b[0;32m     14\u001b[0m interp \u001b[38;5;241m=\u001b[39m \u001b[38;5;28;01mlambda\u001b[39;00m x: make_interp_spline(ma2(params), ma2(x), k\u001b[38;5;241m=\u001b[39m\u001b[38;5;241m3\u001b[39m)(params_new)\n\u001b[1;32m---> 17\u001b[0m plt\u001b[38;5;241m.\u001b[39mplot(params_new, \u001b[43minterp\u001b[49m\u001b[43m(\u001b[49m\u001b[38;5;241;43m1\u001b[39;49m\u001b[38;5;241;43m-\u001b[39;49m\u001b[43mresults2\u001b[49m\u001b[43m[\u001b[49m\u001b[43m:\u001b[49m\u001b[43m,\u001b[49m\u001b[38;5;241;43m0\u001b[39;49m\u001b[43m,\u001b[49m\u001b[38;5;241;43m0\u001b[39;49m\u001b[43m]\u001b[49m\u001b[43m)\u001b[49m ,label\u001b[38;5;241m=\u001b[39m\u001b[38;5;124m'\u001b[39m\u001b[38;5;124mVuong 1 Step\u001b[39m\u001b[38;5;124m'\u001b[39m)\n\u001b[0;32m     18\u001b[0m plt\u001b[38;5;241m.\u001b[39mplot(params_new, interp(\u001b[38;5;241m1\u001b[39m\u001b[38;5;241m-\u001b[39mresults2[:,\u001b[38;5;241m1\u001b[39m,\u001b[38;5;241m0\u001b[39m]) ,label\u001b[38;5;241m=\u001b[39m\u001b[38;5;124m'\u001b[39m\u001b[38;5;124mVuong 2 Step\u001b[39m\u001b[38;5;124m'\u001b[39m)\n\u001b[0;32m     20\u001b[0m \u001b[38;5;28;01mif\u001b[39;00m \u001b[38;5;129;01mnot\u001b[39;00m skip_boot:\n",
      "Cell \u001b[1;32mIn[4], line 14\u001b[0m, in \u001b[0;36mcreate_fig.<locals>.<lambda>\u001b[1;34m(x)\u001b[0m\n\u001b[0;32m     12\u001b[0m ma2 \u001b[38;5;241m=\u001b[39m \u001b[38;5;28;01mlambda\u001b[39;00m x : np\u001b[38;5;241m.\u001b[39mconvolve(x,np\u001b[38;5;241m.\u001b[39mones(smoothing)\u001b[38;5;241m/\u001b[39msmoothing, mode\u001b[38;5;241m=\u001b[39m\u001b[38;5;124m'\u001b[39m\u001b[38;5;124mvalid\u001b[39m\u001b[38;5;124m'\u001b[39m)\n\u001b[0;32m     13\u001b[0m params_new \u001b[38;5;241m=\u001b[39m np\u001b[38;5;241m.\u001b[39mlinspace( ma2(params)\u001b[38;5;241m.\u001b[39mmin(),  ma2(params)\u001b[38;5;241m.\u001b[39mmax(), \u001b[38;5;241m300\u001b[39m) \n\u001b[1;32m---> 14\u001b[0m interp \u001b[38;5;241m=\u001b[39m \u001b[38;5;28;01mlambda\u001b[39;00m x: \u001b[43mmake_interp_spline\u001b[49m\u001b[43m(\u001b[49m\u001b[43mma2\u001b[49m\u001b[43m(\u001b[49m\u001b[43mparams\u001b[49m\u001b[43m)\u001b[49m\u001b[43m,\u001b[49m\u001b[43m \u001b[49m\u001b[43mma2\u001b[49m\u001b[43m(\u001b[49m\u001b[43mx\u001b[49m\u001b[43m)\u001b[49m\u001b[43m,\u001b[49m\u001b[43m \u001b[49m\u001b[43mk\u001b[49m\u001b[38;5;241;43m=\u001b[39;49m\u001b[38;5;241;43m3\u001b[39;49m\u001b[43m)\u001b[49m(params_new)\n\u001b[0;32m     17\u001b[0m plt\u001b[38;5;241m.\u001b[39mplot(params_new, interp(\u001b[38;5;241m1\u001b[39m\u001b[38;5;241m-\u001b[39mresults2[:,\u001b[38;5;241m0\u001b[39m,\u001b[38;5;241m0\u001b[39m]) ,label\u001b[38;5;241m=\u001b[39m\u001b[38;5;124m'\u001b[39m\u001b[38;5;124mVuong 1 Step\u001b[39m\u001b[38;5;124m'\u001b[39m)\n\u001b[0;32m     18\u001b[0m plt\u001b[38;5;241m.\u001b[39mplot(params_new, interp(\u001b[38;5;241m1\u001b[39m\u001b[38;5;241m-\u001b[39mresults2[:,\u001b[38;5;241m1\u001b[39m,\u001b[38;5;241m0\u001b[39m]) ,label\u001b[38;5;241m=\u001b[39m\u001b[38;5;124m'\u001b[39m\u001b[38;5;124mVuong 2 Step\u001b[39m\u001b[38;5;124m'\u001b[39m)\n",
      "File \u001b[1;32m~\\AppData\\Local\\anaconda3\\lib\\site-packages\\scipy\\interpolate\\_bsplines.py:1368\u001b[0m, in \u001b[0;36mmake_interp_spline\u001b[1;34m(x, y, k, t, bc_type, axis, check_finite)\u001b[0m\n\u001b[0;32m   1365\u001b[0m nt \u001b[38;5;241m=\u001b[39m t\u001b[38;5;241m.\u001b[39msize \u001b[38;5;241m-\u001b[39m k \u001b[38;5;241m-\u001b[39m \u001b[38;5;241m1\u001b[39m\n\u001b[0;32m   1367\u001b[0m \u001b[38;5;28;01mif\u001b[39;00m nt \u001b[38;5;241m-\u001b[39m n \u001b[38;5;241m!=\u001b[39m nleft \u001b[38;5;241m+\u001b[39m nright:\n\u001b[1;32m-> 1368\u001b[0m     \u001b[38;5;28;01mraise\u001b[39;00m \u001b[38;5;167;01mValueError\u001b[39;00m(\u001b[38;5;124m\"\u001b[39m\u001b[38;5;124mThe number of derivatives at boundaries does not \u001b[39m\u001b[38;5;124m\"\u001b[39m\n\u001b[0;32m   1369\u001b[0m                      \u001b[38;5;124m\"\u001b[39m\u001b[38;5;124mmatch: expected \u001b[39m\u001b[38;5;132;01m%s\u001b[39;00m\u001b[38;5;124m, got \u001b[39m\u001b[38;5;132;01m%s\u001b[39;00m\u001b[38;5;124m+\u001b[39m\u001b[38;5;132;01m%s\u001b[39;00m\u001b[38;5;124m\"\u001b[39m \u001b[38;5;241m%\u001b[39m (nt\u001b[38;5;241m-\u001b[39mn, nleft, nright))\n\u001b[0;32m   1371\u001b[0m \u001b[38;5;66;03m# bail out if the `y` array is zero-sized\u001b[39;00m\n\u001b[0;32m   1372\u001b[0m \u001b[38;5;28;01mif\u001b[39;00m y\u001b[38;5;241m.\u001b[39msize \u001b[38;5;241m==\u001b[39m \u001b[38;5;241m0\u001b[39m:\n",
      "\u001b[1;31mValueError\u001b[0m: The number of derivatives at boundaries does not match: expected 3, got 0+0"
     ]
    }
   ],
   "source": [
    "epsilon=.1\n",
    "nobs=100\n",
    "\n",
    "mc_run_size(nobs,epsilon,data_tuned_c=data_tuned_c)"
   ]
  },
  {
   "cell_type": "markdown",
   "metadata": {},
   "source": [
    "# Power stuff"
   ]
  },
  {
   "cell_type": "code",
   "execution_count": null,
   "metadata": {
    "scrolled": true
   },
   "outputs": [],
   "source": [
    "nobs = 100\n",
    "\n",
    "\n",
    "mc_run_power(nobs,epsilon,data_tuned_c=data_tuned_c)"
   ]
  },
  {
   "cell_type": "markdown",
   "metadata": {},
   "source": [
    "# extra size sims"
   ]
  },
  {
   "cell_type": "code",
   "execution_count": null,
   "metadata": {
    "scrolled": true
   },
   "outputs": [],
   "source": [
    "nobs =250\n",
    "c1,c2 = calc_c(nobs)\n",
    "\n",
    "mc_run_size(nobs,epsilon,data_tuned_c=data_tuned_c)"
   ]
  },
  {
   "cell_type": "code",
   "execution_count": null,
   "metadata": {},
   "outputs": [],
   "source": [
    "nobs = 500\n",
    "c1,c2 = calc_c(nobs)\n",
    "\n",
    "mc_run_size(nobs,epsilon,data_tuned_c=data_tuned_c)"
   ]
  },
  {
   "cell_type": "markdown",
   "metadata": {},
   "source": [
    "# Extra Power Sims"
   ]
  },
  {
   "cell_type": "code",
   "execution_count": null,
   "metadata": {},
   "outputs": [],
   "source": [
    "nobs = 250\n",
    "c1,c2 = calc_c(nobs)\n",
    "\n",
    "mc_run_power(nobs,epsilon,data_tuned_c=data_tuned_c)"
   ]
  },
  {
   "cell_type": "code",
   "execution_count": null,
   "metadata": {},
   "outputs": [],
   "source": [
    "nobs = 500\n",
    "c1,c2 = calc_c(nobs)\n",
    "\n",
    "mc_run_power(nobs,epsilon,data_tuned_c=data_tuned_c)"
   ]
  },
  {
   "cell_type": "code",
   "execution_count": null,
   "metadata": {},
   "outputs": [],
   "source": []
  }
 ],
 "metadata": {
  "kernelspec": {
   "display_name": "Python 3 (ipykernel)",
   "language": "python",
   "name": "python3"
  },
  "language_info": {
   "codemirror_mode": {
    "name": "ipython",
    "version": 3
   },
   "file_extension": ".py",
   "mimetype": "text/x-python",
   "name": "python",
   "nbconvert_exporter": "python",
   "pygments_lexer": "ipython3",
   "version": "3.10.9"
  }
 },
 "nbformat": 4,
 "nbformat_minor": 2
}
