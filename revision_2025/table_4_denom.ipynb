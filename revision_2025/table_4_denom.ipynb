{
 "cells": [
  {
   "cell_type": "code",
   "execution_count": 1,
   "metadata": {},
   "outputs": [],
   "source": [
    "%load_ext autoreload\n",
    "%autoreload 2\n",
    "\n",
    "from statsmodels.base.model import GenericLikelihoodModel\n",
    "\n",
    "import numpy as np\n",
    "import pandas as pd\n",
    "import matplotlib.pyplot as plt\n",
    "import statsmodels.api as sm\n",
    "import scipy.stats as stats\n",
    "import sys\n",
    "import re\n",
    "\n",
    "from scipy.interpolate import make_interp_spline, BSpline\n",
    "from scipy.stats import multivariate_normal\n",
    "\n",
    "sys.path.append(\"../\")\n",
    "import vuong_tests11 as vuong_tests_fast"
   ]
  },
  {
   "cell_type": "code",
   "execution_count": 2,
   "metadata": {},
   "outputs": [
    {
     "name": "stdout",
     "output_type": "stream",
     "text": [
      "(1000, 1) (1, 1)\n"
     ]
    }
   ],
   "source": [
    "class JointNormal1(GenericLikelihoodModel):\n",
    "    \n",
    "    def loglikeobs(self, params):\n",
    "        data = np.concatenate([[self.endog],self.exog.transpose()],axis=0)\n",
    "        mult_rv = stats.multivariate_normal([params[0], 0.0], [[1,0],[0,1]])\n",
    "        return mult_rv.logpdf(data.transpose())\n",
    "    \n",
    "    \n",
    "class JointNormal2(GenericLikelihoodModel):\n",
    "    \n",
    "    def loglikeobs(self, params):\n",
    "        data = np.concatenate([[self.endog],self.exog.transpose()],axis=0)\n",
    "        mult_rv = stats.multivariate_normal([0.0, params[0]], [[1,0],[0,1]])\n",
    "        return mult_rv.logpdf(data.transpose())\n",
    "\n",
    "\n",
    "def setup_shi(yn,xn):\n",
    "    # model 1 grad, etc.\n",
    "    nobs = yn.shape[0]\n",
    "    model1_param = np.array([yn.mean()])\n",
    "    model2_param = np.array([xn.mean()])\n",
    "    \n",
    "    model1_deriv = JointNormal1(yn,xn)\n",
    "    ll1 = model1_deriv.loglikeobs(model1_param)\n",
    "    grad1 =  model1_deriv.score_obs(model1_param).reshape( (nobs,1) )\n",
    "    hess1 = model1_deriv.hessian(model1_param)\n",
    "    \n",
    "    \n",
    "    model2_deriv = JointNormal2(yn,xn)\n",
    "    ll2 = model2_deriv.loglikeobs(model2_param)\n",
    "    grad2 =  model2_deriv.score_obs(model2_param).reshape( (nobs,1) )  \n",
    "    hess2 = model2_deriv.hessian(model2_param)\n",
    "    \n",
    "    return ll1,grad1,hess1,model1_param,ll2,grad2,hess2,model2_param\n",
    "\n",
    "def gen_data(beta= 1.5, nobs=1000):\n",
    "    cov = [[25, 0], [0, 1]]\n",
    "    data = np.random.multivariate_normal([beta,beta], [[25,0],[0,1]],  nobs)\n",
    "    return data[:,0],data[:,1],nobs\n",
    "\n",
    "yn,xn,nobs = gen_data()\n",
    "ll1,grad1,hess1,params1,ll2,grad2,hess2,params2 = setup_shi(yn,xn)\n",
    "print(grad1.shape,hess1.shape)\n",
    "#NOTE! Weird size distortions with shi's test when theta = .5...."
   ]
  },
  {
   "cell_type": "code",
   "execution_count": 3,
   "metadata": {},
   "outputs": [],
   "source": [
    "nsims= 50 #700\n",
    "trials =1000\n",
    "skip_boot=False\n",
    "skip_shi=False\n",
    "refinement_test=True\n",
    "linspace=8 #40\n",
    "smoothing =5\n",
    "adapt_c= True\n",
    "data_tuned_epsilon = False\n"
   ]
  },
  {
   "cell_type": "code",
   "execution_count": 4,
   "metadata": {},
   "outputs": [],
   "source": [
    "def create_fig(params,res,name='test.png'):\n",
    "    results2 = np.array(res)\n",
    "    \n",
    "    col_labels = ['Param','Vuong 1 Step','Vuong 2 Step', 'Refinement Test','Shi (2015)', 'Naive Bootstrap','Bootstrap TIC','Bootstrap ND']\n",
    "\n",
    "\n",
    "\n",
    "    np_results = np.concatenate((params.reshape(params.shape[0],1),results2[:,:,0]),axis=1)\n",
    "    df_results = pd.DataFrame(data=np_results,columns=col_labels)\n",
    "    df_results.to_csv(\"paper_figs_0902/\"+name[:-4]+\".csv\")\n",
    "    \n",
    "    ma2 = lambda x : np.convolve(x,np.ones(smoothing)/smoothing, mode='valid')\n",
    "    params_new = np.linspace( ma2(params).min(),  ma2(params).max(), 300) \n",
    "    interp = lambda x: make_interp_spline(ma2(params), ma2(x), k=3)(params_new)\n",
    "\n",
    "\n",
    "    plt.plot(params_new, interp(1-results2[:,0,0]) ,label='Vuong 1 Step')\n",
    "    plt.plot(params_new, interp(1-results2[:,1,0]) ,label='Vuong 2 Step')\n",
    "    \n",
    "    if not skip_boot:\n",
    "        plt.plot(params_new,interp(1-results2[:,4,0]),label='Naive Bootstrap')\n",
    "        plt.plot(params_new,interp(1-results2[:,6,0]),label='Bootstrap ND')\n",
    "        \n",
    "    if not skip_shi:\n",
    "        plt.plot(params_new,interp(1-results2[:,3,0]),label='Shi (2015)')\n",
    "\n",
    "    plt.legend()\n",
    "    plt.savefig('paper_figs_0902/'+name,dpi=300)\n",
    "    plt.show()\n"
   ]
  },
  {
   "cell_type": "code",
   "execution_count": 5,
   "metadata": {},
   "outputs": [],
   "source": [
    "def keep_alphanumeric(string):\n",
    "    return re.sub(r'[^a-zA-Z0-9_]', '', string)\n",
    "\n",
    "\n",
    "def mc_run_size(nobs,epsilon,data_tuned_epsilon=None):\n",
    "    betas = np.linspace(0,3,linspace)\n",
    "    results = []\n",
    "\n",
    "    for beta in betas:\n",
    "        setup_shi_ex  = lambda yn,xn: setup_shi(yn,xn,num_params=num_params)\n",
    "        gen_data_ex = lambda : gen_data(nobs=nobs, beta =beta)\n",
    "        mc_out = vuong_tests_fast.monte_carlo(nsims,gen_data_ex,setup_shi,trials=trials,\n",
    "                                              skip_boot=skip_boot,skip_shi=skip_shi,refinement_test=refinement_test,\n",
    "                                              epsilon=epsilon)\n",
    "        reg,twostep, refine_test, boot1,boot2,boot3,shi, llr,std, omega = mc_out\n",
    "        results.append([reg,twostep,refine_test,shi,boot1,boot2,boot3])\n",
    "        print(beta,boot3)\n",
    "\n",
    "    name = keep_alphanumeric('size_c1%s_datac%s_nobs%s_trials%s'%(epsilon,data_tuned_epsilon,nobs,trials))\n",
    "    name = name+'.png'\n",
    "    print('--------saving fig------------')\n",
    "    print(name)\n",
    "    print('--------------------')\n",
    "    create_fig(betas,results,name=name)"
   ]
  },
  {
   "cell_type": "code",
   "execution_count": 6,
   "metadata": {},
   "outputs": [],
   "source": [
    "def gen_data3(beta= 1.5, nobs=1000):\n",
    "    cov = [[25, 0], [0, 1]]\n",
    "    data = np.random.multivariate_normal([0,beta], [[25,0],[0,1]],  nobs)\n",
    "    return data[:,0],data[:,1],nobs\n",
    "\n",
    "def mc_run_power(nobs,epsilon,data_tuned_epsilon=None):\n",
    "    betas = np.linspace(0,3,linspace)\n",
    "    results = []\n",
    "    for beta in betas:\n",
    "        setup_shi_ex  = lambda yn,xn: setup_shi(yn,xn)\n",
    "        gen_data_ex = lambda : gen_data3(nobs=nobs, beta =beta)\n",
    "        mc_out = vuong_tests_fast.monte_carlo(nsims,gen_data_ex,setup_shi_ex,trials=trials,\n",
    "                                              skip_boot=skip_boot,skip_shi=skip_shi,refinement_test=refinement_test,\n",
    "                                              epsilon=epsilon)\n",
    "        reg,twostep, refine_test, boot1,boot2,boot3,shi, llr,std, omega = mc_out\n",
    "        results.append([reg,twostep,refine_test,shi,boot1,boot2,boot3])\n",
    "\n",
    "    name = keep_alphanumeric('power_c1%s_datac%s_nobs%s_trials%s'%(epsilon,data_tuned_epsilon,nobs,trials))\n",
    "    name = name+'.png'\n",
    "    print('--------saving fig------------')\n",
    "    print(name)\n",
    "    print('--------------------')\n",
    "    create_fig(betas,results,name=name)"
   ]
  },
  {
   "cell_type": "markdown",
   "metadata": {},
   "source": [
    "# Size stuff"
   ]
  },
  {
   "cell_type": "code",
   "execution_count": 7,
   "metadata": {
    "scrolled": true
   },
   "outputs": [
    {
     "name": "stdout",
     "output_type": "stream",
     "text": [
      "0.0 [0.96 0.04 0.  ]\n",
      "0.42857142857142855 [0.98 0.02 0.  ]\n",
      "0.8571428571428571 [0.92 0.02 0.06]\n",
      "1.2857142857142856 [0.92 0.02 0.06]\n",
      "1.7142857142857142 [0.92 0.06 0.02]\n",
      "2.142857142857143 [0.88 0.02 0.1 ]\n",
      "2.571428571428571 [0.9  0.06 0.04]\n",
      "3.0 [0.92 0.04 0.04]\n",
      "--------saving fig------------\n",
      "size_c105_datacFalse_nobs100_trials1000.png\n",
      "--------------------\n"
     ]
    },
    {
     "data": {
      "image/png": "[encoded data removed]",
      "text/plain": [
       "<Figure size 640x480 with 1 Axes>"
      ]
     },
     "metadata": {},
     "output_type": "display_data"
    }
   ],
   "source": [
    "epsilon=.5\n",
    "nobs=100\n",
    "\n",
    "mc_run_size(nobs,epsilon,data_tuned_epsilon=data_tuned_epsilon)"
   ]
  },
  {
   "cell_type": "markdown",
   "metadata": {},
   "source": [
    "# Power stuff"
   ]
  },
  {
   "cell_type": "code",
   "execution_count": null,
   "metadata": {
    "scrolled": true
   },
   "outputs": [],
   "source": [
    "nobs = 100\n",
    "\n",
    "\n",
    "mc_run_power(nobs,epsilon,data_tuned_epsilon=data_tuned_epsilon)"
   ]
  },
  {
   "cell_type": "markdown",
   "metadata": {},
   "source": [
    "# extra size sims"
   ]
  },
  {
   "cell_type": "code",
   "execution_count": null,
   "metadata": {
    "scrolled": true
   },
   "outputs": [],
   "source": [
    "nobs =250\n",
    "c1,c2 = calc_c(nobs)\n",
    "\n",
    "mc_run_size(nobs,epsilon,data_tuned_epsilon=data_tuned_epsilon)"
   ]
  },
  {
   "cell_type": "code",
   "execution_count": null,
   "metadata": {},
   "outputs": [],
   "source": [
    "nobs = 500\n",
    "c1,c2 = calc_c(nobs)\n",
    "\n",
    "mc_run_size(nobs,epsilon,data_tuned_epsilon=data_tuned_epsilon)"
   ]
  },
  {
   "cell_type": "markdown",
   "metadata": {},
   "source": [
    "# Extra Power Sims"
   ]
  },
  {
   "cell_type": "code",
   "execution_count": null,
   "metadata": {},
   "outputs": [],
   "source": [
    "nobs = 250\n",
    "c1,c2 = calc_c(nobs)\n",
    "\n",
    "mc_run_power(nobs,epsilon,data_tuned_epsilon=data_tuned_epsilon)"
   ]
  },
  {
   "cell_type": "code",
   "execution_count": null,
   "metadata": {},
   "outputs": [],
   "source": [
    "nobs = 500\n",
    "c1,c2 = calc_c(nobs)\n",
    "\n",
    "mc_run_power(nobs,epsilon,data_tuned_epsilon=data_tuned_epsilon)"
   ]
  },
  {
   "cell_type": "code",
   "execution_count": null,
   "metadata": {},
   "outputs": [],
   "source": []
  }
 ],
 "metadata": {
  "kernelspec": {
   "display_name": "Python 3 (ipykernel)",
   "language": "python",
   "name": "python3"
  },
  "language_info": {
   "codemirror_mode": {
    "name": "ipython",
    "version": 3
   },
   "file_extension": ".py",
   "mimetype": "text/x-python",
   "name": "python",
   "nbconvert_exporter": "python",
   "pygments_lexer": "ipython3",
   "version": "3.10.9"
  }
 },
 "nbformat": 4,
 "nbformat_minor": 2
}
