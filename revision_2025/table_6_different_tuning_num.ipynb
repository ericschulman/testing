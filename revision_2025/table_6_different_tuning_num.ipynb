{
 "cells": [
  {
   "cell_type": "code",
   "execution_count": 1,
   "metadata": {},
   "outputs": [],
   "source": [
    "%load_ext autoreload\n",
    "%autoreload 2\n",
    "\n",
    "import numpy as np\n",
    "import matplotlib.pyplot as plt\n",
    "import statsmodels.api as sm\n",
    "from statsmodels.base.model import GenericLikelihoodModel\n",
    "import scipy.stats as stats\n",
    "import sys\n",
    "\n",
    "sys.path.append(\"../\")\n",
    "import vuong_tests11 as vuong_tests_fast"
   ]
  },
  {
   "cell_type": "code",
   "execution_count": 2,
   "metadata": {},
   "outputs": [],
   "source": [
    "class OLS_loglike(GenericLikelihoodModel):\n",
    "    \n",
    "    def __init__(self, *args,ols=False, **kwargs):\n",
    "        super(OLS_loglike,self).__init__(*args,**kwargs)\n",
    "        self.ols = ols\n",
    "\n",
    "    def loglikeobs(self, params):\n",
    "        y = self.endog\n",
    "        x = self.exog\n",
    "        mu_y = np.matmul(x,params)  \n",
    "        resid = y - mu_y\n",
    "        sigma = np.sqrt(np.sum(resid**2)/resid.shape[0])\n",
    "        pr_y = stats.norm.logpdf( resid, loc=0,scale=sigma )\n",
    "        return pr_y\n",
    "\n",
    "\n",
    "def setup_shi(yn,xn,return_model=False,num_params=4):\n",
    "    x1n,x2n = xn[:,0],xn[:,1:num_params+1]\n",
    "    \n",
    "    # model 1 grad, etc.\n",
    "    model1 = sm.OLS(yn,sm.add_constant(x1n))\n",
    "    model1_fit = model1.fit(disp=False)\n",
    "    params1 = (model1_fit.params)\n",
    "    \n",
    "    model1_deriv = OLS_loglike(yn,sm.add_constant(x1n))\n",
    "    ll1 = model1_deriv.loglikeobs(model1_fit.params)\n",
    "    grad1 =  model1_deriv.score_obs(model1_fit.params)    \n",
    "    hess1 = model1_deriv.hessian(model1_fit.params)\n",
    "    \n",
    "    #model 2 grad, etc.\n",
    "    model2 = sm.OLS(yn,sm.add_constant(x2n))\n",
    "    model2_fit = model2.fit(disp=False)\n",
    "    params2 = (model2_fit.params)\n",
    "    \n",
    "    model2_deriv = OLS_loglike(yn,sm.add_constant(x2n))\n",
    "    ll2 = model2_deriv.loglikeobs(model2_fit.params)\n",
    "    grad2 =  model2_deriv.score_obs(model2_fit.params)    \n",
    "    hess2 = model2_deriv.hessian(model2_fit.params)\n",
    "    \n",
    "    if return_model:\n",
    "        return ll1,grad1,hess1,params1,model1,ll2,grad2,hess2,params2,model2\n",
    "    return ll1,grad1,hess1,params1,ll2,grad2,hess2,params2\n"
   ]
  },
  {
   "cell_type": "code",
   "execution_count": 3,
   "metadata": {},
   "outputs": [
    {
     "name": "stdout",
     "output_type": "stream",
     "text": [
      "(1000, 2) (2, 2)\n"
     ]
    }
   ],
   "source": [
    "def gen_data(nobs=1000, a=0.25, num_params=4):\n",
    "    x = np.random.normal(scale=1., size=(nobs,1+num_params))\n",
    "    e = np.random.normal(loc=0.0, scale=1.0, size=nobs)\n",
    "    y = 1 + a*x[:,0] + a/np.sqrt(num_params)*x[:,1:num_params+1].sum(axis=1) + e\n",
    "    return y,x,nobs\n",
    "\n",
    "yn,xn,nobs = gen_data()\n",
    "ll1,grad1,hess1,params1,ll2,grad2,hess2,params2 = setup_shi(yn,xn,return_model=False,num_params=15)\n",
    "print(grad1.shape,hess1.shape)"
   ]
  },
  {
   "cell_type": "code",
   "execution_count": 4,
   "metadata": {},
   "outputs": [],
   "source": [
    "num_sims = 500\n",
    "trials =1000\n",
    "adapt_c = False\n",
    "data_tuned_epsilon = False\n",
    "epsilon = .5"
   ]
  },
  {
   "cell_type": "markdown",
   "metadata": {},
   "source": [
    "size weirdness rn..."
   ]
  },
  {
   "cell_type": "code",
   "execution_count": 5,
   "metadata": {
    "scrolled": true
   },
   "outputs": [
    {
     "name": "stdout",
     "output_type": "stream",
     "text": [
      "\\begin{tabular}{|c|c|c|c|c|c|c|}\n",
      "\\hline\n",
      "Model &  Normal & Two-Step & SW Test & Naive Bootstrap & Pairwise Bootstrap & Shi (2015) \\\\ \\hline \\hline\n",
      "No selection & 0.93 & 0.93 & 0.96 & 0.83 & 0.96 & 0.96   \\\\\n",
      "Model 1 & 0.01 & 0.01 & 0.01 & 0.10 & 0.02 & 0.01   \\\\\n",
      "Model 2 & 0.06 & 0.06 & 0.03 & 0.07 & 0.02 & 0.03   \\\\\n",
      "\\hline\n",
      "\\end{tabular}\n",
      "(array([0.934, 0.006, 0.06 ]), array([0.934, 0.006, 0.06 ]), array([0.962, 0.01 , 0.028]), array([0.826, 0.102, 0.072]), array([0.96 , 0.022, 0.018]), array([1., 0., 0.]), array([1., 0., 0.]), array([0.964, 0.01 , 0.026]), -4.315094280745273, 11.00502119712782, 11.018308033059927)\n"
     ]
    }
   ],
   "source": [
    "a = 0.25\n",
    "num_params=9\n",
    "\n",
    "setup_shi_ex  = lambda yn,xn: setup_shi(yn,xn,num_params=num_params)\n",
    "gen_data_ex = lambda : gen_data(nobs=nobs, a=a,  num_params=num_params)\n",
    "mc_out = vuong_tests_fast.monte_carlo(num_sims,gen_data_ex,setup_shi_ex,trials=trials,epsilon=epsilon,\n",
    "                                      data_tuned_epsilon=data_tuned_epsilon ,adapt_c = adapt_c,print_stuff=True)\n",
    "vuong_tests_fast.print_mc(mc_out,data_tuned_epsilon=data_tuned_epsilon)\n",
    "print(mc_out)"
   ]
  },
  {
   "cell_type": "markdown",
   "metadata": {},
   "source": [
    "# power 0.... need to see..."
   ]
  },
  {
   "cell_type": "code",
   "execution_count": 6,
   "metadata": {},
   "outputs": [],
   "source": [
    "a1,a2 = np.sqrt(1.09-1), 0.00\n",
    "num_params= 9\n",
    "\n",
    "\n",
    "def gen_data2(nobs=1000, a1=np.sqrt(1.09-1), a2=0.00 , num_params=19):\n",
    "    x = np.random.normal(scale=1., size=(nobs,1+num_params))\n",
    "    e = np.random.normal(loc=0.0, scale=1.0, size=nobs)\n",
    "    y = 1 + a1*x[:,0] + a2/np.sqrt(num_params)*x[:,1:num_params+1].sum(axis=1) + e\n",
    "    return y,x,nobs"
   ]
  },
  {
   "cell_type": "code",
   "execution_count": 7,
   "metadata": {
    "scrolled": true
   },
   "outputs": [
    {
     "name": "stdout",
     "output_type": "stream",
     "text": [
      "\\begin{tabular}{|c|c|c|c|c|c|c|}\n",
      "\\hline\n",
      "Model &  Normal & Two-Step & SW Test & Naive Bootstrap & Pairwise Bootstrap & Shi (2015) \\\\ \\hline \\hline\n",
      "No selection & 0.82 & 0.83 & 0.73 & 0.55 & 0.55 & 0.57   \\\\\n",
      "Model 1 & 0.18 & 0.17 & 0.27 & 0.44 & 0.45 & 0.43   \\\\\n",
      "Model 2 & 0.00 & 0.00 & 0.00 & 0.01 & 0.00 & 0.00   \\\\\n",
      "\\hline\n",
      "\\end{tabular}\n",
      "(array([0.82, 0.18, 0.  ]), array([0.826, 0.174, 0.   ]), array([0.726, 0.274, 0.   ]), array([0.554, 0.44 , 0.006]), array([0.554, 0.446, 0.   ]), array([1., 0., 0.]), array([1., 0., 0.]), array([0.572, 0.428, 0.   ]), 6.39716624951433, 5.180985981708911, 5.342089268648015)\n"
     ]
    }
   ],
   "source": [
    "calc_c =lambda nobs: (nobs**(-1/2)/100,nobs**(1/5) )\n",
    "\n",
    "nobs = 250\n",
    "\n",
    "a1,a2 = np.sqrt(1.09-1), 0.00\n",
    "setup_shi_ex  = lambda yn,xn: setup_shi(yn,xn,num_params=num_params)\n",
    "gen_data_ex = lambda : gen_data2(nobs=nobs, a1=a1, a2=a2, num_params=num_params)\n",
    "mc_out = vuong_tests_fast.monte_carlo(num_sims,gen_data_ex,setup_shi_ex,trials=trials,epsilon=epsilon,\n",
    "                                      data_tuned_epsilon=data_tuned_epsilon ,adapt_c = adapt_c,print_stuff=True)\n",
    "vuong_tests_fast.print_mc(mc_out,data_tuned_epsilon=data_tuned_epsilon)\n",
    "print(mc_out)"
   ]
  },
  {
   "cell_type": "code",
   "execution_count": 8,
   "metadata": {
    "scrolled": true
   },
   "outputs": [
    {
     "name": "stdout",
     "output_type": "stream",
     "text": [
      "\\begin{tabular}{|c|c|c|c|c|c|c|}\n",
      "\\hline\n",
      "Model &  Normal & Two-Step & SW Test & Naive Bootstrap & Pairwise Bootstrap & Shi (2015) \\\\ \\hline \\hline\n",
      "No selection & 0.85 & 0.85 & 0.72 & 0.50 & 0.54 & 0.56   \\\\\n",
      "Model 1 & 0.15 & 0.15 & 0.28 & 0.49 & 0.46 & 0.44   \\\\\n",
      "Model 2 & 0.00 & 0.00 & 0.00 & 0.01 & 0.00 & 0.00   \\\\\n",
      "\\hline\n",
      "\\end{tabular}\n",
      "(array([0.846, 0.154, 0.   ]), array([0.85, 0.15, 0.  ]), array([0.72, 0.28, 0.  ]), array([0.504, 0.49 , 0.006]), array([0.536, 0.464, 0.   ]), array([1., 0., 0.]), array([1., 0., 0.]), array([0.562, 0.438, 0.   ]), 6.488581819632585, 4.938415469525958, 5.307875653376323)\n"
     ]
    }
   ],
   "source": [
    "nobs = 250\n",
    "\n",
    "a1,a2 = np.sqrt(1.09-1), 0.00\n",
    "setup_shi_ex  = lambda yn,xn: setup_shi(yn,xn,num_params=num_params)\n",
    "gen_data_ex = lambda : gen_data2(nobs=nobs, a1=a1, a2=a2, num_params=num_params)\n",
    "mc_out = vuong_tests_fast.monte_carlo(num_sims,gen_data_ex,setup_shi_ex,trials=trials,epsilon=epsilon,\n",
    "                                      data_tuned_epsilon=data_tuned_epsilon ,adapt_c = adapt_c,print_stuff=True)\n",
    "vuong_tests_fast.print_mc(mc_out,data_tuned_epsilon=data_tuned_epsilon)\n",
    "print(mc_out)"
   ]
  },
  {
   "cell_type": "code",
   "execution_count": 9,
   "metadata": {},
   "outputs": [
    {
     "name": "stdout",
     "output_type": "stream",
     "text": [
      "\\begin{tabular}{|c|c|c|c|c|c|c|}\n",
      "\\hline\n",
      "Model &  Normal & Two-Step & SW Test & Naive Bootstrap & Pairwise Bootstrap & Shi (2015) \\\\ \\hline \\hline\n",
      "No selection & 0.83 & 0.83 & 0.69 & 0.48 & 0.49 & 0.54   \\\\\n",
      "Model 1 & 0.17 & 0.17 & 0.31 & 0.51 & 0.51 & 0.46   \\\\\n",
      "Model 2 & 0.00 & 0.00 & 0.00 & 0.01 & 0.00 & 0.00   \\\\\n",
      "\\hline\n",
      "\\end{tabular}\n",
      "(array([0.828, 0.172, 0.   ]), array([0.83, 0.17, 0.  ]), array([0.692, 0.308, 0.   ]), array([0.478, 0.514, 0.008]), array([0.49, 0.51, 0.  ]), array([1., 0., 0.]), array([1., 0., 0.]), array([0.536, 0.464, 0.   ]), 6.557457579732575, 4.964189619539192, 5.3335551403249095)\n"
     ]
    }
   ],
   "source": [
    "nobs = 250\n",
    "\n",
    "a1,a2 = np.sqrt(1.09-1), 0.00\n",
    "setup_shi_ex  = lambda yn,xn: setup_shi(yn,xn,num_params=num_params)\n",
    "gen_data_ex = lambda : gen_data2(nobs=nobs, a1=a1, a2=a2, num_params=num_params)\n",
    "mc_out = vuong_tests_fast.monte_carlo(num_sims,gen_data_ex,setup_shi_ex,trials=trials,epsilon=epsilon,\n",
    "                                      data_tuned_epsilon=data_tuned_epsilon ,adapt_c = adapt_c,print_stuff=True)\n",
    "vuong_tests_fast.print_mc(mc_out,data_tuned_epsilon=data_tuned_epsilon)\n",
    "print(mc_out)"
   ]
  },
  {
   "cell_type": "code",
   "execution_count": 10,
   "metadata": {},
   "outputs": [
    {
     "name": "stdout",
     "output_type": "stream",
     "text": [
      "\\begin{tabular}{|c|c|c|c|c|c|c|}\n",
      "\\hline\n",
      "Model &  Normal & Two-Step & SW Test & Naive Bootstrap & Pairwise Bootstrap & Shi (2015) \\\\ \\hline \\hline\n",
      "No selection & 0.81 & 0.81 & 0.74 & 0.54 & 0.55 & 0.58   \\\\\n",
      "Model 1 & 0.19 & 0.19 & 0.26 & 0.45 & 0.45 & 0.42   \\\\\n",
      "Model 2 & 0.00 & 0.00 & 0.00 & 0.00 & 0.00 & 0.00   \\\\\n",
      "\\hline\n",
      "\\end{tabular}\n",
      "(array([0.808, 0.192, 0.   ]), array([0.81, 0.19, 0.  ]), array([0.738, 0.262, 0.   ]), array([0.544, 0.454, 0.002]), array([0.546, 0.454, 0.   ]), array([1., 0., 0.]), array([1., 0., 0.]), array([0.576, 0.424, 0.   ]), 6.508661588426715, 5.4197867573962295, 5.372737796262595)\n"
     ]
    }
   ],
   "source": [
    "nobs = 250\n",
    "\n",
    "a1,a2 = np.sqrt(1.09-1), 0.00\n",
    "setup_shi_ex  = lambda yn,xn: setup_shi(yn,xn,num_params=num_params)\n",
    "gen_data_ex = lambda : gen_data2(nobs=nobs, a1=a1, a2=a2, num_params=num_params)\n",
    "mc_out = vuong_tests_fast.monte_carlo(num_sims,gen_data_ex,setup_shi_ex,trials=trials,epsilon=epsilon,\n",
    "                                      data_tuned_epsilon=data_tuned_epsilon ,adapt_c = adapt_c,print_stuff=True)\n",
    "vuong_tests_fast.print_mc(mc_out,data_tuned_epsilon=data_tuned_epsilon)\n",
    "print(mc_out)"
   ]
  },
  {
   "cell_type": "code",
   "execution_count": 11,
   "metadata": {
    "scrolled": true
   },
   "outputs": [
    {
     "name": "stdout",
     "output_type": "stream",
     "text": [
      "\\begin{tabular}{|c|c|c|c|c|c|c|}\n",
      "\\hline\n",
      "Model &  Normal & Two-Step & SW Test & Naive Bootstrap & Pairwise Bootstrap & Shi (2015) \\\\ \\hline \\hline\n",
      "No selection & 0.82 & 0.82 & 0.73 & 0.53 & 0.55 & 0.54   \\\\\n",
      "Model 1 & 0.18 & 0.18 & 0.27 & 0.47 & 0.45 & 0.46   \\\\\n",
      "Model 2 & 0.00 & 0.00 & 0.00 & 0.01 & 0.00 & 0.00   \\\\\n",
      "\\hline\n",
      "\\end{tabular}\n",
      "(array([0.82, 0.18, 0.  ]), array([0.822, 0.178, 0.   ]), array([0.734, 0.266, 0.   ]), array([0.526, 0.468, 0.006]), array([0.552, 0.448, 0.   ]), array([1., 0., 0.]), array([1., 0., 0.]), array([0.544, 0.456, 0.   ]), 6.711087054399047, 5.208298576862239, 5.361782559837809)\n"
     ]
    }
   ],
   "source": [
    "data_tuned_c = .9\n",
    "calc_c =lambda nobs: (nobs**(-1/2)/50,nobs**(1/10) )\n",
    "\n",
    "nobs = 250\n",
    "\n",
    "a1,a2 = np.sqrt(1.09-1), 0.00\n",
    "setup_shi_ex  = lambda yn,xn: setup_shi(yn,xn,num_params=num_params)\n",
    "gen_data_ex = lambda : gen_data2(nobs=nobs, a1=a1, a2=a2, num_params=num_params)\n",
    "mc_out = vuong_tests_fast.monte_carlo(num_sims,gen_data_ex,setup_shi_ex,trials=trials,epsilon=epsilon,\n",
    "                                      data_tuned_epsilon=data_tuned_epsilon ,adapt_c = adapt_c,print_stuff=True)\n",
    "vuong_tests_fast.print_mc(mc_out,data_tuned_epsilon=data_tuned_epsilon)\n",
    "print(mc_out)"
   ]
  },
  {
   "cell_type": "markdown",
   "metadata": {},
   "source": [
    "# a  = .25, k= 9"
   ]
  },
  {
   "cell_type": "code",
   "execution_count": 12,
   "metadata": {},
   "outputs": [],
   "source": [
    "a = 0.25\n",
    "num_params=9\n",
    "\n"
   ]
  },
  {
   "cell_type": "code",
   "execution_count": 13,
   "metadata": {
    "scrolled": true
   },
   "outputs": [
    {
     "name": "stdout",
     "output_type": "stream",
     "text": [
      "\\begin{tabular}{|c|c|c|c|c|c|c|}\n",
      "\\hline\n",
      "Model &  Normal & Two-Step & SW Test & Naive Bootstrap & Pairwise Bootstrap & Shi (2015) \\\\ \\hline \\hline\n",
      "No selection & 0.90 & 0.90 & 0.94 & 0.82 & 0.94 & 0.96   \\\\\n",
      "Model 1 & 0.00 & 0.00 & 0.02 & 0.12 & 0.05 & 0.02   \\\\\n",
      "Model 2 & 0.10 & 0.09 & 0.04 & 0.06 & 0.02 & 0.02   \\\\\n",
      "\\hline\n",
      "\\end{tabular}\n",
      "(array([0.9  , 0.004, 0.096]), array([0.902, 0.004, 0.094]), array([0.944, 0.016, 0.04 ]), array([0.82 , 0.124, 0.056]), array([0.936, 0.048, 0.016]), array([1., 0., 0.]), array([1., 0., 0.]), array([0.964, 0.018, 0.018]), -3.911313351810294, 6.016293003794439, 6.061311505202296)\n"
     ]
    }
   ],
   "source": [
    "nobs = 250\n",
    "\n",
    "setup_shi_ex  = lambda yn,xn: setup_shi(yn,xn,num_params=num_params)\n",
    "gen_data_ex = lambda : gen_data(nobs=250, a=a,  num_params=num_params)\n",
    "mc_out = vuong_tests_fast.monte_carlo(num_sims,gen_data_ex,setup_shi_ex,trials=trials,epsilon=epsilon,\n",
    "                                      data_tuned_epsilon=data_tuned_epsilon ,adapt_c = adapt_c,print_stuff=True)\n",
    "vuong_tests_fast.print_mc(mc_out,data_tuned_epsilon=data_tuned_epsilon)\n",
    "print(mc_out)"
   ]
  },
  {
   "cell_type": "code",
   "execution_count": 14,
   "metadata": {},
   "outputs": [
    {
     "name": "stdout",
     "output_type": "stream",
     "text": [
      "\\begin{tabular}{|c|c|c|c|c|c|c|}\n",
      "\\hline\n",
      "Model &  Normal & Two-Step & SW Test & Naive Bootstrap & Pairwise Bootstrap & Shi (2015) \\\\ \\hline \\hline\n",
      "No selection & 0.92 & 0.92 & 0.97 & 0.83 & 0.95 & 0.96   \\\\\n",
      "Model 1 & 0.00 & 0.00 & 0.01 & 0.10 & 0.03 & 0.02   \\\\\n",
      "Model 2 & 0.08 & 0.08 & 0.02 & 0.07 & 0.02 & 0.02   \\\\\n",
      "\\hline\n",
      "\\end{tabular}\n",
      "(array([0.916, 0.004, 0.08 ]), array([0.916, 0.004, 0.08 ]), array([0.97 , 0.008, 0.022]), array([0.83 , 0.096, 0.074]), array([0.954, 0.03 , 0.016]), array([1., 0., 0.]), array([1., 0., 0.]), array([0.958, 0.018, 0.024]), -4.393711218117798, 8.060851747379639, 8.050789161626145)\n"
     ]
    }
   ],
   "source": [
    "nobs = 500\n",
    "\n",
    "setup_shi_ex  = lambda yn,xn: setup_shi(yn,xn,num_params=num_params)\n",
    "gen_data_ex = lambda : gen_data(nobs=nobs, a=a,  num_params=num_params)\n",
    "mc_out = vuong_tests_fast.monte_carlo(num_sims,gen_data_ex,setup_shi_ex,trials=trials,epsilon=epsilon,\n",
    "                                      data_tuned_epsilon=data_tuned_epsilon ,adapt_c = adapt_c,print_stuff=True)\n",
    "vuong_tests_fast.print_mc(mc_out,data_tuned_epsilon=data_tuned_epsilon)\n",
    "print(mc_out)"
   ]
  },
  {
   "cell_type": "code",
   "execution_count": 15,
   "metadata": {},
   "outputs": [
    {
     "name": "stdout",
     "output_type": "stream",
     "text": [
      "\\begin{tabular}{|c|c|c|c|c|c|c|}\n",
      "\\hline\n",
      "Model &  Normal & Two-Step & SW Test & Naive Bootstrap & Pairwise Bootstrap & Shi (2015) \\\\ \\hline \\hline\n",
      "No selection & 0.84 & 0.95 & 0.96 & 0.83 & 0.92 & 0.99   \\\\\n",
      "Model 1 & 0.00 & 0.00 & 0.01 & 0.13 & 0.08 & 0.01   \\\\\n",
      "Model 2 & 0.16 & 0.05 & 0.03 & 0.03 & 0.01 & 0.00   \\\\\n",
      "\\hline\n",
      "\\end{tabular}\n",
      "(array([0.842, 0.002, 0.156]), array([0.952, 0.002, 0.046]), array([0.962, 0.01 , 0.028]), array([0.834, 0.134, 0.032]), array([0.918, 0.076, 0.006]), array([1., 0., 0.]), array([1., 0., 0.]), array([0.986, 0.012, 0.002]), -4.358493134662849, 4.269986399102957, 4.389396412056291)\n"
     ]
    }
   ],
   "source": [
    "nobs = 100\n",
    "\n",
    "setup_shi_ex  = lambda yn,xn: setup_shi(yn,xn,num_params=num_params)\n",
    "gen_data_ex = lambda : gen_data(nobs=nobs, a=a,  num_params=num_params)\n",
    "mc_out = vuong_tests_fast.monte_carlo(num_sims,gen_data_ex,setup_shi_ex,trials=trials,epsilon=epsilon,\n",
    "                                      data_tuned_epsilon=data_tuned_epsilon ,adapt_c = adapt_c,print_stuff=True)\n",
    "vuong_tests_fast.print_mc(mc_out,data_tuned_epsilon=data_tuned_epsilon)\n",
    "print(mc_out)"
   ]
  },
  {
   "cell_type": "markdown",
   "metadata": {},
   "source": [
    "# a  = .25, k= 4, something not right?"
   ]
  },
  {
   "cell_type": "code",
   "execution_count": 16,
   "metadata": {},
   "outputs": [],
   "source": [
    "a = 0.25\n",
    "num_params=4\n",
    "\n"
   ]
  },
  {
   "cell_type": "code",
   "execution_count": 17,
   "metadata": {
    "scrolled": false
   },
   "outputs": [
    {
     "name": "stdout",
     "output_type": "stream",
     "text": [
      "\\begin{tabular}{|c|c|c|c|c|c|c|}\n",
      "\\hline\n",
      "Model &  Normal & Two-Step & SW Test & Naive Bootstrap & Pairwise Bootstrap & Shi (2015) \\\\ \\hline \\hline\n",
      "No selection & 0.96 & 0.96 & 0.95 & 0.81 & 0.94 & 0.99   \\\\\n",
      "Model 1 & 0.00 & 0.00 & 0.02 & 0.11 & 0.03 & 0.00   \\\\\n",
      "Model 2 & 0.03 & 0.03 & 0.03 & 0.09 & 0.03 & 0.01   \\\\\n",
      "\\hline\n",
      "\\end{tabular}\n",
      "(array([0.964, 0.004, 0.032]), array([0.964, 0.004, 0.032]), array([0.948, 0.024, 0.028]), array([0.808, 0.106, 0.086]), array([0.944, 0.03 , 0.026]), array([1., 0., 0.]), array([1., 0., 0.]), array([0.988, 0.004, 0.008]), -1.5171603097697304, 5.391274210789007, 5.692024969284526)\n"
     ]
    }
   ],
   "source": [
    "nobs = 250\n",
    "\n",
    "setup_shi_ex  = lambda yn,xn: setup_shi(yn,xn,num_params=num_params)\n",
    "gen_data_ex = lambda : gen_data(nobs=nobs, a=a,  num_params=num_params)\n",
    "mc_out = vuong_tests_fast.monte_carlo(num_sims,gen_data_ex,setup_shi_ex,trials=trials,epsilon=epsilon,\n",
    "                                      data_tuned_epsilon=data_tuned_epsilon ,adapt_c = adapt_c,print_stuff=True)\n",
    "vuong_tests_fast.print_mc(mc_out,data_tuned_epsilon=data_tuned_epsilon)\n",
    "print(mc_out)"
   ]
  },
  {
   "cell_type": "markdown",
   "metadata": {},
   "source": [
    "# a  = .25, K = 19"
   ]
  },
  {
   "cell_type": "code",
   "execution_count": 18,
   "metadata": {},
   "outputs": [],
   "source": [
    "a = 0.25\n",
    "num_params=19\n"
   ]
  },
  {
   "cell_type": "code",
   "execution_count": 19,
   "metadata": {
    "scrolled": true
   },
   "outputs": [
    {
     "name": "stdout",
     "output_type": "stream",
     "text": [
      "\\begin{tabular}{|c|c|c|c|c|c|c|}\n",
      "\\hline\n",
      "Model &  Normal & Two-Step & SW Test & Naive Bootstrap & Pairwise Bootstrap & Shi (2015) \\\\ \\hline \\hline\n",
      "No selection & 0.74 & 0.80 & 0.96 & 0.84 & 0.93 & 0.97   \\\\\n",
      "Model 1 & 0.00 & 0.00 & 0.01 & 0.14 & 0.07 & 0.01   \\\\\n",
      "Model 2 & 0.26 & 0.20 & 0.03 & 0.02 & 0.00 & 0.01   \\\\\n",
      "\\hline\n",
      "\\end{tabular}\n",
      "(array([0.74, 0.  , 0.26]), array([0.8, 0. , 0.2]), array([0.958, 0.012, 0.03 ]), array([0.844, 0.136, 0.02 ]), array([0.926, 0.07 , 0.004]), array([1., 0., 0.]), array([1., 0., 0.]), array([0.972, 0.014, 0.014]), -9.24646285762889, 6.1848653101344135, 6.708649349004275)\n"
     ]
    }
   ],
   "source": [
    "nobs = 250\n",
    "\n",
    "setup_shi_ex  = lambda yn,xn: setup_shi(yn,xn,num_params=num_params)\n",
    "gen_data_ex = lambda : gen_data(nobs=250, a=a,  num_params=num_params)\n",
    "mc_out = vuong_tests_fast.monte_carlo(num_sims,gen_data_ex,setup_shi_ex,trials=trials,epsilon=epsilon,\n",
    "                                      data_tuned_epsilon=data_tuned_epsilon ,adapt_c = adapt_c,print_stuff=True)\n",
    "vuong_tests_fast.print_mc(mc_out,data_tuned_epsilon=data_tuned_epsilon)\n",
    "print(mc_out)"
   ]
  },
  {
   "cell_type": "markdown",
   "metadata": {},
   "source": [
    "# evidence of power"
   ]
  },
  {
   "cell_type": "code",
   "execution_count": 20,
   "metadata": {},
   "outputs": [
    {
     "name": "stdout",
     "output_type": "stream",
     "text": [
      "\\begin{tabular}{|c|c|c|c|c|c|c|}\n",
      "\\hline\n",
      "Model &  Normal & Two-Step & SW Test & Naive Bootstrap & Pairwise Bootstrap & Shi (2015) \\\\ \\hline \\hline\n",
      "No selection & 0.98 & 0.98 & 0.84 & 0.56 & 0.58 & 0.62   \\\\\n",
      "Model 1 & 0.02 & 0.02 & 0.16 & 0.43 & 0.42 & 0.38   \\\\\n",
      "Model 2 & 0.00 & 0.00 & 0.00 & 0.01 & 0.00 & 0.00   \\\\\n",
      "\\hline\n",
      "\\end{tabular}\n",
      "(array([0.98 , 0.016, 0.004]), array([0.982, 0.016, 0.002]), array([0.844, 0.156, 0.   ]), array([0.562, 0.432, 0.006]), array([0.578, 0.422, 0.   ]), array([1., 0., 0.]), array([1., 0., 0.]), array([0.624, 0.376, 0.   ]), 1.7897886327619523, 5.520745143803879, 6.3442099809984045)\n"
     ]
    }
   ],
   "source": [
    "nobs = 500\n",
    "\n",
    "a1,a2 = np.sqrt(1.09**.5-1), 0.00\n",
    "setup_shi_ex  = lambda yn,xn: setup_shi(yn,xn,num_params=num_params)\n",
    "gen_data_ex = lambda : gen_data2(nobs=nobs, a1=a1, a2=a2, num_params=num_params)\n",
    "mc_out = vuong_tests_fast.monte_carlo(num_sims,gen_data_ex,setup_shi_ex,trials=trials,epsilon=epsilon,\n",
    "                                      data_tuned_epsilon=data_tuned_epsilon ,adapt_c = adapt_c,print_stuff=True)\n",
    "vuong_tests_fast.print_mc(mc_out,data_tuned_epsilon=data_tuned_epsilon)\n",
    "print(mc_out)"
   ]
  },
  {
   "cell_type": "code",
   "execution_count": 21,
   "metadata": {
    "scrolled": true
   },
   "outputs": [
    {
     "name": "stdout",
     "output_type": "stream",
     "text": [
      "\\begin{tabular}{|c|c|c|c|c|c|c|}\n",
      "\\hline\n",
      "Model &  Normal & Two-Step & SW Test & Naive Bootstrap & Pairwise Bootstrap & Shi (2015) \\\\ \\hline \\hline\n",
      "No selection & 0.97 & 1.00 & 0.78 & 0.37 & 0.34 & 0.67   \\\\\n",
      "Model 1 & 0.02 & 0.00 & 0.22 & 0.63 & 0.66 & 0.33   \\\\\n",
      "Model 2 & 0.01 & 0.00 & 0.00 & 0.00 & 0.00 & 0.00   \\\\\n",
      "\\hline\n",
      "\\end{tabular}\n",
      "(array([0.97 , 0.016, 0.014]), array([1., 0., 0.]), array([0.78, 0.22, 0.  ]), array([0.374, 0.626, 0.   ]), array([0.336, 0.664, 0.   ]), array([1., 0., 0.]), array([1., 0., 0.]), array([0.67, 0.33, 0.  ]), 0.5496442939926551, 5.250215040100687, 5.789127563191473)\n"
     ]
    }
   ],
   "source": [
    "nobs = 100\n",
    "\n",
    "a1,a2 = np.sqrt(1.09**2.5-1), 0.00\n",
    "setup_shi_ex  = lambda yn,xn: setup_shi(yn,xn,num_params=num_params)\n",
    "gen_data_ex = lambda : gen_data2(nobs=nobs, a1=a1, a2=a2, num_params=num_params)\n",
    "mc_out = vuong_tests_fast.monte_carlo(num_sims,gen_data_ex,setup_shi_ex,trials=trials,epsilon=epsilon,\n",
    "                                      data_tuned_epsilon=data_tuned_epsilon ,adapt_c = adapt_c,print_stuff=True)\n",
    "vuong_tests_fast.print_mc(mc_out,data_tuned_epsilon=data_tuned_epsilon)\n",
    "print(mc_out)"
   ]
  },
  {
   "cell_type": "code",
   "execution_count": 22,
   "metadata": {},
   "outputs": [
    {
     "name": "stdout",
     "output_type": "stream",
     "text": [
      "\\begin{tabular}{|c|c|c|c|c|c|c|}\n",
      "\\hline\n",
      "Model &  Normal & Two-Step & SW Test & Naive Bootstrap & Pairwise Bootstrap & Shi (2015) \\\\ \\hline \\hline\n",
      "No selection & 0.59 & 0.59 & 0.66 & 0.50 & 0.56 & 0.56   \\\\\n",
      "Model 1 & 0.41 & 0.41 & 0.34 & 0.49 & 0.44 & 0.44   \\\\\n",
      "Model 2 & 0.00 & 0.00 & 0.00 & 0.01 & 0.00 & 0.00   \\\\\n",
      "\\hline\n",
      "\\end{tabular}\n",
      "(array([0.588, 0.412, 0.   ]), array([0.59, 0.41, 0.  ]), array([0.66, 0.34, 0.  ]), array([0.5  , 0.494, 0.006]), array([0.558, 0.442, 0.   ]), array([1., 0., 0.]), array([1., 0., 0.]), array([0.558, 0.442, 0.   ]), 8.86424037901693, 4.689365815333646, 4.810010329919391)\n"
     ]
    }
   ],
   "source": [
    "nobs = 250\n",
    "\n",
    "a1,a2 = np.sqrt(1.09-1), 0.00\n",
    "setup_shi_ex  = lambda yn,xn: setup_shi(yn,xn,num_params=num_params)\n",
    "gen_data_ex = lambda : gen_data2(nobs=nobs, a1=a1, a2=a2, num_params=4)\n",
    "mc_out = vuong_tests_fast.monte_carlo(num_sims,gen_data_ex,setup_shi_ex,trials=trials,epsilon=epsilon,\n",
    "                                      data_tuned_epsilon=data_tuned_epsilon ,adapt_c = adapt_c,print_stuff=True)\n",
    "vuong_tests_fast.print_mc(mc_out,data_tuned_epsilon=data_tuned_epsilon)\n",
    "print(mc_out)"
   ]
  },
  {
   "cell_type": "code",
   "execution_count": 23,
   "metadata": {},
   "outputs": [
    {
     "name": "stdout",
     "output_type": "stream",
     "text": [
      "\\begin{tabular}{|c|c|c|c|c|c|c|}\n",
      "\\hline\n",
      "Model &  Normal & Two-Step & SW Test & Naive Bootstrap & Pairwise Bootstrap & Shi (2015) \\\\ \\hline \\hline\n",
      "No selection & 0.98 & 0.98 & 0.82 & 0.48 & 0.47 & 0.66   \\\\\n",
      "Model 1 & 0.02 & 0.02 & 0.18 & 0.52 & 0.53 & 0.34   \\\\\n",
      "Model 2 & 0.01 & 0.00 & 0.00 & 0.00 & 0.00 & 0.00   \\\\\n",
      "\\hline\n",
      "\\end{tabular}\n",
      "(array([0.978, 0.016, 0.006]), array([0.982, 0.016, 0.002]), array([0.824, 0.176, 0.   ]), array([0.484, 0.516, 0.   ]), array([0.47, 0.53, 0.  ]), array([1., 0., 0.]), array([1., 0., 0.]), array([0.658, 0.342, 0.   ]), 1.1294606425584286, 5.787942320324092, 6.160829000417222)\n"
     ]
    }
   ],
   "source": [
    "nobs = 250\n",
    "\n",
    "a1,a2 = np.sqrt(1.09-1), 0.00\n",
    "setup_shi_ex  = lambda yn,xn: setup_shi(yn,xn,num_params=num_params)\n",
    "gen_data_ex = lambda : gen_data2(nobs=nobs, a1=a1, a2=a2, num_params=19)\n",
    "mc_out = vuong_tests_fast.monte_carlo(num_sims,gen_data_ex,setup_shi_ex,trials=trials,epsilon=epsilon,\n",
    "                                      data_tuned_epsilon=data_tuned_epsilon ,adapt_c = adapt_c,print_stuff=True)\n",
    "vuong_tests_fast.print_mc(mc_out,data_tuned_epsilon=data_tuned_epsilon)\n",
    "print(mc_out)"
   ]
  },
  {
   "cell_type": "markdown",
   "metadata": {},
   "source": [
    "# evidence of power 2"
   ]
  },
  {
   "cell_type": "code",
   "execution_count": 24,
   "metadata": {},
   "outputs": [
    {
     "name": "stdout",
     "output_type": "stream",
     "text": [
      "\\begin{tabular}{|c|c|c|c|c|c|c|}\n",
      "\\hline\n",
      "Model &  Normal & Two-Step & SW Test & Naive Bootstrap & Pairwise Bootstrap & Shi (2015) \\\\ \\hline \\hline\n",
      "No selection & 0.01 & 0.53 & 0.56 & 0.76 & 0.91 & 0.64   \\\\\n",
      "Model 1 & 0.00 & 0.00 & 0.00 & 0.04 & 0.00 & 0.00   \\\\\n",
      "Model 2 & 0.99 & 0.47 & 0.44 & 0.20 & 0.09 & 0.36   \\\\\n",
      "\\hline\n",
      "\\end{tabular}\n",
      "(array([0.01, 0.  , 0.99]), array([0.534, 0.   , 0.466]), array([0.564, 0.   , 0.436]), array([0.76 , 0.038, 0.202]), array([0.91 , 0.002, 0.088]), array([1., 0., 0.]), array([1., 0., 0.]), array([0.642, 0.   , 0.358]), -20.409770110109733, 5.499352802706429, 6.179000083724352)\n"
     ]
    }
   ],
   "source": [
    "nobs = 250\n",
    "\n",
    "\n",
    "a2,a1 = np.sqrt(1.09-1), 0.00\n",
    "setup_shi_ex  = lambda yn,xn: setup_shi(yn,xn,num_params=num_params)\n",
    "gen_data_ex = lambda : gen_data2(nobs=nobs, a1=a1, a2=a2, num_params=num_params)\n",
    "mc_out = vuong_tests_fast.monte_carlo(num_sims,gen_data_ex,setup_shi_ex,trials=trials,epsilon=epsilon,\n",
    "                                      data_tuned_epsilon=data_tuned_epsilon ,adapt_c = adapt_c,print_stuff=True)\n",
    "vuong_tests_fast.print_mc(mc_out,data_tuned_epsilon=data_tuned_epsilon)\n",
    "print(mc_out)"
   ]
  },
  {
   "cell_type": "code",
   "execution_count": 25,
   "metadata": {},
   "outputs": [
    {
     "name": "stdout",
     "output_type": "stream",
     "text": [
      "\\begin{tabular}{|c|c|c|c|c|c|c|}\n",
      "\\hline\n",
      "Model &  Normal & Two-Step & SW Test & Naive Bootstrap & Pairwise Bootstrap & Shi (2015) \\\\ \\hline \\hline\n",
      "No selection & 0.02 & 0.39 & 0.70 & 0.76 & 0.92 & 0.64   \\\\\n",
      "Model 1 & 0.00 & 0.00 & 0.00 & 0.04 & 0.00 & 0.00   \\\\\n",
      "Model 2 & 0.98 & 0.61 & 0.30 & 0.20 & 0.08 & 0.36   \\\\\n",
      "\\hline\n",
      "\\end{tabular}\n",
      "(array([0.02, 0.  , 0.98]), array([0.392, 0.   , 0.608]), array([0.696, 0.   , 0.304]), array([0.764, 0.038, 0.198]), array([0.916, 0.   , 0.084]), array([1., 0., 0.]), array([1., 0., 0.]), array([0.64, 0.  , 0.36]), -20.126338924931748, 6.040678334791432, 6.241528452680817)\n"
     ]
    }
   ],
   "source": [
    "nobs = 500\n",
    "\n",
    "\n",
    "a2,a1 = np.sqrt(1.09**.5-1), 0.00\n",
    "setup_shi_ex  = lambda yn,xn: setup_shi(yn,xn,num_params=num_params)\n",
    "gen_data_ex = lambda : gen_data2(nobs=nobs, a1=a1, a2=a2, num_params=num_params)\n",
    "mc_out = vuong_tests_fast.monte_carlo(num_sims,gen_data_ex,setup_shi_ex,trials=trials,epsilon=epsilon,\n",
    "                                      data_tuned_epsilon=data_tuned_epsilon ,adapt_c = adapt_c,print_stuff=True)\n",
    "vuong_tests_fast.print_mc(mc_out,data_tuned_epsilon=data_tuned_epsilon)\n",
    "print(mc_out)"
   ]
  },
  {
   "cell_type": "code",
   "execution_count": 26,
   "metadata": {},
   "outputs": [
    {
     "name": "stdout",
     "output_type": "stream",
     "text": [
      "\\begin{tabular}{|c|c|c|c|c|c|c|}\n",
      "\\hline\n",
      "Model &  Normal & Two-Step & SW Test & Naive Bootstrap & Pairwise Bootstrap & Shi (2015) \\\\ \\hline \\hline\n",
      "No selection & 0.01 & 0.96 & 0.41 & 0.81 & 0.86 & 0.57   \\\\\n",
      "Model 1 & 0.00 & 0.00 & 0.00 & 0.02 & 0.00 & 0.00   \\\\\n",
      "Model 2 & 0.99 & 0.04 & 0.59 & 0.17 & 0.14 & 0.43   \\\\\n",
      "\\hline\n",
      "\\end{tabular}\n",
      "(array([0.01, 0.  , 0.99]), array([0.96, 0.  , 0.04]), array([0.406, 0.   , 0.594]), array([0.812, 0.016, 0.172]), array([0.86 , 0.004, 0.136]), array([1., 0., 0.]), array([1., 0., 0.]), array([0.566, 0.   , 0.434]), -20.752807637385647, 5.6939654098777055, 5.786517096164335)\n"
     ]
    }
   ],
   "source": [
    "nobs = 100\n",
    "\n",
    "\n",
    "a2,a1 =np.sqrt(1.09**2.5-1), 0.00\n",
    "setup_shi_ex  = lambda yn,xn: setup_shi(yn,xn,num_params=num_params)\n",
    "gen_data_ex = lambda : gen_data2(nobs=nobs, a1=a1, a2=a2, num_params=num_params)\n",
    "mc_out = vuong_tests_fast.monte_carlo(num_sims,gen_data_ex,setup_shi_ex,trials=trials,epsilon=epsilon,\n",
    "                                      data_tuned_epsilon=data_tuned_epsilon ,adapt_c = adapt_c,print_stuff=True)\n",
    "vuong_tests_fast.print_mc(mc_out,data_tuned_epsilon=data_tuned_epsilon)\n",
    "print(mc_out)"
   ]
  },
  {
   "cell_type": "code",
   "execution_count": 27,
   "metadata": {},
   "outputs": [
    {
     "name": "stdout",
     "output_type": "stream",
     "text": [
      "\\begin{tabular}{|c|c|c|c|c|c|c|}\n",
      "\\hline\n",
      "Model &  Normal & Two-Step & SW Test & Naive Bootstrap & Pairwise Bootstrap & Shi (2015) \\\\ \\hline \\hline\n",
      "No selection & 0.19 & 0.19 & 0.61 & 0.60 & 0.67 & 0.51   \\\\\n",
      "Model 1 & 0.00 & 0.00 & 0.00 & 0.01 & 0.00 & 0.00   \\\\\n",
      "Model 2 & 0.81 & 0.81 & 0.39 & 0.40 & 0.33 & 0.49   \\\\\n",
      "\\hline\n",
      "\\end{tabular}\n",
      "(array([0.186, 0.   , 0.814]), array([0.19, 0.  , 0.81]), array([0.606, 0.   , 0.394]), array([0.598, 0.006, 0.396]), array([0.672, 0.   , 0.328]), array([1., 0., 0.]), array([1., 0., 0.]), array([0.506, 0.   , 0.494]), -12.83551185554732, 4.945644153371244, 5.0270403017315735)\n"
     ]
    }
   ],
   "source": [
    "nobs = 250\n",
    "\n",
    "\n",
    "a2,a1 = np.sqrt(1.09-1), 0.00\n",
    "setup_shi_ex  = lambda yn,xn: setup_shi(yn,xn,num_params=num_params)\n",
    "gen_data_ex = lambda : gen_data2(nobs=250, a1=a1, a2=a2, num_params=4)\n",
    "mc_out = vuong_tests_fast.monte_carlo(num_sims,gen_data_ex,setup_shi_ex,trials=trials,epsilon=epsilon,\n",
    "                                      data_tuned_epsilon=data_tuned_epsilon ,adapt_c = adapt_c,print_stuff=True)\n",
    "vuong_tests_fast.print_mc(mc_out,data_tuned_epsilon=data_tuned_epsilon)\n",
    "print(mc_out)"
   ]
  },
  {
   "cell_type": "code",
   "execution_count": 28,
   "metadata": {},
   "outputs": [
    {
     "name": "stdout",
     "output_type": "stream",
     "text": [
      "\\begin{tabular}{|c|c|c|c|c|c|c|}\n",
      "\\hline\n",
      "Model &  Normal & Two-Step & SW Test & Naive Bootstrap & Pairwise Bootstrap & Shi (2015) \\\\ \\hline \\hline\n",
      "No selection & 0.01 & 0.57 & 0.64 & 0.79 & 0.93 & 0.67   \\\\\n",
      "Model 1 & 0.00 & 0.00 & 0.00 & 0.04 & 0.01 & 0.00   \\\\\n",
      "Model 2 & 0.99 & 0.43 & 0.36 & 0.17 & 0.06 & 0.33   \\\\\n",
      "\\hline\n",
      "\\end{tabular}\n",
      "(array([0.01, 0.  , 0.99]), array([0.572, 0.   , 0.428]), array([0.638, 0.   , 0.362]), array([0.794, 0.04 , 0.166]), array([0.934, 0.006, 0.06 ]), array([1., 0., 0.]), array([1., 0., 0.]), array([0.67, 0.  , 0.33]), -19.936491545252256, 5.571474945834001, 6.136829190171078)\n"
     ]
    }
   ],
   "source": [
    "nobs = 250\n",
    "\n",
    "\n",
    "a2,a1 = np.sqrt(1.09-1), 0.00\n",
    "setup_shi_ex  = lambda yn,xn: setup_shi(yn,xn,num_params=num_params)\n",
    "gen_data_ex = lambda : gen_data2(nobs=nobs, a1=a1, a2=a2, num_params=19)\n",
    "mc_out = vuong_tests_fast.monte_carlo(num_sims,gen_data_ex,setup_shi_ex,trials=trials,epsilon=epsilon,\n",
    "                                      data_tuned_epsilon=data_tuned_epsilon ,adapt_c = adapt_c,print_stuff=True)\n",
    "vuong_tests_fast.print_mc(mc_out,data_tuned_epsilon=data_tuned_epsilon)\n",
    "print(mc_out)"
   ]
  },
  {
   "cell_type": "code",
   "execution_count": null,
   "metadata": {},
   "outputs": [],
   "source": []
  },
  {
   "cell_type": "code",
   "execution_count": null,
   "metadata": {},
   "outputs": [],
   "source": []
  },
  {
   "cell_type": "code",
   "execution_count": null,
   "metadata": {},
   "outputs": [],
   "source": []
  }
 ],
 "metadata": {
  "kernelspec": {
   "display_name": "Python 3 (ipykernel)",
   "language": "python",
   "name": "python3"
  },
  "language_info": {
   "codemirror_mode": {
    "name": "ipython",
    "version": 3
   },
   "file_extension": ".py",
   "mimetype": "text/x-python",
   "name": "python",
   "nbconvert_exporter": "python",
   "pygments_lexer": "ipython3",
   "version": "3.10.9"
  }
 },
 "nbformat": 4,
 "nbformat_minor": 2
}
