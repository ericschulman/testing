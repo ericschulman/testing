{
 "cells": [
  {
   "cell_type": "code",
   "execution_count": 1,
   "metadata": {},
   "outputs": [],
   "source": [
    "%load_ext autoreload\n",
    "%autoreload 2\n",
    "\n",
    "import numpy as np\n",
    "import matplotlib.pyplot as plt\n",
    "import statsmodels.api as sm\n",
    "from statsmodels.base.model import GenericLikelihoodModel\n",
    "import scipy.stats as stats\n",
    "import sys\n",
    "\n",
    "sys.path.append(\"../\")\n",
    "import vuong_tests11 as vuong_tests_fast"
   ]
  },
  {
   "cell_type": "code",
   "execution_count": 2,
   "metadata": {},
   "outputs": [],
   "source": [
    "class OLS_loglike(GenericLikelihoodModel):\n",
    "    \n",
    "    def __init__(self, *args,ols=False, **kwargs):\n",
    "        super(OLS_loglike,self).__init__(*args,**kwargs)\n",
    "        self.ols = ols\n",
    "\n",
    "    def loglikeobs(self, params):\n",
    "        y = self.endog\n",
    "        x = self.exog\n",
    "        mu_y = np.matmul(x,params)  \n",
    "        resid = y - mu_y\n",
    "        sigma = np.sqrt(np.sum(resid**2)/resid.shape[0])\n",
    "        pr_y = stats.norm.logpdf( resid, loc=0,scale=sigma )\n",
    "        return pr_y\n",
    "\n",
    "\n",
    "def setup_shi(yn,xn,return_model=False,num_params=4):\n",
    "    x1n,x2n = xn[:,0],xn[:,1:num_params+1]\n",
    "    \n",
    "    # model 1 grad, etc.\n",
    "    model1 = sm.OLS(yn,sm.add_constant(x1n))\n",
    "    model1_fit = model1.fit(disp=False)\n",
    "    params1 = (model1_fit.params)\n",
    "    \n",
    "    model1_deriv = OLS_loglike(yn,sm.add_constant(x1n))\n",
    "    ll1 = model1_deriv.loglikeobs(model1_fit.params)\n",
    "    grad1 =  model1_deriv.score_obs(model1_fit.params)    \n",
    "    hess1 = model1_deriv.hessian(model1_fit.params)\n",
    "    \n",
    "    #model 2 grad, etc.\n",
    "    model2 = sm.OLS(yn,sm.add_constant(x2n))\n",
    "    model2_fit = model2.fit(disp=False)\n",
    "    params2 = (model2_fit.params)\n",
    "    \n",
    "    model2_deriv = OLS_loglike(yn,sm.add_constant(x2n))\n",
    "    ll2 = model2_deriv.loglikeobs(model2_fit.params)\n",
    "    grad2 =  model2_deriv.score_obs(model2_fit.params)    \n",
    "    hess2 = model2_deriv.hessian(model2_fit.params)\n",
    "    \n",
    "    if return_model:\n",
    "        return ll1,grad1,hess1,params1,model1,ll2,grad2,hess2,params2,model2\n",
    "    return ll1,grad1,hess1,params1,ll2,grad2,hess2,params2\n"
   ]
  },
  {
   "cell_type": "code",
   "execution_count": 3,
   "metadata": {},
   "outputs": [
    {
     "name": "stdout",
     "output_type": "stream",
     "text": [
      "(1000, 2) (2, 2)\n"
     ]
    }
   ],
   "source": [
    "def gen_data(nobs=1000, a=0.25, num_params=4):\n",
    "    x = np.random.normal(scale=1., size=(nobs,1+num_params))\n",
    "    e = np.random.normal(loc=0.0, scale=1.0, size=nobs)\n",
    "    y = 1 + a*x[:,0] + a/np.sqrt(num_params)*x[:,1:num_params+1].sum(axis=1) + e\n",
    "    return y,x,nobs\n",
    "\n",
    "yn,xn,nobs = gen_data()\n",
    "ll1,grad1,hess1,params1,ll2,grad2,hess2,params2 = setup_shi(yn,xn,return_model=False,num_params=15)\n",
    "print(grad1.shape,hess1.shape)"
   ]
  },
  {
   "cell_type": "code",
   "execution_count": 4,
   "metadata": {},
   "outputs": [],
   "source": [
    "num_sims = 500\n",
    "trials =1000\n",
    "adapt_c = False\n",
    "data_tuned_epsilon = False\n",
    "epsilon = .5"
   ]
  },
  {
   "cell_type": "markdown",
   "metadata": {},
   "source": [
    "size weirdness rn..."
   ]
  },
  {
   "cell_type": "code",
   "execution_count": 5,
   "metadata": {
    "scrolled": true
   },
   "outputs": [
    {
     "name": "stdout",
     "output_type": "stream",
     "text": [
      "\\begin{tabular}{|c|c|c|c|c|c|c|}\n",
      "\\hline\n",
      "Model &  Normal & Two-Step & Bootstrap & Bootstrap-TIC & Bootstrap-ND & Shi (2015) \\\\ \\hline \\hline\n",
      "No selection & 0.96 & 0.96 & 0.95 & 0.84 & 0.95 & 0.97   \\\\\n",
      "Model 1 & 0.00 & 0.00 & 0.01 & 0.07 & 0.01 & 0.01   \\\\\n",
      "Model 2 & 0.03 & 0.03 & 0.04 & 0.09 & 0.04 & 0.01   \\\\\n",
      "\\hline\n",
      "\\end{tabular}\n",
      "(array([0.964, 0.004, 0.032]), array([0.964, 0.004, 0.032]), array([0.954, 0.01 , 0.036]), array([0.84 , 0.066, 0.094]), array([0.954, 0.01 , 0.036]), array([0.974, 0.014, 0.012]), -3.4000709535317877, 10.377643245544016, 11.005997834999022)\n"
     ]
    }
   ],
   "source": [
    "a = 0.25\n",
    "num_params=9\n",
    "\n",
    "setup_shi_ex  = lambda yn,xn: setup_shi(yn,xn,num_params=num_params)\n",
    "gen_data_ex = lambda : gen_data(nobs=nobs, a=a,  num_params=num_params)\n",
    "mc_out = vuong_tests_fast.monte_carlo(num_sims,gen_data_ex,setup_shi_ex,trials=trials,epsilon=epsilon,\n",
    "                                      data_tuned_epsilon=data_tuned_epsilon ,adapt_c = adapt_c,print_stuff=True)\n",
    "vuong_tests_fast.print_mc(mc_out)\n",
    "print(mc_out)"
   ]
  },
  {
   "cell_type": "markdown",
   "metadata": {},
   "source": [
    "# power 0.... need to see..."
   ]
  },
  {
   "cell_type": "code",
   "execution_count": 6,
   "metadata": {},
   "outputs": [],
   "source": [
    "a1,a2 = np.sqrt(1.09-1), 0.00\n",
    "num_params= 9\n",
    "\n",
    "\n",
    "def gen_data2(nobs=1000, a1=np.sqrt(1.09-1), a2=0.00 , num_params=19):\n",
    "    x = np.random.normal(scale=1., size=(nobs,1+num_params))\n",
    "    e = np.random.normal(loc=0.0, scale=1.0, size=nobs)\n",
    "    y = 1 + a1*x[:,0] + a2/np.sqrt(num_params)*x[:,1:num_params+1].sum(axis=1) + e\n",
    "    return y,x,nobs"
   ]
  },
  {
   "cell_type": "code",
   "execution_count": 7,
   "metadata": {
    "scrolled": true
   },
   "outputs": [
    {
     "name": "stdout",
     "output_type": "stream",
     "text": [
      "\\begin{tabular}{|c|c|c|c|c|c|c|}\n",
      "\\hline\n",
      "Model &  Normal & Two-Step & Bootstrap & Bootstrap-TIC & Bootstrap-ND & Shi (2015) \\\\ \\hline \\hline\n",
      "No selection & 0.81 & 0.82 & 0.86 & 0.73 & 0.84 & 0.54   \\\\\n",
      "Model 1 & 0.19 & 0.18 & 0.14 & 0.25 & 0.15 & 0.46   \\\\\n",
      "Model 2 & 0.00 & 0.00 & 0.00 & 0.02 & 0.00 & 0.00   \\\\\n",
      "\\hline\n",
      "\\end{tabular}\n",
      "(array([0.814, 0.186, 0.   ]), array([0.824, 0.176, 0.   ]), array([0.86 , 0.136, 0.004]), array([0.726, 0.254, 0.02 ]), array([0.842, 0.154, 0.004]), array([0.538, 0.462, 0.   ]), 6.712706064039718, 5.048148092879056, 5.358821006006797)\n"
     ]
    }
   ],
   "source": [
    "calc_c =lambda nobs: (nobs**(-1/2)/100,nobs**(1/5) )\n",
    "\n",
    "nobs = 250\n",
    "\n",
    "a1,a2 = np.sqrt(1.09-1), 0.00\n",
    "setup_shi_ex  = lambda yn,xn: setup_shi(yn,xn,num_params=num_params)\n",
    "gen_data_ex = lambda : gen_data2(nobs=nobs, a1=a1, a2=a2, num_params=num_params)\n",
    "mc_out = vuong_tests_fast.monte_carlo(num_sims,gen_data_ex,setup_shi_ex,trials=trials,epsilon=epsilon,\n",
    "                                      data_tuned_epsilon=data_tuned_epsilon ,adapt_c = adapt_c,print_stuff=True)\n",
    "vuong_tests_fast.print_mc(mc_out)\n",
    "print(mc_out)"
   ]
  },
  {
   "cell_type": "code",
   "execution_count": 8,
   "metadata": {
    "scrolled": true
   },
   "outputs": [
    {
     "name": "stdout",
     "output_type": "stream",
     "text": [
      "\\begin{tabular}{|c|c|c|c|c|c|c|}\n",
      "\\hline\n",
      "Model &  Normal & Two-Step & Bootstrap & Bootstrap-TIC & Bootstrap-ND & Shi (2015) \\\\ \\hline \\hline\n",
      "No selection & 0.81 & 0.81 & 0.86 & 0.70 & 0.84 & 0.55   \\\\\n",
      "Model 1 & 0.19 & 0.19 & 0.14 & 0.26 & 0.16 & 0.45   \\\\\n",
      "Model 2 & 0.00 & 0.00 & 0.00 & 0.04 & 0.00 & 0.00   \\\\\n",
      "\\hline\n",
      "\\end{tabular}\n",
      "(array([0.808, 0.192, 0.   ]), array([0.814, 0.186, 0.   ]), array([0.856, 0.14 , 0.004]), array([0.698, 0.264, 0.038]), array([0.842, 0.156, 0.002]), array([0.55, 0.45, 0.  ]), 6.849368038122052, 5.180405287925134, 5.337818102077535)\n"
     ]
    }
   ],
   "source": [
    "nobs = 250\n",
    "\n",
    "a1,a2 = np.sqrt(1.09-1), 0.00\n",
    "setup_shi_ex  = lambda yn,xn: setup_shi(yn,xn,num_params=num_params)\n",
    "gen_data_ex = lambda : gen_data2(nobs=nobs, a1=a1, a2=a2, num_params=num_params)\n",
    "mc_out = vuong_tests_fast.monte_carlo(num_sims,gen_data_ex,setup_shi_ex,trials=trials,epsilon=epsilon,\n",
    "                                      data_tuned_epsilon=data_tuned_epsilon ,adapt_c = adapt_c,print_stuff=True)\n",
    "vuong_tests_fast.print_mc(mc_out)\n",
    "print(mc_out)"
   ]
  },
  {
   "cell_type": "code",
   "execution_count": 9,
   "metadata": {},
   "outputs": [
    {
     "name": "stdout",
     "output_type": "stream",
     "text": [
      "\\begin{tabular}{|c|c|c|c|c|c|c|}\n",
      "\\hline\n",
      "Model &  Normal & Two-Step & Bootstrap & Bootstrap-TIC & Bootstrap-ND & Shi (2015) \\\\ \\hline \\hline\n",
      "No selection & 0.84 & 0.84 & 0.85 & 0.72 & 0.84 & 0.55   \\\\\n",
      "Model 1 & 0.16 & 0.16 & 0.15 & 0.26 & 0.16 & 0.45   \\\\\n",
      "Model 2 & 0.00 & 0.00 & 0.00 & 0.02 & 0.00 & 0.00   \\\\\n",
      "\\hline\n",
      "\\end{tabular}\n",
      "(array([0.838, 0.162, 0.   ]), array([0.84, 0.16, 0.  ]), array([0.85, 0.15, 0.  ]), array([0.72 , 0.258, 0.022]), array([0.838, 0.162, 0.   ]), array([0.548, 0.452, 0.   ]), 6.5357768599822235, 5.013051253533495, 5.318967449588791)\n"
     ]
    }
   ],
   "source": [
    "nobs = 250\n",
    "\n",
    "a1,a2 = np.sqrt(1.09-1), 0.00\n",
    "setup_shi_ex  = lambda yn,xn: setup_shi(yn,xn,num_params=num_params)\n",
    "gen_data_ex = lambda : gen_data2(nobs=nobs, a1=a1, a2=a2, num_params=num_params)\n",
    "mc_out = vuong_tests_fast.monte_carlo(num_sims,gen_data_ex,setup_shi_ex,trials=trials,epsilon=epsilon,\n",
    "                                      data_tuned_epsilon=data_tuned_epsilon ,adapt_c = adapt_c,print_stuff=True)\n",
    "vuong_tests_fast.print_mc(mc_out)\n",
    "print(mc_out)"
   ]
  },
  {
   "cell_type": "code",
   "execution_count": 10,
   "metadata": {},
   "outputs": [
    {
     "name": "stdout",
     "output_type": "stream",
     "text": [
      "\\begin{tabular}{|c|c|c|c|c|c|c|}\n",
      "\\hline\n",
      "Model &  Normal & Two-Step & Bootstrap & Bootstrap-TIC & Bootstrap-ND & Shi (2015) \\\\ \\hline \\hline\n",
      "No selection & 0.80 & 0.80 & 0.86 & 0.73 & 0.85 & 0.50   \\\\\n",
      "Model 1 & 0.20 & 0.20 & 0.14 & 0.24 & 0.15 & 0.50   \\\\\n",
      "Model 2 & 0.00 & 0.00 & 0.00 & 0.02 & 0.00 & 0.00   \\\\\n",
      "\\hline\n",
      "\\end{tabular}\n",
      "(array([0.802, 0.198, 0.   ]), array([0.804, 0.196, 0.   ]), array([0.864, 0.136, 0.   ]), array([0.734, 0.244, 0.022]), array([0.854, 0.146, 0.   ]), array([0.498, 0.502, 0.   ]), 6.976164481931269, 5.21406847353594, 5.332101305644023)\n"
     ]
    }
   ],
   "source": [
    "nobs = 250\n",
    "\n",
    "a1,a2 = np.sqrt(1.09-1), 0.00\n",
    "setup_shi_ex  = lambda yn,xn: setup_shi(yn,xn,num_params=num_params)\n",
    "gen_data_ex = lambda : gen_data2(nobs=nobs, a1=a1, a2=a2, num_params=num_params)\n",
    "mc_out = vuong_tests_fast.monte_carlo(num_sims,gen_data_ex,setup_shi_ex,trials=trials,epsilon=epsilon,\n",
    "                                      data_tuned_epsilon=data_tuned_epsilon ,adapt_c = adapt_c,print_stuff=True)\n",
    "vuong_tests_fast.print_mc(mc_out)\n",
    "print(mc_out)"
   ]
  },
  {
   "cell_type": "code",
   "execution_count": 11,
   "metadata": {
    "scrolled": true
   },
   "outputs": [
    {
     "name": "stdout",
     "output_type": "stream",
     "text": [
      "\\begin{tabular}{|c|c|c|c|c|c|c|}\n",
      "\\hline\n",
      "Model &  Normal & Two-Step & Bootstrap & Bootstrap-TIC & Bootstrap-ND & Shi (2015) \\\\ \\hline \\hline\n",
      "No selection & 0.81 & 0.81 & 0.86 & 0.70 & 0.85 & 0.56   \\\\\n",
      "Model 1 & 0.19 & 0.19 & 0.14 & 0.27 & 0.15 & 0.44   \\\\\n",
      "Model 2 & 0.00 & 0.00 & 0.01 & 0.03 & 0.00 & 0.00   \\\\\n",
      "\\hline\n",
      "\\end{tabular}\n",
      "(array([0.808, 0.192, 0.   ]), array([0.812, 0.188, 0.   ]), array([0.858, 0.136, 0.006]), array([0.702, 0.266, 0.032]), array([0.848, 0.148, 0.004]), array([0.564, 0.436, 0.   ]), 6.622070316091068, 5.234304052251927, 5.346765498922524)\n"
     ]
    }
   ],
   "source": [
    "data_tuned_c = .9\n",
    "calc_c =lambda nobs: (nobs**(-1/2)/50,nobs**(1/10) )\n",
    "\n",
    "nobs = 250\n",
    "\n",
    "a1,a2 = np.sqrt(1.09-1), 0.00\n",
    "setup_shi_ex  = lambda yn,xn: setup_shi(yn,xn,num_params=num_params)\n",
    "gen_data_ex = lambda : gen_data2(nobs=nobs, a1=a1, a2=a2, num_params=num_params)\n",
    "mc_out = vuong_tests_fast.monte_carlo(num_sims,gen_data_ex,setup_shi_ex,trials=trials,epsilon=epsilon,\n",
    "                                      data_tuned_epsilon=data_tuned_epsilon ,adapt_c = adapt_c,print_stuff=True)\n",
    "vuong_tests_fast.print_mc(mc_out)\n",
    "print(mc_out)"
   ]
  },
  {
   "cell_type": "markdown",
   "metadata": {},
   "source": [
    "# a  = .25, k= 9"
   ]
  },
  {
   "cell_type": "code",
   "execution_count": 12,
   "metadata": {},
   "outputs": [],
   "source": [
    "a = 0.25\n",
    "num_params=9\n",
    "\n"
   ]
  },
  {
   "cell_type": "code",
   "execution_count": 13,
   "metadata": {
    "scrolled": true
   },
   "outputs": [
    {
     "name": "stdout",
     "output_type": "stream",
     "text": [
      "\\begin{tabular}{|c|c|c|c|c|c|c|}\n",
      "\\hline\n",
      "Model &  Normal & Two-Step & Bootstrap & Bootstrap-TIC & Bootstrap-ND & Shi (2015) \\\\ \\hline \\hline\n",
      "No selection & 0.92 & 0.92 & 0.92 & 0.78 & 0.92 & 0.98   \\\\\n",
      "Model 1 & 0.00 & 0.00 & 0.00 & 0.06 & 0.01 & 0.01   \\\\\n",
      "Model 2 & 0.08 & 0.08 & 0.08 & 0.16 & 0.08 & 0.02   \\\\\n",
      "\\hline\n",
      "\\end{tabular}\n",
      "(array([0.922, 0.   , 0.078]), array([0.924, 0.   , 0.076]), array([0.922, 0.002, 0.076]), array([0.784, 0.056, 0.16 ]), array([0.918, 0.006, 0.076]), array([0.978, 0.006, 0.016]), -3.8653087154868033, 5.590276909617487, 5.879089904229182)\n"
     ]
    }
   ],
   "source": [
    "nobs = 250\n",
    "\n",
    "setup_shi_ex  = lambda yn,xn: setup_shi(yn,xn,num_params=num_params)\n",
    "gen_data_ex = lambda : gen_data(nobs=250, a=a,  num_params=num_params)\n",
    "mc_out = vuong_tests_fast.monte_carlo(num_sims,gen_data_ex,setup_shi_ex,trials=trials,epsilon=epsilon,\n",
    "                                      data_tuned_epsilon=data_tuned_epsilon ,adapt_c = adapt_c,print_stuff=True)\n",
    "vuong_tests_fast.print_mc(mc_out)\n",
    "print(mc_out)"
   ]
  },
  {
   "cell_type": "code",
   "execution_count": 14,
   "metadata": {},
   "outputs": [
    {
     "name": "stdout",
     "output_type": "stream",
     "text": [
      "\\begin{tabular}{|c|c|c|c|c|c|c|}\n",
      "\\hline\n",
      "Model &  Normal & Two-Step & Bootstrap & Bootstrap-TIC & Bootstrap-ND & Shi (2015) \\\\ \\hline \\hline\n",
      "No selection & 0.92 & 0.92 & 0.92 & 0.78 & 0.92 & 0.96   \\\\\n",
      "Model 1 & 0.01 & 0.01 & 0.01 & 0.05 & 0.01 & 0.01   \\\\\n",
      "Model 2 & 0.07 & 0.07 & 0.07 & 0.17 & 0.08 & 0.03   \\\\\n",
      "\\hline\n",
      "\\end{tabular}\n",
      "(array([0.924, 0.008, 0.068]), array([0.924, 0.008, 0.068]), array([0.922, 0.006, 0.072]), array([0.776, 0.054, 0.17 ]), array([0.918, 0.006, 0.076]), array([0.96 , 0.014, 0.026]), -4.021904777151649, 8.152163978966847, 8.14789493445972)\n"
     ]
    }
   ],
   "source": [
    "nobs = 500\n",
    "\n",
    "setup_shi_ex  = lambda yn,xn: setup_shi(yn,xn,num_params=num_params)\n",
    "gen_data_ex = lambda : gen_data(nobs=nobs, a=a,  num_params=num_params)\n",
    "mc_out = vuong_tests_fast.monte_carlo(num_sims,gen_data_ex,setup_shi_ex,trials=trials,epsilon=epsilon,\n",
    "                                      data_tuned_epsilon=data_tuned_epsilon ,adapt_c = adapt_c,print_stuff=True)\n",
    "vuong_tests_fast.print_mc(mc_out)\n",
    "print(mc_out)"
   ]
  },
  {
   "cell_type": "code",
   "execution_count": 15,
   "metadata": {},
   "outputs": [
    {
     "name": "stdout",
     "output_type": "stream",
     "text": [
      "\\begin{tabular}{|c|c|c|c|c|c|c|}\n",
      "\\hline\n",
      "Model &  Normal & Two-Step & Bootstrap & Bootstrap-TIC & Bootstrap-ND & Shi (2015) \\\\ \\hline \\hline\n",
      "No selection & 0.89 & 0.95 & 0.90 & 0.78 & 0.90 & 0.99   \\\\\n",
      "Model 1 & 0.00 & 0.00 & 0.00 & 0.03 & 0.00 & 0.01   \\\\\n",
      "Model 2 & 0.11 & 0.05 & 0.10 & 0.19 & 0.10 & 0.00   \\\\\n",
      "\\hline\n",
      "\\end{tabular}\n",
      "(array([0.888, 0.   , 0.112]), array([0.952, 0.   , 0.048]), array([0.898, 0.   , 0.102]), array([0.778, 0.028, 0.194]), array([0.9  , 0.004, 0.096]), array([0.986, 0.01 , 0.004]), -4.246003018228189, 3.9971401877638026, 4.402202031133572)\n"
     ]
    }
   ],
   "source": [
    "nobs = 100\n",
    "\n",
    "setup_shi_ex  = lambda yn,xn: setup_shi(yn,xn,num_params=num_params)\n",
    "gen_data_ex = lambda : gen_data(nobs=nobs, a=a,  num_params=num_params)\n",
    "mc_out = vuong_tests_fast.monte_carlo(num_sims,gen_data_ex,setup_shi_ex,trials=trials,epsilon=epsilon,\n",
    "                                      data_tuned_epsilon=data_tuned_epsilon ,adapt_c = adapt_c,print_stuff=True)\n",
    "vuong_tests_fast.print_mc(mc_out)\n",
    "print(mc_out)"
   ]
  },
  {
   "cell_type": "markdown",
   "metadata": {},
   "source": [
    "# a  = .25, k= 4, something not right?"
   ]
  },
  {
   "cell_type": "code",
   "execution_count": 16,
   "metadata": {},
   "outputs": [],
   "source": [
    "a = 0.25\n",
    "num_params=4\n",
    "\n"
   ]
  },
  {
   "cell_type": "code",
   "execution_count": 17,
   "metadata": {
    "scrolled": false
   },
   "outputs": [
    {
     "name": "stdout",
     "output_type": "stream",
     "text": [
      "\\begin{tabular}{|c|c|c|c|c|c|c|}\n",
      "\\hline\n",
      "Model &  Normal & Two-Step & Bootstrap & Bootstrap-TIC & Bootstrap-ND & Shi (2015) \\\\ \\hline \\hline\n",
      "No selection & 0.96 & 0.96 & 0.95 & 0.85 & 0.95 & 0.99   \\\\\n",
      "Model 1 & 0.01 & 0.01 & 0.01 & 0.05 & 0.01 & 0.01   \\\\\n",
      "Model 2 & 0.03 & 0.03 & 0.04 & 0.10 & 0.03 & 0.00   \\\\\n",
      "\\hline\n",
      "\\end{tabular}\n",
      "(array([0.962, 0.008, 0.03 ]), array([0.962, 0.008, 0.03 ]), array([0.952, 0.01 , 0.038]), array([0.854, 0.046, 0.1  ]), array([0.954, 0.014, 0.032]), array([0.99 , 0.008, 0.002]), -1.3664936316056322, 5.31357947012954, 5.5943680246083565)\n"
     ]
    }
   ],
   "source": [
    "nobs = 250\n",
    "\n",
    "setup_shi_ex  = lambda yn,xn: setup_shi(yn,xn,num_params=num_params)\n",
    "gen_data_ex = lambda : gen_data(nobs=nobs, a=a,  num_params=num_params)\n",
    "mc_out = vuong_tests_fast.monte_carlo(num_sims,gen_data_ex,setup_shi_ex,trials=trials,epsilon=epsilon,\n",
    "                                      data_tuned_epsilon=data_tuned_epsilon ,adapt_c = adapt_c,print_stuff=True)\n",
    "vuong_tests_fast.print_mc(mc_out)\n",
    "print(mc_out)"
   ]
  },
  {
   "cell_type": "markdown",
   "metadata": {},
   "source": [
    "# a  = .25, K = 19"
   ]
  },
  {
   "cell_type": "code",
   "execution_count": 18,
   "metadata": {},
   "outputs": [],
   "source": [
    "a = 0.25\n",
    "num_params=19\n"
   ]
  },
  {
   "cell_type": "code",
   "execution_count": 19,
   "metadata": {
    "scrolled": true
   },
   "outputs": [
    {
     "name": "stdout",
     "output_type": "stream",
     "text": [
      "\\begin{tabular}{|c|c|c|c|c|c|c|}\n",
      "\\hline\n",
      "Model &  Normal & Two-Step & Bootstrap & Bootstrap-TIC & Bootstrap-ND & Shi (2015) \\\\ \\hline \\hline\n",
      "No selection & 0.74 & 0.82 & 0.82 & 0.71 & 0.80 & 0.98   \\\\\n",
      "Model 1 & 0.00 & 0.00 & 0.00 & 0.00 & 0.00 & 0.01   \\\\\n",
      "Model 2 & 0.26 & 0.18 & 0.18 & 0.29 & 0.20 & 0.01   \\\\\n",
      "\\hline\n",
      "\\end{tabular}\n",
      "(array([0.736, 0.   , 0.264]), array([0.822, 0.   , 0.178]), array([0.816, 0.   , 0.184]), array([0.708, 0.004, 0.288]), array([0.796, 0.   , 0.204]), array([0.978, 0.012, 0.01 ]), -9.382195636494135, 6.062758006082917, 6.706405115128255)\n"
     ]
    }
   ],
   "source": [
    "nobs = 250\n",
    "\n",
    "setup_shi_ex  = lambda yn,xn: setup_shi(yn,xn,num_params=num_params)\n",
    "gen_data_ex = lambda : gen_data(nobs=250, a=a,  num_params=num_params)\n",
    "mc_out = vuong_tests_fast.monte_carlo(num_sims,gen_data_ex,setup_shi_ex,trials=trials,epsilon=epsilon,\n",
    "                                      data_tuned_epsilon=data_tuned_epsilon ,adapt_c = adapt_c,print_stuff=True)\n",
    "vuong_tests_fast.print_mc(mc_out)\n",
    "print(mc_out)"
   ]
  },
  {
   "cell_type": "markdown",
   "metadata": {},
   "source": [
    "# evidence of power"
   ]
  },
  {
   "cell_type": "code",
   "execution_count": 20,
   "metadata": {},
   "outputs": [
    {
     "name": "stdout",
     "output_type": "stream",
     "text": [
      "\\begin{tabular}{|c|c|c|c|c|c|c|}\n",
      "\\hline\n",
      "Model &  Normal & Two-Step & Bootstrap & Bootstrap-TIC & Bootstrap-ND & Shi (2015) \\\\ \\hline \\hline\n",
      "No selection & 0.97 & 0.98 & 0.97 & 0.78 & 0.97 & 0.65   \\\\\n",
      "Model 1 & 0.02 & 0.02 & 0.02 & 0.12 & 0.02 & 0.35   \\\\\n",
      "Model 2 & 0.01 & 0.00 & 0.01 & 0.10 & 0.01 & 0.00   \\\\\n",
      "\\hline\n",
      "\\end{tabular}\n",
      "(array([0.974, 0.02 , 0.006]), array([0.98, 0.02, 0.  ]), array([0.972, 0.018, 0.01 ]), array([0.782, 0.116, 0.102]), array([0.97 , 0.016, 0.014]), array([0.654, 0.346, 0.   ]), 1.561263189197256, 5.449753518721526, 6.2398805274551545)\n"
     ]
    }
   ],
   "source": [
    "nobs = 500\n",
    "\n",
    "a1,a2 = np.sqrt(1.09**.5-1), 0.00\n",
    "setup_shi_ex  = lambda yn,xn: setup_shi(yn,xn,num_params=num_params)\n",
    "gen_data_ex = lambda : gen_data2(nobs=nobs, a1=a1, a2=a2, num_params=num_params)\n",
    "mc_out = vuong_tests_fast.monte_carlo(num_sims,gen_data_ex,setup_shi_ex,trials=trials,epsilon=epsilon,\n",
    "                                      data_tuned_epsilon=data_tuned_epsilon ,adapt_c = adapt_c,print_stuff=True)\n",
    "vuong_tests_fast.print_mc(mc_out)\n",
    "print(mc_out)"
   ]
  },
  {
   "cell_type": "code",
   "execution_count": 21,
   "metadata": {
    "scrolled": true
   },
   "outputs": [
    {
     "name": "stdout",
     "output_type": "stream",
     "text": [
      "\\begin{tabular}{|c|c|c|c|c|c|c|}\n",
      "\\hline\n",
      "Model &  Normal & Two-Step & Bootstrap & Bootstrap-TIC & Bootstrap-ND & Shi (2015) \\\\ \\hline \\hline\n",
      "No selection & 0.97 & 1.00 & 0.96 & 0.91 & 0.95 & 0.67   \\\\\n",
      "Model 1 & 0.02 & 0.00 & 0.02 & 0.06 & 0.03 & 0.33   \\\\\n",
      "Model 2 & 0.01 & 0.00 & 0.02 & 0.04 & 0.02 & 0.00   \\\\\n",
      "\\hline\n",
      "\\end{tabular}\n",
      "(array([0.966, 0.02 , 0.014]), array([0.998, 0.   , 0.002]), array([0.964, 0.02 , 0.016]), array([0.906, 0.058, 0.036]), array([0.948, 0.034, 0.018]), array([0.666, 0.334, 0.   ]), 0.7015022131758277, 5.597971206422079, 5.821411145026151)\n"
     ]
    }
   ],
   "source": [
    "nobs = 100\n",
    "\n",
    "a1,a2 = np.sqrt(1.09**2.5-1), 0.00\n",
    "setup_shi_ex  = lambda yn,xn: setup_shi(yn,xn,num_params=num_params)\n",
    "gen_data_ex = lambda : gen_data2(nobs=nobs, a1=a1, a2=a2, num_params=num_params)\n",
    "mc_out = vuong_tests_fast.monte_carlo(num_sims,gen_data_ex,setup_shi_ex,trials=trials,epsilon=epsilon,\n",
    "                                      data_tuned_epsilon=data_tuned_epsilon ,adapt_c = adapt_c,print_stuff=True)\n",
    "vuong_tests_fast.print_mc(mc_out)\n",
    "print(mc_out)"
   ]
  },
  {
   "cell_type": "code",
   "execution_count": 22,
   "metadata": {},
   "outputs": [
    {
     "name": "stdout",
     "output_type": "stream",
     "text": [
      "\\begin{tabular}{|c|c|c|c|c|c|c|}\n",
      "\\hline\n",
      "Model &  Normal & Two-Step & Bootstrap & Bootstrap-TIC & Bootstrap-ND & Shi (2015) \\\\ \\hline \\hline\n",
      "No selection & 0.55 & 0.55 & 0.72 & 0.59 & 0.72 & 0.51   \\\\\n",
      "Model 1 & 0.45 & 0.45 & 0.28 & 0.39 & 0.28 & 0.49   \\\\\n",
      "Model 2 & 0.00 & 0.00 & 0.00 & 0.02 & 0.00 & 0.00   \\\\\n",
      "\\hline\n",
      "\\end{tabular}\n",
      "(array([0.55, 0.45, 0.  ]), array([0.55, 0.45, 0.  ]), array([0.716, 0.284, 0.   ]), array([0.59 , 0.394, 0.016]), array([0.718, 0.282, 0.   ]), array([0.508, 0.492, 0.   ]), 9.587474671644923, 4.859949266954477, 4.958298566153781)\n"
     ]
    }
   ],
   "source": [
    "nobs = 250\n",
    "\n",
    "a1,a2 = np.sqrt(1.09-1), 0.00\n",
    "setup_shi_ex  = lambda yn,xn: setup_shi(yn,xn,num_params=num_params)\n",
    "gen_data_ex = lambda : gen_data2(nobs=nobs, a1=a1, a2=a2, num_params=4)\n",
    "mc_out = vuong_tests_fast.monte_carlo(num_sims,gen_data_ex,setup_shi_ex,trials=trials,epsilon=epsilon,\n",
    "                                      data_tuned_epsilon=data_tuned_epsilon ,adapt_c = adapt_c,print_stuff=True)\n",
    "vuong_tests_fast.print_mc(mc_out)\n",
    "print(mc_out)"
   ]
  },
  {
   "cell_type": "code",
   "execution_count": 23,
   "metadata": {},
   "outputs": [
    {
     "name": "stdout",
     "output_type": "stream",
     "text": [
      "\\begin{tabular}{|c|c|c|c|c|c|c|}\n",
      "\\hline\n",
      "Model &  Normal & Two-Step & Bootstrap & Bootstrap-TIC & Bootstrap-ND & Shi (2015) \\\\ \\hline \\hline\n",
      "No selection & 0.97 & 0.98 & 0.96 & 0.83 & 0.95 & 0.67   \\\\\n",
      "Model 1 & 0.02 & 0.01 & 0.02 & 0.09 & 0.04 & 0.33   \\\\\n",
      "Model 2 & 0.01 & 0.00 & 0.02 & 0.08 & 0.02 & 0.00   \\\\\n",
      "\\hline\n",
      "\\end{tabular}\n",
      "(array([0.97 , 0.022, 0.008]), array([0.984, 0.014, 0.002]), array([0.958, 0.024, 0.018]), array([0.826, 0.094, 0.08 ]), array([0.946, 0.036, 0.018]), array([0.668, 0.332, 0.   ]), 1.140897144105283, 5.628927537689673, 6.169843478337177)\n"
     ]
    }
   ],
   "source": [
    "nobs = 250\n",
    "\n",
    "a1,a2 = np.sqrt(1.09-1), 0.00\n",
    "setup_shi_ex  = lambda yn,xn: setup_shi(yn,xn,num_params=num_params)\n",
    "gen_data_ex = lambda : gen_data2(nobs=nobs, a1=a1, a2=a2, num_params=19)\n",
    "mc_out = vuong_tests_fast.monte_carlo(num_sims,gen_data_ex,setup_shi_ex,trials=trials,epsilon=epsilon,\n",
    "                                      data_tuned_epsilon=data_tuned_epsilon ,adapt_c = adapt_c,print_stuff=True)\n",
    "vuong_tests_fast.print_mc(mc_out)\n",
    "print(mc_out)"
   ]
  },
  {
   "cell_type": "markdown",
   "metadata": {},
   "source": [
    "# evidence of power 2"
   ]
  },
  {
   "cell_type": "code",
   "execution_count": 24,
   "metadata": {},
   "outputs": [
    {
     "name": "stdout",
     "output_type": "stream",
     "text": [
      "\\begin{tabular}{|c|c|c|c|c|c|c|}\n",
      "\\hline\n",
      "Model &  Normal & Two-Step & Bootstrap & Bootstrap-TIC & Bootstrap-ND & Shi (2015) \\\\ \\hline \\hline\n",
      "No selection & 0.02 & 0.55 & 0.22 & 0.30 & 0.23 & 0.65   \\\\\n",
      "Model 1 & 0.00 & 0.00 & 0.00 & 0.00 & 0.00 & 0.00   \\\\\n",
      "Model 2 & 0.98 & 0.45 & 0.78 & 0.70 & 0.77 & 0.35   \\\\\n",
      "\\hline\n",
      "\\end{tabular}\n",
      "(array([0.022, 0.   , 0.978]), array([0.554, 0.   , 0.446]), array([0.22, 0.  , 0.78]), array([0.296, 0.002, 0.702]), array([0.234, 0.   , 0.766]), array([0.648, 0.   , 0.352]), -20.04355252758754, 5.806012741275091, 6.107575580044739)\n"
     ]
    }
   ],
   "source": [
    "nobs = 250\n",
    "\n",
    "\n",
    "a2,a1 = np.sqrt(1.09-1), 0.00\n",
    "setup_shi_ex  = lambda yn,xn: setup_shi(yn,xn,num_params=num_params)\n",
    "gen_data_ex = lambda : gen_data2(nobs=nobs, a1=a1, a2=a2, num_params=num_params)\n",
    "mc_out = vuong_tests_fast.monte_carlo(num_sims,gen_data_ex,setup_shi_ex,trials=trials,epsilon=epsilon,\n",
    "                                      data_tuned_epsilon=data_tuned_epsilon ,adapt_c = adapt_c,print_stuff=True)\n",
    "vuong_tests_fast.print_mc(mc_out)\n",
    "print(mc_out)"
   ]
  },
  {
   "cell_type": "code",
   "execution_count": 25,
   "metadata": {},
   "outputs": [
    {
     "name": "stdout",
     "output_type": "stream",
     "text": [
      "\\begin{tabular}{|c|c|c|c|c|c|c|}\n",
      "\\hline\n",
      "Model &  Normal & Two-Step & Bootstrap & Bootstrap-TIC & Bootstrap-ND & Shi (2015) \\\\ \\hline \\hline\n",
      "No selection & 0.01 & 0.35 & 0.34 & 0.42 & 0.36 & 0.67   \\\\\n",
      "Model 1 & 0.00 & 0.00 & 0.00 & 0.00 & 0.00 & 0.00   \\\\\n",
      "Model 2 & 0.99 & 0.65 & 0.66 & 0.58 & 0.64 & 0.33   \\\\\n",
      "\\hline\n",
      "\\end{tabular}\n",
      "(array([0.01, 0.  , 0.99]), array([0.35, 0.  , 0.65]), array([0.34, 0.  , 0.66]), array([0.42, 0.  , 0.58]), array([0.36, 0.  , 0.64]), array([0.666, 0.   , 0.334]), -20.317620601073695, 5.887114074280808, 6.292490839080534)\n"
     ]
    }
   ],
   "source": [
    "nobs = 500\n",
    "\n",
    "\n",
    "a2,a1 = np.sqrt(1.09**.5-1), 0.00\n",
    "setup_shi_ex  = lambda yn,xn: setup_shi(yn,xn,num_params=num_params)\n",
    "gen_data_ex = lambda : gen_data2(nobs=nobs, a1=a1, a2=a2, num_params=num_params)\n",
    "mc_out = vuong_tests_fast.monte_carlo(num_sims,gen_data_ex,setup_shi_ex,trials=trials,epsilon=epsilon,\n",
    "                                      data_tuned_epsilon=data_tuned_epsilon ,adapt_c = adapt_c,print_stuff=True)\n",
    "vuong_tests_fast.print_mc(mc_out)\n",
    "print(mc_out)"
   ]
  },
  {
   "cell_type": "code",
   "execution_count": 26,
   "metadata": {},
   "outputs": [
    {
     "name": "stdout",
     "output_type": "stream",
     "text": [
      "\\begin{tabular}{|c|c|c|c|c|c|c|}\n",
      "\\hline\n",
      "Model &  Normal & Two-Step & Bootstrap & Bootstrap-TIC & Bootstrap-ND & Shi (2015) \\\\ \\hline \\hline\n",
      "No selection & 0.01 & 0.93 & 0.03 & 0.11 & 0.06 & 0.54   \\\\\n",
      "Model 1 & 0.00 & 0.00 & 0.00 & 0.00 & 0.00 & 0.00   \\\\\n",
      "Model 2 & 0.99 & 0.07 & 0.97 & 0.89 & 0.94 & 0.46   \\\\\n",
      "\\hline\n",
      "\\end{tabular}\n",
      "(array([0.006, 0.   , 0.994]), array([0.932, 0.   , 0.068]), array([0.034, 0.   , 0.966]), array([0.106, 0.   , 0.894]), array([0.058, 0.   , 0.942]), array([0.54, 0.  , 0.46]), -21.090882617928308, 5.296335712558832, 5.796206962932405)\n"
     ]
    }
   ],
   "source": [
    "nobs = 100\n",
    "\n",
    "\n",
    "a2,a1 =np.sqrt(1.09**2.5-1), 0.00\n",
    "setup_shi_ex  = lambda yn,xn: setup_shi(yn,xn,num_params=num_params)\n",
    "gen_data_ex = lambda : gen_data2(nobs=nobs, a1=a1, a2=a2, num_params=num_params)\n",
    "mc_out = vuong_tests_fast.monte_carlo(num_sims,gen_data_ex,setup_shi_ex,trials=trials,epsilon=epsilon,\n",
    "                                      data_tuned_epsilon=data_tuned_epsilon ,adapt_c = adapt_c,print_stuff=True)\n",
    "vuong_tests_fast.print_mc(mc_out)\n",
    "print(mc_out)"
   ]
  },
  {
   "cell_type": "code",
   "execution_count": 27,
   "metadata": {},
   "outputs": [
    {
     "name": "stdout",
     "output_type": "stream",
     "text": [
      "\\begin{tabular}{|c|c|c|c|c|c|c|}\n",
      "\\hline\n",
      "Model &  Normal & Two-Step & Bootstrap & Bootstrap-TIC & Bootstrap-ND & Shi (2015) \\\\ \\hline \\hline\n",
      "No selection & 0.21 & 0.22 & 0.53 & 0.49 & 0.52 & 0.53   \\\\\n",
      "Model 1 & 0.00 & 0.00 & 0.00 & 0.01 & 0.00 & 0.00   \\\\\n",
      "Model 2 & 0.79 & 0.78 & 0.47 & 0.49 & 0.48 & 0.47   \\\\\n",
      "\\hline\n",
      "\\end{tabular}\n",
      "(array([0.21, 0.  , 0.79]), array([0.218, 0.   , 0.782]), array([0.532, 0.   , 0.468]), array([0.492, 0.014, 0.494]), array([0.524, 0.   , 0.476]), array([0.532, 0.   , 0.468]), -12.28367169061438, 4.91745708003817, 4.901763286218437)\n"
     ]
    }
   ],
   "source": [
    "nobs = 250\n",
    "\n",
    "\n",
    "a2,a1 = np.sqrt(1.09-1), 0.00\n",
    "setup_shi_ex  = lambda yn,xn: setup_shi(yn,xn,num_params=num_params)\n",
    "gen_data_ex = lambda : gen_data2(nobs=250, a1=a1, a2=a2, num_params=4)\n",
    "mc_out = vuong_tests_fast.monte_carlo(num_sims,gen_data_ex,setup_shi_ex,trials=trials,epsilon=epsilon,\n",
    "                                      data_tuned_epsilon=data_tuned_epsilon ,adapt_c = adapt_c,print_stuff=True)\n",
    "vuong_tests_fast.print_mc(mc_out)\n",
    "print(mc_out)"
   ]
  },
  {
   "cell_type": "code",
   "execution_count": 28,
   "metadata": {},
   "outputs": [
    {
     "name": "stdout",
     "output_type": "stream",
     "text": [
      "\\begin{tabular}{|c|c|c|c|c|c|c|}\n",
      "\\hline\n",
      "Model &  Normal & Two-Step & Bootstrap & Bootstrap-TIC & Bootstrap-ND & Shi (2015) \\\\ \\hline \\hline\n",
      "No selection & 0.02 & 0.56 & 0.21 & 0.26 & 0.20 & 0.63   \\\\\n",
      "Model 1 & 0.00 & 0.00 & 0.00 & 0.00 & 0.00 & 0.00   \\\\\n",
      "Model 2 & 0.98 & 0.44 & 0.79 & 0.74 & 0.80 & 0.37   \\\\\n",
      "\\hline\n",
      "\\end{tabular}\n",
      "(array([0.024, 0.   , 0.976]), array([0.556, 0.   , 0.444]), array([0.208, 0.   , 0.792]), array([0.26, 0.  , 0.74]), array([0.196, 0.   , 0.804]), array([0.632, 0.   , 0.368]), -20.30676375282023, 6.029274151134176, 6.176983867465149)\n"
     ]
    }
   ],
   "source": [
    "nobs = 250\n",
    "\n",
    "\n",
    "a2,a1 = np.sqrt(1.09-1), 0.00\n",
    "setup_shi_ex  = lambda yn,xn: setup_shi(yn,xn,num_params=num_params)\n",
    "gen_data_ex = lambda : gen_data2(nobs=nobs, a1=a1, a2=a2, num_params=19)\n",
    "mc_out = vuong_tests_fast.monte_carlo(num_sims,gen_data_ex,setup_shi_ex,trials=trials,epsilon=epsilon,\n",
    "                                      data_tuned_epsilon=data_tuned_epsilon ,adapt_c = adapt_c,print_stuff=True)\n",
    "vuong_tests_fast.print_mc(mc_out)\n",
    "print(mc_out)"
   ]
  },
  {
   "cell_type": "code",
   "execution_count": null,
   "metadata": {},
   "outputs": [],
   "source": []
  },
  {
   "cell_type": "code",
   "execution_count": null,
   "metadata": {},
   "outputs": [],
   "source": []
  },
  {
   "cell_type": "code",
   "execution_count": null,
   "metadata": {},
   "outputs": [],
   "source": []
  }
 ],
 "metadata": {
  "kernelspec": {
   "display_name": "Python 3 (ipykernel)",
   "language": "python",
   "name": "python3"
  },
  "language_info": {
   "codemirror_mode": {
    "name": "ipython",
    "version": 3
   },
   "file_extension": ".py",
   "mimetype": "text/x-python",
   "name": "python",
   "nbconvert_exporter": "python",
   "pygments_lexer": "ipython3",
   "version": "3.10.9"
  }
 },
 "nbformat": 4,
 "nbformat_minor": 2
}
