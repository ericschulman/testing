{
 "cells": [
  {
   "cell_type": "code",
   "execution_count": 1,
   "id": "f4477e04",
   "metadata": {},
   "outputs": [],
   "source": [
    "%load_ext autoreload\n",
    "%autoreload 2\n",
    "\n",
    "from statsmodels.base.model import GenericLikelihoodModel\n",
    "\n",
    "import numpy as np\n",
    "import pandas as pd\n",
    "import matplotlib.pyplot as plt\n",
    "import statsmodels.api as sm\n",
    "import scipy.stats as stats\n",
    "import sys\n",
    "import re\n",
    "\n",
    "from scipy.interpolate import make_interp_spline, BSpline\n",
    "from scipy.stats import multivariate_normal\n",
    "\n",
    "sys.path.append(\"../\")\n",
    "import vuong_tests11 as vuong_tests_fast"
   ]
  },
  {
   "cell_type": "code",
   "execution_count": 2,
   "id": "e5668dc3",
   "metadata": {},
   "outputs": [
    {
     "name": "stdout",
     "output_type": "stream",
     "text": [
      "(1000, 2) (2, 2)\n"
     ]
    }
   ],
   "source": [
    "class OLS_loglike(GenericLikelihoodModel):\n",
    "    \n",
    "    def __init__(self, *args,ols=False, **kwargs):\n",
    "        super(OLS_loglike,self).__init__(*args,**kwargs)\n",
    "        self.ols = ols\n",
    "\n",
    "    def loglikeobs(self, params):\n",
    "        y = self.endog\n",
    "        x = self.exog\n",
    "        mu_y = np.matmul(x,params)  \n",
    "        resid = y - mu_y\n",
    "        sigma = np.sqrt(np.sum(resid**2)/resid.shape[0])\n",
    "        pr_y = stats.norm.logpdf( resid, loc=0,scale=sigma )\n",
    "        return pr_y\n",
    "\n",
    "\n",
    "def setup_shi(yn,xn,return_model=False,num_params=4):\n",
    "    x1n,x2n = xn[:,0],xn[:,1:num_params+1]\n",
    "    \n",
    "    # model 1 grad, etc.\n",
    "    model1 = sm.OLS(yn,sm.add_constant(x1n))\n",
    "    model1_fit = model1.fit(disp=False)\n",
    "    params1 = (model1_fit.params)\n",
    "    \n",
    "    model1_deriv = OLS_loglike(yn,sm.add_constant(x1n))\n",
    "    ll1 = model1_deriv.loglikeobs(model1_fit.params)\n",
    "    grad1 =  model1_deriv.score_obs(model1_fit.params)    \n",
    "    hess1 = model1_deriv.hessian(model1_fit.params)\n",
    "    \n",
    "    #model 2 grad, etc.\n",
    "    model2 = sm.OLS(yn,sm.add_constant(x2n))\n",
    "    model2_fit = model2.fit(disp=False)\n",
    "    params2 = (model2_fit.params)\n",
    "    \n",
    "    model2_deriv = OLS_loglike(yn,sm.add_constant(x2n))\n",
    "    ll2 = model2_deriv.loglikeobs(model2_fit.params)\n",
    "    grad2 =  model2_deriv.score_obs(model2_fit.params)    \n",
    "    hess2 = model2_deriv.hessian(model2_fit.params)\n",
    "    \n",
    "    if return_model:\n",
    "        return ll1,grad1,hess1,params1,model1,ll2,grad2,hess2,params2,model2\n",
    "    return ll1,grad1,hess1,params1,ll2,grad2,hess2,params2\n",
    "\n",
    "\n",
    "def gen_data(nobs=1000, a=0.25, num_params=4):\n",
    "    x = np.random.normal(scale=1., size=(nobs,1+num_params))\n",
    "    e = np.random.normal(loc=0.0, scale=1.0, size=nobs)\n",
    "    y = 1 + a*x[:,0] + a/np.sqrt(num_params)*x[:,1:num_params+1].sum(axis=1) + e\n",
    "    return y,x,nobs\n",
    "\n",
    "yn,xn,nobs = gen_data()\n",
    "ll1,grad1,hess1,params1,ll2,grad2,hess2,params2 = setup_shi(yn,xn,return_model=False,num_params=15)\n",
    "print(grad1.shape,hess1.shape)"
   ]
  },
  {
   "cell_type": "code",
   "execution_count": 3,
   "id": "b0be3d7c",
   "metadata": {},
   "outputs": [],
   "source": [
    "num_sims = 1000\n",
    "trials =1000\n",
    "adapt_c = True\n",
    "data_tuned_epsilon = False\n",
    "epsilon = .01"
   ]
  },
  {
   "cell_type": "code",
   "execution_count": 4,
   "id": "eda3e846",
   "metadata": {},
   "outputs": [],
   "source": [
    "def get_size_vector(mc_out):\n",
    "    \"\"\"\n",
    "    Returns the size (rejection probability under the null) for each method,\n",
    "    using your print order:\n",
    "      Normal, Two-Step, SW Test, Naive Bootstrap, Pairwise Bootstrap, Shi (2015)\n",
    "    \"\"\"\n",
    "    # Unpack\n",
    "    reg, twostep, sw, boot1, boot2, sw_test_opt, boot3, shi = mc_out[:8]\n",
    "    # Take 1 - (no selection rate)\n",
    "    size_vec = [\n",
    "        1 - reg[0],\n",
    "        1 - twostep[0],\n",
    "        1 - sw[0],\n",
    "        1 - boot1[0],\n",
    "        1 - boot3[0],   # boot3=Pairwise, boot1=Naive\n",
    "        1 - shi[0],\n",
    "    ]\n",
    "    return size_vec\n",
    "\n",
    "def run_null_size_table(sample_sizes, num_sims, trials, epsilon, data_tuned_epsilon, adapt_c,alpha=.05,\n",
    "                        gen_data=gen_data, num_params=4):\n",
    "    table = []\n",
    "    for nobs in sample_sizes:\n",
    "        setup_shi_ex = lambda yn,xn: setup_shi(yn,xn)\n",
    "        gen_data_ex = lambda : gen_data(nobs=nobs, num_params=num_params)\n",
    "        mc_out = vuong_tests_fast.monte_carlo(\n",
    "            num_sims,\n",
    "            gen_data,\n",
    "            setup_shi_ex,\n",
    "            trials=trials,\n",
    "            epsilon=epsilon,\n",
    "            data_tuned_epsilon = data_tuned_epsilon,\n",
    "            adapt_c = adapt_c,\n",
    "            print_stuff=False, alpha=alpha\n",
    "        )\n",
    "        size_vec = get_size_vector(mc_out)\n",
    "        table.append([nobs] + [f\"{x:.3f}\" for x in size_vec])\n",
    "    # Print as LaTeX table\n",
    "    print(r'\\begin{tabular}{|c|c|c|c|c|c|c|}')\n",
    "    print(r'\\hline')\n",
    "    print(r'Model &  Normal & Two-Step & SW Test & Naive Bootstrap & Pairwise Bootstrap & Shi (2015) \\\\ \\hline \\hline')\n",
    "    for row in table:\n",
    "        print(' & '.join(str(y) for y in row)+r' \\\\')\n",
    "    print(r'\\hline')\n",
    "    print(r'\\end{tabular}')\n",
    "    return table"
   ]
  },
  {
   "cell_type": "markdown",
   "id": "894ddbfe",
   "metadata": {},
   "source": [
    "# original example from the paper"
   ]
  },
  {
   "cell_type": "code",
   "execution_count": 5,
   "id": "65d85e5a",
   "metadata": {},
   "outputs": [
    {
     "name": "stdout",
     "output_type": "stream",
     "text": [
      "\\begin{tabular}{|c|c|c|c|c|c|c|}\n",
      "\\hline\n",
      "Model &  Normal & Two-Step & SW Test & Naive Bootstrap & Pairwise Bootstrap & Shi (2015) \\\\ \\hline \\hline\n",
      "100 & 0.045 & 0.045 & 0.044 & 0.027 & 0.000 & 0.030 \\\\\n",
      "200 & 0.041 & 0.041 & 0.040 & 0.021 & 0.000 & 0.024 \\\\\n",
      "500 & 0.046 & 0.046 & 0.045 & 0.023 & 0.000 & 0.030 \\\\\n",
      "\\hline\n",
      "\\end{tabular}\n",
      "[[100, '0.045', '0.045', '0.044', '0.027', '0.000', '0.030'], [200, '0.041', '0.041', '0.040', '0.021', '0.000', '0.024'], [500, '0.046', '0.046', '0.045', '0.023', '0.000', '0.030']]\n"
     ]
    }
   ],
   "source": [
    "# Set your globals as needed\n",
    "sample_sizes = [100, 200, 500]\n",
    "table = run_null_size_table(\n",
    "    sample_sizes=sample_sizes,\n",
    "    num_sims=num_sims,                  # you set this already\n",
    "    trials=trials,                      # you set this already\n",
    "    epsilon=epsilon,\n",
    "    data_tuned_epsilon=data_tuned_epsilon,\n",
    "    adapt_c=adapt_c,alpha=.05\n",
    ")\n",
    "\n",
    "print(table)"
   ]
  },
  {
   "cell_type": "code",
   "execution_count": 6,
   "id": "45385cec",
   "metadata": {},
   "outputs": [
    {
     "name": "stdout",
     "output_type": "stream",
     "text": [
      "\\begin{tabular}{|c|c|c|c|c|c|c|}\n",
      "\\hline\n",
      "Model &  Normal & Two-Step & SW Test & Naive Bootstrap & Pairwise Bootstrap & Shi (2015) \\\\ \\hline \\hline\n",
      "100 & 0.023 & 0.023 & 0.023 & 0.013 & 0.000 & 0.014 \\\\\n",
      "200 & 0.020 & 0.020 & 0.018 & 0.007 & 0.000 & 0.009 \\\\\n",
      "500 & 0.027 & 0.027 & 0.027 & 0.017 & 0.000 & 0.016 \\\\\n",
      "\\hline\n",
      "\\end{tabular}\n",
      "[[100, '0.023', '0.023', '0.023', '0.013', '0.000', '0.014'], [200, '0.020', '0.020', '0.018', '0.007', '0.000', '0.009'], [500, '0.027', '0.027', '0.027', '0.017', '0.000', '0.016']]\n"
     ]
    }
   ],
   "source": [
    "# Set your globals as needed\n",
    "table = run_null_size_table(\n",
    "    sample_sizes=sample_sizes,\n",
    "    num_sims=num_sims,                  # you set this already\n",
    "    trials=trials,                      # you set this already\n",
    "    epsilon=epsilon,\n",
    "    data_tuned_epsilon=data_tuned_epsilon,\n",
    "    adapt_c=adapt_c,alpha=.025\n",
    ")\n",
    "\n",
    "print(table)"
   ]
  },
  {
   "cell_type": "code",
   "execution_count": 7,
   "id": "33d111ab",
   "metadata": {},
   "outputs": [
    {
     "name": "stdout",
     "output_type": "stream",
     "text": [
      "\\begin{tabular}{|c|c|c|c|c|c|c|}\n",
      "\\hline\n",
      "Model &  Normal & Two-Step & SW Test & Naive Bootstrap & Pairwise Bootstrap & Shi (2015) \\\\ \\hline \\hline\n",
      "100 & 0.007 & 0.007 & 0.008 & 0.004 & 0.000 & 0.003 \\\\\n",
      "200 & 0.013 & 0.013 & 0.013 & 0.008 & 0.000 & 0.007 \\\\\n",
      "500 & 0.010 & 0.010 & 0.010 & 0.007 & 0.000 & 0.005 \\\\\n",
      "\\hline\n",
      "\\end{tabular}\n",
      "[[100, '0.007', '0.007', '0.008', '0.004', '0.000', '0.003'], [200, '0.013', '0.013', '0.013', '0.008', '0.000', '0.007'], [500, '0.010', '0.010', '0.010', '0.007', '0.000', '0.005']]\n"
     ]
    }
   ],
   "source": [
    "# Set your globals as needed\n",
    "table = run_null_size_table(\n",
    "    sample_sizes=sample_sizes,\n",
    "    num_sims=num_sims,                  # you set this already\n",
    "    trials=trials,                      # you set this already\n",
    "    epsilon=epsilon,\n",
    "    data_tuned_epsilon=data_tuned_epsilon,\n",
    "    adapt_c=adapt_c,alpha=.01\n",
    ")\n",
    "\n",
    "print(table)"
   ]
  },
  {
   "cell_type": "markdown",
   "id": "d25350fe",
   "metadata": {},
   "source": [
    " # Power examples?"
   ]
  },
  {
   "cell_type": "code",
   "execution_count": 8,
   "id": "d1c87af6",
   "metadata": {},
   "outputs": [],
   "source": [
    "def gen_data2(nobs=1000, a1=np.sqrt(1.09-1), a2=0.00 , num_params=19):\n",
    "    x = np.random.normal(scale=1., size=(nobs,1+num_params))\n",
    "    e = np.random.normal(loc=0.0, scale=1.0, size=nobs)\n",
    "    y = 1 + a1*x[:,0] + a2/np.sqrt(num_params)*x[:,1:num_params+1].sum(axis=1) + e\n",
    "    return y,x,nobs"
   ]
  },
  {
   "cell_type": "code",
   "execution_count": 9,
   "id": "d03ab82d",
   "metadata": {},
   "outputs": [
    {
     "name": "stdout",
     "output_type": "stream",
     "text": [
      "\\begin{tabular}{|c|c|c|c|c|c|c|}\n",
      "\\hline\n",
      "Model &  Normal & Two-Step & SW Test & Naive Bootstrap & Pairwise Bootstrap & Shi (2015) \\\\ \\hline \\hline\n",
      "100 & 1.000 & 1.000 & 1.000 & 1.000 & 0.000 & 1.000 \\\\\n",
      "200 & 1.000 & 1.000 & 1.000 & 1.000 & 0.000 & 0.999 \\\\\n",
      "500 & 1.000 & 1.000 & 1.000 & 0.998 & 0.000 & 1.000 \\\\\n",
      "\\hline\n",
      "\\end{tabular}\n",
      "[[100, '1.000', '1.000', '1.000', '1.000', '0.000', '1.000'], [200, '1.000', '1.000', '1.000', '1.000', '0.000', '0.999'], [500, '1.000', '1.000', '1.000', '0.998', '0.000', '1.000']]\n"
     ]
    }
   ],
   "source": [
    "# Set your globals as needed\n",
    "sample_sizes = [100, 200, 500]\n",
    "table = run_null_size_table(\n",
    "    sample_sizes=sample_sizes,\n",
    "    num_sims=num_sims,                  # you set this already\n",
    "    trials=trials,                      # you set this already\n",
    "    epsilon=epsilon,\n",
    "    data_tuned_epsilon=data_tuned_epsilon,\n",
    "    adapt_c=adapt_c,alpha=.05, gen_data=gen_data2\n",
    ")\n",
    "\n",
    "print(table)"
   ]
  },
  {
   "cell_type": "code",
   "execution_count": 10,
   "id": "45bea780",
   "metadata": {},
   "outputs": [
    {
     "name": "stdout",
     "output_type": "stream",
     "text": [
      "\\begin{tabular}{|c|c|c|c|c|c|c|}\n",
      "\\hline\n",
      "Model &  Normal & Two-Step & SW Test & Naive Bootstrap & Pairwise Bootstrap & Shi (2015) \\\\ \\hline \\hline\n",
      "100 & 1.000 & 1.000 & 1.000 & 0.999 & 0.000 & 1.000 \\\\\n",
      "200 & 1.000 & 1.000 & 1.000 & 1.000 & 0.000 & 1.000 \\\\\n",
      "500 & 1.000 & 1.000 & 1.000 & 1.000 & 0.000 & 1.000 \\\\\n",
      "\\hline\n",
      "\\end{tabular}\n",
      "[[100, '1.000', '1.000', '1.000', '0.999', '0.000', '1.000'], [200, '1.000', '1.000', '1.000', '1.000', '0.000', '1.000'], [500, '1.000', '1.000', '1.000', '1.000', '0.000', '1.000']]\n"
     ]
    }
   ],
   "source": [
    "# Set your globals as needed\n",
    "table = run_null_size_table(\n",
    "    sample_sizes=sample_sizes,\n",
    "    num_sims=num_sims,                  # you set this already\n",
    "    trials=trials,                      # you set this already\n",
    "    epsilon=epsilon,\n",
    "    data_tuned_epsilon=data_tuned_epsilon,\n",
    "    adapt_c=adapt_c,alpha=.025, gen_data=gen_data2\n",
    ")\n",
    "\n",
    "print(table)"
   ]
  },
  {
   "cell_type": "code",
   "execution_count": 11,
   "id": "f9173983",
   "metadata": {},
   "outputs": [
    {
     "name": "stdout",
     "output_type": "stream",
     "text": [
      "\\begin{tabular}{|c|c|c|c|c|c|c|}\n",
      "\\hline\n",
      "Model &  Normal & Two-Step & SW Test & Naive Bootstrap & Pairwise Bootstrap & Shi (2015) \\\\ \\hline \\hline\n",
      "100 & 0.997 & 0.997 & 0.996 & 0.994 & 0.000 & 0.995 \\\\\n",
      "200 & 0.997 & 0.997 & 0.997 & 0.993 & 0.000 & 0.997 \\\\\n",
      "500 & 0.999 & 0.999 & 0.997 & 0.994 & 0.000 & 0.996 \\\\\n",
      "\\hline\n",
      "\\end{tabular}\n",
      "[[100, '0.997', '0.997', '0.996', '0.994', '0.000', '0.995'], [200, '0.997', '0.997', '0.997', '0.993', '0.000', '0.997'], [500, '0.999', '0.999', '0.997', '0.994', '0.000', '0.996']]\n"
     ]
    }
   ],
   "source": [
    "# Set your globals as needed\n",
    "table = run_null_size_table(\n",
    "    sample_sizes=sample_sizes,\n",
    "    num_sims=num_sims,                  # you set this already\n",
    "    trials=trials,                      # you set this already\n",
    "    epsilon=epsilon,\n",
    "    data_tuned_epsilon=data_tuned_epsilon,\n",
    "    adapt_c=adapt_c,alpha=.01, gen_data=gen_data2\n",
    ")\n",
    "\n",
    "print(table)"
   ]
  }
 ],
 "metadata": {
  "kernelspec": {
   "display_name": "Python 3 (ipykernel)",
   "language": "python",
   "name": "python3"
  },
  "language_info": {
   "codemirror_mode": {
    "name": "ipython",
    "version": 3
   },
   "file_extension": ".py",
   "mimetype": "text/x-python",
   "name": "python",
   "nbconvert_exporter": "python",
   "pygments_lexer": "ipython3",
   "version": "3.10.9"
  }
 },
 "nbformat": 4,
 "nbformat_minor": 5
}
