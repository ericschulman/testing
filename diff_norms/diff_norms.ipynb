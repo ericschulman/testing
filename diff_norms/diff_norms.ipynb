{
 "cells": [
  {
   "cell_type": "code",
   "execution_count": 1,
   "id": "5248b94d",
   "metadata": {},
   "outputs": [],
   "source": [
    "%load_ext autoreload\n",
    "%autoreload 2\n",
    "\n",
    "import numpy as np\n",
    "import matplotlib.pyplot as plt\n",
    "import statsmodels.api as sm\n",
    "from statsmodels.base.model import GenericLikelihoodModel\n",
    "import scipy.stats as stats\n",
    "import sys\n",
    "\n",
    "sys.path.append(\"../\")\n",
    "import vuong_tests5"
   ]
  },
  {
   "cell_type": "code",
   "execution_count": 2,
   "id": "f21975b3",
   "metadata": {},
   "outputs": [],
   "source": [
    "class OLS_loglike(GenericLikelihoodModel):\n",
    "    \n",
    "    def __init__(self, *args,ols=False, **kwargs):\n",
    "        super(OLS_loglike,self).__init__(*args,**kwargs)\n",
    "        self.ols = ols\n",
    "\n",
    "    def loglikeobs(self, params):\n",
    "        y = self.endog\n",
    "        x = self.exog\n",
    "        mu_y = np.matmul(x,params)  \n",
    "        resid = y - mu_y\n",
    "        sigma = np.sqrt(np.sum(resid**2)/resid.shape[0])\n",
    "        pr_y = stats.norm.logpdf( resid, loc=0,scale=sigma )\n",
    "        return pr_y"
   ]
  },
  {
   "cell_type": "code",
   "execution_count": 3,
   "id": "376c14fa",
   "metadata": {},
   "outputs": [],
   "source": [
    "def setup_model(yn,xn):\n",
    "    \"\"\"setup models for ease\"\"\"\n",
    "    model1 = sm.OLS(yn,sm.add_constant(xn))\n",
    "    model1_fit = model1.fit(disp=False)\n",
    "    params1 = (model1_fit.params)\n",
    "    model1_deriv = OLS_loglike(yn,sm.add_constant(xn))\n",
    "    ll1 = model1_deriv.loglikeobs(model1_fit.params)\n",
    "    grad1 =  model1_deriv.score_obs(model1_fit.params)    \n",
    "    hess1 = model1_deriv.hessian(model1_fit.params)\n",
    "    return ll1,grad1,hess1,params1,model1_fit.resid\n",
    "\n",
    "\n",
    "def setup_test(yn,xn):\n",
    "    lls = []\n",
    "    grads = []\n",
    "    hesss = []\n",
    "    params = []\n",
    "    resids = []\n",
    "    for i in range(xn.shape[1]):\n",
    "        ll,grad,hess,param,resid = setup_model(yn,xn[:,i])\n",
    "        lls.append(ll)\n",
    "        grads.append(grad)\n",
    "        hesss.append(hess)\n",
    "        params.append(param)\n",
    "        resids.append(resid)\n",
    "    \n",
    "    #determine 1 and 2\n",
    "    ind1 = 0\n",
    "    ind2 = 1\n",
    "    return (lls[ind1],grads[ind1],hesss[ind1],params[ind1],resids[ind1],\n",
    "            lls[ind2],grads[ind2],hesss[ind2],params[ind2],resids[ind2])\n",
    "\n",
    "def gen_data(nobs=1000, a=0.25):\n",
    "    num_params=2\n",
    "    x = np.random.normal(scale=1., size=(nobs,num_params))\n",
    "    e = np.random.normal(loc=0.0, scale=1.0, size=nobs)\n",
    "    y = 1 + a*x.sum(axis=1) + e\n",
    "    return y,x,nobs\n",
    "\n",
    "\n",
    "yn,xn,nobs = gen_data()"
   ]
  },
  {
   "cell_type": "code",
   "execution_count": 5,
   "id": "5b0a0e08",
   "metadata": {},
   "outputs": [],
   "source": [
    "def test_mse(resid1,resid2):\n",
    "    nobs = resid1.shape[0]\n",
    "    llr = (resid1 - resid2).sum()\n",
    "    omega = np.sqrt((resid1 - resid2).var())\n",
    "    test_stat = llr/(omega*np.sqrt(nobs))\n",
    "    return 1*(test_stat >= 1.96) + 2*( test_stat <= -1.96)\n"
   ]
  },
  {
   "cell_type": "code",
   "execution_count": 6,
   "id": "14423746",
   "metadata": {},
   "outputs": [],
   "source": [
    "def monte_carlo(total,gen_data,setup_test,trials=100):\n",
    "    reg = np.array([0, 0 ,0])\n",
    "    mse = np.array([0, 0 ,0])\n",
    "    omega = 0\n",
    "    llr = 0\n",
    "    var = 0\n",
    "\n",
    "    for i in range(total):\n",
    "        \n",
    "        #setup data\n",
    "        np.random.seed()\n",
    "        yn,xn,nobs = gen_data()\n",
    "        \n",
    "        #update llr and summary stats\n",
    "        ll1,grad1,hess1,params1,resid1,ll2,grad2,hess2,params2,resid2 = setup_test(yn,xn)\n",
    "        llrn = (ll1 - ll2).sum()\n",
    "        omegan = np.sqrt( (ll1 -ll2).var())\n",
    "        llr = llr +llrn\n",
    "        var = llrn**2 + var\n",
    "        omega = omega +omegan\n",
    "    \n",
    "        reg_index = vuong_tests5.two_step_test(ll1,grad1,hess1,params1,ll2,grad2,hess2,params2,biascorrect=True)\n",
    "        mse_index = test_mse(resid1,resid2)\n",
    "        \n",
    "        reg[reg_index] = reg[reg_index] + 1\n",
    "        mse[mse_index] = mse[mse_index] + 1\n",
    "\n",
    "    return  reg/total,llr/total,np.sqrt( (var/total-(llr/total)**2) ),omega*np.sqrt(nobs)/total\n",
    "\n"
   ]
  },
  {
   "cell_type": "code",
   "execution_count": 7,
   "id": "f95a5e0e",
   "metadata": {},
   "outputs": [
    {
     "name": "stdout",
     "output_type": "stream",
     "text": [
      "(array([1., 0., 0.]), 0.09412410994557613, 0.9539511845917473, 1.2749006810181063)\n"
     ]
    }
   ],
   "source": [
    "gen_data_ex = lambda : gen_data(nobs=1000, a=0.0)\n",
    "print(monte_carlo(100,gen_data_ex,setup_test))"
   ]
  },
  {
   "cell_type": "code",
   "execution_count": 8,
   "id": "5e58f779",
   "metadata": {},
   "outputs": [
    {
     "name": "stdout",
     "output_type": "stream",
     "text": [
      "(array([0.92, 0.04, 0.04]), -0.9077468985519533, 12.141613992523407, 10.811306759020376)\n"
     ]
    }
   ],
   "source": [
    "gen_data_ex = lambda : gen_data(nobs=1000, a=0.25)\n",
    "print(monte_carlo(100,gen_data_ex,setup_test))"
   ]
  },
  {
   "cell_type": "code",
   "execution_count": 9,
   "id": "dbef4cd2",
   "metadata": {},
   "outputs": [
    {
     "name": "stdout",
     "output_type": "stream",
     "text": [
      "(array([0.91, 0.04, 0.05]), -0.7468823350473586, 20.643357714632806, 18.946219345379873)\n"
     ]
    }
   ],
   "source": [
    "gen_data_ex = lambda : gen_data(nobs=1000, a=0.5)\n",
    "print(monte_carlo(100,gen_data_ex,setup_test))"
   ]
  },
  {
   "cell_type": "markdown",
   "id": "57ca70b1",
   "metadata": {},
   "source": [
    "# Power!"
   ]
  },
  {
   "cell_type": "code",
   "execution_count": 10,
   "id": "40d2e0c3",
   "metadata": {},
   "outputs": [],
   "source": [
    "def gen_data2(nobs=1000, a=0.25, scaler = .1):\n",
    "    num_params=2\n",
    "    x = np.random.normal(scale=1., size=(nobs,num_params))\n",
    "    e = np.random.normal(loc=0.0, scale=1.0, size=nobs)\n",
    "    y = 1 + a*scaler*x[:,0] + a*x.sum(axis=1) + e \n",
    "    return y,x,nobs"
   ]
  },
  {
   "cell_type": "code",
   "execution_count": 11,
   "id": "852845ce",
   "metadata": {},
   "outputs": [
    {
     "name": "stdout",
     "output_type": "stream",
     "text": [
      "(array([0.9 , 0.09, 0.01]), 7.10739770779956, 11.42884648851332, 11.380367142485161)\n"
     ]
    }
   ],
   "source": [
    "gen_data_ex = lambda : gen_data2(nobs=1000, a=0.25, scaler= .1)\n",
    "print(monte_carlo(100,gen_data_ex,setup_test))"
   ]
  },
  {
   "cell_type": "code",
   "execution_count": 12,
   "id": "b82f68de",
   "metadata": {},
   "outputs": [
    {
     "name": "stdout",
     "output_type": "stream",
     "text": [
      "(array([0.16, 0.84, 0.  ]), 36.49953658257475, 12.744943531733004, 13.132482887067583)\n"
     ]
    }
   ],
   "source": [
    "gen_data_ex = lambda : gen_data2(nobs=1000, a=0.25, scaler= .5)\n",
    "print(monte_carlo(100,gen_data_ex,setup_test))"
   ]
  },
  {
   "cell_type": "code",
   "execution_count": 13,
   "id": "4b72c517",
   "metadata": {},
   "outputs": [
    {
     "name": "stdout",
     "output_type": "stream",
     "text": [
      "(array([0., 1., 0.]), 84.09649420286321, 16.24097372127015, 15.797623424417226)\n"
     ]
    }
   ],
   "source": [
    "gen_data_ex = lambda : gen_data2(nobs=1000, a=0.25, scaler= 1)\n",
    "print(monte_carlo(100,gen_data_ex,setup_test))"
   ]
  },
  {
   "cell_type": "code",
   "execution_count": null,
   "id": "26f77ef1",
   "metadata": {},
   "outputs": [],
   "source": []
  }
 ],
 "metadata": {
  "kernelspec": {
   "display_name": "Python 3",
   "language": "python",
   "name": "python3"
  },
  "language_info": {
   "codemirror_mode": {
    "name": "ipython",
    "version": 3
   },
   "file_extension": ".py",
   "mimetype": "text/x-python",
   "name": "python",
   "nbconvert_exporter": "python",
   "pygments_lexer": "ipython3",
   "version": "3.8.8"
  }
 },
 "nbformat": 4,
 "nbformat_minor": 5
}
