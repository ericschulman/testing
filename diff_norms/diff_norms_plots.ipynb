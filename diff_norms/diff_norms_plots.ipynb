{
 "cells": [
  {
   "cell_type": "code",
   "execution_count": 17,
   "id": "5248b94d",
   "metadata": {},
   "outputs": [
    {
     "name": "stdout",
     "output_type": "stream",
     "text": [
      "The autoreload extension is already loaded. To reload it, use:\n",
      "  %reload_ext autoreload\n"
     ]
    }
   ],
   "source": [
    "%load_ext autoreload\n",
    "%autoreload 2\n",
    "\n",
    "import numpy as np\n",
    "import matplotlib.pyplot as plt\n",
    "import statsmodels.api as sm\n",
    "from statsmodels.base.model import GenericLikelihoodModel\n",
    "import scipy.stats as stats\n",
    "import sys\n",
    "\n",
    "sys.path.append(\"../\")\n",
    "import vuong_tests5"
   ]
  },
  {
   "cell_type": "code",
   "execution_count": 18,
   "id": "f21975b3",
   "metadata": {},
   "outputs": [],
   "source": [
    "class OLS_loglike(GenericLikelihoodModel):\n",
    "    \n",
    "    def __init__(self, *args,ols=False, **kwargs):\n",
    "        super(OLS_loglike,self).__init__(*args,**kwargs)\n",
    "        self.ols = ols\n",
    "\n",
    "    def loglikeobs(self, params):\n",
    "        y = self.endog\n",
    "        x = self.exog\n",
    "        mu_y = np.matmul(x,params)  \n",
    "        resid = y - mu_y\n",
    "        sigma = np.sqrt(np.sum(resid**2)/resid.shape[0])\n",
    "        pr_y = stats.norm.logpdf( resid, loc=0,scale=sigma )\n",
    "        return pr_y"
   ]
  },
  {
   "cell_type": "code",
   "execution_count": 19,
   "id": "376c14fa",
   "metadata": {},
   "outputs": [],
   "source": [
    "def setup_model(yn,xn):\n",
    "    \"\"\"setup models for ease\"\"\"\n",
    "    model1 = sm.OLS(yn,sm.add_constant(xn))\n",
    "    model1_fit = model1.fit(disp=False)\n",
    "    params1 = (model1_fit.params)\n",
    "    model1_deriv = OLS_loglike(yn,sm.add_constant(xn))\n",
    "    ll1 = model1_deriv.loglikeobs(model1_fit.params)\n",
    "    grad1 =  model1_deriv.score_obs(model1_fit.params)    \n",
    "    hess1 = model1_deriv.hessian(model1_fit.params)\n",
    "    return ll1,grad1,hess1,params1,model1_fit.resid\n",
    "\n",
    "\n",
    "def setup_test(yn,xn):\n",
    "    lls = []\n",
    "    grads = []\n",
    "    hesss = []\n",
    "    params = []\n",
    "    resids = []\n",
    "    for i in range(xn.shape[1]):\n",
    "        ll,grad,hess,param,resid = setup_model(yn,xn[:,i])\n",
    "        lls.append(ll)\n",
    "        grads.append(grad)\n",
    "        hesss.append(hess)\n",
    "        params.append(param)\n",
    "        resids.append(resid)\n",
    "    \n",
    "    #determine 1 and 2\n",
    "    ind1 = 0\n",
    "    ind2 = 1\n",
    "    return (lls[ind1],grads[ind1],hesss[ind1],params[ind1],resids[ind1],\n",
    "            lls[ind2],grads[ind2],hesss[ind2],params[ind2],resids[ind2])\n",
    "\n",
    "def gen_data(nobs=1000, a=0.25):\n",
    "    num_params=2\n",
    "    x = np.random.normal(scale=1., size=(nobs,num_params))\n",
    "    e = np.random.normal(loc=0.0, scale=1.0, size=nobs)\n",
    "    y = 1 + a*x.sum(axis=1) + e\n",
    "    return y,x,nobs\n",
    "\n",
    "\n",
    "yn,xn,nobs = gen_data()"
   ]
  },
  {
   "cell_type": "code",
   "execution_count": 20,
   "id": "14423746",
   "metadata": {},
   "outputs": [],
   "source": [
    "def plot_true2(gen_data,setup_test,trials=500):\n",
    "    llr_stats=[]\n",
    "    mse_stats=[]\n",
    "    for i in range(trials):\n",
    "        np.random.seed()\n",
    "        ys,xs,nobs = gen_data()\n",
    "        ll1,grad1,hess1,params1,resid1,ll2,grad2,hess2,params2,resid2 = setup_test(ys,xs)\n",
    "        \n",
    "        ##Classical test\n",
    "        V = vuong_tests5.compute_eigen2(ll1,grad1,hess1,params1,ll2, grad2,hess2,params2)\n",
    "        llr = (ll1 - ll2).sum() +V.sum()/(2)\n",
    "        omega2 = (ll1 - ll2).var() \n",
    "        nomega = np.clip( (np.sqrt(omega2*nobs)), .1,10000 )\n",
    "        llr_stats.append(llr/nomega)\n",
    "        \n",
    "        ## MSE test\n",
    "        mse = -1*(resid1**2 - resid2**2).sum()\n",
    "        omega2 = (resid1**2 - resid2**2).var() \n",
    "        nomega = np.clip( (np.sqrt(omega2*nobs)), .1,10000 )\n",
    "        mse_stats.append(mse/nomega)\n",
    "\n",
    "    plt.hist(llr_stats, density=True,bins=15, label=\"LLR\",alpha=.60)\n",
    "    plt.hist(mse_stats, density=True,bins=15, label=\"MSE\",alpha=.60)\n",
    "    plt.legend()\n",
    "    plt.show()\n",
    "    return mse_stats,llr_stats\n",
    "\n",
    "\n"
   ]
  },
  {
   "cell_type": "code",
   "execution_count": 21,
   "id": "f95a5e0e",
   "metadata": {},
   "outputs": [
    {
     "data": {
      "image/png": "[encoded data removed]",
      "text/plain": [
       "<Figure size 432x288 with 1 Axes>"
      ]
     },
     "metadata": {
      "needs_background": "light"
     },
     "output_type": "display_data"
    }
   ],
   "source": [
    "gen_data_ex = lambda : gen_data(nobs=1000, a=0.0)\n",
    "mse_stats,llr_stats = plot_true2(gen_data_ex,setup_test)"
   ]
  },
  {
   "cell_type": "code",
   "execution_count": 22,
   "id": "5e58f779",
   "metadata": {},
   "outputs": [
    {
     "data": {
      "image/png": "[encoded data removed]",
      "text/plain": [
       "<Figure size 432x288 with 1 Axes>"
      ]
     },
     "metadata": {
      "needs_background": "light"
     },
     "output_type": "display_data"
    }
   ],
   "source": [
    "gen_data_ex = lambda : gen_data(nobs=1000, a=0.25)\n",
    "mse_stats,llr_stats = plot_true2(gen_data_ex,setup_test)"
   ]
  },
  {
   "cell_type": "code",
   "execution_count": 23,
   "id": "dbef4cd2",
   "metadata": {},
   "outputs": [
    {
     "data": {
      "image/png": "[encoded data removed]",
      "text/plain": [
       "<Figure size 432x288 with 1 Axes>"
      ]
     },
     "metadata": {
      "needs_background": "light"
     },
     "output_type": "display_data"
    }
   ],
   "source": [
    "gen_data_ex = lambda : gen_data(nobs=1000, a=0.5)\n",
    "mse_stats,llr_stats = plot_true2(gen_data_ex,setup_test)"
   ]
  },
  {
   "cell_type": "markdown",
   "id": "1862cc01",
   "metadata": {},
   "source": [
    "# Power..."
   ]
  },
  {
   "cell_type": "code",
   "execution_count": 24,
   "id": "ab4460fc",
   "metadata": {},
   "outputs": [],
   "source": [
    "def gen_data2(nobs=1000, a=0.25, scaler = .1):\n",
    "    num_params=2\n",
    "    x = np.random.normal(scale=1., size=(nobs,num_params))\n",
    "    e = np.random.normal(loc=0.0, scale=1.0, size=nobs)\n",
    "    y = 1 + a*scaler*x[:,0] + a*x.sum(axis=1) + e \n",
    "    return y,x,nobs"
   ]
  },
  {
   "cell_type": "code",
   "execution_count": 25,
   "id": "55c14f82",
   "metadata": {},
   "outputs": [
    {
     "data": {
      "image/png": "[encoded data removed]",
      "text/plain": [
       "<Figure size 432x288 with 1 Axes>"
      ]
     },
     "metadata": {
      "needs_background": "light"
     },
     "output_type": "display_data"
    }
   ],
   "source": [
    "gen_data_ex = lambda : gen_data2(nobs=1000, a=0.25, scaler= .1)\n",
    "mse_stats,llr_stats = plot_true2(gen_data_ex,setup_test)"
   ]
  },
  {
   "cell_type": "code",
   "execution_count": 26,
   "id": "1fb76492",
   "metadata": {},
   "outputs": [
    {
     "data": {
      "image/png": "[encoded data removed]",
      "text/plain": [
       "<Figure size 432x288 with 1 Axes>"
      ]
     },
     "metadata": {
      "needs_background": "light"
     },
     "output_type": "display_data"
    }
   ],
   "source": [
    "gen_data_ex = lambda :gen_data2(nobs=1000, a=0.25, scaler= .5)\n",
    "mse_stats,llr_stats = plot_true2(gen_data_ex,setup_test)"
   ]
  },
  {
   "cell_type": "code",
   "execution_count": 27,
   "id": "cb96f5e9",
   "metadata": {},
   "outputs": [
    {
     "data": {
      "image/png": "[encoded data removed]",
      "text/plain": [
       "<Figure size 432x288 with 1 Axes>"
      ]
     },
     "metadata": {
      "needs_background": "light"
     },
     "output_type": "display_data"
    }
   ],
   "source": [
    " gen_data_ex = lambda :gen_data2(nobs=1000, a=0.25, scaler= 1)\n",
    "mse_stats,llr_stats = plot_true2(gen_data_ex,setup_test)"
   ]
  },
  {
   "cell_type": "markdown",
   "id": "b4da95f4",
   "metadata": {},
   "source": [
    "# more power?"
   ]
  },
  {
   "cell_type": "code",
   "execution_count": 28,
   "id": "2648143c",
   "metadata": {},
   "outputs": [
    {
     "data": {
      "image/png": "[encoded data removed]",
      "text/plain": [
       "<Figure size 432x288 with 1 Axes>"
      ]
     },
     "metadata": {
      "needs_background": "light"
     },
     "output_type": "display_data"
    }
   ],
   "source": [
    "gen_data_ex = lambda : gen_data2(nobs=1000, a=0.0)\n",
    "mse_stats,llr_stats = plot_true2(gen_data_ex,setup_test)"
   ]
  },
  {
   "cell_type": "code",
   "execution_count": 29,
   "id": "f6b81546",
   "metadata": {},
   "outputs": [
    {
     "data": {
      "image/png": "[encoded data removed]",
      "text/plain": [
       "<Figure size 432x288 with 1 Axes>"
      ]
     },
     "metadata": {
      "needs_background": "light"
     },
     "output_type": "display_data"
    }
   ],
   "source": [
    "gen_data_ex = lambda : gen_data2(nobs=1000, a=0.25)\n",
    "mse_stats,llr_stats = plot_true2(gen_data_ex,setup_test)\n"
   ]
  },
  {
   "cell_type": "code",
   "execution_count": 30,
   "id": "0a410085",
   "metadata": {},
   "outputs": [
    {
     "data": {
      "image/png": "[encoded data removed]",
      "text/plain": [
       "<Figure size 432x288 with 1 Axes>"
      ]
     },
     "metadata": {
      "needs_background": "light"
     },
     "output_type": "display_data"
    }
   ],
   "source": [
    "gen_data_ex = lambda : gen_data2(nobs=1000, a=0.5)\n",
    "mse_stats,llr_stats = plot_true2(gen_data_ex,setup_test)\n"
   ]
  },
  {
   "cell_type": "code",
   "execution_count": 31,
   "id": "fa82eaea",
   "metadata": {},
   "outputs": [
    {
     "data": {
      "image/png": "[encoded data removed]",
      "text/plain": [
       "<Figure size 432x288 with 1 Axes>"
      ]
     },
     "metadata": {
      "needs_background": "light"
     },
     "output_type": "display_data"
    }
   ],
   "source": [
    "gen_data_ex = lambda : gen_data2(nobs=2000, a=.5)\n",
    "mse_stats,llr_stats = plot_true2(gen_data_ex,setup_test)"
   ]
  },
  {
   "cell_type": "code",
   "execution_count": null,
   "id": "9cb59586",
   "metadata": {},
   "outputs": [],
   "source": []
  }
 ],
 "metadata": {
  "kernelspec": {
   "display_name": "Python 3",
   "language": "python",
   "name": "python3"
  },
  "language_info": {
   "codemirror_mode": {
    "name": "ipython",
    "version": 3
   },
   "file_extension": ".py",
   "mimetype": "text/x-python",
   "name": "python",
   "nbconvert_exporter": "python",
   "pygments_lexer": "ipython3",
   "version": "3.8.8"
  }
 },
 "nbformat": 4,
 "nbformat_minor": 5
}
