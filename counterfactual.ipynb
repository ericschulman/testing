{
 "cells": [
  {
   "cell_type": "code",
   "execution_count": 1,
   "metadata": {},
   "outputs": [],
   "source": [
    "import numpy as np\n",
    "import scipy.stats as stats\n",
    "import scipy.special\n",
    "#graphing\n",
    "import matplotlib.pyplot as plt\n",
    "\n",
    "#optimize\n",
    "from scipy.optimize import minimize\n",
    "\n",
    "#interpolate\n",
    "from scipy.integrate import quad"
   ]
  },
  {
   "cell_type": "code",
   "execution_count": 2,
   "metadata": {},
   "outputs": [],
   "source": [
    "def optimal_reserve(mu,sigma):\n",
    "    v = 0\n",
    "    obj = lambda p :  -1*(p-v)*(1-stats.logistic(loc=mu,scale=sigma).cdf(p))\n",
    "    result = minimize(obj,[0])\n",
    "    return result.x"
   ]
  },
  {
   "cell_type": "code",
   "execution_count": 3,
   "metadata": {},
   "outputs": [
    {
     "name": "stdout",
     "output_type": "stream",
     "text": [
      "[3.19481275] [5.20311742] [-1.00415233]\n"
     ]
    }
   ],
   "source": [
    "or1 = optimal_reserve(1.9450,2.0663)\n",
    "or2 = optimal_reserve(6.6360,1.2836 )\n",
    "\n",
    "print(or1, or2, (or1- or2)/2 )"
   ]
  },
  {
   "cell_type": "code",
   "execution_count": 5,
   "metadata": {},
   "outputs": [
    {
     "name": "stdout",
     "output_type": "stream",
     "text": [
      "5.365106300361035 3.7786933537717795 0.2956908694395301\n"
     ]
    }
   ],
   "source": [
    "def expected_rev(p,mu = 3,sigma = 2,i=10):\n",
    "   \n",
    "    values_distr = stats.logistic(loc=mu, scale=sigma)\n",
    "    cdf = lambda x : values_distr.cdf(x)\n",
    "    pdf = lambda x: values_distr.pdf(x)\n",
    "    factorial = scipy.special.factorial(i)/scipy.special.factorial(i-2)  \n",
    "        \n",
    "    order_cdf = lambda x : factorial*pdf(x)*cdf(x)**(i-2)*(1-cdf(x)) #np.log(i) + np.log(cdf) \n",
    "    integrand = lambda x : x*order_cdf(x)\n",
    "    I = quad(integrand, p,100)\n",
    "    return I\n",
    "\n",
    "\n",
    "er1 = expected_rev(or1,i=7)\n",
    "er2 = expected_rev(or2,i=7)\n",
    "print(er1[0],er2[0], (er1[0]-er2[0])/er1[0] )"
   ]
  },
  {
   "cell_type": "code",
   "execution_count": 10,
   "metadata": {},
   "outputs": [
    {
     "name": "stdout",
     "output_type": "stream",
     "text": [
      "-3 0.17002939015417098 0.4498 -1.6454250032429818\n",
      "0 0.4385541500100251 0.4498 -0.025643013501793974\n",
      "3 0.5055687721981598 0.4498 0.1103089733087806\n"
     ]
    }
   ],
   "source": [
    "def marginal_effect(beta0,beta1,sigma,x):\n",
    "    mux = beta0+beta1*x\n",
    "    return stats.norm.cdf(mux/np.sqrt(np.abs(sigma)))*beta1\n",
    "\n",
    "\n",
    "\n",
    "beta01 = 1.0968\n",
    "beta11 = 0.5078\n",
    "\n",
    "beta02 = 1.4116\n",
    "beta12 = 0.4498\n",
    "\n",
    "for x in [-3,0,3]:\n",
    "    m1 = marginal_effect(beta01,beta11,1,x)\n",
    "    m2 = 0.4498\n",
    "    print(x,m1,m2,(m1-m2)/m1)"
   ]
  },
  {
   "cell_type": "code",
   "execution_count": 12,
   "metadata": {},
   "outputs": [
    {
     "name": "stdout",
     "output_type": "stream",
     "text": [
      "0.461402259012677 0.4498 0.02514564847927686\n"
     ]
    }
   ],
   "source": [
    "def avg_effect(beta0,beta1,sigma):\n",
    "    integrand = lambda x: marginal_effect(beta0,beta1,sigma,x)*stats.norm(loc=5,scale=5).pdf(x)\n",
    "    I = quad(integrand, -100,100)\n",
    "    return I\n",
    "\n",
    "\n",
    "beta01 = 1.0968\n",
    "beta11 = 0.5078\n",
    "\n",
    "beta02 = 1.4116\n",
    "beta12 = 0.4498\n",
    "\n",
    "a1 = avg_effect(beta01,beta11,1)\n",
    "a2= 0.4498\n",
    "\n",
    "print(a1[0],a2,(a1[0]-a2)/a1[0])"
   ]
  },
  {
   "cell_type": "code",
   "execution_count": null,
   "metadata": {},
   "outputs": [],
   "source": [
    "support_x = np.arange(-15,20,.05)\n",
    "me = marginal_effect(beta0,beta1,sigma, support_x )\n",
    "\n",
    "me_95 = marginal_effect(beta0+ci[0]*1.96,beta1+ci[1]*1.96,\n",
    "                        sigma+ci[2]*1.96, support_x )\n",
    "me_05 = marginal_effect(beta0-ci[0]*1.96,beta1-ci[1]*1.96,\n",
    "                        sigma-ci[2]*1.96, support_x )\n",
    "\n",
    "#beta0 = 0.9793\n",
    "#beta1 = 0.2559\n",
    "#sigma = 1.0375\n",
    "#ci = 0.047, 0.007, 0.049\n",
    "\n",
    "beta0 = 1.0968\n",
    "beta1 = 0.2431\n",
    "sigma = 0.8248\n",
    "#ci = 0.041, 0.006, 0.037\n",
    "\n",
    "plt.plot(support_x, me ,label=\"mean\",\n",
    "         color='black')\n",
    "plt.plot(support_x, me_95 ,label=\"95% confidence\",\n",
    "         color='black',linestyle='--')\n",
    "plt.plot(support_x, me_05,\n",
    "         color='black',linestyle='--')\n",
    "\n",
    "plt.legend()\n",
    "\n",
    "plt.ylabel(\"marginal effect\")\n",
    "plt.xlabel(\"xlabel\")\n",
    "plt.title(\"Tobit marginal effects\")\n",
    "plt.savefig('figs/me_weakover.png')"
   ]
  },
  {
   "cell_type": "code",
   "execution_count": null,
   "metadata": {},
   "outputs": [],
   "source": []
  }
 ],
 "metadata": {
  "kernelspec": {
   "display_name": "Python 3",
   "language": "python",
   "name": "python3"
  },
  "language_info": {
   "codemirror_mode": {
    "name": "ipython",
    "version": 3
   },
   "file_extension": ".py",
   "mimetype": "text/x-python",
   "name": "python",
   "nbconvert_exporter": "python",
   "pygments_lexer": "ipython3",
   "version": "3.7.4"
  }
 },
 "nbformat": 4,
 "nbformat_minor": 2
}
