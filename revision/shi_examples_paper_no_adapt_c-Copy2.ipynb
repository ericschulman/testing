{
 "cells": [
  {
   "cell_type": "code",
   "execution_count": 1,
   "metadata": {},
   "outputs": [],
   "source": [
    "%load_ext autoreload\n",
    "%autoreload 2\n",
    "\n",
    "import numpy as np\n",
    "import matplotlib.pyplot as plt\n",
    "import statsmodels.api as sm\n",
    "from statsmodels.base.model import GenericLikelihoodModel\n",
    "import scipy.stats as stats\n",
    "import sys\n",
    "\n",
    "sys.path.append(\"../\")\n",
    "import vuong_tests10 as vuong_tests_fast"
   ]
  },
  {
   "cell_type": "code",
   "execution_count": 2,
   "metadata": {},
   "outputs": [],
   "source": [
    "class OLS_loglike(GenericLikelihoodModel):\n",
    "    \n",
    "    def __init__(self, *args,ols=False, **kwargs):\n",
    "        super(OLS_loglike,self).__init__(*args,**kwargs)\n",
    "        self.ols = ols\n",
    "\n",
    "    def loglikeobs(self, params):\n",
    "        y = self.endog\n",
    "        x = self.exog\n",
    "        mu_y = np.matmul(x,params)  \n",
    "        resid = y - mu_y\n",
    "        sigma = np.sqrt(np.sum(resid**2)/resid.shape[0])\n",
    "        pr_y = stats.norm.logpdf( resid, loc=0,scale=sigma )\n",
    "        return pr_y\n",
    "\n",
    "\n",
    "def setup_shi(yn,xn,return_model=False,num_params=4):\n",
    "    x1n,x2n = xn[:,0],xn[:,1:num_params+1]\n",
    "    \n",
    "    # model 1 grad, etc.\n",
    "    model1 = sm.OLS(yn,sm.add_constant(x1n))\n",
    "    model1_fit = model1.fit(disp=False)\n",
    "    params1 = (model1_fit.params)\n",
    "    \n",
    "    model1_deriv = OLS_loglike(yn,sm.add_constant(x1n))\n",
    "    ll1 = model1_deriv.loglikeobs(model1_fit.params)\n",
    "    grad1 =  model1_deriv.score_obs(model1_fit.params)    \n",
    "    hess1 = model1_deriv.hessian(model1_fit.params)\n",
    "    \n",
    "    #model 2 grad, etc.\n",
    "    model2 = sm.OLS(yn,sm.add_constant(x2n))\n",
    "    model2_fit = model2.fit(disp=False)\n",
    "    params2 = (model2_fit.params)\n",
    "    \n",
    "    model2_deriv = OLS_loglike(yn,sm.add_constant(x2n))\n",
    "    ll2 = model2_deriv.loglikeobs(model2_fit.params)\n",
    "    grad2 =  model2_deriv.score_obs(model2_fit.params)    \n",
    "    hess2 = model2_deriv.hessian(model2_fit.params)\n",
    "    \n",
    "    if return_model:\n",
    "        return ll1,grad1,hess1,params1,model1,ll2,grad2,hess2,params2,model2\n",
    "    return ll1,grad1,hess1,params1,ll2,grad2,hess2,params2\n"
   ]
  },
  {
   "cell_type": "code",
   "execution_count": 3,
   "metadata": {},
   "outputs": [
    {
     "name": "stdout",
     "output_type": "stream",
     "text": [
      "(1000, 2) (2, 2)\n"
     ]
    }
   ],
   "source": [
    "\n",
    "def gen_data(nobs=1000, a=0.25, num_params=4):\n",
    "    x = np.random.normal(scale=1., size=(nobs,1+num_params))\n",
    "    e = np.random.normal(loc=0.0, scale=1.0, size=nobs)\n",
    "    y = 1 + a*x[:,0] + a/np.sqrt(num_params)*x[:,1:num_params+1].sum(axis=1) + e\n",
    "    return y,x,nobs\n",
    "\n",
    "yn,xn,nobs = gen_data()\n",
    "ll1,grad1,hess1,params1,ll2,grad2,hess2,params2 = setup_shi(yn,xn,return_model=False,num_params=15)\n",
    "print(grad1.shape,hess1.shape)"
   ]
  },
  {
   "cell_type": "code",
   "execution_count": 4,
   "metadata": {},
   "outputs": [],
   "source": [
    "num_sims = 100\n",
    "trials =1000\n",
    "adapt_c = False\n"
   ]
  },
  {
   "cell_type": "markdown",
   "metadata": {},
   "source": [
    "size weirdness rn..."
   ]
  },
  {
   "cell_type": "code",
   "execution_count": 5,
   "metadata": {
    "scrolled": true
   },
   "outputs": [
    {
     "name": "stdout",
     "output_type": "stream",
     "text": [
      "Quantiles: 1th: 2.72, 5th: 4.11, 10th: 5.15, 30th: 7.77, 50th: 9.91, 70th: 12.55, 90th: 17.24, 95th: 19.68, 99th: 26.07\n",
      "bonus term 0.0017003668861370503 // variance stats 0.370755068449133 //part1 1.9952623149688797 //part2 0.0008522021758144472\n",
      "-2.0319368338831025 1.7295854581648236 2.0143348579963734\n",
      "-2.0353375676553767 1.7295854581648236 2.0109341242240992\n",
      "---\n",
      "Quantiles: 1th: 2.48, 5th: 4.05, 10th: 4.95, 30th: 7.26, 50th: 9.38, 70th: 11.79, 90th: 16.12, 95th: 18.72, 99th: 23.50\n",
      "bonus term 0.0019728733474345204 // variance stats 0.31950021929617084 //part1 1.9952623149688797 //part2 0.0009887789352976835\n",
      "-1.9520877532867411 -0.8611757742985994 2.1005805144969596\n",
      "-1.95603349998161 -0.8611757742985994 2.0966347678020902\n",
      "---\n",
      "Quantiles: 1th: 2.73, 5th: 4.23, 10th: 5.02, 30th: 7.58, 50th: 9.84, 70th: 12.53, 90th: 16.91, 95th: 19.55, 99th: 25.12\n",
      "bonus term 0.0020132955446313127 // variance stats 0.3130790639300854 //part1 1.9952623149688797 //part2 0.0010090380244878801\n",
      "-1.7135108903188434 1.4684722569705748 2.3966337544800353\n",
      "-1.717537481408106 1.4684722569705748 2.392607163390773\n",
      "---\n",
      "Quantiles: 1th: 2.94, 5th: 4.28, 10th: 5.35, 30th: 7.97, 50th: 10.18, 70th: 12.88, 90th: 17.66, 95th: 20.36, 99th: 25.55\n",
      "bonus term 0.002031777133072442 // variance stats 0.3102283365022418 //part1 1.9952623149688797 //part2 0.0010183007606717274\n",
      "-1.824874467570223 0.2860965268438023 1.781793300380679\n",
      "-1.828938021836368 0.2860965268438023 1.777729746114534\n",
      "---\n",
      "\\begin{tabular}{|c|c|c|c|c|c|c|}\n",
      "\\hline\n",
      "Model &  Normal & Two-Step & Bootstrap & Bootstrap-TIC & Bootstrap-ND & Shi (2015) \\\\ \\hline \\hline\n",
      "No selection & 0.96 & 0.96 & 0.95 & 0.97 & 0.97 & 0.98   \\\\\n",
      "Model 1 & 0.00 & 0.00 & 0.00 & 0.02 & 0.02 & 0.01   \\\\\n",
      "Model 2 & 0.04 & 0.04 & 0.05 & 0.01 & 0.01 & 0.01   \\\\\n",
      "\\hline\n",
      "\\end{tabular}\n",
      "(array([0.96, 0.  , 0.04]), array([0.96, 0.  , 0.04]), array([0.95, 0.  , 0.05]), array([0.97, 0.02, 0.01]), array([0.97, 0.02, 0.01]), array([0.98, 0.01, 0.01]), -4.600304032325829, 9.922021904555478, 10.907322051305425)\n"
     ]
    }
   ],
   "source": [
    "a = 0.25\n",
    "num_params=9\n",
    "\n",
    "calc_c =lambda nobs: (nobs**(-1/2)/100,nobs**(1/10) )\n",
    "c1,c2 = calc_c(nobs)\n",
    "\n",
    "setup_shi_ex  = lambda yn,xn: setup_shi(yn,xn,num_params=num_params)\n",
    "gen_data_ex = lambda : gen_data(nobs=nobs, a=a,  num_params=num_params)\n",
    "mc_out = vuong_tests_fast.monte_carlo(num_sims,gen_data_ex,setup_shi_ex,trials=500,c1=c1,c2=c2,adapt_c = adapt_c,print_stuff=True)\n",
    "vuong_tests_fast.print_mc(mc_out)\n",
    "print(mc_out)"
   ]
  },
  {
   "cell_type": "markdown",
   "metadata": {},
   "source": [
    "# power 0.... need to see..."
   ]
  },
  {
   "cell_type": "code",
   "execution_count": 6,
   "metadata": {},
   "outputs": [],
   "source": [
    "a1,a2 = np.sqrt(1.09-1), 0.00\n",
    "num_params= 9\n",
    "\n",
    "\n",
    "def gen_data2(nobs=1000, a1=np.sqrt(1.09-1), a2=0.00 , num_params=19):\n",
    "    x = np.random.normal(scale=1., size=(nobs,1+num_params))\n",
    "    e = np.random.normal(loc=0.0, scale=1.0, size=nobs)\n",
    "    y = 1 + a1*x[:,0] + a2/np.sqrt(num_params)*x[:,1:num_params+1].sum(axis=1) + e\n",
    "    return y,x,nobs"
   ]
  },
  {
   "cell_type": "code",
   "execution_count": 7,
   "metadata": {
    "scrolled": true
   },
   "outputs": [
    {
     "name": "stdout",
     "output_type": "stream",
     "text": [
      "Quantiles: 1th: 2.46, 5th: 3.78, 10th: 4.66, 30th: 6.94, 50th: 9.00, 70th: 11.48, 90th: 15.92, 95th: 18.72, 99th: 24.07\n",
      "bonus term 0.07992065405865918 // variance stats 0.3063405945996496 //part1 3.017088168272582 //part2 0.02648933329131622\n",
      "-1.6808902148262939 1.3937962752273991 1.8939418899128189\n",
      "-1.8407315229436123 1.3937962752273991 1.7341005817955004\n",
      "---\n",
      "Quantiles: 1th: 2.68, 5th: 4.01, 10th: 4.90, 30th: 7.31, 50th: 9.45, 70th: 12.16, 90th: 16.99, 95th: 19.91, 99th: 25.83\n",
      "bonus term 0.0733428162874318 // variance stats 0.35635976199136987 //part1 3.017088168272582 //part2 0.024309139208690694\n",
      "-1.8572373746557034 2.168173698597073 2.037491712059626\n",
      "-2.003923007230567 2.168173698597073 1.8908060794847628\n",
      "---\n",
      "Quantiles: 1th: 2.37, 5th: 3.57, 10th: 4.47, 30th: 6.72, 50th: 8.75, 70th: 11.35, 90th: 15.65, 95th: 18.29, 99th: 24.57\n",
      "bonus term 0.08088663107909748 // variance stats 0.2979373953816667 //part1 3.017088168272582 //part2 0.026809501932921205\n",
      "-1.9459090949737705 2.01736830630698 2.07845425118251\n",
      "-2.1076823571319654 2.01736830630698 1.9166809890243153\n",
      "---\n",
      "Quantiles: 1th: 2.85, 5th: 4.24, 10th: 5.21, 30th: 7.90, 50th: 10.35, 70th: 13.29, 90th: 18.69, 95th: 21.72, 99th: 28.89\n",
      "bonus term 0.0687994159476867 // variance stats 0.41662577145258356 //part1 3.017088168272582 //part2 0.02280325005784549\n",
      "-1.8413360054834467 2.979539861935334 2.016107537188957\n",
      "-1.9789348373788203 2.979539861935334 1.8785087052935836\n",
      "---\n",
      "\\begin{tabular}{|c|c|c|c|c|c|c|}\n",
      "\\hline\n",
      "Model &  Normal & Two-Step & Bootstrap & Bootstrap-TIC & Bootstrap-ND & Shi (2015) \\\\ \\hline \\hline\n",
      "No selection & 0.82 & 0.82 & 0.85 & 0.49 & 0.55 & 0.53   \\\\\n",
      "Model 1 & 0.18 & 0.18 & 0.15 & 0.51 & 0.45 & 0.47   \\\\\n",
      "Model 2 & 0.00 & 0.00 & 0.00 & 0.00 & 0.00 & 0.00   \\\\\n",
      "\\hline\n",
      "\\end{tabular}\n",
      "0.0006324555320336759 3.017088168272582\n",
      "(array([0.82, 0.18, 0.  ]), array([0.82, 0.18, 0.  ]), array([0.85, 0.15, 0.  ]), array([0.49, 0.51, 0.  ]), array([0.55, 0.45, 0.  ]), array([0.53, 0.47, 0.  ]), 6.855596110790877, 5.0363860090807755, 5.179977627117425)\n"
     ]
    }
   ],
   "source": [
    "\n",
    "data_tuned_c = .8\n",
    "calc_c =lambda nobs: (nobs**(-1/2)/100,nobs**(1/5) )\n",
    "\n",
    "nobs = 250\n",
    "c1,c2 = calc_c(nobs)\n",
    "\n",
    "\n",
    "a1,a2 = np.sqrt(1.09-1), 0.00\n",
    "setup_shi_ex  = lambda yn,xn: setup_shi(yn,xn,num_params=num_params)\n",
    "gen_data_ex = lambda : gen_data2(nobs=nobs, a1=a1, a2=a2, num_params=num_params)\n",
    "mc_out = vuong_tests_fast.monte_carlo(num_sims,gen_data_ex,setup_shi_ex,trials=trials,c1=c1,c2=c2,adapt_c = adapt_c,\n",
    "                                     print_stuff=True, data_tuned_c=data_tuned_c)\n",
    "vuong_tests_fast.print_mc(mc_out)\n",
    "print(c1,c2)\n",
    "print(mc_out)"
   ]
  },
  {
   "cell_type": "code",
   "execution_count": 8,
   "metadata": {
    "scrolled": true
   },
   "outputs": [
    {
     "name": "stdout",
     "output_type": "stream",
     "text": [
      "Quantiles: 1th: 2.55, 5th: 3.86, 10th: 4.78, 30th: 7.36, 50th: 9.82, 70th: 12.57, 90th: 18.06, 95th: 21.37, 99th: 30.08\n",
      "bonus term 0.2661976142874326 // variance stats 0.3063756157534467 //part1 6.299605249474365 //part2 0.04225623729512956\n",
      "-1.601483040982219 1.865335438691927 1.9702313067343453\n",
      "-2.133878269557084 1.865335438691927 1.43783607815948\n",
      "---\n",
      "Quantiles: 1th: 2.47, 5th: 3.80, 10th: 4.73, 30th: 7.14, 50th: 9.26, 70th: 11.83, 90th: 16.46, 95th: 19.11, 99th: 24.41\n",
      "bonus term 0.196410232973783 // variance stats 0.37556187003198455 //part1 6.299605249474365 //part2 0.03117818104399023\n",
      "-1.632045625674612 2.33115345383471 2.2582628138843757\n",
      "-2.024866091622178 2.33115345383471 1.8654423479368094\n",
      "---\n",
      "Quantiles: 1th: 2.51, 5th: 3.71, 10th: 4.59, 30th: 6.97, 50th: 9.10, 70th: 11.80, 90th: 16.86, 95th: 19.90, 99th: 27.62\n",
      "bonus term 0.3029668508868243 // variance stats 0.24913151186309082 //part1 6.299605249474365 //part2 0.04809298978092375\n",
      "-1.5819713487553206 0.019267764098071877 1.957163574078613\n",
      "-2.187905050528969 0.019267764098071877 1.3512298723049647\n",
      "---\n",
      "Quantiles: 1th: 2.54, 5th: 3.84, 10th: 4.72, 30th: 7.05, 50th: 9.05, 70th: 11.58, 90th: 16.27, 95th: 18.92, 99th: 24.88\n",
      "bonus term 0.2517159886920963 // variance stats 0.2874343295143333 //part1 6.299605249474365 //part2 0.03995742252470492\n",
      "-1.803795021437036 1.9032179801109987 2.3279663130751005\n",
      "-2.307226998821229 1.9032179801109987 1.8245343356909076\n",
      "---\n",
      "\\begin{tabular}{|c|c|c|c|c|c|c|}\n",
      "\\hline\n",
      "Model &  Normal & Two-Step & Bootstrap & Bootstrap-TIC & Bootstrap-ND & Shi (2015) \\\\ \\hline \\hline\n",
      "No selection & 0.86 & 0.86 & 0.87 & 0.52 & 0.70 & 0.57   \\\\\n",
      "Model 1 & 0.14 & 0.14 & 0.13 & 0.48 & 0.30 & 0.43   \\\\\n",
      "Model 2 & 0.00 & 0.00 & 0.00 & 0.00 & 0.00 & 0.00   \\\\\n",
      "\\hline\n",
      "\\end{tabular}\n",
      "0.0006324555320336759 6.299605249474365\n",
      "(array([0.86, 0.14, 0.  ]), array([0.86, 0.14, 0.  ]), array([0.87, 0.13, 0.  ]), array([0.52, 0.48, 0.  ]), array([0.7, 0.3, 0. ]), array([0.57, 0.43, 0.  ]), 6.343115146594533, 5.284014332862755, 5.415947072244329)\n"
     ]
    }
   ],
   "source": [
    "\n",
    "data_tuned_c = .95\n",
    "calc_c =lambda nobs: (nobs**(-1/2)/100,nobs**(1/3) )\n",
    "\n",
    "nobs = 250\n",
    "c1,c2 = calc_c(nobs)\n",
    "\n",
    "a1,a2 = np.sqrt(1.09-1), 0.00\n",
    "setup_shi_ex  = lambda yn,xn: setup_shi(yn,xn,num_params=num_params)\n",
    "gen_data_ex = lambda : gen_data2(nobs=nobs, a1=a1, a2=a2, num_params=num_params)\n",
    "mc_out = vuong_tests_fast.monte_carlo(num_sims,gen_data_ex,setup_shi_ex,trials=trials,c1=c1,c2=c2,adapt_c = adapt_c,\n",
    "                                     print_stuff=True, data_tuned_c=data_tuned_c)\n",
    "vuong_tests_fast.print_mc(mc_out)\n",
    "print(c1,c2)\n",
    "print(mc_out)"
   ]
  },
  {
   "cell_type": "code",
   "execution_count": 9,
   "metadata": {},
   "outputs": [
    {
     "name": "stdout",
     "output_type": "stream",
     "text": [
      "Quantiles: 1th: 2.58, 5th: 3.92, 10th: 4.88, 30th: 7.55, 50th: 9.86, 70th: 12.91, 90th: 18.85, 95th: 22.50, 99th: 30.02\n",
      "bonus term 0.07716093524417057 // variance stats 0.38456758705545097 //part1 6.299605249474365 //part2 0.012248534977744651\n",
      "-1.8120364412129348 1.8801668383349197 2.384261509743154\n",
      "-1.9663583117012762 1.8801668383349197 2.2299396392548125\n",
      "---\n",
      "Quantiles: 1th: 2.51, 5th: 3.93, 10th: 4.86, 30th: 7.20, 50th: 9.48, 70th: 11.93, 90th: 16.68, 95th: 19.59, 99th: 26.05\n",
      "bonus term 0.10019289287362804 // variance stats 0.26114965810566687 //part1 6.299605249474365 //part2 0.015904630354733426\n",
      "-2.0072300868335313 0.7019470717623796 2.0661029761744847\n",
      "-2.2076158725807877 0.7019470717623796 1.8657171904272283\n",
      "---\n",
      "Quantiles: 1th: 2.83, 5th: 4.16, 10th: 5.24, 30th: 7.85, 50th: 10.19, 70th: 13.17, 90th: 18.50, 95th: 21.75, 99th: 28.38\n",
      "bonus term 0.09437685965796418 // variance stats 0.3077790543738304 //part1 6.299605249474365 //part2 0.014981392630250747\n",
      "-1.819918421633809 2.3201036272143396 2.2944975772074594\n",
      "-2.0086721409497375 2.3201036272143396 2.1057438578915306\n",
      "---\n",
      "Quantiles: 1th: 2.73, 5th: 4.03, 10th: 4.89, 30th: 7.59, 50th: 9.87, 70th: 12.77, 90th: 18.03, 95th: 20.94, 99th: 28.53\n",
      "bonus term 0.1368458933900725 // variance stats 0.20537688324437853 //part1 6.299605249474365 //part2 0.021722931512492917\n",
      "-1.7111264513487618 0.6781043329752652 2.1932284788803695\n",
      "-1.9848182381289068 0.6781043329752652 1.9195366921002244\n",
      "---\n",
      "\\begin{tabular}{|c|c|c|c|c|c|c|}\n",
      "\\hline\n",
      "Model &  Normal & Two-Step & Bootstrap & Bootstrap-TIC & Bootstrap-ND & Shi (2015) \\\\ \\hline \\hline\n",
      "No selection & 0.85 & 0.85 & 0.87 & 0.60 & 0.62 & 0.63   \\\\\n",
      "Model 1 & 0.15 & 0.15 & 0.13 & 0.40 & 0.38 & 0.37   \\\\\n",
      "Model 2 & 0.00 & 0.00 & 0.00 & 0.00 & 0.00 & 0.00   \\\\\n",
      "\\hline\n",
      "\\end{tabular}\n",
      "0.0002529822128134703 6.299605249474365\n",
      "(array([0.85, 0.15, 0.  ]), array([0.85, 0.15, 0.  ]), array([0.87, 0.13, 0.  ]), array([0.6, 0.4, 0. ]), array([0.62, 0.38, 0.  ]), array([0.63, 0.37, 0.  ]), 6.0892560181207775, 5.0846532999471235, 5.231328915055702)\n"
     ]
    }
   ],
   "source": [
    "\n",
    "data_tuned_c = .9\n",
    "calc_c =lambda nobs: (nobs**(-1/2)/250,nobs**(1/3) )\n",
    "\n",
    "nobs = 250\n",
    "c1,c2 = calc_c(nobs)\n",
    "\n",
    "\n",
    "a1,a2 = np.sqrt(1.09-1), 0.00\n",
    "setup_shi_ex  = lambda yn,xn: setup_shi(yn,xn,num_params=num_params)\n",
    "gen_data_ex = lambda : gen_data2(nobs=nobs, a1=a1, a2=a2, num_params=num_params)\n",
    "mc_out = vuong_tests_fast.monte_carlo(num_sims,gen_data_ex,setup_shi_ex,trials=trials,c1=c1,c2=c2,adapt_c = adapt_c,\n",
    "                                     print_stuff=True, data_tuned_c=data_tuned_c)\n",
    "vuong_tests_fast.print_mc(mc_out)\n",
    "print(c1,c2)\n",
    "print(mc_out)"
   ]
  },
  {
   "cell_type": "code",
   "execution_count": 10,
   "metadata": {},
   "outputs": [
    {
     "name": "stdout",
     "output_type": "stream",
     "text": [
      "Quantiles: 1th: 2.62, 5th: 4.14, 10th: 5.02, 30th: 7.65, 50th: 10.16, 70th: 13.27, 90th: 19.13, 95th: 23.38, 99th: 31.97\n",
      "bonus term 0.1558220698256124 // variance stats 0.2455755547392915 //part1 1.736976732219687 //part2 0.08970878362111794\n",
      "-1.5799469557270254 0.7097699841959565 1.916132233933457\n",
      "-1.89159109537825 0.7097699841959565 1.6044880942822324\n",
      "---\n",
      "Quantiles: 1th: 2.53, 5th: 3.95, 10th: 4.85, 30th: 7.45, 50th: 9.69, 70th: 12.47, 90th: 17.37, 95th: 20.22, 99th: 25.69\n",
      "bonus term 0.14011508095333375 // variance stats 0.25042825472150826 //part1 1.736976732219687 //part2 0.08066606670906888\n",
      "-1.6350078052834978 1.622197186976505 1.8855423742804758\n",
      "-1.9152379671901654 1.622197186976505 1.6053122123738082\n",
      "---\n",
      "Quantiles: 1th: 2.64, 5th: 3.93, 10th: 4.85, 30th: 7.23, 50th: 9.36, 70th: 12.08, 90th: 16.56, 95th: 18.96, 99th: 24.40\n",
      "bonus term 0.09225549579812863 // variance stats 0.37342264652089296 //part1 1.736976732219687 //part2 0.05311268371467193\n",
      "-1.8960084042576073 1.8496879358456708 1.8915544465523964\n",
      "-2.0805193958538646 1.8496879358456708 1.7070434549561393\n",
      "---\n",
      "Quantiles: 1th: 2.72, 5th: 4.20, 10th: 5.22, 30th: 7.77, 50th: 10.23, 70th: 13.12, 90th: 18.47, 95th: 21.38, 99th: 28.51\n",
      "bonus term 0.1314238586471853 // variance stats 0.28547742213468086 //part1 1.736976732219687 //part2 0.07566241746902298\n",
      "-1.6547016766335598 1.5485495835291352 1.9528311954907989\n",
      "-1.9175493939279307 1.5485495835291352 1.6899834781964285\n",
      "---\n",
      "\\begin{tabular}{|c|c|c|c|c|c|c|}\n",
      "\\hline\n",
      "Model &  Normal & Two-Step & Bootstrap & Bootstrap-TIC & Bootstrap-ND & Shi (2015) \\\\ \\hline \\hline\n",
      "No selection & 0.76 & 0.76 & 0.79 & 0.47 & 0.50 & 0.50   \\\\\n",
      "Model 1 & 0.24 & 0.24 & 0.21 & 0.53 & 0.50 & 0.50   \\\\\n",
      "Model 2 & 0.00 & 0.00 & 0.00 & 0.00 & 0.00 & 0.00   \\\\\n",
      "\\hline\n",
      "\\end{tabular}\n",
      "0.0012649110640673518 1.736976732219687\n",
      "(array([0.76, 0.24, 0.  ]), array([0.76, 0.24, 0.  ]), array([0.79, 0.21, 0.  ]), array([0.47, 0.53, 0.  ]), array([0.5, 0.5, 0. ]), array([0.5, 0.5, 0. ]), 7.3181129060124075, 5.13505954525038, 5.347603318181433)\n"
     ]
    }
   ],
   "source": [
    "data_tuned_c = .9\n",
    "calc_c =lambda nobs: (nobs**(-1/2)/50,nobs**(1/10) )\n",
    "\n",
    "nobs = 250\n",
    "c1,c2 = calc_c(nobs)\n",
    "\n",
    "\n",
    "a1,a2 = np.sqrt(1.09-1), 0.00\n",
    "setup_shi_ex  = lambda yn,xn: setup_shi(yn,xn,num_params=num_params)\n",
    "gen_data_ex = lambda : gen_data2(nobs=nobs, a1=a1, a2=a2, num_params=num_params)\n",
    "mc_out = vuong_tests_fast.monte_carlo(num_sims,gen_data_ex,setup_shi_ex,trials=trials,c1=c1,c2=c2,adapt_c = adapt_c,\n",
    "                                     print_stuff=True, data_tuned_c=data_tuned_c)\n",
    "vuong_tests_fast.print_mc(mc_out)\n",
    "print(c1,c2)\n",
    "print(mc_out)"
   ]
  },
  {
   "cell_type": "code",
   "execution_count": 11,
   "metadata": {
    "scrolled": true
   },
   "outputs": [
    {
     "name": "stdout",
     "output_type": "stream",
     "text": [
      "Quantiles: 1th: 2.40, 5th: 3.87, 10th: 4.84, 30th: 7.27, 50th: 9.64, 70th: 12.73, 90th: 17.97, 95th: 21.05, 99th: 27.55\n",
      "bonus term 0.05880595148145308 // variance stats 0.3243687040235078 //part1 1.736976732219687 //part2 0.03385534785276301\n",
      "-1.888674049949607 2.8739490536435195 2.238101864075285\n",
      "-2.0062859529125134 2.8739490536435195 2.1204899611123786\n",
      "---\n",
      "Quantiles: 1th: 3.12, 5th: 4.45, 10th: 5.40, 30th: 8.19, 50th: 10.63, 70th: 13.77, 90th: 20.31, 95th: 23.98, 99th: 31.86\n",
      "bonus term 0.06295341314990888 // variance stats 0.3415048131469331 //part1 1.736976732219687 //part2 0.03624309524829417\n",
      "-1.9210462414534526 2.1978744958778362 2.1654388978993167\n",
      "-2.04695306775327 2.1978744958778362 2.039532071599499\n",
      "---\n",
      "Quantiles: 1th: 2.32, 5th: 3.45, 10th: 4.30, 30th: 6.38, 50th: 8.33, 70th: 10.51, 90th: 14.62, 95th: 16.98, 99th: 21.69\n",
      "bonus term 0.046301336375961184 // variance stats 0.3376236842657972 //part1 1.736976732219687 //part2 0.02665627899159742\n",
      "-1.859773927241934 1.841397137803678 2.0185404863717493\n",
      "-1.9523765999938565 1.841397137803678 1.925937813619827\n",
      "---\n",
      "Quantiles: 1th: 2.57, 5th: 3.97, 10th: 4.84, 30th: 7.47, 50th: 9.71, 70th: 12.64, 90th: 17.89, 95th: 21.22, 99th: 27.76\n",
      "bonus term 0.05313048934863579 // variance stats 0.35849296088103333 //part1 1.736976732219687 //part2 0.030587910801050402\n",
      "-1.721208627557104 1.7497564314246044 1.9060860371650157\n",
      "-1.8274696062543754 1.7497564314246044 1.7998250584677442\n",
      "---\n",
      "\\begin{tabular}{|c|c|c|c|c|c|c|}\n",
      "\\hline\n",
      "Model &  Normal & Two-Step & Bootstrap & Bootstrap-TIC & Bootstrap-ND & Shi (2015) \\\\ \\hline \\hline\n",
      "No selection & 0.83 & 0.83 & 0.87 & 0.49 & 0.54 & 0.47   \\\\\n",
      "Model 1 & 0.17 & 0.17 & 0.13 & 0.51 & 0.46 & 0.53   \\\\\n",
      "Model 2 & 0.00 & 0.00 & 0.00 & 0.00 & 0.00 & 0.00   \\\\\n",
      "\\hline\n",
      "\\end{tabular}\n",
      "0.0006324555320336759 1.736976732219687\n",
      "(array([0.83, 0.17, 0.  ]), array([0.83, 0.17, 0.  ]), array([0.87, 0.13, 0.  ]), array([0.49, 0.51, 0.  ]), array([0.54, 0.46, 0.  ]), array([0.47, 0.53, 0.  ]), 6.724780322499477, 5.280102423743942, 5.420185594487793)\n"
     ]
    }
   ],
   "source": [
    "\n",
    "data_tuned_c = .9\n",
    "calc_c =lambda nobs: (nobs**(-1/2)/100,nobs**(1/10) )\n",
    "\n",
    "nobs = 250\n",
    "c1,c2 = calc_c(nobs)\n",
    "\n",
    "\n",
    "a1,a2 = np.sqrt(1.09-1), 0.00\n",
    "setup_shi_ex  = lambda yn,xn: setup_shi(yn,xn,num_params=num_params)\n",
    "gen_data_ex = lambda : gen_data2(nobs=nobs, a1=a1, a2=a2, num_params=num_params)\n",
    "mc_out = vuong_tests_fast.monte_carlo(num_sims,gen_data_ex,setup_shi_ex,trials=trials,c1=c1,c2=c2,adapt_c = adapt_c,\n",
    "                                     print_stuff=True, data_tuned_c=data_tuned_c)\n",
    "vuong_tests_fast.print_mc(mc_out)\n",
    "print(c1,c2)\n",
    "print(mc_out)"
   ]
  },
  {
   "cell_type": "markdown",
   "metadata": {},
   "source": [
    "# a  = .25, k= 9"
   ]
  },
  {
   "cell_type": "code",
   "execution_count": 12,
   "metadata": {},
   "outputs": [],
   "source": [
    "a = 0.25\n",
    "num_params=9\n",
    "\n"
   ]
  },
  {
   "cell_type": "code",
   "execution_count": 13,
   "metadata": {
    "scrolled": true
   },
   "outputs": [
    {
     "name": "stdout",
     "output_type": "stream",
     "text": [
      "Quantiles: 1th: 2.40, 5th: 3.90, 10th: 4.78, 30th: 7.18, 50th: 9.35, 70th: 12.03, 90th: 16.91, 95th: 19.79, 99th: 26.71\n",
      "bonus term 0.04302311879871437 // variance stats 0.42099661274894384 //part1 1.736976732219687 //part2 0.024768966676793083\n",
      "-1.8987215362605503 -0.4583272967326806 1.9615369919776295\n",
      "-1.9847677738579792 -0.4583272967326806 1.8754907543802006\n",
      "---\n",
      "Quantiles: 1th: 2.45, 5th: 3.92, 10th: 4.98, 30th: 7.48, 50th: 9.79, 70th: 12.49, 90th: 17.84, 95th: 21.20, 99th: 27.07\n",
      "bonus term 0.045920821011012074 // variance stats 0.4154573133561383 //part1 1.736976732219687 //part2 0.02643721136801282\n",
      "-1.8186353335397905 0.3598137651023631 2.027373834626226\n",
      "-1.9104769755618145 0.3598137651023631 1.9355321926042015\n",
      "---\n",
      "Quantiles: 1th: 2.50, 5th: 3.83, 10th: 4.75, 30th: 7.18, 50th: 9.44, 70th: 12.11, 90th: 17.08, 95th: 20.16, 99th: 26.24\n",
      "bonus term 0.051199158133019694 // variance stats 0.3556323653759412 //part1 1.736976732219687 //part2 0.029476018407910483\n",
      "-1.6801918502770639 0.029660430825518874 1.9851439131144757\n",
      "-1.7825901665431034 0.029660430825518874 1.8827455968484361\n",
      "---\n",
      "Quantiles: 1th: 2.36, 5th: 3.47, 10th: 4.34, 30th: 6.56, 50th: 8.57, 70th: 11.27, 90th: 15.61, 95th: 18.36, 99th: 25.34\n",
      "bonus term 0.043411849855526305 // variance stats 0.3851670954767279 //part1 1.736976732219687 //part2 0.024992764180583004\n",
      "-1.7481977950785716 0.3223711619623209 1.929853118113003\n",
      "-1.8350214947896242 0.3223711619623209 1.8430294184019504\n",
      "---\n",
      "\\begin{tabular}{|c|c|c|c|c|c|c|}\n",
      "\\hline\n",
      "Model &  Normal & Two-Step & Bootstrap & Bootstrap-TIC & Bootstrap-ND & Shi (2015) \\\\ \\hline \\hline\n",
      "No selection & 0.94 & 0.94 & 0.94 & 0.99 & 0.99 & 0.98   \\\\\n",
      "Model 1 & 0.00 & 0.00 & 0.00 & 0.00 & 0.00 & 0.00   \\\\\n",
      "Model 2 & 0.06 & 0.06 & 0.06 & 0.01 & 0.01 & 0.02   \\\\\n",
      "\\hline\n",
      "\\end{tabular}\n",
      "(array([0.94, 0.  , 0.06]), array([0.94, 0.  , 0.06]), array([0.94, 0.  , 0.06]), array([0.99, 0.  , 0.01]), array([0.99, 0.  , 0.01]), array([0.98, 0.  , 0.02]), -4.294097026350098, 4.993878644609734, 6.008141253732247)\n"
     ]
    }
   ],
   "source": [
    "nobs = 250\n",
    "c1,c2 = calc_c(nobs)\n",
    "\n",
    "\n",
    "setup_shi_ex  = lambda yn,xn: setup_shi(yn,xn,num_params=num_params)\n",
    "gen_data_ex = lambda : gen_data(nobs=250, a=a,  num_params=num_params)\n",
    "mc_out = vuong_tests_fast.monte_carlo(num_sims,gen_data_ex,setup_shi_ex,trials=trials,c1=c1,c2=c2,adapt_c = adapt_c,\n",
    "                                     print_stuff=True, data_tuned_c=data_tuned_c)\n",
    "vuong_tests_fast.print_mc(mc_out)\n",
    "print(mc_out)"
   ]
  },
  {
   "cell_type": "code",
   "execution_count": 14,
   "metadata": {},
   "outputs": [
    {
     "name": "stdout",
     "output_type": "stream",
     "text": [
      "Quantiles: 1th: 2.61, 5th: 3.90, 10th: 4.71, 30th: 6.86, 50th: 8.89, 70th: 11.21, 90th: 15.29, 95th: 17.46, 99th: 22.97\n",
      "bonus term 0.00215338773373887 // variance stats 0.386177635407579 //part1 1.8616455666360694 //part2 0.0011567119823081948\n",
      "-2.0008838006105467 -1.804935437876384 1.854889738941538\n",
      "-2.005190576078024 -1.804935437876384 1.85058296347406\n",
      "---\n",
      "Quantiles: 1th: 2.53, 5th: 3.88, 10th: 4.78, 30th: 7.13, 50th: 9.20, 70th: 11.73, 90th: 16.23, 95th: 18.64, 99th: 23.44\n",
      "bonus term 0.0026524627147969638 // variance stats 0.31343211174144525 //part1 1.8616455666360694 //part2 0.0014247946882767132\n",
      "-1.7374984512827947 0.6473315622601927 2.0379336831987223\n",
      "-1.7428033767123887 0.6473315622601927 2.032628757769128\n",
      "---\n",
      "Quantiles: 1th: 2.66, 5th: 4.05, 10th: 5.00, 30th: 7.50, 50th: 9.58, 70th: 12.20, 90th: 17.06, 95th: 19.61, 99th: 26.31\n",
      "bonus term 0.0021635839933684523 // variance stats 0.3843555996780828 //part1 1.8616455666360694 //part2 0.0011621889967368898\n",
      "-1.9997513252838515 1.9222932204771797 2.0570652190159313\n",
      "-2.004078493270588 1.9222932204771797 2.052738051029195\n",
      "---\n",
      "Quantiles: 1th: 2.95, 5th: 4.26, 10th: 5.34, 30th: 7.94, 50th: 10.30, 70th: 13.21, 90th: 18.35, 95th: 21.49, 99th: 27.59\n",
      "bonus term 0.0021532185216180163 // variance stats 0.3862080185804979 //part1 1.8616455666360694 //part2 0.0011566210884646586\n",
      "-2.071700746363666 -1.3660566729813628 1.9823289057832274\n",
      "-2.076007183406902 -1.3660566729813628 1.9780224687399914\n",
      "---\n",
      "\\begin{tabular}{|c|c|c|c|c|c|c|}\n",
      "\\hline\n",
      "Model &  Normal & Two-Step & Bootstrap & Bootstrap-TIC & Bootstrap-ND & Shi (2015) \\\\ \\hline \\hline\n",
      "No selection & 0.93 & 0.93 & 0.93 & 0.99 & 0.99 & 1.00   \\\\\n",
      "Model 1 & 0.00 & 0.00 & 0.00 & 0.00 & 0.00 & 0.00   \\\\\n",
      "Model 2 & 0.07 & 0.07 & 0.07 & 0.01 & 0.01 & 0.00   \\\\\n",
      "\\hline\n",
      "\\end{tabular}\n",
      "(array([0.93, 0.  , 0.07]), array([0.93, 0.  , 0.07]), array([0.93, 0.  , 0.07]), array([0.99, 0.  , 0.01]), array([0.99, 0.  , 0.01]), array([1., 0., 0.]), -3.2712616618393673, 7.099370550226374, 8.151277896842005)\n"
     ]
    }
   ],
   "source": [
    "\n",
    "nobs = 500\n",
    "c1,c2 = calc_c(nobs)\n",
    "\n",
    "\n",
    "setup_shi_ex  = lambda yn,xn: setup_shi(yn,xn,num_params=num_params)\n",
    "gen_data_ex = lambda : gen_data(nobs=nobs, a=a,  num_params=num_params)\n",
    "mc_out = vuong_tests_fast.monte_carlo(num_sims,gen_data_ex,setup_shi_ex,trials=trials,c1=c1,c2=c2,adapt_c = adapt_c,print_stuff=True)\n",
    "vuong_tests_fast.print_mc(mc_out)\n",
    "print(mc_out)"
   ]
  },
  {
   "cell_type": "code",
   "execution_count": 15,
   "metadata": {},
   "outputs": [
    {
     "name": "stdout",
     "output_type": "stream",
     "text": [
      "Quantiles: 1th: 2.41, 5th: 3.75, 10th: 4.63, 30th: 7.10, 50th: 9.39, 70th: 12.14, 90th: 17.41, 95th: 20.70, 99th: 28.25\n",
      "bonus term 0.04794041547344633 // variance stats 0.5582243548899309 //part1 1.5848931924611136 //part2 0.030248357240402857\n",
      "-1.6771285933861813 -0.547580286059411 1.9278990496837412\n",
      "-1.773009424333074 -0.547580286059411 1.8320182187368483\n",
      "---\n",
      "Quantiles: 1th: 2.11, 5th: 3.69, 10th: 4.52, 30th: 7.13, 50th: 9.68, 70th: 13.27, 90th: 20.19, 95th: 24.94, 99th: 35.58\n",
      "bonus term 0.05838998919667126 // variance stats 0.527799868753819 //part1 1.5848931924611136 //part2 0.036841592527758864\n",
      "-1.8369293180027353 -0.767958073738552 1.7621490040610466\n",
      "-1.9537092963960778 -0.767958073738552 1.645369025667704\n",
      "---\n",
      "Quantiles: 1th: 2.32, 5th: 3.58, 10th: 4.52, 30th: 6.95, 50th: 9.44, 70th: 12.37, 90th: 18.17, 95th: 21.40, 99th: 29.26\n",
      "bonus term 0.08548288903770043 // variance stats 0.3187681155140616 //part1 1.5848931924611136 //part2 0.05393605666572248\n",
      "-1.993547651938668 0.2259687286926951 1.7298259610983282\n",
      "-2.1645134300140687 0.2259687286926951 1.5588601830229274\n",
      "---\n",
      "Quantiles: 1th: 2.74, 5th: 4.33, 10th: 5.41, 30th: 8.73, 50th: 12.06, 70th: 16.59, 90th: 26.35, 95th: 32.52, 99th: 47.14\n",
      "bonus term 0.069539619610857 // variance stats 0.5742394739620579 //part1 1.5848931924611136 //part2 0.0438765337258291\n",
      "-1.6590805465845313 0.6178842535861055 2.1687688642773137\n",
      "-1.7981597858062455 0.6178842535861055 2.0296896250555996\n",
      "---\n",
      "\\begin{tabular}{|c|c|c|c|c|c|c|}\n",
      "\\hline\n",
      "Model &  Normal & Two-Step & Bootstrap & Bootstrap-TIC & Bootstrap-ND & Shi (2015) \\\\ \\hline \\hline\n",
      "No selection & 0.86 & 0.93 & 0.87 & 0.99 & 0.99 & 0.97   \\\\\n",
      "Model 1 & 0.00 & 0.00 & 0.00 & 0.01 & 0.01 & 0.01   \\\\\n",
      "Model 2 & 0.14 & 0.07 & 0.13 & 0.00 & 0.00 & 0.02   \\\\\n",
      "\\hline\n",
      "\\end{tabular}\n",
      "(array([0.86, 0.  , 0.14]), array([0.93, 0.  , 0.07]), array([0.87, 0.  , 0.13]), array([0.99, 0.01, 0.  ]), array([0.99, 0.01, 0.  ]), array([0.97, 0.01, 0.02]), -3.5465103526133377, 4.277293499750921, 4.539595340269177)\n"
     ]
    }
   ],
   "source": [
    "nobs = 100\n",
    "c1,c2 = calc_c(nobs)\n",
    "\n",
    "\n",
    "setup_shi_ex  = lambda yn,xn: setup_shi(yn,xn,num_params=num_params)\n",
    "gen_data_ex = lambda : gen_data(nobs=nobs, a=a,  num_params=num_params)\n",
    "mc_out = vuong_tests_fast.monte_carlo(num_sims,gen_data_ex,setup_shi_ex,trials=trials,c1=c1,c2=c2,adapt_c = adapt_c,\n",
    "                                     print_stuff=True, data_tuned_c=data_tuned_c)\n",
    "vuong_tests_fast.print_mc(mc_out)\n",
    "print(mc_out)"
   ]
  },
  {
   "cell_type": "markdown",
   "metadata": {},
   "source": [
    "# a  = .25, k= 4, something not right?"
   ]
  },
  {
   "cell_type": "code",
   "execution_count": 16,
   "metadata": {},
   "outputs": [],
   "source": [
    "a = 0.25\n",
    "num_params=4\n",
    "\n"
   ]
  },
  {
   "cell_type": "code",
   "execution_count": 17,
   "metadata": {
    "scrolled": false
   },
   "outputs": [
    {
     "name": "stdout",
     "output_type": "stream",
     "text": [
      "\\begin{tabular}{|c|c|c|c|c|c|c|}\n",
      "\\hline\n",
      "Model &  Normal & Two-Step & Bootstrap & Bootstrap-TIC & Bootstrap-ND & Shi (2015) \\\\ \\hline \\hline\n",
      "No selection & 0.95 & 0.95 & 0.97 & 0.97 & 0.97 & 0.97   \\\\\n",
      "Model 1 & 0.01 & 0.01 & 0.01 & 0.01 & 0.01 & 0.01   \\\\\n",
      "Model 2 & 0.04 & 0.04 & 0.02 & 0.02 & 0.02 & 0.02   \\\\\n",
      "\\hline\n",
      "\\end{tabular}\n",
      "(array([0.95, 0.01, 0.04]), array([0.95, 0.01, 0.04]), array([0.97, 0.01, 0.02]), array([0.97, 0.01, 0.02]), array([0.97, 0.01, 0.02]), array([0.97, 0.01, 0.02]), -1.1526542304913558, 5.618623013502887, 5.580559738669481)\n"
     ]
    }
   ],
   "source": [
    "\n",
    "nobs = 250\n",
    "c1,c2 = calc_c(nobs)\n",
    "\n",
    "\n",
    "setup_shi_ex  = lambda yn,xn: setup_shi(yn,xn,num_params=num_params)\n",
    "gen_data_ex = lambda : gen_data(nobs=nobs, a=a,  num_params=num_params)\n",
    "mc_out = vuong_tests_fast.monte_carlo(num_sims,gen_data_ex,setup_shi_ex,trials=trials,c1=c1,c2=c2,adapt_c = adapt_c,\n",
    "                                     print_stuff=False, data_tuned_c=data_tuned_c)\n",
    "vuong_tests_fast.print_mc(mc_out)\n",
    "print(mc_out)"
   ]
  },
  {
   "cell_type": "markdown",
   "metadata": {},
   "source": [
    "# a  = .25, K = 19"
   ]
  },
  {
   "cell_type": "code",
   "execution_count": 18,
   "metadata": {},
   "outputs": [],
   "source": [
    "a = 0.25\n",
    "num_params=19\n"
   ]
  },
  {
   "cell_type": "code",
   "execution_count": 19,
   "metadata": {
    "scrolled": true
   },
   "outputs": [
    {
     "name": "stdout",
     "output_type": "stream",
     "text": [
      "\\begin{tabular}{|c|c|c|c|c|c|c|}\n",
      "\\hline\n",
      "Model &  Normal & Two-Step & Bootstrap & Bootstrap-TIC & Bootstrap-ND & Shi (2015) \\\\ \\hline \\hline\n",
      "No selection & 0.70 & 0.78 & 0.68 & 0.96 & 0.96 & 0.97   \\\\\n",
      "Model 1 & 0.00 & 0.00 & 0.00 & 0.01 & 0.01 & 0.00   \\\\\n",
      "Model 2 & 0.30 & 0.22 & 0.32 & 0.03 & 0.03 & 0.03   \\\\\n",
      "\\hline\n",
      "\\end{tabular}\n",
      "(array([0.7, 0. , 0.3]), array([0.78, 0.  , 0.22]), array([0.68, 0.  , 0.32]), array([0.96, 0.01, 0.03]), array([0.96, 0.01, 0.03]), array([0.97, 0.  , 0.03]), -9.889474035117619, 6.4703231111739745, 6.714136150645025)\n"
     ]
    }
   ],
   "source": [
    "\n",
    "nobs = 250\n",
    "c1,c2 = calc_c(nobs)\n",
    "\n",
    "\n",
    "setup_shi_ex  = lambda yn,xn: setup_shi(yn,xn,num_params=num_params)\n",
    "gen_data_ex = lambda : gen_data(nobs=250, a=a,  num_params=num_params)\n",
    "mc_out = vuong_tests_fast.monte_carlo(num_sims,gen_data_ex,setup_shi_ex,trials=trials,c1=c1,c2=c2,adapt_c = adapt_c,\n",
    "                                     print_stuff=False, data_tuned_c=data_tuned_c)\n",
    "vuong_tests_fast.print_mc(mc_out)\n",
    "print(mc_out)"
   ]
  },
  {
   "cell_type": "markdown",
   "metadata": {},
   "source": [
    "# evidence of power"
   ]
  },
  {
   "cell_type": "code",
   "execution_count": 20,
   "metadata": {},
   "outputs": [
    {
     "name": "stdout",
     "output_type": "stream",
     "text": [
      "\\begin{tabular}{|c|c|c|c|c|c|c|}\n",
      "\\hline\n",
      "Model &  Normal & Two-Step & Bootstrap & Bootstrap-TIC & Bootstrap-ND & Shi (2015) \\\\ \\hline \\hline\n",
      "No selection & 0.80 & 0.80 & 0.77 & 0.49 & 0.53 & 0.52   \\\\\n",
      "Model 1 & 0.20 & 0.20 & 0.23 & 0.51 & 0.47 & 0.48   \\\\\n",
      "Model 2 & 0.00 & 0.00 & 0.00 & 0.00 & 0.00 & 0.00   \\\\\n",
      "\\hline\n",
      "\\end{tabular}\n",
      "(array([0.8, 0.2, 0. ]), array([0.8, 0.2, 0. ]), array([0.77, 0.23, 0.  ]), array([0.49, 0.51, 0.  ]), array([0.53, 0.47, 0.  ]), array([0.52, 0.48, 0.  ]), 7.28008528029158, 5.100197521079789, 5.418091845391691)\n"
     ]
    }
   ],
   "source": [
    "num_params= 9\n",
    "nobs = 250\n",
    "c1,c2 = calc_c(nobs)\n",
    "\n",
    "\n",
    "a1,a2 = np.sqrt(1.09-1), 0.00\n",
    "setup_shi_ex  = lambda yn,xn: setup_shi(yn,xn,num_params=num_params)\n",
    "gen_data_ex = lambda : gen_data2(nobs=nobs, a1=a1, a2=a2, num_params=19)\n",
    "mc_out = vuong_tests_fast.monte_carlo(num_sims,gen_data_ex,setup_shi_ex,trials=trials,c1=c1,c2=c2,adapt_c = adapt_c,\n",
    "                                     print_stuff=False, data_tuned_c=data_tuned_c)\n",
    "vuong_tests_fast.print_mc(mc_out)\n",
    "print(mc_out)"
   ]
  },
  {
   "cell_type": "code",
   "execution_count": 21,
   "metadata": {},
   "outputs": [
    {
     "name": "stdout",
     "output_type": "stream",
     "text": [
      "\\begin{tabular}{|c|c|c|c|c|c|c|}\n",
      "\\hline\n",
      "Model &  Normal & Two-Step & Bootstrap & Bootstrap-TIC & Bootstrap-ND & Shi (2015) \\\\ \\hline \\hline\n",
      "No selection & 0.78 & 0.78 & 0.80 & 0.40 & 0.47 & 0.43   \\\\\n",
      "Model 1 & 0.22 & 0.22 & 0.20 & 0.60 & 0.53 & 0.57   \\\\\n",
      "Model 2 & 0.00 & 0.00 & 0.00 & 0.00 & 0.00 & 0.00   \\\\\n",
      "\\hline\n",
      "\\end{tabular}\n",
      "(array([0.78, 0.22, 0.  ]), array([0.78, 0.22, 0.  ]), array([0.8, 0.2, 0. ]), array([0.4, 0.6, 0. ]), array([0.47, 0.53, 0.  ]), array([0.43, 0.57, 0.  ]), 7.411004817710161, 5.083485643444695, 5.382844448368343)\n"
     ]
    }
   ],
   "source": [
    "nobs = 500\n",
    "c1,c2 = calc_c(nobs)\n",
    "\n",
    "\n",
    "a1,a2 = np.sqrt(1.09**.5-1), 0.00\n",
    "setup_shi_ex  = lambda yn,xn: setup_shi(yn,xn,num_params=num_params)\n",
    "gen_data_ex = lambda : gen_data2(nobs=nobs, a1=a1, a2=a2, num_params=num_params)\n",
    "mc_out = vuong_tests_fast.monte_carlo(num_sims,gen_data_ex,setup_shi_ex,trials=trials,c1=c1,c2=c2,adapt_c = adapt_c,\n",
    "                                     print_stuff=False, data_tuned_c=data_tuned_c)\n",
    "vuong_tests_fast.print_mc(mc_out)\n",
    "print(mc_out)"
   ]
  },
  {
   "cell_type": "code",
   "execution_count": null,
   "metadata": {
    "scrolled": true
   },
   "outputs": [],
   "source": [
    "\n",
    "nobs = 100\n",
    "c1,c2 = calc_c(nobs)\n",
    "\n",
    "\n",
    "a1,a2 = np.sqrt(1.09**2.5-1), 0.00\n",
    "setup_shi_ex  = lambda yn,xn: setup_shi(yn,xn,num_params=num_params)\n",
    "gen_data_ex = lambda : gen_data2(nobs=nobs, a1=a1, a2=a2, num_params=num_params)\n",
    "mc_out = vuong_tests_fast.monte_carlo(num_sims,gen_data_ex,setup_shi_ex,trials=trials,c1=c1,c2=c2,adapt_c = adapt_c,\n",
    "                                     print_stuff=False, data_tuned_c=data_tuned_c)\n",
    "vuong_tests_fast.print_mc(mc_out)\n",
    "print(mc_out)"
   ]
  },
  {
   "cell_type": "code",
   "execution_count": null,
   "metadata": {},
   "outputs": [],
   "source": [
    "num_params= 19\n",
    "nobs = 250\n",
    "c1,c2 = calc_c(nobs)\n",
    "\n",
    "\n",
    "a1,a2 = np.sqrt(1.09-1), 0.00\n",
    "setup_shi_ex  = lambda yn,xn: setup_shi(yn,xn,num_params=num_params)\n",
    "gen_data_ex = lambda : gen_data2(nobs=nobs, a1=a1, a2=a2, num_params=num_params)\n",
    "mc_out = vuong_tests_fast.monte_carlo(num_sims,gen_data_ex,setup_shi_ex,trials=trials,c1=c1,c2=c2,adapt_c = adapt_c,\n",
    "                                     print_stuff=False, data_tuned_c=data_tuned_c)\n",
    "vuong_tests_fast.print_mc(mc_out)\n",
    "print(mc_out)"
   ]
  },
  {
   "cell_type": "code",
   "execution_count": null,
   "metadata": {},
   "outputs": [],
   "source": [
    "num_params= 4\n",
    "nobs = 250\n",
    "c1,c2 = calc_c(nobs)\n",
    "\n",
    "\n",
    "a1,a2 = np.sqrt(1.09-1), 0.00\n",
    "setup_shi_ex  = lambda yn,xn: setup_shi(yn,xn,num_params=num_params)\n",
    "gen_data_ex = lambda : gen_data2(nobs=nobs, a1=a1, a2=a2, num_params=num_params)\n",
    "mc_out = vuong_tests_fast.monte_carlo(num_sims,gen_data_ex,setup_shi_ex,trials=trials,c1=c1,c2=c2,adapt_c = adapt_c,\n",
    "                                     print_stuff=False, data_tuned_c=data_tuned_c)\n",
    "vuong_tests_fast.print_mc(mc_out)\n",
    "print(mc_out)"
   ]
  },
  {
   "cell_type": "markdown",
   "metadata": {},
   "source": [
    "# evidence of power 2"
   ]
  },
  {
   "cell_type": "code",
   "execution_count": null,
   "metadata": {},
   "outputs": [],
   "source": [
    "num_params= 9\n",
    "nobs = 250\n",
    "c1,c2 = calc_c(nobs)\n",
    "\n",
    "\n",
    "\n",
    "a2,a1 = np.sqrt(1.09-1), 0.00\n",
    "setup_shi_ex  = lambda yn,xn: setup_shi(yn,xn,num_params=num_params)\n",
    "gen_data_ex = lambda : gen_data2(nobs=nobs, a1=a1, a2=a2, num_params=num_params)\n",
    "mc_out = vuong_tests_fast.monte_carlo(num_sims,gen_data_ex,setup_shi_ex,trials=trials,c1=c1,c2=c2,adapt_c = adapt_c,\n",
    "                                     print_stuff=False, data_tuned_c=data_tuned_c)\n",
    "vuong_tests_fast.print_mc(mc_out)\n",
    "print(mc_out)"
   ]
  },
  {
   "cell_type": "code",
   "execution_count": null,
   "metadata": {},
   "outputs": [],
   "source": [
    "nobs = 500\n",
    "c1,c2 = calc_c(nobs)\n",
    "\n",
    "\n",
    "\n",
    "a2,a1 = np.sqrt(1.09**.5-1), 0.00\n",
    "setup_shi_ex  = lambda yn,xn: setup_shi(yn,xn,num_params=num_params)\n",
    "gen_data_ex = lambda : gen_data2(nobs=nobs, a1=a1, a2=a2, num_params=num_params)\n",
    "mc_out = vuong_tests_fast.monte_carlo(num_sims,gen_data_ex,setup_shi_ex,trials=trials,c1=c1,c2=c2,adapt_c = adapt_c,\n",
    "                                     print_stuff=False, data_tuned_c=data_tuned_c)\n",
    "vuong_tests_fast.print_mc(mc_out)\n",
    "print(mc_out)"
   ]
  },
  {
   "cell_type": "code",
   "execution_count": null,
   "metadata": {},
   "outputs": [],
   "source": [
    "nobs = 100\n",
    "c1,c2 = calc_c(nobs)\n",
    "\n",
    "\n",
    "\n",
    "a2,a1 =np.sqrt(1.09**2.5-1), 0.00\n",
    "setup_shi_ex  = lambda yn,xn: setup_shi(yn,xn,num_params=num_params)\n",
    "gen_data_ex = lambda : gen_data2(nobs=nobs, a1=a1, a2=a2, num_params=num_params)\n",
    "mc_out = vuong_tests_fast.monte_carlo(num_sims,gen_data_ex,setup_shi_ex,trials=trials,c1=c1,c2=c2,adapt_c = adapt_c,\n",
    "                                     print_stuff=False, data_tuned_c=data_tuned_c)\n",
    "vuong_tests_fast.print_mc(mc_out)\n",
    "print(mc_out)"
   ]
  },
  {
   "cell_type": "code",
   "execution_count": null,
   "metadata": {},
   "outputs": [],
   "source": [
    "num_params= 19\n",
    "nobs = 250\n",
    "c1,c2 = calc_c(nobs)\n",
    "\n",
    "\n",
    "a2,a1 = np.sqrt(1.09-1), 0.00\n",
    "setup_shi_ex  = lambda yn,xn: setup_shi(yn,xn,num_params=num_params)\n",
    "gen_data_ex = lambda : gen_data2(nobs=250, a1=a1, a2=a2, num_params=num_params)\n",
    "mc_out = vuong_tests_fast.monte_carlo(num_sims,gen_data_ex,setup_shi_ex,trials=trials,c1=c1,c2=c2,adapt_c = adapt_c,\n",
    "                                     print_stuff=False, data_tuned_c=data_tuned_c)\n",
    "vuong_tests_fast.print_mc(mc_out)\n",
    "print(mc_out)"
   ]
  },
  {
   "cell_type": "code",
   "execution_count": null,
   "metadata": {},
   "outputs": [],
   "source": [
    "num_params= 4\n",
    "nobs = 250\n",
    "c1,c2 = calc_c(nobs)\n",
    "\n",
    "\n",
    "a2,a1 = np.sqrt(1.09-1), 0.00\n",
    "setup_shi_ex  = lambda yn,xn: setup_shi(yn,xn,num_params=num_params)\n",
    "gen_data_ex = lambda : gen_data2(nobs=250, a1=a1, a2=a2, num_params=num_params)\n",
    "mc_out = vuong_tests_fast.monte_carlo(num_sims,gen_data_ex,setup_shi_ex,trials=trials,c1=c1,c2=c2,adapt_c = adapt_c,\n",
    "                                     print_stuff=False, data_tuned_c=data_tuned_c)\n",
    "vuong_tests_fast.print_mc(mc_out)\n",
    "print(mc_out)"
   ]
  },
  {
   "cell_type": "code",
   "execution_count": null,
   "metadata": {},
   "outputs": [],
   "source": []
  },
  {
   "cell_type": "code",
   "execution_count": null,
   "metadata": {},
   "outputs": [],
   "source": []
  },
  {
   "cell_type": "code",
   "execution_count": null,
   "metadata": {},
   "outputs": [],
   "source": []
  }
 ],
 "metadata": {
  "kernelspec": {
   "display_name": "Python 3 (ipykernel)",
   "language": "python",
   "name": "python3"
  },
  "language_info": {
   "codemirror_mode": {
    "name": "ipython",
    "version": 3
   },
   "file_extension": ".py",
   "mimetype": "text/x-python",
   "name": "python",
   "nbconvert_exporter": "python",
   "pygments_lexer": "ipython3",
   "version": "3.10.9"
  }
 },
 "nbformat": 4,
 "nbformat_minor": 2
}
