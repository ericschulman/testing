{
 "cells": [
  {
   "cell_type": "code",
   "execution_count": 1,
   "id": "2f4db71c",
   "metadata": {},
   "outputs": [],
   "source": [
    "%load_ext autoreload\n",
    "%autoreload 2\n",
    "\n",
    "import numpy as np\n",
    "import matplotlib.pyplot as plt\n",
    "import statsmodels.api as sm\n",
    "from statsmodels.base.model import GenericLikelihoodModel\n",
    "import scipy.stats as stats\n",
    "import sys\n",
    "\n",
    "sys.path.append(\"../\")\n",
    "import vuong_tests5"
   ]
  },
  {
   "cell_type": "code",
   "execution_count": 2,
   "id": "329d741f",
   "metadata": {},
   "outputs": [],
   "source": [
    "class OLS_loglike(GenericLikelihoodModel):\n",
    "    \n",
    "    def __init__(self, *args,ols=False, **kwargs):\n",
    "        super(OLS_loglike,self).__init__(*args,**kwargs)\n",
    "        self.ols = ols\n",
    "\n",
    "    def loglikeobs(self, params):\n",
    "        y = self.endog\n",
    "        x = self.exog\n",
    "        mu_y = np.matmul(x,params)  \n",
    "        resid = y - mu_y\n",
    "        sigma = np.sqrt(np.sum(resid**2)/resid.shape[0])\n",
    "        pr_y = stats.norm.logpdf( resid, loc=0,scale=sigma )\n",
    "        return pr_y"
   ]
  },
  {
   "cell_type": "code",
   "execution_count": 3,
   "id": "be0c7939",
   "metadata": {},
   "outputs": [],
   "source": [
    "def setup_model(yn,xn):\n",
    "    \"\"\"setup models for ease\"\"\"\n",
    "    model1 = sm.OLS(yn,sm.add_constant(xn))\n",
    "    model1_fit = model1.fit(disp=False)\n",
    "    params1 = (model1_fit.params)\n",
    "    model1_deriv = OLS_loglike(yn,sm.add_constant(xn))\n",
    "    ll1 = model1_deriv.loglikeobs(model1_fit.params)\n",
    "    grad1 =  model1_deriv.score_obs(model1_fit.params)    \n",
    "    hess1 = model1_deriv.hessian(model1_fit.params)\n",
    "    return ll1,grad1,hess1,params1,model1_fit.resid\n",
    "\n",
    "\n",
    "def setup_test(yn,xn):\n",
    "    lls = []\n",
    "    grads = []\n",
    "    hesss = []\n",
    "    params = []\n",
    "    resids = []\n",
    "    \n",
    "    x1 = np.array([xn,xn**2,xn**3]).transpose()\n",
    "    x2 = np.array([xn,xn**2,xn**3,xn**4]).transpose()\n",
    "    for xi in (x1,x2) : \n",
    "        #fit cubic and quadratic terms?\n",
    "        ll,grad,hess,param,resid = setup_model(yn,xi)\n",
    "        lls.append(ll)\n",
    "        grads.append(grad)\n",
    "        hesss.append(hess)\n",
    "        params.append(param)\n",
    "        resids.append(resid)\n",
    "    \n",
    "    #determine 1 and 2\n",
    "    ind1 = 0\n",
    "    ind2 = 1\n",
    "    return (lls[ind1],grads[ind1],hesss[ind1],params[ind1],resids[ind1],\n",
    "            lls[ind2],grads[ind2],hesss[ind2],params[ind2],resids[ind2])\n",
    "\n",
    "def gen_data(nobs=1000, a=0.25):\n",
    "    x = np.random.normal(scale=1., size=(nobs))\n",
    "    e = np.random.normal(loc=0.0, scale=1.0, size=nobs)\n",
    "    y = 1 + a*(x + x**2) + e #truth is quadratic\n",
    "    return y,x,nobs\n",
    "\n",
    "yn,xn,nobs = gen_data()"
   ]
  },
  {
   "cell_type": "code",
   "execution_count": 4,
   "id": "a00fa932",
   "metadata": {},
   "outputs": [],
   "source": [
    "def test_mse(resid1,resid2):\n",
    "    nobs = resid1.shape[0]\n",
    "    llr = -1*(resid1**2 - resid2**2).sum()\n",
    "    omega = np.clip(np.sqrt((resid1**2 - resid2**2).var()),.1,10000)\n",
    "    test_stat = llr/(omega*np.sqrt(nobs))\n",
    "    return 1*(test_stat >= 1.96) + 2*( test_stat <= -1.96)\n"
   ]
  },
  {
   "cell_type": "code",
   "execution_count": 5,
   "id": "23ae6eef",
   "metadata": {},
   "outputs": [],
   "source": [
    "def monte_carlo(total,gen_data,setup_test,trials=100):\n",
    "    reg = np.array([0, 0 ,0])\n",
    "    mse = np.array([0, 0 ,0])\n",
    "    omega = 0\n",
    "    llr = 0\n",
    "    var = 0\n",
    "\n",
    "    for i in range(total):\n",
    "        \n",
    "        #setup data\n",
    "        np.random.seed()\n",
    "        yn,xn,nobs = gen_data()\n",
    "        \n",
    "        #update llr and summary stats\n",
    "        ll1,grad1,hess1,params1,resid1,ll2,grad2,hess2,params2,resid2 = setup_test(yn,xn)\n",
    "        llrn = (ll1 - ll2).sum()\n",
    "        omegan = np.sqrt( (ll1 -ll2).var())\n",
    "        llr = llr +llrn\n",
    "        var = llrn**2 + var\n",
    "        omega = omega +omegan\n",
    "    \n",
    "        reg_index = vuong_tests5.two_step_test(ll1,grad1,hess1,params1,ll2,grad2,hess2,params2,biascorrect=True)\n",
    "        mse_index = test_mse(resid1,resid2)\n",
    "        \n",
    "        reg[reg_index] = reg[reg_index] + 1\n",
    "        mse[mse_index] = mse[mse_index] + 1\n",
    "\n",
    "    return  reg/total,mse/total,llr/total,np.sqrt( (var/total-(llr/total)**2) ),omega*np.sqrt(nobs)/total\n",
    "\n"
   ]
  },
  {
   "cell_type": "code",
   "execution_count": 6,
   "id": "8add48d3",
   "metadata": {},
   "outputs": [
    {
     "name": "stdout",
     "output_type": "stream",
     "text": [
      "(array([1., 0., 0.]), array([1., 0., 0.]), -0.5472102921766036, 0.8060465561677376, 0.7665167938874334)\n"
     ]
    }
   ],
   "source": [
    "gen_data_ex = lambda : gen_data(nobs=1000, a=0.0)\n",
    "print(monte_carlo(100,gen_data_ex,setup_test))"
   ]
  },
  {
   "cell_type": "code",
   "execution_count": 7,
   "id": "87bb3f20",
   "metadata": {},
   "outputs": [
    {
     "name": "stdout",
     "output_type": "stream",
     "text": [
      "(array([1., 0., 0.]), array([1., 0., 0.]), -0.4947951150154822, 0.6379632887406606, 0.7628863929462543)\n"
     ]
    }
   ],
   "source": [
    "gen_data_ex = lambda : gen_data(nobs=1000, a=0.25)\n",
    "print(monte_carlo(100,gen_data_ex,setup_test))"
   ]
  },
  {
   "cell_type": "code",
   "execution_count": 8,
   "id": "79a1e61f",
   "metadata": {},
   "outputs": [
    {
     "name": "stdout",
     "output_type": "stream",
     "text": [
      "(array([1., 0., 0.]), array([1., 0., 0.]), -0.4686012770567757, 0.7132806283275269, 0.7315424800267702)\n"
     ]
    }
   ],
   "source": [
    "gen_data_ex = lambda : gen_data(nobs=1000, a=0.5)\n",
    "print(monte_carlo(100,gen_data_ex,setup_test))"
   ]
  },
  {
   "cell_type": "markdown",
   "id": "3b51a8af",
   "metadata": {},
   "source": [
    "# Power"
   ]
  },
  {
   "cell_type": "code",
   "execution_count": 9,
   "id": "c112da6d",
   "metadata": {},
   "outputs": [
    {
     "name": "stdout",
     "output_type": "stream",
     "text": [
      "(1000,) (1000,)\n"
     ]
    }
   ],
   "source": [
    "def gen_data2(nobs=1000, a=0.25):\n",
    "    x = np.random.normal(scale=1., size=nobs)\n",
    "    e = np.random.normal(loc=0.0, scale=1.0, size=nobs)\n",
    "    y = 1 + a*(x + x**2 + x**3 + x**4) + e\n",
    "    return y,x,nobs\n",
    "\n",
    "yn,xn,nobs = gen_data2()\n",
    "print(yn.shape,xn.shape)"
   ]
  },
  {
   "cell_type": "code",
   "execution_count": 10,
   "id": "5418f368",
   "metadata": {},
   "outputs": [
    {
     "name": "stdout",
     "output_type": "stream",
     "text": [
      "(array([1., 0., 0.]), array([1., 0., 0.]), -0.46061447204918815, 0.5772820451191526, 0.7252030303859448)\n"
     ]
    }
   ],
   "source": [
    "gen_data_ex = lambda : gen_data2(nobs=1000, a=0.0)\n",
    "print(monte_carlo(100,gen_data_ex,setup_test))"
   ]
  },
  {
   "cell_type": "code",
   "execution_count": 11,
   "id": "cf1b2822",
   "metadata": {},
   "outputs": [
    {
     "name": "stdout",
     "output_type": "stream",
     "text": [
      "(array([0.39, 0.  , 0.61]), array([0., 0., 1.]), -401.4838321372878, 136.2072291567747, 75.65445033414868)\n"
     ]
    }
   ],
   "source": [
    "gen_data_ex = lambda : gen_data2(nobs=1000, a=0.25)\n",
    "print(monte_carlo(100,gen_data_ex,setup_test))"
   ]
  },
  {
   "cell_type": "code",
   "execution_count": 12,
   "id": "1b7e345a",
   "metadata": {},
   "outputs": [
    {
     "name": "stdout",
     "output_type": "stream",
     "text": [
      "(array([0.31, 0.  , 0.69]), array([0., 0., 1.]), -835.5054292955984, 185.7054042521751, 110.01629369376282)\n"
     ]
    }
   ],
   "source": [
    "gen_data_ex = lambda : gen_data2(nobs=1000, a=0.5)\n",
    "print(monte_carlo(100,gen_data_ex,setup_test))"
   ]
  },
  {
   "cell_type": "code",
   "execution_count": 13,
   "id": "70f41011",
   "metadata": {},
   "outputs": [
    {
     "name": "stdout",
     "output_type": "stream",
     "text": [
      "(array([0.08, 0.  , 0.92]), array([0., 0., 1.]), -1814.7955000758604, 310.6597633637663, 209.0461413849191)\n"
     ]
    }
   ],
   "source": [
    "gen_data_ex = lambda : gen_data2(nobs=2000, a=.5)\n",
    "print(monte_carlo(100,gen_data_ex,setup_test))"
   ]
  },
  {
   "cell_type": "code",
   "execution_count": null,
   "id": "5bdface7",
   "metadata": {},
   "outputs": [],
   "source": []
  },
  {
   "cell_type": "code",
   "execution_count": null,
   "id": "d2f02f10",
   "metadata": {},
   "outputs": [],
   "source": []
  }
 ],
 "metadata": {
  "kernelspec": {
   "display_name": "Python 3",
   "language": "python",
   "name": "python3"
  },
  "language_info": {
   "codemirror_mode": {
    "name": "ipython",
    "version": 3
   },
   "file_extension": ".py",
   "mimetype": "text/x-python",
   "name": "python",
   "nbconvert_exporter": "python",
   "pygments_lexer": "ipython3",
   "version": "3.8.8"
  }
 },
 "nbformat": 4,
 "nbformat_minor": 5
}
