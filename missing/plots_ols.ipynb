{
 "cells": [
  {
   "cell_type": "code",
   "execution_count": 1,
   "metadata": {},
   "outputs": [],
   "source": [
    "#math\n",
    "import numpy as np\n",
    "import scipy.stats as stats\n",
    "import scipy.special\n",
    "#graphing\n",
    "import matplotlib.pyplot as plt\n",
    "#stats\n",
    "import statsmodels.api as sm\n",
    "from statsmodels.base.model import GenericLikelihoodModel\n",
    "\n",
    "#interpolate\n",
    "from scipy.integrate import quad"
   ]
  },
  {
   "cell_type": "code",
   "execution_count": 2,
   "metadata": {},
   "outputs": [
    {
     "name": "stdout",
     "output_type": "stream",
     "text": [
      "(500,)\n",
      "(500, 2)\n",
      "ModeResult(mode=array([0.]), count=array([45]))\n"
     ]
    }
   ],
   "source": [
    "beta0 = 1.\n",
    "beta1 = .25\n",
    "\n",
    "def gen_data(beta0=beta0,beta1=beta1):\n",
    "    nobs = 500\n",
    "    #parameters\n",
    "    sigma = 1\n",
    "    \n",
    "    epsilon = stats.norm.rvs(loc=0,scale=sigma,size=nobs)\n",
    "    #censor data below x<0?\n",
    "    x = stats.norm.rvs(loc=5,scale=5,size=nobs)\n",
    "    y = beta0+ beta1*x + epsilon\n",
    "    \n",
    "    #censor\n",
    "    y[y<=0] = 0\n",
    "    return y,x,nobs\n",
    "\n",
    "\n",
    "yn,xn,nobs = gen_data()\n",
    "print(xn.shape)\n",
    "print(sm.add_constant(xn).shape)\n",
    "print(scipy.stats.mode(yn))"
   ]
  },
  {
   "cell_type": "code",
   "execution_count": 3,
   "metadata": {},
   "outputs": [],
   "source": [
    "beta0 = 1.\n",
    "beta1 = .25\n",
    "\n",
    "def gen_data(beta0=beta0,beta1=beta1):\n",
    "    nobs = 1000\n",
    "    #parameters\n",
    "    sigma = 1\n",
    "    \n",
    "    epsilon = stats.norm.rvs(loc=0,scale=sigma,size=nobs)\n",
    "    #censor data below x<0?\n",
    "    x = stats.uniform.rvs(loc=-3,scale=6,size=nobs)\n",
    "    y = beta0+ beta1*x + epsilon\n",
    "    \n",
    "    #censor\n",
    "    y[y<=0] = 0\n",
    "    return y,x,nobs"
   ]
  },
  {
   "cell_type": "code",
   "execution_count": 4,
   "metadata": {},
   "outputs": [],
   "source": [
    "np.random.seed()\n",
    "yn,xn,nobs = gen_data()"
   ]
  },
  {
   "cell_type": "code",
   "execution_count": 5,
   "metadata": {},
   "outputs": [
    {
     "name": "stdout",
     "output_type": "stream",
     "text": [
      "                                Tobit Results                                 \n",
      "==============================================================================\n",
      "Dep. Variable:                      y   Log-Likelihood:                -1327.3\n",
      "Model:                          Tobit   AIC:                             2659.\n",
      "Method:            Maximum Likelihood   BIC:                             2668.\n",
      "Date:                Thu, 25 Mar 2021                                         \n",
      "Time:                        17:37:13                                         \n",
      "No. Observations:                1000                                         \n",
      "Df Residuals:                     998                                         \n",
      "Df Model:                           1                                         \n",
      "==============================================================================\n",
      "                 coef    std err          z      P>|z|      [0.025      0.975]\n",
      "------------------------------------------------------------------------------\n",
      "const          0.9952      0.032     30.786      0.000       0.932       1.059\n",
      "x1             0.2512      0.019     13.482      0.000       0.215       0.288\n",
      "==============================================================================\n",
      "                                Tobit Results                                 \n",
      "==============================================================================\n",
      "Dep. Variable:                      y   Log-Likelihood:                -1276.5\n",
      "Model:                          Tobit   AIC:                             2557.\n",
      "Method:            Maximum Likelihood   BIC:                             2567.\n",
      "Date:                Thu, 25 Mar 2021                                         \n",
      "Time:                        17:37:13                                         \n",
      "No. Observations:                1000                                         \n",
      "Df Residuals:                     998                                         \n",
      "Df Model:                           1                                         \n",
      "==============================================================================\n",
      "                 coef    std err          z      P>|z|      [0.025      0.975]\n",
      "------------------------------------------------------------------------------\n",
      "const          1.0972      0.032     34.692      0.000       1.035       1.159\n",
      "x1             0.2075      0.018     11.429      0.000       0.172       0.243\n",
      "==============================================================================\n"
     ]
    }
   ],
   "source": [
    "class Tobit(GenericLikelihoodModel):\n",
    "    \n",
    "    def __init__(self, *args,ols=False, **kwargs):\n",
    "        super(Tobit,self).__init__(*args,**kwargs)\n",
    "        self.ols = ols\n",
    "\n",
    "    def loglikeobs(self, params):\n",
    "        y = self.endog\n",
    "        x = self.exog\n",
    "        m = 1*(self.endog == 0) #missingness\n",
    "        \n",
    "        beta = params\n",
    "        \n",
    "        mu_y = np.matmul(x,beta)\n",
    "        \n",
    "        pr_y = stats.norm.logpdf( y, loc = mu_y)\n",
    "        \n",
    "       \n",
    "        #if complete case, assign pr missing to all observations...\n",
    "        pr_m = stats.norm.logcdf( y, loc = mu_y)\n",
    "        \n",
    "        #we're done if ols\n",
    "        if self.ols:\n",
    "            return pr_y\n",
    "        else:\n",
    "            ll = (1-m)*pr_y + m*pr_m\n",
    "            return ll\n",
    "        \n",
    "    def score(self, params):\n",
    "        y = self.endog\n",
    "        x = self.exog\n",
    "        m = 1*(self.endog == 0) #missingness\n",
    "        m_x = np.repeat(m,x.shape[1]).reshape(x.shape)\n",
    "        \n",
    "        if ols: #if OLS use all the data...\n",
    "            m, m_x = np.ones(y.shape), np.ones(x.shape)\n",
    "        \n",
    "        \n",
    "        b = params\n",
    "\n",
    "        beta_jac = np.zeros(len(b))\n",
    "        \n",
    "        #for censored\n",
    "        if not ols: \n",
    "            left_stats = (y - np.dot(x, b)) \n",
    "            l_pdf = scipy.stats.norm.logpdf(left_stats)\n",
    "            l_cdf = scipy.stats.norm.logcdf(left_stats)\n",
    "            left_frac = np.exp(l_pdf - l_cdf)\n",
    "            beta_left = np.dot(left_frac*m, x*m_x)\n",
    "            beta_jac -= beta_left\n",
    "        \n",
    "        #for non-censored\n",
    "        mid_stats = (y - np.dot(x, b))\n",
    "        beta_mid = np.dot(mid_stats*(1-m), x*(1-m_x) )\n",
    "        beta_jac += beta_mid\n",
    "        \n",
    "        # by chain rule, since the expression above is dloglik/dlogsigma\n",
    "        return beta_jac\n",
    "\n",
    "\n",
    "\n",
    "model1 =  Tobit(yn,sm.add_constant(xn))\n",
    "model1_fit = model1.fit(disp=False)\n",
    "print(model1_fit.summary())\n",
    "\n",
    "model2 =  Tobit(yn,sm.add_constant(xn),ols=True)\n",
    "model2_fit = model2.fit(disp=False)\n",
    "print(model2_fit.summary())"
   ]
  },
  {
   "cell_type": "code",
   "execution_count": 6,
   "metadata": {},
   "outputs": [
    {
     "name": "stdout",
     "output_type": "stream",
     "text": [
      "\\begin{tabular}{|c|c|c|c|}\n",
      "\\hline\n",
      "Model  & $\\beta_0 = 1.00 $ &  $\\beta_1 = 0.25 $  \\\\ \\hline \\hline\n",
      "Tobit & 0.9952 & 0.2512 \\\\\n",
      "{}&(0.032)&(0.019) \\\\\n",
      "\\hline\n",
      "OLS & 1.0972 & 0.2075 \\\\\n",
      "{}&(0.032)&(0.018) \\\\\n",
      "\\hline\n",
      "\\end{tabular}\n"
     ]
    }
   ],
   "source": [
    "def print_params(model1,model2,beta0,beta1):\n",
    "    print('\\\\begin{tabular}{|c|c|c|c|}')\n",
    "    print('\\\\hline')\n",
    "    print( 'Model  & $\\\\beta_0 = %.2f $ &  $\\\\beta_1 = %.2f $  \\\\\\\\ \\\\hline \\\\hline'%(beta0,beta1))\n",
    "    print('Tobit & %.4f & %.4f \\\\\\\\'%(model1.params[0],model1.params[1]))\n",
    "    print('{}&(%.3f)&(%.3f) \\\\\\\\'%(model1.bse[0],model1.bse[1]))\n",
    "    print('\\\\hline')\n",
    "    print('OLS & %.4f & %.4f \\\\\\\\'%(model2.params[0],model2.params[1]))\n",
    "    print('{}&(%.3f)&(%.3f) \\\\\\\\'%(model2.bse[0],model2.bse[1]))\n",
    "    print('\\\\hline')\n",
    "    print('\\\\end{tabular}')\n",
    "\n",
    "\n",
    "    \n",
    "print_params(model1_fit,model2_fit,beta0,beta1)   "
   ]
  },
  {
   "cell_type": "markdown",
   "metadata": {},
   "source": [
    "# Create plots and stuff"
   ]
  },
  {
   "cell_type": "code",
   "execution_count": 7,
   "metadata": {},
   "outputs": [
    {
     "data": {
      "image/png": "[encoded data removed]",
      "text/plain": [
       "<Figure size 432x288 with 1 Axes>"
      ]
     },
     "metadata": {
      "needs_background": "light"
     },
     "output_type": "display_data"
    },
    {
     "data": {
      "image/png": "[encoded data removed]",
      "text/plain": [
       "<Figure size 432x288 with 1 Axes>"
      ]
     },
     "metadata": {
      "needs_background": "light"
     },
     "output_type": "display_data"
    }
   ],
   "source": [
    "#create plot for true\n",
    "plt.scatter(xn,yn,marker='.')\n",
    "support_x = np.arange(xn.min(),xn.max(),.05)\n",
    "\n",
    "#truth\n",
    "pr_obs_true = stats.norm.cdf( beta0+beta1*support_x)\n",
    "plt.plot(support_x, (beta0+beta1*support_x)*pr_obs_true ,label=\"truth\",\n",
    "         color='black')\n",
    "\n",
    "#tobit\n",
    "pr_obs_1 = stats.norm.cdf( model1_fit.params[0]+model1_fit.params[1]*support_x)\n",
    "plt.plot(support_x, (model1_fit.params[0] + model1_fit.params[1]*support_x)*pr_obs_1 ,label=\"tobit\",\n",
    "         color='green',linestyle='--')\n",
    "\n",
    "#ols\n",
    "plt.plot(support_x, model2_fit.params[0] + model2_fit.params[1]*support_x ,label=\"ols\",\n",
    "         color='red',linestyle='--')\n",
    "\n",
    "\n",
    "\n",
    "#create plot for normal\n",
    "plt.ylabel(\"Outcome 'y'\")\n",
    "plt.xlabel(\"Covariate 'x'\")\n",
    "plt.legend()\n",
    "#plt.savefig('../figs/tobit_%s.png'%int(beta1*100))\n",
    "plt.show()\n",
    "\n",
    "plt.hist(yn,density=True)\n",
    "plt.show()"
   ]
  },
  {
   "cell_type": "markdown",
   "metadata": {},
   "source": [
    "# Do counterfactuals"
   ]
  },
  {
   "cell_type": "code",
   "execution_count": 63,
   "metadata": {},
   "outputs": [
    {
     "name": "stdout",
     "output_type": "stream",
     "text": [
      "\\begin{tabular}{|c|c|c|c||c|}\n",
      "\\hline\n",
      "Model  & x = -3 & x = 0 & x = 3 & Avg \\\\ \\hline \\hline \n",
      "Tobit & 0.1419 & 0.2054 &  0.2383 & 0.2283 \\\\ \\hline\n",
      "OLS & 0.2291 & 0.2291 &  0.2291 & 0.2291 \\\\ \\hline \\hline\n",
      "\\% change & -61 \\% & -11 \\% & 3 \\% & 0 \\% \\\\ \\hline\n",
      "\\end{tabular}\n"
     ]
    }
   ],
   "source": [
    "def marginal_effect(beta0,beta1,sigma,x):\n",
    "    mux = beta0+beta1*x\n",
    "    return stats.norm.cdf(mux/np.sqrt(np.abs(sigma)))*beta1\n",
    "\n",
    "def avg_effect(beta0,beta1,sigma):\n",
    "    integrand = lambda x: marginal_effect(beta0,beta1,sigma,x)*stats.norm(loc=5,scale=5).pdf(x)\n",
    "    I = quad(integrand, -100,100)\n",
    "    return I\n",
    "\n",
    "def counterfactual_table(model1,model2):\n",
    "    beta0,beta1 = model1.params[0],model1.params[1]\n",
    "    a1 = avg_effect(beta0,beta1,1)[0]\n",
    "    a2 = model2.params[1]\n",
    "    m2 = model2.params[1]  \n",
    "\n",
    "    \n",
    "    m1s = []\n",
    "    m1s_percent = []\n",
    "    for x in [-3,0,3]:\n",
    "        m1 = marginal_effect(beta0,beta1,1,x)\n",
    "        m1s.append(m1)\n",
    "        m1s_percent.append(int( 100*(m1-m2)/m1) )\n",
    "        \n",
    "    percents = tuple(m1s_percent + [int((a1-a2)/a1*100)])\n",
    "    m1s = m1s + [a1]\n",
    "    print('\\\\begin{tabular}{|c|c|c|c||c|}')\n",
    "    print('\\\\hline')\n",
    "    print('Model  & x = -3 & x = 0 & x = 3 & Avg \\\\\\\\ \\\\hline \\\\hline ')  \n",
    "    print('Tobit & %.4f & %.4f &  %.4f & %.4f \\\\\\\\ \\\\hline'%tuple(m1s))\n",
    "    print('OLS & %.4f & %.4f &  %.4f & %.4f \\\\\\\\ \\\\hline \\\\hline'%tuple(4*[m2]))\n",
    "    print('\\\\%% change & %s \\\\%% & %s \\\\%% & %s \\\\%% & %s \\\\%% \\\\\\\\ \\\\hline'%tuple(percents))\n",
    "    print('\\\\end{tabular}')\n",
    "    \n",
    "counterfactual_table(model1_fit,model2_fit)"
   ]
  },
  {
   "cell_type": "code",
   "execution_count": 64,
   "metadata": {},
   "outputs": [
    {
     "name": "stdout",
     "output_type": "stream",
     "text": [
      "\\%\n"
     ]
    }
   ],
   "source": [
    "print('\\%')"
   ]
  },
  {
   "cell_type": "code",
   "execution_count": null,
   "metadata": {},
   "outputs": [],
   "source": []
  },
  {
   "cell_type": "code",
   "execution_count": null,
   "metadata": {},
   "outputs": [],
   "source": []
  }
 ],
 "metadata": {
  "kernelspec": {
   "display_name": "Python 3",
   "language": "python",
   "name": "python3"
  },
  "language_info": {
   "codemirror_mode": {
    "name": "ipython",
    "version": 3
   },
   "file_extension": ".py",
   "mimetype": "text/x-python",
   "name": "python",
   "nbconvert_exporter": "python",
   "pygments_lexer": "ipython3",
   "version": "3.7.4"
  }
 },
 "nbformat": 4,
 "nbformat_minor": 2
}
