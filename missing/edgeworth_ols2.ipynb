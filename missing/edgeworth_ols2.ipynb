{
 "cells": [
  {
   "cell_type": "code",
   "execution_count": 1,
   "metadata": {},
   "outputs": [],
   "source": [
    "%load_ext autoreload\n",
    "%autoreload 2\n",
    "\n",
    "import numpy as np\n",
    "import scipy.stats as stats\n",
    "import scipy.special\n",
    "#graphing\n",
    "import matplotlib.pyplot as plt\n",
    "#stats\n",
    "import statsmodels.api as sm\n",
    "from statsmodels.base.model import GenericLikelihoodModel\n",
    "\n",
    "#import testing\n",
    "import sys\n",
    "sys.path.append(\"../\")\n",
    "import vuong_plots"
   ]
  },
  {
   "cell_type": "code",
   "execution_count": 2,
   "metadata": {},
   "outputs": [
    {
     "name": "stdout",
     "output_type": "stream",
     "text": [
      "(1000,)\n",
      "(1000, 2)\n",
      "ModeResult(mode=array([0.]), count=array([78]))\n"
     ]
    }
   ],
   "source": [
    "beta0 = 1.\n",
    "beta1 = .25\n",
    "\n",
    "def gen_data(beta0=beta0,beta1=beta1):\n",
    "    nobs = 1000\n",
    "    #parameters\n",
    "    sigma = 1\n",
    "    \n",
    "    epsilon = stats.norm.rvs(loc=0,scale=sigma,size=nobs)\n",
    "    #censor data below x<0?\n",
    "    x = stats.norm.rvs(loc=5,scale=5,size=nobs)\n",
    "    y = beta0+ beta1*x + epsilon\n",
    "    \n",
    "    #censor\n",
    "    y[y<=0] = 0\n",
    "    return y,x,nobs\n",
    "\n",
    "\n",
    "yn,xn,nobs = gen_data()\n",
    "print(xn.shape)\n",
    "print(sm.add_constant(xn).shape)\n",
    "print(scipy.stats.mode(yn))"
   ]
  },
  {
   "cell_type": "code",
   "execution_count": 3,
   "metadata": {},
   "outputs": [
    {
     "name": "stdout",
     "output_type": "stream",
     "text": [
      "                                Tobit Results                                 \n",
      "==============================================================================\n",
      "Dep. Variable:                      y   Log-Likelihood:                -1373.6\n",
      "Model:                          Tobit   AIC:                             2751.\n",
      "Method:            Maximum Likelihood   BIC:                             2761.\n",
      "Date:                Mon, 15 Mar 2021                                         \n",
      "Time:                        22:25:38                                         \n",
      "No. Observations:                1000                                         \n",
      "Df Residuals:                     998                                         \n",
      "Df Model:                           1                                         \n",
      "==============================================================================\n",
      "                 coef    std err          z      P>|z|      [0.025      0.975]\n",
      "------------------------------------------------------------------------------\n",
      "const          1.0152      0.047     21.474      0.000       0.923       1.108\n",
      "x1             0.2575      0.007     38.243      0.000       0.244       0.271\n",
      "==============================================================================\n",
      "                                Tobit Results                                 \n",
      "==============================================================================\n",
      "Dep. Variable:                      y   Log-Likelihood:                -1365.3\n",
      "Model:                          Tobit   AIC:                             2735.\n",
      "Method:            Maximum Likelihood   BIC:                             2744.\n",
      "Date:                Mon, 15 Mar 2021                                         \n",
      "Time:                        22:25:38                                         \n",
      "No. Observations:                1000                                         \n",
      "Df Residuals:                     998                                         \n",
      "Df Model:                           1                                         \n",
      "==============================================================================\n",
      "                 coef    std err          z      P>|z|      [0.025      0.975]\n",
      "------------------------------------------------------------------------------\n",
      "const          1.1623      0.045     25.856      0.000       1.074       1.250\n",
      "x1             0.2388      0.006     37.102      0.000       0.226       0.251\n",
      "==============================================================================\n"
     ]
    }
   ],
   "source": [
    "class Tobit(GenericLikelihoodModel):\n",
    "    \n",
    "    def __init__(self, *args,ols=False, **kwargs):\n",
    "        super(Tobit,self).__init__(*args,**kwargs)\n",
    "        self.ols = ols\n",
    "\n",
    "    def loglikeobs(self, params):\n",
    "        y = self.endog\n",
    "        x = self.exog\n",
    "        m = 1*(self.endog == 0) #missingness\n",
    "        \n",
    "        beta = params\n",
    "        \n",
    "        mu_y = np.matmul(x,beta)\n",
    "        \n",
    "        pr_y = stats.norm.logpdf( y, loc = mu_y)\n",
    "        \n",
    "       \n",
    "        #if complete case, assign pr missing to all observations...\n",
    "        pr_m = stats.norm.logcdf( y, loc = mu_y)\n",
    "        \n",
    "        #we're done if ols\n",
    "        if self.ols:\n",
    "            return pr_y\n",
    "        else:\n",
    "            ll = (1-m)*pr_y + m*pr_m\n",
    "            return ll\n",
    "        \n",
    "    def score(self, params):\n",
    "        y = self.endog\n",
    "        x = self.exog\n",
    "        m = 1*(self.endog == 0) #missingness\n",
    "        m_x = np.repeat(m,x.shape[1]).reshape(x.shape)\n",
    "        \n",
    "        if ols: #if OLS use all the data...\n",
    "            m, m_x = np.ones(y.shape), np.ones(x.shape)\n",
    "        \n",
    "        \n",
    "        b = params\n",
    "\n",
    "        beta_jac = np.zeros(len(b))\n",
    "        \n",
    "        #for censored\n",
    "        if not cc and not ols: \n",
    "            left_stats = (y - np.dot(x, b)) \n",
    "            l_pdf = scipy.stats.norm.logpdf(left_stats)\n",
    "            l_cdf = scipy.stats.norm.logcdf(left_stats)\n",
    "            left_frac = np.exp(l_pdf - l_cdf)\n",
    "            beta_left = np.dot(left_frac*m, x*m_x)\n",
    "            beta_jac -= beta_left\n",
    "        \n",
    "        #for non-censored\n",
    "        mid_stats = (y - np.dot(x, b))\n",
    "        beta_mid = np.dot(mid_stats*(1-m), x*(1-m_x) )\n",
    "        beta_jac += beta_mid\n",
    "        \n",
    "        # by chain rule, since the expression above is dloglik/dlogsigma\n",
    "        return beta_jac\n",
    "\n",
    "\n",
    "\n",
    "model1 =  Tobit(yn,sm.add_constant(xn))\n",
    "model1_fit = model1.fit(disp=False)\n",
    "print(model1_fit.summary())\n",
    "\n",
    "model2 =  Tobit(yn,sm.add_constant(xn),ols=True)\n",
    "model2_fit = model2.fit(disp=False)\n",
    "print(model2_fit.summary())"
   ]
  },
  {
   "cell_type": "code",
   "execution_count": 4,
   "metadata": {},
   "outputs": [],
   "source": [
    "def setup_shi(yn,xn):\n",
    "    model1 = Tobit(yn,sm.add_constant(xn))\n",
    "    model1_fit = model1.fit(disp=False)\n",
    "    ll1 = model1.loglikeobs(model1_fit.params)\n",
    "    grad1 =  model1.score_obs(model1_fit.params)    \n",
    "    hess1 = model1.hessian(model1_fit.params)\n",
    "    k1 = len(model1_fit.params)\n",
    "    \n",
    "    #fit logistic values\n",
    "    model2 = Tobit(yn,sm.add_constant(xn),ols=True)\n",
    "    model2_fit = model2.fit(disp=False)\n",
    "    ll2 = model2.loglikeobs(model2_fit.params)\n",
    "    grad2 =  model2.score_obs(model2_fit.params)    \n",
    "    hess2 = model2.hessian(model2_fit.params)\n",
    "    k2 = len(model2_fit.params)\n",
    "    \n",
    "    return ll1,grad1,hess1,ll2,k1, grad2,hess2,k2\n",
    "\n",
    "yn,xn,nobs = gen_data()\n",
    "ll1,grad1,hess1,ll2,k1, grad2,hess2,k2 = setup_shi(yn,xn)"
   ]
  },
  {
   "cell_type": "code",
   "execution_count": 5,
   "metadata": {},
   "outputs": [
    {
     "data": {
      "image/png": "[encoded data removed]",
      "text/plain": [
       "<Figure size 432x288 with 1 Axes>"
      ]
     },
     "metadata": {
      "needs_background": "light"
     },
     "output_type": "display_data"
    }
   ],
   "source": [
    "beta0 = 1.\n",
    "beta1 = .25\n",
    "\n",
    "def gen_data(beta0=beta0,beta1=beta1):\n",
    "    nobs = 500\n",
    "    #parameters\n",
    "    sigma = 1\n",
    "    \n",
    "    epsilon = stats.norm.rvs(loc=0,scale=sigma,size=nobs)\n",
    "    #censor data below x<0?\n",
    "    x = stats.norm.rvs(loc=5,scale=5,size=nobs)\n",
    "    y = beta0+ beta1*x + epsilon\n",
    "    \n",
    "    #censor\n",
    "    y[y<=0] = 0\n",
    "    return y,x,nobs\n",
    "\n",
    "\n",
    "true_stats = vuong_plots.plot_true2(gen_data,setup_shi,trials=100)\n",
    "\n",
    "yn,xn,nobs = gen_data()\n",
    "anayltic_stats = vuong_plots.plot_analytic2(yn,xn,nobs,setup_shi)\n",
    "bootstrap_stats = vuong_plots.plot_bootstrap2(yn,xn,nobs,setup_shi,trials=300)\n",
    "plt.legend()\n",
    "plt.savefig('../figs/tobit_plot25.png')\n",
    "plt.show()"
   ]
  },
  {
   "cell_type": "code",
   "execution_count": 6,
   "metadata": {},
   "outputs": [
    {
     "data": {
      "image/png": "[encoded data removed]",
      "text/plain": [
       "<Figure size 432x288 with 1 Axes>"
      ]
     },
     "metadata": {
      "needs_background": "light"
     },
     "output_type": "display_data"
    }
   ],
   "source": [
    "beta0 = 1.\n",
    "beta1 = .5\n",
    "\n",
    "def gen_data(beta0=beta0,beta1=beta1):\n",
    "    nobs = 500\n",
    "    #parameters\n",
    "    sigma = 1\n",
    "    \n",
    "    epsilon = stats.norm.rvs(loc=0,scale=sigma,size=nobs)\n",
    "    #censor data below x<0?\n",
    "    x = stats.norm.rvs(loc=5,scale=5,size=nobs)\n",
    "    y = beta0+ beta1*x + epsilon\n",
    "    \n",
    "    #censor\n",
    "    y[y<=0] = 0\n",
    "    return y,x,nobs\n",
    "\n",
    "true_stats = vuong_plots.plot_true2(gen_data,setup_shi,trials=100)\n",
    "\n",
    "yn,xn,nobs = gen_data()\n",
    "anayltic_stats = vuong_plots.plot_analytic2(yn,xn,nobs,setup_shi)\n",
    "bootstrap_stats = vuong_plots.plot_bootstrap2(yn,xn,nobs,setup_shi,trials=300)\n",
    "plt.savefig('../figs/tobit_plot50.png')\n",
    "plt.show()"
   ]
  },
  {
   "cell_type": "code",
   "execution_count": 7,
   "metadata": {},
   "outputs": [
    {
     "data": {
      "image/png": "[encoded data removed]",
      "text/plain": [
       "<Figure size 432x288 with 1 Axes>"
      ]
     },
     "metadata": {
      "needs_background": "light"
     },
     "output_type": "display_data"
    }
   ],
   "source": [
    "beta0 = 1.\n",
    "beta1 = 1.\n",
    "\n",
    "def gen_data(beta0=beta0,beta1=beta1):\n",
    "    nobs = 500\n",
    "    #parameters\n",
    "    sigma = 1\n",
    "    \n",
    "    epsilon = stats.norm.rvs(loc=0,scale=sigma,size=nobs)\n",
    "    #censor data below x<0?\n",
    "    x = stats.norm.rvs(loc=5,scale=5,size=nobs)\n",
    "    y = beta0+ beta1*x + epsilon\n",
    "    \n",
    "    #censor\n",
    "    y[y<=0] = 0\n",
    "    return y,x,nobs\n",
    "\n",
    "true_stats = vuong_plots.plot_true2(gen_data,setup_shi,trials=100)\n",
    "\n",
    "yn,xn,nobs = gen_data()\n",
    "anayltic_stats = vuong_plots.plot_analytic2(yn,xn,nobs,setup_shi)\n",
    "bootstrap_stats = vuong_plots.plot_bootstrap2(yn,xn,nobs,setup_shi,trials=300)\n",
    "plt.legend()\n",
    "plt.savefig('../figs/tobit_plot100.png')\n",
    "plt.show()"
   ]
  },
  {
   "cell_type": "code",
   "execution_count": null,
   "metadata": {},
   "outputs": [],
   "source": []
  }
 ],
 "metadata": {
  "kernelspec": {
   "display_name": "Python 3",
   "language": "python",
   "name": "python3"
  },
  "language_info": {
   "codemirror_mode": {
    "name": "ipython",
    "version": 3
   },
   "file_extension": ".py",
   "mimetype": "text/x-python",
   "name": "python",
   "nbconvert_exporter": "python",
   "pygments_lexer": "ipython3",
   "version": "3.7.4"
  }
 },
 "nbformat": 4,
 "nbformat_minor": 2
}
