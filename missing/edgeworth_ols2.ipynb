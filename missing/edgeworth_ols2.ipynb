{
 "cells": [
  {
   "cell_type": "code",
   "execution_count": 1,
   "metadata": {},
   "outputs": [],
   "source": [
    "%load_ext autoreload\n",
    "%autoreload 2\n",
    "\n",
    "import numpy as np\n",
    "import scipy.stats as stats\n",
    "import scipy.special\n",
    "#graphing\n",
    "import matplotlib.pyplot as plt\n",
    "#stats\n",
    "import statsmodels.api as sm\n",
    "from statsmodels.base.model import GenericLikelihoodModel\n",
    "\n",
    "#import testing\n",
    "import sys\n",
    "sys.path.append(\"../\")\n",
    "import vuong_plots"
   ]
  },
  {
   "cell_type": "code",
   "execution_count": 2,
   "metadata": {},
   "outputs": [
    {
     "name": "stdout",
     "output_type": "stream",
     "text": [
      "(1000,)\n",
      "(1000, 2)\n",
      "ModeResult(mode=array([0.]), count=array([87]))\n"
     ]
    }
   ],
   "source": [
    "beta0 = 1.\n",
    "beta1 = .25\n",
    "\n",
    "def gen_data(beta0=beta0,beta1=beta1):\n",
    "    nobs = 1000\n",
    "    #parameters\n",
    "    sigma = 1\n",
    "    \n",
    "    epsilon = stats.norm.rvs(loc=0,scale=sigma,size=nobs)\n",
    "    #censor data below x<0?\n",
    "    x = stats.norm.rvs(loc=5,scale=5,size=nobs)\n",
    "    y = beta0+ beta1*x + epsilon\n",
    "    \n",
    "    #censor\n",
    "    y[y<=0] = 0\n",
    "    return y,x,nobs\n",
    "\n",
    "\n",
    "yn,xn,nobs = gen_data()\n",
    "print(xn.shape)\n",
    "print(sm.add_constant(xn).shape)\n",
    "print(scipy.stats.mode(yn))"
   ]
  },
  {
   "cell_type": "code",
   "execution_count": 3,
   "metadata": {},
   "outputs": [
    {
     "name": "stdout",
     "output_type": "stream",
     "text": [
      "                                Tobit Results                                 \n",
      "==============================================================================\n",
      "Dep. Variable:                      y   Log-Likelihood:                -1378.4\n",
      "Model:                          Tobit   AIC:                             2761.\n",
      "Method:            Maximum Likelihood   BIC:                             2771.\n",
      "Date:                Fri, 19 Mar 2021                                         \n",
      "Time:                        11:37:11                                         \n",
      "No. Observations:                1000                                         \n",
      "Df Residuals:                     998                                         \n",
      "Df Model:                           1                                         \n",
      "==============================================================================\n",
      "                 coef    std err          z      P>|z|      [0.025      0.975]\n",
      "------------------------------------------------------------------------------\n",
      "const          0.9927      0.047     21.126      0.000       0.901       1.085\n",
      "x1             0.2474      0.007     37.137      0.000       0.234       0.261\n",
      "==============================================================================\n",
      "                                Tobit Results                                 \n",
      "==============================================================================\n",
      "Dep. Variable:                      y   Log-Likelihood:                -1373.6\n",
      "Model:                          Tobit   AIC:                             2751.\n",
      "Method:            Maximum Likelihood   BIC:                             2761.\n",
      "Date:                Fri, 19 Mar 2021                                         \n",
      "Time:                        11:37:11                                         \n",
      "No. Observations:                1000                                         \n",
      "Df Residuals:                     998                                         \n",
      "Df Model:                           1                                         \n",
      "==============================================================================\n",
      "                 coef    std err          z      P>|z|      [0.025      0.975]\n",
      "------------------------------------------------------------------------------\n",
      "const          1.1651      0.044     26.426      0.000       1.079       1.252\n",
      "x1             0.2253      0.006     35.875      0.000       0.213       0.238\n",
      "==============================================================================\n"
     ]
    }
   ],
   "source": [
    "class Tobit(GenericLikelihoodModel):\n",
    "    \n",
    "    def __init__(self, *args,ols=False, **kwargs):\n",
    "        super(Tobit,self).__init__(*args,**kwargs)\n",
    "        self.ols = ols\n",
    "\n",
    "    def loglikeobs(self, params):\n",
    "        y = self.endog\n",
    "        x = self.exog\n",
    "        m = 1*(self.endog == 0) #missingness\n",
    "        \n",
    "        beta = params\n",
    "        \n",
    "        mu_y = np.matmul(x,beta)\n",
    "        \n",
    "        pr_y = stats.norm.logpdf( y, loc = mu_y)\n",
    "        \n",
    "       \n",
    "        #if complete case, assign pr missing to all observations...\n",
    "        pr_m = stats.norm.logcdf( y, loc = mu_y)\n",
    "        \n",
    "        #we're done if ols\n",
    "        if self.ols:\n",
    "            return pr_y\n",
    "        else:\n",
    "            ll = (1-m)*pr_y + m*pr_m\n",
    "            return ll\n",
    "        \n",
    "    def score(self, params):\n",
    "        y = self.endog\n",
    "        x = self.exog\n",
    "        m = 1*(self.endog == 0) #missingness\n",
    "        m_x = np.repeat(m,x.shape[1]).reshape(x.shape)\n",
    "        \n",
    "        if ols: #if OLS use all the data...\n",
    "            m, m_x = np.ones(y.shape), np.ones(x.shape)\n",
    "        \n",
    "        \n",
    "        b = params\n",
    "\n",
    "        beta_jac = np.zeros(len(b))\n",
    "        \n",
    "        #for censored\n",
    "        if not cc and not ols: \n",
    "            left_stats = (y - np.dot(x, b)) \n",
    "            l_pdf = scipy.stats.norm.logpdf(left_stats)\n",
    "            l_cdf = scipy.stats.norm.logcdf(left_stats)\n",
    "            left_frac = np.exp(l_pdf - l_cdf)\n",
    "            beta_left = np.dot(left_frac*m, x*m_x)\n",
    "            beta_jac -= beta_left\n",
    "        \n",
    "        #for non-censored\n",
    "        mid_stats = (y - np.dot(x, b))\n",
    "        beta_mid = np.dot(mid_stats*(1-m), x*(1-m_x) )\n",
    "        beta_jac += beta_mid\n",
    "        \n",
    "        # by chain rule, since the expression above is dloglik/dlogsigma\n",
    "        return beta_jac\n",
    "\n",
    "\n",
    "\n",
    "model1 =  Tobit(yn,sm.add_constant(xn))\n",
    "model1_fit = model1.fit(disp=False)\n",
    "print(model1_fit.summary())\n",
    "\n",
    "model2 =  Tobit(yn,sm.add_constant(xn),ols=True)\n",
    "model2_fit = model2.fit(disp=False)\n",
    "print(model2_fit.summary())"
   ]
  },
  {
   "cell_type": "code",
   "execution_count": 4,
   "metadata": {},
   "outputs": [],
   "source": [
    "def setup_shi(yn,xn):\n",
    "    model1 = Tobit(yn,sm.add_constant(xn))\n",
    "    model1_fit = model1.fit(disp=False)\n",
    "    ll1 = model1.loglikeobs(model1_fit.params)\n",
    "    grad1 =  model1.score_obs(model1_fit.params)    \n",
    "    hess1 = model1.hessian(model1_fit.params)\n",
    "    k1 = len(model1_fit.params)\n",
    "    \n",
    "    #fit logistic values\n",
    "    model2 = Tobit(yn,sm.add_constant(xn),ols=True)\n",
    "    model2_fit = model2.fit(disp=False)\n",
    "    ll2 = model2.loglikeobs(model2_fit.params)\n",
    "    grad2 =  model2.score_obs(model2_fit.params)    \n",
    "    hess2 = model2.hessian(model2_fit.params)\n",
    "    k2 = len(model2_fit.params)\n",
    "    \n",
    "    return ll1,grad1,hess1,ll2,k1, grad2,hess2,k2\n",
    "\n",
    "yn,xn,nobs = gen_data()\n",
    "ll1,grad1,hess1,ll2,k1, grad2,hess2,k2 = setup_shi(yn,xn)"
   ]
  },
  {
   "cell_type": "code",
   "execution_count": 5,
   "metadata": {},
   "outputs": [
    {
     "data": {
      "image/png": "[encoded data removed]",
      "text/plain": [
       "<Figure size 432x288 with 1 Axes>"
      ]
     },
     "metadata": {
      "needs_background": "light"
     },
     "output_type": "display_data"
    }
   ],
   "source": [
    "beta0 = 1.\n",
    "beta1 = .25\n",
    "\n",
    "def gen_data(beta0=beta0,beta1=beta1):\n",
    "    nobs = 500\n",
    "    #parameters\n",
    "    sigma = 1\n",
    "    \n",
    "    epsilon = stats.norm.rvs(loc=0,scale=sigma,size=nobs)\n",
    "    #censor data below x<0?\n",
    "    x = stats.norm.rvs(loc=5,scale=5,size=nobs)\n",
    "    y = beta0+ beta1*x + epsilon\n",
    "    \n",
    "    #censor\n",
    "    y[y<=0] = 0\n",
    "    return y,x,nobs\n",
    "\n",
    "\n",
    "true_stats = vuong_plots.plot_true2(gen_data,setup_shi,trials=100)\n",
    "\n",
    "yn,xn,nobs = gen_data()\n",
    "anayltic_stats = vuong_plots.plot_analytic2(yn,xn,nobs,setup_shi)\n",
    "bootstrap_stats = vuong_plots.plot_bootstrap2(yn,xn,nobs,setup_shi,trials=300)\n",
    "plt.legend()\n",
    "plt.savefig('../figs/tobit_plot25.png')\n",
    "plt.show()"
   ]
  },
  {
   "cell_type": "code",
   "execution_count": 6,
   "metadata": {},
   "outputs": [
    {
     "name": "stdout",
     "output_type": "stream",
     "text": [
      "1 --------\n",
      "0.0 -0.8321272783608886\n",
      "0.0 -0.24191086625696206\n",
      "0.0 -0.01861788251506063\n",
      "0.0 -1.7698255045663267\n",
      "---------\n",
      "2 --------\n",
      "1.1998455048057677 1.2119651563694622\n",
      "0.4492322342561263 0.44932209867586154\n",
      "1.0030285687256604 1.0032292145685742\n",
      "1.370824701729264 1.375409399728358\n",
      "---------\n",
      "3 --------\n",
      "-0.09753259720522177 -0.10052834179058144\n",
      "-0.4623650500789728 -0.46264259862674095\n",
      "-0.021465236469412372 -0.02147812162413706\n",
      "-0.3640340615063681 -0.36770291952563317\n",
      "---------\n",
      "4 --------\n",
      "3.6333706482603896 -0.6439255530295145\n",
      "5.722095461178764 5.124078805364642\n",
      "2.9961197017287224 -0.020901436112370626\n",
      "5.188870528703288 -0.42088915582516456\n",
      "---------\n",
      "0.9376982262054381\n",
      "-0.29751339278573485\n",
      "-3.151784924454664\n"
     ]
    }
   ],
   "source": [
    "overlap,normal = anayltic_stats\n",
    "\n",
    "#print moments/kstats\n",
    "for i in range(1,5):\n",
    "    print('%s --------'%i)\n",
    "    for distr in [true_stats,overlap,normal,bootstrap_stats]:\n",
    "        m, k = stats.moment(distr, i), stats.kstat(distr, i)\n",
    "        print(m,k)\n",
    "    print('---------')\n",
    "ll1,grad1,hess1,ll2,k1, grad2,hess2,k2 = setup_shi(yn,xn)\n",
    "thing1 = np.array(true_stats).mean() - np.array(bootstrap_stats).mean()\n",
    "print(thing1)\n",
    "thing2 = vuong_plots.compute_eigen2(ll1,grad1,hess1,ll2,k1, grad2,hess2,k2).sum()\n",
    "print(thing2)\n",
    "print(thing1/thing2)"
   ]
  },
  {
   "cell_type": "code",
   "execution_count": 7,
   "metadata": {},
   "outputs": [
    {
     "data": {
      "image/png": "[encoded data removed]",
      "text/plain": [
       "<Figure size 432x288 with 1 Axes>"
      ]
     },
     "metadata": {
      "needs_background": "light"
     },
     "output_type": "display_data"
    }
   ],
   "source": [
    "beta0 = 1.\n",
    "beta1 = .5\n",
    "\n",
    "def gen_data(beta0=beta0,beta1=beta1):\n",
    "    nobs = 500\n",
    "    #parameters\n",
    "    sigma = 1\n",
    "    \n",
    "    epsilon = stats.norm.rvs(loc=0,scale=sigma,size=nobs)\n",
    "    #censor data below x<0?\n",
    "    x = stats.norm.rvs(loc=5,scale=5,size=nobs)\n",
    "    y = beta0+ beta1*x + epsilon\n",
    "    \n",
    "    #censor\n",
    "    y[y<=0] = 0\n",
    "    return y,x,nobs\n",
    "\n",
    "true_stats = vuong_plots.plot_true2(gen_data,setup_shi,trials=100)\n",
    "\n",
    "yn,xn,nobs = gen_data()\n",
    "anayltic_stats = vuong_plots.plot_analytic2(yn,xn,nobs,setup_shi)\n",
    "bootstrap_stats = vuong_plots.plot_bootstrap2(yn,xn,nobs,setup_shi,trials=300)\n",
    "plt.savefig('../figs/tobit_plot50.png')\n",
    "plt.show()"
   ]
  },
  {
   "cell_type": "code",
   "execution_count": 8,
   "metadata": {},
   "outputs": [
    {
     "name": "stdout",
     "output_type": "stream",
     "text": [
      "1 --------\n",
      "0.0 3.7343428751120835\n",
      "0.0 0.18855990338643855\n",
      "0.0 0.003381467933911527\n",
      "0.0 3.8987039757744264\n",
      "---------\n",
      "2 --------\n",
      "0.3443598821684772 0.3478382648166382\n",
      "0.3801244378048672 0.38020047790044736\n",
      "1.0448327740508205 1.045041782407302\n",
      "0.38015900446111117 0.38143043925863956\n",
      "---------\n",
      "3 --------\n",
      "-0.05880451396277128 -0.060610713216608034\n",
      "0.00750126151519276 0.007505764373355613\n",
      "0.0075785498869808295 0.0075830991398167956\n",
      "-0.008034624371415534 -0.008115600024987655\n",
      "---------\n",
      "4 --------\n",
      "0.3559293543585758 0.007751589548380895\n",
      "0.3943577314149777 -0.03900725648166609\n",
      "3.185786768457903 -0.08805327125145496\n",
      "0.40356651313041403 -0.027757424576724015\n",
      "---------\n",
      "-0.16436110066234288\n",
      "0.6628119766071077\n",
      "-0.24797545376849842\n"
     ]
    }
   ],
   "source": [
    "overlap,normal = anayltic_stats\n",
    "\n",
    "#print moments/kstats\n",
    "for i in range(1,5):\n",
    "    print('%s --------'%i)\n",
    "    for distr in [true_stats,overlap,normal,bootstrap_stats]:\n",
    "        m, k = stats.moment(distr, i), stats.kstat(distr, i)\n",
    "        print(m,k)\n",
    "    print('---------')\n",
    "ll1,grad1,hess1,ll2,k1, grad2,hess2,k2 = setup_shi(yn,xn)\n",
    "thing1 = np.array(true_stats).mean() - np.array(bootstrap_stats).mean()\n",
    "print(thing1)\n",
    "thing2 = vuong_plots.compute_eigen2(ll1,grad1,hess1,ll2,k1, grad2,hess2,k2).sum()\n",
    "print(thing2)\n",
    "print(thing1/thing2)"
   ]
  },
  {
   "cell_type": "code",
   "execution_count": 9,
   "metadata": {},
   "outputs": [
    {
     "data": {
      "image/png": "[encoded data removed]",
      "text/plain": [
       "<Figure size 432x288 with 1 Axes>"
      ]
     },
     "metadata": {
      "needs_background": "light"
     },
     "output_type": "display_data"
    }
   ],
   "source": [
    "beta0 = 1.\n",
    "beta1 = 1.\n",
    "\n",
    "def gen_data(beta0=beta0,beta1=beta1):\n",
    "    nobs = 500\n",
    "    #parameters\n",
    "    sigma = 1\n",
    "    \n",
    "    epsilon = stats.norm.rvs(loc=0,scale=sigma,size=nobs)\n",
    "    #censor data below x<0?\n",
    "    x = stats.norm.rvs(loc=5,scale=5,size=nobs)\n",
    "    y = beta0+ beta1*x + epsilon\n",
    "    \n",
    "    #censor\n",
    "    y[y<=0] = 0\n",
    "    return y,x,nobs\n",
    "\n",
    "true_stats = vuong_plots.plot_true2(gen_data,setup_shi,trials=100)\n",
    "\n",
    "yn,xn,nobs = gen_data()\n",
    "anayltic_stats = vuong_plots.plot_analytic2(yn,xn,nobs,setup_shi)\n",
    "bootstrap_stats = vuong_plots.plot_bootstrap2(yn,xn,nobs,setup_shi,trials=300)\n",
    "plt.legend()\n",
    "plt.savefig('../figs/tobit_plot100.png')\n",
    "plt.show()"
   ]
  },
  {
   "cell_type": "code",
   "execution_count": 10,
   "metadata": {},
   "outputs": [
    {
     "name": "stdout",
     "output_type": "stream",
     "text": [
      "1 --------\n",
      "0.0 5.245567158191901\n",
      "0.0 0.43728475104506326\n",
      "0.0 -0.026401323838837233\n",
      "0.0 5.918876659464076\n",
      "---------\n",
      "2 --------\n",
      "0.661215422456283 0.6678943661174612\n",
      "0.7180402951082709 0.7181839318946499\n",
      "0.9776159136692996 0.9778114759644927\n",
      "0.44131149626119576 0.4427874544426672\n",
      "---------\n",
      "3 --------\n",
      "0.0340421334524666 0.035087748353345154\n",
      "0.49115284364145645 0.49144767292940034\n",
      "0.013447632156031585 0.01345570450227653\n",
      "-0.022352305631200074 -0.02257757970412021\n",
      "---------\n",
      "4 --------\n",
      "1.0714762003837754 -0.2298499057966458\n",
      "2.4474551749839635 0.9025911312013503\n",
      "2.8610622561188594 -0.0049967095366324045\n",
      "0.5345449728371241 -0.046925956581743235\n",
      "---------\n",
      "-0.6733095012721755\n",
      "2.9182791226557026\n",
      "-0.23072141936150645\n"
     ]
    }
   ],
   "source": [
    "overlap,normal = anayltic_stats\n",
    "\n",
    "#print moments/kstats\n",
    "for i in range(1,5):\n",
    "    print('%s --------'%i)\n",
    "    for distr in [true_stats,overlap,normal,bootstrap_stats]:\n",
    "        m, k = stats.moment(distr, i), stats.kstat(distr, i)\n",
    "        print(m,k)\n",
    "    print('---------')\n",
    "ll1,grad1,hess1,ll2,k1, grad2,hess2,k2 = setup_shi(yn,xn)\n",
    "thing1 = np.array(true_stats).mean() - np.array(bootstrap_stats).mean()\n",
    "print(thing1)\n",
    "thing2 = vuong_plots.compute_eigen2(ll1,grad1,hess1,ll2,k1, grad2,hess2,k2).sum()\n",
    "print(thing2)\n",
    "print(thing1/thing2)"
   ]
  },
  {
   "cell_type": "code",
   "execution_count": null,
   "metadata": {},
   "outputs": [],
   "source": []
  },
  {
   "cell_type": "code",
   "execution_count": null,
   "metadata": {},
   "outputs": [],
   "source": []
  },
  {
   "cell_type": "code",
   "execution_count": null,
   "metadata": {},
   "outputs": [],
   "source": []
  }
 ],
 "metadata": {
  "kernelspec": {
   "display_name": "Python 3",
   "language": "python",
   "name": "python3"
  },
  "language_info": {
   "codemirror_mode": {
    "name": "ipython",
    "version": 3
   },
   "file_extension": ".py",
   "mimetype": "text/x-python",
   "name": "python",
   "nbconvert_exporter": "python",
   "pygments_lexer": "ipython3",
   "version": "3.7.4"
  }
 },
 "nbformat": 4,
 "nbformat_minor": 2
}
