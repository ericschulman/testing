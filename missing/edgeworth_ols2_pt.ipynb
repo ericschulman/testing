{
 "cells": [
  {
   "cell_type": "code",
   "execution_count": 6,
   "metadata": {},
   "outputs": [
    {
     "name": "stdout",
     "output_type": "stream",
     "text": [
      "The autoreload extension is already loaded. To reload it, use:\n",
      "  %reload_ext autoreload\n"
     ]
    }
   ],
   "source": [
    "%load_ext autoreload\n",
    "%autoreload 2\n",
    "\n",
    "import numpy as np\n",
    "import scipy.stats as stats\n",
    "import scipy.special\n",
    "#graphing\n",
    "import matplotlib.pyplot as plt\n",
    "#stats\n",
    "import statsmodels.api as sm\n",
    "from statsmodels.base.model import GenericLikelihoodModel\n",
    "\n",
    "#import testing\n",
    "import sys\n",
    "sys.path.append(\"../\")\n",
    "import vuong_plots"
   ]
  },
  {
   "cell_type": "code",
   "execution_count": 7,
   "metadata": {},
   "outputs": [
    {
     "name": "stdout",
     "output_type": "stream",
     "text": [
      "(1000,)\n",
      "(1000, 2)\n",
      "ModeResult(mode=array([0.]), count=array([86]))\n"
     ]
    }
   ],
   "source": [
    "beta0 = 1.\n",
    "beta1 = .25\n",
    "\n",
    "def gen_data(beta0=beta0,beta1=beta1):\n",
    "    nobs = 1000\n",
    "    #parameters\n",
    "    sigma = 1\n",
    "    \n",
    "    epsilon = stats.norm.rvs(loc=0,scale=sigma,size=nobs)\n",
    "    #censor data below x<0?\n",
    "    x = stats.norm.rvs(loc=5,scale=5,size=nobs)\n",
    "    y = beta0+ beta1*x + epsilon\n",
    "    \n",
    "    #censor\n",
    "    y[y<=0] = 0\n",
    "    return y,x,nobs\n",
    "\n",
    "\n",
    "yn,xn,nobs = gen_data()\n",
    "print(xn.shape)\n",
    "print(sm.add_constant(xn).shape)\n",
    "print(scipy.stats.mode(yn))"
   ]
  },
  {
   "cell_type": "code",
   "execution_count": 8,
   "metadata": {},
   "outputs": [
    {
     "name": "stdout",
     "output_type": "stream",
     "text": [
      "                                Tobit Results                                 \n",
      "==============================================================================\n",
      "Dep. Variable:                      y   Log-Likelihood:                -1410.3\n",
      "Model:                          Tobit   AIC:                             2825.\n",
      "Method:            Maximum Likelihood   BIC:                             2834.\n",
      "Date:                Mon, 22 Mar 2021                                         \n",
      "Time:                        20:07:00                                         \n",
      "No. Observations:                1000                                         \n",
      "Df Residuals:                     998                                         \n",
      "Df Model:                           1                                         \n",
      "==============================================================================\n",
      "                 coef    std err          z      P>|z|      [0.025      0.975]\n",
      "------------------------------------------------------------------------------\n",
      "const          1.0031      0.046     21.870      0.000       0.913       1.093\n",
      "x1             0.2465      0.006     38.442      0.000       0.234       0.259\n",
      "==============================================================================\n",
      "                                Tobit Results                                 \n",
      "==============================================================================\n",
      "Dep. Variable:                      y   Log-Likelihood:                -1412.7\n",
      "Model:                          Tobit   AIC:                             2829.\n",
      "Method:            Maximum Likelihood   BIC:                             2839.\n",
      "Date:                Mon, 22 Mar 2021                                         \n",
      "Time:                        20:07:00                                         \n",
      "No. Observations:                1000                                         \n",
      "Df Residuals:                     998                                         \n",
      "Df Model:                           1                                         \n",
      "==============================================================================\n",
      "                 coef    std err          z      P>|z|      [0.025      0.975]\n",
      "------------------------------------------------------------------------------\n",
      "const          1.1747      0.043     27.253      0.000       1.090       1.259\n",
      "x1             0.2247      0.006     37.061      0.000       0.213       0.237\n",
      "==============================================================================\n"
     ]
    }
   ],
   "source": [
    "class Tobit(GenericLikelihoodModel):\n",
    "    \n",
    "    def __init__(self, *args,ols=False, **kwargs):\n",
    "        super(Tobit,self).__init__(*args,**kwargs)\n",
    "        self.ols = ols\n",
    "\n",
    "    def loglikeobs(self, params):\n",
    "        y = self.endog\n",
    "        x = self.exog\n",
    "        m = 1*(self.endog == 0) #missingness\n",
    "        \n",
    "        beta = params\n",
    "        \n",
    "        mu_y = np.matmul(x,beta)\n",
    "        \n",
    "        pr_y = stats.norm.logpdf( y, loc = mu_y)\n",
    "        \n",
    "       \n",
    "        #if complete case, assign pr missing to all observations...\n",
    "        pr_m = stats.norm.logcdf( y, loc = mu_y)\n",
    "        \n",
    "        #we're done if ols\n",
    "        if self.ols:\n",
    "            return pr_y\n",
    "        else:\n",
    "            ll = (1-m)*pr_y + m*pr_m\n",
    "            return ll\n",
    "        \n",
    "    def score(self, params):\n",
    "        y = self.endog\n",
    "        x = self.exog\n",
    "        m = 1*(self.endog == 0) #missingness\n",
    "        m_x = np.repeat(m,x.shape[1]).reshape(x.shape)\n",
    "        \n",
    "        if ols: #if OLS use all the data...\n",
    "            m, m_x = np.ones(y.shape), np.ones(x.shape)\n",
    "        \n",
    "        \n",
    "        b = params\n",
    "\n",
    "        beta_jac = np.zeros(len(b))\n",
    "        \n",
    "        #for censored\n",
    "        if not cc and not ols: \n",
    "            left_stats = (y - np.dot(x, b)) \n",
    "            l_pdf = scipy.stats.norm.logpdf(left_stats)\n",
    "            l_cdf = scipy.stats.norm.logcdf(left_stats)\n",
    "            left_frac = np.exp(l_pdf - l_cdf)\n",
    "            beta_left = np.dot(left_frac*m, x*m_x)\n",
    "            beta_jac -= beta_left\n",
    "        \n",
    "        #for non-censored\n",
    "        mid_stats = (y - np.dot(x, b))\n",
    "        beta_mid = np.dot(mid_stats*(1-m), x*(1-m_x) )\n",
    "        beta_jac += beta_mid\n",
    "        \n",
    "        # by chain rule, since the expression above is dloglik/dlogsigma\n",
    "        return beta_jac\n",
    "\n",
    "\n",
    "\n",
    "model1 =  Tobit(yn,sm.add_constant(xn))\n",
    "model1_fit = model1.fit(disp=False)\n",
    "print(model1_fit.summary())\n",
    "\n",
    "model2 =  Tobit(yn,sm.add_constant(xn),ols=True)\n",
    "model2_fit = model2.fit(disp=False)\n",
    "print(model2_fit.summary())"
   ]
  },
  {
   "cell_type": "code",
   "execution_count": 9,
   "metadata": {},
   "outputs": [],
   "source": [
    "def setup_shi(yn,xn):\n",
    "    model1 = Tobit(yn,sm.add_constant(xn))\n",
    "    model1_fit = model1.fit(disp=False)\n",
    "    ll1 = model1.loglikeobs(model1_fit.params)\n",
    "    grad1 =  model1.score_obs(model1_fit.params)    \n",
    "    hess1 = model1.hessian(model1_fit.params)\n",
    "    k1 = len(model1_fit.params)\n",
    "    \n",
    "    #fit logistic values\n",
    "    model2 = Tobit(yn,sm.add_constant(xn),ols=True)\n",
    "    model2_fit = model2.fit(disp=False)\n",
    "    ll2 = model2.loglikeobs(model2_fit.params)\n",
    "    grad2 =  model2.score_obs(model2_fit.params)    \n",
    "    hess2 = model2.hessian(model2_fit.params)\n",
    "    k2 = len(model2_fit.params)\n",
    "    \n",
    "    return ll1,grad1,hess1,ll2,k1, grad2,hess2,k2\n",
    "\n",
    "yn,xn,nobs = gen_data()\n",
    "ll1,grad1,hess1,ll2,k1, grad2,hess2,k2 = setup_shi(yn,xn)"
   ]
  },
  {
   "cell_type": "code",
   "execution_count": 13,
   "metadata": {},
   "outputs": [
    {
     "data": {
      "image/png": "[encoded data removed]",
      "text/plain": [
       "<Figure size 432x288 with 1 Axes>"
      ]
     },
     "metadata": {
      "needs_background": "light"
     },
     "output_type": "display_data"
    }
   ],
   "source": [
    "beta0 = 1.\n",
    "beta1 = .25\n",
    "\n",
    "def gen_data(beta0=beta0,beta1=beta1):\n",
    "    nobs = 500\n",
    "    #parameters\n",
    "    sigma = 1\n",
    "    \n",
    "    epsilon = stats.norm.rvs(loc=0,scale=sigma,size=nobs)\n",
    "    #censor data below x<0?\n",
    "    x = stats.norm.rvs(loc=5,scale=5,size=nobs)\n",
    "    y = beta0+ beta1*x + epsilon\n",
    "    \n",
    "    #censor\n",
    "    y[y<=0] = 0\n",
    "    return y,x,nobs\n",
    "\n",
    "true_stats = vuong_plots.plot_true2(gen_data,setup_shi,trials=100)\n",
    "yn,xn,nobs = gen_data()\n",
    "anayltic_stats = vuong_plots.plot_analytic2(yn,xn,nobs,setup_shi)\n",
    "bootstrap_stats = vuong_plots.plot_bootstrap_pt(yn,xn,nobs,setup_shi,trials=300)\n",
    "\n",
    "plt.legend()\n",
    "plt.savefig('../figs/tobit_plot25.png')\n",
    "plt.show()"
   ]
  },
  {
   "cell_type": "code",
   "execution_count": 14,
   "metadata": {},
   "outputs": [
    {
     "name": "stdout",
     "output_type": "stream",
     "text": [
      "1 --------\n",
      "0.0 -0.7074907263979345\n",
      "0.0 -0.27190103932981624\n",
      "0.0 0.03173043165361531\n",
      "0.0 -0.9258083314945914\n",
      "---------\n",
      "2 --------\n",
      "0.9377167509376504 0.9471886373107585\n",
      "0.4624377674570971 0.4625302735117995\n",
      "0.9969311304150807 0.997130556526386\n",
      "1.0786886790811305 1.082296333526218\n",
      "---------\n",
      "3 --------\n",
      "0.042814567403794045 0.04412963038939786\n",
      "-0.08906687571696814 -0.08912034079181591\n",
      "0.04356284334542006 0.04358899325425304\n",
      "-0.16328374219762204 -0.1649293708085779\n",
      "---------\n",
      "4 --------\n",
      "2.550198759054294 -0.03810245009816984\n",
      "0.708194818446114 0.06699906971824036\n",
      "2.9557942220112294 -0.02466291715925698\n",
      "3.2485857648343996 -0.2241126333447151\n",
      "---------\n",
      "0.21831760509665687\n",
      "-0.30761025634366146\n",
      "-0.7097214757779499\n"
     ]
    }
   ],
   "source": [
    "overlap,normal = anayltic_stats\n",
    "\n",
    "#print moments/kstats\n",
    "for i in range(1,5):\n",
    "    print('%s --------'%i)\n",
    "    for distr in [true_stats,overlap,normal,bootstrap_stats]:\n",
    "        m, k = stats.moment(distr, i), stats.kstat(distr, i)\n",
    "        print(m,k)\n",
    "    print('---------')\n",
    "ll1,grad1,hess1,ll2,k1, grad2,hess2,k2 = setup_shi(yn,xn)\n",
    "thing1 = np.array(true_stats).mean() - np.array(bootstrap_stats).mean()\n",
    "print(thing1)\n",
    "thing2 = vuong_plots.compute_eigen2(ll1,grad1,hess1,ll2,k1, grad2,hess2,k2).sum()\n",
    "print(thing2)\n",
    "print(thing1/thing2)"
   ]
  },
  {
   "cell_type": "code",
   "execution_count": 15,
   "metadata": {},
   "outputs": [
    {
     "data": {
      "image/png": "[encoded data removed]",
      "text/plain": [
       "<Figure size 432x288 with 1 Axes>"
      ]
     },
     "metadata": {
      "needs_background": "light"
     },
     "output_type": "display_data"
    }
   ],
   "source": [
    "beta0 = 1.\n",
    "beta1 = .5\n",
    "\n",
    "def gen_data(beta0=beta0,beta1=beta1):\n",
    "    nobs = 500\n",
    "    #parameters\n",
    "    sigma = 1\n",
    "    \n",
    "    epsilon = stats.norm.rvs(loc=0,scale=sigma,size=nobs)\n",
    "    #censor data below x<0?\n",
    "    x = stats.norm.rvs(loc=5,scale=5,size=nobs)\n",
    "    y = beta0+ beta1*x + epsilon\n",
    "    \n",
    "    #censor\n",
    "    y[y<=0] = 0\n",
    "    return y,x,nobs\n",
    "\n",
    "true_stats = vuong_plots.plot_true2(gen_data,setup_shi,trials=100)\n",
    "yn,xn,nobs = gen_data()\n",
    "anayltic_stats = vuong_plots.plot_analytic2(yn,xn,nobs,setup_shi)\n",
    "bootstrap_stats = vuong_plots.plot_bootstrap_pt(yn,xn,nobs,setup_shi,trials=300)\n",
    "\n",
    "plt.legend()\n",
    "plt.savefig('../figs/tobit_plot50.png')\n",
    "plt.show()"
   ]
  },
  {
   "cell_type": "code",
   "execution_count": 16,
   "metadata": {},
   "outputs": [
    {
     "name": "stdout",
     "output_type": "stream",
     "text": [
      "1 --------\n",
      "0.0 3.6779638880500274\n",
      "0.0 0.004751433877421749\n",
      "0.0 -0.02596751856812857\n",
      "0.0 3.8815893605342087\n",
      "---------\n",
      "2 --------\n",
      "0.3155574713959366 0.3187449206019554\n",
      "0.29630384889381123 0.2963631215181149\n",
      "1.020405370202911 1.0206094921013316\n",
      "0.5230824620092195 0.5248319016814926\n",
      "---------\n",
      "3 --------\n",
      "0.008942407190740114 0.009217076057230681\n",
      "-0.0008188287928081898 -0.0008193203194542573\n",
      "-0.007732057452975723 -0.007736698853351673\n",
      "-0.11180532309897045 -0.11293213484445187\n",
      "---------\n",
      "4 --------\n",
      "0.24664549543873796 -0.04954904327849161\n",
      "0.23424824662767224 -0.02907501597589995\n",
      "3.130311957769007 0.007890863379918376\n",
      "0.8635548150056123 0.049303757584524335\n",
      "---------\n",
      "-0.20362547248418128\n",
      "0.0077389928713635925\n",
      "-26.31162424734253\n"
     ]
    }
   ],
   "source": [
    "overlap,normal = anayltic_stats\n",
    "\n",
    "#print moments/kstats\n",
    "for i in range(1,5):\n",
    "    print('%s --------'%i)\n",
    "    for distr in [true_stats,overlap,normal,bootstrap_stats]:\n",
    "        m, k = stats.moment(distr, i), stats.kstat(distr, i)\n",
    "        print(m,k)\n",
    "    print('---------')\n",
    "ll1,grad1,hess1,ll2,k1, grad2,hess2,k2 = setup_shi(yn,xn)\n",
    "thing1 = np.array(true_stats).mean() - np.array(bootstrap_stats).mean()\n",
    "print(thing1)\n",
    "thing2 = vuong_plots.compute_eigen2(ll1,grad1,hess1,ll2,k1, grad2,hess2,k2).sum()\n",
    "print(thing2)\n",
    "print(thing1/thing2)"
   ]
  },
  {
   "cell_type": "code",
   "execution_count": 17,
   "metadata": {},
   "outputs": [
    {
     "data": {
      "image/png": "[encoded data removed]",
      "text/plain": [
       "<Figure size 432x288 with 1 Axes>"
      ]
     },
     "metadata": {
      "needs_background": "light"
     },
     "output_type": "display_data"
    }
   ],
   "source": [
    "beta0 = 1.\n",
    "beta1 = 1.\n",
    "\n",
    "def gen_data(beta0=beta0,beta1=beta1):\n",
    "    nobs = 500\n",
    "    #parameters\n",
    "    sigma = 1\n",
    "    \n",
    "    epsilon = stats.norm.rvs(loc=0,scale=sigma,size=nobs)\n",
    "    #censor data below x<0?\n",
    "    x = stats.norm.rvs(loc=5,scale=5,size=nobs)\n",
    "    y = beta0+ beta1*x + epsilon\n",
    "    \n",
    "    #censor\n",
    "    y[y<=0] = 0\n",
    "    return y,x,nobs\n",
    "\n",
    "true_stats = vuong_plots.plot_true2(gen_data,setup_shi,trials=100)\n",
    "yn,xn,nobs = gen_data()\n",
    "anayltic_stats = vuong_plots.plot_analytic2(yn,xn,nobs,setup_shi)\n",
    "bootstrap_stats = vuong_plots.plot_bootstrap_pt(yn,xn,nobs,setup_shi,trials=300)\n",
    "\n",
    "plt.legend()\n",
    "plt.savefig('../figs/tobit_plot100.png')\n",
    "plt.show()"
   ]
  },
  {
   "cell_type": "code",
   "execution_count": 18,
   "metadata": {},
   "outputs": [
    {
     "name": "stdout",
     "output_type": "stream",
     "text": [
      "1 --------\n",
      "0.0 5.230836673772628\n",
      "0.0 0.4931060969803457\n",
      "0.0 -0.001704251329792322\n",
      "0.0 5.662815052498341\n",
      "---------\n",
      "2 --------\n",
      "0.7136450194861256 0.7208535550365041\n",
      "0.8504785246002778 0.8506486543311441\n",
      "0.9703385769763514 0.9705326835130539\n",
      "0.2927074778278709 0.2936864326032161\n",
      "---------\n",
      "3 --------\n",
      "0.09249989992825002 0.0953410636241523\n",
      "0.809768971592883 0.8102550598083635\n",
      "0.012132313946658396 0.012139596733530938\n",
      "0.10957266229321024 0.11067697253024623\n",
      "---------\n",
      "4 --------\n",
      "1.4604983608539808 -0.03983196219769418\n",
      "4.30610285492863 2.140023988591779\n",
      "2.8120604482089204 -0.01149685860679021\n",
      "0.35974931939670934 0.10689715947647656\n",
      "---------\n",
      "-0.431978378725713\n",
      "3.697123961463668\n",
      "-0.11684173515098895\n"
     ]
    }
   ],
   "source": [
    "overlap,normal = anayltic_stats\n",
    "\n",
    "#print moments/kstats\n",
    "for i in range(1,5):\n",
    "    print('%s --------'%i)\n",
    "    for distr in [true_stats,overlap,normal,bootstrap_stats]:\n",
    "        m, k = stats.moment(distr, i), stats.kstat(distr, i)\n",
    "        print(m,k)\n",
    "    print('---------')\n",
    "ll1,grad1,hess1,ll2,k1, grad2,hess2,k2 = setup_shi(yn,xn)\n",
    "thing1 = np.array(true_stats).mean() - np.array(bootstrap_stats).mean()\n",
    "print(thing1)\n",
    "thing2 = vuong_plots.compute_eigen2(ll1,grad1,hess1,ll2,k1, grad2,hess2,k2).sum()\n",
    "print(thing2)\n",
    "print(thing1/thing2)"
   ]
  },
  {
   "cell_type": "code",
   "execution_count": null,
   "metadata": {},
   "outputs": [],
   "source": []
  },
  {
   "cell_type": "code",
   "execution_count": null,
   "metadata": {},
   "outputs": [],
   "source": []
  },
  {
   "cell_type": "code",
   "execution_count": null,
   "metadata": {},
   "outputs": [],
   "source": []
  }
 ],
 "metadata": {
  "kernelspec": {
   "display_name": "Python 3",
   "language": "python",
   "name": "python3"
  },
  "language_info": {
   "codemirror_mode": {
    "name": "ipython",
    "version": 3
   },
   "file_extension": ".py",
   "mimetype": "text/x-python",
   "name": "python",
   "nbconvert_exporter": "python",
   "pygments_lexer": "ipython3",
   "version": "3.7.4"
  }
 },
 "nbformat": 4,
 "nbformat_minor": 2
}
