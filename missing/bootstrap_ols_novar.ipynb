{
 "cells": [
  {
   "cell_type": "code",
   "execution_count": 1,
   "metadata": {},
   "outputs": [],
   "source": [
    "%load_ext autoreload\n",
    "%autoreload 2\n",
    "\n",
    "import numpy as np\n",
    "import scipy.stats as stats\n",
    "import scipy.special\n",
    "#graphing\n",
    "import matplotlib.pyplot as plt\n",
    "#stats\n",
    "import statsmodels.api as sm\n",
    "from statsmodels.base.model import GenericLikelihoodModel\n",
    "\n",
    "#import testing\n",
    "import sys\n",
    "sys.path.append(\"../\")\n",
    "import vuong_tests2"
   ]
  },
  {
   "cell_type": "code",
   "execution_count": 2,
   "metadata": {},
   "outputs": [
    {
     "name": "stdout",
     "output_type": "stream",
     "text": [
      "(1000,)\n",
      "(1000, 2)\n",
      "ModeResult(mode=array([0.]), count=array([98]))\n"
     ]
    }
   ],
   "source": [
    "beta0 = 1.\n",
    "beta1 = .25\n",
    "\n",
    "def gen_data(beta0=beta0,beta1=beta1):\n",
    "    nobs = 1000\n",
    "    #parameters\n",
    "    sigma = 1\n",
    "    \n",
    "    epsilon = stats.norm.rvs(loc=0,scale=sigma,size=nobs)\n",
    "    #censor data below x<0?\n",
    "    x = stats.norm.rvs(loc=5,scale=5,size=nobs)\n",
    "    y = beta0+ beta1*x + epsilon\n",
    "    \n",
    "    #censor\n",
    "    y[y<=0] = 0\n",
    "    return y,x,nobs\n",
    "\n",
    "\n",
    "yn,xn,nobs = gen_data()\n",
    "print(xn.shape)\n",
    "print(sm.add_constant(xn).shape)\n",
    "print(scipy.stats.mode(yn))"
   ]
  },
  {
   "cell_type": "code",
   "execution_count": 3,
   "metadata": {},
   "outputs": [
    {
     "name": "stdout",
     "output_type": "stream",
     "text": [
      "                                Tobit Results                                 \n",
      "==============================================================================\n",
      "Dep. Variable:                      y   Log-Likelihood:                -1415.1\n",
      "Model:                          Tobit   AIC:                             2834.\n",
      "Method:            Maximum Likelihood   BIC:                             2844.\n",
      "Date:                Sun, 14 Mar 2021                                         \n",
      "Time:                        19:58:47                                         \n",
      "No. Observations:                1000                                         \n",
      "Df Residuals:                     998                                         \n",
      "Df Model:                           1                                         \n",
      "==============================================================================\n",
      "                 coef    std err          z      P>|z|      [0.025      0.975]\n",
      "------------------------------------------------------------------------------\n",
      "const          0.9147      0.048     19.155      0.000       0.821       1.008\n",
      "x1             0.2534      0.007     38.348      0.000       0.240       0.266\n",
      "==============================================================================\n",
      "                                Tobit Results                                 \n",
      "==============================================================================\n",
      "Dep. Variable:                      y   Log-Likelihood:                -1408.2\n",
      "Model:                          Tobit   AIC:                             2820.\n",
      "Method:            Maximum Likelihood   BIC:                             2830.\n",
      "Date:                Sun, 14 Mar 2021                                         \n",
      "Time:                        19:58:47                                         \n",
      "No. Observations:                1000                                         \n",
      "Df Residuals:                     998                                         \n",
      "Df Model:                           1                                         \n",
      "==============================================================================\n",
      "                 coef    std err          z      P>|z|      [0.025      0.975]\n",
      "------------------------------------------------------------------------------\n",
      "const          1.1033      0.045     24.683      0.000       1.016       1.191\n",
      "x1             0.2303      0.006     36.940      0.000       0.218       0.242\n",
      "==============================================================================\n"
     ]
    }
   ],
   "source": [
    "class Tobit(GenericLikelihoodModel):\n",
    "    \n",
    "    def __init__(self, *args,ols=False, **kwargs):\n",
    "        super(Tobit,self).__init__(*args,**kwargs)\n",
    "        self.ols = ols\n",
    "\n",
    "    def loglikeobs(self, params):\n",
    "        y = self.endog\n",
    "        x = self.exog\n",
    "        m = 1*(self.endog == 0) #missingness\n",
    "        \n",
    "        beta = params\n",
    "        \n",
    "        mu_y = np.matmul(x,beta)\n",
    "        \n",
    "        pr_y = stats.norm.logpdf( y, loc = mu_y)\n",
    "        \n",
    "       \n",
    "        #if complete case, assign pr missing to all observations...\n",
    "        pr_m = stats.norm.logcdf( y, loc = mu_y)\n",
    "        \n",
    "        #we're done if ols\n",
    "        if self.ols:\n",
    "            return pr_y\n",
    "        else:\n",
    "            ll = (1-m)*pr_y + m*pr_m\n",
    "            return ll\n",
    "        \n",
    "    def score(self, params):\n",
    "        y = self.endog\n",
    "        x = self.exog\n",
    "        m = 1*(self.endog == 0) #missingness\n",
    "        m_x = np.repeat(m,x.shape[1]).reshape(x.shape)\n",
    "        \n",
    "        if ols: #if OLS use all the data...\n",
    "            m, m_x = np.ones(y.shape), np.ones(x.shape)\n",
    "        \n",
    "        \n",
    "        b = params\n",
    "\n",
    "        beta_jac = np.zeros(len(b))\n",
    "        \n",
    "        #for censored\n",
    "        if not cc and not ols: \n",
    "            left_stats = (y - np.dot(x, b)) \n",
    "            l_pdf = scipy.stats.norm.logpdf(left_stats)\n",
    "            l_cdf = scipy.stats.norm.logcdf(left_stats)\n",
    "            left_frac = np.exp(l_pdf - l_cdf)\n",
    "            beta_left = np.dot(left_frac*m, x*m_x)\n",
    "            beta_jac -= beta_left\n",
    "        \n",
    "        #for non-censored\n",
    "        mid_stats = (y - np.dot(x, b))\n",
    "        beta_mid = np.dot(mid_stats*(1-m), x*(1-m_x) )\n",
    "        beta_jac += beta_mid\n",
    "        \n",
    "        # by chain rule, since the expression above is dloglik/dlogsigma\n",
    "        return beta_jac\n",
    "\n",
    "\n",
    "\n",
    "model1 =  Tobit(yn,sm.add_constant(xn))\n",
    "model1_fit = model1.fit(disp=False)\n",
    "print(model1_fit.summary())\n",
    "\n",
    "model2 =  Tobit(yn,sm.add_constant(xn),ols=True)\n",
    "model2_fit = model2.fit(disp=False)\n",
    "print(model2_fit.summary())"
   ]
  },
  {
   "cell_type": "code",
   "execution_count": 4,
   "metadata": {},
   "outputs": [],
   "source": [
    "def setup_shi(yn,xn):\n",
    "    model1 = Tobit(yn,sm.add_constant(xn))\n",
    "    model1_fit = model1.fit(disp=False)\n",
    "    ll1 = model1.loglikeobs(model1_fit.params)\n",
    "    grad1 =  model1.score_obs(model1_fit.params)    \n",
    "    hess1 = model1.hessian(model1_fit.params)\n",
    "    k1 = len(model1_fit.params)\n",
    "    \n",
    "    #fit logistic values\n",
    "    model2 = Tobit(yn,sm.add_constant(xn),ols=True)\n",
    "    model2_fit = model2.fit(disp=False)\n",
    "    ll2 = model2.loglikeobs(model2_fit.params)\n",
    "    grad2 =  model2.score_obs(model2_fit.params)    \n",
    "    hess2 = model2.hessian(model2_fit.params)\n",
    "    k2 = len(model2_fit.params)\n",
    "    \n",
    "    return ll1,grad1,hess1,ll2,k1, grad2,hess2,k2\n",
    "\n",
    "yn,xn,nobs = gen_data()\n",
    "ll1,grad1,hess1,ll2,k1, grad2,hess2,k2 = setup_shi(yn,xn)"
   ]
  },
  {
   "cell_type": "code",
   "execution_count": 5,
   "metadata": {},
   "outputs": [
    {
     "name": "stdout",
     "output_type": "stream",
     "text": [
      "reg: [0.85 0.   0.15], boot1: [0.85 0.   0.15], boot2: [0.9 0.  0.1], llr:-1.957579674311536, std: 5.534364646085143, omega:0.17562142632623784\n",
      "[0.95 0.   0.05]\n"
     ]
    }
   ],
   "source": [
    "beta0 = 1.\n",
    "beta1 = .25\n",
    "\n",
    "def gen_data(beta0=beta0,beta1=beta1):\n",
    "    nobs = 1000\n",
    "    #parameters\n",
    "    sigma = 1\n",
    "    \n",
    "    epsilon = stats.norm.rvs(loc=0,scale=sigma,size=nobs)\n",
    "    #censor data below x<0?\n",
    "    x = stats.norm.rvs(loc=5,scale=5,size=nobs)\n",
    "    y = beta0+ beta1*x + epsilon\n",
    "    \n",
    "    #censor\n",
    "    y[y<=0] = 0\n",
    "    return y,x,nobs\n",
    "\n",
    "\n",
    "reg,boot1,boot2, llr,std, omega = vuong_tests2.monte_carlo(20,gen_data,setup_shi)\n",
    "print(\"reg: %s, boot1: %s, boot2: %s, llr:%s, std: %s, omega:%s\"%(reg,boot1,boot2,llr,std, omega))\n",
    "\n",
    "shi_result = vuong_tests2.monte_carlo_shi(20,setup_shi,gen_data)\n",
    "print(shi_result)"
   ]
  },
  {
   "cell_type": "code",
   "execution_count": 6,
   "metadata": {},
   "outputs": [
    {
     "name": "stdout",
     "output_type": "stream",
     "text": [
      "reg: [0.95 0.   0.05], boot1: [0.95 0.   0.05], boot2: [0.9  0.05 0.05], llr:1.824454933224636, std: 16.37046722438711, omega:0.512259061169305\n",
      "[1. 0. 0.]\n"
     ]
    }
   ],
   "source": [
    "beta0 = 1.\n",
    "beta1 = .5\n",
    "\n",
    "def gen_data(beta0=beta0,beta1=beta1):\n",
    "    nobs = 1000\n",
    "    #parameters\n",
    "    sigma = 2\n",
    "    \n",
    "    epsilon = stats.norm.rvs(loc=0,scale=sigma,size=nobs)\n",
    "    #censor data below x<0?\n",
    "    x = stats.norm.rvs(loc=5,scale=5,size=nobs)\n",
    "    y = beta0+ beta1*x + epsilon\n",
    "    \n",
    "    #censor\n",
    "    y[y<=0] = 0\n",
    "    return y,x,nobs\n",
    "\n",
    "\n",
    "reg,boot1,boot2, llr,std, omega = vuong_tests2.monte_carlo(20,gen_data,setup_shi)\n",
    "print(\"reg: %s, boot1: %s, boot2: %s, llr:%s, std: %s, omega:%s\"%(reg,boot1,boot2,llr,std, omega))\n",
    "\n",
    "shi_result = vuong_tests2.monte_carlo_shi(20,setup_shi,gen_data)\n",
    "print(shi_result)"
   ]
  },
  {
   "cell_type": "code",
   "execution_count": 7,
   "metadata": {},
   "outputs": [
    {
     "name": "stdout",
     "output_type": "stream",
     "text": [
      "reg: [0. 1. 0.], boot1: [0. 1. 0.], boot2: [0. 1. 0.], llr:343.20418318185574, std: 62.07728362364256, omega:1.9247631689752989\n",
      "[0. 1. 0.]\n"
     ]
    }
   ],
   "source": [
    "beta0 = 1.\n",
    "beta1 = 1.\n",
    "\n",
    "def gen_data(beta0=beta0,beta1=beta1):\n",
    "    nobs = 1000\n",
    "    #parameters\n",
    "    sigma = 2\n",
    "    \n",
    "    epsilon = stats.norm.rvs(loc=0,scale=sigma,size=nobs)\n",
    "    #censor data below x<0?\n",
    "    x = stats.norm.rvs(loc=5,scale=5,size=nobs)\n",
    "    y = beta0+ beta1*x + epsilon\n",
    "    \n",
    "    #censor\n",
    "    y[y<=0] = 0\n",
    "    return y,x,nobs\n",
    "\n",
    "\n",
    "reg,boot1,boot2, llr,std, omega = vuong_tests2.monte_carlo(20,gen_data,setup_shi)\n",
    "print(\"reg: %s, boot1: %s, boot2: %s, llr:%s, std: %s, omega:%s\"%(reg,boot1,boot2,llr,std, omega))\n",
    "\n",
    "shi_result = vuong_tests2.monte_carlo_shi(20,setup_shi,gen_data)\n",
    "print(shi_result)"
   ]
  },
  {
   "cell_type": "code",
   "execution_count": 8,
   "metadata": {},
   "outputs": [
    {
     "name": "stdout",
     "output_type": "stream",
     "text": [
      "reg: [0. 1. 0.], boot1: [0. 1. 0.], boot2: [0. 1. 0.], llr:452.8339019195564, std: 47.299243893618616, omega:2.005188794717262\n",
      "[0. 1. 0.]\n"
     ]
    }
   ],
   "source": [
    "def gen_data(beta0=beta0,beta1=1):\n",
    "    nobs = 1000\n",
    "    #parameters\n",
    "    sigma = 1\n",
    "    \n",
    "    epsilon = stats.norm.rvs(loc=0,scale=sigma,size=nobs)\n",
    "    #censor data below x<0?\n",
    "    x = stats.norm.rvs(loc=5,scale=5,size=nobs)\n",
    "    y = beta0+ beta1*x + epsilon\n",
    "    \n",
    "    #censor\n",
    "    y[y<=0] = 0\n",
    "    return y,x,nobs\n",
    "\n",
    "reg,boot1,boot2, llr,std, omega = vuong_tests2.monte_carlo(20,gen_data,setup_shi)\n",
    "print(\"reg: %s, boot1: %s, boot2: %s, llr:%s, std: %s, omega:%s\"%(reg,boot1,boot2,llr,std, omega))\n",
    "\n",
    "shi_result = vuong_tests2.monte_carlo_shi(20,setup_shi,gen_data)\n",
    "print(shi_result)"
   ]
  },
  {
   "cell_type": "code",
   "execution_count": 9,
   "metadata": {},
   "outputs": [
    {
     "name": "stdout",
     "output_type": "stream",
     "text": [
      "reg: [0. 0. 1.], boot1: [0. 0. 1.], boot2: [0.35 0.   0.65], llr:-170.52784262197744, std: 34.31888442698855, omega:1.0198149561269951\n",
      "[0.1 0.  0.9]\n"
     ]
    }
   ],
   "source": [
    "def gen_data(beta0=beta0,beta1=1):\n",
    "    nobs = 1000\n",
    "    #parameters\n",
    "    sigma = 1\n",
    "    \n",
    "    epsilon = stats.norm.rvs(loc=0,scale=sigma,size=nobs)\n",
    "    #censor data below x<0?\n",
    "    x = stats.norm.rvs(loc=5,scale=5,size=nobs)\n",
    "    y = beta0+ beta1*x + epsilon\n",
    "    m = beta0 + epsilon\n",
    "    #censor\n",
    "    y[m<=0] = 0\n",
    "    return y,x,nobs\n",
    "    \n",
    "reg,boot1,boot2, llr,std, omega = vuong_tests2.monte_carlo(20,gen_data,setup_shi)\n",
    "print(\"reg: %s, boot1: %s, boot2: %s, llr:%s, std: %s, omega:%s\"%(reg,boot1,boot2,llr,std, omega))\n",
    "\n",
    "shi_result = vuong_tests2.monte_carlo_shi(20,setup_shi,gen_data)\n",
    "print(shi_result)"
   ]
  },
  {
   "cell_type": "code",
   "execution_count": 10,
   "metadata": {},
   "outputs": [
    {
     "name": "stdout",
     "output_type": "stream",
     "text": [
      "reg: [0. 0. 1.], boot1: [0. 0. 1.], boot2: [0. 0. 1.], llr:-106.99758814711106, std: 9.075687047270325, omega:0.29031434151061175\n",
      "[0. 0. 1.]\n"
     ]
    }
   ],
   "source": [
    "beta0 = 1.\n",
    "beta1 = .25\n",
    "\n",
    "def gen_data(beta0=beta0,beta1=beta1):\n",
    "    nobs = 1000\n",
    "    #parameters\n",
    "    sigma = 2\n",
    "    \n",
    "    epsilon = stats.norm.rvs(loc=0,scale=sigma,size=nobs)\n",
    "    #censor data below x<0?\n",
    "    x = stats.norm.rvs(loc=5,scale=5,size=nobs)\n",
    "    y = beta0+ beta1*x + epsilon\n",
    "    \n",
    "    #censor\n",
    "    y[y<=0] = 0\n",
    "    return y,x,nobs\n",
    "\n",
    "\n",
    "reg,boot1,boot2, llr,std, omega = vuong_tests2.monte_carlo(20,gen_data,setup_shi)\n",
    "print(\"reg: %s, boot1: %s, boot2: %s, llr:%s, std: %s, omega:%s\"%(reg,boot1,boot2,llr,std, omega))\n",
    "\n",
    "shi_result = vuong_tests2.monte_carlo_shi(20,setup_shi,gen_data)\n",
    "print(shi_result)"
   ]
  },
  {
   "cell_type": "code",
   "execution_count": 11,
   "metadata": {},
   "outputs": [
    {
     "name": "stderr",
     "output_type": "stream",
     "text": [
      "../vuong_tests2.py:74: RuntimeWarning: divide by zero encountered in double_scalars\n",
      "  boot_teststat =  (llr +V.sum()/(2*nobs) )/(np.sqrt(omega2*nobs))\n",
      "../vuong_tests2.py:75: RuntimeWarning: divide by zero encountered in double_scalars\n",
      "  boot_teststat_nml = (llr +V.sum()/(2*nobs) )/(np.sqrt(omega2*nobs))\n",
      "../vuong_tests2.py:74: RuntimeWarning: divide by zero encountered in cdouble_scalars\n",
      "  boot_teststat =  (llr +V.sum()/(2*nobs) )/(np.sqrt(omega2*nobs))\n",
      "../vuong_tests2.py:75: RuntimeWarning: divide by zero encountered in cdouble_scalars\n",
      "  boot_teststat_nml = (llr +V.sum()/(2*nobs) )/(np.sqrt(omega2*nobs))\n",
      "/home/erichschulman/anaconda3/lib/python3.7/site-packages/numpy/lib/function_base.py:3948: RuntimeWarning: invalid value encountered in multiply\n",
      "  x1 = take(ap, indices_below, axis=axis) * weights_below\n",
      "/home/erichschulman/anaconda3/lib/python3.7/site-packages/numpy/lib/function_base.py:3949: RuntimeWarning: invalid value encountered in multiply\n",
      "  x2 = take(ap, indices_above, axis=axis) * weights_above\n",
      "../vuong_tests2.py:40: RuntimeWarning: invalid value encountered in double_scalars\n",
      "  test_stat = llr/(omega*np.sqrt(nobs))\n",
      "../vuong_tests2.py:74: RuntimeWarning: invalid value encountered in cdouble_scalars\n",
      "  boot_teststat =  (llr +V.sum()/(2*nobs) )/(np.sqrt(omega2*nobs))\n",
      "../vuong_tests2.py:75: RuntimeWarning: invalid value encountered in cdouble_scalars\n",
      "  boot_teststat_nml = (llr +V.sum()/(2*nobs) )/(np.sqrt(omega2*nobs))\n",
      "../vuong_tests2.py:92: RuntimeWarning: invalid value encountered in double_scalars\n",
      "  test_stat = llr/(omega*np.sqrt(nobs))\n"
     ]
    },
    {
     "name": "stdout",
     "output_type": "stream",
     "text": [
      "reg: [1. 0. 0.], boot1: [0.95 0.   0.05], boot2: [1. 0. 0.], llr:-0.6339001981230918, std: 0.9389337872189765, omega:0.017464108234663055\n"
     ]
    },
    {
     "name": "stderr",
     "output_type": "stream",
     "text": [
      "../vuong_tests2.py:205: RuntimeWarning: divide by zero encountered in true_divide\n",
      "  Tnd = (nLR_hat+V.sum()/2)/np.sqrt(n*nomega2_hat + cstar*(V*V).sum())\n",
      "../vuong_tests2.py:205: RuntimeWarning: divide by zero encountered in true_divide\n",
      "  Tnd = (nLR_hat+V.sum()/2)/np.sqrt(n*nomega2_hat + cstar*(V*V).sum())\n",
      "../vuong_tests2.py:205: RuntimeWarning: divide by zero encountered in true_divide\n",
      "  Tnd = (nLR_hat+V.sum()/2)/np.sqrt(n*nomega2_hat + cstar*(V*V).sum())\n",
      "../vuong_tests2.py:205: RuntimeWarning: divide by zero encountered in true_divide\n",
      "  Tnd = (nLR_hat+V.sum()/2)/np.sqrt(n*nomega2_hat + cstar*(V*V).sum())\n",
      "../vuong_tests2.py:205: RuntimeWarning: divide by zero encountered in true_divide\n",
      "  Tnd = (nLR_hat+V.sum()/2)/np.sqrt(n*nomega2_hat + cstar*(V*V).sum())\n",
      "../vuong_tests2.py:205: RuntimeWarning: divide by zero encountered in true_divide\n",
      "  Tnd = (nLR_hat+V.sum()/2)/np.sqrt(n*nomega2_hat + cstar*(V*V).sum())\n",
      "../vuong_tests2.py:205: RuntimeWarning: divide by zero encountered in true_divide\n",
      "  Tnd = (nLR_hat+V.sum()/2)/np.sqrt(n*nomega2_hat + cstar*(V*V).sum())\n",
      "../vuong_tests2.py:205: RuntimeWarning: divide by zero encountered in true_divide\n",
      "  Tnd = (nLR_hat+V.sum()/2)/np.sqrt(n*nomega2_hat + cstar*(V*V).sum())\n",
      "../vuong_tests2.py:205: RuntimeWarning: divide by zero encountered in true_divide\n",
      "  Tnd = (nLR_hat+V.sum()/2)/np.sqrt(n*nomega2_hat + cstar*(V*V).sum())\n",
      "../vuong_tests2.py:205: RuntimeWarning: divide by zero encountered in true_divide\n",
      "  Tnd = (nLR_hat+V.sum()/2)/np.sqrt(n*nomega2_hat + cstar*(V*V).sum())\n"
     ]
    },
    {
     "name": "stdout",
     "output_type": "stream",
     "text": [
      "[0.2  0.25 0.55]\n"
     ]
    },
    {
     "name": "stderr",
     "output_type": "stream",
     "text": [
      "../vuong_tests2.py:205: RuntimeWarning: divide by zero encountered in true_divide\n",
      "  Tnd = (nLR_hat+V.sum()/2)/np.sqrt(n*nomega2_hat + cstar*(V*V).sum())\n"
     ]
    }
   ],
   "source": [
    "def gen_data(beta0=3.29543322,beta1=0):\n",
    "    nobs = 1000\n",
    "    #parameters\n",
    "    sigma = 1\n",
    "    \n",
    "    epsilon = stats.norm.rvs(loc=0,scale=sigma,size=nobs)\n",
    "    #censor data below x<0?\n",
    "    x = stats.norm.rvs(loc=5,scale=5,size=nobs)\n",
    "    y = beta0+ beta1*x + epsilon\n",
    "    m = beta0 + epsilon\n",
    "    #censor\n",
    "    y[m<=0] = 0\n",
    "    return y,x,nobs\n",
    "    \n",
    "reg,boot1,boot2, llr,std, omega = vuong_tests2.monte_carlo(20,gen_data,setup_shi)\n",
    "print(\"reg: %s, boot1: %s, boot2: %s, llr:%s, std: %s, omega:%s\"%(reg,boot1,boot2,llr,std, omega))\n",
    "\n",
    "shi_result = vuong_tests2.monte_carlo_shi(20,setup_shi,gen_data)\n",
    "print(shi_result)"
   ]
  },
  {
   "cell_type": "code",
   "execution_count": null,
   "metadata": {},
   "outputs": [],
   "source": []
  }
 ],
 "metadata": {
  "kernelspec": {
   "display_name": "Python 3",
   "language": "python",
   "name": "python3"
  },
  "language_info": {
   "codemirror_mode": {
    "name": "ipython",
    "version": 3
   },
   "file_extension": ".py",
   "mimetype": "text/x-python",
   "name": "python",
   "nbconvert_exporter": "python",
   "pygments_lexer": "ipython3",
   "version": "3.7.4"
  }
 },
 "nbformat": 4,
 "nbformat_minor": 2
}
