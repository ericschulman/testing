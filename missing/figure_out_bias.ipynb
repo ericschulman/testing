{
 "cells": [
  {
   "cell_type": "code",
   "execution_count": 26,
   "metadata": {},
   "outputs": [
    {
     "name": "stdout",
     "output_type": "stream",
     "text": [
      "The autoreload extension is already loaded. To reload it, use:\n",
      "  %reload_ext autoreload\n"
     ]
    }
   ],
   "source": [
    "%load_ext autoreload\n",
    "%autoreload 2\n",
    "\n",
    "import numpy as np\n",
    "import scipy.stats as stats\n",
    "import scipy.special\n",
    "#graphing\n",
    "import matplotlib.pyplot as plt\n",
    "#stats\n",
    "import statsmodels.api as sm\n",
    "from statsmodels.base.model import GenericLikelihoodModel\n",
    "\n",
    "#import testing\n",
    "import sys\n",
    "sys.path.append(\"../\")\n",
    "import vuong_plots"
   ]
  },
  {
   "cell_type": "code",
   "execution_count": 42,
   "metadata": {},
   "outputs": [],
   "source": [
    "beta0 = 1.\n",
    "beta1 = .25\n",
    "\n",
    "def gen_data(beta0=beta0,beta1=beta1):\n",
    "    nobs = 2000\n",
    "    #parameters\n",
    "    sigma = 1\n",
    "    \n",
    "    epsilon = stats.norm.rvs(loc=0,scale=sigma,size=nobs)\n",
    "    #censor data below x<0?\n",
    "    x = stats.uniform.rvs(loc=-5,scale=10,size=nobs)\n",
    "    y = beta0+ beta1*x + epsilon\n",
    "    \n",
    "    #censor\n",
    "    y[y<=0] = 0\n",
    "    return y,x,nobs"
   ]
  },
  {
   "cell_type": "code",
   "execution_count": 43,
   "metadata": {},
   "outputs": [],
   "source": [
    "class Tobit(GenericLikelihoodModel):\n",
    "    \n",
    "    def __init__(self, *args,ols=False, **kwargs):\n",
    "        super(Tobit,self).__init__(*args,**kwargs)\n",
    "        self.ols = ols\n",
    "\n",
    "    def loglikeobs(self, params):\n",
    "        y = self.endog\n",
    "        x = self.exog\n",
    "        m = 1*(self.endog == 0) #missingness\n",
    "        \n",
    "        beta = params\n",
    "        \n",
    "        mu_y = np.matmul(x,beta)\n",
    "        \n",
    "        pr_y = stats.norm.logpdf( y, loc = mu_y)\n",
    "        \n",
    "        #if complete case, assign pr missing to all observations...\n",
    "        pr_m = stats.norm.logcdf( y, loc = mu_y)\n",
    "        \n",
    "        #we're done if ols\n",
    "        if self.ols:\n",
    "            return pr_y\n",
    "        else:\n",
    "            ll = (1-m)*pr_y + m*pr_m\n",
    "            return ll\n"
   ]
  },
  {
   "cell_type": "code",
   "execution_count": 44,
   "metadata": {},
   "outputs": [
    {
     "name": "stdout",
     "output_type": "stream",
     "text": [
      "-6.4433044118926555\n",
      "-6.4433044118926555\n",
      "-----\n",
      "0.4175791032001157 -1.1360008285051055\n",
      "-4.739540935767611 3.03772141298873\n",
      "-6.121529359069175 -4.9855285305640695\n",
      "-----\n",
      "-4.999873741052044 0.0\n",
      "-0.5100689903519575 -0.9276480935520732\n",
      "-----\n",
      "-0.022047940360688658\n",
      "0.004227843547005171\n",
      "-5.214937619039025\n"
     ]
    }
   ],
   "source": [
    "yn,xn,nobs = gen_data()\n",
    "model1 =  Tobit(yn,sm.add_constant(xn))\n",
    "model1_fit = model1.fit(disp=False)\n",
    "ll1 = model1.loglikeobs(model1_fit.params)\n",
    "\n",
    "model2 =  Tobit(yn,sm.add_constant(xn),ols=True)\n",
    "model2_fit = model2.fit(disp=False)\n",
    "ll2 = model2.loglikeobs(model2_fit.params)\n",
    "\n",
    "print((ll1-ll2).sum()/ np.sqrt( nobs*(ll1-ll2).var() ))\n",
    "print( np.sqrt(nobs)*(ll1-ll2).mean()/ (ll1-ll2).std())\n",
    "print('-----')\n",
    "print((ll1-ll2).max(),(ll1-ll2).min())\n",
    "print(xn[(ll1-ll2).argmin()],yn[(ll1-ll2).argmin()])\n",
    "print(ll1[(ll1-ll2).argmin()],ll2[(ll1-ll2).argmin()])\n",
    "print('-----')\n",
    "print(xn[(ll1-ll2).argmax()],yn[(ll1-ll2).argmax()])\n",
    "print(ll1[(ll1-ll2).argmax()],ll2[(ll1-ll2).argmax()])\n",
    "print('-----')\n",
    "\n",
    "#try to cross validate with a test set\n",
    "yn_cross,xn_cross,nobs = gen_data()\n",
    "m1_cross = Tobit(yn_cross,sm.add_constant(xn_cross))\n",
    "m2_cross = Tobit(yn_cross,sm.add_constant(xn_cross),ols=True)\n",
    "\n",
    "ll1_cross = m1_cross.loglikeobs(model1_fit.params)\n",
    "ll2_cross = m2_cross.loglikeobs(model2_fit.params)\n",
    "\n",
    "print( (ll1_cross-ll2_cross).mean() )\n",
    "print( (ll1_cross-ll2_cross).std()/np.sqrt(nobs) )\n",
    "print( np.sqrt(nobs)*(ll1_cross-ll2_cross).mean()/ (ll1_cross-ll2_cross).std() )\n",
    "\n"
   ]
  },
  {
   "cell_type": "code",
   "execution_count": 4,
   "metadata": {},
   "outputs": [],
   "source": [
    "def setup_shi(yn,xn):\n",
    "    model1 = Tobit(yn,sm.add_constant(xn))\n",
    "    model1_fit = model1.fit(disp=False,xtol=1e-12,ftol=1e-12)\n",
    "    ll1 = model1.loglikeobs(model1_fit.params)\n",
    "    grad1 =  model1.score_obs(model1_fit.params)    \n",
    "    hess1 = model1.hessian(model1_fit.params)\n",
    "\n",
    "    #fit logistic values\n",
    "    model2 = Tobit(yn,sm.add_constant(xn),ols=True)\n",
    "    model2_fit = model2.fit(disp=False,xtol=1e-12,ftol=1e-12)\n",
    "    ll2 = model2.loglikeobs(model2_fit.params)\n",
    "    grad2 =  model2.score_obs(model2_fit.params)    \n",
    "    hess2 = model2.hessian(model2_fit.params)\n",
    "    return ll1,grad1,hess1,ll2,model1_fit.params, grad2,hess2,model2_fit.params\n"
   ]
  },
  {
   "cell_type": "code",
   "execution_count": 23,
   "metadata": {},
   "outputs": [
    {
     "name": "stdout",
     "output_type": "stream",
     "text": [
      "[[ 1.13178655 -0.04483276 -0.8526594  -0.03621172]\n",
      " [-0.04483276  0.14307119 -0.03731466 -0.10317515]\n",
      " [-0.8526594  -0.03731466  0.70363609  0.07381166]\n",
      " [-0.03621172 -0.10317515  0.07381166  0.08324433]]\n",
      "[[-1.04115983 -0.00107179  0.80567346  0.06464021]\n",
      " [-0.00788444 -1.04305572  0.53089444  0.77272188]\n",
      " [-0.85649224 -0.04823524  0.71144869  0.08262266]\n",
      " [-0.38570524 -0.84576718  0.67671397  0.68701244]]\n",
      "-0.3428772086542893\n",
      "------\n",
      "0.3428772086542889\n",
      "[[ 0.04987619 -0.00024941]]\n",
      "[[2.31095918]]\n",
      "[1.11297763 0.19657363]\n",
      "[[-0.6711708]]\n",
      "2.982129987720554\n"
     ]
    }
   ],
   "source": [
    "yn,xn,nobs = gen_data()\n",
    "\n",
    "ll1,grad1,hess1,ll2,theta1, grad2,hess2,theta2 = setup_shi(yn,xn)\n",
    "V = vuong_plots.compute_eigen2(ll1,grad1,hess1,ll2,theta1, grad2,hess2,theta2).sum()\n",
    "print('------')\n",
    "print(-1*V.sum()/2)\n",
    "\n",
    "\n",
    "theta_diff1 =  np.array([(np.array([1, .25]) - theta1)])\n",
    "print(theta_diff1)\n",
    "b1 = np.dot(theta_diff1,-1*hess1/nobs)\n",
    "b1 = np.dot(b1,theta_diff1.transpose())\n",
    "print(b1*1000)\n",
    "print(theta2)\n",
    "#theta_diff2 =  np.array([(np.array([1.15, .19]) - theta2)])\n",
    "#print(theta_diff2)\n",
    "b2 = np.dot(theta_diff1,-1*hess2/nobs)\n",
    "b2 = np.dot(b2,theta_diff2.transpose())\n",
    "print(b2*1000)\n",
    "\n",
    "print(nobs*(b1 - b2)[0,0])"
   ]
  },
  {
   "cell_type": "code",
   "execution_count": 13,
   "metadata": {},
   "outputs": [
    {
     "name": "stdout",
     "output_type": "stream",
     "text": [
      "[[-331.05899109]] -30.721344015182083\n",
      "299.416744798391\n",
      "------\n",
      "436.76889793503193 190767.07020338235\n",
      "1.6568191324581596 138048030.74919528\n",
      "3.3350542293007646 230545769110.4619\n"
     ]
    },
    {
     "data": {
      "image/png": "[encoded data removed]",
      "text/plain": [
       "<Figure size 432x288 with 1 Axes>"
      ]
     },
     "metadata": {
      "needs_background": "light"
     },
     "output_type": "display_data"
    }
   ],
   "source": [
    "yn,xn,nobs = gen_data()\n",
    "bootstrap_r = vuong_plots.plot_bootstrap_recenter(yn,xn,nobs,setup_shi,trials=100)\n",
    "print( np.array(bootstrap_r).mean() )\n",
    "print('------')\n",
    "print( np.array(bootstrap_r).std(), stats.moment((bootstrap_r), 2) )\n",
    "print( stats.skew(bootstrap_r), stats.moment((bootstrap_r), 3) )\n",
    "print( stats.kurtosis(bootstrap_r),  stats.moment((bootstrap_r), 4) )"
   ]
  },
  {
   "cell_type": "code",
   "execution_count": 14,
   "metadata": {},
   "outputs": [
    {
     "name": "stdout",
     "output_type": "stream",
     "text": [
      "[9.01699176e-06 3.09940227e-05] [-1.73478999e-05 -1.01205617e-05]\n"
     ]
    }
   ],
   "source": [
    "yn,xn,nobs = gen_data()\n",
    "ll1,grad1,hess1,ll2,k1, grad2,hess2,k2 = setup_shi(yn,xn)\n",
    "print(grad1.sum(axis=0),grad2.sum(axis=0))"
   ]
  },
  {
   "cell_type": "code",
   "execution_count": 15,
   "metadata": {},
   "outputs": [
    {
     "data": {
      "image/png": "[encoded data removed]",
      "text/plain": [
       "<Figure size 432x288 with 1 Axes>"
      ]
     },
     "metadata": {
      "needs_background": "light"
     },
     "output_type": "display_data"
    },
    {
     "name": "stdout",
     "output_type": "stream",
     "text": [
      "-29.068723297683796\n",
      "0.17564756393817998 0.030852066717417023\n",
      "-0.9733079223677243 -0.00527444358075043\n",
      "3.713507291456387 0.006390252054583722\n"
     ]
    }
   ],
   "source": [
    "yn,xn,nobs = gen_data()\n",
    "ll1,grad1,hess1,ll2,k1, grad2,hess2,k2 = setup_shi(yn,xn)\n",
    "\n",
    "V = vuong_plots.compute_eigen2(ll1,grad1,hess1,ll2,k1, grad2,hess2,k2)\n",
    "tr_Vsq = (V*V).sum()\n",
    "V_nmlzd = V/np.sqrt(tr_Vsq) #V, normalized by sqrt(trVsq);\n",
    "bootstrap_stats = vuong_plots.plot_bootstrap_pt(yn,xn,nobs,setup_shi,trials=300)\n",
    "\n",
    "\n",
    "plt.clf()\n",
    "plt.hist(ll1-ll2)\n",
    "plt.show()\n",
    "\n",
    "print( (ll1-ll2).sum() )\n",
    "print( (ll1-ll2).std(), stats.moment((ll1-ll2), 2) )\n",
    "print( stats.skew(ll1-ll2), stats.moment((ll1-ll2), 3) )\n",
    "print( stats.kurtosis(ll1-ll2),  stats.moment((ll1-ll2), 4) )"
   ]
  },
  {
   "cell_type": "code",
   "execution_count": 16,
   "metadata": {},
   "outputs": [
    {
     "data": {
      "image/png": "[encoded data removed]",
      "text/plain": [
       "<Figure size 432x288 with 1 Axes>"
      ]
     },
     "metadata": {
      "needs_background": "light"
     },
     "output_type": "display_data"
    },
    {
     "name": "stdout",
     "output_type": "stream",
     "text": [
      "------\n",
      "0.5882027162788386 0.39894227919114855\n",
      "0.0 -4.941985384422358\n",
      "0.8329702914091822 -1.3584803253910174\n",
      "------\n",
      "0.009886252684035616 0.008193212746756223\n",
      "3.2840794160864006 -1.6374327125434074\n",
      "4.8403717417792524 4.9774040683283935\n",
      "-------\n",
      "-3.694111712368654 -2.015758409428757 -1.4100524606172335 -1.0712345089107655 -0.940840996008393 -0.7161660225871931\n",
      "-3.377857996031391 -1.8197834662792602 -1.3423679511614903 -1.0674336495060452 -0.956489818156738 -0.921770239659479\n",
      "-------\n",
      "-29.068723297683796\n",
      "--------\n"
     ]
    }
   ],
   "source": [
    "plt.show()\n",
    "plt.hist(ll1,label='ll1',range=(-5.5,0),alpha=.5)\n",
    "plt.hist(ll2,label='ll2',range=(-5.5,0),alpha=.5)\n",
    "plt.legend()\n",
    "plt.show()\n",
    "\n",
    "\n",
    "print('------')\n",
    "\n",
    "\n",
    "print(np.exp(ll1.max()),np.exp(ll2.max()))\n",
    "print(yn[ll1.argmax()],xn[ll1.argmax()])\n",
    "print(yn[ll2.argmax()],xn[ll2.argmax()])\n",
    "print('------')\n",
    "\n",
    "print(np.exp(ll1.min()),np.exp(ll2.min()))\n",
    "print(yn[ll1.argmin()],xn[ll1.argmin()])\n",
    "print(yn[ll2.argmin()],xn[ll2.argmin()])\n",
    "\n",
    "print('-------')\n",
    "print(np.quantile(ll1,.01),np.quantile(ll1,.1),np.quantile(ll1,.25),np.quantile(ll1,.5),np.quantile(ll1,.75),np.quantile(ll1,.95))\n",
    "print(np.quantile(ll2,.01),np.quantile(ll2,.1),np.quantile(ll2,.25),np.quantile(ll2,.5),np.quantile(ll2,.75),np.quantile(ll2,.95))\n",
    "\n",
    "print('-------')\n",
    "print( (ll1-ll2).sum() )\n",
    "print('--------')\n",
    "#print(V_nmlzd.sum(),V.sum())\n",
    "#print((ll1-ll2).sum()/np.sqrt((ll1-ll2).var()*nobs))"
   ]
  },
  {
   "cell_type": "code",
   "execution_count": 17,
   "metadata": {},
   "outputs": [
    {
     "data": {
      "image/png": "[encoded data removed]",
      "text/plain": [
       "<Figure size 432x288 with 1 Axes>"
      ]
     },
     "metadata": {
      "needs_background": "light"
     },
     "output_type": "display_data"
    }
   ],
   "source": [
    "beta0 = 1.\n",
    "beta1 = .25\n",
    "\n",
    "def gen_data(beta0=beta0,beta1=beta1):\n",
    "    nobs = 500\n",
    "    #parameters\n",
    "    sigma = 1\n",
    "    \n",
    "    epsilon = stats.norm.rvs(loc=0,scale=sigma,size=nobs)\n",
    "    #censor data below x<0?\n",
    "    x = stats.norm.rvs(loc=5,scale=5,size=nobs)\n",
    "    y = beta0+ beta1*x + epsilon\n",
    "    \n",
    "    #censor\n",
    "    y[y<=0] = 0\n",
    "    return y,x,nobs\n",
    "\n",
    "true_stats = vuong_plots.plot_true2(gen_data,setup_shi,trials=100)\n",
    "yn,xn,nobs = gen_data()\n",
    "anayltic_stats = vuong_plots.plot_analytic2(yn,xn,nobs,setup_shi)\n",
    "bootstrap_stats = vuong_plots.plot_bootstrap_pt(yn,xn,nobs,setup_shi,trials=300)\n",
    "plt.legend()\n",
    "#plt.savefig('../figs/tobit_plot25.png')\n",
    "plt.show()"
   ]
  },
  {
   "cell_type": "code",
   "execution_count": null,
   "metadata": {},
   "outputs": [],
   "source": []
  },
  {
   "cell_type": "code",
   "execution_count": 18,
   "metadata": {},
   "outputs": [
    {
     "name": "stdout",
     "output_type": "stream",
     "text": [
      " --------\n",
      "--------- \n",
      "1 -0.7348519377573759 -0.7348519377573759\n",
      "2 1.2402381773532796 1.2527658357103837\n",
      "3 -0.5579475611086846 -0.794309500292967\n",
      "4 0.10850788005893675 0.27719475238849967\n",
      "--------- \n",
      "--------- \n",
      "1 -0.27790431207225147 -0.27790431207225147\n",
      "2 0.4345630666791333 0.43464999667846904\n",
      "3 -0.18015031394822523 -0.05163864799421146\n",
      "4 -0.016157073443324954 -0.0028285726951941185\n",
      "--------- \n",
      "--------- \n",
      "1 0.008473590281466046 0.008473590281466046\n",
      "2 0.9763373364527029 0.9765326429812992\n",
      "3 -0.07618973040575247 -0.07354563523098416\n",
      "4 -0.04050795690091746 -0.03752243749319041\n",
      "--------- \n",
      "--------- \n",
      "1 -0.9831260645286951 -0.9831260645286951\n",
      "2 1.020675527753872 1.0240891582814766\n",
      "3 0.05225847229688916 0.05443062481572302\n",
      "4 -0.27391696762282836 -0.27086061607119005\n",
      "--------- \n",
      "---------\n",
      "0.24827412677131921\n",
      "-0.0005204995466502609\n",
      "-476.99201347843245\n"
     ]
    }
   ],
   "source": [
    "overlap,normal = anayltic_stats\n",
    "\n",
    "#print moments/kstats\n",
    "print(' --------')\n",
    "for distr in [true_stats,overlap,normal,bootstrap_stats]:\n",
    "    print('--------- ')\n",
    "    print(1, np.array(distr).mean(), stats.kstat(distr, 1))\n",
    "    print(2, np.array(distr).var(), stats.kstat(distr, 2))\n",
    "    print(3, stats.skew(distr), stats.kstat(distr, 3) )\n",
    "    print(4, stats.kurtosis(distr),  stats.kstat(distr, 4) )\n",
    "    print('--------- ')\n",
    "print('---------')\n",
    "\n",
    "\n",
    "ll1,grad1,hess1,ll2,k1, grad2,hess2,k2 = setup_shi(yn,xn)\n",
    "thing1 = np.array(true_stats).mean() - np.array(bootstrap_stats).mean()\n",
    "print(thing1)\n",
    "thing2 = vuong_plots.compute_eigen2(ll1,grad1,hess1,ll2,k1, grad2,hess2,k2).sum()\n",
    "print(thing2)\n",
    "print(thing1/thing2)"
   ]
  },
  {
   "cell_type": "code",
   "execution_count": null,
   "metadata": {},
   "outputs": [],
   "source": []
  },
  {
   "cell_type": "code",
   "execution_count": null,
   "metadata": {},
   "outputs": [],
   "source": []
  },
  {
   "cell_type": "code",
   "execution_count": null,
   "metadata": {},
   "outputs": [],
   "source": []
  }
 ],
 "metadata": {
  "kernelspec": {
   "display_name": "Python 3",
   "language": "python",
   "name": "python3"
  },
  "language_info": {
   "codemirror_mode": {
    "name": "ipython",
    "version": 3
   },
   "file_extension": ".py",
   "mimetype": "text/x-python",
   "name": "python",
   "nbconvert_exporter": "python",
   "pygments_lexer": "ipython3",
   "version": "3.7.4"
  }
 },
 "nbformat": 4,
 "nbformat_minor": 2
}
