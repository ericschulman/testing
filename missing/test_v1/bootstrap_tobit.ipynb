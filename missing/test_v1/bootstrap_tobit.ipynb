{
 "cells": [
  {
   "cell_type": "code",
   "execution_count": 1,
   "metadata": {},
   "outputs": [],
   "source": [
    "%load_ext autoreload\n",
    "%autoreload 2\n",
    "\n",
    "import numpy as np\n",
    "import scipy.stats as stats\n",
    "import scipy.special\n",
    "#graphing\n",
    "import matplotlib.pyplot as plt\n",
    "#stats\n",
    "import statsmodels.api as sm\n",
    "from statsmodels.base.model import GenericLikelihoodModel\n",
    "\n",
    "#import testing\n",
    "import sys\n",
    "sys.path.append(\"../\")\n",
    "import vuong_tests"
   ]
  },
  {
   "cell_type": "code",
   "execution_count": 2,
   "metadata": {},
   "outputs": [
    {
     "name": "stdout",
     "output_type": "stream",
     "text": [
      "(1000,)\n",
      "(1000, 2)\n",
      "ModeResult(mode=array([0.]), count=array([612]))\n"
     ]
    }
   ],
   "source": [
    "beta0 = 5\n",
    "beta1 = 3.\n",
    "\n",
    "def gen_data(beta0=beta0,beta1=beta1):\n",
    "    nobs = 1000\n",
    "    #parameters\n",
    "    sigma = 1\n",
    "    \n",
    "    epsilon = stats.norm.rvs(loc=0,scale=sigma,size=nobs)\n",
    "    #censor data below x<0?\n",
    "    x = stats.norm.rvs(loc=-2,scale=1,size=nobs)\n",
    "    y = beta0+ beta1*x + epsilon\n",
    "    \n",
    "    #censor\n",
    "    y[y<=0] = 0\n",
    "    return y,x,nobs\n",
    "\n",
    "\n",
    "yn,xn,nobs = gen_data()\n",
    "print(xn.shape)\n",
    "print(sm.add_constant(xn).shape)\n",
    "print(scipy.stats.mode(yn))"
   ]
  },
  {
   "cell_type": "code",
   "execution_count": 3,
   "metadata": {},
   "outputs": [
    {
     "data": {
      "text/html": [
       "<table class=\"simpletable\">\n",
       "<caption>Tobit Results</caption>\n",
       "<tr>\n",
       "  <th>Dep. Variable:</th>             <td>y</td>         <th>  Log-Likelihood:    </th> <td> -651.61</td>\n",
       "</tr>\n",
       "<tr>\n",
       "  <th>Model:</th>                   <td>Tobit</td>       <th>  AIC:               </th> <td>   1307.</td>\n",
       "</tr>\n",
       "<tr>\n",
       "  <th>Method:</th>           <td>Maximum Likelihood</td> <th>  BIC:               </th> <td>   1317.</td>\n",
       "</tr>\n",
       "<tr>\n",
       "  <th>Date:</th>              <td>Tue, 01 Dec 2020</td>  <th>                     </th>     <td> </td>   \n",
       "</tr>\n",
       "<tr>\n",
       "  <th>Time:</th>                  <td>15:59:31</td>      <th>                     </th>     <td> </td>   \n",
       "</tr>\n",
       "<tr>\n",
       "  <th>No. Observations:</th>       <td>  1000</td>       <th>                     </th>     <td> </td>   \n",
       "</tr>\n",
       "<tr>\n",
       "  <th>Df Residuals:</th>           <td>   998</td>       <th>                     </th>     <td> </td>   \n",
       "</tr>\n",
       "<tr>\n",
       "  <th>Df Model:</th>               <td>     1</td>       <th>                     </th>     <td> </td>   \n",
       "</tr>\n",
       "</table>\n",
       "<table class=\"simpletable\">\n",
       "<tr>\n",
       "    <td></td>       <th>coef</th>     <th>std err</th>      <th>z</th>      <th>P>|z|</th>  <th>[0.025</th>    <th>0.975]</th>  \n",
       "</tr>\n",
       "<tr>\n",
       "  <th>const</th> <td>    5.0332</td> <td>    0.093</td> <td>   54.184</td> <td> 0.000</td> <td>    4.851</td> <td>    5.215</td>\n",
       "</tr>\n",
       "<tr>\n",
       "  <th>x1</th>    <td>    3.0005</td> <td>    0.069</td> <td>   43.504</td> <td> 0.000</td> <td>    2.865</td> <td>    3.136</td>\n",
       "</tr>\n",
       "<tr>\n",
       "  <th>var</th>   <td>    0.9361</td> <td>    0.067</td> <td>   13.975</td> <td> 0.000</td> <td>    0.805</td> <td>    1.067</td>\n",
       "</tr>\n",
       "</table>"
      ],
      "text/plain": [
       "<class 'statsmodels.iolib.summary.Summary'>\n",
       "\"\"\"\n",
       "                                Tobit Results                                 \n",
       "==============================================================================\n",
       "Dep. Variable:                      y   Log-Likelihood:                -651.61\n",
       "Model:                          Tobit   AIC:                             1307.\n",
       "Method:            Maximum Likelihood   BIC:                             1317.\n",
       "Date:                Tue, 01 Dec 2020                                         \n",
       "Time:                        15:59:31                                         \n",
       "No. Observations:                1000                                         \n",
       "Df Residuals:                     998                                         \n",
       "Df Model:                           1                                         \n",
       "==============================================================================\n",
       "                 coef    std err          z      P>|z|      [0.025      0.975]\n",
       "------------------------------------------------------------------------------\n",
       "const          5.0332      0.093     54.184      0.000       4.851       5.215\n",
       "x1             3.0005      0.069     43.504      0.000       2.865       3.136\n",
       "var            0.9361      0.067     13.975      0.000       0.805       1.067\n",
       "==============================================================================\n",
       "\"\"\""
      ]
     },
     "execution_count": 3,
     "metadata": {},
     "output_type": "execute_result"
    }
   ],
   "source": [
    "class Tobit(GenericLikelihoodModel):\n",
    "    \n",
    "    def __init__(self, *args, error_distr=stats.norm, **kwargs):\n",
    "        self.error_distr = error_distr\n",
    "        super(Tobit,self).__init__(*args,**kwargs)\n",
    "        self._set_extra_params_names(['var'])\n",
    "        self.start_params = np.array([1]*(self.exog.shape[1]+1))\n",
    "        \n",
    "        #print(self.error_distr)\n",
    "        #print(error_distr)\n",
    "        #self.start_params = np.array( range(1, (2*self.exog.shape[1]+2)))\n",
    "        #2 sets of params for z, 1 for x, 2 variances...\n",
    "    \n",
    "    def loglikeobs(self, params):\n",
    "        y = self.endog\n",
    "        x = self.exog\n",
    "        m = 1*(self.endog == 0) #missingness\n",
    "        \n",
    "        beta = params[0:-1]\n",
    "        sigma2 = max(params[-1],1e-3)\n",
    "        \n",
    "        mu_y = np.matmul(x,beta)\n",
    "        \n",
    "        pr_y = self.error_distr.logpdf( y, loc = mu_y, scale=np.sqrt(sigma2))\n",
    "        pr_m = self.error_distr.logcdf( y, loc = mu_y, scale=np.sqrt(sigma2))\n",
    "        ll =  (1-m)*pr_y + m*pr_m\n",
    "        return ll\n",
    "    \n",
    "    def score(self, params):\n",
    "        y = self.endog\n",
    "        x = self.exog\n",
    "        m = 1*(self.endog == 0) #missingness\n",
    "        m_x = np.repeat(m,x.shape[1]).reshape(x.shape)\n",
    "        \n",
    "        b = params[0:-1]\n",
    "        sigma2 = max(params[-1],1e-3)\n",
    "        s =  np.sqrt(sigma2)\n",
    "\n",
    "        beta_jac = np.zeros(len(b))\n",
    "        sigma_jac = 0\n",
    "        \n",
    "        #for censored\n",
    "        left_stats = (y - np.dot(x, b)) / s\n",
    "        l_pdf = scipy.stats.norm.logpdf(left_stats)\n",
    "        l_cdf = scipy.stats.norm.logcdf(left_stats)\n",
    "        left_frac = np.exp(l_pdf - l_cdf)\n",
    "        beta_left = np.dot(left_frac*m, x*m_x / s)\n",
    "        beta_jac -= beta_left\n",
    "        left_sigma = np.dot(left_frac*m, left_stats*m)\n",
    "        sigma_jac -= left_sigma\n",
    "        \n",
    "        #for non-censored\n",
    "        mid_stats = (y - np.dot(x, b)) / s\n",
    "        beta_mid = np.dot(mid_stats*(1-m), x*(1-m_x) / s)\n",
    "        beta_jac += beta_mid\n",
    "        mid_sigma = ((np.square(mid_stats) - 1)*(1-m)).sum()\n",
    "        sigma_jac += mid_sigma\n",
    "        \n",
    "        combo_jac = np.append(beta_jac, sigma_jac / (2*s) )  # by chain rule, since the expression above is dloglik/dlogsigma\n",
    "        return combo_jac\n",
    "\n",
    "\n",
    "model1 =  Tobit(yn,sm.add_constant(xn))\n",
    "model1_fit = model1.fit(disp=False)\n",
    "model1_fit.summary()"
   ]
  },
  {
   "cell_type": "code",
   "execution_count": 4,
   "metadata": {},
   "outputs": [
    {
     "name": "stdout",
     "output_type": "stream",
     "text": [
      "(5.918844650241908, 0.06882728262493905)\n"
     ]
    }
   ],
   "source": [
    "def compute_llr(yn,xn):\n",
    "    \n",
    "    #fit normal values\n",
    "    model1 = Tobit(yn,sm.add_constant(xn))\n",
    "    model1_fit = model1.fit(disp=False)\n",
    "    ll1 = model1.loglikeobs(model1_fit.params)\n",
    "    \n",
    "    #fit logistic values\n",
    "    model2 = Tobit(yn,sm.add_constant(xn),error_distr=stats.logistic)\n",
    "    model2_fit = model2.fit(disp=False)\n",
    "    ll2 = model2.loglikeobs(model2_fit.params)\n",
    "    \n",
    "    llr = ll1.sum() - ll2.sum()\n",
    "    omega2 = (ll1- ll2).var()\n",
    "    return llr,np.sqrt(omega2)\n",
    "\n",
    "yn,xn,nobs = gen_data()\n",
    "print(compute_llr(yn,xn))"
   ]
  },
  {
   "cell_type": "code",
   "execution_count": 5,
   "metadata": {},
   "outputs": [
    {
     "name": "stdout",
     "output_type": "stream",
     "text": [
      "boot 2.6600684829294536 0.12432551934775837 4.769766020916964 \n",
      "\n",
      "1\n",
      "1\n"
     ]
    },
    {
     "data": {
      "image/png": "[encoded data removed]",
      "text/plain": [
       "<Figure size 432x288 with 1 Axes>"
      ]
     },
     "metadata": {
      "needs_background": "light"
     },
     "output_type": "display_data"
    }
   ],
   "source": [
    "yn,xn,nobs = gen_data()\n",
    "print(vuong_tests.bootstrap_test(yn,xn,nobs,compute_llr,hist=True))\n",
    "print(vuong_tests.regular_test(yn,xn,nobs,compute_llr,hist=True))\n",
    "\n",
    "plt.title(\"Comparison with bootstrap\")\n",
    "plt.xlabel(\"Test Statistic\")\n",
    "plt.ylabel(\"Density\")\n",
    "plt.legend()\n",
    "plt.savefig('../figs/bootstrap_compare_tobit2')\n",
    "plt.show()"
   ]
  },
  {
   "cell_type": "code",
   "execution_count": 6,
   "metadata": {},
   "outputs": [
    {
     "name": "stdout",
     "output_type": "stream",
     "text": [
      "reg: [0.63 0.37 0.  ], boot: [0.76 0.24 0.  ], llr:4.048412161933539, omega:0.07640743005114001\n"
     ]
    }
   ],
   "source": [
    "reg,boot,llr, omega = vuong_tests.monte_carlo(100,gen_data,compute_llr)\n",
    "print(\"reg: %s, boot: %s, llr:%s, omega:%s\"%(reg,boot,llr, omega))"
   ]
  },
  {
   "cell_type": "code",
   "execution_count": 6,
   "metadata": {},
   "outputs": [
    {
     "name": "stdout",
     "output_type": "stream",
     "text": [
      "(1000, 3)\n"
     ]
    }
   ],
   "source": [
    "def setup_shi(yn,xn):\n",
    "    model1 = Tobit(yn,sm.add_constant(xn))\n",
    "    model1_fit = model1.fit( disp=False)\n",
    "    k1 = len(model1_fit.params)\n",
    "    ll1 = model1.loglikeobs(model1_fit.params)\n",
    "    grad1 =  model1.score_obs(model1_fit.params)    \n",
    "    hess1 = model1.hessian(model1_fit.params)\n",
    "    \n",
    "    #fit logistic values\n",
    "    model2 = Tobit(yn,sm.add_constant(xn),error_distr=stats.logistic)\n",
    "    model2_fit = model2.fit(disp=False)\n",
    "    k2 = len(model2_fit.params)\n",
    "    ll2 = model2.loglikeobs(model2_fit.params)\n",
    "    grad2 =  model2.score_obs(model2_fit.params)    \n",
    "    hess2 = model2.hessian(model2_fit.params)\n",
    "    \n",
    "    return ll1,grad1,hess1,ll2,k1, grad2,hess2,k2\n",
    "\n",
    "yn,xn,nobs = gen_data()\n",
    "ll1,grad1,hess1,ll2,k1, grad2,hess2,k2 = setup_shi(yn,xn)\n",
    "print(grad1.shape)"
   ]
  },
  {
   "cell_type": "code",
   "execution_count": 16,
   "metadata": {},
   "outputs": [
    {
     "name": "stdout",
     "output_type": "stream",
     "text": [
      "[0.66 0.34 0.  ]\n"
     ]
    }
   ],
   "source": [
    "shi_result = vuong_tests.monte_carlo_shi(300,setup_shi,gen_data)\n",
    "print(shi_result)"
   ]
  },
  {
   "cell_type": "code",
   "execution_count": 9,
   "metadata": {},
   "outputs": [],
   "source": [
    "#reg: [0.63 0.37 0.  ], boot: [0.76 0.24 0.  ], llr:4.048412161933539, omega:0.07640743005114001"
   ]
  },
  {
   "cell_type": "code",
   "execution_count": null,
   "metadata": {},
   "outputs": [],
   "source": [
    "#[0.66 0.34 0.  ]"
   ]
  }
 ],
 "metadata": {
  "kernelspec": {
   "display_name": "Python 3",
   "language": "python",
   "name": "python3"
  },
  "language_info": {
   "codemirror_mode": {
    "name": "ipython",
    "version": 3
   },
   "file_extension": ".py",
   "mimetype": "text/x-python",
   "name": "python",
   "nbconvert_exporter": "python",
   "pygments_lexer": "ipython3",
   "version": "3.7.4"
  }
 },
 "nbformat": 4,
 "nbformat_minor": 2
}
