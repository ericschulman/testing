{
 "cells": [
  {
   "cell_type": "code",
   "execution_count": 1,
   "metadata": {},
   "outputs": [],
   "source": [
    "#math\n",
    "import numpy as np\n",
    "import scipy.stats as stats\n",
    "import scipy.special\n",
    "#graphing\n",
    "import matplotlib.pyplot as plt\n",
    "#stats\n",
    "import statsmodels.api as sm\n",
    "from statsmodels.base.model import GenericLikelihoodModel\n",
    "from statsmodels.distributions.empirical_distribution import ECDF"
   ]
  },
  {
   "cell_type": "code",
   "execution_count": 2,
   "metadata": {},
   "outputs": [
    {
     "name": "stdout",
     "output_type": "stream",
     "text": [
      "(500,)\n",
      "5.556029949962365\n"
     ]
    }
   ],
   "source": [
    "num_true = 7\n",
    "num_bidders1 = 10\n",
    "num_bidders2 = 2\n",
    "mu = 3\n",
    "sigma = 2\n",
    "\n",
    "\n",
    "def gen_data(values):\n",
    "    nobs = 500\n",
    "    \n",
    "    #parameters\n",
    "    \n",
    "    \n",
    "    min_bids =num_true\n",
    "    max_bids =num_true\n",
    "    \n",
    "    bid_types = range(min_bids,max_bids+1)\n",
    "    prob_type = [1/len(bid_types)]*len(bid_types)\n",
    "    bidders = np.random.choice(bid_types, nobs, p=prob_type)\n",
    "    bidders = np.sort(bidders)\n",
    "    bids = []\n",
    "    for i in bid_types:\n",
    "        #count number of obs\n",
    "        num_i = sum(i == bidders)\n",
    "        bids_i = values.rvs(size=(num_i,i))\n",
    "        bids_i =  np.sort(bids_i, axis=1)\n",
    "        bids_i =  bids_i[:,-2]\n",
    "        bids = np.concatenate((bids, bids_i))\n",
    "    \n",
    "    #draw bids\n",
    "    return bids,bidders,nobs\n",
    "\n",
    "\n",
    "values_distr =stats.logistic(loc=mu, scale=sigma)\n",
    "bids,i,nobs = gen_data(values_distr)\n",
    "print(bids.shape)\n",
    "print(bids[i == num_true].mean())"
   ]
  },
  {
   "cell_type": "code",
   "execution_count": 3,
   "metadata": {},
   "outputs": [
    {
     "data": {
      "text/plain": [
       "array([24.,  6.])"
      ]
     },
     "execution_count": 3,
     "metadata": {},
     "output_type": "execute_result"
    }
   ],
   "source": [
    "scipy.special.factorial([4,3])"
   ]
  },
  {
   "cell_type": "code",
   "execution_count": 4,
   "metadata": {},
   "outputs": [
    {
     "data": {
      "text/html": [
       "<table class=\"simpletable\">\n",
       "<caption>Auction Results</caption>\n",
       "<tr>\n",
       "  <th>Dep. Variable:</th>             <td>y</td>         <th>  Log-Likelihood:    </th> <td> -981.03</td>\n",
       "</tr>\n",
       "<tr>\n",
       "  <th>Model:</th>                  <td>Auction</td>      <th>  AIC:               </th> <td>   1964.</td>\n",
       "</tr>\n",
       "<tr>\n",
       "  <th>Method:</th>           <td>Maximum Likelihood</td> <th>  BIC:               </th> <td>   1968.</td>\n",
       "</tr>\n",
       "<tr>\n",
       "  <th>Date:</th>              <td>Wed, 17 Mar 2021</td>  <th>                     </th>     <td> </td>   \n",
       "</tr>\n",
       "<tr>\n",
       "  <th>Time:</th>                  <td>19:12:09</td>      <th>                     </th>     <td> </td>   \n",
       "</tr>\n",
       "<tr>\n",
       "  <th>No. Observations:</th>       <td>   500</td>       <th>                     </th>     <td> </td>   \n",
       "</tr>\n",
       "<tr>\n",
       "  <th>Df Residuals:</th>           <td>   499</td>       <th>                     </th>     <td> </td>   \n",
       "</tr>\n",
       "<tr>\n",
       "  <th>Df Model:</th>               <td>     0</td>       <th>                     </th>     <td> </td>   \n",
       "</tr>\n",
       "</table>\n",
       "<table class=\"simpletable\">\n",
       "<tr>\n",
       "    <td></td>       <th>coef</th>     <th>std err</th>      <th>z</th>      <th>P>|z|</th>  <th>[0.025</th>    <th>0.975]</th>  \n",
       "</tr>\n",
       "<tr>\n",
       "  <th>const</th> <td>    2.9326</td> <td>    0.097</td> <td>   30.183</td> <td> 0.000</td> <td>    2.742</td> <td>    3.123</td>\n",
       "</tr>\n",
       "<tr>\n",
       "  <th>par0</th>  <td>    1.9322</td> <td>    0.066</td> <td>   29.461</td> <td> 0.000</td> <td>    1.804</td> <td>    2.061</td>\n",
       "</tr>\n",
       "</table>"
      ],
      "text/plain": [
       "<class 'statsmodels.iolib.summary.Summary'>\n",
       "\"\"\"\n",
       "                               Auction Results                                \n",
       "==============================================================================\n",
       "Dep. Variable:                      y   Log-Likelihood:                -981.03\n",
       "Model:                        Auction   AIC:                             1964.\n",
       "Method:            Maximum Likelihood   BIC:                             1968.\n",
       "Date:                Wed, 17 Mar 2021                                         \n",
       "Time:                        19:12:09                                         \n",
       "No. Observations:                 500                                         \n",
       "Df Residuals:                     499                                         \n",
       "Df Model:                           0                                         \n",
       "==============================================================================\n",
       "                 coef    std err          z      P>|z|      [0.025      0.975]\n",
       "------------------------------------------------------------------------------\n",
       "const          2.9326      0.097     30.183      0.000       2.742       3.123\n",
       "par0           1.9322      0.066     29.461      0.000       1.804       2.061\n",
       "==============================================================================\n",
       "\"\"\""
      ]
     },
     "execution_count": 4,
     "metadata": {},
     "output_type": "execute_result"
    }
   ],
   "source": [
    "class Auction(GenericLikelihoodModel):\n",
    "    \n",
    "    def __init__(self, *args, values_distr=stats.logistic, **kwargs):\n",
    "        super(Auction,self).__init__(*args,**kwargs)\n",
    "        self.values_distr = values_distr\n",
    "        \n",
    "    \n",
    "    def loglikeobs(self, params):\n",
    "        bids = self.endog\n",
    "        i = self.exog[:,0]\n",
    "        cdf = self.values_distr.cdf(bids,loc=params[0],scale=max(params[1],1e-5))\n",
    "        pdf = self.values_distr.pdf(bids,loc=params[0],scale=max(params[1],1e-5))\n",
    "        factorial = scipy.special.factorial(i)/scipy.special.factorial(i-2)  \n",
    "        \n",
    "        order_cdf = factorial*pdf*cdf**(i-2)*(1-cdf) #np.log(i) + np.log(cdf) + (i-1)*np.log((1-cdf)) #second highest order statistic\n",
    "        return np.log(order_cdf)\n",
    "    \n",
    "\n",
    "np.random.seed()\n",
    "yn,xn,nobs = gen_data(stats.logistic(loc=mu, scale=sigma))\n",
    "model = Auction(yn,xn)\n",
    "model_fit = model.fit(start_params=[mu,sigma],disp=False)\n",
    "model_fit.summary()"
   ]
  },
  {
   "cell_type": "code",
   "execution_count": 5,
   "metadata": {},
   "outputs": [
    {
     "name": "stdout",
     "output_type": "stream",
     "text": [
      "                               Auction Results                                \n",
      "==============================================================================\n",
      "Dep. Variable:                      y   Log-Likelihood:                -991.38\n",
      "Model:                        Auction   AIC:                             1985.\n",
      "Method:            Maximum Likelihood   BIC:                             1989.\n",
      "Date:                Wed, 17 Mar 2021                                         \n",
      "Time:                        19:12:14                                         \n",
      "No. Observations:                 500                                         \n",
      "Df Residuals:                     499                                         \n",
      "Df Model:                           0                                         \n",
      "==============================================================================\n",
      "                 coef    std err          z      P>|z|      [0.025      0.975]\n",
      "------------------------------------------------------------------------------\n",
      "const          1.9450      0.120     16.263      0.000       1.711       2.179\n",
      "par0           2.0663      0.070     29.609      0.000       1.929       2.203\n",
      "==============================================================================\n",
      "                               Auction Results                                \n",
      "==============================================================================\n",
      "Dep. Variable:                      y   Log-Likelihood:                -1019.0\n",
      "Model:                        Auction   AIC:                             2040.\n",
      "Method:            Maximum Likelihood   BIC:                             2044.\n",
      "Date:                Wed, 17 Mar 2021                                         \n",
      "Time:                        19:12:14                                         \n",
      "No. Observations:                 500                                         \n",
      "Df Residuals:                     499                                         \n",
      "Df Model:                           0                                         \n",
      "==============================================================================\n",
      "                 coef    std err          z      P>|z|      [0.025      0.975]\n",
      "------------------------------------------------------------------------------\n",
      "const          6.6360      0.087     76.632      0.000       6.466       6.806\n",
      "par0           1.2836      0.046     27.946      0.000       1.194       1.374\n",
      "==============================================================================\n",
      "27.651398048326364\n",
      "0.08025990990347077\n"
     ]
    }
   ],
   "source": [
    "np.random.seed()\n",
    "yn,xn,nobs = gen_data(stats.logistic(loc=mu, scale=sigma))\n",
    "\n",
    "#fit normal values\n",
    "model1 = Auction(yn,num_bidders1*np.ones(xn.shape[0]))\n",
    "model_fit1 = model1.fit(start_params=[mu,sigma],disp=False)\n",
    "\n",
    "#fit logistic values\n",
    "model2 = Auction(yn,num_bidders2*np.ones(xn.shape[0]))\n",
    "model_fit2 = model2.fit(start_params=[mu,sigma],disp=False)\n",
    "\n",
    "\n",
    "print(model_fit1.summary())\n",
    "print(model_fit2.summary())\n",
    "\n",
    "print( (model1.loglikeobs(model_fit1.params) - model2.loglikeobs(model_fit2.params) ).sum() )\n",
    "print( (model1.loglikeobs(model_fit1.params) - model2.loglikeobs(model_fit2.params) ).var() )"
   ]
  },
  {
   "cell_type": "code",
   "execution_count": 6,
   "metadata": {},
   "outputs": [
    {
     "data": {
      "image/png": "[encoded data removed]",
      "text/plain": [
       "<Figure size 432x288 with 1 Axes>"
      ]
     },
     "metadata": {
      "needs_background": "light"
     },
     "output_type": "display_data"
    }
   ],
   "source": [
    "#create plot for true\n",
    "support_y = np.arange(yn.min(),yn.max(),.1)\n",
    "support_x = num_true*np.ones(len(support_y))\n",
    "true_model = Auction(support_y,support_x)\n",
    "true_model_y = np.exp(true_model.loglikeobs([mu,sigma]))\n",
    "plt.plot(support_y, true_model_y ,label=\"truth %s bidders\"%num_true)\n",
    "\n",
    "#create plot for bidders1\n",
    "normal1_model = Auction(support_y,support_x*num_bidders1/num_true)\n",
    "fit_normal1_y = np.exp(normal1_model.loglikeobs(model_fit1.params))\n",
    "plt.plot(support_y, fit_normal1_y ,label=\"%s bidders\"%num_bidders1)\n",
    "\n",
    "#create plot for bidders2\n",
    "normal2_model = Auction(support_y,support_x*num_bidders2/num_true)\n",
    "fit_normal2_y = np.exp(normal2_model.loglikeobs(model_fit2.params))\n",
    "plt.plot(support_y, fit_normal2_y ,label=\"%s bidders\"%num_bidders2)\n",
    "\n",
    "plt.legend()\n",
    "plt.hist(yn,bins=20,density=True)\n",
    "\n",
    "plt.ylabel(\"density\")\n",
    "plt.xlabel(\"bid\")\n",
    "#plt.ylim((0.,100.))\n",
    "plt.savefig('../figs/auction_main.png')\n",
    "#plt.xlim((-.25,0.75))\n",
    "#plt.savefig('figs/nonnested_zoom')\n",
    "plt.show()\n",
    "\n",
    "plt.show()\n"
   ]
  },
  {
   "cell_type": "code",
   "execution_count": null,
   "metadata": {},
   "outputs": [],
   "source": []
  },
  {
   "cell_type": "code",
   "execution_count": null,
   "metadata": {},
   "outputs": [],
   "source": []
  },
  {
   "cell_type": "code",
   "execution_count": null,
   "metadata": {},
   "outputs": [],
   "source": []
  }
 ],
 "metadata": {
  "kernelspec": {
   "display_name": "Python 3",
   "language": "python",
   "name": "python3"
  },
  "language_info": {
   "codemirror_mode": {
    "name": "ipython",
    "version": 3
   },
   "file_extension": ".py",
   "mimetype": "text/x-python",
   "name": "python",
   "nbconvert_exporter": "python",
   "pygments_lexer": "ipython3",
   "version": "3.7.4"
  }
 },
 "nbformat": 4,
 "nbformat_minor": 2
}
