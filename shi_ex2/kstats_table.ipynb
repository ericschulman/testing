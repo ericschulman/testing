{
 "cells": [
  {
   "cell_type": "code",
   "execution_count": 1,
   "metadata": {},
   "outputs": [],
   "source": [
    "%load_ext autoreload\n",
    "%autoreload 2\n",
    "\n",
    "import numpy as np\n",
    "import scipy.stats as stats\n",
    "import scipy.special\n",
    "#graphing\n",
    "import matplotlib.pyplot as plt\n",
    "#stats\n",
    "import statsmodels.api as sm\n",
    "from statsmodels.base.model import GenericLikelihoodModel\n",
    "\n",
    "#import testing\n",
    "import sys\n",
    "sys.path.append(\"../\")\n",
    "import vuong_plots"
   ]
  },
  {
   "cell_type": "code",
   "execution_count": 2,
   "metadata": {},
   "outputs": [
    {
     "name": "stdout",
     "output_type": "stream",
     "text": [
      "(1000, 1) (1, 1)\n"
     ]
    }
   ],
   "source": [
    "class JointNormal1(GenericLikelihoodModel):\n",
    "    \n",
    "    def loglikeobs(self, params):\n",
    "        data = np.concatenate([[self.endog],self.exog.transpose()],axis=0)\n",
    "        mult_rv = stats.multivariate_normal([params[0], 0.0], [[1,0],[0,1]])\n",
    "        return mult_rv.logpdf(data.transpose())\n",
    "    \n",
    "    \n",
    "class JointNormal2(GenericLikelihoodModel):\n",
    "    \n",
    "    def loglikeobs(self, params):\n",
    "        data = np.concatenate([[self.endog],self.exog.transpose()],axis=0)\n",
    "        mult_rv = stats.multivariate_normal([0.0, params[0]], [[1,0],[0,1]])\n",
    "        return mult_rv.logpdf(data.transpose())\n",
    "\n",
    "\n",
    "def setup_shi(yn,xn):\n",
    "    # model 1 grad, etc.\n",
    "    nobs = yn.shape[0]\n",
    "    model1_param = np.array([yn.mean()])\n",
    "    model2_param = np.array([xn.mean()])\n",
    "    \n",
    "    model1_deriv = JointNormal1(yn,xn)\n",
    "    ll1 = model1_deriv.loglikeobs(model1_param)\n",
    "    grad1 =  model1_deriv.score_obs(model1_param).reshape( (nobs,1) )\n",
    "    hess1 = model1_deriv.hessian(model1_param)\n",
    "    \n",
    "    \n",
    "    model2_deriv = JointNormal2(yn,xn)\n",
    "    ll2 = model2_deriv.loglikeobs(model2_param)\n",
    "    grad2 =  model2_deriv.score_obs(model2_param).reshape( (nobs,1) )  \n",
    "    hess2 = model2_deriv.hessian(model2_param)\n",
    "    \n",
    "    return ll1,grad1,hess1,model1_param,ll2,grad2,hess2,model2_param\n",
    "\n",
    "def gen_data(beta= 1.5, nobs=1000):\n",
    "    cov = [[25, 0], [0, 1]]\n",
    "    data = np.random.multivariate_normal([beta,beta], [[25,0],[0,1]],  nobs)\n",
    "    return data[:,0],data[:,1],nobs\n",
    "\n",
    "yn,xn,nobs = gen_data()\n",
    "ll1,grad1,hess1,params1,ll2,grad2,hess2,params2 = setup_shi(yn,xn)\n",
    "print(grad1.shape,hess1.shape)"
   ]
  },
  {
   "cell_type": "code",
   "execution_count": 3,
   "metadata": {},
   "outputs": [
    {
     "name": "stdout",
     "output_type": "stream",
     "text": [
      "../figs/ex2beta0\n"
     ]
    },
    {
     "data": {
      "image/png": "[encoded data removed]",
      "text/plain": [
       "<Figure size 432x288 with 1 Axes>"
      ]
     },
     "metadata": {
      "needs_background": "light"
     },
     "output_type": "display_data"
    },
    {
     "name": "stdout",
     "output_type": "stream",
     "text": [
      "\\begin{center}\n",
      "\\begin{tabular}{ccccccc}\n",
      "\\toprule\n",
      "\\textbf{Test} & \\textbf{Mean} & \\textbf{Var} & \\textbf{K-Stat 3} & \\textbf{K-Stat 4} & \\textbf{Skew} & \\textbf{Kurtosis} \\\\ \\midrule\n",
      "True & -0.791 & 2.360 & -7.005 & 23.315 & -6.983 & 39.786 \\\\\n",
      "Bootstrap & -0.830 & 2.655 & -8.444 & 28.897 & -8.417 & 49.752 \\\\\n",
      "Normal & 0.010 & 0.994 & -0.033 & 0.072 & -0.033 & 3.035 \\\\\n",
      "Overlapping & -0.817 & 2.500 & -8.004 & 29.222 & -7.999 & 47.919 \\\\\n",
      "\\bottomrule\n",
      "\\end{tabular}\n",
      "\\end{center}\n"
     ]
    }
   ],
   "source": [
    "gen_data_ex = lambda : gen_data(nobs=1000,beta=0)\n",
    "\n",
    "vuong_plots.plot_kstats_table(gen_data_ex,setup_shi,figtitle='../figs/ex2beta0')"
   ]
  },
  {
   "cell_type": "code",
   "execution_count": 4,
   "metadata": {},
   "outputs": [
    {
     "name": "stdout",
     "output_type": "stream",
     "text": [
      "../figs/ex2beta5\n"
     ]
    },
    {
     "data": {
      "image/png": "[encoded data removed]",
      "text/plain": [
       "<Figure size 432x288 with 1 Axes>"
      ]
     },
     "metadata": {
      "needs_background": "light"
     },
     "output_type": "display_data"
    },
    {
     "name": "stdout",
     "output_type": "stream",
     "text": [
      "\\begin{center}\n",
      "\\begin{tabular}{ccccccc}\n",
      "\\toprule\n",
      "\\textbf{Test} & \\textbf{Mean} & \\textbf{Var} & \\textbf{K-Stat 3} & \\textbf{K-Stat 4} & \\textbf{Skew} & \\textbf{Kurtosis} \\\\ \\midrule\n",
      "True & -0.888 & 2.928 & -9.829 & 34.609 & -9.799 & 59.979 \\\\\n",
      "Bootstrap & -0.829 & 2.767 & -8.399 & 27.216 & -8.373 & 49.888 \\\\\n",
      "Normal & -0.009 & 0.974 & -0.003 & -0.062 & -0.003 & 2.782 \\\\\n",
      "Overlapping & -0.807 & 2.375 & -7.195 & 24.675 & -7.190 & 41.548 \\\\\n",
      "\\bottomrule\n",
      "\\end{tabular}\n",
      "\\end{center}\n"
     ]
    }
   ],
   "source": [
    "gen_data_ex = lambda : gen_data(nobs=1000,beta=0)\n",
    "\n",
    "vuong_plots.plot_kstats_table(gen_data_ex,setup_shi,figtitle='../figs/ex2beta5')"
   ]
  },
  {
   "cell_type": "code",
   "execution_count": 5,
   "metadata": {},
   "outputs": [
    {
     "name": "stdout",
     "output_type": "stream",
     "text": [
      "../figs/ex2beta10\n"
     ]
    },
    {
     "data": {
      "image/png": "[encoded data removed]",
      "text/plain": [
       "<Figure size 432x288 with 1 Axes>"
      ]
     },
     "metadata": {
      "needs_background": "light"
     },
     "output_type": "display_data"
    },
    {
     "name": "stdout",
     "output_type": "stream",
     "text": [
      "\\begin{center}\n",
      "\\begin{tabular}{ccccccc}\n",
      "\\toprule\n",
      "\\textbf{Test} & \\textbf{Mean} & \\textbf{Var} & \\textbf{K-Stat 3} & \\textbf{K-Stat 4} & \\textbf{Skew} & \\textbf{Kurtosis} \\\\ \\midrule\n",
      "True & -0.167 & 1.203 & -0.631 & 0.908 & -0.629 & 5.227 \\\\\n",
      "Bootstrap & -0.154 & 1.190 & -0.749 & 1.625 & -0.747 & 5.846 \\\\\n",
      "Normal & 0.001 & 0.986 & 0.017 & 0.100 & 0.017 & 3.017 \\\\\n",
      "Overlapping & -0.845 & 2.518 & -7.498 & 24.499 & -7.493 & 43.468 \\\\\n",
      "\\bottomrule\n",
      "\\end{tabular}\n",
      "\\end{center}\n"
     ]
    }
   ],
   "source": [
    "gen_data_ex = lambda : gen_data(nobs=1000,beta=1.)\n",
    "\n",
    "vuong_plots.plot_kstats_table(gen_data_ex,setup_shi,figtitle='../figs/ex2beta10')"
   ]
  },
  {
   "cell_type": "code",
   "execution_count": 6,
   "metadata": {},
   "outputs": [
    {
     "name": "stdout",
     "output_type": "stream",
     "text": [
      "../figs/ex2beta15\n"
     ]
    },
    {
     "data": {
      "image/png": "[encoded data removed]",
      "text/plain": [
       "<Figure size 432x288 with 1 Axes>"
      ]
     },
     "metadata": {
      "needs_background": "light"
     },
     "output_type": "display_data"
    },
    {
     "name": "stdout",
     "output_type": "stream",
     "text": [
      "\\begin{center}\n",
      "\\begin{tabular}{ccccccc}\n",
      "\\toprule\n",
      "\\textbf{Test} & \\textbf{Mean} & \\textbf{Var} & \\textbf{K-Stat 3} & \\textbf{K-Stat 4} & \\textbf{Skew} & \\textbf{Kurtosis} \\\\ \\midrule\n",
      "True & -0.102 & 1.052 & -0.310 & 0.507 & -0.309 & 3.810 \\\\\n",
      "Bootstrap & -0.113 & 1.079 & -0.345 & 0.341 & -0.344 & 3.817 \\\\\n",
      "Normal & 0.006 & 0.994 & 0.000 & 0.055 & 0.000 & 3.015 \\\\\n",
      "Overlapping & -0.821 & 2.445 & -7.424 & 25.402 & -7.420 & 43.289 \\\\\n",
      "\\bottomrule\n",
      "\\end{tabular}\n",
      "\\end{center}\n"
     ]
    }
   ],
   "source": [
    "gen_data_ex = lambda : gen_data(nobs=1000,beta=1.5)\n",
    "\n",
    "vuong_plots.plot_kstats_table(gen_data_ex,setup_shi,figtitle='../figs/ex2beta15')"
   ]
  },
  {
   "cell_type": "code",
   "execution_count": 7,
   "metadata": {},
   "outputs": [
    {
     "name": "stdout",
     "output_type": "stream",
     "text": [
      "../figs/ex2beta20\n"
     ]
    },
    {
     "data": {
      "image/png": "[encoded data removed]",
      "text/plain": [
       "<Figure size 432x288 with 1 Axes>"
      ]
     },
     "metadata": {
      "needs_background": "light"
     },
     "output_type": "display_data"
    },
    {
     "name": "stdout",
     "output_type": "stream",
     "text": [
      "\\begin{center}\n",
      "\\begin{tabular}{ccccccc}\n",
      "\\toprule\n",
      "\\textbf{Test} & \\textbf{Mean} & \\textbf{Var} & \\textbf{K-Stat 3} & \\textbf{K-Stat 4} & \\textbf{Skew} & \\textbf{Kurtosis} \\\\ \\midrule\n",
      "True & -0.071 & 0.978 & -0.136 & -0.085 & -0.135 & 2.772 \\\\\n",
      "Bootstrap & -0.073 & 0.995 & -0.236 & -0.021 & -0.235 & 2.936 \\\\\n",
      "Normal & 0.006 & 1.024 & -0.002 & -0.061 & -0.002 & 3.082 \\\\\n",
      "Overlapping & -0.783 & 2.460 & -7.809 & 27.846 & -7.804 & 45.944 \\\\\n",
      "\\bottomrule\n",
      "\\end{tabular}\n",
      "\\end{center}\n"
     ]
    }
   ],
   "source": [
    "gen_data_ex = lambda : gen_data(nobs=1000,beta=2)\n",
    "\n",
    "vuong_plots.plot_kstats_table(gen_data_ex,setup_shi,figtitle='../figs/ex2beta20')"
   ]
  },
  {
   "cell_type": "code",
   "execution_count": null,
   "metadata": {},
   "outputs": [],
   "source": []
  },
  {
   "cell_type": "code",
   "execution_count": null,
   "metadata": {},
   "outputs": [],
   "source": []
  },
  {
   "cell_type": "code",
   "execution_count": null,
   "metadata": {},
   "outputs": [],
   "source": []
  }
 ],
 "metadata": {
  "kernelspec": {
   "display_name": "Python 3",
   "language": "python",
   "name": "python3"
  },
  "language_info": {
   "codemirror_mode": {
    "name": "ipython",
    "version": 3
   },
   "file_extension": ".py",
   "mimetype": "text/x-python",
   "name": "python",
   "nbconvert_exporter": "python",
   "pygments_lexer": "ipython3",
   "version": "3.8.8"
  }
 },
 "nbformat": 4,
 "nbformat_minor": 2
}
