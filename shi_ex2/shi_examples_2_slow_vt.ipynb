{
 "cells": [
  {
   "cell_type": "code",
   "execution_count": 46,
   "metadata": {},
   "outputs": [
    {
     "name": "stdout",
     "output_type": "stream",
     "text": [
      "The autoreload extension is already loaded. To reload it, use:\n",
      "  %reload_ext autoreload\n"
     ]
    }
   ],
   "source": [
    "%load_ext autoreload\n",
    "%autoreload 2\n",
    "\n",
    "from statsmodels.base.model import GenericLikelihoodModel\n",
    "\n",
    "import numpy as np\n",
    "import matplotlib.pyplot as plt\n",
    "import statsmodels.api as sm\n",
    "import scipy.stats as stats\n",
    "import sys\n",
    "\n",
    "from scipy.stats import multivariate_normal\n",
    "\n",
    "sys.path.append(\"../\")\n",
    "import vuong_tests4"
   ]
  },
  {
   "cell_type": "code",
   "execution_count": 47,
   "metadata": {},
   "outputs": [
    {
     "name": "stdout",
     "output_type": "stream",
     "text": [
      "(1000, 1) (1, 1)\n"
     ]
    }
   ],
   "source": [
    "class JointNormal1(GenericLikelihoodModel):\n",
    "    \n",
    "    def loglikeobs(self, params):\n",
    "        data = np.concatenate([[self.endog],self.exog.transpose()],axis=0)\n",
    "        mult_rv = stats.multivariate_normal([params[0], 0.0], [[1,0],[0,1]])\n",
    "        return mult_rv.logpdf(data.transpose())\n",
    "    \n",
    "    \n",
    "class JointNormal2(GenericLikelihoodModel):\n",
    "    \n",
    "    def loglikeobs(self, params):\n",
    "        data = np.concatenate([[self.endog],self.exog.transpose()],axis=0)\n",
    "        mult_rv = stats.multivariate_normal([0.0, params[0]], [[1,0],[0,1]])\n",
    "        return mult_rv.logpdf(data.transpose())\n",
    "\n",
    "\n",
    "def setup_shi(yn,xn,return_model=False):\n",
    "    # model 1 grad, etc.\n",
    "    nobs = yn.shape[0]\n",
    "    model1_param = np.array([yn.mean()])\n",
    "    model2_param = np.array([xn.mean()])\n",
    "    \n",
    "    model1_deriv = JointNormal1(yn,xn)\n",
    "    ll1 = model1_deriv.loglikeobs(model1_param)\n",
    "    grad1 =  model1_deriv.score_obs(model1_param).reshape( (nobs,1) )\n",
    "    hess1 = model1_deriv.hessian(model1_param)\n",
    "    \n",
    "    \n",
    "    model2_deriv = JointNormal2(yn,xn)\n",
    "    ll2 = model2_deriv.loglikeobs(model2_param)\n",
    "    grad2 =  model2_deriv.score_obs(model2_param).reshape( (nobs,1) )  \n",
    "    hess2 = model2_deriv.hessian(model2_param)\n",
    "    if return_model:\n",
    "        return ll1,grad1,hess1,params1,model1_deriv,ll2,grad2,hess2,params2,model2_deriv\n",
    "    return ll1,grad1,hess1,model1_param,ll2,grad2,hess2,model2_param\n",
    "\n",
    "def gen_data(beta= 1.5, nobs=1000):\n",
    "    cov = [[25, 0], [0, 1]]\n",
    "    data = np.random.multivariate_normal([beta,beta], [[25,0],[0,1]],  nobs)\n",
    "    return data[:,0],data[:,1],nobs\n",
    "\n",
    "yn,xn,nobs = gen_data()\n",
    "ll1,grad1,hess1,params1,ll2,grad2,hess2,params2 = setup_shi(yn,xn)\n",
    "print(grad1.shape,hess1.shape)"
   ]
  },
  {
   "cell_type": "markdown",
   "metadata": {},
   "source": [
    "# Ex 0"
   ]
  },
  {
   "cell_type": "code",
   "execution_count": 48,
   "metadata": {},
   "outputs": [],
   "source": [
    "beta = 0"
   ]
  },
  {
   "cell_type": "code",
   "execution_count": 49,
   "metadata": {
    "scrolled": false
   },
   "outputs": [
    {
     "name": "stdout",
     "output_type": "stream",
     "text": [
      "\\begin{tabular}{|c|c|c|c|c|}\n",
      "\\hline\n",
      "Model &  Normal & Bootstrap & Bootstrap-pt & Shi (2015) \\\\ \\hline \\hline\n",
      "No selection & 1.00 & 1.00 & 1.00 & 0.92   \\\\\n",
      "Model 1 & 0.00 & 0.00 & 0.00 & 0.00   \\\\\n",
      "Model 2 & 0.00 & 0.00 & 0.00 & 0.08   \\\\\n",
      "\\hline\n",
      "\\end{tabular}\n",
      "\n",
      "\n",
      "llr:11.914205351663584, std:15.131168902446085\n",
      "(array([1., 0., 0.]), array([1., 0., 0.]), array([1., 0., 0.]), array([0.92, 0.  , 0.08]), 11.914205351663584, 15.131168902446085)\n"
     ]
    }
   ],
   "source": [
    "setup_shi_ex  = lambda yn,xn: setup_shi(yn,xn,num_params=num_params)\n",
    "gen_data_ex = lambda : gen_data(nobs=250, beta =beta)\n",
    "mc_out = vuong_tests4.monte_carlo(100,gen_data_ex,setup_shi,trials=100)\n",
    "vuong_tests4.print_mc(mc_out)\n",
    "print(mc_out)"
   ]
  },
  {
   "cell_type": "code",
   "execution_count": 50,
   "metadata": {},
   "outputs": [
    {
     "name": "stdout",
     "output_type": "stream",
     "text": [
      "\\begin{tabular}{|c|c|c|c|c|}\n",
      "\\hline\n",
      "Model &  Normal & Bootstrap & Bootstrap-pt & Shi (2015) \\\\ \\hline \\hline\n",
      "No selection & 1.00 & 1.00 & 1.00 & 0.90   \\\\\n",
      "Model 1 & 0.00 & 0.00 & 0.00 & 0.00   \\\\\n",
      "Model 2 & 0.00 & 0.00 & 0.00 & 0.10   \\\\\n",
      "\\hline\n",
      "\\end{tabular}\n",
      "\n",
      "\n",
      "llr:10.157371218536625, std:13.59265927332384\n",
      "(array([1., 0., 0.]), array([1., 0., 0.]), array([1., 0., 0.]), array([0.9, 0. , 0.1]), 10.157371218536625, 13.59265927332384)\n"
     ]
    }
   ],
   "source": [
    "setup_shi_ex  = lambda yn,xn: setup_shi(yn,xn,num_params=num_params)\n",
    "gen_data_ex = lambda : gen_data(nobs=500, beta =beta)\n",
    "mc_out = vuong_tests4.monte_carlo(100,gen_data_ex,setup_shi,trials=100)\n",
    "vuong_tests4.print_mc(mc_out)\n",
    "print(mc_out)"
   ]
  },
  {
   "cell_type": "code",
   "execution_count": 51,
   "metadata": {},
   "outputs": [
    {
     "name": "stdout",
     "output_type": "stream",
     "text": [
      "\\begin{tabular}{|c|c|c|c|c|}\n",
      "\\hline\n",
      "Model &  Normal & Bootstrap & Bootstrap-pt & Shi (2015) \\\\ \\hline \\hline\n",
      "No selection & 1.00 & 1.00 & 1.00 & 0.89   \\\\\n",
      "Model 1 & 0.00 & 0.00 & 0.00 & 0.00   \\\\\n",
      "Model 2 & 0.00 & 0.00 & 0.00 & 0.11   \\\\\n",
      "\\hline\n",
      "\\end{tabular}\n",
      "\n",
      "\n",
      "llr:12.457736536328882, std:15.422082324382217\n",
      "(array([1., 0., 0.]), array([1., 0., 0.]), array([1., 0., 0.]), array([0.89, 0.  , 0.11]), 12.457736536328882, 15.422082324382217)\n"
     ]
    }
   ],
   "source": [
    "setup_shi_ex  = lambda yn,xn: setup_shi(yn,xn,num_params=num_params)\n",
    "gen_data_ex = lambda : gen_data(nobs=1000, beta =beta)\n",
    "mc_out = vuong_tests4.monte_carlo(100,gen_data_ex,setup_shi)\n",
    "vuong_tests4.print_mc(mc_out)\n",
    "print(mc_out)"
   ]
  },
  {
   "cell_type": "markdown",
   "metadata": {},
   "source": [
    "# Ex 1"
   ]
  },
  {
   "cell_type": "code",
   "execution_count": 52,
   "metadata": {},
   "outputs": [],
   "source": [
    "beta = 1"
   ]
  },
  {
   "cell_type": "code",
   "execution_count": 53,
   "metadata": {
    "scrolled": false
   },
   "outputs": [
    {
     "name": "stdout",
     "output_type": "stream",
     "text": [
      "\\begin{tabular}{|c|c|c|c|c|}\n",
      "\\hline\n",
      "Model &  Normal & Bootstrap & Bootstrap-pt & Shi (2015) \\\\ \\hline \\hline\n",
      "No selection & 0.95 & 0.94 & 0.94 & 1.00   \\\\\n",
      "Model 1 & 0.00 & 0.03 & 0.03 & 0.00   \\\\\n",
      "Model 2 & 0.05 & 0.03 & 0.03 & 0.00   \\\\\n",
      "\\hline\n",
      "\\end{tabular}\n",
      "\n",
      "\n",
      "llr:12.315124457932475, std:86.35068825259843\n",
      "(array([0.95, 0.  , 0.05]), array([0.94, 0.03, 0.03]), array([0.94, 0.03, 0.03]), array([1., 0., 0.]), 12.315124457932475, 86.35068825259843)\n"
     ]
    }
   ],
   "source": [
    "setup_shi_ex  = lambda yn,xn: setup_shi(yn,xn,num_params=num_params)\n",
    "gen_data_ex = lambda : gen_data(nobs=250, beta =beta)\n",
    "mc_out = vuong_tests4.monte_carlo(100,gen_data_ex,setup_shi,trials=100)\n",
    "vuong_tests4.print_mc(mc_out)\n",
    "print(mc_out)"
   ]
  },
  {
   "cell_type": "code",
   "execution_count": 54,
   "metadata": {},
   "outputs": [
    {
     "name": "stdout",
     "output_type": "stream",
     "text": [
      "\\begin{tabular}{|c|c|c|c|c|}\n",
      "\\hline\n",
      "Model &  Normal & Bootstrap & Bootstrap-pt & Shi (2015) \\\\ \\hline \\hline\n",
      "No selection & 0.95 & 0.93 & 0.93 & 0.98   \\\\\n",
      "Model 1 & 0.01 & 0.04 & 0.04 & 0.00   \\\\\n",
      "Model 2 & 0.04 & 0.03 & 0.03 & 0.02   \\\\\n",
      "\\hline\n",
      "\\end{tabular}\n",
      "\n",
      "\n",
      "llr:8.968697864282134, std:113.67651479708712\n",
      "(array([0.95, 0.01, 0.04]), array([0.93, 0.04, 0.03]), array([0.93, 0.04, 0.03]), array([0.98, 0.  , 0.02]), 8.968697864282134, 113.67651479708712)\n"
     ]
    }
   ],
   "source": [
    "setup_shi_ex  = lambda yn,xn: setup_shi(yn,xn,num_params=num_params)\n",
    "gen_data_ex = lambda : gen_data(nobs=500, beta =beta)\n",
    "mc_out = vuong_tests4.monte_carlo(100,gen_data_ex,setup_shi,trials=100)\n",
    "vuong_tests4.print_mc(mc_out)\n",
    "print(mc_out)"
   ]
  },
  {
   "cell_type": "code",
   "execution_count": null,
   "metadata": {},
   "outputs": [],
   "source": [
    "setup_shi_ex  = lambda yn,xn: setup_shi(yn,xn,num_params=num_params)\n",
    "gen_data_ex = lambda : gen_data(nobs=1000, beta =beta)\n",
    "mc_out = vuong_tests4.monte_carlo(100,gen_data_ex,setup_shi)\n",
    "vuong_tests4.print_mc(mc_out)\n",
    "print(mc_out)"
   ]
  },
  {
   "cell_type": "markdown",
   "metadata": {},
   "source": [
    "# Ex 2"
   ]
  },
  {
   "cell_type": "code",
   "execution_count": 38,
   "metadata": {},
   "outputs": [],
   "source": [
    "beta = 1.5"
   ]
  },
  {
   "cell_type": "code",
   "execution_count": 39,
   "metadata": {
    "scrolled": false
   },
   "outputs": [
    {
     "name": "stdout",
     "output_type": "stream",
     "text": [
      "\\begin{tabular}{|c|c|c|c|c|}\n",
      "\\hline\n",
      "Model &  Normal & Bootstrap & Bootstrap-pt & Shi (2015) \\\\ \\hline \\hline\n",
      "No selection & 0.93 & 0.91 & 0.91 & 0.98   \\\\\n",
      "Model 1 & 0.01 & 0.04 & 0.04 & 0.00   \\\\\n",
      "Model 2 & 0.06 & 0.05 & 0.05 & 0.02   \\\\\n",
      "\\hline\n",
      "\\end{tabular}\n",
      "\n",
      "\n",
      "llr:9.503972719807363, std:121.81194710770026\n",
      "(array([0.93, 0.01, 0.06]), array([0.91, 0.04, 0.05]), array([0.91, 0.04, 0.05]), array([0.98, 0.  , 0.02]), 9.503972719807363, 121.81194710770026)\n"
     ]
    }
   ],
   "source": [
    "setup_shi_ex  = lambda yn,xn: setup_shi(yn,xn,num_params=num_params)\n",
    "gen_data_ex = lambda : gen_data(nobs=250, beta =beta)\n",
    "mc_out = vuong_tests4.monte_carlo(100,gen_data_ex,setup_shi,trials=100)\n",
    "vuong_tests4.print_mc(mc_out)\n",
    "print(mc_out)"
   ]
  },
  {
   "cell_type": "code",
   "execution_count": 40,
   "metadata": {},
   "outputs": [
    {
     "name": "stdout",
     "output_type": "stream",
     "text": [
      "\\begin{tabular}{|c|c|c|c|c|}\n",
      "\\hline\n",
      "Model &  Normal & Bootstrap & Bootstrap-pt & Shi (2015) \\\\ \\hline \\hline\n",
      "No selection & 0.91 & 0.90 & 0.90 & 1.00   \\\\\n",
      "Model 1 & 0.03 & 0.06 & 0.06 & 0.00   \\\\\n",
      "Model 2 & 0.06 & 0.04 & 0.04 & 0.00   \\\\\n",
      "\\hline\n",
      "\\end{tabular}\n",
      "\n",
      "\n",
      "llr:22.220473681294735, std:195.72601782789584\n",
      "(array([0.91, 0.03, 0.06]), array([0.9 , 0.06, 0.04]), array([0.9 , 0.06, 0.04]), array([1., 0., 0.]), 22.220473681294735, 195.72601782789584)\n"
     ]
    }
   ],
   "source": [
    "setup_shi_ex  = lambda yn,xn: setup_shi(yn,xn,num_params=num_params)\n",
    "gen_data_ex = lambda : gen_data(nobs=500, beta =beta)\n",
    "mc_out = vuong_tests4.monte_carlo(100,gen_data_ex,setup_shi,trials=100)\n",
    "vuong_tests4.print_mc(mc_out)\n",
    "print(mc_out)"
   ]
  },
  {
   "cell_type": "code",
   "execution_count": 41,
   "metadata": {},
   "outputs": [
    {
     "name": "stdout",
     "output_type": "stream",
     "text": [
      "\\begin{tabular}{|c|c|c|c|c|}\n",
      "\\hline\n",
      "Model &  Normal & Bootstrap & Bootstrap-pt & Shi (2015) \\\\ \\hline \\hline\n",
      "No selection & 0.97 & 0.96 & 0.96 & 0.99   \\\\\n",
      "Model 1 & 0.01 & 0.02 & 0.02 & 0.00   \\\\\n",
      "Model 2 & 0.02 & 0.02 & 0.02 & 0.01   \\\\\n",
      "\\hline\n",
      "\\end{tabular}\n",
      "\n",
      "\n",
      "llr:29.865227718668113, std:246.62287787500844\n",
      "(array([0.97, 0.01, 0.02]), array([0.96, 0.02, 0.02]), array([0.96, 0.02, 0.02]), array([0.99, 0.  , 0.01]), 29.865227718668113, 246.62287787500844)\n"
     ]
    }
   ],
   "source": [
    "setup_shi_ex  = lambda yn,xn: setup_shi(yn,xn,num_params=num_params)\n",
    "gen_data_ex = lambda : gen_data(nobs=1000, beta =beta)\n",
    "mc_out = vuong_tests4.monte_carlo(100,gen_data_ex,setup_shi)\n",
    "vuong_tests4.print_mc(mc_out)\n",
    "print(mc_out)"
   ]
  },
  {
   "cell_type": "markdown",
   "metadata": {},
   "source": [
    "# Ex 3"
   ]
  },
  {
   "cell_type": "code",
   "execution_count": 42,
   "metadata": {},
   "outputs": [],
   "source": [
    "beta = 2"
   ]
  },
  {
   "cell_type": "code",
   "execution_count": 43,
   "metadata": {},
   "outputs": [
    {
     "name": "stdout",
     "output_type": "stream",
     "text": [
      "\\begin{tabular}{|c|c|c|c|c|}\n",
      "\\hline\n",
      "Model &  Normal & Bootstrap & Bootstrap-pt & Shi (2015) \\\\ \\hline \\hline\n",
      "No selection & 0.94 & 0.90 & 0.90 & 1.00   \\\\\n",
      "Model 1 & 0.01 & 0.05 & 0.05 & 0.00   \\\\\n",
      "Model 2 & 0.05 & 0.05 & 0.05 & 0.00   \\\\\n",
      "\\hline\n",
      "\\end{tabular}\n",
      "\n",
      "\n",
      "llr:18.473060827593947, std:164.52314037981134\n",
      "(array([0.94, 0.01, 0.05]), array([0.9 , 0.05, 0.05]), array([0.9 , 0.05, 0.05]), array([1., 0., 0.]), 18.473060827593947, 164.52314037981134)\n"
     ]
    }
   ],
   "source": [
    "setup_shi_ex  = lambda yn,xn: setup_shi(yn,xn,num_params=num_params)\n",
    "gen_data_ex = lambda : gen_data(nobs=250, beta =beta)\n",
    "mc_out = vuong_tests4.monte_carlo(100,gen_data_ex,setup_shi,trials=100)\n",
    "vuong_tests4.print_mc(mc_out)\n",
    "print(mc_out)"
   ]
  },
  {
   "cell_type": "code",
   "execution_count": 44,
   "metadata": {},
   "outputs": [
    {
     "name": "stdout",
     "output_type": "stream",
     "text": [
      "\\begin{tabular}{|c|c|c|c|c|}\n",
      "\\hline\n",
      "Model &  Normal & Bootstrap & Bootstrap-pt & Shi (2015) \\\\ \\hline \\hline\n",
      "No selection & 0.96 & 0.97 & 0.97 & 0.98   \\\\\n",
      "Model 1 & 0.00 & 0.00 & 0.00 & 0.00   \\\\\n",
      "Model 2 & 0.04 & 0.03 & 0.03 & 0.02   \\\\\n",
      "\\hline\n",
      "\\end{tabular}\n",
      "\n",
      "\n",
      "llr:-2.3335614110046876, std:214.95499046006142\n",
      "(array([0.96, 0.  , 0.04]), array([0.97, 0.  , 0.03]), array([0.97, 0.  , 0.03]), array([0.98, 0.  , 0.02]), -2.3335614110046876, 214.95499046006142)\n"
     ]
    }
   ],
   "source": [
    "setup_shi_ex  = lambda yn,xn: setup_shi(yn,xn,num_params=num_params)\n",
    "gen_data_ex = lambda : gen_data(nobs=500, beta =beta)\n",
    "mc_out = vuong_tests4.monte_carlo(100,gen_data_ex,setup_shi,trials=100)\n",
    "vuong_tests4.print_mc(mc_out)\n",
    "print(mc_out)"
   ]
  },
  {
   "cell_type": "code",
   "execution_count": 45,
   "metadata": {},
   "outputs": [
    {
     "name": "stdout",
     "output_type": "stream",
     "text": [
      "\\begin{tabular}{|c|c|c|c|c|}\n",
      "\\hline\n",
      "Model &  Normal & Bootstrap & Bootstrap-pt & Shi (2015) \\\\ \\hline \\hline\n",
      "No selection & 0.92 & 0.90 & 0.90 & 1.00   \\\\\n",
      "Model 1 & 0.00 & 0.02 & 0.02 & 0.00   \\\\\n",
      "Model 2 & 0.08 & 0.08 & 0.08 & 0.00   \\\\\n",
      "\\hline\n",
      "\\end{tabular}\n",
      "\n",
      "\n",
      "llr:-5.3213148863286905, std:336.38256732049445\n",
      "(array([0.92, 0.  , 0.08]), array([0.9 , 0.02, 0.08]), array([0.9 , 0.02, 0.08]), array([1., 0., 0.]), -5.3213148863286905, 336.38256732049445)\n"
     ]
    }
   ],
   "source": [
    "setup_shi_ex  = lambda yn,xn: setup_shi(yn,xn,num_params=num_params)\n",
    "gen_data_ex = lambda : gen_data(nobs=1000, beta =beta)\n",
    "mc_out = vuong_tests4.monte_carlo(100,gen_data_ex,setup_shi)\n",
    "vuong_tests4.print_mc(mc_out)\n",
    "print(mc_out)"
   ]
  },
  {
   "cell_type": "code",
   "execution_count": null,
   "metadata": {},
   "outputs": [],
   "source": []
  },
  {
   "cell_type": "code",
   "execution_count": null,
   "metadata": {},
   "outputs": [],
   "source": []
  }
 ],
 "metadata": {
  "kernelspec": {
   "display_name": "Python 3",
   "language": "python",
   "name": "python3"
  },
  "language_info": {
   "codemirror_mode": {
    "name": "ipython",
    "version": 3
   },
   "file_extension": ".py",
   "mimetype": "text/x-python",
   "name": "python",
   "nbconvert_exporter": "python",
   "pygments_lexer": "ipython3",
   "version": "3.8.8"
  }
 },
 "nbformat": 4,
 "nbformat_minor": 2
}
