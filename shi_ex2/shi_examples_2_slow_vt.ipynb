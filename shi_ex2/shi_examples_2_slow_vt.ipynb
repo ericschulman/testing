{
 "cells": [
  {
   "cell_type": "code",
   "execution_count": 1,
   "metadata": {},
   "outputs": [],
   "source": [
    "%load_ext autoreload\n",
    "%autoreload 2\n",
    "\n",
    "from statsmodels.base.model import GenericLikelihoodModel\n",
    "\n",
    "import numpy as np\n",
    "import matplotlib.pyplot as plt\n",
    "import statsmodels.api as sm\n",
    "import scipy.stats as stats\n",
    "import sys\n",
    "\n",
    "from scipy.stats import multivariate_normal\n",
    "\n",
    "sys.path.append(\"../\")\n",
    "import vuong_tests4"
   ]
  },
  {
   "cell_type": "code",
   "execution_count": 2,
   "metadata": {},
   "outputs": [],
   "source": [
    "class JointNormal1(GenericLikelihoodModel):\n",
    "    \n",
    "    def loglikeobs(self, params):\n",
    "        data = np.concatenate([[self.endog],self.exog.transpose()],axis=0)\n",
    "        mult_rv = stats.multivariate_normal([params[0], 0.0], [[1,0],[0,1]])\n",
    "        return mult_rv.logpdf(data.transpose())\n",
    "    \n",
    "    \n",
    "class JointNormal2(GenericLikelihoodModel):\n",
    "    \n",
    "    def loglikeobs(self, params):\n",
    "        data = np.concatenate([[self.endog],self.exog.transpose()],axis=0)\n",
    "        mult_rv = stats.multivariate_normal([0.0, params[0]], [[1,0],[0,1]])\n",
    "        return mult_rv.logpdf(data.transpose())\n",
    "\n",
    "\n",
    "def setup_shi(yn,xn,return_model=True):\n",
    "    # model 1 grad, etc.\n",
    "    nobs = yn.shape[0]\n",
    "    model1_param = np.array([yn.mean()])\n",
    "    model2_param = np.array([xn.mean()])\n",
    "    \n",
    "    model1_deriv = JointNormal1(yn,xn)\n",
    "    ll1 = model1_deriv.loglikeobs(model1_param)\n",
    "    grad1 =  model1_deriv.score_obs(model1_param).reshape( (nobs,1) )\n",
    "    hess1 = model1_deriv.hessian(model1_param)\n",
    "    \n",
    "    \n",
    "    model2_deriv = JointNormal2(yn,xn)\n",
    "    ll2 = model2_deriv.loglikeobs(model2_param)\n",
    "    grad2 =  model2_deriv.score_obs(model2_param).reshape( (nobs,1) )  \n",
    "    hess2 = model2_deriv.hessian(model2_param)\n",
    "    if return_model:\n",
    "        return ll1,grad1,hess1,model1_param,model1_deriv,ll2,grad2,hess2,model2_param,model2_deriv\n",
    "    return ll1,grad1,hess1,model1_param,ll2,grad2,hess2,model2_param\n",
    "\n",
    "def gen_data(beta= 1.5, nobs=1000):\n",
    "    cov = [[25, 0], [0, 1]]\n",
    "    data = np.random.multivariate_normal([beta,beta], [[25,0],[0,1]],  nobs)\n",
    "    return data[:,0],data[:,1],nobs\n",
    "\n",
    "yn,xn,nobs = gen_data()"
   ]
  },
  {
   "cell_type": "markdown",
   "metadata": {},
   "source": [
    "# Ex 0.5"
   ]
  },
  {
   "cell_type": "code",
   "execution_count": 3,
   "metadata": {},
   "outputs": [],
   "source": [
    "beta = 0.0"
   ]
  },
  {
   "cell_type": "code",
   "execution_count": 4,
   "metadata": {
    "scrolled": false
   },
   "outputs": [
    {
     "name": "stdout",
     "output_type": "stream",
     "text": [
      "[0.94 0.06 0.  ] [1. 0. 0.] [1. 0. 0.]\n",
      "\\begin{tabular}{|c|c|c|c|c|c|c|}\n",
      "\\hline\n",
      "Model &  Normal & Two-Step & Bootstrap & Bootstrap-TIC & Bootstrap-ND & Shi (2015) \\\\ \\hline \\hline\n",
      "No selection & 1.00 & 1.00 & 0.94 & 1.00 & 1.00 & 0.91   \\\\\n",
      "Model 1 & 0.00 & 0.00 & 0.06 & 0.00 & 0.00 & 0.00   \\\\\n",
      "Model 2 & 0.00 & 0.00 & 0.00 & 0.00 & 0.00 & 0.09   \\\\\n",
      "\\hline\n",
      "\\end{tabular}\n",
      "llr:9.152040535081532, std:13.761738760837531\n",
      "(array([1., 0., 0.]), array([1., 0., 0.]), array([0.94, 0.06, 0.  ]), array([1., 0., 0.]), array([1., 0., 0.]), array([0.91, 0.  , 0.09]), 9.152040535081532, 13.761738760837531, 17.476067954140508)\n"
     ]
    }
   ],
   "source": [
    "setup_shi_ex  = lambda yn,xn: setup_shi(yn,xn,num_params=num_params)\n",
    "gen_data_ex = lambda : gen_data(nobs=100, beta =beta)\n",
    "mc_out = vuong_tests4.monte_carlo(100,gen_data_ex,setup_shi,trials=100)\n",
    "vuong_tests4.print_mc(mc_out)\n",
    "print(mc_out)"
   ]
  },
  {
   "cell_type": "code",
   "execution_count": 5,
   "metadata": {},
   "outputs": [
    {
     "name": "stdout",
     "output_type": "stream",
     "text": [
      "[0.89 0.11 0.  ] [0.99 0.01 0.  ] [0.99 0.01 0.  ]\n",
      "\\begin{tabular}{|c|c|c|c|c|c|c|}\n",
      "\\hline\n",
      "Model &  Normal & Two-Step & Bootstrap & Bootstrap-TIC & Bootstrap-ND & Shi (2015) \\\\ \\hline \\hline\n",
      "No selection & 1.00 & 1.00 & 0.89 & 0.99 & 0.99 & 0.95   \\\\\n",
      "Model 1 & 0.00 & 0.00 & 0.11 & 0.01 & 0.01 & 0.00   \\\\\n",
      "Model 2 & 0.00 & 0.00 & 0.00 & 0.00 & 0.00 & 0.05   \\\\\n",
      "\\hline\n",
      "\\end{tabular}\n",
      "llr:11.835050377155591, std:21.172980790270937\n",
      "(array([1., 0., 0.]), array([1., 0., 0.]), array([0.89, 0.11, 0.  ]), array([0.99, 0.01, 0.  ]), array([0.99, 0.01, 0.  ]), array([0.95, 0.  , 0.05]), 11.835050377155591, 21.172980790270937, 19.16528222025136)\n"
     ]
    }
   ],
   "source": [
    "setup_shi_ex  = lambda yn,xn: setup_shi(yn,xn,num_params=num_params)\n",
    "gen_data_ex = lambda : gen_data(nobs=250, beta =beta)\n",
    "mc_out = vuong_tests4.monte_carlo(100,gen_data_ex,setup_shi,trials=100)\n",
    "vuong_tests4.print_mc(mc_out)\n",
    "print(mc_out)"
   ]
  },
  {
   "cell_type": "code",
   "execution_count": 6,
   "metadata": {},
   "outputs": [
    {
     "name": "stdout",
     "output_type": "stream",
     "text": [
      "[0.91 0.09 0.  ] [0.98 0.02 0.  ] [0.98 0.02 0.  ]\n",
      "\\begin{tabular}{|c|c|c|c|c|c|c|}\n",
      "\\hline\n",
      "Model &  Normal & Two-Step & Bootstrap & Bootstrap-TIC & Bootstrap-ND & Shi (2015) \\\\ \\hline \\hline\n",
      "No selection & 1.00 & 1.00 & 0.91 & 0.98 & 0.98 & 0.89   \\\\\n",
      "Model 1 & 0.00 & 0.00 & 0.09 & 0.02 & 0.02 & 0.00   \\\\\n",
      "Model 2 & 0.00 & 0.00 & 0.00 & 0.00 & 0.00 & 0.11   \\\\\n",
      "\\hline\n",
      "\\end{tabular}\n",
      "llr:14.37687164801884, std:24.337354384070036\n",
      "(array([1., 0., 0.]), array([1., 0., 0.]), array([0.91, 0.09, 0.  ]), array([0.98, 0.02, 0.  ]), array([0.98, 0.02, 0.  ]), array([0.89, 0.  , 0.11]), 14.37687164801884, 24.337354384070036, 21.451940248271914)\n"
     ]
    }
   ],
   "source": [
    "setup_shi_ex  = lambda yn,xn: setup_shi(yn,xn,num_params=num_params)\n",
    "gen_data_ex = lambda : gen_data(nobs=500, beta =beta)\n",
    "mc_out = vuong_tests4.monte_carlo(100,gen_data_ex,setup_shi)\n",
    "vuong_tests4.print_mc(mc_out)\n",
    "print(mc_out)"
   ]
  },
  {
   "cell_type": "markdown",
   "metadata": {},
   "source": [
    "# Ex 0.5"
   ]
  },
  {
   "cell_type": "code",
   "execution_count": 7,
   "metadata": {},
   "outputs": [],
   "source": [
    "beta = 0.5"
   ]
  },
  {
   "cell_type": "code",
   "execution_count": 8,
   "metadata": {
    "scrolled": false
   },
   "outputs": [
    {
     "name": "stdout",
     "output_type": "stream",
     "text": [
      "[0.97 0.03 0.  ] [1. 0. 0.] [1. 0. 0.]\n",
      "\\begin{tabular}{|c|c|c|c|c|c|c|}\n",
      "\\hline\n",
      "Model &  Normal & Two-Step & Bootstrap & Bootstrap-TIC & Bootstrap-ND & Shi (2015) \\\\ \\hline \\hline\n",
      "No selection & 0.92 & 1.00 & 0.97 & 1.00 & 1.00 & 0.93   \\\\\n",
      "Model 1 & 0.00 & 0.00 & 0.03 & 0.00 & 0.00 & 0.00   \\\\\n",
      "Model 2 & 0.08 & 0.00 & 0.00 & 0.00 & 0.00 & 0.07   \\\\\n",
      "\\hline\n",
      "\\end{tabular}\n",
      "llr:11.328687823075546, std:28.79232913740606\n",
      "(array([0.92, 0.  , 0.08]), array([1., 0., 0.]), array([0.97, 0.03, 0.  ]), array([1., 0., 0.]), array([1., 0., 0.]), array([0.93, 0.  , 0.07]), 11.328687823075546, 28.79232913740606, 29.95067487318527)\n"
     ]
    }
   ],
   "source": [
    "setup_shi_ex  = lambda yn,xn: setup_shi(yn,xn,num_params=num_params)\n",
    "gen_data_ex = lambda : gen_data(nobs=100, beta =beta)\n",
    "mc_out = vuong_tests4.monte_carlo(100,gen_data_ex,setup_shi,trials=100)\n",
    "vuong_tests4.print_mc(mc_out)\n",
    "print(mc_out)"
   ]
  },
  {
   "cell_type": "code",
   "execution_count": 9,
   "metadata": {},
   "outputs": [
    {
     "name": "stdout",
     "output_type": "stream",
     "text": [
      "[0.96 0.04 0.  ] [1. 0. 0.] [1. 0. 0.]\n",
      "\\begin{tabular}{|c|c|c|c|c|c|c|}\n",
      "\\hline\n",
      "Model &  Normal & Two-Step & Bootstrap & Bootstrap-TIC & Bootstrap-ND & Shi (2015) \\\\ \\hline \\hline\n",
      "No selection & 0.94 & 1.00 & 0.96 & 1.00 & 1.00 & 0.97   \\\\\n",
      "Model 1 & 0.00 & 0.00 & 0.04 & 0.00 & 0.00 & 0.00   \\\\\n",
      "Model 2 & 0.06 & 0.00 & 0.00 & 0.00 & 0.00 & 0.03   \\\\\n",
      "\\hline\n",
      "\\end{tabular}\n",
      "llr:13.478810251497556, std:42.07973812027605\n",
      "(array([0.94, 0.  , 0.06]), array([1., 0., 0.]), array([0.96, 0.04, 0.  ]), array([1., 0., 0.]), array([1., 0., 0.]), array([0.97, 0.  , 0.03]), 13.478810251497556, 42.07973812027605, 43.81826295514443)\n"
     ]
    }
   ],
   "source": [
    "setup_shi_ex  = lambda yn,xn: setup_shi(yn,xn,num_params=num_params)\n",
    "gen_data_ex = lambda : gen_data(nobs=250, beta =beta)\n",
    "mc_out = vuong_tests4.monte_carlo(100,gen_data_ex,setup_shi,trials=100)\n",
    "vuong_tests4.print_mc(mc_out)\n",
    "print(mc_out)"
   ]
  },
  {
   "cell_type": "code",
   "execution_count": 10,
   "metadata": {},
   "outputs": [
    {
     "name": "stdout",
     "output_type": "stream",
     "text": [
      "[0.94 0.04 0.02] [0.95 0.02 0.03] [0.95 0.02 0.03]\n",
      "\\begin{tabular}{|c|c|c|c|c|c|c|}\n",
      "\\hline\n",
      "Model &  Normal & Two-Step & Bootstrap & Bootstrap-TIC & Bootstrap-ND & Shi (2015) \\\\ \\hline \\hline\n",
      "No selection & 0.94 & 1.00 & 0.94 & 0.95 & 0.95 & 0.97   \\\\\n",
      "Model 1 & 0.00 & 0.00 & 0.04 & 0.02 & 0.02 & 0.00   \\\\\n",
      "Model 2 & 0.06 & 0.00 & 0.02 & 0.03 & 0.03 & 0.03   \\\\\n",
      "\\hline\n",
      "\\end{tabular}\n",
      "llr:11.379693642422327, std:53.00461430831428\n",
      "(array([0.94, 0.  , 0.06]), array([1., 0., 0.]), array([0.94, 0.04, 0.02]), array([0.95, 0.02, 0.03]), array([0.95, 0.02, 0.03]), array([0.97, 0.  , 0.03]), 11.379693642422327, 53.00461430831428, 57.73890275407179)\n"
     ]
    }
   ],
   "source": [
    "setup_shi_ex  = lambda yn,xn: setup_shi(yn,xn,num_params=num_params)\n",
    "gen_data_ex = lambda : gen_data(nobs=500, beta =beta)\n",
    "mc_out = vuong_tests4.monte_carlo(100,gen_data_ex,setup_shi)\n",
    "vuong_tests4.print_mc(mc_out)\n",
    "print(mc_out)"
   ]
  },
  {
   "cell_type": "markdown",
   "metadata": {},
   "source": [
    "# Ex 1"
   ]
  },
  {
   "cell_type": "code",
   "execution_count": 7,
   "metadata": {},
   "outputs": [],
   "source": [
    "beta = 1"
   ]
  },
  {
   "cell_type": "code",
   "execution_count": 8,
   "metadata": {
    "scrolled": true
   },
   "outputs": [
    {
     "name": "stdout",
     "output_type": "stream",
     "text": [
      "[0.91 0.06 0.03] [0.91 0.05 0.04] [0.91 0.05 0.04]\n",
      "\\begin{tabular}{|c|c|c|c|c|c|c|}\n",
      "\\hline\n",
      "Model &  Normal & Two-Step & Bootstrap & Bootstrap-TIC & Bootstrap-ND & Shi (2015) \\\\ \\hline \\hline\n",
      "No selection & 0.81 & 1.00 & 0.91 & 0.91 & 0.91 & 0.92   \\\\\n",
      "Model 1 & 0.00 & 0.00 & 0.06 & 0.05 & 0.05 & 0.00   \\\\\n",
      "Model 2 & 0.19 & 0.00 & 0.03 & 0.04 & 0.04 & 0.08   \\\\\n",
      "\\hline\n",
      "\\end{tabular}\n",
      "llr:11.655447467694582, std:62.48478905063853\n",
      "(array([0.81, 0.  , 0.19]), array([1., 0., 0.]), array([0.91, 0.06, 0.03]), array([0.91, 0.05, 0.04]), array([0.91, 0.05, 0.04]), array([0.92, 0.  , 0.08]), 11.655447467694582, 62.48478905063853, 49.099772390796296)\n"
     ]
    }
   ],
   "source": [
    "setup_shi_ex  = lambda yn,xn: setup_shi(yn,xn,num_params=num_params)\n",
    "gen_data_ex = lambda : gen_data(nobs=100, beta =beta)\n",
    "mc_out = vuong_tests4.monte_carlo(100,gen_data_ex,setup_shi,trials=100)\n",
    "vuong_tests4.print_mc(mc_out)\n",
    "print(mc_out)"
   ]
  },
  {
   "cell_type": "code",
   "execution_count": 9,
   "metadata": {},
   "outputs": [
    {
     "name": "stdout",
     "output_type": "stream",
     "text": [
      "[0.93 0.04 0.03] [0.96 0.01 0.03] [0.96 0.01 0.03]\n",
      "\\begin{tabular}{|c|c|c|c|c|c|c|}\n",
      "\\hline\n",
      "Model &  Normal & Two-Step & Bootstrap & Bootstrap-TIC & Bootstrap-ND & Shi (2015) \\\\ \\hline \\hline\n",
      "No selection & 0.94 & 1.00 & 0.93 & 0.96 & 0.96 & 0.99   \\\\\n",
      "Model 1 & 0.00 & 0.00 & 0.04 & 0.01 & 0.01 & 0.00   \\\\\n",
      "Model 2 & 0.06 & 0.00 & 0.03 & 0.03 & 0.03 & 0.01   \\\\\n",
      "\\hline\n",
      "\\end{tabular}\n",
      "llr:17.008305585313, std:88.70426917806518\n",
      "(array([0.94, 0.  , 0.06]), array([1., 0., 0.]), array([0.93, 0.04, 0.03]), array([0.96, 0.01, 0.03]), array([0.96, 0.01, 0.03]), array([0.99, 0.  , 0.01]), 17.008305585313, 88.70426917806518, 81.35467259605653)\n"
     ]
    }
   ],
   "source": [
    "setup_shi_ex  = lambda yn,xn: setup_shi(yn,xn,num_params=num_params)\n",
    "gen_data_ex = lambda : gen_data(nobs=250, beta =beta)\n",
    "mc_out = vuong_tests4.monte_carlo(100,gen_data_ex,setup_shi,trials=100)\n",
    "vuong_tests4.print_mc(mc_out)\n",
    "print(mc_out)"
   ]
  },
  {
   "cell_type": "code",
   "execution_count": 10,
   "metadata": {},
   "outputs": [
    {
     "name": "stdout",
     "output_type": "stream",
     "text": [
      "[0.96 0.03 0.01] [0.96 0.03 0.01] [0.96 0.03 0.01]\n",
      "\\begin{tabular}{|c|c|c|c|c|c|c|}\n",
      "\\hline\n",
      "Model &  Normal & Two-Step & Bootstrap & Bootstrap-TIC & Bootstrap-ND & Shi (2015) \\\\ \\hline \\hline\n",
      "No selection & 0.95 & 0.95 & 0.96 & 0.96 & 0.96 & 0.99   \\\\\n",
      "Model 1 & 0.02 & 0.02 & 0.03 & 0.03 & 0.03 & 0.00   \\\\\n",
      "Model 2 & 0.03 & 0.03 & 0.01 & 0.01 & 0.01 & 0.01   \\\\\n",
      "\\hline\n",
      "\\end{tabular}\n",
      "llr:33.44187798438217, std:120.61398540465537\n",
      "(array([0.95, 0.02, 0.03]), array([0.95, 0.02, 0.03]), array([0.96, 0.03, 0.01]), array([0.96, 0.03, 0.01]), array([0.96, 0.03, 0.01]), array([0.99, 0.  , 0.01]), 33.44187798438217, 120.61398540465537, 118.32960007901883)\n"
     ]
    }
   ],
   "source": [
    "setup_shi_ex  = lambda yn,xn: setup_shi(yn,xn,num_params=num_params)\n",
    "gen_data_ex = lambda : gen_data(nobs=500, beta =beta)\n",
    "mc_out = vuong_tests4.monte_carlo(100,gen_data_ex,setup_shi)\n",
    "vuong_tests4.print_mc(mc_out)\n",
    "print(mc_out)"
   ]
  },
  {
   "cell_type": "markdown",
   "metadata": {},
   "source": [
    "# Ex 1.5"
   ]
  },
  {
   "cell_type": "code",
   "execution_count": 11,
   "metadata": {},
   "outputs": [],
   "source": [
    "beta = 1.5"
   ]
  },
  {
   "cell_type": "code",
   "execution_count": 12,
   "metadata": {
    "scrolled": false
   },
   "outputs": [
    {
     "name": "stdout",
     "output_type": "stream",
     "text": [
      "[0.93 0.02 0.05] [0.91 0.01 0.08] [0.91 0.01 0.08]\n",
      "\\begin{tabular}{|c|c|c|c|c|c|c|}\n",
      "\\hline\n",
      "Model &  Normal & Two-Step & Bootstrap & Bootstrap-TIC & Bootstrap-ND & Shi (2015) \\\\ \\hline \\hline\n",
      "No selection & 0.91 & 0.99 & 0.93 & 0.91 & 0.91 & 0.98   \\\\\n",
      "Model 1 & 0.00 & 0.00 & 0.02 & 0.01 & 0.01 & 0.00   \\\\\n",
      "Model 2 & 0.09 & 0.01 & 0.05 & 0.08 & 0.08 & 0.02   \\\\\n",
      "\\hline\n",
      "\\end{tabular}\n",
      "llr:9.22045086536592, std:76.69834717348968\n",
      "(array([0.91, 0.  , 0.09]), array([0.99, 0.  , 0.01]), array([0.93, 0.02, 0.05]), array([0.91, 0.01, 0.08]), array([0.91, 0.01, 0.08]), array([0.98, 0.  , 0.02]), 9.22045086536592, 76.69834717348968, 75.33145952961402)\n"
     ]
    }
   ],
   "source": [
    "setup_shi_ex  = lambda yn,xn: setup_shi(yn,xn,num_params=num_params)\n",
    "gen_data_ex = lambda : gen_data(nobs=100, beta =beta)\n",
    "mc_out = vuong_tests4.monte_carlo(100,gen_data_ex,setup_shi,trials=100)\n",
    "vuong_tests4.print_mc(mc_out)\n",
    "print(mc_out)"
   ]
  },
  {
   "cell_type": "code",
   "execution_count": 13,
   "metadata": {},
   "outputs": [
    {
     "name": "stdout",
     "output_type": "stream",
     "text": [
      "[0.93 0.05 0.02] [0.95 0.03 0.02] [0.95 0.03 0.02]\n",
      "\\begin{tabular}{|c|c|c|c|c|c|c|}\n",
      "\\hline\n",
      "Model &  Normal & Two-Step & Bootstrap & Bootstrap-TIC & Bootstrap-ND & Shi (2015) \\\\ \\hline \\hline\n",
      "No selection & 0.96 & 0.96 & 0.93 & 0.95 & 0.95 & 1.00   \\\\\n",
      "Model 1 & 0.01 & 0.01 & 0.05 & 0.03 & 0.03 & 0.00   \\\\\n",
      "Model 2 & 0.03 & 0.03 & 0.02 & 0.02 & 0.02 & 0.00   \\\\\n",
      "\\hline\n",
      "\\end{tabular}\n",
      "llr:24.752598146137824, std:131.85939697981718\n",
      "(array([0.96, 0.01, 0.03]), array([0.96, 0.01, 0.03]), array([0.93, 0.05, 0.02]), array([0.95, 0.03, 0.02]), array([0.95, 0.03, 0.02]), array([1., 0., 0.]), 24.752598146137824, 131.85939697981718, 123.58671316146952)\n"
     ]
    }
   ],
   "source": [
    "setup_shi_ex  = lambda yn,xn: setup_shi(yn,xn,num_params=num_params)\n",
    "gen_data_ex = lambda : gen_data(nobs=250, beta =beta)\n",
    "mc_out = vuong_tests4.monte_carlo(100,gen_data_ex,setup_shi,trials=100)\n",
    "vuong_tests4.print_mc(mc_out)\n",
    "print(mc_out)"
   ]
  },
  {
   "cell_type": "code",
   "execution_count": 14,
   "metadata": {},
   "outputs": [
    {
     "name": "stdout",
     "output_type": "stream",
     "text": [
      "[0.97 0.02 0.01] [0.95 0.02 0.03] [0.95 0.02 0.03]\n",
      "\\begin{tabular}{|c|c|c|c|c|c|c|}\n",
      "\\hline\n",
      "Model &  Normal & Two-Step & Bootstrap & Bootstrap-TIC & Bootstrap-ND & Shi (2015) \\\\ \\hline \\hline\n",
      "No selection & 0.97 & 0.97 & 0.97 & 0.95 & 0.95 & 1.00   \\\\\n",
      "Model 1 & 0.00 & 0.00 & 0.02 & 0.02 & 0.02 & 0.00   \\\\\n",
      "Model 2 & 0.03 & 0.03 & 0.01 & 0.03 & 0.03 & 0.00   \\\\\n",
      "\\hline\n",
      "\\end{tabular}\n",
      "llr:21.31724800592139, std:157.6894122050766\n",
      "(array([0.97, 0.  , 0.03]), array([0.97, 0.  , 0.03]), array([0.97, 0.02, 0.01]), array([0.95, 0.02, 0.03]), array([0.95, 0.02, 0.03]), array([1., 0., 0.]), 21.31724800592139, 157.6894122050766, 170.3610984545461)\n"
     ]
    }
   ],
   "source": [
    "setup_shi_ex  = lambda yn,xn: setup_shi(yn,xn,num_params=num_params)\n",
    "gen_data_ex = lambda : gen_data(nobs=500, beta =beta)\n",
    "mc_out = vuong_tests4.monte_carlo(100,gen_data_ex,setup_shi)\n",
    "vuong_tests4.print_mc(mc_out)\n",
    "print(mc_out)"
   ]
  },
  {
   "cell_type": "markdown",
   "metadata": {},
   "source": [
    "# Evidence of power..."
   ]
  },
  {
   "cell_type": "code",
   "execution_count": 5,
   "metadata": {},
   "outputs": [],
   "source": [
    "def gen_data2(beta= 1.5, nobs=1000):\n",
    "    cov = [[25, 0], [0, 1]]\n",
    "    data = np.random.multivariate_normal([0,beta], [[25,0],[0,1]],  nobs)\n",
    "    return data[:,0],data[:,1],nobs"
   ]
  },
  {
   "cell_type": "code",
   "execution_count": 16,
   "metadata": {},
   "outputs": [],
   "source": [
    "beta = 0.5"
   ]
  },
  {
   "cell_type": "code",
   "execution_count": 17,
   "metadata": {
    "scrolled": false
   },
   "outputs": [
    {
     "name": "stdout",
     "output_type": "stream",
     "text": [
      "[1. 0. 0.] [1. 0. 0.] [1. 0. 0.]\n",
      "\\begin{tabular}{|c|c|c|c|c|c|c|}\n",
      "\\hline\n",
      "Model &  Normal & Two-Step & Bootstrap & Bootstrap-TIC & Bootstrap-ND & Shi (2015) \\\\ \\hline \\hline\n",
      "No selection & 0.78 & 1.00 & 1.00 & 1.00 & 1.00 & 0.82   \\\\\n",
      "Model 1 & 0.00 & 0.00 & 0.00 & 0.00 & 0.00 & 0.00   \\\\\n",
      "Model 2 & 0.22 & 0.00 & 0.00 & 0.00 & 0.00 & 0.18   \\\\\n",
      "\\hline\n",
      "\\end{tabular}\n",
      "llr:-1.676616465551855, std:21.6659972385679\n",
      "(array([0.78, 0.  , 0.22]), array([1., 0., 0.]), array([1., 0., 0.]), array([1., 0., 0.]), array([1., 0., 0.]), array([0.82, 0.  , 0.18]), -1.676616465551855, 21.6659972385679, 19.158998213927433)\n"
     ]
    }
   ],
   "source": [
    "setup_shi_ex  = lambda yn,xn: setup_shi(yn,xn,num_params=num_params)\n",
    "gen_data_ex = lambda : gen_data2(nobs=100, beta =beta)\n",
    "mc_out = vuong_tests4.monte_carlo(100,gen_data_ex,setup_shi,trials=100)\n",
    "vuong_tests4.print_mc(mc_out)\n",
    "print(mc_out)"
   ]
  },
  {
   "cell_type": "code",
   "execution_count": 18,
   "metadata": {},
   "outputs": [
    {
     "name": "stdout",
     "output_type": "stream",
     "text": [
      "[0.99 0.   0.01] [0.99 0.   0.01] [0.99 0.   0.01]\n",
      "\\begin{tabular}{|c|c|c|c|c|c|c|}\n",
      "\\hline\n",
      "Model &  Normal & Two-Step & Bootstrap & Bootstrap-TIC & Bootstrap-ND & Shi (2015) \\\\ \\hline \\hline\n",
      "No selection & 0.62 & 1.00 & 0.99 & 0.99 & 0.99 & 0.80   \\\\\n",
      "Model 1 & 0.00 & 0.00 & 0.00 & 0.00 & 0.00 & 0.00   \\\\\n",
      "Model 2 & 0.38 & 0.00 & 0.01 & 0.01 & 0.01 & 0.20   \\\\\n",
      "\\hline\n",
      "\\end{tabular}\n",
      "llr:-19.09134224720412, std:18.56698319942619\n",
      "(array([0.62, 0.  , 0.38]), array([1., 0., 0.]), array([0.99, 0.  , 0.01]), array([0.99, 0.  , 0.01]), array([0.99, 0.  , 0.01]), array([0.8, 0. , 0.2]), -19.09134224720412, 18.56698319942619, 21.903501524630546)\n"
     ]
    }
   ],
   "source": [
    "setup_shi_ex  = lambda yn,xn: setup_shi(yn,xn,num_params=num_params)\n",
    "gen_data_ex = lambda : gen_data2(nobs=250, beta =beta)\n",
    "mc_out = vuong_tests4.monte_carlo(100,gen_data_ex,setup_shi,trials=100)\n",
    "vuong_tests4.print_mc(mc_out)\n",
    "print(mc_out)"
   ]
  },
  {
   "cell_type": "code",
   "execution_count": 19,
   "metadata": {},
   "outputs": [
    {
     "name": "stdout",
     "output_type": "stream",
     "text": [
      "[0.83 0.   0.17] [0.63 0.   0.37] [0.63 0.   0.37]\n",
      "\\begin{tabular}{|c|c|c|c|c|c|c|}\n",
      "\\hline\n",
      "Model &  Normal & Two-Step & Bootstrap & Bootstrap-TIC & Bootstrap-ND & Shi (2015) \\\\ \\hline \\hline\n",
      "No selection & 0.35 & 1.00 & 0.83 & 0.63 & 0.63 & 0.70   \\\\\n",
      "Model 1 & 0.00 & 0.00 & 0.00 & 0.00 & 0.00 & 0.00   \\\\\n",
      "Model 2 & 0.65 & 0.00 & 0.17 & 0.37 & 0.37 & 0.30   \\\\\n",
      "\\hline\n",
      "\\end{tabular}\n",
      "llr:-50.31980755020021, std:19.744302295751364\n",
      "(array([0.35, 0.  , 0.65]), array([1., 0., 0.]), array([0.83, 0.  , 0.17]), array([0.63, 0.  , 0.37]), array([0.63, 0.  , 0.37]), array([0.7, 0. , 0.3]), -50.31980755020021, 19.744302295751364, 24.598460754161625)\n"
     ]
    }
   ],
   "source": [
    "setup_shi_ex  = lambda yn,xn: setup_shi(yn,xn,num_params=num_params)\n",
    "gen_data_ex = lambda : gen_data2(nobs=500, beta =beta)\n",
    "mc_out = vuong_tests4.monte_carlo(100,gen_data_ex,setup_shi)\n",
    "vuong_tests4.print_mc(mc_out)\n",
    "print(mc_out)"
   ]
  },
  {
   "cell_type": "markdown",
   "metadata": {},
   "source": [
    "# Ex 1"
   ]
  },
  {
   "cell_type": "code",
   "execution_count": 20,
   "metadata": {},
   "outputs": [],
   "source": [
    "beta = 1"
   ]
  },
  {
   "cell_type": "code",
   "execution_count": 21,
   "metadata": {
    "scrolled": true
   },
   "outputs": [
    {
     "name": "stdout",
     "output_type": "stream",
     "text": [
      "[0.92 0.   0.08] [0.86 0.   0.14] [0.86 0.   0.14]\n",
      "\\begin{tabular}{|c|c|c|c|c|c|c|}\n",
      "\\hline\n",
      "Model &  Normal & Two-Step & Bootstrap & Bootstrap-TIC & Bootstrap-ND & Shi (2015) \\\\ \\hline \\hline\n",
      "No selection & 0.41 & 1.00 & 0.92 & 0.86 & 0.86 & 0.70   \\\\\n",
      "Model 1 & 0.00 & 0.00 & 0.00 & 0.00 & 0.00 & 0.00   \\\\\n",
      "Model 2 & 0.59 & 0.00 & 0.08 & 0.14 & 0.14 & 0.30   \\\\\n",
      "\\hline\n",
      "\\end{tabular}\n",
      "llr:-37.857820229047746, std:25.514142855701998\n",
      "(array([0.41, 0.  , 0.59]), array([1., 0., 0.]), array([0.92, 0.  , 0.08]), array([0.86, 0.  , 0.14]), array([0.86, 0.  , 0.14]), array([0.7, 0. , 0.3]), -37.857820229047746, 25.514142855701998, 24.21302024437084)\n"
     ]
    }
   ],
   "source": [
    "setup_shi_ex  = lambda yn,xn: setup_shi(yn,xn,num_params=num_params)\n",
    "gen_data_ex = lambda : gen_data2(nobs=100, beta =beta)\n",
    "mc_out = vuong_tests4.monte_carlo(100,gen_data_ex,setup_shi,trials=100)\n",
    "vuong_tests4.print_mc(mc_out)\n",
    "print(mc_out)"
   ]
  },
  {
   "cell_type": "code",
   "execution_count": 22,
   "metadata": {},
   "outputs": [
    {
     "name": "stdout",
     "output_type": "stream",
     "text": [
      "[0.21 0.   0.79] [0.19 0.   0.81] [0.19 0.   0.81]\n",
      "\\begin{tabular}{|c|c|c|c|c|c|c|}\n",
      "\\hline\n",
      "Model &  Normal & Two-Step & Bootstrap & Bootstrap-TIC & Bootstrap-ND & Shi (2015) \\\\ \\hline \\hline\n",
      "No selection & 0.10 & 1.00 & 0.21 & 0.19 & 0.19 & 0.31   \\\\\n",
      "Model 1 & 0.00 & 0.00 & 0.00 & 0.00 & 0.00 & 0.00   \\\\\n",
      "Model 2 & 0.90 & 0.00 & 0.79 & 0.81 & 0.81 & 0.69   \\\\\n",
      "\\hline\n",
      "\\end{tabular}\n",
      "llr:-116.05432663002098, std:28.221653939499113\n",
      "(array([0.1, 0. , 0.9]), array([1., 0., 0.]), array([0.21, 0.  , 0.79]), array([0.19, 0.  , 0.81]), array([0.19, 0.  , 0.81]), array([0.31, 0.  , 0.69]), -116.05432663002098, 28.221653939499113, 27.3081725933942)\n"
     ]
    }
   ],
   "source": [
    "setup_shi_ex  = lambda yn,xn: setup_shi(yn,xn,num_params=num_params)\n",
    "gen_data_ex = lambda : gen_data2(nobs=250, beta =beta)\n",
    "mc_out = vuong_tests4.monte_carlo(100,gen_data_ex,setup_shi,trials=100)\n",
    "vuong_tests4.print_mc(mc_out)\n",
    "print(mc_out)"
   ]
  },
  {
   "cell_type": "code",
   "execution_count": 23,
   "metadata": {},
   "outputs": [
    {
     "name": "stdout",
     "output_type": "stream",
     "text": [
      "[0.02 0.   0.98] [0.02 0.   0.98] [0.02 0.   0.98]\n",
      "\\begin{tabular}{|c|c|c|c|c|c|c|}\n",
      "\\hline\n",
      "Model &  Normal & Two-Step & Bootstrap & Bootstrap-TIC & Bootstrap-ND & Shi (2015) \\\\ \\hline \\hline\n",
      "No selection & 0.00 & 0.89 & 0.02 & 0.02 & 0.02 & 0.13   \\\\\n",
      "Model 1 & 0.00 & 0.00 & 0.00 & 0.00 & 0.00 & 0.00   \\\\\n",
      "Model 2 & 1.00 & 0.11 & 0.98 & 0.98 & 0.98 & 0.87   \\\\\n",
      "\\hline\n",
      "\\end{tabular}\n",
      "llr:-238.36841831910385, std:31.526468450357264\n",
      "(array([0., 0., 1.]), array([0.89, 0.  , 0.11]), array([0.02, 0.  , 0.98]), array([0.02, 0.  , 0.98]), array([0.02, 0.  , 0.98]), array([0.13, 0.  , 0.87]), -238.36841831910385, 31.526468450357264, 32.578987146910514)\n"
     ]
    }
   ],
   "source": [
    "setup_shi_ex  = lambda yn,xn: setup_shi(yn,xn,num_params=num_params)\n",
    "gen_data_ex = lambda : gen_data2(nobs=500, beta =beta)\n",
    "mc_out = vuong_tests4.monte_carlo(100,gen_data_ex,setup_shi)\n",
    "vuong_tests4.print_mc(mc_out)\n",
    "print(mc_out)"
   ]
  },
  {
   "cell_type": "markdown",
   "metadata": {},
   "source": [
    "# more..."
   ]
  },
  {
   "cell_type": "code",
   "execution_count": 6,
   "metadata": {},
   "outputs": [],
   "source": [
    "beta = 1.5"
   ]
  },
  {
   "cell_type": "code",
   "execution_count": 7,
   "metadata": {
    "scrolled": false
   },
   "outputs": [
    {
     "name": "stdout",
     "output_type": "stream",
     "text": [
      "[0.34 0.   0.66] [0.28 0.   0.72] [0.28 0.   0.72]\n",
      "\\begin{tabular}{|c|c|c|c|c|c|c|}\n",
      "\\hline\n",
      "Model &  Normal & Two-Step & Bootstrap & Bootstrap-TIC & Bootstrap-ND & Shi (2015) \\\\ \\hline \\hline\n",
      "No selection & 0.16 & 0.99 & 0.34 & 0.28 & 0.28 & 0.42   \\\\\n",
      "Model 1 & 0.00 & 0.00 & 0.00 & 0.00 & 0.00 & 0.00   \\\\\n",
      "Model 2 & 0.84 & 0.01 & 0.66 & 0.72 & 0.72 & 0.58   \\\\\n",
      "\\hline\n",
      "\\end{tabular}\n",
      "llr:-100.27150407363311, std:25.00261481128177\n",
      "(array([0.16, 0.  , 0.84]), array([0.99, 0.  , 0.01]), array([0.34, 0.  , 0.66]), array([0.28, 0.  , 0.72]), array([0.28, 0.  , 0.72]), array([0.42, 0.  , 0.58]), -100.27150407363311, 25.00261481128177, 26.241800961241438)\n"
     ]
    }
   ],
   "source": [
    "setup_shi_ex  = lambda yn,xn: setup_shi(yn,xn,num_params=num_params)\n",
    "gen_data_ex = lambda : gen_data2(nobs=100, beta =beta)\n",
    "mc_out = vuong_tests4.monte_carlo(100,gen_data_ex,setup_shi,trials=100)\n",
    "vuong_tests4.print_mc(mc_out)\n",
    "print(mc_out)"
   ]
  },
  {
   "cell_type": "code",
   "execution_count": 8,
   "metadata": {},
   "outputs": [
    {
     "name": "stdout",
     "output_type": "stream",
     "text": [
      "[0.01 0.   0.99] [0.01 0.   0.99] [0.01 0.   0.99]\n",
      "\\begin{tabular}{|c|c|c|c|c|c|c|}\n",
      "\\hline\n",
      "Model &  Normal & Two-Step & Bootstrap & Bootstrap-TIC & Bootstrap-ND & Shi (2015) \\\\ \\hline \\hline\n",
      "No selection & 0.00 & 0.91 & 0.01 & 0.01 & 0.01 & 0.10   \\\\\n",
      "Model 1 & 0.00 & 0.00 & 0.00 & 0.00 & 0.00 & 0.00   \\\\\n",
      "Model 2 & 1.00 & 0.09 & 0.99 & 0.99 & 0.99 & 0.90   \\\\\n",
      "\\hline\n",
      "\\end{tabular}\n",
      "llr:-265.041540504786, std:25.536501123166914\n",
      "(array([0., 0., 1.]), array([0.91, 0.  , 0.09]), array([0.01, 0.  , 0.99]), array([0.01, 0.  , 0.99]), array([0.01, 0.  , 0.99]), array([0.1, 0. , 0.9]), -265.041540504786, 25.536501123166914, 32.59128941386266)\n"
     ]
    }
   ],
   "source": [
    "setup_shi_ex  = lambda yn,xn: setup_shi(yn,xn,num_params=num_params)\n",
    "gen_data_ex = lambda : gen_data2(nobs=250, beta =beta)\n",
    "mc_out = vuong_tests4.monte_carlo(100,gen_data_ex,setup_shi,trials=100)\n",
    "vuong_tests4.print_mc(mc_out)\n",
    "print(mc_out)"
   ]
  },
  {
   "cell_type": "code",
   "execution_count": 9,
   "metadata": {},
   "outputs": [
    {
     "name": "stdout",
     "output_type": "stream",
     "text": [
      "[0. 0. 1.] [0. 0. 1.] [0. 0. 1.]\n",
      "\\begin{tabular}{|c|c|c|c|c|c|c|}\n",
      "\\hline\n",
      "Model &  Normal & Two-Step & Bootstrap & Bootstrap-TIC & Bootstrap-ND & Shi (2015) \\\\ \\hline \\hline\n",
      "No selection & 0.00 & 0.88 & 0.00 & 0.00 & 0.00 & 0.01   \\\\\n",
      "Model 1 & 0.00 & 0.00 & 0.00 & 0.00 & 0.00 & 0.00   \\\\\n",
      "Model 2 & 1.00 & 0.12 & 1.00 & 1.00 & 1.00 & 0.99   \\\\\n",
      "\\hline\n",
      "\\end{tabular}\n",
      "llr:-552.707183082735, std:39.214801181147365\n",
      "(array([0., 0., 1.]), array([0.88, 0.  , 0.12]), array([0., 0., 1.]), array([0., 0., 1.]), array([0., 0., 1.]), array([0.01, 0.  , 0.99]), -552.707183082735, 39.214801181147365, 40.94219557568034)\n"
     ]
    }
   ],
   "source": [
    "setup_shi_ex  = lambda yn,xn: setup_shi(yn,xn,num_params=num_params)\n",
    "gen_data_ex = lambda : gen_data2(nobs=500, beta =beta)\n",
    "mc_out = vuong_tests4.monte_carlo(100,gen_data_ex,setup_shi)\n",
    "vuong_tests4.print_mc(mc_out)\n",
    "print(mc_out)"
   ]
  },
  {
   "cell_type": "code",
   "execution_count": null,
   "metadata": {},
   "outputs": [],
   "source": []
  },
  {
   "cell_type": "code",
   "execution_count": null,
   "metadata": {},
   "outputs": [],
   "source": []
  },
  {
   "cell_type": "code",
   "execution_count": null,
   "metadata": {},
   "outputs": [],
   "source": []
  }
 ],
 "metadata": {
  "kernelspec": {
   "display_name": "Python 3",
   "language": "python",
   "name": "python3"
  },
  "language_info": {
   "codemirror_mode": {
    "name": "ipython",
    "version": 3
   },
   "file_extension": ".py",
   "mimetype": "text/x-python",
   "name": "python",
   "nbconvert_exporter": "python",
   "pygments_lexer": "ipython3",
   "version": "3.8.8"
  }
 },
 "nbformat": 4,
 "nbformat_minor": 2
}
