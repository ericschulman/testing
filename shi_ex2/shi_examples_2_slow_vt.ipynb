{
 "cells": [
  {
   "cell_type": "code",
   "execution_count": 1,
   "metadata": {},
   "outputs": [],
   "source": [
    "%load_ext autoreload\n",
    "%autoreload 2\n",
    "\n",
    "from statsmodels.base.model import GenericLikelihoodModel\n",
    "\n",
    "import numpy as np\n",
    "import matplotlib.pyplot as plt\n",
    "import statsmodels.api as sm\n",
    "import scipy.stats as stats\n",
    "import sys\n",
    "\n",
    "from scipy.stats import multivariate_normal\n",
    "\n",
    "sys.path.append(\"../\")\n",
    "import vuong_tests4"
   ]
  },
  {
   "cell_type": "code",
   "execution_count": 2,
   "metadata": {},
   "outputs": [
    {
     "name": "stdout",
     "output_type": "stream",
     "text": [
      "(1000, 1) (1, 1)\n"
     ]
    }
   ],
   "source": [
    "class JointNormal1(GenericLikelihoodModel):\n",
    "    \n",
    "    def loglikeobs(self, params):\n",
    "        data = np.concatenate([[self.endog],self.exog.transpose()],axis=0)\n",
    "        mult_rv = stats.multivariate_normal([params[0], 0.0], [[1,0],[0,1]])\n",
    "        return mult_rv.logpdf(data.transpose())\n",
    "    \n",
    "    \n",
    "class JointNormal2(GenericLikelihoodModel):\n",
    "    \n",
    "    def loglikeobs(self, params):\n",
    "        data = np.concatenate([[self.endog],self.exog.transpose()],axis=0)\n",
    "        mult_rv = stats.multivariate_normal([0.0, params[0]], [[1,0],[0,1]])\n",
    "        return mult_rv.logpdf(data.transpose())\n",
    "\n",
    "\n",
    "def setup_shi(yn,xn,return_model=False):\n",
    "    # model 1 grad, etc.\n",
    "    nobs = yn.shape[0]\n",
    "    model1_param = np.array([yn.mean()])\n",
    "    model2_param = np.array([xn.mean()])\n",
    "    \n",
    "    model1_deriv = JointNormal1(yn,xn)\n",
    "    ll1 = model1_deriv.loglikeobs(model1_param)\n",
    "    grad1 =  model1_deriv.score_obs(model1_param).reshape( (nobs,1) )\n",
    "    hess1 = model1_deriv.hessian(model1_param)\n",
    "    \n",
    "    \n",
    "    model2_deriv = JointNormal2(yn,xn)\n",
    "    ll2 = model2_deriv.loglikeobs(model2_param)\n",
    "    grad2 =  model2_deriv.score_obs(model2_param).reshape( (nobs,1) )  \n",
    "    hess2 = model2_deriv.hessian(model2_param)\n",
    "    if return_model:\n",
    "        return ll1,grad1,hess1,params1,model1_deriv,ll2,grad2,hess2,params2,model2_deriv\n",
    "    return ll1,grad1,hess1,model1_param,ll2,grad2,hess2,model2_param\n",
    "\n",
    "def gen_data(beta= 1.5, nobs=1000):\n",
    "    cov = [[25, 0], [0, 1]]\n",
    "    data = np.random.multivariate_normal([beta,beta], [[25,0],[0,1]],  nobs)\n",
    "    return data[:,0],data[:,1],nobs\n",
    "\n",
    "yn,xn,nobs = gen_data()\n",
    "ll1,grad1,hess1,params1,ll2,grad2,hess2,params2 = setup_shi(yn,xn)\n",
    "print(grad1.shape,hess1.shape)"
   ]
  },
  {
   "cell_type": "markdown",
   "metadata": {},
   "source": [
    "# Ex 0"
   ]
  },
  {
   "cell_type": "code",
   "execution_count": 3,
   "metadata": {},
   "outputs": [],
   "source": [
    "beta = 0"
   ]
  },
  {
   "cell_type": "code",
   "execution_count": 4,
   "metadata": {
    "scrolled": false
   },
   "outputs": [
    {
     "name": "stdout",
     "output_type": "stream",
     "text": [
      "\\begin{tabular}{|c|c|c|c|c|}\n",
      "\\hline\n",
      "Model &  Normal & Bootstrap & Bootstrap-pt & Shi (2015) \\\\ \\hline \\hline\n",
      "No selection & 1.00 & 1.00 & 1.00 & 0.93   \\\\\n",
      "Model 1 & 0.00 & 0.00 & 0.00 & 0.00   \\\\\n",
      "Model 2 & 0.00 & 0.00 & 0.00 & 0.07   \\\\\n",
      "\\hline\n",
      "\\end{tabular}\n",
      "\n",
      "\n",
      "llr:11.964985792034032, std:14.812805706405651\n",
      "(array([1., 0., 0.]), array([1., 0., 0.]), array([1., 0., 0.]), array([0.93, 0.  , 0.07]), 11.964985792034032, 14.812805706405651)\n"
     ]
    }
   ],
   "source": [
    "setup_shi_ex  = lambda yn,xn: setup_shi(yn,xn,num_params=num_params)\n",
    "gen_data_ex = lambda : gen_data(nobs=250, beta =beta)\n",
    "mc_out = vuong_tests4.monte_carlo(100,gen_data_ex,setup_shi,trials=100)\n",
    "vuong_tests4.print_mc(mc_out)\n",
    "print(mc_out)"
   ]
  },
  {
   "cell_type": "code",
   "execution_count": 5,
   "metadata": {},
   "outputs": [
    {
     "name": "stdout",
     "output_type": "stream",
     "text": [
      "\\begin{tabular}{|c|c|c|c|c|}\n",
      "\\hline\n",
      "Model &  Normal & Bootstrap & Bootstrap-pt & Shi (2015) \\\\ \\hline \\hline\n",
      "No selection & 1.00 & 1.00 & 1.00 & 0.93   \\\\\n",
      "Model 1 & 0.00 & 0.00 & 0.00 & 0.00   \\\\\n",
      "Model 2 & 0.00 & 0.00 & 0.00 & 0.07   \\\\\n",
      "\\hline\n",
      "\\end{tabular}\n",
      "\n",
      "\n",
      "llr:10.938029606123743, std:13.882112776178756\n",
      "(array([1., 0., 0.]), array([1., 0., 0.]), array([1., 0., 0.]), array([0.93, 0.  , 0.07]), 10.938029606123743, 13.882112776178756)\n"
     ]
    }
   ],
   "source": [
    "setup_shi_ex  = lambda yn,xn: setup_shi(yn,xn,num_params=num_params)\n",
    "gen_data_ex = lambda : gen_data(nobs=500, beta =beta)\n",
    "mc_out = vuong_tests4.monte_carlo(100,gen_data_ex,setup_shi,trials=100)\n",
    "vuong_tests4.print_mc(mc_out)\n",
    "print(mc_out)"
   ]
  },
  {
   "cell_type": "code",
   "execution_count": 6,
   "metadata": {},
   "outputs": [
    {
     "name": "stdout",
     "output_type": "stream",
     "text": [
      "\\begin{tabular}{|c|c|c|c|c|}\n",
      "\\hline\n",
      "Model &  Normal & Bootstrap & Bootstrap-pt & Shi (2015) \\\\ \\hline \\hline\n",
      "No selection & 1.00 & 1.00 & 1.00 & 0.88   \\\\\n",
      "Model 1 & 0.00 & 0.00 & 0.00 & 0.00   \\\\\n",
      "Model 2 & 0.00 & 0.00 & 0.00 & 0.12   \\\\\n",
      "\\hline\n",
      "\\end{tabular}\n",
      "\n",
      "\n",
      "llr:13.21449947001443, std:18.444143258948955\n",
      "(array([1., 0., 0.]), array([1., 0., 0.]), array([1., 0., 0.]), array([0.88, 0.  , 0.12]), 13.21449947001443, 18.444143258948955)\n"
     ]
    }
   ],
   "source": [
    "setup_shi_ex  = lambda yn,xn: setup_shi(yn,xn,num_params=num_params)\n",
    "gen_data_ex = lambda : gen_data(nobs=1000, beta =beta)\n",
    "mc_out = vuong_tests4.monte_carlo(100,gen_data_ex,setup_shi)\n",
    "vuong_tests4.print_mc(mc_out)\n",
    "print(mc_out)"
   ]
  },
  {
   "cell_type": "markdown",
   "metadata": {},
   "source": [
    "# Ex 1"
   ]
  },
  {
   "cell_type": "code",
   "execution_count": 7,
   "metadata": {},
   "outputs": [],
   "source": [
    "beta = 1"
   ]
  },
  {
   "cell_type": "code",
   "execution_count": 8,
   "metadata": {
    "scrolled": true
   },
   "outputs": [
    {
     "name": "stdout",
     "output_type": "stream",
     "text": [
      "\\begin{tabular}{|c|c|c|c|c|}\n",
      "\\hline\n",
      "Model &  Normal & Bootstrap & Bootstrap-pt & Shi (2015) \\\\ \\hline \\hline\n",
      "No selection & 0.94 & 1.00 & 1.00 & 0.99   \\\\\n",
      "Model 1 & 0.00 & 0.00 & 0.00 & 0.00   \\\\\n",
      "Model 2 & 0.06 & 0.00 & 0.00 & 0.01   \\\\\n",
      "\\hline\n",
      "\\end{tabular}\n",
      "\n",
      "\n",
      "llr:8.105813560160879, std:80.80301554670088\n",
      "(array([0.94, 0.  , 0.06]), array([1., 0., 0.]), array([1., 0., 0.]), array([0.99, 0.  , 0.01]), 8.105813560160879, 80.80301554670088)\n"
     ]
    }
   ],
   "source": [
    "setup_shi_ex  = lambda yn,xn: setup_shi(yn,xn,num_params=num_params)\n",
    "gen_data_ex = lambda : gen_data(nobs=250, beta =beta)\n",
    "mc_out = vuong_tests4.monte_carlo(100,gen_data_ex,setup_shi,trials=100)\n",
    "vuong_tests4.print_mc(mc_out)\n",
    "print(mc_out)"
   ]
  },
  {
   "cell_type": "code",
   "execution_count": 9,
   "metadata": {},
   "outputs": [
    {
     "name": "stdout",
     "output_type": "stream",
     "text": [
      "\\begin{tabular}{|c|c|c|c|c|}\n",
      "\\hline\n",
      "Model &  Normal & Bootstrap & Bootstrap-pt & Shi (2015) \\\\ \\hline \\hline\n",
      "No selection & 0.86 & 1.00 & 1.00 & 0.97   \\\\\n",
      "Model 1 & 0.04 & 0.00 & 0.00 & 0.00   \\\\\n",
      "Model 2 & 0.10 & 0.00 & 0.00 & 0.03   \\\\\n",
      "\\hline\n",
      "\\end{tabular}\n",
      "\n",
      "\n",
      "llr:3.928195632839141, std:132.27784607732895\n",
      "(array([0.86, 0.04, 0.1 ]), array([1., 0., 0.]), array([1., 0., 0.]), array([0.97, 0.  , 0.03]), 3.928195632839141, 132.27784607732895)\n"
     ]
    }
   ],
   "source": [
    "setup_shi_ex  = lambda yn,xn: setup_shi(yn,xn,num_params=num_params)\n",
    "gen_data_ex = lambda : gen_data(nobs=500, beta =beta)\n",
    "mc_out = vuong_tests4.monte_carlo(100,gen_data_ex,setup_shi,trials=100)\n",
    "vuong_tests4.print_mc(mc_out)\n",
    "print(mc_out)"
   ]
  },
  {
   "cell_type": "code",
   "execution_count": 10,
   "metadata": {},
   "outputs": [
    {
     "name": "stdout",
     "output_type": "stream",
     "text": [
      "\\begin{tabular}{|c|c|c|c|c|}\n",
      "\\hline\n",
      "Model &  Normal & Bootstrap & Bootstrap-pt & Shi (2015) \\\\ \\hline \\hline\n",
      "No selection & 0.97 & 1.00 & 1.00 & 1.00   \\\\\n",
      "Model 1 & 0.00 & 0.00 & 0.00 & 0.00   \\\\\n",
      "Model 2 & 0.03 & 0.00 & 0.00 & 0.00   \\\\\n",
      "\\hline\n",
      "\\end{tabular}\n",
      "\n",
      "\n",
      "llr:29.017056512445187, std:149.71862043117662\n",
      "(array([0.97, 0.  , 0.03]), array([1., 0., 0.]), array([1., 0., 0.]), array([1., 0., 0.]), 29.017056512445187, 149.71862043117662)\n"
     ]
    }
   ],
   "source": [
    "setup_shi_ex  = lambda yn,xn: setup_shi(yn,xn,num_params=num_params)\n",
    "gen_data_ex = lambda : gen_data(nobs=1000, beta =beta)\n",
    "mc_out = vuong_tests4.monte_carlo(100,gen_data_ex,setup_shi)\n",
    "vuong_tests4.print_mc(mc_out)\n",
    "print(mc_out)"
   ]
  },
  {
   "cell_type": "markdown",
   "metadata": {},
   "source": [
    "# Ex 2"
   ]
  },
  {
   "cell_type": "code",
   "execution_count": 11,
   "metadata": {},
   "outputs": [],
   "source": [
    "beta = 1.5"
   ]
  },
  {
   "cell_type": "code",
   "execution_count": 12,
   "metadata": {
    "scrolled": false
   },
   "outputs": [
    {
     "name": "stdout",
     "output_type": "stream",
     "text": [
      "\\begin{tabular}{|c|c|c|c|c|}\n",
      "\\hline\n",
      "Model &  Normal & Bootstrap & Bootstrap-pt & Shi (2015) \\\\ \\hline \\hline\n",
      "No selection & 0.95 & 1.00 & 1.00 & 0.98   \\\\\n",
      "Model 1 & 0.00 & 0.00 & 0.00 & 0.00   \\\\\n",
      "Model 2 & 0.05 & 0.00 & 0.00 & 0.02   \\\\\n",
      "\\hline\n",
      "\\end{tabular}\n",
      "\n",
      "\n",
      "llr:-2.2561635383449805, std:111.44553128718462\n",
      "(array([0.95, 0.  , 0.05]), array([1., 0., 0.]), array([1., 0., 0.]), array([0.98, 0.  , 0.02]), -2.2561635383449805, 111.44553128718462)\n"
     ]
    }
   ],
   "source": [
    "setup_shi_ex  = lambda yn,xn: setup_shi(yn,xn,num_params=num_params)\n",
    "gen_data_ex = lambda : gen_data(nobs=250, beta =beta)\n",
    "mc_out = vuong_tests4.monte_carlo(100,gen_data_ex,setup_shi,trials=100)\n",
    "vuong_tests4.print_mc(mc_out)\n",
    "print(mc_out)"
   ]
  },
  {
   "cell_type": "code",
   "execution_count": 13,
   "metadata": {},
   "outputs": [
    {
     "name": "stdout",
     "output_type": "stream",
     "text": [
      "\\begin{tabular}{|c|c|c|c|c|}\n",
      "\\hline\n",
      "Model &  Normal & Bootstrap & Bootstrap-pt & Shi (2015) \\\\ \\hline \\hline\n",
      "No selection & 0.91 & 1.00 & 1.00 & 1.00   \\\\\n",
      "Model 1 & 0.02 & 0.00 & 0.00 & 0.00   \\\\\n",
      "Model 2 & 0.07 & 0.00 & 0.00 & 0.00   \\\\\n",
      "\\hline\n",
      "\\end{tabular}\n",
      "\n",
      "\n",
      "llr:-0.3872782636335856, std:163.70024189884464\n",
      "(array([0.91, 0.02, 0.07]), array([1., 0., 0.]), array([1., 0., 0.]), array([1., 0., 0.]), -0.3872782636335856, 163.70024189884464)\n"
     ]
    }
   ],
   "source": [
    "setup_shi_ex  = lambda yn,xn: setup_shi(yn,xn,num_params=num_params)\n",
    "gen_data_ex = lambda : gen_data(nobs=500, beta =beta)\n",
    "mc_out = vuong_tests4.monte_carlo(100,gen_data_ex,setup_shi,trials=100)\n",
    "vuong_tests4.print_mc(mc_out)\n",
    "print(mc_out)"
   ]
  },
  {
   "cell_type": "code",
   "execution_count": 14,
   "metadata": {},
   "outputs": [
    {
     "name": "stdout",
     "output_type": "stream",
     "text": [
      "\\begin{tabular}{|c|c|c|c|c|}\n",
      "\\hline\n",
      "Model &  Normal & Bootstrap & Bootstrap-pt & Shi (2015) \\\\ \\hline \\hline\n",
      "No selection & 0.91 & 1.00 & 1.00 & 0.99   \\\\\n",
      "Model 1 & 0.01 & 0.00 & 0.00 & 0.00   \\\\\n",
      "Model 2 & 0.08 & 0.00 & 0.00 & 0.01   \\\\\n",
      "\\hline\n",
      "\\end{tabular}\n",
      "\n",
      "\n",
      "llr:-56.54497515781677, std:254.58569605196155\n",
      "(array([0.91, 0.01, 0.08]), array([1., 0., 0.]), array([1., 0., 0.]), array([0.99, 0.  , 0.01]), -56.54497515781677, 254.58569605196155)\n"
     ]
    }
   ],
   "source": [
    "setup_shi_ex  = lambda yn,xn: setup_shi(yn,xn,num_params=num_params)\n",
    "gen_data_ex = lambda : gen_data(nobs=1000, beta =beta)\n",
    "mc_out = vuong_tests4.monte_carlo(100,gen_data_ex,setup_shi)\n",
    "vuong_tests4.print_mc(mc_out)\n",
    "print(mc_out)"
   ]
  },
  {
   "cell_type": "markdown",
   "metadata": {},
   "source": [
    "# Ex 3"
   ]
  },
  {
   "cell_type": "code",
   "execution_count": 15,
   "metadata": {},
   "outputs": [],
   "source": [
    "beta = 2"
   ]
  },
  {
   "cell_type": "code",
   "execution_count": 16,
   "metadata": {},
   "outputs": [
    {
     "name": "stdout",
     "output_type": "stream",
     "text": [
      "\\begin{tabular}{|c|c|c|c|c|}\n",
      "\\hline\n",
      "Model &  Normal & Bootstrap & Bootstrap-pt & Shi (2015) \\\\ \\hline \\hline\n",
      "No selection & 0.94 & 1.00 & 1.00 & 1.00   \\\\\n",
      "Model 1 & 0.03 & 0.00 & 0.00 & 0.00   \\\\\n",
      "Model 2 & 0.03 & 0.00 & 0.00 & 0.00   \\\\\n",
      "\\hline\n",
      "\\end{tabular}\n",
      "\n",
      "\n",
      "llr:26.332021534521196, std:172.46182590578883\n",
      "(array([0.94, 0.03, 0.03]), array([1., 0., 0.]), array([1., 0., 0.]), array([1., 0., 0.]), 26.332021534521196, 172.46182590578883)\n"
     ]
    }
   ],
   "source": [
    "setup_shi_ex  = lambda yn,xn: setup_shi(yn,xn,num_params=num_params)\n",
    "gen_data_ex = lambda : gen_data(nobs=250, beta =beta)\n",
    "mc_out = vuong_tests4.monte_carlo(100,gen_data_ex,setup_shi,trials=100)\n",
    "vuong_tests4.print_mc(mc_out)\n",
    "print(mc_out)"
   ]
  },
  {
   "cell_type": "code",
   "execution_count": 17,
   "metadata": {},
   "outputs": [
    {
     "name": "stdout",
     "output_type": "stream",
     "text": [
      "\\begin{tabular}{|c|c|c|c|c|}\n",
      "\\hline\n",
      "Model &  Normal & Bootstrap & Bootstrap-pt & Shi (2015) \\\\ \\hline \\hline\n",
      "No selection & 0.96 & 1.00 & 1.00 & 1.00   \\\\\n",
      "Model 1 & 0.02 & 0.00 & 0.00 & 0.00   \\\\\n",
      "Model 2 & 0.02 & 0.00 & 0.00 & 0.00   \\\\\n",
      "\\hline\n",
      "\\end{tabular}\n",
      "\n",
      "\n",
      "llr:51.97533337125933, std:223.36285745437416\n",
      "(array([0.96, 0.02, 0.02]), array([1., 0., 0.]), array([1., 0., 0.]), array([1., 0., 0.]), 51.97533337125933, 223.36285745437416)\n"
     ]
    }
   ],
   "source": [
    "setup_shi_ex  = lambda yn,xn: setup_shi(yn,xn,num_params=num_params)\n",
    "gen_data_ex = lambda : gen_data(nobs=500, beta =beta)\n",
    "mc_out = vuong_tests4.monte_carlo(100,gen_data_ex,setup_shi,trials=100)\n",
    "vuong_tests4.print_mc(mc_out)\n",
    "print(mc_out)"
   ]
  },
  {
   "cell_type": "code",
   "execution_count": 18,
   "metadata": {},
   "outputs": [
    {
     "name": "stdout",
     "output_type": "stream",
     "text": [
      "\\begin{tabular}{|c|c|c|c|c|}\n",
      "\\hline\n",
      "Model &  Normal & Bootstrap & Bootstrap-pt & Shi (2015) \\\\ \\hline \\hline\n",
      "No selection & 0.96 & 1.00 & 1.00 & 1.00   \\\\\n",
      "Model 1 & 0.01 & 0.00 & 0.00 & 0.00   \\\\\n",
      "Model 2 & 0.03 & 0.00 & 0.00 & 0.00   \\\\\n",
      "\\hline\n",
      "\\end{tabular}\n",
      "\n",
      "\n",
      "llr:17.785289103229253, std:296.45988840500695\n",
      "(array([0.96, 0.01, 0.03]), array([1., 0., 0.]), array([1., 0., 0.]), array([1., 0., 0.]), 17.785289103229253, 296.45988840500695)\n"
     ]
    }
   ],
   "source": [
    "setup_shi_ex  = lambda yn,xn: setup_shi(yn,xn,num_params=num_params)\n",
    "gen_data_ex = lambda : gen_data(nobs=1000, beta =beta)\n",
    "mc_out = vuong_tests4.monte_carlo(100,gen_data_ex,setup_shi)\n",
    "vuong_tests4.print_mc(mc_out)\n",
    "print(mc_out)"
   ]
  },
  {
   "cell_type": "code",
   "execution_count": null,
   "metadata": {},
   "outputs": [],
   "source": []
  },
  {
   "cell_type": "code",
   "execution_count": null,
   "metadata": {},
   "outputs": [],
   "source": []
  },
  {
   "cell_type": "code",
   "execution_count": null,
   "metadata": {},
   "outputs": [],
   "source": []
  }
 ],
 "metadata": {
  "kernelspec": {
   "display_name": "Python 3",
   "language": "python",
   "name": "python3"
  },
  "language_info": {
   "codemirror_mode": {
    "name": "ipython",
    "version": 3
   },
   "file_extension": ".py",
   "mimetype": "text/x-python",
   "name": "python",
   "nbconvert_exporter": "python",
   "pygments_lexer": "ipython3",
   "version": "3.8.8"
  }
 },
 "nbformat": 4,
 "nbformat_minor": 2
}
