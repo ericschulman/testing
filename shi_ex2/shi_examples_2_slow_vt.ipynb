{
 "cells": [
  {
   "cell_type": "code",
   "execution_count": 1,
   "metadata": {},
   "outputs": [],
   "source": [
    "%load_ext autoreload\n",
    "%autoreload 2\n",
    "\n",
    "from statsmodels.base.model import GenericLikelihoodModel\n",
    "\n",
    "import numpy as np\n",
    "import matplotlib.pyplot as plt\n",
    "import statsmodels.api as sm\n",
    "import scipy.stats as stats\n",
    "import sys\n",
    "\n",
    "from scipy.stats import multivariate_normal\n",
    "\n",
    "sys.path.append(\"../\")\n",
    "import vuong_tests4"
   ]
  },
  {
   "cell_type": "code",
   "execution_count": 2,
   "metadata": {},
   "outputs": [
    {
     "name": "stdout",
     "output_type": "stream",
     "text": [
      "(1000, 1) (1, 1)\n"
     ]
    }
   ],
   "source": [
    "class JointNormal1(GenericLikelihoodModel):\n",
    "    \n",
    "    def loglikeobs(self, params):\n",
    "        data = np.concatenate([[self.endog],self.exog.transpose()],axis=0)\n",
    "        mult_rv = stats.multivariate_normal([params[0], 0.0], [[1,0],[0,1]])\n",
    "        return mult_rv.logpdf(data.transpose())\n",
    "    \n",
    "    \n",
    "class JointNormal2(GenericLikelihoodModel):\n",
    "    \n",
    "    def loglikeobs(self, params):\n",
    "        data = np.concatenate([[self.endog],self.exog.transpose()],axis=0)\n",
    "        mult_rv = stats.multivariate_normal([0.0, params[0]], [[1,0],[0,1]])\n",
    "        return mult_rv.logpdf(data.transpose())\n",
    "\n",
    "\n",
    "def setup_shi(yn,xn,return_model=False):\n",
    "    # model 1 grad, etc.\n",
    "    nobs = yn.shape[0]\n",
    "    model1_param = np.array([yn.mean()])\n",
    "    model2_param = np.array([xn.mean()])\n",
    "    \n",
    "    model1_deriv = JointNormal1(yn,xn)\n",
    "    ll1 = model1_deriv.loglikeobs(model1_param)\n",
    "    grad1 =  model1_deriv.score_obs(model1_param).reshape( (nobs,1) )\n",
    "    hess1 = model1_deriv.hessian(model1_param)\n",
    "    \n",
    "    \n",
    "    model2_deriv = JointNormal2(yn,xn)\n",
    "    ll2 = model2_deriv.loglikeobs(model2_param)\n",
    "    grad2 =  model2_deriv.score_obs(model2_param).reshape( (nobs,1) )  \n",
    "    hess2 = model2_deriv.hessian(model2_param)\n",
    "    if return_model:\n",
    "        return ll1,grad1,hess1,params1,model1_deriv,ll2,grad2,hess2,params2,model2_deriv\n",
    "    return ll1,grad1,hess1,model1_param,ll2,grad2,hess2,model2_param\n",
    "\n",
    "def gen_data(beta= 1.5, nobs=1000):\n",
    "    cov = [[25, 0], [0, 1]]\n",
    "    data = np.random.multivariate_normal([beta,beta], [[25,0],[0,1]],  nobs)\n",
    "    return data[:,0],data[:,1],nobs\n",
    "\n",
    "yn,xn,nobs = gen_data()\n",
    "ll1,grad1,hess1,params1,ll2,grad2,hess2,params2 = setup_shi(yn,xn)\n",
    "print(grad1.shape,hess1.shape)"
   ]
  },
  {
   "cell_type": "markdown",
   "metadata": {},
   "source": [
    "# Ex 0"
   ]
  },
  {
   "cell_type": "code",
   "execution_count": 3,
   "metadata": {},
   "outputs": [],
   "source": [
    "beta = 0"
   ]
  },
  {
   "cell_type": "code",
   "execution_count": 4,
   "metadata": {
    "scrolled": false
   },
   "outputs": [
    {
     "name": "stdout",
     "output_type": "stream",
     "text": [
      "\\begin{tabular}{|c|c|c|c|c|}\n",
      "\\hline\n",
      "Model &  Normal & Two-Step & Bootstrap & Shi (2015) \\\\ \\hline \\hline\n",
      "No selection & 1.00 & 1.00 & 1.00 & 0.86   \\\\\n",
      "Model 1 & 0.00 & 0.00 & 0.00 & 0.00   \\\\\n",
      "Model 2 & 0.00 & 0.00 & 0.00 & 0.14   \\\\\n",
      "\\hline\n",
      "\\end{tabular}\n",
      "\n",
      "\n",
      "llr:14.690931031021915, std:24.58700473506957\n",
      "(array([1., 0., 0.]), array([1., 0., 0.]), array([1., 0., 0.]), array([0.86, 0.  , 0.14]), 14.690931031021915, 24.58700473506957, 21.376547039268093)\n"
     ]
    }
   ],
   "source": [
    "setup_shi_ex  = lambda yn,xn: setup_shi(yn,xn,num_params=num_params)\n",
    "gen_data_ex = lambda : gen_data(nobs=250, beta =beta)\n",
    "mc_out = vuong_tests4.monte_carlo(100,gen_data_ex,setup_shi,trials=100)\n",
    "vuong_tests4.print_mc(mc_out)\n",
    "print(mc_out)"
   ]
  },
  {
   "cell_type": "code",
   "execution_count": 5,
   "metadata": {},
   "outputs": [
    {
     "name": "stdout",
     "output_type": "stream",
     "text": [
      "\\begin{tabular}{|c|c|c|c|c|}\n",
      "\\hline\n",
      "Model &  Normal & Two-Step & Bootstrap & Shi (2015) \\\\ \\hline \\hline\n",
      "No selection & 1.00 & 1.00 & 1.00 & 0.89   \\\\\n",
      "Model 1 & 0.00 & 0.00 & 0.00 & 0.00   \\\\\n",
      "Model 2 & 0.00 & 0.00 & 0.00 & 0.11   \\\\\n",
      "\\hline\n",
      "\\end{tabular}\n",
      "\n",
      "\n",
      "llr:10.49140090522493, std:15.833784524710307\n",
      "(array([1., 0., 0.]), array([1., 0., 0.]), array([1., 0., 0.]), array([0.89, 0.  , 0.11]), 10.49140090522493, 15.833784524710307, 18.161801840352737)\n"
     ]
    }
   ],
   "source": [
    "setup_shi_ex  = lambda yn,xn: setup_shi(yn,xn,num_params=num_params)\n",
    "gen_data_ex = lambda : gen_data(nobs=500, beta =beta)\n",
    "mc_out = vuong_tests4.monte_carlo(100,gen_data_ex,setup_shi,trials=100)\n",
    "vuong_tests4.print_mc(mc_out)\n",
    "print(mc_out)"
   ]
  },
  {
   "cell_type": "code",
   "execution_count": 6,
   "metadata": {},
   "outputs": [
    {
     "name": "stdout",
     "output_type": "stream",
     "text": [
      "\\begin{tabular}{|c|c|c|c|c|}\n",
      "\\hline\n",
      "Model &  Normal & Two-Step & Bootstrap & Shi (2015) \\\\ \\hline \\hline\n",
      "No selection & 1.00 & 1.00 & 1.00 & 0.91   \\\\\n",
      "Model 1 & 0.00 & 0.00 & 0.00 & 0.00   \\\\\n",
      "Model 2 & 0.00 & 0.00 & 0.00 & 0.09   \\\\\n",
      "\\hline\n",
      "\\end{tabular}\n",
      "\n",
      "\n",
      "llr:13.293625457723289, std:14.979031849961707\n",
      "(array([1., 0., 0.]), array([1., 0., 0.]), array([1., 0., 0.]), array([0.91, 0.  , 0.09]), 13.293625457723289, 14.979031849961707, 22.089271001614108)\n"
     ]
    }
   ],
   "source": [
    "setup_shi_ex  = lambda yn,xn: setup_shi(yn,xn,num_params=num_params)\n",
    "gen_data_ex = lambda : gen_data(nobs=1000, beta =beta)\n",
    "mc_out = vuong_tests4.monte_carlo(100,gen_data_ex,setup_shi)\n",
    "vuong_tests4.print_mc(mc_out)\n",
    "print(mc_out)"
   ]
  },
  {
   "cell_type": "markdown",
   "metadata": {},
   "source": [
    "# Ex 0.5"
   ]
  },
  {
   "cell_type": "code",
   "execution_count": 7,
   "metadata": {},
   "outputs": [],
   "source": [
    "beta = 0.5"
   ]
  },
  {
   "cell_type": "code",
   "execution_count": 8,
   "metadata": {
    "scrolled": false
   },
   "outputs": [
    {
     "name": "stdout",
     "output_type": "stream",
     "text": [
      "\\begin{tabular}{|c|c|c|c|c|}\n",
      "\\hline\n",
      "Model &  Normal & Two-Step & Bootstrap & Shi (2015) \\\\ \\hline \\hline\n",
      "No selection & 0.87 & 0.87 & 1.00 & 0.93   \\\\\n",
      "Model 1 & 0.00 & 0.00 & 0.00 & 0.00   \\\\\n",
      "Model 2 & 0.13 & 0.13 & 0.00 & 0.07   \\\\\n",
      "\\hline\n",
      "\\end{tabular}\n",
      "\n",
      "\n",
      "llr:15.88910930674508, std:44.3938772996187\n",
      "(array([0.87, 0.  , 0.13]), array([0.87, 0.  , 0.13]), array([1., 0., 0.]), array([0.93, 0.  , 0.07]), 15.88910930674508, 44.3938772996187, 43.77484335412522)\n"
     ]
    }
   ],
   "source": [
    "setup_shi_ex  = lambda yn,xn: setup_shi(yn,xn,num_params=num_params)\n",
    "gen_data_ex = lambda : gen_data(nobs=250, beta =beta)\n",
    "mc_out = vuong_tests4.monte_carlo(100,gen_data_ex,setup_shi,trials=100)\n",
    "vuong_tests4.print_mc(mc_out)\n",
    "print(mc_out)"
   ]
  },
  {
   "cell_type": "code",
   "execution_count": 9,
   "metadata": {},
   "outputs": [
    {
     "name": "stdout",
     "output_type": "stream",
     "text": [
      "\\begin{tabular}{|c|c|c|c|c|}\n",
      "\\hline\n",
      "Model &  Normal & Two-Step & Bootstrap & Shi (2015) \\\\ \\hline \\hline\n",
      "No selection & 0.88 & 0.88 & 1.00 & 0.97   \\\\\n",
      "Model 1 & 0.00 & 0.00 & 0.00 & 0.00   \\\\\n",
      "Model 2 & 0.12 & 0.12 & 0.00 & 0.03   \\\\\n",
      "\\hline\n",
      "\\end{tabular}\n",
      "\n",
      "\n",
      "llr:13.965340742259537, std:53.7396839128556\n",
      "(array([0.88, 0.  , 0.12]), array([0.88, 0.  , 0.12]), array([1., 0., 0.]), array([0.97, 0.  , 0.03]), 13.965340742259537, 53.7396839128556, 58.69551744108898)\n"
     ]
    }
   ],
   "source": [
    "setup_shi_ex  = lambda yn,xn: setup_shi(yn,xn,num_params=num_params)\n",
    "gen_data_ex = lambda : gen_data(nobs=500, beta =beta)\n",
    "mc_out = vuong_tests4.monte_carlo(100,gen_data_ex,setup_shi,trials=100)\n",
    "vuong_tests4.print_mc(mc_out)\n",
    "print(mc_out)"
   ]
  },
  {
   "cell_type": "code",
   "execution_count": 10,
   "metadata": {},
   "outputs": [
    {
     "name": "stdout",
     "output_type": "stream",
     "text": [
      "\\begin{tabular}{|c|c|c|c|c|}\n",
      "\\hline\n",
      "Model &  Normal & Two-Step & Bootstrap & Shi (2015) \\\\ \\hline \\hline\n",
      "No selection & 0.90 & 0.90 & 1.00 & 1.00   \\\\\n",
      "Model 1 & 0.00 & 0.00 & 0.00 & 0.00   \\\\\n",
      "Model 2 & 0.10 & 0.10 & 0.00 & 0.00   \\\\\n",
      "\\hline\n",
      "\\end{tabular}\n",
      "\n",
      "\n",
      "llr:9.14333255021056, std:85.54558953250204\n",
      "(array([0.9, 0. , 0.1]), array([0.9, 0. , 0.1]), array([1., 0., 0.]), array([1., 0., 0.]), 9.14333255021056, 85.54558953250204, 79.27972581195046)\n"
     ]
    }
   ],
   "source": [
    "setup_shi_ex  = lambda yn,xn: setup_shi(yn,xn,num_params=num_params)\n",
    "gen_data_ex = lambda : gen_data(nobs=1000, beta =beta)\n",
    "mc_out = vuong_tests4.monte_carlo(100,gen_data_ex,setup_shi)\n",
    "vuong_tests4.print_mc(mc_out)\n",
    "print(mc_out)"
   ]
  },
  {
   "cell_type": "markdown",
   "metadata": {},
   "source": [
    "# Ex 1"
   ]
  },
  {
   "cell_type": "code",
   "execution_count": 11,
   "metadata": {},
   "outputs": [],
   "source": [
    "beta = 1"
   ]
  },
  {
   "cell_type": "code",
   "execution_count": 12,
   "metadata": {
    "scrolled": true
   },
   "outputs": [
    {
     "name": "stdout",
     "output_type": "stream",
     "text": [
      "\\begin{tabular}{|c|c|c|c|c|}\n",
      "\\hline\n",
      "Model &  Normal & Two-Step & Bootstrap & Shi (2015) \\\\ \\hline \\hline\n",
      "No selection & 0.94 & 0.94 & 1.00 & 0.99   \\\\\n",
      "Model 1 & 0.01 & 0.01 & 0.00 & 0.00   \\\\\n",
      "Model 2 & 0.05 & 0.05 & 0.00 & 0.01   \\\\\n",
      "\\hline\n",
      "\\end{tabular}\n",
      "\n",
      "\n",
      "llr:21.112510587088547, std:89.29096096106893\n",
      "(array([0.94, 0.01, 0.05]), array([0.94, 0.01, 0.05]), array([1., 0., 0.]), array([0.99, 0.  , 0.01]), 21.112510587088547, 89.29096096106893, 82.73321951230285)\n"
     ]
    }
   ],
   "source": [
    "setup_shi_ex  = lambda yn,xn: setup_shi(yn,xn,num_params=num_params)\n",
    "gen_data_ex = lambda : gen_data(nobs=250, beta =beta)\n",
    "mc_out = vuong_tests4.monte_carlo(100,gen_data_ex,setup_shi,trials=100)\n",
    "vuong_tests4.print_mc(mc_out)\n",
    "print(mc_out)"
   ]
  },
  {
   "cell_type": "code",
   "execution_count": 13,
   "metadata": {},
   "outputs": [
    {
     "name": "stdout",
     "output_type": "stream",
     "text": [
      "\\begin{tabular}{|c|c|c|c|c|}\n",
      "\\hline\n",
      "Model &  Normal & Two-Step & Bootstrap & Shi (2015) \\\\ \\hline \\hline\n",
      "No selection & 0.94 & 0.94 & 1.00 & 0.99   \\\\\n",
      "Model 1 & 0.01 & 0.01 & 0.00 & 0.00   \\\\\n",
      "Model 2 & 0.05 & 0.05 & 0.00 & 0.01   \\\\\n",
      "\\hline\n",
      "\\end{tabular}\n",
      "\n",
      "\n",
      "llr:16.74767264208346, std:121.61824301071586\n",
      "(array([0.94, 0.01, 0.05]), array([0.94, 0.01, 0.05]), array([1., 0., 0.]), array([0.99, 0.  , 0.01]), 16.74767264208346, 121.61824301071586, 115.42014606113433)\n"
     ]
    }
   ],
   "source": [
    "setup_shi_ex  = lambda yn,xn: setup_shi(yn,xn,num_params=num_params)\n",
    "gen_data_ex = lambda : gen_data(nobs=500, beta =beta)\n",
    "mc_out = vuong_tests4.monte_carlo(100,gen_data_ex,setup_shi,trials=100)\n",
    "vuong_tests4.print_mc(mc_out)\n",
    "print(mc_out)"
   ]
  },
  {
   "cell_type": "code",
   "execution_count": 14,
   "metadata": {},
   "outputs": [
    {
     "name": "stdout",
     "output_type": "stream",
     "text": [
      "\\begin{tabular}{|c|c|c|c|c|}\n",
      "\\hline\n",
      "Model &  Normal & Two-Step & Bootstrap & Shi (2015) \\\\ \\hline \\hline\n",
      "No selection & 0.96 & 0.96 & 1.00 & 1.00   \\\\\n",
      "Model 1 & 0.00 & 0.00 & 0.00 & 0.00   \\\\\n",
      "Model 2 & 0.04 & 0.04 & 0.00 & 0.00   \\\\\n",
      "\\hline\n",
      "\\end{tabular}\n",
      "\n",
      "\n",
      "llr:14.055284662422382, std:141.79879903174606\n",
      "(array([0.96, 0.  , 0.04]), array([0.96, 0.  , 0.04]), array([1., 0., 0.]), array([1., 0., 0.]), 14.055284662422382, 141.79879903174606, 161.78428728066075)\n"
     ]
    }
   ],
   "source": [
    "setup_shi_ex  = lambda yn,xn: setup_shi(yn,xn,num_params=num_params)\n",
    "gen_data_ex = lambda : gen_data(nobs=1000, beta =beta)\n",
    "mc_out = vuong_tests4.monte_carlo(100,gen_data_ex,setup_shi)\n",
    "vuong_tests4.print_mc(mc_out)\n",
    "print(mc_out)"
   ]
  },
  {
   "cell_type": "markdown",
   "metadata": {},
   "source": [
    "# Ex 1.5"
   ]
  },
  {
   "cell_type": "code",
   "execution_count": 23,
   "metadata": {},
   "outputs": [],
   "source": [
    "beta = 1.5"
   ]
  },
  {
   "cell_type": "code",
   "execution_count": null,
   "metadata": {
    "scrolled": false
   },
   "outputs": [],
   "source": [
    "setup_shi_ex  = lambda yn,xn: setup_shi(yn,xn,num_params=num_params)\n",
    "gen_data_ex = lambda : gen_data(nobs=250, beta =beta)\n",
    "mc_out = vuong_tests4.monte_carlo(100,gen_data_ex,setup_shi,trials=100)\n",
    "vuong_tests4.print_mc(mc_out)\n",
    "print(mc_out)"
   ]
  },
  {
   "cell_type": "code",
   "execution_count": null,
   "metadata": {},
   "outputs": [],
   "source": [
    "setup_shi_ex  = lambda yn,xn: setup_shi(yn,xn,num_params=num_params)\n",
    "gen_data_ex = lambda : gen_data(nobs=500, beta =beta)\n",
    "mc_out = vuong_tests4.monte_carlo(100,gen_data_ex,setup_shi,trials=100)\n",
    "vuong_tests4.print_mc(mc_out)\n",
    "print(mc_out)"
   ]
  },
  {
   "cell_type": "code",
   "execution_count": null,
   "metadata": {},
   "outputs": [],
   "source": [
    "setup_shi_ex  = lambda yn,xn: setup_shi(yn,xn,num_params=num_params)\n",
    "gen_data_ex = lambda : gen_data(nobs=1000, beta =beta)\n",
    "mc_out = vuong_tests4.monte_carlo(100,gen_data_ex,setup_shi)\n",
    "vuong_tests4.print_mc(mc_out)\n",
    "print(mc_out)"
   ]
  },
  {
   "cell_type": "markdown",
   "metadata": {},
   "source": [
    "# Ex 2"
   ]
  },
  {
   "cell_type": "code",
   "execution_count": 19,
   "metadata": {},
   "outputs": [],
   "source": [
    "beta = 2"
   ]
  },
  {
   "cell_type": "code",
   "execution_count": 20,
   "metadata": {},
   "outputs": [
    {
     "name": "stdout",
     "output_type": "stream",
     "text": [
      "\\begin{tabular}{|c|c|c|c|c|}\n",
      "\\hline\n",
      "Model &  Normal & Two-Step & Bootstrap & Shi (2015) \\\\ \\hline \\hline\n",
      "No selection & 0.94 & 0.94 & 1.00 & 0.99   \\\\\n",
      "Model 1 & 0.01 & 0.01 & 0.00 & 0.00   \\\\\n",
      "Model 2 & 0.05 & 0.05 & 0.00 & 0.01   \\\\\n",
      "\\hline\n",
      "\\end{tabular}\n",
      "\n",
      "\n",
      "llr:-10.46857629317617, std:149.52834272746446\n",
      "(array([0.94, 0.01, 0.05]), array([0.94, 0.01, 0.05]), array([1., 0., 0.]), array([0.99, 0.  , 0.01]), -10.46857629317617, 149.52834272746446, 157.43621103021403)\n"
     ]
    }
   ],
   "source": [
    "setup_shi_ex  = lambda yn,xn: setup_shi(yn,xn,num_params=num_params)\n",
    "gen_data_ex = lambda : gen_data(nobs=250, beta =beta)\n",
    "mc_out = vuong_tests4.monte_carlo(100,gen_data_ex,setup_shi,trials=100)\n",
    "vuong_tests4.print_mc(mc_out)\n",
    "print(mc_out)"
   ]
  },
  {
   "cell_type": "code",
   "execution_count": 21,
   "metadata": {},
   "outputs": [
    {
     "name": "stdout",
     "output_type": "stream",
     "text": [
      "\\begin{tabular}{|c|c|c|c|c|}\n",
      "\\hline\n",
      "Model &  Normal & Two-Step & Bootstrap & Shi (2015) \\\\ \\hline \\hline\n",
      "No selection & 0.98 & 0.98 & 1.00 & 1.00   \\\\\n",
      "Model 1 & 0.01 & 0.01 & 0.00 & 0.00   \\\\\n",
      "Model 2 & 0.01 & 0.01 & 0.00 & 0.00   \\\\\n",
      "\\hline\n",
      "\\end{tabular}\n",
      "\n",
      "\n",
      "llr:26.896315300525224, std:194.67515911586173\n",
      "(array([0.98, 0.01, 0.01]), array([0.98, 0.01, 0.01]), array([1., 0., 0.]), array([1., 0., 0.]), 26.896315300525224, 194.67515911586173, 229.89871452963746)\n"
     ]
    }
   ],
   "source": [
    "setup_shi_ex  = lambda yn,xn: setup_shi(yn,xn,num_params=num_params)\n",
    "gen_data_ex = lambda : gen_data(nobs=500, beta =beta)\n",
    "mc_out = vuong_tests4.monte_carlo(100,gen_data_ex,setup_shi,trials=100)\n",
    "vuong_tests4.print_mc(mc_out)\n",
    "print(mc_out)"
   ]
  },
  {
   "cell_type": "code",
   "execution_count": 22,
   "metadata": {},
   "outputs": [
    {
     "name": "stdout",
     "output_type": "stream",
     "text": [
      "\\begin{tabular}{|c|c|c|c|c|}\n",
      "\\hline\n",
      "Model &  Normal & Two-Step & Bootstrap & Shi (2015) \\\\ \\hline \\hline\n",
      "No selection & 0.97 & 0.97 & 1.00 & 1.00   \\\\\n",
      "Model 1 & 0.01 & 0.01 & 0.00 & 0.00   \\\\\n",
      "Model 2 & 0.02 & 0.02 & 0.00 & 0.00   \\\\\n",
      "\\hline\n",
      "\\end{tabular}\n",
      "\n",
      "\n",
      "llr:-9.336227662316158, std:283.47358086881496\n",
      "(array([0.97, 0.01, 0.02]), array([0.97, 0.01, 0.02]), array([1., 0., 0.]), array([1., 0., 0.]), -9.336227662316158, 283.47358086881496, 320.6895569646673)\n"
     ]
    }
   ],
   "source": [
    "setup_shi_ex  = lambda yn,xn: setup_shi(yn,xn,num_params=num_params)\n",
    "gen_data_ex = lambda : gen_data(nobs=1000, beta =beta)\n",
    "mc_out = vuong_tests4.monte_carlo(100,gen_data_ex,setup_shi)\n",
    "vuong_tests4.print_mc(mc_out)\n",
    "print(mc_out)"
   ]
  },
  {
   "cell_type": "code",
   "execution_count": null,
   "metadata": {},
   "outputs": [],
   "source": []
  },
  {
   "cell_type": "code",
   "execution_count": null,
   "metadata": {},
   "outputs": [],
   "source": []
  },
  {
   "cell_type": "code",
   "execution_count": null,
   "metadata": {},
   "outputs": [],
   "source": []
  }
 ],
 "metadata": {
  "kernelspec": {
   "display_name": "Python 3",
   "language": "python",
   "name": "python3"
  },
  "language_info": {
   "codemirror_mode": {
    "name": "ipython",
    "version": 3
   },
   "file_extension": ".py",
   "mimetype": "text/x-python",
   "name": "python",
   "nbconvert_exporter": "python",
   "pygments_lexer": "ipython3",
   "version": "3.8.8"
  }
 },
 "nbformat": 4,
 "nbformat_minor": 2
}
