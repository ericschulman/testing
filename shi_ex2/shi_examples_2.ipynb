{
 "cells": [
  {
   "cell_type": "code",
   "execution_count": 1,
   "metadata": {},
   "outputs": [],
   "source": [
    "%load_ext autoreload\n",
    "%autoreload 2\n",
    "\n",
    "from statsmodels.base.model import GenericLikelihoodModel\n",
    "\n",
    "import numpy as np\n",
    "import matplotlib.pyplot as plt\n",
    "import statsmodels.api as sm\n",
    "import scipy.stats as stats\n",
    "import sys\n",
    "\n",
    "from scipy.stats import multivariate_normal\n",
    "\n",
    "sys.path.append(\"../\")\n",
    "import vuong_tests6"
   ]
  },
  {
   "cell_type": "code",
   "execution_count": 2,
   "metadata": {},
   "outputs": [
    {
     "name": "stdout",
     "output_type": "stream",
     "text": [
      "(1000, 1) (1, 1)\n"
     ]
    }
   ],
   "source": [
    "class JointNormal1(GenericLikelihoodModel):\n",
    "    \n",
    "    def loglikeobs(self, params):\n",
    "        data = np.concatenate([[self.endog],self.exog.transpose()],axis=0)\n",
    "        mult_rv = stats.multivariate_normal([params[0], 0.0], [[1,0],[0,1]])\n",
    "        return mult_rv.logpdf(data.transpose())\n",
    "    \n",
    "    \n",
    "class JointNormal2(GenericLikelihoodModel):\n",
    "    \n",
    "    def loglikeobs(self, params):\n",
    "        data = np.concatenate([[self.endog],self.exog.transpose()],axis=0)\n",
    "        mult_rv = stats.multivariate_normal([0.0, params[0]], [[1,0],[0,1]])\n",
    "        return mult_rv.logpdf(data.transpose())\n",
    "\n",
    "\n",
    "def setup_shi(yn,xn):\n",
    "    # model 1 grad, etc.\n",
    "    nobs = yn.shape[0]\n",
    "    model1_param = np.array([yn.mean()])\n",
    "    model2_param = np.array([xn.mean()])\n",
    "    \n",
    "    model1_deriv = JointNormal1(yn,xn)\n",
    "    ll1 = model1_deriv.loglikeobs(model1_param)\n",
    "    grad1 =  model1_deriv.score_obs(model1_param).reshape( (nobs,1) )\n",
    "    hess1 = model1_deriv.hessian(model1_param)\n",
    "    \n",
    "    \n",
    "    model2_deriv = JointNormal2(yn,xn)\n",
    "    ll2 = model2_deriv.loglikeobs(model2_param)\n",
    "    grad2 =  model2_deriv.score_obs(model2_param).reshape( (nobs,1) )  \n",
    "    hess2 = model2_deriv.hessian(model2_param)\n",
    "    \n",
    "    return ll1,grad1,hess1,model1_param,ll2,grad2,hess2,model2_param\n",
    "\n",
    "def gen_data(beta= 1.5, nobs=1000):\n",
    "    cov = [[25, 0], [0, 1]]\n",
    "    data = np.random.multivariate_normal([beta,beta], [[25,0],[0,1]],  nobs)\n",
    "    return data[:,0],data[:,1],nobs\n",
    "\n",
    "yn,xn,nobs = gen_data()\n",
    "ll1,grad1,hess1,params1,ll2,grad2,hess2,params2 = setup_shi(yn,xn)\n",
    "print(grad1.shape,hess1.shape)\n",
    "#NOTE! Weird size distortions with shi's test when theta = .5...."
   ]
  },
  {
   "cell_type": "markdown",
   "metadata": {},
   "source": [
    "# Ex 1"
   ]
  },
  {
   "cell_type": "code",
   "execution_count": 3,
   "metadata": {},
   "outputs": [],
   "source": [
    "beta = 1"
   ]
  },
  {
   "cell_type": "code",
   "execution_count": 4,
   "metadata": {
    "scrolled": true
   },
   "outputs": [
    {
     "name": "stdout",
     "output_type": "stream",
     "text": [
      "\\begin{tabular}{|c|c|c|c|c|c|c|}\n",
      "\\hline\n",
      "Model &  Normal & Two-Step & Bootstrap & Bootstrap-TIC & Bootstrap-ND & Shi (2015) \\\\ \\hline \\hline\n",
      "No selection & 0.88 & 1.00 & 0.85 & 0.83 & 0.99 & 0.94   \\\\\n",
      "Model 1 & 0.00 & 0.00 & 0.00 & 0.00 & 0.00 & 0.00   \\\\\n",
      "Model 2 & 0.12 & 0.00 & 0.15 & 0.17 & 0.01 & 0.06   \\\\\n",
      "\\hline\n",
      "\\end{tabular}\n",
      "(array([0.88, 0.  , 0.12]), array([1., 0., 0.]), array([0.85, 0.  , 0.15]), array([0.83, 0.  , 0.17]), array([0.99, 0.  , 0.01]), array([0.94, 0.  , 0.06]), 14.377140600040564, 53.88525806846468, 51.962043821100764)\n"
     ]
    }
   ],
   "source": [
    "setup_shi_ex  = lambda yn,xn: setup_shi(yn,xn,num_params=num_params)\n",
    "gen_data_ex = lambda : gen_data(nobs=100, beta =beta)\n",
    "mc_out = vuong_tests6.monte_carlo(100,gen_data_ex,setup_shi,trials=100)\n",
    "vuong_tests6.print_mc(mc_out)\n",
    "print(mc_out)"
   ]
  },
  {
   "cell_type": "code",
   "execution_count": 5,
   "metadata": {
    "scrolled": true
   },
   "outputs": [
    {
     "name": "stdout",
     "output_type": "stream",
     "text": [
      "\\begin{tabular}{|c|c|c|c|c|c|c|}\n",
      "\\hline\n",
      "Model &  Normal & Two-Step & Bootstrap & Bootstrap-TIC & Bootstrap-ND & Shi (2015) \\\\ \\hline \\hline\n",
      "No selection & 0.92 & 0.99 & 0.91 & 0.90 & 0.97 & 0.97   \\\\\n",
      "Model 1 & 0.01 & 0.01 & 0.01 & 0.00 & 0.00 & 0.00   \\\\\n",
      "Model 2 & 0.07 & 0.00 & 0.08 & 0.10 & 0.03 & 0.03   \\\\\n",
      "\\hline\n",
      "\\end{tabular}\n",
      "(array([0.92, 0.01, 0.07]), array([0.99, 0.01, 0.  ]), array([0.91, 0.01, 0.08]), array([0.9, 0. , 0.1]), array([0.97, 0.  , 0.03]), array([0.97, 0.  , 0.03]), 10.140459522966092, 87.00853854089654, 79.28891148345271)\n"
     ]
    }
   ],
   "source": [
    "setup_shi_ex  = lambda yn,xn: setup_shi(yn,xn,num_params=num_params)\n",
    "gen_data_ex = lambda : gen_data(nobs=250, beta =beta)\n",
    "mc_out = vuong_tests6.monte_carlo(100,gen_data_ex,setup_shi,trials=100)\n",
    "vuong_tests6.print_mc(mc_out)\n",
    "print(mc_out)"
   ]
  },
  {
   "cell_type": "code",
   "execution_count": 6,
   "metadata": {
    "scrolled": true
   },
   "outputs": [
    {
     "name": "stdout",
     "output_type": "stream",
     "text": [
      "\\begin{tabular}{|c|c|c|c|c|c|c|}\n",
      "\\hline\n",
      "Model &  Normal & Two-Step & Bootstrap & Bootstrap-TIC & Bootstrap-ND & Shi (2015) \\\\ \\hline \\hline\n",
      "No selection & 0.92 & 0.92 & 0.92 & 0.92 & 0.93 & 0.99   \\\\\n",
      "Model 1 & 0.02 & 0.02 & 0.03 & 0.02 & 0.01 & 0.00   \\\\\n",
      "Model 2 & 0.06 & 0.06 & 0.05 & 0.06 & 0.06 & 0.01   \\\\\n",
      "\\hline\n",
      "\\end{tabular}\n",
      "(array([0.92, 0.02, 0.06]), array([0.92, 0.02, 0.06]), array([0.92, 0.03, 0.05]), array([0.92, 0.02, 0.06]), array([0.93, 0.01, 0.06]), array([0.99, 0.  , 0.01]), 17.959732835605983, 114.33942068301658, 115.5700023970471)\n"
     ]
    }
   ],
   "source": [
    "setup_shi_ex  = lambda yn,xn: setup_shi(yn,xn,num_params=num_params)\n",
    "gen_data_ex = lambda : gen_data(nobs=500, beta =beta)\n",
    "mc_out = vuong_tests6.monte_carlo(100,gen_data_ex,setup_shi)\n",
    "vuong_tests6.print_mc(mc_out)\n",
    "print(mc_out)"
   ]
  },
  {
   "cell_type": "code",
   "execution_count": 7,
   "metadata": {},
   "outputs": [],
   "source": [
    "beta = 1.5"
   ]
  },
  {
   "cell_type": "code",
   "execution_count": 8,
   "metadata": {
    "scrolled": true
   },
   "outputs": [
    {
     "name": "stdout",
     "output_type": "stream",
     "text": [
      "\\begin{tabular}{|c|c|c|c|c|c|c|}\n",
      "\\hline\n",
      "Model &  Normal & Two-Step & Bootstrap & Bootstrap-TIC & Bootstrap-ND & Shi (2015) \\\\ \\hline \\hline\n",
      "No selection & 0.90 & 0.99 & 0.88 & 0.86 & 0.97 & 0.97   \\\\\n",
      "Model 1 & 0.01 & 0.01 & 0.02 & 0.01 & 0.00 & 0.00   \\\\\n",
      "Model 2 & 0.09 & 0.00 & 0.10 & 0.13 & 0.03 & 0.03   \\\\\n",
      "\\hline\n",
      "\\end{tabular}\n",
      "(array([0.9 , 0.01, 0.09]), array([0.99, 0.01, 0.  ]), array([0.88, 0.02, 0.1 ]), array([0.86, 0.01, 0.13]), array([0.97, 0.  , 0.03]), array([0.97, 0.  , 0.03]), 9.830318412412273, 87.32110795502852, 75.53928052746704)\n"
     ]
    }
   ],
   "source": [
    "setup_shi_ex  = lambda yn,xn: setup_shi(yn,xn,num_params=num_params)\n",
    "gen_data_ex = lambda : gen_data(nobs=100, beta =beta)\n",
    "mc_out = vuong_tests6.monte_carlo(100,gen_data_ex,setup_shi,trials=100)\n",
    "vuong_tests6.print_mc(mc_out)\n",
    "print(mc_out)"
   ]
  },
  {
   "cell_type": "code",
   "execution_count": 9,
   "metadata": {
    "scrolled": true
   },
   "outputs": [
    {
     "name": "stdout",
     "output_type": "stream",
     "text": [
      "\\begin{tabular}{|c|c|c|c|c|c|c|}\n",
      "\\hline\n",
      "Model &  Normal & Two-Step & Bootstrap & Bootstrap-TIC & Bootstrap-ND & Shi (2015) \\\\ \\hline \\hline\n",
      "No selection & 0.93 & 0.94 & 0.94 & 0.94 & 0.96 & 0.99   \\\\\n",
      "Model 1 & 0.03 & 0.03 & 0.02 & 0.02 & 0.02 & 0.00   \\\\\n",
      "Model 2 & 0.04 & 0.03 & 0.04 & 0.04 & 0.02 & 0.01   \\\\\n",
      "\\hline\n",
      "\\end{tabular}\n",
      "(array([0.93, 0.03, 0.04]), array([0.94, 0.03, 0.03]), array([0.94, 0.02, 0.04]), array([0.94, 0.02, 0.04]), array([0.96, 0.02, 0.02]), array([0.99, 0.  , 0.01]), 3.9603375692475624, 116.86107155510963, 119.92977962156846)\n"
     ]
    }
   ],
   "source": [
    "setup_shi_ex  = lambda yn,xn: setup_shi(yn,xn,num_params=num_params)\n",
    "gen_data_ex = lambda : gen_data(nobs=250, beta =beta)\n",
    "mc_out = vuong_tests6.monte_carlo(100,gen_data_ex,setup_shi,trials=100)\n",
    "vuong_tests6.print_mc(mc_out)\n",
    "print(mc_out)"
   ]
  },
  {
   "cell_type": "code",
   "execution_count": 24,
   "metadata": {
    "scrolled": true
   },
   "outputs": [
    {
     "name": "stdout",
     "output_type": "stream",
     "text": [
      "\\begin{tabular}{|c|c|c|c|c|c|c|}\n",
      "\\hline\n",
      "Model &  Normal & Two-Step & Bootstrap & Bootstrap-TIC & Bootstrap-ND & Shi (2015) \\\\ \\hline \\hline\n",
      "No selection & 0.94 & 0.94 & 0.95 & 0.95 & 0.95 & 1.00   \\\\\n",
      "Model 1 & 0.01 & 0.01 & 0.00 & 0.00 & 0.00 & 0.00   \\\\\n",
      "Model 2 & 0.05 & 0.05 & 0.05 & 0.05 & 0.05 & 0.00   \\\\\n",
      "\\hline\n",
      "\\end{tabular}\n",
      "(array([0.94, 0.01, 0.05]), array([0.94, 0.01, 0.05]), array([0.95, 0.  , 0.05]), array([0.95, 0.  , 0.05]), array([0.95, 0.  , 0.05]), array([1., 0., 0.]), 25.061344875636113, 103.42032548151221, 117.94595366109849)\n"
     ]
    }
   ],
   "source": [
    "setup_shi_ex  = lambda yn,xn: setup_shi(yn,xn,num_params=num_params)\n",
    "gen_data_ex = lambda : gen_data(nobs=500, beta =beta)\n",
    "mc_out = vuong_tests6.monte_carlo(100,gen_data_ex,setup_shi)\n",
    "vuong_tests6.print_mc(mc_out)\n",
    "print(mc_out)"
   ]
  },
  {
   "cell_type": "markdown",
   "metadata": {},
   "source": [
    "# Power"
   ]
  },
  {
   "cell_type": "code",
   "execution_count": 11,
   "metadata": {},
   "outputs": [],
   "source": [
    "def gen_data2(beta= 1.5, nobs=1000):\n",
    "    cov = [[25, 0], [0, 1]]\n",
    "    data = np.random.multivariate_normal([0,beta], [[25,0],[0,1]],  nobs)\n",
    "    return data[:,0],data[:,1],nobs"
   ]
  },
  {
   "cell_type": "code",
   "execution_count": 12,
   "metadata": {},
   "outputs": [],
   "source": [
    "beta = 1."
   ]
  },
  {
   "cell_type": "code",
   "execution_count": 13,
   "metadata": {
    "scrolled": true
   },
   "outputs": [
    {
     "name": "stdout",
     "output_type": "stream",
     "text": [
      "\\begin{tabular}{|c|c|c|c|c|c|c|}\n",
      "\\hline\n",
      "Model &  Normal & Two-Step & Bootstrap & Bootstrap-TIC & Bootstrap-ND & Shi (2015) \\\\ \\hline \\hline\n",
      "No selection & 0.48 & 1.00 & 0.51 & 0.35 & 0.94 & 0.74   \\\\\n",
      "Model 1 & 0.00 & 0.00 & 0.00 & 0.00 & 0.00 & 0.00   \\\\\n",
      "Model 2 & 0.52 & 0.00 & 0.49 & 0.65 & 0.06 & 0.26   \\\\\n",
      "\\hline\n",
      "\\end{tabular}\n",
      "(array([0.48, 0.  , 0.52]), array([1., 0., 0.]), array([0.51, 0.  , 0.49]), array([0.35, 0.  , 0.65]), array([0.94, 0.  , 0.06]), array([0.74, 0.  , 0.26]), -35.13631953828803, 21.487395303375628, 24.755168830820693)\n"
     ]
    }
   ],
   "source": [
    "setup_shi_ex  = lambda yn,xn: setup_shi(yn,xn,num_params=num_params)\n",
    "gen_data_ex = lambda : gen_data2(nobs=100, beta =beta)\n",
    "mc_out = vuong_tests6.monte_carlo(100,gen_data_ex,setup_shi,trials=100)\n",
    "vuong_tests6.print_mc(mc_out)\n",
    "print(mc_out)"
   ]
  },
  {
   "cell_type": "code",
   "execution_count": 14,
   "metadata": {
    "scrolled": true
   },
   "outputs": [
    {
     "name": "stdout",
     "output_type": "stream",
     "text": [
      "\\begin{tabular}{|c|c|c|c|c|c|c|}\n",
      "\\hline\n",
      "Model &  Normal & Two-Step & Bootstrap & Bootstrap-TIC & Bootstrap-ND & Shi (2015) \\\\ \\hline \\hline\n",
      "No selection & 0.11 & 1.00 & 0.10 & 0.09 & 0.27 & 0.31   \\\\\n",
      "Model 1 & 0.00 & 0.00 & 0.00 & 0.00 & 0.00 & 0.00   \\\\\n",
      "Model 2 & 0.89 & 0.00 & 0.90 & 0.91 & 0.73 & 0.69   \\\\\n",
      "\\hline\n",
      "\\end{tabular}\n",
      "(array([0.11, 0.  , 0.89]), array([1., 0., 0.]), array([0.1, 0. , 0.9]), array([0.09, 0.  , 0.91]), array([0.27, 0.  , 0.73]), array([0.31, 0.  , 0.69]), -111.78201166542338, 27.18659153133561, 26.864415668183074)\n"
     ]
    }
   ],
   "source": [
    "setup_shi_ex  = lambda yn,xn: setup_shi(yn,xn,num_params=num_params)\n",
    "gen_data_ex = lambda : gen_data2(nobs=250, beta =beta)\n",
    "mc_out = vuong_tests6.monte_carlo(100,gen_data_ex,setup_shi,trials=100)\n",
    "vuong_tests6.print_mc(mc_out)\n",
    "print(mc_out)"
   ]
  },
  {
   "cell_type": "code",
   "execution_count": 15,
   "metadata": {
    "scrolled": true
   },
   "outputs": [
    {
     "name": "stdout",
     "output_type": "stream",
     "text": [
      "\\begin{tabular}{|c|c|c|c|c|c|c|}\n",
      "\\hline\n",
      "Model &  Normal & Two-Step & Bootstrap & Bootstrap-TIC & Bootstrap-ND & Shi (2015) \\\\ \\hline \\hline\n",
      "No selection & 0.01 & 0.92 & 0.01 & 0.00 & 0.01 & 0.08   \\\\\n",
      "Model 1 & 0.00 & 0.00 & 0.00 & 0.00 & 0.00 & 0.00   \\\\\n",
      "Model 2 & 0.99 & 0.08 & 0.99 & 1.00 & 0.99 & 0.92   \\\\\n",
      "\\hline\n",
      "\\end{tabular}\n",
      "(array([0.01, 0.  , 0.99]), array([0.92, 0.  , 0.08]), array([0.01, 0.  , 0.99]), array([0., 0., 1.]), array([0.01, 0.  , 0.99]), array([0.08, 0.  , 0.92]), -238.45200313196827, 30.48578279085797, 31.62716451235375)\n"
     ]
    }
   ],
   "source": [
    "setup_shi_ex  = lambda yn,xn: setup_shi(yn,xn,num_params=num_params)\n",
    "gen_data_ex = lambda : gen_data2(nobs=500, beta =beta)\n",
    "mc_out = vuong_tests6.monte_carlo(100,gen_data_ex,setup_shi)\n",
    "vuong_tests6.print_mc(mc_out)\n",
    "print(mc_out)"
   ]
  },
  {
   "cell_type": "code",
   "execution_count": 16,
   "metadata": {},
   "outputs": [],
   "source": [
    "beta = 1.5"
   ]
  },
  {
   "cell_type": "code",
   "execution_count": 17,
   "metadata": {
    "scrolled": true
   },
   "outputs": [
    {
     "name": "stdout",
     "output_type": "stream",
     "text": [
      "\\begin{tabular}{|c|c|c|c|c|c|c|}\n",
      "\\hline\n",
      "Model &  Normal & Two-Step & Bootstrap & Bootstrap-TIC & Bootstrap-ND & Shi (2015) \\\\ \\hline \\hline\n",
      "No selection & 0.11 & 0.99 & 0.10 & 0.06 & 0.40 & 0.46   \\\\\n",
      "Model 1 & 0.00 & 0.00 & 0.00 & 0.00 & 0.00 & 0.00   \\\\\n",
      "Model 2 & 0.89 & 0.01 & 0.90 & 0.94 & 0.60 & 0.54   \\\\\n",
      "\\hline\n",
      "\\end{tabular}\n",
      "(array([0.11, 0.  , 0.89]), array([0.99, 0.  , 0.01]), array([0.1, 0. , 0.9]), array([0.06, 0.  , 0.94]), array([0.4, 0. , 0.6]), array([0.46, 0.  , 0.54]), -100.63356852233046, 20.697015775983946, 26.69892744159029)\n"
     ]
    }
   ],
   "source": [
    "setup_shi_ex  = lambda yn,xn: setup_shi(yn,xn,num_params=num_params)\n",
    "gen_data_ex = lambda : gen_data2(nobs=100, beta =beta)\n",
    "mc_out = vuong_tests6.monte_carlo(100,gen_data_ex,setup_shi,trials=100)\n",
    "vuong_tests6.print_mc(mc_out)\n",
    "print(mc_out)"
   ]
  },
  {
   "cell_type": "code",
   "execution_count": 18,
   "metadata": {
    "scrolled": true
   },
   "outputs": [
    {
     "name": "stdout",
     "output_type": "stream",
     "text": [
      "\\begin{tabular}{|c|c|c|c|c|c|c|}\n",
      "\\hline\n",
      "Model &  Normal & Two-Step & Bootstrap & Bootstrap-TIC & Bootstrap-ND & Shi (2015) \\\\ \\hline \\hline\n",
      "No selection & 0.02 & 0.93 & 0.01 & 0.01 & 0.03 & 0.10   \\\\\n",
      "Model 1 & 0.00 & 0.00 & 0.00 & 0.00 & 0.00 & 0.00   \\\\\n",
      "Model 2 & 0.98 & 0.07 & 0.99 & 0.99 & 0.97 & 0.90   \\\\\n",
      "\\hline\n",
      "\\end{tabular}\n",
      "(array([0.02, 0.  , 0.98]), array([0.93, 0.  , 0.07]), array([0.01, 0.  , 0.99]), array([0.01, 0.  , 0.99]), array([0.03, 0.  , 0.97]), array([0.1, 0. , 0.9]), -270.9075752887447, 32.2895572361591, 33.940698421240775)\n"
     ]
    }
   ],
   "source": [
    "setup_shi_ex  = lambda yn,xn: setup_shi(yn,xn,num_params=num_params)\n",
    "gen_data_ex = lambda : gen_data2(nobs=250, beta =beta)\n",
    "mc_out = vuong_tests6.monte_carlo(100,gen_data_ex,setup_shi,trials=100)\n",
    "vuong_tests6.print_mc(mc_out)\n",
    "print(mc_out)"
   ]
  },
  {
   "cell_type": "code",
   "execution_count": 19,
   "metadata": {
    "scrolled": true
   },
   "outputs": [
    {
     "name": "stdout",
     "output_type": "stream",
     "text": [
      "\\begin{tabular}{|c|c|c|c|c|c|c|}\n",
      "\\hline\n",
      "Model &  Normal & Two-Step & Bootstrap & Bootstrap-TIC & Bootstrap-ND & Shi (2015) \\\\ \\hline \\hline\n",
      "No selection & 0.00 & 0.82 & 0.00 & 0.00 & 0.00 & 0.02   \\\\\n",
      "Model 1 & 0.00 & 0.00 & 0.00 & 0.00 & 0.00 & 0.00   \\\\\n",
      "Model 2 & 1.00 & 0.18 & 1.00 & 1.00 & 1.00 & 0.98   \\\\\n",
      "\\hline\n",
      "\\end{tabular}\n",
      "(array([0., 0., 1.]), array([0.82, 0.  , 0.18]), array([0., 0., 1.]), array([0., 0., 1.]), array([0., 0., 1.]), array([0.02, 0.  , 0.98]), -548.5951814929487, 36.953103812309266, 40.844329246285945)\n"
     ]
    }
   ],
   "source": [
    "setup_shi_ex  = lambda yn,xn: setup_shi(yn,xn,num_params=num_params)\n",
    "gen_data_ex = lambda : gen_data2(nobs=500, beta =beta)\n",
    "mc_out = vuong_tests6.monte_carlo(100,gen_data_ex,setup_shi)\n",
    "vuong_tests6.print_mc(mc_out)\n",
    "print(mc_out)"
   ]
  },
  {
   "cell_type": "code",
   "execution_count": null,
   "metadata": {},
   "outputs": [],
   "source": []
  },
  {
   "cell_type": "code",
   "execution_count": null,
   "metadata": {},
   "outputs": [],
   "source": []
  },
  {
   "cell_type": "code",
   "execution_count": null,
   "metadata": {},
   "outputs": [],
   "source": []
  }
 ],
 "metadata": {
  "kernelspec": {
   "display_name": "Python 3",
   "language": "python",
   "name": "python3"
  },
  "language_info": {
   "codemirror_mode": {
    "name": "ipython",
    "version": 3
   },
   "file_extension": ".py",
   "mimetype": "text/x-python",
   "name": "python",
   "nbconvert_exporter": "python",
   "pygments_lexer": "ipython3",
   "version": "3.8.8"
  }
 },
 "nbformat": 4,
 "nbformat_minor": 2
}
