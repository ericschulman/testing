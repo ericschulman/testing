{
 "cells": [
  {
   "cell_type": "code",
   "execution_count": 1,
   "metadata": {},
   "outputs": [],
   "source": [
    "%load_ext autoreload\n",
    "%autoreload 2\n",
    "\n",
    "from statsmodels.base.model import GenericLikelihoodModel\n",
    "\n",
    "import numpy as np\n",
    "import matplotlib.pyplot as plt\n",
    "import statsmodels.api as sm\n",
    "import scipy.stats as stats\n",
    "import sys\n",
    "\n",
    "from scipy.stats import multivariate_normal\n",
    "\n",
    "sys.path.append(\"../\")\n",
    "import vuong_tests5"
   ]
  },
  {
   "cell_type": "code",
   "execution_count": 2,
   "metadata": {},
   "outputs": [
    {
     "name": "stdout",
     "output_type": "stream",
     "text": [
      "(1000, 1) (1, 1)\n"
     ]
    }
   ],
   "source": [
    "class JointNormal1(GenericLikelihoodModel):\n",
    "    \n",
    "    def loglikeobs(self, params):\n",
    "        data = np.concatenate([[self.endog],self.exog.transpose()],axis=0)\n",
    "        mult_rv = stats.multivariate_normal([params[0], 0.0], [[1,0],[0,1]])\n",
    "        return mult_rv.logpdf(data.transpose())\n",
    "    \n",
    "    \n",
    "class JointNormal2(GenericLikelihoodModel):\n",
    "    \n",
    "    def loglikeobs(self, params):\n",
    "        data = np.concatenate([[self.endog],self.exog.transpose()],axis=0)\n",
    "        mult_rv = stats.multivariate_normal([0.0, params[0]], [[1,0],[0,1]])\n",
    "        return mult_rv.logpdf(data.transpose())\n",
    "\n",
    "\n",
    "def setup_shi(yn,xn):\n",
    "    # model 1 grad, etc.\n",
    "    nobs = yn.shape[0]\n",
    "    model1_param = np.array([yn.mean()])\n",
    "    model2_param = np.array([xn.mean()])\n",
    "    \n",
    "    model1_deriv = JointNormal1(yn,xn)\n",
    "    ll1 = model1_deriv.loglikeobs(model1_param)\n",
    "    grad1 =  model1_deriv.score_obs(model1_param).reshape( (nobs,1) )\n",
    "    hess1 = model1_deriv.hessian(model1_param)\n",
    "    \n",
    "    \n",
    "    model2_deriv = JointNormal2(yn,xn)\n",
    "    ll2 = model2_deriv.loglikeobs(model2_param)\n",
    "    grad2 =  model2_deriv.score_obs(model2_param).reshape( (nobs,1) )  \n",
    "    hess2 = model2_deriv.hessian(model2_param)\n",
    "    \n",
    "    return ll1,grad1,hess1,model1_param,ll2,grad2,hess2,model2_param\n",
    "\n",
    "def gen_data(beta= 1.5, nobs=1000):\n",
    "    cov = [[25, 0], [0, 1]]\n",
    "    data = np.random.multivariate_normal([beta,beta], [[25,0],[0,1]],  nobs)\n",
    "    return data[:,0],data[:,1],nobs\n",
    "\n",
    "yn,xn,nobs = gen_data()\n",
    "ll1,grad1,hess1,params1,ll2,grad2,hess2,params2 = setup_shi(yn,xn)\n",
    "print(grad1.shape,hess1.shape)"
   ]
  },
  {
   "cell_type": "markdown",
   "metadata": {},
   "source": [
    "# Ex 0"
   ]
  },
  {
   "cell_type": "code",
   "execution_count": 3,
   "metadata": {},
   "outputs": [],
   "source": [
    "beta = 0"
   ]
  },
  {
   "cell_type": "code",
   "execution_count": 4,
   "metadata": {
    "scrolled": false
   },
   "outputs": [
    {
     "name": "stdout",
     "output_type": "stream",
     "text": [
      "\\begin{tabular}{|c|c|c|c|c|c|}\n",
      "\\hline\n",
      "Model &  Normal & Bootstrap & Bootstrap-pt & Bootstrap-bc & Shi (2015) \\\\ \\hline \\hline\n",
      "No selection & 1.00 & 0.86 & 0.86 & 0.85 & 0.89   \\\\\n",
      "Model 1 & 0.00 & 0.00 & 0.00 & 0.00 & 0.00   \\\\\n",
      "Model 2 & 0.00 & 0.14 & 0.14 & 0.15 & 0.11   \\\\\n",
      "\\hline\n",
      "\\end{tabular}\n",
      "(array([1., 0., 0.]), array([0.86, 0.  , 0.14]), array([0.86, 0.  , 0.14]), array([0.85, 0.  , 0.15]), array([0.89, 0.  , 0.11]), 15.36872829885135, 18.330598777914318, 23.3064673852329)\n"
     ]
    }
   ],
   "source": [
    "setup_shi_ex  = lambda yn,xn: setup_shi(yn,xn,num_params=num_params)\n",
    "gen_data_ex = lambda : gen_data(nobs=250, beta =beta)\n",
    "mc_out = vuong_tests5.monte_carlo(100,gen_data_ex,setup_shi,trials=100)\n",
    "vuong_tests5.print_mc(mc_out)\n",
    "print(mc_out)"
   ]
  },
  {
   "cell_type": "code",
   "execution_count": 5,
   "metadata": {},
   "outputs": [
    {
     "name": "stdout",
     "output_type": "stream",
     "text": [
      "\\begin{tabular}{|c|c|c|c|c|c|}\n",
      "\\hline\n",
      "Model &  Normal & Bootstrap & Bootstrap-pt & Bootstrap-bc & Shi (2015) \\\\ \\hline \\hline\n",
      "No selection & 1.00 & 0.82 & 0.82 & 0.84 & 0.94   \\\\\n",
      "Model 1 & 0.00 & 0.00 & 0.00 & 0.00 & 0.00   \\\\\n",
      "Model 2 & 0.00 & 0.18 & 0.18 & 0.16 & 0.06   \\\\\n",
      "\\hline\n",
      "\\end{tabular}\n",
      "(array([1., 0., 0.]), array([0.82, 0.  , 0.18]), array([0.82, 0.  , 0.18]), array([0.84, 0.  , 0.16]), array([0.94, 0.  , 0.06]), 13.12425114935521, 19.07244181239873, 20.43262069588012)\n"
     ]
    }
   ],
   "source": [
    "setup_shi_ex  = lambda yn,xn: setup_shi(yn,xn,num_params=num_params)\n",
    "gen_data_ex = lambda : gen_data(nobs=500, beta =beta)\n",
    "mc_out = vuong_tests5.monte_carlo(100,gen_data_ex,setup_shi,trials=100)\n",
    "vuong_tests5.print_mc(mc_out)\n",
    "print(mc_out)"
   ]
  },
  {
   "cell_type": "code",
   "execution_count": 6,
   "metadata": {},
   "outputs": [
    {
     "name": "stdout",
     "output_type": "stream",
     "text": [
      "\\begin{tabular}{|c|c|c|c|c|c|}\n",
      "\\hline\n",
      "Model &  Normal & Bootstrap & Bootstrap-pt & Bootstrap-bc & Shi (2015) \\\\ \\hline \\hline\n",
      "No selection & 1.00 & 0.75 & 0.75 & 0.75 & 0.86   \\\\\n",
      "Model 1 & 0.00 & 0.00 & 0.00 & 0.00 & 0.00   \\\\\n",
      "Model 2 & 0.00 & 0.25 & 0.25 & 0.25 & 0.14   \\\\\n",
      "\\hline\n",
      "\\end{tabular}\n",
      "(array([1., 0., 0.]), array([0.75, 0.  , 0.25]), array([0.75, 0.  , 0.25]), array([0.75, 0.  , 0.25]), array([0.86, 0.  , 0.14]), 10.705337880371497, 15.138964176378654, 18.7428297554722)\n"
     ]
    }
   ],
   "source": [
    "setup_shi_ex  = lambda yn,xn: setup_shi(yn,xn,num_params=num_params)\n",
    "gen_data_ex = lambda : gen_data(nobs=1000, beta =beta)\n",
    "mc_out = vuong_tests5.monte_carlo(100,gen_data_ex,setup_shi)\n",
    "vuong_tests5.print_mc(mc_out)\n",
    "print(mc_out)"
   ]
  },
  {
   "cell_type": "markdown",
   "metadata": {},
   "source": [
    "# Ex 1"
   ]
  },
  {
   "cell_type": "code",
   "execution_count": 7,
   "metadata": {},
   "outputs": [],
   "source": [
    "beta = 1"
   ]
  },
  {
   "cell_type": "code",
   "execution_count": 8,
   "metadata": {
    "scrolled": false
   },
   "outputs": [
    {
     "name": "stdout",
     "output_type": "stream",
     "text": [
      "\\begin{tabular}{|c|c|c|c|c|c|}\n",
      "\\hline\n",
      "Model &  Normal & Bootstrap & Bootstrap-pt & Bootstrap-bc & Shi (2015) \\\\ \\hline \\hline\n",
      "No selection & 0.87 & 0.83 & 0.81 & 0.82 & 0.98   \\\\\n",
      "Model 1 & 0.00 & 0.01 & 0.00 & 0.00 & 0.00   \\\\\n",
      "Model 2 & 0.13 & 0.16 & 0.19 & 0.18 & 0.02   \\\\\n",
      "\\hline\n",
      "\\end{tabular}\n",
      "(array([0.87, 0.  , 0.13]), array([0.83, 0.01, 0.16]), array([0.81, 0.  , 0.19]), array([0.82, 0.  , 0.18]), array([0.98, 0.  , 0.02]), -2.9874914070416634, 84.07518435775069, 77.28645257785207)\n"
     ]
    }
   ],
   "source": [
    "setup_shi_ex  = lambda yn,xn: setup_shi(yn,xn,num_params=num_params)\n",
    "gen_data_ex = lambda : gen_data(nobs=250, beta =beta)\n",
    "mc_out = vuong_tests5.monte_carlo(100,gen_data_ex,setup_shi,trials=100)\n",
    "vuong_tests5.print_mc(mc_out)\n",
    "print(mc_out)"
   ]
  },
  {
   "cell_type": "code",
   "execution_count": 9,
   "metadata": {},
   "outputs": [
    {
     "name": "stdout",
     "output_type": "stream",
     "text": [
      "\\begin{tabular}{|c|c|c|c|c|c|}\n",
      "\\hline\n",
      "Model &  Normal & Bootstrap & Bootstrap-pt & Bootstrap-bc & Shi (2015) \\\\ \\hline \\hline\n",
      "No selection & 0.89 & 0.83 & 0.83 & 0.84 & 1.00   \\\\\n",
      "Model 1 & 0.01 & 0.03 & 0.01 & 0.02 & 0.00   \\\\\n",
      "Model 2 & 0.10 & 0.14 & 0.16 & 0.14 & 0.00   \\\\\n",
      "\\hline\n",
      "\\end{tabular}\n",
      "(array([0.89, 0.01, 0.1 ]), array([0.83, 0.03, 0.14]), array([0.83, 0.01, 0.16]), array([0.84, 0.02, 0.14]), array([1., 0., 0.]), -13.545564665075032, 120.21153154877882, 108.34182960809963)\n"
     ]
    }
   ],
   "source": [
    "setup_shi_ex  = lambda yn,xn: setup_shi(yn,xn,num_params=num_params)\n",
    "gen_data_ex = lambda : gen_data(nobs=500, beta =beta)\n",
    "mc_out = vuong_tests5.monte_carlo(100,gen_data_ex,setup_shi,trials=100)\n",
    "vuong_tests5.print_mc(mc_out)\n",
    "print(mc_out)"
   ]
  },
  {
   "cell_type": "code",
   "execution_count": 10,
   "metadata": {},
   "outputs": [
    {
     "name": "stdout",
     "output_type": "stream",
     "text": [
      "\\begin{tabular}{|c|c|c|c|c|c|}\n",
      "\\hline\n",
      "Model &  Normal & Bootstrap & Bootstrap-pt & Bootstrap-bc & Shi (2015) \\\\ \\hline \\hline\n",
      "No selection & 0.93 & 0.93 & 0.93 & 0.95 & 1.00   \\\\\n",
      "Model 1 & 0.01 & 0.01 & 0.01 & 0.00 & 0.00   \\\\\n",
      "Model 2 & 0.06 & 0.06 & 0.06 & 0.05 & 0.00   \\\\\n",
      "\\hline\n",
      "\\end{tabular}\n",
      "(array([0.93, 0.01, 0.06]), array([0.93, 0.01, 0.06]), array([0.93, 0.01, 0.06]), array([0.95, 0.  , 0.05]), array([1., 0., 0.]), -0.15353780325049243, 153.3601426617949, 159.45647309613966)\n"
     ]
    }
   ],
   "source": [
    "setup_shi_ex  = lambda yn,xn: setup_shi(yn,xn,num_params=num_params)\n",
    "gen_data_ex = lambda : gen_data(nobs=1000, beta =beta)\n",
    "mc_out = vuong_tests5.monte_carlo(100,gen_data_ex,setup_shi)\n",
    "vuong_tests5.print_mc(mc_out)\n",
    "print(mc_out)"
   ]
  },
  {
   "cell_type": "markdown",
   "metadata": {},
   "source": [
    "# Ex 2"
   ]
  },
  {
   "cell_type": "code",
   "execution_count": 11,
   "metadata": {},
   "outputs": [],
   "source": [
    "beta = 1.5"
   ]
  },
  {
   "cell_type": "code",
   "execution_count": 12,
   "metadata": {
    "scrolled": false
   },
   "outputs": [
    {
     "name": "stdout",
     "output_type": "stream",
     "text": [
      "\\begin{tabular}{|c|c|c|c|c|c|}\n",
      "\\hline\n",
      "Model &  Normal & Bootstrap & Bootstrap-pt & Bootstrap-bc & Shi (2015) \\\\ \\hline \\hline\n",
      "No selection & 0.96 & 0.95 & 0.94 & 0.94 & 1.00   \\\\\n",
      "Model 1 & 0.01 & 0.01 & 0.01 & 0.01 & 0.00   \\\\\n",
      "Model 2 & 0.03 & 0.04 & 0.05 & 0.05 & 0.00   \\\\\n",
      "\\hline\n",
      "\\end{tabular}\n",
      "(array([0.96, 0.01, 0.03]), array([0.95, 0.01, 0.04]), array([0.94, 0.01, 0.05]), array([0.94, 0.01, 0.05]), array([1., 0., 0.]), 6.691989986442804, 107.93120648745811, 119.66678199796218)\n"
     ]
    }
   ],
   "source": [
    "setup_shi_ex  = lambda yn,xn: setup_shi(yn,xn,num_params=num_params)\n",
    "gen_data_ex = lambda : gen_data(nobs=250, beta =beta)\n",
    "mc_out = vuong_tests5.monte_carlo(100,gen_data_ex,setup_shi,trials=100)\n",
    "vuong_tests5.print_mc(mc_out)\n",
    "print(mc_out)"
   ]
  },
  {
   "cell_type": "code",
   "execution_count": 13,
   "metadata": {},
   "outputs": [
    {
     "name": "stdout",
     "output_type": "stream",
     "text": [
      "\\begin{tabular}{|c|c|c|c|c|c|}\n",
      "\\hline\n",
      "Model &  Normal & Bootstrap & Bootstrap-pt & Bootstrap-bc & Shi (2015) \\\\ \\hline \\hline\n",
      "No selection & 0.95 & 0.96 & 0.97 & 0.94 & 1.00   \\\\\n",
      "Model 1 & 0.01 & 0.00 & 0.00 & 0.00 & 0.00   \\\\\n",
      "Model 2 & 0.04 & 0.04 & 0.03 & 0.06 & 0.00   \\\\\n",
      "\\hline\n",
      "\\end{tabular}\n",
      "(array([0.95, 0.01, 0.04]), array([0.96, 0.  , 0.04]), array([0.97, 0.  , 0.03]), array([0.94, 0.  , 0.06]), array([1., 0., 0.]), 18.132945272194746, 143.28113541405065, 171.71986965741726)\n"
     ]
    }
   ],
   "source": [
    "setup_shi_ex  = lambda yn,xn: setup_shi(yn,xn,num_params=num_params)\n",
    "gen_data_ex = lambda : gen_data(nobs=500, beta =beta)\n",
    "mc_out = vuong_tests5.monte_carlo(100,gen_data_ex,setup_shi,trials=100)\n",
    "vuong_tests5.print_mc(mc_out)\n",
    "print(mc_out)"
   ]
  },
  {
   "cell_type": "code",
   "execution_count": 14,
   "metadata": {},
   "outputs": [
    {
     "name": "stdout",
     "output_type": "stream",
     "text": [
      "\\begin{tabular}{|c|c|c|c|c|c|}\n",
      "\\hline\n",
      "Model &  Normal & Bootstrap & Bootstrap-pt & Bootstrap-bc & Shi (2015) \\\\ \\hline \\hline\n",
      "No selection & 0.97 & 0.95 & 0.98 & 0.98 & 1.00   \\\\\n",
      "Model 1 & 0.02 & 0.03 & 0.01 & 0.01 & 0.00   \\\\\n",
      "Model 2 & 0.01 & 0.02 & 0.01 & 0.01 & 0.00   \\\\\n",
      "\\hline\n",
      "\\end{tabular}\n",
      "(array([0.97, 0.02, 0.01]), array([0.95, 0.03, 0.02]), array([0.98, 0.01, 0.01]), array([0.98, 0.01, 0.01]), array([1., 0., 0.]), 36.529033024461285, 240.90609196635, 244.30972402726414)\n"
     ]
    }
   ],
   "source": [
    "setup_shi_ex  = lambda yn,xn: setup_shi(yn,xn,num_params=num_params)\n",
    "gen_data_ex = lambda : gen_data(nobs=1000, beta =beta)\n",
    "mc_out = vuong_tests5.monte_carlo(100,gen_data_ex,setup_shi)\n",
    "vuong_tests5.print_mc(mc_out)\n",
    "print(mc_out)"
   ]
  },
  {
   "cell_type": "markdown",
   "metadata": {},
   "source": [
    "# Ex 3"
   ]
  },
  {
   "cell_type": "code",
   "execution_count": 15,
   "metadata": {},
   "outputs": [],
   "source": [
    "beta = 2"
   ]
  },
  {
   "cell_type": "code",
   "execution_count": 16,
   "metadata": {},
   "outputs": [
    {
     "name": "stdout",
     "output_type": "stream",
     "text": [
      "\\begin{tabular}{|c|c|c|c|c|c|}\n",
      "\\hline\n",
      "Model &  Normal & Bootstrap & Bootstrap-pt & Bootstrap-bc & Shi (2015) \\\\ \\hline \\hline\n",
      "No selection & 0.95 & 0.94 & 0.92 & 0.94 & 0.99   \\\\\n",
      "Model 1 & 0.02 & 0.01 & 0.02 & 0.01 & 0.00   \\\\\n",
      "Model 2 & 0.03 & 0.05 & 0.06 & 0.05 & 0.01   \\\\\n",
      "\\hline\n",
      "\\end{tabular}\n",
      "(array([0.95, 0.02, 0.03]), array([0.94, 0.01, 0.05]), array([0.92, 0.02, 0.06]), array([0.94, 0.01, 0.05]), array([0.99, 0.  , 0.01]), 9.326506378000952, 155.04394633485532, 160.25895058865012)\n"
     ]
    }
   ],
   "source": [
    "setup_shi_ex  = lambda yn,xn: setup_shi(yn,xn,num_params=num_params)\n",
    "gen_data_ex = lambda : gen_data(nobs=250, beta =beta)\n",
    "mc_out = vuong_tests5.monte_carlo(100,gen_data_ex,setup_shi,trials=100)\n",
    "vuong_tests5.print_mc(mc_out)\n",
    "print(mc_out)"
   ]
  },
  {
   "cell_type": "code",
   "execution_count": 17,
   "metadata": {},
   "outputs": [
    {
     "name": "stdout",
     "output_type": "stream",
     "text": [
      "\\begin{tabular}{|c|c|c|c|c|c|}\n",
      "\\hline\n",
      "Model &  Normal & Bootstrap & Bootstrap-pt & Bootstrap-bc & Shi (2015) \\\\ \\hline \\hline\n",
      "No selection & 0.94 & 0.91 & 0.90 & 0.91 & 1.00   \\\\\n",
      "Model 1 & 0.02 & 0.04 & 0.03 & 0.03 & 0.00   \\\\\n",
      "Model 2 & 0.04 & 0.05 & 0.07 & 0.06 & 0.00   \\\\\n",
      "\\hline\n",
      "\\end{tabular}\n",
      "(array([0.94, 0.02, 0.04]), array([0.91, 0.04, 0.05]), array([0.9 , 0.03, 0.07]), array([0.91, 0.03, 0.06]), array([1., 0., 0.]), 40.95885401894301, 232.39155204304345, 229.75937490530978)\n"
     ]
    }
   ],
   "source": [
    "setup_shi_ex  = lambda yn,xn: setup_shi(yn,xn,num_params=num_params)\n",
    "gen_data_ex = lambda : gen_data(nobs=500, beta =beta)\n",
    "mc_out = vuong_tests5.monte_carlo(100,gen_data_ex,setup_shi,trials=100)\n",
    "vuong_tests5.print_mc(mc_out)\n",
    "print(mc_out)"
   ]
  },
  {
   "cell_type": "code",
   "execution_count": 18,
   "metadata": {},
   "outputs": [
    {
     "name": "stdout",
     "output_type": "stream",
     "text": [
      "\\begin{tabular}{|c|c|c|c|c|c|}\n",
      "\\hline\n",
      "Model &  Normal & Bootstrap & Bootstrap-pt & Bootstrap-bc & Shi (2015) \\\\ \\hline \\hline\n",
      "No selection & 0.96 & 0.95 & 0.95 & 0.95 & 1.00   \\\\\n",
      "Model 1 & 0.01 & 0.01 & 0.01 & 0.02 & 0.00   \\\\\n",
      "Model 2 & 0.03 & 0.04 & 0.04 & 0.03 & 0.00   \\\\\n",
      "\\hline\n",
      "\\end{tabular}\n",
      "(array([0.96, 0.01, 0.03]), array([0.95, 0.01, 0.04]), array([0.95, 0.01, 0.04]), array([0.95, 0.02, 0.03]), array([1., 0., 0.]), -22.38897799515464, 314.4139043830383, 320.7248762667574)\n"
     ]
    }
   ],
   "source": [
    "setup_shi_ex  = lambda yn,xn: setup_shi(yn,xn,num_params=num_params)\n",
    "gen_data_ex = lambda : gen_data(nobs=1000, beta =beta)\n",
    "mc_out = vuong_tests5.monte_carlo(100,gen_data_ex,setup_shi)\n",
    "vuong_tests5.print_mc(mc_out)\n",
    "print(mc_out)"
   ]
  },
  {
   "cell_type": "code",
   "execution_count": 19,
   "metadata": {},
   "outputs": [],
   "source": [
    "beta = 3"
   ]
  }
 ],
 "metadata": {
  "kernelspec": {
   "display_name": "Python 3",
   "language": "python",
   "name": "python3"
  },
  "language_info": {
   "codemirror_mode": {
    "name": "ipython",
    "version": 3
   },
   "file_extension": ".py",
   "mimetype": "text/x-python",
   "name": "python",
   "nbconvert_exporter": "python",
   "pygments_lexer": "ipython3",
   "version": "3.8.8"
  }
 },
 "nbformat": 4,
 "nbformat_minor": 2
}
