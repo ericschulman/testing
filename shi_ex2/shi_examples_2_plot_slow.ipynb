{
 "cells": [
  {
   "cell_type": "code",
   "execution_count": 1,
   "metadata": {},
   "outputs": [],
   "source": [
    "%load_ext autoreload\n",
    "%autoreload 2\n",
    "\n",
    "from statsmodels.base.model import GenericLikelihoodModel\n",
    "\n",
    "import numpy as np\n",
    "import matplotlib.pyplot as plt\n",
    "import statsmodels.api as sm\n",
    "import scipy.stats as stats\n",
    "import sys\n",
    "\n",
    "from scipy.stats import multivariate_normal\n",
    "\n",
    "sys.path.append(\"../\")\n",
    "import vuong_tests_slow"
   ]
  },
  {
   "cell_type": "code",
   "execution_count": 2,
   "metadata": {},
   "outputs": [
    {
     "name": "stdout",
     "output_type": "stream",
     "text": [
      "(1000, 1) (1, 1)\n"
     ]
    }
   ],
   "source": [
    "class JointNormal1(GenericLikelihoodModel):\n",
    "    \n",
    "    def loglikeobs(self, params):\n",
    "        data = np.concatenate([[self.endog],self.exog.transpose()],axis=0)\n",
    "        mult_rv = stats.multivariate_normal([params[0], 0.0], [[1,0],[0,1]])\n",
    "        return mult_rv.logpdf(data.transpose())\n",
    "    \n",
    "    \n",
    "class JointNormal2(GenericLikelihoodModel):\n",
    "    \n",
    "    def loglikeobs(self, params):\n",
    "        data = np.concatenate([[self.endog],self.exog.transpose()],axis=0)\n",
    "        mult_rv = stats.multivariate_normal([0.0, params[0]], [[1,0],[0,1]])\n",
    "        return mult_rv.logpdf(data.transpose())\n",
    "\n",
    "\n",
    "def setup_shi(yn,xn):\n",
    "    # model 1 grad, etc.\n",
    "    nobs = yn.shape[0]\n",
    "    model1_param = np.array([yn.mean()])\n",
    "    model2_param = np.array([xn.mean()])\n",
    "    \n",
    "    model1_deriv = JointNormal1(yn,xn)\n",
    "    ll1 = model1_deriv.loglikeobs(model1_param)\n",
    "    grad1 =  model1_deriv.score_obs(model1_param).reshape( (nobs,1) )\n",
    "    hess1 = model1_deriv.hessian(model1_param)\n",
    "    \n",
    "    \n",
    "    model2_deriv = JointNormal2(yn,xn)\n",
    "    ll2 = model2_deriv.loglikeobs(model2_param)\n",
    "    grad2 =  model2_deriv.score_obs(model2_param).reshape( (nobs,1) )  \n",
    "    hess2 = model2_deriv.hessian(model2_param)\n",
    "    \n",
    "    return ll1,grad1,hess1,model1_param,ll2,grad2,hess2,model2_param\n",
    "\n",
    "def gen_data(beta= 1.5, nobs=1000):\n",
    "    cov = [[25, 0], [0, 1]]\n",
    "    data = np.random.multivariate_normal([beta,beta], [[25,0],[0,1]],  nobs)\n",
    "    return data[:,0],data[:,1],nobs\n",
    "\n",
    "yn,xn,nobs = gen_data()\n",
    "ll1,grad1,hess1,params1,ll2,grad2,hess2,params2 = setup_shi(yn,xn)\n",
    "print(grad1.shape,hess1.shape)\n",
    "#NOTE! Weird size distortions with shi's test when theta = .5...."
   ]
  },
  {
   "cell_type": "markdown",
   "metadata": {},
   "source": [
    "# Size stuff"
   ]
  },
  {
   "cell_type": "code",
   "execution_count": 3,
   "metadata": {
    "scrolled": false
   },
   "outputs": [
    {
     "ename": "ValueError",
     "evalue": "not enough values to unpack (expected 10, got 8)",
     "output_type": "error",
     "traceback": [
      "\u001b[1;31m---------------------------------------------------------------------------\u001b[0m",
      "\u001b[1;31mValueError\u001b[0m                                Traceback (most recent call last)",
      "Cell \u001b[1;32mIn[3], line 7\u001b[0m\n\u001b[0;32m      5\u001b[0m setup_shi_ex  \u001b[38;5;241m=\u001b[39m \u001b[38;5;28;01mlambda\u001b[39;00m yn,xn: setup_shi(yn,xn,num_params\u001b[38;5;241m=\u001b[39mnum_params)\n\u001b[0;32m      6\u001b[0m gen_data_ex \u001b[38;5;241m=\u001b[39m \u001b[38;5;28;01mlambda\u001b[39;00m : gen_data(nobs\u001b[38;5;241m=\u001b[39m\u001b[38;5;241m100\u001b[39m, beta \u001b[38;5;241m=\u001b[39mbeta)\n\u001b[1;32m----> 7\u001b[0m mc_out \u001b[38;5;241m=\u001b[39m \u001b[43mvuong_tests_slow\u001b[49m\u001b[38;5;241;43m.\u001b[39;49m\u001b[43mmonte_carlo\u001b[49m\u001b[43m(\u001b[49m\u001b[38;5;241;43m100\u001b[39;49m\u001b[43m,\u001b[49m\u001b[43mgen_data_ex\u001b[49m\u001b[43m,\u001b[49m\u001b[43msetup_shi\u001b[49m\u001b[43m,\u001b[49m\u001b[43mtrials\u001b[49m\u001b[38;5;241;43m=\u001b[39;49m\u001b[38;5;241;43m100\u001b[39;49m\u001b[43m)\u001b[49m\n\u001b[0;32m      8\u001b[0m reg,twostep, boot1,boot2,boot3,shi, llr,std, omega \u001b[38;5;241m=\u001b[39m mc_out\n\u001b[0;32m      9\u001b[0m \u001b[38;5;28mprint\u001b[39m(reg,twostep,shi)\n",
      "File \u001b[1;32m~\\Documents\\testing\\shi_ex2\\..\\vuong_tests_slow.py:71\u001b[0m, in \u001b[0;36mmonte_carlo\u001b[1;34m(total, gen_data, setup_shi, trials)\u001b[0m\n\u001b[0;32m     68\u001b[0m yn,xn,nobs \u001b[38;5;241m=\u001b[39m gen_data()\n\u001b[0;32m     70\u001b[0m \u001b[38;5;66;03m#update the llr\u001b[39;00m\n\u001b[1;32m---> 71\u001b[0m ll1,grad1,hess1,params1,model1,ll2,grad2,hess2,params2,model2 \u001b[38;5;241m=\u001b[39m setup_shi(yn,xn)\n\u001b[0;32m     72\u001b[0m llrn \u001b[38;5;241m=\u001b[39m (ll1 \u001b[38;5;241m-\u001b[39m ll2)\u001b[38;5;241m.\u001b[39msum()\n\u001b[0;32m     73\u001b[0m omegan \u001b[38;5;241m=\u001b[39m np\u001b[38;5;241m.\u001b[39msqrt( (ll1 \u001b[38;5;241m-\u001b[39mll2)\u001b[38;5;241m.\u001b[39mvar())\n",
      "\u001b[1;31mValueError\u001b[0m: not enough values to unpack (expected 10, got 8)"
     ]
    }
   ],
   "source": [
    "betas = np.linspace(0,3,10)\n",
    "results = []\n",
    "\n",
    "for beta in betas:\n",
    "    setup_shi_ex  = lambda yn,xn: setup_shi(yn,xn,num_params=num_params)\n",
    "    gen_data_ex = lambda : gen_data(nobs=100, beta =beta)\n",
    "    mc_out = vuong_tests_slow.monte_carlo(100,gen_data_ex,setup_shi,trials=100)\n",
    "    reg,twostep,boot3,shi, llr,std, omega = mc_out\n",
    "    print(reg,twostep,shi)\n",
    "    results.append([reg,twostep,shi,boot3])\n"
   ]
  },
  {
   "cell_type": "code",
   "execution_count": null,
   "metadata": {},
   "outputs": [],
   "source": [
    "results2 = np.array(results)\n",
    "print(results2.shape)\n",
    "\n",
    "plt.plot(betas,1-results2[:,0,0],label='Vuong 1 step')\n",
    "plt.plot(betas,1-results2[:,1,0],label='Vuong 2 step')\n",
    "plt.plot(betas,1-results2[:,2,0],label='Shi (2015)')\n",
    "plt.plot(betas,1-results2[:,5,0],label='Bootstrap ND')\n",
    "plt.legend()\n",
    "plt.show()"
   ]
  },
  {
   "cell_type": "markdown",
   "metadata": {},
   "source": [
    "# Power stuff"
   ]
  },
  {
   "cell_type": "code",
   "execution_count": null,
   "metadata": {},
   "outputs": [],
   "source": []
  },
  {
   "cell_type": "code",
   "execution_count": null,
   "metadata": {},
   "outputs": [],
   "source": [
    "def gen_data2(beta= 1.5, nobs=1000):\n",
    "    cov = [[25, 0], [0, 1]]\n",
    "    data = np.random.multivariate_normal([0,beta], [[25,0],[0,1]],  nobs)\n",
    "    return data[:,0],data[:,1],nobs"
   ]
  }
 ],
 "metadata": {
  "kernelspec": {
   "display_name": "Python 3 (ipykernel)",
   "language": "python",
   "name": "python3"
  },
  "language_info": {
   "codemirror_mode": {
    "name": "ipython",
    "version": 3
   },
   "file_extension": ".py",
   "mimetype": "text/x-python",
   "name": "python",
   "nbconvert_exporter": "python",
   "pygments_lexer": "ipython3",
   "version": "3.10.9"
  }
 },
 "nbformat": 4,
 "nbformat_minor": 2
}
