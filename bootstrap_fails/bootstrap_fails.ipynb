{
 "cells": [
  {
   "cell_type": "code",
   "execution_count": 33,
   "id": "339fd5f0",
   "metadata": {},
   "outputs": [
    {
     "name": "stdout",
     "output_type": "stream",
     "text": [
      "The autoreload extension is already loaded. To reload it, use:\n",
      "  %reload_ext autoreload\n"
     ]
    }
   ],
   "source": [
    "%load_ext autoreload\n",
    "%autoreload 2\n",
    "\n",
    "import numpy as np\n",
    "import matplotlib.pyplot as plt\n",
    "import statsmodels.api as sm\n",
    "from statsmodels.base.model import GenericLikelihoodModel\n",
    "import scipy.stats as stats\n",
    "import sys\n",
    "\n",
    "sys.path.append(\"../\")\n",
    "import vuong_tests5"
   ]
  },
  {
   "cell_type": "code",
   "execution_count": 34,
   "id": "cfa8dee2",
   "metadata": {},
   "outputs": [],
   "source": [
    "class OLS_loglike(GenericLikelihoodModel):\n",
    "    \n",
    "    def __init__(self, *args,ols=False, **kwargs):\n",
    "        super(OLS_loglike,self).__init__(*args,**kwargs)\n",
    "        self.ols = ols\n",
    "\n",
    "    def loglikeobs(self, params):\n",
    "        y = self.endog\n",
    "        x = self.exog\n",
    "        mu_y = np.matmul(x,params)  \n",
    "        resid = y - mu_y\n",
    "        sigma = np.sqrt(np.sum(resid**2)/resid.shape[0])\n",
    "        pr_y = stats.norm.logpdf( resid, loc=0,scale=sigma )\n",
    "        return pr_y"
   ]
  },
  {
   "cell_type": "code",
   "execution_count": 35,
   "id": "2a0a035e",
   "metadata": {},
   "outputs": [],
   "source": [
    "def setup_model(yn,xn):\n",
    "    \"\"\"setup models for ease\"\"\"\n",
    "    model1 = sm.OLS(yn,sm.add_constant(xn))\n",
    "    model1_fit = model1.fit(disp=False)\n",
    "    params1 = (model1_fit.params)\n",
    "    model1_deriv = OLS_loglike(yn,sm.add_constant(xn))\n",
    "    ll1 = model1_deriv.loglikeobs(model1_fit.params)\n",
    "    grad1 =  model1_deriv.score_obs(model1_fit.params)    \n",
    "    hess1 = model1_deriv.hessian(model1_fit.params)\n",
    "    return ll1,grad1,hess1,params1,model1_fit.resid\n",
    "\n",
    "\n",
    "def setup_test(yn,xn):\n",
    "    lls = []\n",
    "    grads = []\n",
    "    hesss = []\n",
    "    params = []\n",
    "    resids = []\n",
    "    for i in range(xn.shape[1]):\n",
    "        ll,grad,hess,param,resid = setup_model(yn,xn[:,i])\n",
    "        lls.append(ll)\n",
    "        grads.append(grad)\n",
    "        hesss.append(hess)\n",
    "        params.append(param)\n",
    "        resids.append(resid)\n",
    "    \n",
    "    #determine 1 and 2\n",
    "    ind1 = 0\n",
    "    ind2 = 1\n",
    "    return (lls[ind1],grads[ind1],hesss[ind1],params[ind1],resids[ind1],\n",
    "            lls[ind2],grads[ind2],hesss[ind2],params[ind2],resids[ind2])"
   ]
  },
  {
   "cell_type": "code",
   "execution_count": 36,
   "id": "6b1e690c",
   "metadata": {},
   "outputs": [],
   "source": [
    "def test_mse(resid1,resid2):\n",
    "    nobs = resid1.shape[0]\n",
    "    llr = -1*(resid1**2 - resid2**2).sum()\n",
    "    omega = np.clip(np.sqrt((resid1**2 - resid2**2).var()),.1,10000)\n",
    "    test_stat = llr/(omega*np.sqrt(nobs))\n",
    "    return 1*(test_stat >= 1.96) + 2*( test_stat <= -1.96)\n",
    "\n",
    "def regular_test(ll1,grad1,hess1,params1,ll2,grad2,hess2,params2):\n",
    "    nobs = ll1.shape[0]\n",
    "    omega = np.sqrt((ll1 -ll2).var())\n",
    "    llr = (ll1 - ll2).sum()\n",
    "    test_stat = llr/(omega*np.sqrt(nobs))\n",
    "    return 1*(test_stat >= 1.96) + 2*( test_stat <= -1.96)\n"
   ]
  },
  {
   "cell_type": "code",
   "execution_count": 37,
   "id": "3bb1c6dc",
   "metadata": {},
   "outputs": [],
   "source": [
    "def monte_carlo(total,gen_data,setup_test,trials=100):\n",
    "    reg = np.array([0, 0 ,0])\n",
    "    mse = np.array([0, 0 ,0])\n",
    "    omega = 0\n",
    "    llr = 0\n",
    "    var = 0\n",
    "\n",
    "    for i in range(total):\n",
    "        \n",
    "        #setup data\n",
    "        np.random.seed()\n",
    "        yn,xn,nobs = gen_data()\n",
    "        \n",
    "        #update llr and summary stats\n",
    "        ll1,grad1,hess1,params1,resid1,ll2,grad2,hess2,params2,resid2 = setup_test(yn,xn)\n",
    "        llrn = (ll1 - ll2).sum()\n",
    "        omegan = np.sqrt( (ll1 -ll2).var())\n",
    "        llr = llr +llrn\n",
    "        var = llrn**2 + var\n",
    "        omega = omega +omegan\n",
    "    \n",
    "        reg_index = regular_test(ll1,grad1,hess1,params1,ll2,grad2,hess2,params2)\n",
    "        mse_index = test_mse(resid1,resid2)\n",
    "        \n",
    "        reg[reg_index] = reg[reg_index] + 1\n",
    "        mse[mse_index] = mse[mse_index] + 1\n",
    "\n",
    "    return  reg/total,mse/total,llr/total,np.sqrt( (var/total-(llr/total)**2) ),omega*np.sqrt(nobs)/total\n",
    "\n"
   ]
  },
  {
   "cell_type": "code",
   "execution_count": 38,
   "id": "b67310e3",
   "metadata": {},
   "outputs": [],
   "source": [
    "def gen_data(nobs=1000, a=0.25):\n",
    "    num_params=2\n",
    "    x = np.random.normal(scale=1., size=(nobs,num_params))\n",
    "    e = np.random.normal(loc=0.0, scale=1.0, size=nobs)\n",
    "    y = 1 + a*x.sum(axis=1)\n",
    "    return y,x,nobs\n",
    "\n",
    "\n",
    "yn,xn,nobs = gen_data()"
   ]
  },
  {
   "cell_type": "code",
   "execution_count": 44,
   "id": "2a071a7b",
   "metadata": {},
   "outputs": [
    {
     "name": "stderr",
     "output_type": "stream",
     "text": [
      "<ipython-input-36-9e702ef352a5>:12: RuntimeWarning: divide by zero encountered in double_scalars\n",
      "  test_stat = llr/(omega*np.sqrt(nobs))\n"
     ]
    },
    {
     "name": "stdout",
     "output_type": "stream",
     "text": [
      "(array([0.09, 0.42, 0.49]), array([1., 0., 0.]), nan, nan, nan)\n"
     ]
    }
   ],
   "source": [
    "gen_data_ex = lambda : gen_data(nobs=1000, a=0.0)\n",
    "print(monte_carlo(100,gen_data_ex,setup_test))"
   ]
  },
  {
   "cell_type": "code",
   "execution_count": 47,
   "id": "77f6a39c",
   "metadata": {},
   "outputs": [
    {
     "name": "stdout",
     "output_type": "stream",
     "text": [
      "(array([0.957, 0.026, 0.017]), array([1., 0., 0.]), 0.15940412160627052, 30.633867637823766, 31.598848052500486)\n"
     ]
    }
   ],
   "source": [
    "gen_data_ex = lambda : gen_data(nobs=1000, a=0.1)\n",
    "print(monte_carlo(1000,gen_data_ex,setup_test))"
   ]
  },
  {
   "cell_type": "code",
   "execution_count": 48,
   "id": "bd18c92f",
   "metadata": {},
   "outputs": [
    {
     "name": "stdout",
     "output_type": "stream",
     "text": [
      "(array([0.948, 0.027, 0.025]), array([0.95 , 0.026, 0.024]), 0.4387830602936964, 31.425148271382803, 31.52626350233343)\n"
     ]
    }
   ],
   "source": [
    "gen_data_ex = lambda : gen_data(nobs=1000, a=1.0)\n",
    "print(monte_carlo(1000,gen_data_ex,setup_test))"
   ]
  },
  {
   "cell_type": "code",
   "execution_count": 52,
   "id": "be175615",
   "metadata": {},
   "outputs": [
    {
     "name": "stdout",
     "output_type": "stream",
     "text": [
      "(array([0.99, 0.01, 0.  ]), array([1., 0., 0.]), 0.024584422381902372, 0.8364774270758268, 0.9527563134697778)\n"
     ]
    }
   ],
   "source": [
    "def gen_data(nobs=1000, a=0.25):\n",
    "    num_params=2\n",
    "    x = np.random.normal(scale=1., size=(nobs,num_params))\n",
    "    e = np.random.pareto(1.5, size=nobs)\n",
    "    y = 1 + a*x.sum(axis=1) + e\n",
    "    return y,x,nobs\n",
    "\n",
    "\n",
    "gen_data_ex = lambda : gen_data(nobs=100, a=0.0)\n",
    "print(monte_carlo(100,gen_data_ex,setup_test))"
   ]
  },
  {
   "cell_type": "code",
   "execution_count": 53,
   "id": "3fac65e6",
   "metadata": {},
   "outputs": [
    {
     "name": "stdout",
     "output_type": "stream",
     "text": [
      "(array([0.993, 0.003, 0.004]), array([1., 0., 0.]), 0.04855386456241457, 1.1308121614527296, 1.1226146947872764)\n"
     ]
    }
   ],
   "source": [
    "gen_data_ex = lambda : gen_data(nobs=100, a=0.1)\n",
    "print(monte_carlo(1000,gen_data_ex,setup_test))"
   ]
  },
  {
   "cell_type": "code",
   "execution_count": 54,
   "id": "2ec07b23",
   "metadata": {},
   "outputs": [
    {
     "name": "stdout",
     "output_type": "stream",
     "text": [
      "(array([0.862, 0.08 , 0.058]), array([0.977, 0.015, 0.008]), 0.22264581471945702, 4.181187665651652, 3.128958085265526)\n"
     ]
    }
   ],
   "source": [
    "gen_data_ex = lambda : gen_data(nobs=100, a=1.0)\n",
    "print(monte_carlo(1000,gen_data_ex,setup_test))"
   ]
  },
  {
   "cell_type": "code",
   "execution_count": null,
   "id": "0d8f7a61",
   "metadata": {},
   "outputs": [],
   "source": []
  }
 ],
 "metadata": {
  "kernelspec": {
   "display_name": "Python 3",
   "language": "python",
   "name": "python3"
  },
  "language_info": {
   "codemirror_mode": {
    "name": "ipython",
    "version": 3
   },
   "file_extension": ".py",
   "mimetype": "text/x-python",
   "name": "python",
   "nbconvert_exporter": "python",
   "pygments_lexer": "ipython3",
   "version": "3.8.8"
  }
 },
 "nbformat": 4,
 "nbformat_minor": 5
}
