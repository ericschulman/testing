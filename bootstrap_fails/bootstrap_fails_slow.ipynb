{
 "cells": [
  {
   "cell_type": "code",
   "execution_count": 1,
   "id": "339fd5f0",
   "metadata": {},
   "outputs": [],
   "source": [
    "%load_ext autoreload\n",
    "%autoreload 2\n",
    "\n",
    "import numpy as np\n",
    "import matplotlib.pyplot as plt\n",
    "import statsmodels.api as sm\n",
    "from statsmodels.base.model import GenericLikelihoodModel\n",
    "import scipy.stats as stats\n",
    "import sys\n",
    "\n",
    "sys.path.append(\"../\")\n",
    "import vuong_tests6"
   ]
  },
  {
   "cell_type": "code",
   "execution_count": 2,
   "id": "cfa8dee2",
   "metadata": {},
   "outputs": [],
   "source": [
    "class OLS_loglike(GenericLikelihoodModel):\n",
    "    \n",
    "    def __init__(self, *args,ols=False, **kwargs):\n",
    "        super(OLS_loglike,self).__init__(*args,**kwargs)\n",
    "        self.ols = ols\n",
    "\n",
    "    def loglikeobs(self, params):\n",
    "        y = self.endog\n",
    "        x = self.exog\n",
    "        mu_y = np.matmul(x,params)  \n",
    "        resid = y - mu_y\n",
    "        sigma = 1#np.sqrt(np.sum(resid**2)/resid.shape[0])\n",
    "        pr_y = stats.norm.logpdf( resid, loc=0,scale=sigma )\n",
    "        return pr_y"
   ]
  },
  {
   "cell_type": "code",
   "execution_count": 3,
   "id": "2a0a035e",
   "metadata": {},
   "outputs": [],
   "source": [
    "def setup_model(yn,xn):\n",
    "    \"\"\"setup models for ease\"\"\"\n",
    "    model1 = sm.OLS(yn,sm.add_constant(xn))\n",
    "    model1_fit = model1.fit(disp=False)\n",
    "    params1 = (model1_fit.params)\n",
    "    model1_deriv = OLS_loglike(yn,sm.add_constant(xn))\n",
    "    ll1 = model1_deriv.loglikeobs(model1_fit.params)\n",
    "    grad1 =  model1_deriv.score_obs(model1_fit.params)    \n",
    "    hess1 = model1_deriv.hessian(model1_fit.params)\n",
    "    return ll1,grad1,hess1,params1\n",
    "\n",
    "\n",
    "def setup_test(yn,xn):\n",
    "    lls = []\n",
    "    grads = []\n",
    "    hesss = []\n",
    "    params = []\n",
    "    for i in range(xn.shape[1]):\n",
    "        ll,grad,hess,param = setup_model(yn,xn[:,i])\n",
    "        lls.append(ll)\n",
    "        grads.append(grad)\n",
    "        hesss.append(hess)\n",
    "        params.append(param)\n",
    "    \n",
    "    #determine 1 and 2\n",
    "    ind1 = 0\n",
    "    ind2 = 1\n",
    "    return (lls[ind1],grads[ind1],hesss[ind1],params[ind1],\n",
    "            lls[ind2],grads[ind2],hesss[ind2],params[ind2])"
   ]
  },
  {
   "cell_type": "code",
   "execution_count": 4,
   "id": "be175615",
   "metadata": {},
   "outputs": [],
   "source": [
    "def gen_data(nobs=1000, a=0.25):\n",
    "    num_params=2\n",
    "    x = np.random.normal(scale=1., size=(nobs,num_params))\n",
    "    e = np.sqrt(np.random.pareto(1.5, size=nobs))\n",
    "    y = 1 + a*x.sum(axis=1) + e\n",
    "    return y,x,nobs\n",
    "\n",
    "num_sims=100"
   ]
  },
  {
   "cell_type": "code",
   "execution_count": 5,
   "id": "3fac65e6",
   "metadata": {
    "scrolled": false
   },
   "outputs": [
    {
     "name": "stdout",
     "output_type": "stream",
     "text": [
      "\\begin{tabular}{|c|c|c|c|c|c|c|}\n",
      "\\hline\n",
      "Model &  Normal & Two-Step & Bootstrap & Bootstrap-TIC & Bootstrap-ND & Shi (2015) \\\\ \\hline \\hline\n",
      "No selection & 0.95 & 0.95 & 0.93 & 0.93 & 0.93 & 1.00   \\\\\n",
      "Model 1 & 0.02 & 0.02 & 0.03 & 0.03 & 0.03 & 0.00   \\\\\n",
      "Model 2 & 0.03 & 0.03 & 0.04 & 0.04 & 0.04 & 0.00   \\\\\n",
      "\\hline\n",
      "\\end{tabular}\n"
     ]
    }
   ],
   "source": [
    "gen_data_ex = lambda : gen_data(nobs=100, a=1.0)\n",
    "mc_out = vuong_tests6.monte_carlo(num_sims,gen_data_ex,setup_test)\n",
    "vuong_tests6.print_mc(mc_out)"
   ]
  },
  {
   "cell_type": "code",
   "execution_count": 6,
   "id": "2ec07b23",
   "metadata": {},
   "outputs": [
    {
     "name": "stdout",
     "output_type": "stream",
     "text": [
      "\\begin{tabular}{|c|c|c|c|c|c|c|}\n",
      "\\hline\n",
      "Model &  Normal & Two-Step & Bootstrap & Bootstrap-TIC & Bootstrap-ND & Shi (2015) \\\\ \\hline \\hline\n",
      "No selection & 0.96 & 0.96 & 0.96 & 0.96 & 0.96 & 0.99   \\\\\n",
      "Model 1 & 0.01 & 0.01 & 0.01 & 0.01 & 0.01 & 0.01   \\\\\n",
      "Model 2 & 0.03 & 0.03 & 0.03 & 0.03 & 0.03 & 0.00   \\\\\n",
      "\\hline\n",
      "\\end{tabular}\n"
     ]
    }
   ],
   "source": [
    "gen_data_ex = lambda : gen_data(nobs=250, a=1.0)\n",
    "mc_out = vuong_tests6.monte_carlo(num_sims,gen_data_ex,setup_test)\n",
    "vuong_tests6.print_mc(mc_out)"
   ]
  },
  {
   "cell_type": "code",
   "execution_count": 7,
   "id": "ef18a822",
   "metadata": {},
   "outputs": [
    {
     "name": "stdout",
     "output_type": "stream",
     "text": [
      "\\begin{tabular}{|c|c|c|c|c|c|c|}\n",
      "\\hline\n",
      "Model &  Normal & Two-Step & Bootstrap & Bootstrap-TIC & Bootstrap-ND & Shi (2015) \\\\ \\hline \\hline\n",
      "No selection & 0.92 & 0.92 & 0.92 & 0.92 & 0.92 & 0.96   \\\\\n",
      "Model 1 & 0.05 & 0.05 & 0.05 & 0.05 & 0.05 & 0.02   \\\\\n",
      "Model 2 & 0.03 & 0.03 & 0.03 & 0.03 & 0.03 & 0.02   \\\\\n",
      "\\hline\n",
      "\\end{tabular}\n"
     ]
    }
   ],
   "source": [
    "gen_data_ex = lambda : gen_data(nobs=500, a=1.0)\n",
    "mc_out = vuong_tests6.monte_carlo(num_sims,gen_data_ex,setup_test)\n",
    "vuong_tests6.print_mc(mc_out)"
   ]
  },
  {
   "cell_type": "code",
   "execution_count": 8,
   "id": "583b0679",
   "metadata": {},
   "outputs": [
    {
     "name": "stdout",
     "output_type": "stream",
     "text": [
      "\\begin{tabular}{|c|c|c|c|c|c|c|}\n",
      "\\hline\n",
      "Model &  Normal & Two-Step & Bootstrap & Bootstrap-TIC & Bootstrap-ND & Shi (2015) \\\\ \\hline \\hline\n",
      "No selection & 0.95 & 0.95 & 0.94 & 0.92 & 0.94 & 1.00   \\\\\n",
      "Model 1 & 0.03 & 0.03 & 0.04 & 0.04 & 0.04 & 0.00   \\\\\n",
      "Model 2 & 0.02 & 0.02 & 0.02 & 0.04 & 0.02 & 0.00   \\\\\n",
      "\\hline\n",
      "\\end{tabular}\n"
     ]
    }
   ],
   "source": [
    "gen_data_ex = lambda : gen_data(nobs=100, a=2.0)\n",
    "mc_out = vuong_tests6.monte_carlo(num_sims,gen_data_ex,setup_test)\n",
    "vuong_tests6.print_mc(mc_out)"
   ]
  },
  {
   "cell_type": "code",
   "execution_count": 9,
   "id": "0d8f7a61",
   "metadata": {},
   "outputs": [
    {
     "name": "stdout",
     "output_type": "stream",
     "text": [
      "\\begin{tabular}{|c|c|c|c|c|c|c|}\n",
      "\\hline\n",
      "Model &  Normal & Two-Step & Bootstrap & Bootstrap-TIC & Bootstrap-ND & Shi (2015) \\\\ \\hline \\hline\n",
      "No selection & 0.97 & 0.97 & 0.96 & 0.96 & 0.96 & 1.00   \\\\\n",
      "Model 1 & 0.02 & 0.02 & 0.02 & 0.02 & 0.02 & 0.00   \\\\\n",
      "Model 2 & 0.01 & 0.01 & 0.02 & 0.02 & 0.02 & 0.00   \\\\\n",
      "\\hline\n",
      "\\end{tabular}\n"
     ]
    }
   ],
   "source": [
    "gen_data_ex = lambda : gen_data(nobs=250, a=2.0)\n",
    "mc_out = vuong_tests6.monte_carlo(num_sims,gen_data_ex,setup_test)\n",
    "vuong_tests6.print_mc(mc_out)"
   ]
  },
  {
   "cell_type": "code",
   "execution_count": 10,
   "id": "b5ee443e",
   "metadata": {},
   "outputs": [
    {
     "name": "stdout",
     "output_type": "stream",
     "text": [
      "\\begin{tabular}{|c|c|c|c|c|c|c|}\n",
      "\\hline\n",
      "Model &  Normal & Two-Step & Bootstrap & Bootstrap-TIC & Bootstrap-ND & Shi (2015) \\\\ \\hline \\hline\n",
      "No selection & 0.98 & 0.98 & 0.97 & 0.98 & 0.98 & 0.98   \\\\\n",
      "Model 1 & 0.02 & 0.02 & 0.02 & 0.02 & 0.02 & 0.02   \\\\\n",
      "Model 2 & 0.00 & 0.00 & 0.01 & 0.00 & 0.00 & 0.00   \\\\\n",
      "\\hline\n",
      "\\end{tabular}\n"
     ]
    }
   ],
   "source": [
    "gen_data_ex = lambda : gen_data(nobs=500, a=2.0)\n",
    "mc_out = vuong_tests6.monte_carlo(num_sims,gen_data_ex,setup_test)\n",
    "vuong_tests6.print_mc(mc_out)"
   ]
  },
  {
   "cell_type": "markdown",
   "id": "8fdc31ab",
   "metadata": {},
   "source": [
    "# Power stuff"
   ]
  },
  {
   "cell_type": "code",
   "execution_count": 11,
   "id": "ebfe30c3",
   "metadata": {},
   "outputs": [],
   "source": [
    "def gen_data(nobs=1000, a=0.25):\n",
    "    num_params=2\n",
    "    x = np.random.normal(scale=1., size=(nobs,num_params))\n",
    "    e = np.sqrt(np.random.pareto(1.5, size=nobs))\n",
    "    y = 1 + a*x[:,0] + e\n",
    "    return y,x,nobs\n",
    "\n",
    "num_sims=100"
   ]
  },
  {
   "cell_type": "code",
   "execution_count": 12,
   "id": "75085d38",
   "metadata": {
    "scrolled": false
   },
   "outputs": [
    {
     "name": "stdout",
     "output_type": "stream",
     "text": [
      "\\begin{tabular}{|c|c|c|c|c|c|c|}\n",
      "\\hline\n",
      "Model &  Normal & Two-Step & Bootstrap & Bootstrap-TIC & Bootstrap-ND & Shi (2015) \\\\ \\hline \\hline\n",
      "No selection & 0.03 & 0.03 & 0.04 & 0.03 & 0.04 & 0.12   \\\\\n",
      "Model 1 & 0.97 & 0.97 & 0.96 & 0.97 & 0.96 & 0.88   \\\\\n",
      "Model 2 & 0.00 & 0.00 & 0.00 & 0.00 & 0.00 & 0.00   \\\\\n",
      "\\hline\n",
      "\\end{tabular}\n"
     ]
    }
   ],
   "source": [
    "gen_data_ex = lambda : gen_data(nobs=100, a=1.0)\n",
    "mc_out = vuong_tests6.monte_carlo(num_sims,gen_data_ex,setup_test)\n",
    "vuong_tests6.print_mc(mc_out)"
   ]
  },
  {
   "cell_type": "code",
   "execution_count": 13,
   "id": "afe6fac8",
   "metadata": {},
   "outputs": [
    {
     "name": "stdout",
     "output_type": "stream",
     "text": [
      "\\begin{tabular}{|c|c|c|c|c|c|c|}\n",
      "\\hline\n",
      "Model &  Normal & Two-Step & Bootstrap & Bootstrap-TIC & Bootstrap-ND & Shi (2015) \\\\ \\hline \\hline\n",
      "No selection & 0.01 & 0.01 & 0.01 & 0.01 & 0.01 & 0.03   \\\\\n",
      "Model 1 & 0.99 & 0.99 & 0.99 & 0.99 & 0.99 & 0.97   \\\\\n",
      "Model 2 & 0.00 & 0.00 & 0.00 & 0.00 & 0.00 & 0.00   \\\\\n",
      "\\hline\n",
      "\\end{tabular}\n"
     ]
    }
   ],
   "source": [
    "gen_data_ex = lambda : gen_data(nobs=250, a=1.0)\n",
    "mc_out = vuong_tests6.monte_carlo(num_sims,gen_data_ex,setup_test)\n",
    "vuong_tests6.print_mc(mc_out)"
   ]
  },
  {
   "cell_type": "code",
   "execution_count": 14,
   "id": "98b96ae7",
   "metadata": {},
   "outputs": [
    {
     "name": "stdout",
     "output_type": "stream",
     "text": [
      "\\begin{tabular}{|c|c|c|c|c|c|c|}\n",
      "\\hline\n",
      "Model &  Normal & Two-Step & Bootstrap & Bootstrap-TIC & Bootstrap-ND & Shi (2015) \\\\ \\hline \\hline\n",
      "No selection & 0.00 & 0.00 & 0.00 & 0.00 & 0.00 & 0.00   \\\\\n",
      "Model 1 & 1.00 & 1.00 & 1.00 & 1.00 & 1.00 & 1.00   \\\\\n",
      "Model 2 & 0.00 & 0.00 & 0.00 & 0.00 & 0.00 & 0.00   \\\\\n",
      "\\hline\n",
      "\\end{tabular}\n"
     ]
    }
   ],
   "source": [
    "gen_data_ex = lambda : gen_data(nobs=500, a=1.0)\n",
    "mc_out = vuong_tests6.monte_carlo(num_sims,gen_data_ex,setup_test)\n",
    "vuong_tests6.print_mc(mc_out)"
   ]
  },
  {
   "cell_type": "code",
   "execution_count": 15,
   "id": "7f3cea42",
   "metadata": {},
   "outputs": [
    {
     "name": "stdout",
     "output_type": "stream",
     "text": [
      "\\begin{tabular}{|c|c|c|c|c|c|c|}\n",
      "\\hline\n",
      "Model &  Normal & Two-Step & Bootstrap & Bootstrap-TIC & Bootstrap-ND & Shi (2015) \\\\ \\hline \\hline\n",
      "No selection & 0.00 & 0.00 & 0.00 & 0.00 & 0.00 & 0.00   \\\\\n",
      "Model 1 & 1.00 & 1.00 & 1.00 & 1.00 & 1.00 & 1.00   \\\\\n",
      "Model 2 & 0.00 & 0.00 & 0.00 & 0.00 & 0.00 & 0.00   \\\\\n",
      "\\hline\n",
      "\\end{tabular}\n"
     ]
    }
   ],
   "source": [
    "gen_data_ex = lambda : gen_data(nobs=100, a=2.0)\n",
    "mc_out = vuong_tests6.monte_carlo(num_sims,gen_data_ex,setup_test)\n",
    "vuong_tests6.print_mc(mc_out)"
   ]
  },
  {
   "cell_type": "code",
   "execution_count": 16,
   "id": "8cf340fe",
   "metadata": {},
   "outputs": [
    {
     "name": "stdout",
     "output_type": "stream",
     "text": [
      "\\begin{tabular}{|c|c|c|c|c|c|c|}\n",
      "\\hline\n",
      "Model &  Normal & Two-Step & Bootstrap & Bootstrap-TIC & Bootstrap-ND & Shi (2015) \\\\ \\hline \\hline\n",
      "No selection & 0.00 & 0.00 & 0.00 & 0.00 & 0.00 & 0.00   \\\\\n",
      "Model 1 & 1.00 & 1.00 & 1.00 & 1.00 & 1.00 & 1.00   \\\\\n",
      "Model 2 & 0.00 & 0.00 & 0.00 & 0.00 & 0.00 & 0.00   \\\\\n",
      "\\hline\n",
      "\\end{tabular}\n"
     ]
    }
   ],
   "source": [
    "gen_data_ex = lambda : gen_data(nobs=250, a=2.0)\n",
    "mc_out = vuong_tests6.monte_carlo(num_sims,gen_data_ex,setup_test)\n",
    "vuong_tests6.print_mc(mc_out)"
   ]
  },
  {
   "cell_type": "code",
   "execution_count": 17,
   "id": "7b439ada",
   "metadata": {},
   "outputs": [
    {
     "name": "stdout",
     "output_type": "stream",
     "text": [
      "\\begin{tabular}{|c|c|c|c|c|c|c|}\n",
      "\\hline\n",
      "Model &  Normal & Two-Step & Bootstrap & Bootstrap-TIC & Bootstrap-ND & Shi (2015) \\\\ \\hline \\hline\n",
      "No selection & 0.00 & 0.00 & 0.00 & 0.00 & 0.00 & 0.00   \\\\\n",
      "Model 1 & 1.00 & 1.00 & 1.00 & 1.00 & 1.00 & 1.00   \\\\\n",
      "Model 2 & 0.00 & 0.00 & 0.00 & 0.00 & 0.00 & 0.00   \\\\\n",
      "\\hline\n",
      "\\end{tabular}\n"
     ]
    }
   ],
   "source": [
    "gen_data_ex = lambda : gen_data(nobs=500, a=2.0)\n",
    "mc_out = vuong_tests6.monte_carlo(num_sims,gen_data_ex,setup_test)\n",
    "vuong_tests6.print_mc(mc_out)"
   ]
  },
  {
   "cell_type": "code",
   "execution_count": null,
   "id": "adce39e3",
   "metadata": {},
   "outputs": [],
   "source": []
  },
  {
   "cell_type": "code",
   "execution_count": null,
   "id": "72ff0805",
   "metadata": {},
   "outputs": [],
   "source": []
  }
 ],
 "metadata": {
  "kernelspec": {
   "display_name": "Python 3",
   "language": "python",
   "name": "python3"
  },
  "language_info": {
   "codemirror_mode": {
    "name": "ipython",
    "version": 3
   },
   "file_extension": ".py",
   "mimetype": "text/x-python",
   "name": "python",
   "nbconvert_exporter": "python",
   "pygments_lexer": "ipython3",
   "version": "3.8.8"
  }
 },
 "nbformat": 4,
 "nbformat_minor": 5
}
