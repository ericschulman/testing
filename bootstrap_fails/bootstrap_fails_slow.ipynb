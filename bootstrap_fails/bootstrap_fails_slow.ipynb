{
 "cells": [
  {
   "cell_type": "code",
   "execution_count": 22,
   "id": "339fd5f0",
   "metadata": {},
   "outputs": [
    {
     "name": "stdout",
     "output_type": "stream",
     "text": [
      "The autoreload extension is already loaded. To reload it, use:\n",
      "  %reload_ext autoreload\n"
     ]
    }
   ],
   "source": [
    "%load_ext autoreload\n",
    "%autoreload 2\n",
    "\n",
    "import numpy as np\n",
    "import matplotlib.pyplot as plt\n",
    "import statsmodels.api as sm\n",
    "from statsmodels.base.model import GenericLikelihoodModel\n",
    "import scipy.stats as stats\n",
    "import sys\n",
    "\n",
    "sys.path.append(\"../\")\n",
    "import vuong_tests5"
   ]
  },
  {
   "cell_type": "code",
   "execution_count": 23,
   "id": "cfa8dee2",
   "metadata": {},
   "outputs": [],
   "source": [
    "class OLS_loglike(GenericLikelihoodModel):\n",
    "    \n",
    "    def __init__(self, *args,ols=False, **kwargs):\n",
    "        super(OLS_loglike,self).__init__(*args,**kwargs)\n",
    "        self.ols = ols\n",
    "\n",
    "    def loglikeobs(self, params):\n",
    "        y = self.endog\n",
    "        x = self.exog\n",
    "        mu_y = np.matmul(x,params)  \n",
    "        resid = y - mu_y\n",
    "        sigma = np.sqrt(np.sum(resid**2)/resid.shape[0])\n",
    "        pr_y = stats.norm.logpdf( resid, loc=0,scale=sigma )\n",
    "        return pr_y"
   ]
  },
  {
   "cell_type": "code",
   "execution_count": 24,
   "id": "2a0a035e",
   "metadata": {},
   "outputs": [],
   "source": [
    "def setup_model(yn,xn):\n",
    "    \"\"\"setup models for ease\"\"\"\n",
    "    model1 = sm.OLS(yn,sm.add_constant(xn))\n",
    "    model1_fit = model1.fit(disp=False)\n",
    "    params1 = (model1_fit.params)\n",
    "    model1_deriv = OLS_loglike(yn,sm.add_constant(xn))\n",
    "    ll1 = model1_deriv.loglikeobs(model1_fit.params)\n",
    "    grad1 =  model1_deriv.score_obs(model1_fit.params)    \n",
    "    hess1 = model1_deriv.hessian(model1_fit.params)\n",
    "    return ll1,grad1,hess1,params1\n",
    "\n",
    "\n",
    "def setup_test(yn,xn):\n",
    "    lls = []\n",
    "    grads = []\n",
    "    hesss = []\n",
    "    params = []\n",
    "    for i in range(xn.shape[1]):\n",
    "        ll,grad,hess,param = setup_model(yn,xn[:,i])\n",
    "        lls.append(ll)\n",
    "        grads.append(grad)\n",
    "        hesss.append(hess)\n",
    "        params.append(param)\n",
    "    \n",
    "    #determine 1 and 2\n",
    "    ind1 = 0\n",
    "    ind2 = 1\n",
    "    return (lls[ind1],grads[ind1],hesss[ind1],params[ind1],\n",
    "            lls[ind2],grads[ind2],hesss[ind2],params[ind2])"
   ]
  },
  {
   "cell_type": "code",
   "execution_count": 25,
   "id": "be175615",
   "metadata": {},
   "outputs": [],
   "source": [
    "def gen_data(nobs=1000, a=0.25):\n",
    "    num_params=2\n",
    "    x = np.random.normal(scale=1., size=(nobs,num_params))\n",
    "    e = np.random.pareto(1.5, size=nobs)\n",
    "    y = 1 + a*x.sum(axis=1) + e\n",
    "    return y,x,nobs\n",
    "\n",
    "num_sims=100"
   ]
  },
  {
   "cell_type": "code",
   "execution_count": 26,
   "id": "36b9345b",
   "metadata": {},
   "outputs": [
    {
     "name": "stdout",
     "output_type": "stream",
     "text": [
      "\\begin{tabular}{|c|c|c|c|c|c|c|}\n",
      "\\hline\n",
      "Model &  Normal & Two-Step & Bootstrap & Bootstrap-pt & Bootstrap-bc & Shi (2015) \\\\ \\hline \\hline\n",
      "No selection & 1.00 & 1.00 & 0.99 & 0.99 & 0.97 & 1.00   \\\\\n",
      "Model 1 & 0.00 & 0.00 & 0.00 & 0.00 & 0.01 & 0.00   \\\\\n",
      "Model 2 & 0.00 & 0.00 & 0.01 & 0.01 & 0.02 & 0.00   \\\\\n",
      "\\hline\n",
      "\\end{tabular}\n"
     ]
    }
   ],
   "source": [
    "gen_data_ex = lambda : gen_data(nobs=100, a=0.0)\n",
    "mc_out = vuong_tests5.monte_carlo(num_sims,gen_data_ex,setup_test)\n",
    "vuong_tests5.print_mc(mc_out)"
   ]
  },
  {
   "cell_type": "code",
   "execution_count": 27,
   "id": "3fac65e6",
   "metadata": {},
   "outputs": [
    {
     "name": "stdout",
     "output_type": "stream",
     "text": [
      "\\begin{tabular}{|c|c|c|c|c|c|c|}\n",
      "\\hline\n",
      "Model &  Normal & Two-Step & Bootstrap & Bootstrap-pt & Bootstrap-bc & Shi (2015) \\\\ \\hline \\hline\n",
      "No selection & 0.98 & 1.00 & 0.96 & 0.96 & 0.96 & 0.99   \\\\\n",
      "Model 1 & 0.00 & 0.00 & 0.03 & 0.03 & 0.03 & 0.01   \\\\\n",
      "Model 2 & 0.02 & 0.00 & 0.01 & 0.01 & 0.01 & 0.00   \\\\\n",
      "\\hline\n",
      "\\end{tabular}\n"
     ]
    }
   ],
   "source": [
    "gen_data_ex = lambda : gen_data(nobs=100, a=0.1)\n",
    "mc_out = vuong_tests5.monte_carlo(num_sims,gen_data_ex,setup_test)\n",
    "vuong_tests5.print_mc(mc_out)"
   ]
  },
  {
   "cell_type": "code",
   "execution_count": 28,
   "id": "2ec07b23",
   "metadata": {},
   "outputs": [
    {
     "name": "stdout",
     "output_type": "stream",
     "text": [
      "\\begin{tabular}{|c|c|c|c|c|c|c|}\n",
      "\\hline\n",
      "Model &  Normal & Two-Step & Bootstrap & Bootstrap-pt & Bootstrap-bc & Shi (2015) \\\\ \\hline \\hline\n",
      "No selection & 0.87 & 0.97 & 0.87 & 0.87 & 0.89 & 0.96   \\\\\n",
      "Model 1 & 0.04 & 0.00 & 0.04 & 0.04 & 0.04 & 0.02   \\\\\n",
      "Model 2 & 0.09 & 0.03 & 0.09 & 0.09 & 0.07 & 0.02   \\\\\n",
      "\\hline\n",
      "\\end{tabular}\n"
     ]
    }
   ],
   "source": [
    "gen_data_ex = lambda : gen_data(nobs=100, a=1.0)\n",
    "mc_out = vuong_tests5.monte_carlo(num_sims,gen_data_ex,setup_test)\n",
    "vuong_tests5.print_mc(mc_out)"
   ]
  },
  {
   "cell_type": "code",
   "execution_count": 32,
   "id": "ef18a822",
   "metadata": {},
   "outputs": [
    {
     "name": "stdout",
     "output_type": "stream",
     "text": [
      "\\begin{tabular}{|c|c|c|c|c|c|c|}\n",
      "\\hline\n",
      "Model &  Normal & Two-Step & Bootstrap & Bootstrap-pt & Bootstrap-bc & Shi (2015) \\\\ \\hline \\hline\n",
      "No selection & 0.92 & 0.98 & 0.89 & 0.89 & 0.92 & 1.00   \\\\\n",
      "Model 1 & 0.04 & 0.01 & 0.06 & 0.07 & 0.04 & 0.00   \\\\\n",
      "Model 2 & 0.04 & 0.01 & 0.05 & 0.04 & 0.04 & 0.00   \\\\\n",
      "\\hline\n",
      "\\end{tabular}\n"
     ]
    }
   ],
   "source": [
    "gen_data_ex = lambda : gen_data(nobs=250, a=1.0)\n",
    "mc_out = vuong_tests5.monte_carlo(num_sims,gen_data_ex,setup_test)\n",
    "vuong_tests5.print_mc(mc_out)"
   ]
  },
  {
   "cell_type": "code",
   "execution_count": 33,
   "id": "583b0679",
   "metadata": {},
   "outputs": [
    {
     "name": "stdout",
     "output_type": "stream",
     "text": [
      "\\begin{tabular}{|c|c|c|c|c|c|c|}\n",
      "\\hline\n",
      "Model &  Normal & Two-Step & Bootstrap & Bootstrap-pt & Bootstrap-bc & Shi (2015) \\\\ \\hline \\hline\n",
      "No selection & 0.85 & 0.91 & 0.87 & 0.86 & 0.86 & 0.99   \\\\\n",
      "Model 1 & 0.09 & 0.04 & 0.08 & 0.09 & 0.08 & 0.00   \\\\\n",
      "Model 2 & 0.06 & 0.05 & 0.05 & 0.05 & 0.06 & 0.01   \\\\\n",
      "\\hline\n",
      "\\end{tabular}\n"
     ]
    }
   ],
   "source": [
    "gen_data_ex = lambda : gen_data(nobs=500, a=1.0)\n",
    "mc_out = vuong_tests5.monte_carlo(num_sims,gen_data_ex,setup_test)\n",
    "vuong_tests5.print_mc(mc_out)"
   ]
  },
  {
   "cell_type": "code",
   "execution_count": 29,
   "id": "0d8f7a61",
   "metadata": {},
   "outputs": [
    {
     "name": "stdout",
     "output_type": "stream",
     "text": [
      "\\begin{tabular}{|c|c|c|c|c|c|c|}\n",
      "\\hline\n",
      "Model &  Normal & Two-Step & Bootstrap & Bootstrap-pt & Bootstrap-bc & Shi (2015) \\\\ \\hline \\hline\n",
      "No selection & 0.87 & 0.94 & 0.81 & 0.82 & 0.83 & 0.99   \\\\\n",
      "Model 1 & 0.08 & 0.03 & 0.10 & 0.10 & 0.09 & 0.01   \\\\\n",
      "Model 2 & 0.05 & 0.03 & 0.09 & 0.08 & 0.08 & 0.00   \\\\\n",
      "\\hline\n",
      "\\end{tabular}\n"
     ]
    }
   ],
   "source": [
    "gen_data_ex = lambda : gen_data(nobs=100, a=2.0)\n",
    "mc_out = vuong_tests5.monte_carlo(num_sims,gen_data_ex,setup_test)\n",
    "vuong_tests5.print_mc(mc_out)"
   ]
  },
  {
   "cell_type": "code",
   "execution_count": null,
   "id": "b5ee443e",
   "metadata": {},
   "outputs": [],
   "source": []
  }
 ],
 "metadata": {
  "kernelspec": {
   "display_name": "Python 3",
   "language": "python",
   "name": "python3"
  },
  "language_info": {
   "codemirror_mode": {
    "name": "ipython",
    "version": 3
   },
   "file_extension": ".py",
   "mimetype": "text/x-python",
   "name": "python",
   "nbconvert_exporter": "python",
   "pygments_lexer": "ipython3",
   "version": "3.8.8"
  }
 },
 "nbformat": 4,
 "nbformat_minor": 5
}
