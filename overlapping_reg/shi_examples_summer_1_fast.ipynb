{
 "cells": [
  {
   "cell_type": "code",
   "execution_count": 1,
   "metadata": {},
   "outputs": [],
   "source": [
    "%load_ext autoreload\n",
    "%autoreload 2\n",
    "\n",
    "import numpy as np\n",
    "import matplotlib.pyplot as plt\n",
    "import statsmodels.api as sm\n",
    "from statsmodels.base.model import GenericLikelihoodModel\n",
    "import scipy.stats as stats\n",
    "import sys\n",
    "\n",
    "sys.path.append(\"../\")\n",
    "import vuong_tests6"
   ]
  },
  {
   "cell_type": "code",
   "execution_count": 2,
   "metadata": {},
   "outputs": [],
   "source": [
    "class OLS_loglike(GenericLikelihoodModel):\n",
    "    \n",
    "    def __init__(self, *args,ols=False, **kwargs):\n",
    "        super(OLS_loglike,self).__init__(*args,**kwargs)\n",
    "        self.ols = ols\n",
    "\n",
    "    def loglikeobs(self, params):\n",
    "        y = self.endog\n",
    "        x = self.exog\n",
    "        mu_y = np.matmul(x,params)  \n",
    "        resid = y - mu_y\n",
    "        sigma = np.sqrt(np.sum(resid**2)/resid.shape[0])\n",
    "        pr_y = stats.norm.logpdf( resid, loc=0,scale=sigma )\n",
    "        return pr_y\n",
    "\n",
    "\n",
    "def setup_shi(yn,xn,return_model=False,num_params=4):\n",
    "    x1n,x2n = xn[:,0],xn[:,1:num_params+1]\n",
    "    \n",
    "    # model 1 grad, etc.\n",
    "    model1 = sm.OLS(yn,sm.add_constant(x1n))\n",
    "    model1_fit = model1.fit(disp=False)\n",
    "    params1 = (model1_fit.params)\n",
    "    \n",
    "    model1_deriv = OLS_loglike(yn,sm.add_constant(x1n))\n",
    "    ll1 = model1_deriv.loglikeobs(model1_fit.params)\n",
    "    grad1 =  model1_deriv.score_obs(model1_fit.params)    \n",
    "    hess1 = model1_deriv.hessian(model1_fit.params)\n",
    "    \n",
    "    #model 2 grad, etc.\n",
    "    model2 = sm.OLS(yn,sm.add_constant(x2n))\n",
    "    model2_fit = model2.fit(disp=False)\n",
    "    params2 = (model2_fit.params)\n",
    "    \n",
    "    model2_deriv = OLS_loglike(yn,sm.add_constant(x2n))\n",
    "    ll2 = model2_deriv.loglikeobs(model2_fit.params)\n",
    "    grad2 =  model2_deriv.score_obs(model2_fit.params)    \n",
    "    hess2 = model2_deriv.hessian(model2_fit.params)\n",
    "    \n",
    "    if return_model:\n",
    "        return ll1,grad1,hess1,params1,model1,ll2,grad2,hess2,params2,model2\n",
    "    return ll1,grad1,hess1,params1,ll2,grad2,hess2,params2\n"
   ]
  },
  {
   "cell_type": "code",
   "execution_count": 3,
   "metadata": {},
   "outputs": [
    {
     "name": "stdout",
     "output_type": "stream",
     "text": [
      "(1000, 2) (2, 2)\n"
     ]
    }
   ],
   "source": [
    "\n",
    "def gen_data(nobs=1000, a=0.25, num_params=4):\n",
    "    x = np.random.normal(scale=1., size=(nobs,1+num_params))\n",
    "    e = np.random.normal(loc=0.0, scale=1.0, size=nobs)\n",
    "    y = 1 + a*x[:,0] + a/np.sqrt(num_params)*x[:,1:num_params+1].sum(axis=1) + e\n",
    "    return y,x,nobs\n",
    "\n",
    "yn,xn,nobs = gen_data()\n",
    "ll1,grad1,hess1,params1,ll2,grad2,hess2,params2 = setup_shi(yn,xn,return_model=False,num_params=15)\n",
    "print(grad1.shape,hess1.shape)"
   ]
  },
  {
   "cell_type": "markdown",
   "metadata": {},
   "source": [
    "# a  = .25, k= 9"
   ]
  },
  {
   "cell_type": "code",
   "execution_count": 4,
   "metadata": {},
   "outputs": [],
   "source": [
    "a = 0.25\n",
    "num_params=9\n",
    "num_sims = 100"
   ]
  },
  {
   "cell_type": "code",
   "execution_count": 5,
   "metadata": {
    "scrolled": true
   },
   "outputs": [
    {
     "name": "stdout",
     "output_type": "stream",
     "text": [
      "\\begin{tabular}{|c|c|c|c|c|c|c|}\n",
      "\\hline\n",
      "Model &  Normal & Two-Step & Bootstrap & Bootstrap-TIC & Bootstrap-ND & Shi (2015) \\\\ \\hline \\hline\n",
      "No selection & 0.90 & 0.90 & 0.90 & 0.97 & 0.97 & 0.97   \\\\\n",
      "Model 1 & 0.00 & 0.00 & 0.00 & 0.01 & 0.01 & 0.01   \\\\\n",
      "Model 2 & 0.10 & 0.10 & 0.10 & 0.02 & 0.02 & 0.02   \\\\\n",
      "\\hline\n",
      "\\end{tabular}\n",
      "(array([0.9, 0. , 0.1]), array([0.9, 0. , 0.1]), array([0.9, 0. , 0.1]), array([0.97, 0.01, 0.02]), array([0.97, 0.01, 0.02]), array([0.97, 0.01, 0.02]), -4.403234650675367, 5.7900929888320505, 6.045710516943617)\n"
     ]
    }
   ],
   "source": [
    "setup_shi_ex  = lambda yn,xn: setup_shi(yn,xn,num_params=num_params)\n",
    "gen_data_ex = lambda : gen_data(nobs=250, a=a,  num_params=num_params)\n",
    "mc_out = vuong_tests6.monte_carlo(num_sims,gen_data_ex,setup_shi_ex)\n",
    "vuong_tests6.print_mc(mc_out)\n",
    "print(mc_out)"
   ]
  },
  {
   "cell_type": "code",
   "execution_count": 6,
   "metadata": {},
   "outputs": [
    {
     "name": "stdout",
     "output_type": "stream",
     "text": [
      "\\begin{tabular}{|c|c|c|c|c|c|c|}\n",
      "\\hline\n",
      "Model &  Normal & Two-Step & Bootstrap & Bootstrap-TIC & Bootstrap-ND & Shi (2015) \\\\ \\hline \\hline\n",
      "No selection & 0.92 & 0.92 & 0.92 & 0.95 & 0.95 & 0.95   \\\\\n",
      "Model 1 & 0.00 & 0.00 & 0.00 & 0.02 & 0.02 & 0.02   \\\\\n",
      "Model 2 & 0.08 & 0.08 & 0.08 & 0.03 & 0.03 & 0.03   \\\\\n",
      "\\hline\n",
      "\\end{tabular}\n",
      "(array([0.92, 0.  , 0.08]), array([0.92, 0.  , 0.08]), array([0.92, 0.  , 0.08]), array([0.95, 0.02, 0.03]), array([0.95, 0.02, 0.03]), array([0.95, 0.02, 0.03]), -3.8987929446480085, 8.566345531439161, 8.171437988783271)\n"
     ]
    }
   ],
   "source": [
    "setup_shi_ex  = lambda yn,xn: setup_shi(yn,xn,num_params=num_params)\n",
    "gen_data_ex = lambda : gen_data(nobs=500, a=a,  num_params=num_params)\n",
    "mc_out = vuong_tests6.monte_carlo(num_sims,gen_data_ex,setup_shi_ex)\n",
    "vuong_tests6.print_mc(mc_out)\n",
    "print(mc_out)"
   ]
  },
  {
   "cell_type": "code",
   "execution_count": 7,
   "metadata": {},
   "outputs": [
    {
     "name": "stdout",
     "output_type": "stream",
     "text": [
      "\\begin{tabular}{|c|c|c|c|c|c|c|}\n",
      "\\hline\n",
      "Model &  Normal & Two-Step & Bootstrap & Bootstrap-TIC & Bootstrap-ND & Shi (2015) \\\\ \\hline \\hline\n",
      "No selection & 0.93 & 0.97 & 0.91 & 0.98 & 0.98 & 0.99   \\\\\n",
      "Model 1 & 0.00 & 0.00 & 0.00 & 0.02 & 0.02 & 0.01   \\\\\n",
      "Model 2 & 0.07 & 0.03 & 0.09 & 0.00 & 0.00 & 0.00   \\\\\n",
      "\\hline\n",
      "\\end{tabular}\n",
      "(array([0.93, 0.  , 0.07]), array([0.97, 0.  , 0.03]), array([0.91, 0.  , 0.09]), array([0.98, 0.02, 0.  ]), array([0.98, 0.02, 0.  ]), array([0.99, 0.01, 0.  ]), -3.908269452226756, 3.819862492664278, 4.368693425182368)\n"
     ]
    }
   ],
   "source": [
    "setup_shi_ex  = lambda yn,xn: setup_shi(yn,xn,num_params=num_params)\n",
    "gen_data_ex = lambda : gen_data(nobs=100, a=a,  num_params=num_params)\n",
    "mc_out = vuong_tests6.monte_carlo(num_sims,gen_data_ex,setup_shi_ex)\n",
    "vuong_tests6.print_mc(mc_out)\n",
    "print(mc_out)"
   ]
  },
  {
   "cell_type": "markdown",
   "metadata": {},
   "source": [
    "# a  = .25, k= 4, something not right?"
   ]
  },
  {
   "cell_type": "code",
   "execution_count": 8,
   "metadata": {},
   "outputs": [],
   "source": [
    "a = 0.25\n",
    "num_params=4\n",
    "num_sims = 100"
   ]
  },
  {
   "cell_type": "code",
   "execution_count": 9,
   "metadata": {
    "scrolled": false
   },
   "outputs": [
    {
     "name": "stdout",
     "output_type": "stream",
     "text": [
      "\\begin{tabular}{|c|c|c|c|c|c|c|}\n",
      "\\hline\n",
      "Model &  Normal & Two-Step & Bootstrap & Bootstrap-TIC & Bootstrap-ND & Shi (2015) \\\\ \\hline \\hline\n",
      "No selection & 0.97 & 0.97 & 0.94 & 0.97 & 0.98 & 1.00   \\\\\n",
      "Model 1 & 0.00 & 0.00 & 0.00 & 0.01 & 0.00 & 0.00   \\\\\n",
      "Model 2 & 0.03 & 0.03 & 0.06 & 0.02 & 0.02 & 0.00   \\\\\n",
      "\\hline\n",
      "\\end{tabular}\n",
      "(array([0.97, 0.  , 0.03]), array([0.97, 0.  , 0.03]), array([0.94, 0.  , 0.06]), array([0.97, 0.01, 0.02]), array([0.98, 0.  , 0.02]), array([1., 0., 0.]), -1.387177459513802, 5.058991391432905, 5.601190541278347)\n"
     ]
    }
   ],
   "source": [
    "setup_shi_ex  = lambda yn,xn: setup_shi(yn,xn,num_params=num_params)\n",
    "gen_data_ex = lambda : gen_data(nobs=250, a=a,  num_params=num_params)\n",
    "mc_out = vuong_tests6.monte_carlo(num_sims,gen_data_ex,setup_shi_ex)\n",
    "vuong_tests6.print_mc(mc_out)\n",
    "print(mc_out)"
   ]
  },
  {
   "cell_type": "code",
   "execution_count": 10,
   "metadata": {},
   "outputs": [
    {
     "name": "stdout",
     "output_type": "stream",
     "text": [
      "\\begin{tabular}{|c|c|c|c|c|c|c|}\n",
      "\\hline\n",
      "Model &  Normal & Two-Step & Bootstrap & Bootstrap-TIC & Bootstrap-ND & Shi (2015) \\\\ \\hline \\hline\n",
      "No selection & 0.97 & 0.97 & 0.96 & 0.97 & 0.97 & 0.97   \\\\\n",
      "Model 1 & 0.02 & 0.02 & 0.02 & 0.02 & 0.02 & 0.02   \\\\\n",
      "Model 2 & 0.01 & 0.01 & 0.02 & 0.01 & 0.01 & 0.01   \\\\\n",
      "\\hline\n",
      "\\end{tabular}\n",
      "(array([0.97, 0.02, 0.01]), array([0.97, 0.02, 0.01]), array([0.96, 0.02, 0.02]), array([0.97, 0.02, 0.01]), array([0.97, 0.02, 0.01]), array([0.97, 0.02, 0.01]), -0.3132471432999189, 7.503649787839507, 7.726989037371383)\n"
     ]
    }
   ],
   "source": [
    "setup_shi_ex  = lambda yn,xn: setup_shi(yn,xn,num_params=num_params)\n",
    "gen_data_ex = lambda : gen_data(nobs=500, a=a,  num_params=num_params)\n",
    "mc_out = vuong_tests6.monte_carlo(num_sims,gen_data_ex,setup_shi_ex)\n",
    "vuong_tests6.print_mc(mc_out)\n",
    "print(mc_out)"
   ]
  },
  {
   "cell_type": "markdown",
   "metadata": {},
   "source": [
    "# a  = .25, K = 19"
   ]
  },
  {
   "cell_type": "code",
   "execution_count": 11,
   "metadata": {},
   "outputs": [],
   "source": [
    "a = 0.25\n",
    "num_params=19\n",
    "num_sims = 100"
   ]
  },
  {
   "cell_type": "code",
   "execution_count": 12,
   "metadata": {
    "scrolled": true
   },
   "outputs": [
    {
     "name": "stdout",
     "output_type": "stream",
     "text": [
      "\\begin{tabular}{|c|c|c|c|c|c|c|}\n",
      "\\hline\n",
      "Model &  Normal & Two-Step & Bootstrap & Bootstrap-TIC & Bootstrap-ND & Shi (2015) \\\\ \\hline \\hline\n",
      "No selection & 0.69 & 0.83 & 0.69 & 0.97 & 0.97 & 0.98   \\\\\n",
      "Model 1 & 0.00 & 0.00 & 0.00 & 0.02 & 0.02 & 0.01   \\\\\n",
      "Model 2 & 0.31 & 0.17 & 0.31 & 0.01 & 0.01 & 0.01   \\\\\n",
      "\\hline\n",
      "\\end{tabular}\n",
      "(array([0.69, 0.  , 0.31]), array([0.83, 0.  , 0.17]), array([0.69, 0.  , 0.31]), array([0.97, 0.02, 0.01]), array([0.97, 0.02, 0.01]), array([0.98, 0.01, 0.01]), -9.52355003465035, 5.736313076482998, 6.585628859296977)\n"
     ]
    }
   ],
   "source": [
    "setup_shi_ex  = lambda yn,xn: setup_shi(yn,xn,num_params=num_params)\n",
    "gen_data_ex = lambda : gen_data(nobs=250, a=a,  num_params=num_params)\n",
    "mc_out = vuong_tests6.monte_carlo(num_sims,gen_data_ex,setup_shi_ex)\n",
    "vuong_tests6.print_mc(mc_out)\n",
    "print(mc_out)"
   ]
  },
  {
   "cell_type": "code",
   "execution_count": 13,
   "metadata": {
    "scrolled": true
   },
   "outputs": [
    {
     "name": "stdout",
     "output_type": "stream",
     "text": [
      "\\begin{tabular}{|c|c|c|c|c|c|c|}\n",
      "\\hline\n",
      "Model &  Normal & Two-Step & Bootstrap & Bootstrap-TIC & Bootstrap-ND & Shi (2015) \\\\ \\hline \\hline\n",
      "No selection & 0.80 & 0.80 & 0.78 & 0.97 & 0.98 & 0.98   \\\\\n",
      "Model 1 & 0.00 & 0.00 & 0.00 & 0.01 & 0.00 & 0.00   \\\\\n",
      "Model 2 & 0.20 & 0.20 & 0.22 & 0.02 & 0.02 & 0.02   \\\\\n",
      "\\hline\n",
      "\\end{tabular}\n",
      "(array([0.8, 0. , 0.2]), array([0.8, 0. , 0.2]), array([0.78, 0.  , 0.22]), array([0.97, 0.01, 0.02]), array([0.98, 0.  , 0.02]), array([0.98, 0.  , 0.02]), -9.700693127146216, 8.226062956766746, 8.653749937879446)\n"
     ]
    }
   ],
   "source": [
    "setup_shi_ex  = lambda yn,xn: setup_shi(yn,xn,num_params=num_params)\n",
    "gen_data_ex = lambda : gen_data(nobs=500, a=a,  num_params=num_params)\n",
    "mc_out = vuong_tests6.monte_carlo(num_sims,gen_data_ex,setup_shi_ex)\n",
    "vuong_tests6.print_mc(mc_out)\n",
    "print(mc_out)"
   ]
  },
  {
   "cell_type": "markdown",
   "metadata": {},
   "source": [
    "# evidence of power"
   ]
  },
  {
   "cell_type": "code",
   "execution_count": 14,
   "metadata": {},
   "outputs": [],
   "source": [
    "a1,a2 = np.sqrt(1.09-1), 0.00\n",
    "num_params= 9\n",
    "num_sims = 100\n",
    "\n",
    "def gen_data2(nobs=1000, a1=np.sqrt(1.09-1), a2=0.00 , num_params=19):\n",
    "    x = np.random.normal(scale=1., size=(nobs,1+num_params))\n",
    "    e = np.random.normal(loc=0.0, scale=1.0, size=nobs)\n",
    "    y = 1 + a1*x[:,0] + a2/np.sqrt(num_params)*x[:,1:num_params+1].sum(axis=1) + e\n",
    "    return y,x,nobs"
   ]
  },
  {
   "cell_type": "code",
   "execution_count": 15,
   "metadata": {
    "scrolled": true
   },
   "outputs": [
    {
     "name": "stdout",
     "output_type": "stream",
     "text": [
      "\\begin{tabular}{|c|c|c|c|c|c|c|}\n",
      "\\hline\n",
      "Model &  Normal & Two-Step & Bootstrap & Bootstrap-TIC & Bootstrap-ND & Shi (2015) \\\\ \\hline \\hline\n",
      "No selection & 0.87 & 0.88 & 0.86 & 0.53 & 0.53 & 0.61   \\\\\n",
      "Model 1 & 0.13 & 0.12 & 0.14 & 0.47 & 0.47 & 0.39   \\\\\n",
      "Model 2 & 0.00 & 0.00 & 0.00 & 0.00 & 0.00 & 0.00   \\\\\n",
      "\\hline\n",
      "\\end{tabular}\n",
      "(array([0.87, 0.13, 0.  ]), array([0.88, 0.12, 0.  ]), array([0.86, 0.14, 0.  ]), array([0.53, 0.47, 0.  ]), array([0.53, 0.47, 0.  ]), array([0.61, 0.39, 0.  ]), 5.8299751166445, 4.608457397021836, 5.263192215816153)\n"
     ]
    }
   ],
   "source": [
    "a1,a2 = np.sqrt(1.09-1), 0.00\n",
    "setup_shi_ex  = lambda yn,xn: setup_shi(yn,xn,num_params=num_params)\n",
    "gen_data_ex = lambda : gen_data2(nobs=250, a1=a1, a2=a2, num_params=num_params)\n",
    "mc_out = vuong_tests6.monte_carlo(num_sims,gen_data_ex,setup_shi_ex)\n",
    "vuong_tests6.print_mc(mc_out)\n",
    "print(mc_out)"
   ]
  },
  {
   "cell_type": "code",
   "execution_count": 16,
   "metadata": {},
   "outputs": [
    {
     "name": "stdout",
     "output_type": "stream",
     "text": [
      "\\begin{tabular}{|c|c|c|c|c|c|c|}\n",
      "\\hline\n",
      "Model &  Normal & Two-Step & Bootstrap & Bootstrap-TIC & Bootstrap-ND & Shi (2015) \\\\ \\hline \\hline\n",
      "No selection & 0.83 & 0.83 & 0.81 & 0.37 & 0.39 & 0.48   \\\\\n",
      "Model 1 & 0.17 & 0.17 & 0.19 & 0.63 & 0.61 & 0.52   \\\\\n",
      "Model 2 & 0.00 & 0.00 & 0.00 & 0.00 & 0.00 & 0.00   \\\\\n",
      "\\hline\n",
      "\\end{tabular}\n",
      "(array([0.83, 0.17, 0.  ]), array([0.83, 0.17, 0.  ]), array([0.81, 0.19, 0.  ]), array([0.37, 0.63, 0.  ]), array([0.39, 0.61, 0.  ]), array([0.48, 0.52, 0.  ]), 7.236665449414542, 4.771886023101383, 5.56093930427876)\n"
     ]
    }
   ],
   "source": [
    "a1,a2 = np.sqrt(1.09**.5-1), 0.00\n",
    "setup_shi_ex  = lambda yn,xn: setup_shi(yn,xn,num_params=num_params)\n",
    "gen_data_ex = lambda : gen_data2(nobs=500, a1=a1, a2=a2, num_params=num_params)\n",
    "mc_out = vuong_tests6.monte_carlo(num_sims,gen_data_ex,setup_shi_ex)\n",
    "vuong_tests6.print_mc(mc_out)\n",
    "print(mc_out)"
   ]
  },
  {
   "cell_type": "code",
   "execution_count": 17,
   "metadata": {
    "scrolled": true
   },
   "outputs": [
    {
     "name": "stdout",
     "output_type": "stream",
     "text": [
      "\\begin{tabular}{|c|c|c|c|c|c|c|}\n",
      "\\hline\n",
      "Model &  Normal & Two-Step & Bootstrap & Bootstrap-TIC & Bootstrap-ND & Shi (2015) \\\\ \\hline \\hline\n",
      "No selection & 0.81 & 0.89 & 0.81 & 0.48 & 0.49 & 0.56   \\\\\n",
      "Model 1 & 0.19 & 0.11 & 0.19 & 0.52 & 0.51 & 0.44   \\\\\n",
      "Model 2 & 0.00 & 0.00 & 0.00 & 0.00 & 0.00 & 0.00   \\\\\n",
      "\\hline\n",
      "\\end{tabular}\n",
      "(array([0.81, 0.19, 0.  ]), array([0.89, 0.11, 0.  ]), array([0.81, 0.19, 0.  ]), array([0.48, 0.52, 0.  ]), array([0.49, 0.51, 0.  ]), array([0.56, 0.44, 0.  ]), 5.764350901158788, 4.793504893615165, 4.917438468229537)\n"
     ]
    }
   ],
   "source": [
    "a1,a2 = np.sqrt(1.09**2.5-1), 0.00\n",
    "setup_shi_ex  = lambda yn,xn: setup_shi(yn,xn,num_params=num_params)\n",
    "gen_data_ex = lambda : gen_data2(nobs=100, a1=a1, a2=a2, num_params=num_params)\n",
    "mc_out = vuong_tests6.monte_carlo(num_sims,gen_data_ex,setup_shi_ex)\n",
    "vuong_tests6.print_mc(mc_out)\n",
    "print(mc_out)"
   ]
  },
  {
   "cell_type": "code",
   "execution_count": 18,
   "metadata": {},
   "outputs": [
    {
     "name": "stdout",
     "output_type": "stream",
     "text": [
      "\\begin{tabular}{|c|c|c|c|c|c|c|}\n",
      "\\hline\n",
      "Model &  Normal & Two-Step & Bootstrap & Bootstrap-TIC & Bootstrap-ND & Shi (2015) \\\\ \\hline \\hline\n",
      "No selection & 0.55 & 0.55 & 0.54 & 0.35 & 0.37 & 0.54   \\\\\n",
      "Model 1 & 0.45 & 0.45 & 0.46 & 0.65 & 0.63 & 0.46   \\\\\n",
      "Model 2 & 0.00 & 0.00 & 0.00 & 0.00 & 0.00 & 0.00   \\\\\n",
      "\\hline\n",
      "\\end{tabular}\n",
      "(array([0.55, 0.45, 0.  ]), array([0.55, 0.45, 0.  ]), array([0.54, 0.46, 0.  ]), array([0.35, 0.65, 0.  ]), array([0.37, 0.63, 0.  ]), array([0.54, 0.46, 0.  ]), 9.901782207779071, 5.039358656795219, 5.06855025966164)\n"
     ]
    }
   ],
   "source": [
    "a1,a2 = np.sqrt(1.09-1), 0.00\n",
    "setup_shi_ex  = lambda yn,xn: setup_shi(yn,xn,num_params=num_params)\n",
    "gen_data_ex = lambda : gen_data2(nobs=250, a1=a1, a2=a2, num_params=4)\n",
    "mc_out = vuong_tests6.monte_carlo(num_sims,gen_data_ex,setup_shi_ex)\n",
    "vuong_tests6.print_mc(mc_out)\n",
    "print(mc_out)"
   ]
  },
  {
   "cell_type": "code",
   "execution_count": 19,
   "metadata": {},
   "outputs": [
    {
     "name": "stdout",
     "output_type": "stream",
     "text": [
      "\\begin{tabular}{|c|c|c|c|c|c|c|}\n",
      "\\hline\n",
      "Model &  Normal & Two-Step & Bootstrap & Bootstrap-TIC & Bootstrap-ND & Shi (2015) \\\\ \\hline \\hline\n",
      "No selection & 0.79 & 0.79 & 0.77 & 0.43 & 0.44 & 0.50   \\\\\n",
      "Model 1 & 0.21 & 0.21 & 0.23 & 0.57 & 0.56 & 0.50   \\\\\n",
      "Model 2 & 0.00 & 0.00 & 0.00 & 0.00 & 0.00 & 0.00   \\\\\n",
      "\\hline\n",
      "\\end{tabular}\n",
      "(array([0.79, 0.21, 0.  ]), array([0.79, 0.21, 0.  ]), array([0.77, 0.23, 0.  ]), array([0.43, 0.57, 0.  ]), array([0.44, 0.56, 0.  ]), array([0.5, 0.5, 0. ]), 7.145263153436763, 4.5730439546109904, 5.40326249124368)\n"
     ]
    }
   ],
   "source": [
    "a1,a2 = np.sqrt(1.09-1), 0.00\n",
    "setup_shi_ex  = lambda yn,xn: setup_shi(yn,xn,num_params=num_params)\n",
    "gen_data_ex = lambda : gen_data2(nobs=250, a1=a1, a2=a2, num_params=19)\n",
    "mc_out = vuong_tests6.monte_carlo(num_sims,gen_data_ex,setup_shi_ex)\n",
    "vuong_tests6.print_mc(mc_out)\n",
    "print(mc_out)"
   ]
  },
  {
   "cell_type": "markdown",
   "metadata": {},
   "source": [
    "# evidence of power 2"
   ]
  },
  {
   "cell_type": "code",
   "execution_count": 20,
   "metadata": {},
   "outputs": [
    {
     "name": "stdout",
     "output_type": "stream",
     "text": [
      "\\begin{tabular}{|c|c|c|c|c|c|c|}\n",
      "\\hline\n",
      "Model &  Normal & Two-Step & Bootstrap & Bootstrap-TIC & Bootstrap-ND & Shi (2015) \\\\ \\hline \\hline\n",
      "No selection & 0.13 & 0.22 & 0.12 & 0.56 & 0.56 & 0.63   \\\\\n",
      "Model 1 & 0.00 & 0.00 & 0.00 & 0.00 & 0.00 & 0.00   \\\\\n",
      "Model 2 & 0.87 & 0.78 & 0.88 & 0.44 & 0.44 & 0.37   \\\\\n",
      "\\hline\n",
      "\\end{tabular}\n",
      "(array([0.13, 0.  , 0.87]), array([0.22, 0.  , 0.78]), array([0.12, 0.  , 0.88]), array([0.56, 0.  , 0.44]), array([0.56, 0.  , 0.44]), array([0.63, 0.  , 0.37]), -14.369646319078289, 4.897895557797232, 5.321142029972063)\n"
     ]
    }
   ],
   "source": [
    "a2,a1 = np.sqrt(1.09-1), 0.00\n",
    "setup_shi_ex  = lambda yn,xn: setup_shi(yn,xn,num_params=num_params)\n",
    "gen_data_ex = lambda : gen_data2(nobs=250, a1=a1, a2=a2, num_params=num_params)\n",
    "mc_out = vuong_tests6.monte_carlo(num_sims,gen_data_ex,setup_shi_ex)\n",
    "vuong_tests6.print_mc(mc_out)\n",
    "print(mc_out)"
   ]
  },
  {
   "cell_type": "code",
   "execution_count": 21,
   "metadata": {},
   "outputs": [
    {
     "name": "stdout",
     "output_type": "stream",
     "text": [
      "\\begin{tabular}{|c|c|c|c|c|c|c|}\n",
      "\\hline\n",
      "Model &  Normal & Two-Step & Bootstrap & Bootstrap-TIC & Bootstrap-ND & Shi (2015) \\\\ \\hline \\hline\n",
      "No selection & 0.06 & 0.14 & 0.08 & 0.50 & 0.52 & 0.61   \\\\\n",
      "Model 1 & 0.00 & 0.00 & 0.00 & 0.00 & 0.00 & 0.00   \\\\\n",
      "Model 2 & 0.94 & 0.86 & 0.92 & 0.50 & 0.48 & 0.39   \\\\\n",
      "\\hline\n",
      "\\end{tabular}\n",
      "(array([0.06, 0.  , 0.94]), array([0.14, 0.  , 0.86]), array([0.08, 0.  , 0.92]), array([0.5, 0. , 0.5]), array([0.52, 0.  , 0.48]), array([0.61, 0.  , 0.39]), -14.878521734257804, 5.141261820665246, 5.448397087647558)\n"
     ]
    }
   ],
   "source": [
    "a2,a1 = np.sqrt(1.09**.5-1), 0.00\n",
    "setup_shi_ex  = lambda yn,xn: setup_shi(yn,xn,num_params=num_params)\n",
    "gen_data_ex = lambda : gen_data2(nobs=500, a1=a1, a2=a2, num_params=num_params)\n",
    "mc_out = vuong_tests6.monte_carlo(num_sims,gen_data_ex,setup_shi_ex)\n",
    "vuong_tests6.print_mc(mc_out)\n",
    "print(mc_out)"
   ]
  },
  {
   "cell_type": "code",
   "execution_count": 22,
   "metadata": {},
   "outputs": [
    {
     "name": "stdout",
     "output_type": "stream",
     "text": [
      "\\begin{tabular}{|c|c|c|c|c|c|c|}\n",
      "\\hline\n",
      "Model &  Normal & Two-Step & Bootstrap & Bootstrap-TIC & Bootstrap-ND & Shi (2015) \\\\ \\hline \\hline\n",
      "No selection & 0.08 & 0.37 & 0.09 & 0.40 & 0.40 & 0.46   \\\\\n",
      "Model 1 & 0.00 & 0.00 & 0.00 & 0.00 & 0.00 & 0.00   \\\\\n",
      "Model 2 & 0.92 & 0.63 & 0.91 & 0.60 & 0.60 & 0.54   \\\\\n",
      "\\hline\n",
      "\\end{tabular}\n",
      "(array([0.08, 0.  , 0.92]), array([0.37, 0.  , 0.63]), array([0.09, 0.  , 0.91]), array([0.4, 0. , 0.6]), array([0.4, 0. , 0.6]), array([0.46, 0.  , 0.54]), -15.888315242752437, 5.8222780620444725, 5.213169858761685)\n"
     ]
    }
   ],
   "source": [
    "a2,a1 =np.sqrt(1.09**2.5-1), 0.00\n",
    "setup_shi_ex  = lambda yn,xn: setup_shi(yn,xn,num_params=num_params)\n",
    "gen_data_ex = lambda : gen_data2(nobs=100, a1=a1, a2=a2, num_params=num_params)\n",
    "mc_out = vuong_tests6.monte_carlo(num_sims,gen_data_ex,setup_shi_ex)\n",
    "vuong_tests6.print_mc(mc_out)\n",
    "print(mc_out)"
   ]
  },
  {
   "cell_type": "code",
   "execution_count": 23,
   "metadata": {},
   "outputs": [
    {
     "name": "stdout",
     "output_type": "stream",
     "text": [
      "\\begin{tabular}{|c|c|c|c|c|c|c|}\n",
      "\\hline\n",
      "Model &  Normal & Two-Step & Bootstrap & Bootstrap-TIC & Bootstrap-ND & Shi (2015) \\\\ \\hline \\hline\n",
      "No selection & 0.19 & 0.19 & 0.19 & 0.41 & 0.41 & 0.55   \\\\\n",
      "Model 1 & 0.00 & 0.00 & 0.00 & 0.00 & 0.00 & 0.00   \\\\\n",
      "Model 2 & 0.81 & 0.81 & 0.81 & 0.59 & 0.59 & 0.45   \\\\\n",
      "\\hline\n",
      "\\end{tabular}\n",
      "(array([0.19, 0.  , 0.81]), array([0.19, 0.  , 0.81]), array([0.19, 0.  , 0.81]), array([0.41, 0.  , 0.59]), array([0.41, 0.  , 0.59]), array([0.55, 0.  , 0.45]), -12.355795335401362, 4.940099466523286, 4.893477866486179)\n"
     ]
    }
   ],
   "source": [
    "a2,a1 = np.sqrt(1.09-1), 0.00\n",
    "setup_shi_ex  = lambda yn,xn: setup_shi(yn,xn,num_params=num_params)\n",
    "gen_data_ex = lambda : gen_data2(nobs=250, a1=a1, a2=a2, num_params=4)\n",
    "mc_out = vuong_tests6.monte_carlo(num_sims,gen_data_ex,setup_shi_ex)\n",
    "vuong_tests6.print_mc(mc_out)\n",
    "print(mc_out)"
   ]
  },
  {
   "cell_type": "code",
   "execution_count": 25,
   "metadata": {},
   "outputs": [
    {
     "name": "stdout",
     "output_type": "stream",
     "text": [
      "\\begin{tabular}{|c|c|c|c|c|c|c|}\n",
      "\\hline\n",
      "Model &  Normal & Two-Step & Bootstrap & Bootstrap-TIC & Bootstrap-ND & Shi (2015) \\\\ \\hline \\hline\n",
      "No selection & 0.45 & 0.72 & 0.43 & 0.85 & 0.86 & 0.88   \\\\\n",
      "Model 1 & 0.00 & 0.00 & 0.00 & 0.00 & 0.00 & 0.00   \\\\\n",
      "Model 2 & 0.55 & 0.28 & 0.57 & 0.15 & 0.14 & 0.12   \\\\\n",
      "\\hline\n",
      "\\end{tabular}\n",
      "(array([0.45, 0.  , 0.55]), array([0.72, 0.  , 0.28]), array([0.43, 0.  , 0.57]), array([0.85, 0.  , 0.15]), array([0.86, 0.  , 0.14]), array([0.88, 0.  , 0.12]), -9.272729628765545, 4.4773283933250685, 4.322096832267187)\n"
     ]
    }
   ],
   "source": [
    "a2,a1 = np.sqrt(1.09-1), 0.00\n",
    "setup_shi_ex  = lambda yn,xn: setup_shi(yn,xn,num_params=num_params)\n",
    "gen_data_ex = lambda : gen_data2(nobs=250, a1=a1, a2=a2, num_params=4)\n",
    "mc_out = vuong_tests6.monte_carlo(num_sims,gen_data_ex,setup_shi_ex)\n",
    "vuong_tests6.print_mc(mc_out)\n",
    "print(mc_out)"
   ]
  },
  {
   "cell_type": "code",
   "execution_count": null,
   "metadata": {},
   "outputs": [],
   "source": []
  }
 ],
 "metadata": {
  "kernelspec": {
   "display_name": "Python 3",
   "language": "python",
   "name": "python3"
  },
  "language_info": {
   "codemirror_mode": {
    "name": "ipython",
    "version": 3
   },
   "file_extension": ".py",
   "mimetype": "text/x-python",
   "name": "python",
   "nbconvert_exporter": "python",
   "pygments_lexer": "ipython3",
   "version": "3.8.8"
  }
 },
 "nbformat": 4,
 "nbformat_minor": 2
}
