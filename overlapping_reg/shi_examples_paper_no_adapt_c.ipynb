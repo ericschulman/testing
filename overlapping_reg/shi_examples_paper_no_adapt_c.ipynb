{
 "cells": [
  {
   "cell_type": "code",
   "execution_count": 1,
   "metadata": {},
   "outputs": [],
   "source": [
    "%load_ext autoreload\n",
    "%autoreload 2\n",
    "\n",
    "import numpy as np\n",
    "import matplotlib.pyplot as plt\n",
    "import statsmodels.api as sm\n",
    "from statsmodels.base.model import GenericLikelihoodModel\n",
    "import scipy.stats as stats\n",
    "import sys\n",
    "\n",
    "sys.path.append(\"../\")\n",
    "import vuong_tests_fast"
   ]
  },
  {
   "cell_type": "code",
   "execution_count": 2,
   "metadata": {},
   "outputs": [],
   "source": [
    "class OLS_loglike(GenericLikelihoodModel):\n",
    "    \n",
    "    def __init__(self, *args,ols=False, **kwargs):\n",
    "        super(OLS_loglike,self).__init__(*args,**kwargs)\n",
    "        self.ols = ols\n",
    "\n",
    "    def loglikeobs(self, params):\n",
    "        y = self.endog\n",
    "        x = self.exog\n",
    "        mu_y = np.matmul(x,params)  \n",
    "        resid = y - mu_y\n",
    "        sigma = np.sqrt(np.sum(resid**2)/resid.shape[0])\n",
    "        pr_y = stats.norm.logpdf( resid, loc=0,scale=sigma )\n",
    "        return pr_y\n",
    "\n",
    "\n",
    "def setup_shi(yn,xn,return_model=False,num_params=4):\n",
    "    x1n,x2n = xn[:,0],xn[:,1:num_params+1]\n",
    "    \n",
    "    # model 1 grad, etc.\n",
    "    model1 = sm.OLS(yn,sm.add_constant(x1n))\n",
    "    model1_fit = model1.fit(disp=False)\n",
    "    params1 = (model1_fit.params)\n",
    "    \n",
    "    model1_deriv = OLS_loglike(yn,sm.add_constant(x1n))\n",
    "    ll1 = model1_deriv.loglikeobs(model1_fit.params)\n",
    "    grad1 =  model1_deriv.score_obs(model1_fit.params)    \n",
    "    hess1 = model1_deriv.hessian(model1_fit.params)\n",
    "    \n",
    "    #model 2 grad, etc.\n",
    "    model2 = sm.OLS(yn,sm.add_constant(x2n))\n",
    "    model2_fit = model2.fit(disp=False)\n",
    "    params2 = (model2_fit.params)\n",
    "    \n",
    "    model2_deriv = OLS_loglike(yn,sm.add_constant(x2n))\n",
    "    ll2 = model2_deriv.loglikeobs(model2_fit.params)\n",
    "    grad2 =  model2_deriv.score_obs(model2_fit.params)    \n",
    "    hess2 = model2_deriv.hessian(model2_fit.params)\n",
    "    \n",
    "    if return_model:\n",
    "        return ll1,grad1,hess1,params1,model1,ll2,grad2,hess2,params2,model2\n",
    "    return ll1,grad1,hess1,params1,ll2,grad2,hess2,params2\n"
   ]
  },
  {
   "cell_type": "code",
   "execution_count": 3,
   "metadata": {},
   "outputs": [
    {
     "name": "stdout",
     "output_type": "stream",
     "text": [
      "(1000, 2) (2, 2)\n"
     ]
    }
   ],
   "source": [
    "\n",
    "def gen_data(nobs=1000, a=0.25, num_params=4):\n",
    "    x = np.random.normal(scale=1., size=(nobs,1+num_params))\n",
    "    e = np.random.normal(loc=0.0, scale=1.0, size=nobs)\n",
    "    y = 1 + a*x[:,0] + a/np.sqrt(num_params)*x[:,1:num_params+1].sum(axis=1) + e\n",
    "    return y,x,nobs\n",
    "\n",
    "yn,xn,nobs = gen_data()\n",
    "ll1,grad1,hess1,params1,ll2,grad2,hess2,params2 = setup_shi(yn,xn,return_model=False,num_params=15)\n",
    "print(grad1.shape,hess1.shape)"
   ]
  },
  {
   "cell_type": "code",
   "execution_count": 4,
   "metadata": {},
   "outputs": [],
   "source": [
    "num_sims = 10\n",
    "trials =1000\n",
    "\n",
    "c1 = .005\n",
    "c2 = .0025\n",
    "\n",
    "adapt_c = False"
   ]
  },
  {
   "cell_type": "markdown",
   "metadata": {},
   "source": [
    "# a  = .25, k= 9"
   ]
  },
  {
   "cell_type": "code",
   "execution_count": 5,
   "metadata": {},
   "outputs": [],
   "source": [
    "a = 0.25\n",
    "num_params=9\n"
   ]
  },
  {
   "cell_type": "code",
   "execution_count": 6,
   "metadata": {
    "scrolled": true
   },
   "outputs": [
    {
     "name": "stdout",
     "output_type": "stream",
     "text": [
      "\\begin{tabular}{|c|c|c|c|c|c|c|}\n",
      "\\hline\n",
      "Model &  Normal & Two-Step & Bootstrap & Bootstrap-TIC & Bootstrap-ND & Shi (2015) \\\\ \\hline \\hline\n",
      "No selection & 1.00 & 1.00 & 1.00 & 1.00 & 1.00 & 1.00   \\\\\n",
      "Model 1 & 0.00 & 0.00 & 0.00 & 0.00 & 0.00 & 0.00   \\\\\n",
      "Model 2 & 0.00 & 0.00 & 0.00 & 0.00 & 0.00 & 0.00   \\\\\n",
      "\\hline\n",
      "\\end{tabular}\n",
      "(array([1., 0., 0.]), array([1., 0., 0.]), array([1., 0., 0.]), array([1., 0., 0.]), array([1., 0., 0.]), array([1., 0., 0.]), 2.999935159332606, 4.063094856499803, 4.9127292647310465)\n"
     ]
    }
   ],
   "source": [
    "setup_shi_ex  = lambda yn,xn: setup_shi(yn,xn,num_params=num_params)\n",
    "gen_data_ex = lambda : gen_data(nobs=250, a=a,  num_params=num_params)\n",
    "mc_out = vuong_tests_fast.monte_carlo(num_sims,gen_data_ex,setup_shi,trials=trials,c1=c1,c2=c2,adapt_c = adapt_c)\n",
    "vuong_tests_fast.print_mc(mc_out)\n",
    "print(mc_out)"
   ]
  },
  {
   "cell_type": "code",
   "execution_count": 7,
   "metadata": {},
   "outputs": [
    {
     "name": "stdout",
     "output_type": "stream",
     "text": [
      "\\begin{tabular}{|c|c|c|c|c|c|c|}\n",
      "\\hline\n",
      "Model &  Normal & Two-Step & Bootstrap & Bootstrap-TIC & Bootstrap-ND & Shi (2015) \\\\ \\hline \\hline\n",
      "No selection & 0.80 & 0.80 & 0.80 & 0.70 & 0.80 & 0.90   \\\\\n",
      "Model 1 & 0.20 & 0.20 & 0.20 & 0.30 & 0.20 & 0.10   \\\\\n",
      "Model 2 & 0.00 & 0.00 & 0.00 & 0.00 & 0.00 & 0.00   \\\\\n",
      "\\hline\n",
      "\\end{tabular}\n",
      "(array([0.8, 0.2, 0. ]), array([0.8, 0.2, 0. ]), array([0.8, 0.2, 0. ]), array([0.7, 0.3, 0. ]), array([0.8, 0.2, 0. ]), array([0.9, 0.1, 0. ]), 8.970068202286233, 5.32496974650199, 7.151191205487481)\n"
     ]
    }
   ],
   "source": [
    "setup_shi_ex  = lambda yn,xn: setup_shi(yn,xn,num_params=num_params)\n",
    "gen_data_ex = lambda : gen_data(nobs=500, a=a,  num_params=num_params)\n",
    "mc_out = vuong_tests_fast.monte_carlo(num_sims,gen_data_ex,setup_shi,trials=trials,c1=c1,c2=c2,adapt_c = adapt_c)\n",
    "vuong_tests_fast.print_mc(mc_out)\n",
    "print(mc_out)"
   ]
  },
  {
   "cell_type": "code",
   "execution_count": 8,
   "metadata": {},
   "outputs": [
    {
     "name": "stdout",
     "output_type": "stream",
     "text": [
      "\\begin{tabular}{|c|c|c|c|c|c|c|}\n",
      "\\hline\n",
      "Model &  Normal & Two-Step & Bootstrap & Bootstrap-TIC & Bootstrap-ND & Shi (2015) \\\\ \\hline \\hline\n",
      "No selection & 1.00 & 1.00 & 1.00 & 1.00 & 1.00 & 1.00   \\\\\n",
      "Model 1 & 0.00 & 0.00 & 0.00 & 0.00 & 0.00 & 0.00   \\\\\n",
      "Model 2 & 0.00 & 0.00 & 0.00 & 0.00 & 0.00 & 0.00   \\\\\n",
      "\\hline\n",
      "\\end{tabular}\n",
      "(array([1., 0., 0.]), array([1., 0., 0.]), array([1., 0., 0.]), array([1., 0., 0.]), array([1., 0., 0.]), array([1., 0., 0.]), 1.0844246992922624, 2.9806182385708686, 3.5361767851954786)\n"
     ]
    }
   ],
   "source": [
    "setup_shi_ex  = lambda yn,xn: setup_shi(yn,xn,num_params=num_params)\n",
    "gen_data_ex = lambda : gen_data(nobs=100, a=a,  num_params=num_params)\n",
    "mc_out = vuong_tests_fast.monte_carlo(num_sims,gen_data_ex,setup_shi,trials=trials,c1=c1,c2=c2,adapt_c = adapt_c)\n",
    "vuong_tests_fast.print_mc(mc_out)\n",
    "print(mc_out)"
   ]
  },
  {
   "cell_type": "markdown",
   "metadata": {},
   "source": [
    "# a  = .25, k= 4, something not right?"
   ]
  },
  {
   "cell_type": "code",
   "execution_count": 9,
   "metadata": {},
   "outputs": [],
   "source": [
    "a = 0.25\n",
    "num_params=4\n"
   ]
  },
  {
   "cell_type": "code",
   "execution_count": 10,
   "metadata": {
    "scrolled": false
   },
   "outputs": [
    {
     "name": "stdout",
     "output_type": "stream",
     "text": [
      "\\begin{tabular}{|c|c|c|c|c|c|c|}\n",
      "\\hline\n",
      "Model &  Normal & Two-Step & Bootstrap & Bootstrap-TIC & Bootstrap-ND & Shi (2015) \\\\ \\hline \\hline\n",
      "No selection & 1.00 & 1.00 & 1.00 & 0.90 & 1.00 & 1.00   \\\\\n",
      "Model 1 & 0.00 & 0.00 & 0.00 & 0.10 & 0.00 & 0.00   \\\\\n",
      "Model 2 & 0.00 & 0.00 & 0.00 & 0.00 & 0.00 & 0.00   \\\\\n",
      "\\hline\n",
      "\\end{tabular}\n",
      "(array([1., 0., 0.]), array([1., 0., 0.]), array([1., 0., 0.]), array([0.9, 0.1, 0. ]), array([1., 0., 0.]), array([1., 0., 0.]), 0.8739202963303313, 6.041066748686283, 5.543315683679376)\n"
     ]
    }
   ],
   "source": [
    "setup_shi_ex  = lambda yn,xn: setup_shi(yn,xn,num_params=num_params)\n",
    "gen_data_ex = lambda : gen_data(nobs=250, a=a,  num_params=num_params)\n",
    "mc_out = vuong_tests_fast.monte_carlo(num_sims,gen_data_ex,setup_shi,trials=trials,c1=c1,c2=c2,adapt_c = adapt_c)\n",
    "vuong_tests_fast.print_mc(mc_out)\n",
    "print(mc_out)"
   ]
  },
  {
   "cell_type": "markdown",
   "metadata": {},
   "source": [
    "# a  = .25, K = 19"
   ]
  },
  {
   "cell_type": "code",
   "execution_count": 11,
   "metadata": {},
   "outputs": [],
   "source": [
    "a = 0.25\n",
    "num_params=19\n"
   ]
  },
  {
   "cell_type": "code",
   "execution_count": 12,
   "metadata": {
    "scrolled": true
   },
   "outputs": [
    {
     "name": "stdout",
     "output_type": "stream",
     "text": [
      "\\begin{tabular}{|c|c|c|c|c|c|c|}\n",
      "\\hline\n",
      "Model &  Normal & Two-Step & Bootstrap & Bootstrap-TIC & Bootstrap-ND & Shi (2015) \\\\ \\hline \\hline\n",
      "No selection & 0.90 & 0.90 & 1.00 & 0.90 & 0.90 & 1.00   \\\\\n",
      "Model 1 & 0.10 & 0.10 & 0.00 & 0.10 & 0.10 & 0.00   \\\\\n",
      "Model 2 & 0.00 & 0.00 & 0.00 & 0.00 & 0.00 & 0.00   \\\\\n",
      "\\hline\n",
      "\\end{tabular}\n",
      "(array([0.9, 0.1, 0. ]), array([0.9, 0.1, 0. ]), array([1., 0., 0.]), array([0.9, 0.1, 0. ]), array([0.9, 0.1, 0. ]), array([1., 0., 0.]), 3.056502804958305, 2.7113585424614954, 4.259502698107925)\n"
     ]
    }
   ],
   "source": [
    "setup_shi_ex  = lambda yn,xn: setup_shi(yn,xn,num_params=num_params)\n",
    "gen_data_ex = lambda : gen_data(nobs=250, a=a,  num_params=num_params)\n",
    "mc_out = vuong_tests_fast.monte_carlo(num_sims,gen_data_ex,setup_shi,trials=trials,c1=c1,c2=c2,adapt_c = adapt_c)\n",
    "vuong_tests_fast.print_mc(mc_out)\n",
    "print(mc_out)"
   ]
  },
  {
   "cell_type": "markdown",
   "metadata": {},
   "source": [
    "# evidence of power"
   ]
  },
  {
   "cell_type": "code",
   "execution_count": 13,
   "metadata": {},
   "outputs": [],
   "source": [
    "a1,a2 = np.sqrt(1.09-1), 0.00\n",
    "num_params= 9\n",
    "\n",
    "\n",
    "def gen_data2(nobs=1000, a1=np.sqrt(1.09-1), a2=0.00 , num_params=19):\n",
    "    x = np.random.normal(scale=1., size=(nobs,1+num_params))\n",
    "    e = np.random.normal(loc=0.0, scale=1.0, size=nobs)\n",
    "    y = 1 + a1*x[:,0] + a2/np.sqrt(num_params)*x[:,1:num_params+1].sum(axis=1) + e\n",
    "    return y,x,nobs"
   ]
  },
  {
   "cell_type": "code",
   "execution_count": 14,
   "metadata": {
    "scrolled": true
   },
   "outputs": [
    {
     "name": "stdout",
     "output_type": "stream",
     "text": [
      "\\begin{tabular}{|c|c|c|c|c|c|c|}\n",
      "\\hline\n",
      "Model &  Normal & Two-Step & Bootstrap & Bootstrap-TIC & Bootstrap-ND & Shi (2015) \\\\ \\hline \\hline\n",
      "No selection & 0.60 & 0.60 & 0.80 & 0.40 & 0.70 & 0.70   \\\\\n",
      "Model 1 & 0.40 & 0.40 & 0.20 & 0.60 & 0.30 & 0.30   \\\\\n",
      "Model 2 & 0.00 & 0.00 & 0.00 & 0.00 & 0.00 & 0.00   \\\\\n",
      "\\hline\n",
      "\\end{tabular}\n",
      "(array([0.6, 0.4, 0. ]), array([0.6, 0.4, 0. ]), array([0.8, 0.2, 0. ]), array([0.4, 0.6, 0. ]), array([0.7, 0.3, 0. ]), array([0.7, 0.3, 0. ]), 9.54872395564911, 4.399042039817816, 5.083719029254441)\n"
     ]
    }
   ],
   "source": [
    "a1,a2 = np.sqrt(1.09-1), 0.00\n",
    "setup_shi_ex  = lambda yn,xn: setup_shi(yn,xn,num_params=num_params)\n",
    "gen_data_ex = lambda : gen_data2(nobs=250, a1=a1, a2=a2, num_params=num_params)\n",
    "mc_out = vuong_tests_fast.monte_carlo(num_sims,gen_data_ex,setup_shi,trials=trials,c1=c1,c2=c2,adapt_c = adapt_c)\n",
    "vuong_tests_fast.print_mc(mc_out)\n",
    "print(mc_out)"
   ]
  },
  {
   "cell_type": "code",
   "execution_count": 15,
   "metadata": {},
   "outputs": [
    {
     "name": "stdout",
     "output_type": "stream",
     "text": [
      "\\begin{tabular}{|c|c|c|c|c|c|c|}\n",
      "\\hline\n",
      "Model &  Normal & Two-Step & Bootstrap & Bootstrap-TIC & Bootstrap-ND & Shi (2015) \\\\ \\hline \\hline\n",
      "No selection & 0.80 & 0.80 & 0.80 & 0.70 & 0.80 & 0.80   \\\\\n",
      "Model 1 & 0.20 & 0.20 & 0.20 & 0.30 & 0.20 & 0.20   \\\\\n",
      "Model 2 & 0.00 & 0.00 & 0.00 & 0.00 & 0.00 & 0.00   \\\\\n",
      "\\hline\n",
      "\\end{tabular}\n",
      "(array([0.8, 0.2, 0. ]), array([0.8, 0.2, 0. ]), array([0.8, 0.2, 0. ]), array([0.7, 0.3, 0. ]), array([0.8, 0.2, 0. ]), array([0.8, 0.2, 0. ]), 7.327201013638576, 4.107207658655526, 4.824404306946965)\n"
     ]
    }
   ],
   "source": [
    "a1,a2 = np.sqrt(1.09**.5-1), 0.00\n",
    "setup_shi_ex  = lambda yn,xn: setup_shi(yn,xn,num_params=num_params)\n",
    "gen_data_ex = lambda : gen_data2(nobs=500, a1=a1, a2=a2, num_params=num_params)\n",
    "mc_out = vuong_tests_fast.monte_carlo(num_sims,gen_data_ex,setup_shi,trials=trials,c1=c1,c2=c2,adapt_c = adapt_c)\n",
    "vuong_tests_fast.print_mc(mc_out)\n",
    "print(mc_out)"
   ]
  },
  {
   "cell_type": "code",
   "execution_count": null,
   "metadata": {
    "scrolled": true
   },
   "outputs": [],
   "source": [
    "a1,a2 = np.sqrt(1.09**2.5-1), 0.00\n",
    "setup_shi_ex  = lambda yn,xn: setup_shi(yn,xn,num_params=num_params)\n",
    "gen_data_ex = lambda : gen_data2(nobs=100, a1=a1, a2=a2, num_params=num_params)\n",
    "mc_out = vuong_tests_fast.monte_carlo(num_sims,gen_data_ex,setup_shi,trials=trials,c1=c1,c2=c2,adapt_c = adapt_c)\n",
    "vuong_tests_fast.print_mc(mc_out)\n",
    "print(mc_out)"
   ]
  },
  {
   "cell_type": "code",
   "execution_count": null,
   "metadata": {},
   "outputs": [],
   "source": [
    "a1,a2 = np.sqrt(1.09-1), 0.00\n",
    "setup_shi_ex  = lambda yn,xn: setup_shi(yn,xn,num_params=num_params)\n",
    "gen_data_ex = lambda : gen_data2(nobs=250, a1=a1, a2=a2, num_params=4)\n",
    "mc_out = vuong_tests_fast.monte_carlo(num_sims,gen_data_ex,setup_shi,trials=trials,c1=c1,c2=c2,adapt_c = adapt_c)\n",
    "vuong_tests_fast.print_mc(mc_out)\n",
    "print(mc_out)"
   ]
  },
  {
   "cell_type": "code",
   "execution_count": null,
   "metadata": {},
   "outputs": [],
   "source": [
    "a1,a2 = np.sqrt(1.09-1), 0.00\n",
    "setup_shi_ex  = lambda yn,xn: setup_shi(yn,xn,num_params=num_params)\n",
    "gen_data_ex = lambda : gen_data2(nobs=250, a1=a1, a2=a2, num_params=19)\n",
    "mc_out = vuong_tests_fast.monte_carlo(num_sims,gen_data_ex,setup_shi,trials=trials,c1=c1,c2=c2,adapt_c = adapt_c)\n",
    "vuong_tests_fast.print_mc(mc_out)\n",
    "print(mc_out)"
   ]
  },
  {
   "cell_type": "markdown",
   "metadata": {},
   "source": [
    "# evidence of power 2"
   ]
  },
  {
   "cell_type": "code",
   "execution_count": null,
   "metadata": {},
   "outputs": [],
   "source": [
    "a2,a1 = np.sqrt(1.09-1), 0.00\n",
    "setup_shi_ex  = lambda yn,xn: setup_shi(yn,xn,num_params=num_params)\n",
    "gen_data_ex = lambda : gen_data2(nobs=250, a1=a1, a2=a2, num_params=num_params)\n",
    "mc_out = vuong_tests_fast.monte_carlo(num_sims,gen_data_ex,setup_shi,trials=trials,c1=c1,c2=c2,adapt_c = adapt_c)\n",
    "vuong_tests_fast.print_mc(mc_out)\n",
    "print(mc_out)"
   ]
  },
  {
   "cell_type": "code",
   "execution_count": null,
   "metadata": {},
   "outputs": [],
   "source": [
    "a2,a1 = np.sqrt(1.09**.5-1), 0.00\n",
    "setup_shi_ex  = lambda yn,xn: setup_shi(yn,xn,num_params=num_params)\n",
    "gen_data_ex = lambda : gen_data2(nobs=500, a1=a1, a2=a2, num_params=num_params)\n",
    "mc_out = vuong_tests_fast.monte_carlo(num_sims,gen_data_ex,setup_shi,trials=trials,c1=c1,c2=c2,adapt_c = adapt_c)\n",
    "vuong_tests_fast.print_mc(mc_out)\n",
    "print(mc_out)"
   ]
  },
  {
   "cell_type": "code",
   "execution_count": null,
   "metadata": {},
   "outputs": [],
   "source": [
    "a2,a1 =np.sqrt(1.09**2.5-1), 0.00\n",
    "setup_shi_ex  = lambda yn,xn: setup_shi(yn,xn,num_params=num_params)\n",
    "gen_data_ex = lambda : gen_data2(nobs=100, a1=a1, a2=a2, num_params=num_params)\n",
    "mc_out = vuong_tests_fast.monte_carlo(num_sims,gen_data_ex,setup_shi,trials=trials,c1=c1,c2=c2,adapt_c = adapt_c)\n",
    "vuong_tests_fast.print_mc(mc_out)\n",
    "print(mc_out)"
   ]
  },
  {
   "cell_type": "code",
   "execution_count": null,
   "metadata": {},
   "outputs": [],
   "source": [
    "a2,a1 = np.sqrt(1.09-1), 0.00\n",
    "setup_shi_ex  = lambda yn,xn: setup_shi(yn,xn,num_params=num_params)\n",
    "gen_data_ex = lambda : gen_data2(nobs=250, a1=a1, a2=a2, num_params=4)\n",
    "mc_out = vuong_tests_fast.monte_carlo(num_sims,gen_data_ex,setup_shi,trials=trials,c1=c1,c2=c2,adapt_c = adapt_c)\n",
    "vuong_tests_fast.print_mc(mc_out)\n",
    "print(mc_out)"
   ]
  },
  {
   "cell_type": "code",
   "execution_count": null,
   "metadata": {},
   "outputs": [],
   "source": [
    "a2,a1 = np.sqrt(1.09-1), 0.00\n",
    "setup_shi_ex  = lambda yn,xn: setup_shi(yn,xn,num_params=num_params)\n",
    "gen_data_ex = lambda : gen_data2(nobs=250, a1=a1, a2=a2, num_params=19)\n",
    "mc_out = vuong_tests_fast.monte_carlo(num_sims,gen_data_ex,setup_shi,trials=trials,c1=c1,c2=c2,adapt_c = adapt_c)\n",
    "vuong_tests_fast.print_mc(mc_out)\n",
    "print(mc_out)"
   ]
  },
  {
   "cell_type": "code",
   "execution_count": null,
   "metadata": {},
   "outputs": [],
   "source": []
  }
 ],
 "metadata": {
  "kernelspec": {
   "display_name": "Python 3 (ipykernel)",
   "language": "python",
   "name": "python3"
  },
  "language_info": {
   "codemirror_mode": {
    "name": "ipython",
    "version": 3
   },
   "file_extension": ".py",
   "mimetype": "text/x-python",
   "name": "python",
   "nbconvert_exporter": "python",
   "pygments_lexer": "ipython3",
   "version": "3.10.9"
  }
 },
 "nbformat": 4,
 "nbformat_minor": 2
}
