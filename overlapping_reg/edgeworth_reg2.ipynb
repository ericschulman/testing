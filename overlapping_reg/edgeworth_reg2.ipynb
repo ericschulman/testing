{
 "cells": [
  {
   "cell_type": "code",
   "execution_count": 16,
   "metadata": {},
   "outputs": [
    {
     "name": "stdout",
     "output_type": "stream",
     "text": [
      "The autoreload extension is already loaded. To reload it, use:\n",
      "  %reload_ext autoreload\n"
     ]
    }
   ],
   "source": [
    "%load_ext autoreload\n",
    "%autoreload 2\n",
    "\n",
    "import numpy as np\n",
    "import scipy.stats as stats\n",
    "import scipy.special\n",
    "#graphing\n",
    "import matplotlib.pyplot as plt\n",
    "#stats\n",
    "import statsmodels.api as sm\n",
    "from statsmodels.base.model import GenericLikelihoodModel\n",
    "from scipy import stats\n",
    "\n",
    "#import testing\n",
    "import sys\n",
    "sys.path.append(\"../\")\n",
    "import vuong_plots"
   ]
  },
  {
   "cell_type": "code",
   "execution_count": 17,
   "metadata": {},
   "outputs": [],
   "source": [
    "#generate the sample\n",
    "def gen_data(beta=3):\n",
    "    nobs = 1000\n",
    "    x = np.random.uniform(low=-3., high=3., size=(nobs,3))\n",
    "    e = np.random.normal(loc=0.0, scale=1.0, size=nobs)\n",
    "    y = 1 + beta * x[:,1] + e\n",
    "    return y,x,nobs\n",
    "\n",
    "yn,xn,nobs = gen_data()"
   ]
  },
  {
   "cell_type": "code",
   "execution_count": 18,
   "metadata": {},
   "outputs": [],
   "source": [
    "def compute_loglike(resid):\n",
    "    sigma = np.sqrt(np.sum(resid**2)/resid.shape[0])\n",
    "    ll = np.log(stats.norm.pdf(resid,loc=0,scale=sigma))\n",
    "    return ll"
   ]
  },
  {
   "cell_type": "code",
   "execution_count": 19,
   "metadata": {},
   "outputs": [],
   "source": [
    "def compute_score(yn,xn,params):\n",
    "    \n",
    "    xn = sm.add_constant(xn)\n",
    "    resid = yn - np.matmul(xn,params)\n",
    "    \n",
    "    k = len(params)\n",
    "    scale = (resid**2).mean()\n",
    "    \n",
    "    tile_resid = np.tile( resid, k)\n",
    "    tile_resid = np.reshape(tile_resid, (k,xn.shape[0]) ).transpose()\n",
    "    grad = tile_resid*xn/scale     \n",
    "    return grad\n",
    "    \n",
    "def compute_hess(yn,xn,params):\n",
    "    pass\n",
    "\n",
    "\n",
    "def setup_shi(yn,xn):\n",
    "    x1n,x2n = xn[:,0:2],xn[:,1:3]\n",
    "    \n",
    "    # model 1 grad, etc.\n",
    "    model1 = sm.OLS(yn,sm.add_constant(x1n))\n",
    "    model1_fit = model1.fit(disp=False)\n",
    "    k1 = len(model1_fit.params)\n",
    "    \n",
    "    ll1 = compute_loglike(model1_fit.resid)\n",
    "    grad1 =  compute_score(yn,x1n,model1_fit.params)\n",
    "    hess1 = model1.hessian(model1_fit.params)\n",
    "    \n",
    "    #model 2 grad, etc.\n",
    "    model2 = sm.OLS(yn,sm.add_constant(x2n))\n",
    "    model2_fit = model2.fit(disp=False)\n",
    "    k2 = len(model1_fit.params)\n",
    "    \n",
    "    ll2 = compute_loglike(model2_fit.resid)\n",
    "    grad2 =  compute_score(yn,x2n,model2_fit.params)\n",
    "    hess2 = model2.hessian(model2_fit.params)\n",
    "    \n",
    "    return ll1,grad1,hess1,ll2,k1, grad2,hess2,k2\n",
    "\n",
    "#yn,xn,nobs = gen_data()\n",
    "ll1,grad1,hess1,ll2,k1, grad2,hess2,k2 = setup_shi(yn,xn)"
   ]
  },
  {
   "cell_type": "markdown",
   "metadata": {},
   "source": [
    "# Main examples"
   ]
  },
  {
   "cell_type": "code",
   "execution_count": 20,
   "metadata": {
    "scrolled": true
   },
   "outputs": [
    {
     "data": {
      "image/png": "[encoded data removed]",
      "text/plain": [
       "<Figure size 432x288 with 1 Axes>"
      ]
     },
     "metadata": {
      "needs_background": "light"
     },
     "output_type": "display_data"
    }
   ],
   "source": [
    "#generate the sample\n",
    "def gen_data(beta=0):\n",
    "    nobs = 500\n",
    "    #x = np.random.normal(low=-3., high=3., size=(nobs,3))\n",
    "    x = np.random.normal(scale=3., size=(nobs,3))\n",
    "    e = np.random.normal(loc=0.0, scale=1.0, size=nobs)\n",
    "    y = 1*x[:,2] + 1*x[:,0] + beta * x[:,1] + e\n",
    "    return y,x,nobs\n",
    "\n",
    "\n",
    "true_stats = vuong_plots.plot_true2(gen_data,setup_shi)\n",
    "\n",
    "yn,xn,nobs = gen_data()\n",
    "anayltic_stats = vuong_plots.plot_analytic2(yn,xn,nobs,setup_shi)\n",
    "bootstrap_stats = vuong_plots.plot_bootstrap2(yn,xn,nobs,setup_shi,c=0)\n",
    "plt.legend()\n",
    "\n",
    "plt.show()"
   ]
  },
  {
   "cell_type": "code",
   "execution_count": 21,
   "metadata": {},
   "outputs": [
    {
     "name": "stdout",
     "output_type": "stream",
     "text": [
      "1 --------\n",
      "0.0 -0.09901090619628382\n",
      "0.0 0.03235280961959\n",
      "0.0 0.01640273296446759\n",
      "0.0 0.5062197114600354\n",
      "---------\n",
      "2 --------\n",
      "1.0279291419010883 1.0299891201413711\n",
      "0.3611410068527921 0.3612132495026925\n",
      "0.9836170788343632 0.9838138416026839\n",
      "0.9586572944657026 0.9605784513684397\n",
      "---------\n",
      "3 --------\n",
      "-0.15311888933264428 -0.15404190844806503\n",
      "-0.0016727758597491174 -0.0016737799938430365\n",
      "0.05947224193622478 0.059507941940753865\n",
      "0.07251356577360905 0.07295068628583387\n",
      "---------\n",
      "4 --------\n",
      "3.4680406943811017 0.31516982898950935\n",
      "0.3444578462391841 -0.046719531871308985\n",
      "2.9099148271806428 0.008579930498646393\n",
      "2.6613322201054115 -0.0859297778504961\n",
      "---------\n",
      "true mean:-0.09901090619628382, eigen: 0.288060773564923, test_stat: 0.5443060413948881, boot_mean:0.5062197114600354\n"
     ]
    }
   ],
   "source": [
    "overlap,normal = anayltic_stats\n",
    "\n",
    "#print moments/kstats\n",
    "for i in range(1,5):\n",
    "    print('%s --------'%i)\n",
    "    for distr in [true_stats,overlap,normal,bootstrap_stats]:\n",
    "        m, k = stats.moment(distr, i), stats.kstat(distr, i)\n",
    "        print(m,k)\n",
    "    print('---------')\n",
    "ll1,grad1,hess1,ll2,k1, grad2,hess2,k2 = setup_shi(yn,xn)\n",
    "thing1 = np.array(true_stats).mean()\n",
    "thing2 = vuong_plots.compute_eigen2(ll1,grad1,hess1,ll2,k1, grad2,hess2,k2).sum()\n",
    "\n",
    "sqrt_nobs = np.sqrt(yn.shape[0])\n",
    "thing3 = sqrt_nobs*(ll1-ll2).mean()/ (ll1-ll2).std()\n",
    "thing4 = np.array(bootstrap_stats).mean()\n",
    "print('true mean:%s, eigen: %s, test_stat: %s, boot_mean:%s'%(thing1,thing2,thing3,thing4))"
   ]
  },
  {
   "cell_type": "code",
   "execution_count": 22,
   "metadata": {},
   "outputs": [
    {
     "data": {
      "image/png": "[encoded data removed]",
      "text/plain": [
       "<Figure size 432x288 with 1 Axes>"
      ]
     },
     "metadata": {
      "needs_background": "light"
     },
     "output_type": "display_data"
    }
   ],
   "source": [
    "#generate the sample\n",
    "def gen_data(beta=0):\n",
    "    nobs = 1000\n",
    "    #x = np.random.normal(low=-3., high=3., size=(nobs,3))\n",
    "    x = np.random.normal(scale=3., size=(nobs,3))\n",
    "    e = np.random.normal(loc=0.0, scale=1.0, size=nobs)\n",
    "    y = 1*x[:,2] + 1*x[:,0] + beta * x[:,1] + e\n",
    "    return y,x,nobs\n",
    "\n",
    "\n",
    "true_stats = vuong_plots.plot_true2(gen_data,setup_shi)\n",
    "\n",
    "yn,xn,nobs = gen_data()\n",
    "anayltic_stats = vuong_plots.plot_analytic2(yn,xn,nobs,setup_shi)\n",
    "bootstrap_stats = vuong_plots.plot_bootstrap2(yn,xn,nobs,setup_shi,c=0)\n",
    "plt.legend()\n",
    "\n",
    "plt.show()"
   ]
  },
  {
   "cell_type": "code",
   "execution_count": 23,
   "metadata": {},
   "outputs": [
    {
     "name": "stdout",
     "output_type": "stream",
     "text": [
      "1 --------\n",
      "0.0 -0.015780894260362888\n",
      "0.0 -0.004855145161085423\n",
      "0.0 -0.021326861453867616\n",
      "0.0 -0.7341271813728194\n",
      "---------\n",
      "2 --------\n",
      "0.9949124357308585 0.9969062482273132\n",
      "0.3517766366578816 0.35184700605909347\n",
      "0.9976332226850152 0.9978327892428639\n",
      "0.9902292127496265 0.9922136400296858\n",
      "---------\n",
      "3 --------\n",
      "-0.024885731178700993 -0.025035745364927756\n",
      "0.01680840560767659 0.016818495359412607\n",
      "-0.013414664253956255 -0.013422716810224868\n",
      "-0.0825622171452262 -0.08305991213876195\n",
      "---------\n",
      "4 --------\n",
      "2.7120854070487868 -0.2490816136529662\n",
      "0.3363357912370043 -0.034804850326411334\n",
      "2.9244855309241093 -0.060220788207763505\n",
      "2.8435997762697305 -0.08753799058047322\n",
      "---------\n",
      "true mean:-0.015780894260362888, eigen: -0.009812368206353561, test_stat: -0.6982803867788824, boot_mean:-0.7341271813728194\n"
     ]
    }
   ],
   "source": [
    "overlap,normal = anayltic_stats\n",
    "\n",
    "#print moments/kstats\n",
    "for i in range(1,5):\n",
    "    print('%s --------'%i)\n",
    "    for distr in [true_stats,overlap,normal,bootstrap_stats]:\n",
    "        m, k = stats.moment(distr, i), stats.kstat(distr, i)\n",
    "        print(m,k)\n",
    "    print('---------')\n",
    "ll1,grad1,hess1,ll2,k1, grad2,hess2,k2 = setup_shi(yn,xn)\n",
    "thing1 = np.array(true_stats).mean()\n",
    "thing2 = vuong_plots.compute_eigen2(ll1,grad1,hess1,ll2,k1, grad2,hess2,k2).sum()\n",
    "\n",
    "overlap,normal = anayltic_stats\n",
    "\n",
    "sqrt_nobs = np.sqrt(yn.shape[0])\n",
    "thing3 = sqrt_nobs*(ll1-ll2).mean()/ (ll1-ll2).std()\n",
    "thing4 = np.array(bootstrap_stats).mean()\n",
    "print('true mean:%s, eigen: %s, test_stat: %s, boot_mean:%s'%(thing1,thing2,thing3,thing4))"
   ]
  },
  {
   "cell_type": "code",
   "execution_count": 24,
   "metadata": {},
   "outputs": [
    {
     "data": {
      "image/png": "[encoded data removed]",
      "text/plain": [
       "<Figure size 432x288 with 1 Axes>"
      ]
     },
     "metadata": {
      "needs_background": "light"
     },
     "output_type": "display_data"
    }
   ],
   "source": [
    "#generate the sample\n",
    "def gen_data(beta=10):\n",
    "    nobs = 1000\n",
    "    #x = np.random.normal(low=-3., high=3., size=(nobs,3))\n",
    "    x = np.random.normal(scale=3., size=(nobs,3))\n",
    "    e = np.random.normal(loc=0.0, scale=1.0, size=nobs)\n",
    "    y =  beta * x[:,1] + e\n",
    "    return y,x,nobs\n",
    "\n",
    "true_stats = vuong_plots.plot_true2(gen_data,setup_shi)\n",
    "\n",
    "yn,xn,nobs = gen_data()\n",
    "anayltic_stats = vuong_plots.plot_analytic2(yn,xn,nobs,setup_shi)\n",
    "bootstrap_stats = vuong_plots.plot_bootstrap2(yn,xn,nobs,setup_shi)\n",
    "plt.legend()\n",
    "plt.show()"
   ]
  },
  {
   "cell_type": "code",
   "execution_count": 25,
   "metadata": {},
   "outputs": [
    {
     "name": "stdout",
     "output_type": "stream",
     "text": [
      "1 --------\n",
      "0.0 -0.03812702330408226\n",
      "0.0 -0.014832678628296526\n",
      "0.0 0.010852659424077482\n",
      "0.0 -0.06469070298296782\n",
      "---------\n",
      "2 --------\n",
      "0.25304339161953165 0.2535504926047411\n",
      "0.26550936198064373 0.2655624744755389\n",
      "0.9799331931297702 0.9801292189735649\n",
      "0.5255519393901007 0.5266051496894796\n",
      "---------\n",
      "3 --------\n",
      "-0.006420063638785794 -0.0064587645560053595\n",
      "-0.00010641331463812698 -0.00010647719243542559\n",
      "-0.01494164217163102 -0.014950611342387694\n",
      "0.021652546043127507 0.021783070199764512\n",
      "---------\n",
      "4 --------\n",
      "0.1805124076852211 -0.010966370328130373\n",
      "0.1959062113110504 -0.015516587290207964\n",
      "2.9017966206674863 0.02217254974172807\n",
      "0.7466566857139274 -0.07976092024978326\n",
      "---------\n",
      "true mean:-0.03812702330408226, eigen: 0.004753145270312939, test_stat: 0.002862347086668188, boot_mean:-0.06469070298296782\n"
     ]
    }
   ],
   "source": [
    "overlap,normal = anayltic_stats\n",
    "\n",
    "#print moments/kstats\n",
    "for i in range(1,5):\n",
    "    print('%s --------'%i)\n",
    "    for distr in [true_stats,overlap,normal,bootstrap_stats]:\n",
    "        m, k = stats.moment(distr, i), stats.kstat(distr, i)\n",
    "        print(m,k)\n",
    "    print('---------')\n",
    "ll1,grad1,hess1,ll2,k1, grad2,hess2,k2 = setup_shi(yn,xn)\n",
    "thing1 = np.array(true_stats).mean()\n",
    "thing2 = vuong_plots.compute_eigen2(ll1,grad1,hess1,ll2,k1, grad2,hess2,k2).sum()\n",
    "\n",
    "overlap,normal = anayltic_stats\n",
    "\n",
    "sqrt_nobs = np.sqrt(yn.shape[0])\n",
    "thing3 = sqrt_nobs*(ll1-ll2).mean()/ (ll1-ll2).std()\n",
    "thing4 = np.array(bootstrap_stats).mean()\n",
    "print('true mean:%s, eigen: %s, test_stat: %s, boot_mean:%s'%(thing1,thing2,thing3,thing4))"
   ]
  },
  {
   "cell_type": "markdown",
   "metadata": {},
   "source": [
    "# Other examples"
   ]
  },
  {
   "cell_type": "code",
   "execution_count": 26,
   "metadata": {},
   "outputs": [
    {
     "data": {
      "image/png": "[encoded data removed]",
      "text/plain": [
       "<Figure size 432x288 with 1 Axes>"
      ]
     },
     "metadata": {
      "needs_background": "light"
     },
     "output_type": "display_data"
    }
   ],
   "source": [
    "#generate the sample\n",
    "def gen_data(beta=3):\n",
    "    nobs = 500\n",
    "    #x = np.random.normal(low=-3., high=3., size=(nobs,3))\n",
    "    x = np.random.normal(scale=3., size=(nobs,3))\n",
    "    e = np.random.normal(loc=0.0, scale=1.0, size=nobs)\n",
    "    y = 1 + .01*x[:,0] + beta * x[:,1] + e\n",
    "    return y,x,nobs\n",
    "\n",
    "true_stats = vuong_plots.plot_true2(gen_data,setup_shi)\n",
    "\n",
    "yn,xn,nobs = gen_data()\n",
    "anayltic_stats = vuong_plots.plot_analytic2(yn,xn,nobs,setup_shi)\n",
    "bootstrap_stats = vuong_plots.plot_bootstrap2(yn,xn,nobs,setup_shi)\n",
    "\n",
    "plt.legend()\n",
    "plt.show()"
   ]
  },
  {
   "cell_type": "code",
   "execution_count": 27,
   "metadata": {},
   "outputs": [
    {
     "name": "stdout",
     "output_type": "stream",
     "text": [
      "1 --------\n",
      "0.0 0.0508131367139063\n",
      "0.0 -0.06417860500036841\n",
      "0.0 0.012213798951391536\n",
      "0.0 -0.34258349917192327\n",
      "---------\n",
      "2 --------\n",
      "0.3189264931876221 0.31956562443649505\n",
      "0.2946803904361896 0.29473933830385035\n",
      "0.9678186334489177 0.968012235896097\n",
      "0.7934987189729222 0.7950888967664552\n",
      "---------\n",
      "3 --------\n",
      "-0.002682731913429512 -0.0026989037446675914\n",
      "0.01688332437413229 0.016893459098114433\n",
      "-0.005181973138584315 -0.005185083774041956\n",
      "0.04145322714470888 0.041703112192969384\n",
      "---------\n",
      "4 --------\n",
      "0.2943245014052111 -0.009735284645009149\n",
      "0.2296625153656002 -0.030785977363180953\n",
      "2.8289421483107535 0.020075300260118042\n",
      "1.5476651431872939 -0.3384286049040732\n",
      "---------\n",
      "true mean:0.0508131367139063, eigen: -0.32881292282626834, test_stat: -0.36890923780917384, boot_mean:-0.34258349917192327\n"
     ]
    }
   ],
   "source": [
    "overlap,normal = anayltic_stats\n",
    "\n",
    "#print moments/kstats\n",
    "for i in range(1,5):\n",
    "    print('%s --------'%i)\n",
    "    for distr in [true_stats,overlap,normal,bootstrap_stats]:\n",
    "        m, k = stats.moment(distr, i), stats.kstat(distr, i)\n",
    "        print(m,k)\n",
    "    print('---------')\n",
    "ll1,grad1,hess1,ll2,k1, grad2,hess2,k2 = setup_shi(yn,xn)\n",
    "thing1 = np.array(true_stats).mean()\n",
    "thing2 = vuong_plots.compute_eigen2(ll1,grad1,hess1,ll2,k1, grad2,hess2,k2).sum()\n",
    "\n",
    "overlap,normal = anayltic_stats\n",
    "\n",
    "sqrt_nobs = np.sqrt(yn.shape[0])\n",
    "thing3 = sqrt_nobs*(ll1-ll2).mean()/ (ll1-ll2).std()\n",
    "thing4 = np.array(bootstrap_stats).mean()\n",
    "print('true mean:%s, eigen: %s, test_stat: %s, boot_mean:%s'%(thing1,thing2,thing3,thing4))"
   ]
  },
  {
   "cell_type": "code",
   "execution_count": 28,
   "metadata": {},
   "outputs": [
    {
     "data": {
      "image/png": "[encoded data removed]",
      "text/plain": [
       "<Figure size 432x288 with 1 Axes>"
      ]
     },
     "metadata": {
      "needs_background": "light"
     },
     "output_type": "display_data"
    }
   ],
   "source": [
    "#generate the sample\n",
    "def gen_data(beta=10):\n",
    "    nobs = 1000\n",
    "    #x = np.random.normal(low=-3., high=3., size=(nobs,3))\n",
    "    x = np.random.normal(scale=3., size=(nobs,3))\n",
    "    e = np.random.normal(loc=0.0, scale=1.0, size=nobs)\n",
    "    y = .1*x[:,2] + .1*x[:,0] + beta * x[:,1] + e\n",
    "    return y,x,nobs\n",
    "\n",
    "true_stats = vuong_plots.plot_true2(gen_data,setup_shi)\n",
    "\n",
    "yn,xn,nobs = gen_data()\n",
    "anayltic_stats = vuong_plots.plot_analytic2(yn,xn,nobs,setup_shi)\n",
    "bootstrap_stats = vuong_plots.plot_bootstrap2(yn,xn,nobs,setup_shi)\n",
    "plt.legend()\n",
    "plt.show()"
   ]
  },
  {
   "cell_type": "code",
   "execution_count": 29,
   "metadata": {},
   "outputs": [
    {
     "name": "stdout",
     "output_type": "stream",
     "text": [
      "1 --------\n",
      "0.0 -0.06625648486143906\n",
      "0.0 -0.014156612089173279\n",
      "0.0 -0.0009816925727191106\n",
      "0.0 -0.7793547114095646\n",
      "---------\n",
      "2 --------\n",
      "0.956904919534603 0.9588225646639309\n",
      "0.3567535459543891 0.35682491093657637\n",
      "0.9863493336456944 0.9865466429742894\n",
      "0.9745057123674552 0.9764586296267088\n",
      "---------\n",
      "3 --------\n",
      "-0.10891857689362319 -0.10957515119961134\n",
      "-0.001082702648332522 -0.0010833525732082138\n",
      "0.0376544441018812 0.03767704731610721\n",
      "-0.11850030186793332 -0.11921463596664542\n",
      "---------\n",
      "4 --------\n",
      "2.895361349557131 0.161576819527809\n",
      "0.3345084081958215 -0.04722425224639144\n",
      "2.895490617132492 -0.02202800159986568\n",
      "2.6250081195315684 -0.2156058400114071\n",
      "---------\n",
      "true mean:-0.06625648486143906, eigen: -0.1003861043098595, test_stat: -0.6957400144495056, boot_mean:-0.7793547114095646\n"
     ]
    }
   ],
   "source": [
    "overlap,normal = anayltic_stats\n",
    "\n",
    "#print moments/kstats\n",
    "for i in range(1,5):\n",
    "    print('%s --------'%i)\n",
    "    for distr in [true_stats,overlap,normal,bootstrap_stats]:\n",
    "        m, k = stats.moment(distr, i), stats.kstat(distr, i)\n",
    "        print(m,k)\n",
    "    print('---------')\n",
    "ll1,grad1,hess1,ll2,k1, grad2,hess2,k2 = setup_shi(yn,xn)\n",
    "thing1 = np.array(true_stats).mean()\n",
    "thing2 = vuong_plots.compute_eigen2(ll1,grad1,hess1,ll2,k1, grad2,hess2,k2).sum()\n",
    "\n",
    "overlap,normal = anayltic_stats\n",
    "\n",
    "sqrt_nobs = np.sqrt(yn.shape[0])\n",
    "thing3 = sqrt_nobs*(ll1-ll2).mean()/ (ll1-ll2).std()\n",
    "thing4 = np.array(bootstrap_stats).mean()\n",
    "print('true mean:%s, eigen: %s, test_stat: %s, boot_mean:%s'%(thing1,thing2,thing3,thing4))"
   ]
  },
  {
   "cell_type": "code",
   "execution_count": 30,
   "metadata": {},
   "outputs": [
    {
     "data": {
      "image/png": "[encoded data removed]",
      "text/plain": [
       "<Figure size 432x288 with 1 Axes>"
      ]
     },
     "metadata": {
      "needs_background": "light"
     },
     "output_type": "display_data"
    }
   ],
   "source": [
    "#generate the sample\n",
    "def gen_data(beta=1):\n",
    "    nobs = 1000\n",
    "    #x = np.random.normal(low=-3., high=3., size=(nobs,3))\n",
    "    x = np.random.normal(scale=3., size=(nobs,3))\n",
    "    e = np.random.normal(loc=0.0, scale=1.0, size=nobs)\n",
    "    y = 1 + 2*x[:,2] + 2*x[:,0] + beta * x[:,1] + e\n",
    "\n",
    "    return y,x,nobs\n",
    "\n",
    "true_stats = vuong_plots.plot_true2(gen_data,setup_shi)\n",
    "\n",
    "yn,xn,nobs = gen_data()\n",
    "anayltic_stats = vuong_plots.plot_analytic2(yn,xn,nobs,setup_shi)\n",
    "bootstrap_stats = vuong_plots.plot_bootstrap2(yn,xn,nobs,setup_shi)\n",
    "plt.legend()\n",
    "plt.show()"
   ]
  },
  {
   "cell_type": "code",
   "execution_count": 31,
   "metadata": {},
   "outputs": [
    {
     "name": "stdout",
     "output_type": "stream",
     "text": [
      "1 --------\n",
      "0.0 0.030148783232159755\n",
      "0.0 -0.03650853794750854\n",
      "0.0 0.003780450454846523\n",
      "0.0 0.24915503765362718\n",
      "---------\n",
      "2 --------\n",
      "0.9086656494148788 0.9104866226601992\n",
      "0.3458044805907146 0.34587365532177894\n",
      "0.9876136325025382 0.9878111947414866\n",
      "1.1568116524034344 1.15912991222789\n",
      "---------\n",
      "3 --------\n",
      "-0.14636645771409215 -0.14724877235806152\n",
      "0.013362249844749806 0.01337027093769076\n",
      "0.018425766422460212 0.01843682704374024\n",
      "0.12971864010662407 0.1305005997000268\n",
      "---------\n",
      "4 --------\n",
      "2.6812309863190777 0.21712364126346623\n",
      "0.3209541024442963 -0.03769739497069908\n",
      "3.032102545920213 0.10728082331665201\n",
      "3.7504420060296377 -0.2516764842993312\n",
      "---------\n",
      "true mean:0.030148783232159755, eigen: -0.35237633209859465, test_stat: 0.2029010134939623, boot_mean:0.24915503765362718\n"
     ]
    }
   ],
   "source": [
    "overlap,normal = anayltic_stats\n",
    "\n",
    "#print moments/kstats\n",
    "for i in range(1,5):\n",
    "    print('%s --------'%i)\n",
    "    for distr in [true_stats,overlap,normal,bootstrap_stats]:\n",
    "        m, k = stats.moment(distr, i), stats.kstat(distr, i)\n",
    "        print(m,k)\n",
    "    print('---------')\n",
    "ll1,grad1,hess1,ll2,k1, grad2,hess2,k2 = setup_shi(yn,xn)\n",
    "thing1 = np.array(true_stats).mean()\n",
    "thing2 = vuong_plots.compute_eigen2(ll1,grad1,hess1,ll2,k1, grad2,hess2,k2).sum()\n",
    "\n",
    "overlap,normal = anayltic_stats\n",
    "\n",
    "sqrt_nobs = np.sqrt(yn.shape[0])\n",
    "thing3 = sqrt_nobs*(ll1-ll2).mean()/ (ll1-ll2).std()\n",
    "thing4 = np.array(bootstrap_stats).mean()\n",
    "print('true mean:%s, eigen: %s, test_stat: %s, boot_mean:%s'%(thing1,thing2,thing3,thing4))"
   ]
  },
  {
   "cell_type": "code",
   "execution_count": null,
   "metadata": {},
   "outputs": [],
   "source": []
  },
  {
   "cell_type": "code",
   "execution_count": null,
   "metadata": {},
   "outputs": [],
   "source": []
  }
 ],
 "metadata": {
  "kernelspec": {
   "display_name": "Python 3",
   "language": "python",
   "name": "python3"
  },
  "language_info": {
   "codemirror_mode": {
    "name": "ipython",
    "version": 3
   },
   "file_extension": ".py",
   "mimetype": "text/x-python",
   "name": "python",
   "nbconvert_exporter": "python",
   "pygments_lexer": "ipython3",
   "version": "3.8.8"
  }
 },
 "nbformat": 4,
 "nbformat_minor": 2
}
