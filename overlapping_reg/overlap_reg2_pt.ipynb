{
 "cells": [
  {
   "cell_type": "code",
   "execution_count": 1,
   "metadata": {},
   "outputs": [],
   "source": [
    "%load_ext autoreload\n",
    "%autoreload 2\n",
    "\n",
    "import numpy as np\n",
    "import matplotlib.pyplot as plt\n",
    "import statsmodels.api as sm\n",
    "import scipy.stats as stats\n",
    "import sys\n",
    "\n",
    "sys.path.append(\"../\")\n",
    "import vuong_tests3"
   ]
  },
  {
   "cell_type": "code",
   "execution_count": 2,
   "metadata": {},
   "outputs": [],
   "source": [
    "#generate the sample\n",
    "def gen_data(beta=3):\n",
    "    nobs = 1000\n",
    "    x = np.random.uniform(low=-3., high=3., size=(nobs,3))\n",
    "    e = np.random.normal(loc=0.0, scale=1.0, size=nobs)\n",
    "    y = 1 + beta * x[:,1] + e\n",
    "    return y,x,nobs\n",
    "\n",
    "yn,xn,nobs = gen_data()"
   ]
  },
  {
   "cell_type": "code",
   "execution_count": 3,
   "metadata": {},
   "outputs": [],
   "source": [
    "def compute_loglike(resid):\n",
    "    sigma = np.sqrt(np.sum(resid**2)/resid.shape[0])\n",
    "    ll = np.log(stats.norm.pdf(resid,loc=0,scale=sigma))\n",
    "    return ll"
   ]
  },
  {
   "cell_type": "code",
   "execution_count": 52,
   "metadata": {},
   "outputs": [],
   "source": [
    "def compute_score(yn,xn,params):\n",
    "    \n",
    "    xn = sm.add_constant(xn)\n",
    "    resid = yn - np.matmul(xn,params)\n",
    "    \n",
    "    k = len(params)\n",
    "    scale = (resid**2).mean()\n",
    "    \n",
    "    tile_resid = np.tile( resid, k)\n",
    "    tile_resid = np.reshape(tile_resid, (k,xn.shape[0]) ).transpose()\n",
    "    grad = tile_resid*xn/scale     \n",
    "    return grad\n",
    "    \n",
    "def compute_hess(yn,xn,params):\n",
    "    pass\n",
    "\n",
    "\n",
    "def setup_shi(yn,xn):\n",
    "    x1n,x2n = xn[:,0:2],xn[:,1:3]\n",
    "    \n",
    "    # model 1 grad, etc.\n",
    "    model1 = sm.OLS(yn,sm.add_constant(x1n))\n",
    "    model1_fit = model1.fit(disp=False)\n",
    "    k1 = len(model1_fit.params)\n",
    "    \n",
    "    ll1 = compute_loglike(model1_fit.resid)\n",
    "    grad1 =  compute_score(yn,x1n,model1_fit.params)\n",
    "    hess1 = model1.hessian(model1_fit.params)\n",
    "    \n",
    "    #model 2 grad, etc.\n",
    "    model2 = sm.OLS(yn,sm.add_constant(x2n))\n",
    "    model2_fit = model2.fit(disp=False)\n",
    "    k2 = len(model1_fit.params)\n",
    "    \n",
    "    ll2 = compute_loglike(model2_fit.resid)\n",
    "    grad2 =  compute_score(yn,x2n,model2_fit.params)\n",
    "    hess2 = model2.hessian(model2_fit.params)\n",
    "    \n",
    "    return ll1,grad1,hess1,ll2,k1, grad2,hess2,k2\n",
    "\n",
    "yn,xn,nobs = gen_data()\n",
    "ll1,grad1,hess1,ll2,k1, grad2,hess2,k2 = setup_shi(yn,xn)"
   ]
  },
  {
   "cell_type": "markdown",
   "metadata": {},
   "source": [
    "# Random stuff..."
   ]
  },
  {
   "cell_type": "code",
   "execution_count": 58,
   "metadata": {},
   "outputs": [
    {
     "name": "stdout",
     "output_type": "stream",
     "text": [
      "0.028182165774042513 0.977703536597072\n",
      "-3.2631378403395734 0.3259327318998907\n",
      "[-1.69204718 -0.18465247 -1.43239867  0.714798   -1.81294815 -2.15131432\n",
      " -1.35846491 -0.90043923 -1.75605395 -1.25336902 -2.39528479 -0.66279775\n",
      " -1.63753067 -2.11958456 -1.21014859 -1.06816016 -1.43496169 -0.91186026\n",
      " -2.47740592 -1.03785409 -1.80662881 -0.96257834 -3.36868523 -2.6150419\n",
      " -2.6300728  -0.37786669  0.18505607  0.33131182 -0.83298662 -2.55421012\n",
      " -2.03343093 -3.79802217 -1.78226062 -3.22854524 -1.92174826 -2.28213893\n",
      " -1.08163372 -2.69149584 -1.67615053 -1.01331845 -1.90231156 -1.63330286\n",
      " -3.39201585 -2.27257197 -1.3949665  -1.34622579 -2.04001495 -0.95090071\n",
      " -1.94680835 -1.53986218  0.51014525 -0.96000379 -2.53098892 -2.58453774\n",
      " -0.19197129 -1.02465345 -0.22430878 -2.73204966 -0.04248216 -2.86897137\n",
      " -2.894395    0.18110201 -0.59315554 -2.21642501 -1.69729789 -1.09159846\n",
      " -0.32444169 -2.41138763 -1.90190373 -1.34722785 -2.17468775 -1.02346149\n",
      " -2.86826228 -1.72809812 -3.1722828  -1.29591818 -1.72416141 -0.81376901\n",
      " -0.45039904 -2.12805358 -2.63318459 -2.87749517 -1.07901274 -1.32547752\n",
      " -1.31858635 -1.30126977 -1.15559898 -1.46211907 -1.81673648  0.30536973\n",
      " -0.68508738 -0.92598832 -3.06142682 -2.33757493 -2.19539031 -1.91396067\n",
      " -1.17407711 -0.41155517 -2.60027377 -3.23508676]\n",
      "\\begin{tabular}{|c|c|c|c|c|c|}\n",
      "\\hline\n",
      "Model &  Normal & Bootstrap & Bootstrap-pt & Bootstrap-bc & Shi (2015) \\\\ \\hline \\hline\n",
      "No selection & 1.00 & 1.00 & 1.00 & 1.00 & 1.00   \\\\\n",
      "Model 1 & 0.00 & 0.00 & 0.00 & 0.00 & 0.00   \\\\\n",
      "Model 2 & 0.00 & 0.00 & 0.00 & 0.00 & 0.00   \\\\\n",
      "\\hline\n",
      "\\end{tabular}\n"
     ]
    }
   ],
   "source": [
    "## generate the sample\n",
    "def gen_data(beta=1):\n",
    "    nobs = 250\n",
    "    #x = np.random.normal(low=-3., high=3., size=(nobs,3))\n",
    "    x = np.random.normal(scale=3., size=(nobs,3))\n",
    "    e = np.random.normal(loc=0.0, scale=1.0, size=nobs)\n",
    "    y = 1 + 2*x[:,2] + 2*x[:,0] + beta * x[:,1] + e\n",
    "    return y,x,nobs\n",
    "\n",
    "\n",
    "mc_out = vuong_tests3.monte_carlo(1,gen_data,setup_shi)\n",
    "vuong_tests3.print_mc(mc_out)"
   ]
  },
  {
   "cell_type": "code",
   "execution_count": 10,
   "metadata": {},
   "outputs": [
    {
     "name": "stdout",
     "output_type": "stream",
     "text": [
      "reg: [0.93 0.03 0.04], boot1: [0.95 0.02 0.03], boot2: [0.94 0.03 0.03], llr:2.1639378091805064, std: 16.13630943568493, omega:0.9843141993393308\n"
     ]
    }
   ],
   "source": [
    "## generate the sample\n",
    "def gen_data(beta=1):\n",
    "    nobs = 250\n",
    "    #x = np.random.normal(low=-3., high=3., size=(nobs,3))\n",
    "    x = np.random.normal(scale=3., size=(nobs,3))\n",
    "    e = np.random.normal(loc=0.0, scale=1.0, size=nobs)\n",
    "    y = 1 + 2*x[:,2] + 2*x[:,0] + beta * x[:,1] + e\n",
    "    return y,x,nobs\n",
    "\n",
    "\n",
    "\n",
    "mc_out = vuong_tests3.monte_carlo(100,gen_data,setup_shi)\n",
    "vuong_tests3.print_mc(mc_out)"
   ]
  },
  {
   "cell_type": "code",
   "execution_count": 11,
   "metadata": {},
   "outputs": [
    {
     "name": "stdout",
     "output_type": "stream",
     "text": [
      "reg: [1. 0. 0.], boot1: [0.98 0.   0.02], boot2: [1. 0. 0.], llr:-0.044780681084592835, std: 1.273642309627394, omega:0.08544684667573103\n"
     ]
    }
   ],
   "source": [
    "#generate the sample\n",
    "def gen_data(beta=3):\n",
    "    nobs = 250\n",
    "    #x = np.random.normal(low=-3., high=3., size=(nobs,3))\n",
    "    x = np.random.normal(scale=3., size=(nobs,3))\n",
    "    e = np.random.normal(loc=0.0, scale=1.0, size=nobs)\n",
    "    y = 1 + .01*x[:,0] + beta * x[:,1] + e\n",
    "    return y,x,nobs\n",
    "\n",
    "mc_out = vuong_tests3.monte_carlo(100,gen_data,setup_shi)\n",
    "vuong_tests3.print_mc(mc_out)"
   ]
  },
  {
   "cell_type": "code",
   "execution_count": 12,
   "metadata": {},
   "outputs": [
    {
     "name": "stdout",
     "output_type": "stream",
     "text": [
      "reg: [0.94 0.04 0.02], boot1: [0.95 0.04 0.01], boot2: [0.95 0.03 0.02], llr:-0.7663149167237024, std: 8.647934622821156, omega:0.38935607238432296\n"
     ]
    }
   ],
   "source": [
    "#generate the sample\n",
    "def gen_data(beta=1):\n",
    "    nobs = 500\n",
    "    #x = np.random.normal(low=-3., high=3., size=(nobs,3))\n",
    "    x = np.random.normal(scale=3., size=(nobs,3))\n",
    "    e = np.random.normal(loc=0.0, scale=1.0, size=nobs)\n",
    "    y = 1 + .1*x[:,2] + .1*x[:,0] + beta * x[:,1] + e\n",
    "    return y,x,nobs\n",
    "\n",
    "mc_out = vuong_tests3.monte_carlo(100,gen_data,setup_shi)\n",
    "vuong_tests3.print_mc(mc_out)"
   ]
  },
  {
   "cell_type": "markdown",
   "metadata": {},
   "source": [
    "# Main examples"
   ]
  },
  {
   "cell_type": "code",
   "execution_count": 13,
   "metadata": {},
   "outputs": [
    {
     "name": "stdout",
     "output_type": "stream",
     "text": [
      "reg: [0.91 0.04 0.05], boot1: [0.9  0.05 0.05], boot2: [0.9  0.06 0.04], llr:0.3526221162407294, std: 25.31246230253454, omega:0.994256889541189\n"
     ]
    }
   ],
   "source": [
    "#generate the sample\n",
    "def gen_data(beta=1):\n",
    "    nobs = 500\n",
    "    #x = np.random.normal(low=-3., high=3., size=(nobs,3))\n",
    "    x = np.random.normal(scale=3., size=(nobs,3))\n",
    "    e = np.random.normal(loc=0.0, scale=1.0, size=nobs)\n",
    "    y = 1 + 2*x[:,2] + 2*x[:,0] + beta * x[:,1] + e\n",
    "    return y,x,nobs\n",
    "\n",
    "\n",
    "mc_out = vuong_tests3.monte_carlo(100,gen_data,setup_shi)\n",
    "vuong_tests3.print_mc(mc_out)"
   ]
  },
  {
   "cell_type": "code",
   "execution_count": 14,
   "metadata": {},
   "outputs": [
    {
     "name": "stdout",
     "output_type": "stream",
     "text": [
      "reg: [1. 0. 0.], boot1: [0.97 0.   0.03], boot2: [1. 0. 0.], llr:0.3347266372601358, std: 1.01088183591406, omega:0.0594324241962605\n"
     ]
    }
   ],
   "source": [
    "#generate the sample\n",
    "def gen_data(beta=3):\n",
    "    nobs = 500\n",
    "    #x = np.random.normal(low=-3., high=3., size=(nobs,3))\n",
    "    x = np.random.normal(scale=3., size=(nobs,3))\n",
    "    e = np.random.normal(loc=0.0, scale=1.0, size=nobs)\n",
    "    y = 1 + .01*x[:,0] + beta * x[:,1] + e\n",
    "    return y,x,nobs\n",
    "\n",
    "mc_out = vuong_tests3.monte_carlo(100,gen_data,setup_shi)\n",
    "vuong_tests3.print_mc(mc_out)"
   ]
  },
  {
   "cell_type": "markdown",
   "metadata": {},
   "source": [
    "# Other examples "
   ]
  },
  {
   "cell_type": "code",
   "execution_count": 15,
   "metadata": {},
   "outputs": [
    {
     "name": "stdout",
     "output_type": "stream",
     "text": [
      "reg: [0.9  0.05 0.05], boot1: [0.92 0.05 0.03], boot2: [0.9  0.05 0.05], llr:1.7526498723079598, std: 15.418786905078203, omega:0.982955241621113\n"
     ]
    }
   ],
   "source": [
    "#generate the sample\n",
    "def gen_data(beta=1):\n",
    "    nobs = 250\n",
    "    #x = np.random.normal(low=-3., high=3., size=(nobs,3))\n",
    "    x = np.random.normal(scale=3., size=(nobs,3))\n",
    "    e = np.random.normal(loc=0.0, scale=1.0, size=nobs)\n",
    "    y = 1 + 2*x[:,2] + 2*x[:,0] + beta * x[:,1] + e\n",
    "    return y,x,nobs\n",
    "\n",
    "mc_out = vuong_tests3.monte_carlo(100,gen_data,setup_shi)\n",
    "vuong_tests3.print_mc(mc_out)"
   ]
  },
  {
   "cell_type": "code",
   "execution_count": 16,
   "metadata": {},
   "outputs": [
    {
     "name": "stdout",
     "output_type": "stream",
     "text": [
      "reg: [0.96 0.01 0.03], boot1: [0.96 0.01 0.03], boot2: [0.94 0.02 0.04], llr:-2.0740767733795016, std: 29.877900165741693, omega:1.00169335209488\n"
     ]
    }
   ],
   "source": [
    "#generate the sample\n",
    "def gen_data(beta=1):\n",
    "    nobs = 1000\n",
    "    #x = np.random.normal(low=-3., high=3., size=(nobs,3))\n",
    "    x = np.random.normal(scale=3., size=(nobs,3))\n",
    "    e = np.random.normal(loc=0.0, scale=1.0, size=nobs)\n",
    "    y = 1 + 2*x[:,2] + 2*x[:,0] + beta * x[:,1] + e\n",
    "    return y,x,nobs\n",
    "\n",
    "mc_out = vuong_tests3.monte_carlo(100,gen_data,setup_shi)\n",
    "vuong_tests3.print_mc(mc_out)"
   ]
  },
  {
   "cell_type": "code",
   "execution_count": 17,
   "metadata": {},
   "outputs": [
    {
     "name": "stdout",
     "output_type": "stream",
     "text": [
      "reg: [0.94 0.02 0.04], boot1: [0.94 0.02 0.04], boot2: [0.91 0.03 0.06], llr:1.5478050105396444, std: 32.50096753710686, omega:0.9911229912602034\n"
     ]
    }
   ],
   "source": [
    "#generate the sample\n",
    "def gen_data(beta=3):\n",
    "    nobs = 1000\n",
    "    #x = np.random.normal(low=-3., high=3., size=(nobs,3))\n",
    "    x = np.random.normal(scale=3., size=(nobs,3))\n",
    "    e = np.random.normal(loc=0.0, scale=1.0, size=nobs)\n",
    "    y = 1 + 1*x[:,2] + 1*x[:,0] + beta * x[:,1] + e\n",
    "    return y,x,nobs\n",
    "\n",
    "mc_out = vuong_tests3.monte_carlo(100,gen_data,setup_shi)\n",
    "vuong_tests3.print_mc(mc_out)"
   ]
  },
  {
   "cell_type": "code",
   "execution_count": 18,
   "metadata": {},
   "outputs": [
    {
     "name": "stdout",
     "output_type": "stream",
     "text": [
      "reg: [1. 0. 0.], boot1: [0.97 0.03 0.  ], boot2: [1. 0. 0.], llr:0.031861474897419216, std: 1.2037922680817412, omega:0.041282867576044505\n"
     ]
    }
   ],
   "source": [
    "#generate the sample\n",
    "def gen_data(beta=1):\n",
    "    nobs = 1000\n",
    "    #x = np.random.normal(low=-3., high=3., size=(nobs,3))\n",
    "    x = np.random.normal(scale=3., size=(nobs,3))\n",
    "    e = np.random.normal(loc=0.0, scale=1.0, size=nobs)\n",
    "    y = 1 + beta * x[:,1] + e\n",
    "    return y,x,nobs\n",
    "\n",
    "mc_out = vuong_tests3.monte_carlo(100,gen_data,setup_shi)\n",
    "vuong_tests3.print_mc(mc_out)"
   ]
  },
  {
   "cell_type": "code",
   "execution_count": 19,
   "metadata": {},
   "outputs": [
    {
     "name": "stdout",
     "output_type": "stream",
     "text": [
      "reg: [0. 1. 0.], boot1: [0. 1. 0.], boot2: [0. 1. 0.], llr:42.39513963849966, std: 9.693500948574929, omega:0.28509640914834955\n"
     ]
    }
   ],
   "source": [
    "#generate the sample\n",
    "def gen_data(beta=3):\n",
    "    nobs = 1000\n",
    "    #x = np.random.normal(low=-3., high=3., size=(nobs,3))\n",
    "    x = np.random.normal(scale=3., size=(nobs,3))\n",
    "    e = np.random.normal(loc=0.0, scale=1.0, size=nobs)\n",
    "    y = 1 + .1*x[:,0] + beta * x[:,1] + e\n",
    "    return y,x,nobs\n",
    "\n",
    "mc_out = vuong_tests3.monte_carlo(100,gen_data,setup_shi)\n",
    "vuong_tests3.print_mc(mc_out)"
   ]
  },
  {
   "cell_type": "code",
   "execution_count": 20,
   "metadata": {},
   "outputs": [
    {
     "name": "stdout",
     "output_type": "stream",
     "text": [
      "reg: [1. 0. 0.], boot1: [0.99 0.01 0.  ], boot2: [1. 0. 0.], llr:0.233445478682298, std: 1.300409547058761, omega:0.0470321466511895\n"
     ]
    }
   ],
   "source": [
    "#generate the sample\n",
    "def gen_data(beta=2):\n",
    "    nobs = 1000\n",
    "    #x = np.random.normal(low=-3., high=3., size=(nobs,3))\n",
    "    x = np.random.normal(scale=3., size=(nobs,3))\n",
    "    e = np.random.normal(loc=0.0, scale=1.0, size=nobs)\n",
    "    y = 1 + .01*x[:,0] + beta * x[:,1] + e\n",
    "    return y,x,nobs\n",
    "\n",
    "mc_out = vuong_tests3.monte_carlo(100,gen_data,setup_shi)\n",
    "vuong_tests3.print_mc(mc_out)"
   ]
  },
  {
   "cell_type": "code",
   "execution_count": null,
   "metadata": {},
   "outputs": [],
   "source": []
  },
  {
   "cell_type": "code",
   "execution_count": null,
   "metadata": {},
   "outputs": [],
   "source": []
  },
  {
   "cell_type": "code",
   "execution_count": null,
   "metadata": {},
   "outputs": [],
   "source": []
  }
 ],
 "metadata": {
  "kernelspec": {
   "display_name": "Python 3",
   "language": "python",
   "name": "python3"
  },
  "language_info": {
   "codemirror_mode": {
    "name": "ipython",
    "version": 3
   },
   "file_extension": ".py",
   "mimetype": "text/x-python",
   "name": "python",
   "nbconvert_exporter": "python",
   "pygments_lexer": "ipython3",
   "version": "3.7.4"
  }
 },
 "nbformat": 4,
 "nbformat_minor": 2
}
