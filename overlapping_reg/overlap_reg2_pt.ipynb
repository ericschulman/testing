{
 "cells": [
  {
   "cell_type": "code",
   "execution_count": 36,
   "metadata": {},
   "outputs": [
    {
     "name": "stdout",
     "output_type": "stream",
     "text": [
      "The autoreload extension is already loaded. To reload it, use:\n",
      "  %reload_ext autoreload\n"
     ]
    }
   ],
   "source": [
    "%load_ext autoreload\n",
    "%autoreload 2\n",
    "\n",
    "import numpy as np\n",
    "import matplotlib.pyplot as plt\n",
    "import statsmodels.api as sm\n",
    "import scipy.stats as stats\n",
    "import sys\n",
    "\n",
    "sys.path.append(\"../\")\n",
    "import vuong_tests3"
   ]
  },
  {
   "cell_type": "code",
   "execution_count": 37,
   "metadata": {},
   "outputs": [],
   "source": [
    "#generate the sample\n",
    "def gen_data(beta=3):\n",
    "    nobs = 1000\n",
    "    x = np.random.uniform(low=-3., high=3., size=(nobs,3))\n",
    "    e = np.random.normal(loc=0.0, scale=1.0, size=nobs)\n",
    "    y = 1 + beta * x[:,1] + e\n",
    "    return y,x,nobs\n",
    "\n",
    "yn,xn,nobs = gen_data()"
   ]
  },
  {
   "cell_type": "code",
   "execution_count": 38,
   "metadata": {},
   "outputs": [],
   "source": [
    "def compute_loglike(resid):\n",
    "    sigma = np.sqrt(np.sum(resid**2)/resid.shape[0])\n",
    "    ll = np.log(stats.norm.pdf(resid,loc=0,scale=sigma))\n",
    "    return ll"
   ]
  },
  {
   "cell_type": "code",
   "execution_count": 39,
   "metadata": {},
   "outputs": [],
   "source": [
    "def compute_score(yn,xn,params):\n",
    "    \n",
    "    xn = sm.add_constant(xn)\n",
    "    resid = yn - np.matmul(xn,params)\n",
    "    \n",
    "    k = len(params)\n",
    "    scale = (resid**2).mean()\n",
    "    \n",
    "    tile_resid = np.tile( resid, k)\n",
    "    tile_resid = np.reshape(tile_resid, (k,xn.shape[0]) ).transpose()\n",
    "    grad = tile_resid*xn/scale     \n",
    "    return grad\n",
    "    \n",
    "def compute_hess(yn,xn,params):\n",
    "    pass\n",
    "\n",
    "\n",
    "def setup_shi(yn,xn):\n",
    "    x1n,x2n = xn[:,0:2],xn[:,1:3]\n",
    "    \n",
    "    # model 1 grad, etc.\n",
    "    model1 = sm.OLS(yn,sm.add_constant(x1n))\n",
    "    model1_fit = model1.fit(disp=False)\n",
    "    params1 = (model1_fit.params)\n",
    "    \n",
    "    ll1 = compute_loglike(model1_fit.resid)\n",
    "    grad1 =  compute_score(yn,x1n,model1_fit.params)\n",
    "    hess1 = model1.hessian(model1_fit.params)\n",
    "    \n",
    "    #model 2 grad, etc.\n",
    "    model2 = sm.OLS(yn,sm.add_constant(x2n))\n",
    "    model2_fit = model2.fit(disp=False)\n",
    "    params2 = (model1_fit.params)\n",
    "    \n",
    "    ll2 = compute_loglike(model2_fit.resid)\n",
    "    grad2 =  compute_score(yn,x2n,model2_fit.params)\n",
    "    hess2 = model2.hessian(model2_fit.params)\n",
    "    \n",
    "    return ll1,grad1,hess1,params1,ll2,grad2,hess2,params2 \n",
    "\n",
    "yn,xn,nobs = gen_data()"
   ]
  },
  {
   "cell_type": "markdown",
   "metadata": {},
   "source": [
    "# Random stuff..."
   ]
  },
  {
   "cell_type": "code",
   "execution_count": 40,
   "metadata": {},
   "outputs": [
    {
     "name": "stdout",
     "output_type": "stream",
     "text": [
      "\\begin{tabular}{|c|c|c|c|c|c|}\n",
      "\\hline\n",
      "Model &  Normal & Bootstrap & Bootstrap-pt & Bootstrap-bc & Shi (2015) \\\\ \\hline \\hline\n",
      "No selection & 0.96 & 0.94 & 0.96 & 0.83 & 0.97   \\\\\n",
      "Model 1 & 0.02 & 0.03 & 0.02 & 0.07 & 0.02   \\\\\n",
      "Model 2 & 0.02 & 0.03 & 0.02 & 0.10 & 0.01   \\\\\n",
      "\\hline\n",
      "\\end{tabular}\n"
     ]
    }
   ],
   "source": [
    "## generate the sample\n",
    "def gen_data(beta=1):\n",
    "    nobs = 250\n",
    "    #x = np.random.normal(low=-3., high=3., size=(nobs,3))\n",
    "    x = np.random.normal(scale=3., size=(nobs,3))\n",
    "    e = np.random.normal(loc=0.0, scale=1.0, size=nobs)\n",
    "    y = 1 + 2*x[:,2] + 2*x[:,0] + beta * x[:,1] + e\n",
    "    return y,x,nobs\n",
    "\n",
    "\n",
    "mc_out = vuong_tests3.monte_carlo(100,gen_data,setup_shi)\n",
    "vuong_tests3.print_mc(mc_out)"
   ]
  },
  {
   "cell_type": "code",
   "execution_count": 41,
   "metadata": {},
   "outputs": [
    {
     "name": "stdout",
     "output_type": "stream",
     "text": [
      "\\begin{tabular}{|c|c|c|c|c|c|}\n",
      "\\hline\n",
      "Model &  Normal & Bootstrap & Bootstrap-pt & Bootstrap-bc & Shi (2015) \\\\ \\hline \\hline\n",
      "No selection & 0.93 & 0.95 & 0.91 & 0.80 & 0.95   \\\\\n",
      "Model 1 & 0.04 & 0.02 & 0.04 & 0.13 & 0.02   \\\\\n",
      "Model 2 & 0.03 & 0.03 & 0.05 & 0.07 & 0.03   \\\\\n",
      "\\hline\n",
      "\\end{tabular}\n"
     ]
    }
   ],
   "source": [
    "## generate the sample\n",
    "def gen_data(beta=1):\n",
    "    nobs = 250\n",
    "    #x = np.random.normal(low=-3., high=3., size=(nobs,3))\n",
    "    x = np.random.normal(scale=3., size=(nobs,3))\n",
    "    e = np.random.normal(loc=0.0, scale=1.0, size=nobs)\n",
    "    y = 1 + 2*x[:,2] + 2*x[:,0] + beta * x[:,1] + e\n",
    "    return y,x,nobs\n",
    "\n",
    "\n",
    "mc_out = vuong_tests3.monte_carlo(100,gen_data,setup_shi)\n",
    "vuong_tests3.print_mc(mc_out)"
   ]
  },
  {
   "cell_type": "code",
   "execution_count": 42,
   "metadata": {},
   "outputs": [
    {
     "name": "stdout",
     "output_type": "stream",
     "text": [
      "\\begin{tabular}{|c|c|c|c|c|c|}\n",
      "\\hline\n",
      "Model &  Normal & Bootstrap & Bootstrap-pt & Bootstrap-bc & Shi (2015) \\\\ \\hline \\hline\n",
      "No selection & 1.00 & 0.98 & 0.98 & 0.98 & 1.00   \\\\\n",
      "Model 1 & 0.00 & 0.00 & 0.00 & 0.00 & 0.00   \\\\\n",
      "Model 2 & 0.00 & 0.02 & 0.02 & 0.02 & 0.00   \\\\\n",
      "\\hline\n",
      "\\end{tabular}\n"
     ]
    }
   ],
   "source": [
    "#generate the sample\n",
    "def gen_data(beta=3):\n",
    "    nobs = 250\n",
    "    #x = np.random.normal(low=-3., high=3., size=(nobs,3))\n",
    "    x = np.random.normal(scale=3., size=(nobs,3))\n",
    "    e = np.random.normal(loc=0.0, scale=1.0, size=nobs)\n",
    "    y = 1 + .01*x[:,0] + beta * x[:,1] + e\n",
    "    return y,x,nobs\n",
    "\n",
    "mc_out = vuong_tests3.monte_carlo(100,gen_data,setup_shi)\n",
    "vuong_tests3.print_mc(mc_out)"
   ]
  },
  {
   "cell_type": "code",
   "execution_count": 43,
   "metadata": {},
   "outputs": [
    {
     "name": "stdout",
     "output_type": "stream",
     "text": [
      "\\begin{tabular}{|c|c|c|c|c|c|}\n",
      "\\hline\n",
      "Model &  Normal & Bootstrap & Bootstrap-pt & Bootstrap-bc & Shi (2015) \\\\ \\hline \\hline\n",
      "No selection & 0.97 & 0.96 & 0.98 & 0.98 & 0.98   \\\\\n",
      "Model 1 & 0.02 & 0.02 & 0.01 & 0.01 & 0.01   \\\\\n",
      "Model 2 & 0.01 & 0.02 & 0.01 & 0.01 & 0.01   \\\\\n",
      "\\hline\n",
      "\\end{tabular}\n"
     ]
    }
   ],
   "source": [
    "#generate the sample\n",
    "def gen_data(beta=1):\n",
    "    nobs = 500\n",
    "    #x = np.random.normal(low=-3., high=3., size=(nobs,3))\n",
    "    x = np.random.normal(scale=3., size=(nobs,3))\n",
    "    e = np.random.normal(loc=0.0, scale=1.0, size=nobs)\n",
    "    y = 1 + .1*x[:,2] + .1*x[:,0] + beta * x[:,1] + e\n",
    "    return y,x,nobs\n",
    "\n",
    "mc_out = vuong_tests3.monte_carlo(100,gen_data,setup_shi)\n",
    "vuong_tests3.print_mc(mc_out)"
   ]
  },
  {
   "cell_type": "markdown",
   "metadata": {},
   "source": [
    "# Main examples"
   ]
  },
  {
   "cell_type": "code",
   "execution_count": 52,
   "metadata": {},
   "outputs": [
    {
     "name": "stdout",
     "output_type": "stream",
     "text": [
      "\\begin{tabular}{|c|c|c|c|c|c|}\n",
      "\\hline\n",
      "Model &  Normal & Bootstrap & Bootstrap-bc & Bootstrap-bc & Shi (2015) \\\\ \\hline \\hline\n",
      "No selection & 0.95 & 0.93 & 0.93 & 0.97 & 0.97   \\\\\n",
      "Model 1 & 0.03 & 0.03 & 0.03 & 0.02 & 0.01   \\\\\n",
      "Model 2 & 0.03 & 0.04 & 0.04 & 0.02 & 0.02   \\\\\n",
      "\\hline\n",
      "\\end{tabular}\n"
     ]
    }
   ],
   "source": [
    "#generate the sample\n",
    "def gen_data(beta=1):\n",
    "    nobs = 500\n",
    "    #x = np.random.normal(low=-3., high=3., size=(nobs,3))\n",
    "    x = np.random.normal(scale=3., size=(nobs,3))\n",
    "    e = np.random.normal(loc=0.0, scale=1.0, size=nobs)\n",
    "    y = 1 + 2*x[:,2] + 2*x[:,0] + beta * x[:,1] + e\n",
    "    return y,x,nobs\n",
    "\n",
    "\n",
    "mc_out = vuong_tests3.monte_carlo(1000,gen_data,setup_shi)\n",
    "vuong_tests3.print_mc(mc_out)"
   ]
  },
  {
   "cell_type": "code",
   "execution_count": 45,
   "metadata": {},
   "outputs": [
    {
     "name": "stdout",
     "output_type": "stream",
     "text": [
      "\\begin{tabular}{|c|c|c|c|c|c|}\n",
      "\\hline\n",
      "Model &  Normal & Bootstrap & Bootstrap-pt & Bootstrap-bc & Shi (2015) \\\\ \\hline \\hline\n",
      "No selection & 1.00 & 1.00 & 1.00 & 1.00 & 1.00   \\\\\n",
      "Model 1 & 0.00 & 0.00 & 0.00 & 0.00 & 0.00   \\\\\n",
      "Model 2 & 0.00 & 0.00 & 0.00 & 0.00 & 0.00   \\\\\n",
      "\\hline\n",
      "\\end{tabular}\n"
     ]
    }
   ],
   "source": [
    "#generate the sample\n",
    "def gen_data(beta=3):\n",
    "    nobs = 500\n",
    "    #x = np.random.normal(low=-3., high=3., size=(nobs,3))\n",
    "    x = np.random.normal(scale=3., size=(nobs,3))\n",
    "    e = np.random.normal(loc=0.0, scale=1.0, size=nobs)\n",
    "    y = 1 + .01*x[:,0] + beta * x[:,1] + e\n",
    "    return y,x,nobs\n",
    "\n",
    "mc_out = vuong_tests3.monte_carlo(100,gen_data,setup_shi)\n",
    "vuong_tests3.print_mc(mc_out)"
   ]
  },
  {
   "cell_type": "markdown",
   "metadata": {},
   "source": [
    "# Other examples "
   ]
  },
  {
   "cell_type": "code",
   "execution_count": 47,
   "metadata": {},
   "outputs": [
    {
     "name": "stdout",
     "output_type": "stream",
     "text": [
      "\\begin{tabular}{|c|c|c|c|c|c|}\n",
      "\\hline\n",
      "Model &  Normal & Bootstrap & Bootstrap-pt & Bootstrap-bc & Shi (2015) \\\\ \\hline \\hline\n",
      "No selection & 0.95 & 0.92 & 0.89 & 0.99 & 0.98   \\\\\n",
      "Model 1 & 0.03 & 0.06 & 0.07 & 0.01 & 0.01   \\\\\n",
      "Model 2 & 0.02 & 0.02 & 0.04 & 0.00 & 0.01   \\\\\n",
      "\\hline\n",
      "\\end{tabular}\n"
     ]
    }
   ],
   "source": [
    "#generate the sample\n",
    "def gen_data(beta=1):\n",
    "    nobs = 1000\n",
    "    #x = np.random.normal(low=-3., high=3., size=(nobs,3))\n",
    "    x = np.random.normal(scale=3., size=(nobs,3))\n",
    "    e = np.random.normal(loc=0.0, scale=1.0, size=nobs)\n",
    "    y = 1 + 2*x[:,2] + 2*x[:,0] + beta * x[:,1] + e\n",
    "    return y,x,nobs\n",
    "\n",
    "mc_out = vuong_tests3.monte_carlo(100,gen_data,setup_shi)\n",
    "vuong_tests3.print_mc(mc_out)"
   ]
  },
  {
   "cell_type": "code",
   "execution_count": 48,
   "metadata": {},
   "outputs": [
    {
     "name": "stdout",
     "output_type": "stream",
     "text": [
      "\\begin{tabular}{|c|c|c|c|c|c|}\n",
      "\\hline\n",
      "Model &  Normal & Bootstrap & Bootstrap-pt & Bootstrap-bc & Shi (2015) \\\\ \\hline \\hline\n",
      "No selection & 0.94 & 0.93 & 0.95 & 0.99 & 0.94   \\\\\n",
      "Model 1 & 0.02 & 0.03 & 0.02 & 0.00 & 0.02   \\\\\n",
      "Model 2 & 0.04 & 0.04 & 0.03 & 0.01 & 0.04   \\\\\n",
      "\\hline\n",
      "\\end{tabular}\n"
     ]
    }
   ],
   "source": [
    "#generate the sample\n",
    "def gen_data(beta=3):\n",
    "    nobs = 1000\n",
    "    #x = np.random.normal(low=-3., high=3., size=(nobs,3))\n",
    "    x = np.random.normal(scale=3., size=(nobs,3))\n",
    "    e = np.random.normal(loc=0.0, scale=1.0, size=nobs)\n",
    "    y = 1 + 1*x[:,2] + 1*x[:,0] + beta * x[:,1] + e\n",
    "    return y,x,nobs\n",
    "\n",
    "mc_out = vuong_tests3.monte_carlo(100,gen_data,setup_shi)\n",
    "vuong_tests3.print_mc(mc_out)"
   ]
  },
  {
   "cell_type": "code",
   "execution_count": 49,
   "metadata": {},
   "outputs": [
    {
     "name": "stdout",
     "output_type": "stream",
     "text": [
      "\\begin{tabular}{|c|c|c|c|c|c|}\n",
      "\\hline\n",
      "Model &  Normal & Bootstrap & Bootstrap-pt & Bootstrap-bc & Shi (2015) \\\\ \\hline \\hline\n",
      "No selection & 1.00 & 1.00 & 0.99 & 1.00 & 1.00   \\\\\n",
      "Model 1 & 0.00 & 0.00 & 0.00 & 0.00 & 0.00   \\\\\n",
      "Model 2 & 0.00 & 0.00 & 0.01 & 0.00 & 0.00   \\\\\n",
      "\\hline\n",
      "\\end{tabular}\n"
     ]
    }
   ],
   "source": [
    "#generate the sample\n",
    "def gen_data(beta=1):\n",
    "    nobs = 1000\n",
    "    #x = np.random.normal(low=-3., high=3., size=(nobs,3))\n",
    "    x = np.random.normal(scale=3., size=(nobs,3))\n",
    "    e = np.random.normal(loc=0.0, scale=1.0, size=nobs)\n",
    "    y = 1 + beta * x[:,1] + e\n",
    "    return y,x,nobs\n",
    "\n",
    "mc_out = vuong_tests3.monte_carlo(100,gen_data,setup_shi)\n",
    "vuong_tests3.print_mc(mc_out)"
   ]
  },
  {
   "cell_type": "code",
   "execution_count": 50,
   "metadata": {},
   "outputs": [
    {
     "name": "stdout",
     "output_type": "stream",
     "text": [
      "\\begin{tabular}{|c|c|c|c|c|c|}\n",
      "\\hline\n",
      "Model &  Normal & Bootstrap & Bootstrap-pt & Bootstrap-bc & Shi (2015) \\\\ \\hline \\hline\n",
      "No selection & 0.00 & 0.00 & 0.00 & 0.00 & 0.00   \\\\\n",
      "Model 1 & 1.00 & 1.00 & 1.00 & 1.00 & 1.00   \\\\\n",
      "Model 2 & 0.00 & 0.00 & 0.00 & 0.00 & 0.00   \\\\\n",
      "\\hline\n",
      "\\end{tabular}\n"
     ]
    }
   ],
   "source": [
    "#generate the sample\n",
    "def gen_data(beta=3):\n",
    "    nobs = 1000\n",
    "    #x = np.random.normal(low=-3., high=3., size=(nobs,3))\n",
    "    x = np.random.normal(scale=3., size=(nobs,3))\n",
    "    e = np.random.normal(loc=0.0, scale=1.0, size=nobs)\n",
    "    y = 1 + .1*x[:,0] + beta * x[:,1] + e\n",
    "    return y,x,nobs\n",
    "\n",
    "mc_out = vuong_tests3.monte_carlo(100,gen_data,setup_shi)\n",
    "vuong_tests3.print_mc(mc_out)"
   ]
  },
  {
   "cell_type": "code",
   "execution_count": 51,
   "metadata": {},
   "outputs": [
    {
     "name": "stdout",
     "output_type": "stream",
     "text": [
      "\\begin{tabular}{|c|c|c|c|c|c|}\n",
      "\\hline\n",
      "Model &  Normal & Bootstrap & Bootstrap-pt & Bootstrap-bc & Shi (2015) \\\\ \\hline \\hline\n",
      "No selection & 1.00 & 1.00 & 0.99 & 1.00 & 1.00   \\\\\n",
      "Model 1 & 0.00 & 0.00 & 0.01 & 0.00 & 0.00   \\\\\n",
      "Model 2 & 0.00 & 0.00 & 0.00 & 0.00 & 0.00   \\\\\n",
      "\\hline\n",
      "\\end{tabular}\n"
     ]
    }
   ],
   "source": [
    "#generate the sample\n",
    "def gen_data(beta=2):\n",
    "    nobs = 1000\n",
    "    #x = np.random.normal(low=-3., high=3., size=(nobs,3))\n",
    "    x = np.random.normal(scale=3., size=(nobs,3))\n",
    "    e = np.random.normal(loc=0.0, scale=1.0, size=nobs)\n",
    "    y = 1 + .01*x[:,0] + beta * x[:,1] + e\n",
    "    return y,x,nobs\n",
    "\n",
    "mc_out = vuong_tests3.monte_carlo(100,gen_data,setup_shi)\n",
    "vuong_tests3.print_mc(mc_out)"
   ]
  },
  {
   "cell_type": "code",
   "execution_count": null,
   "metadata": {},
   "outputs": [],
   "source": []
  },
  {
   "cell_type": "code",
   "execution_count": null,
   "metadata": {},
   "outputs": [],
   "source": []
  }
 ],
 "metadata": {
  "kernelspec": {
   "display_name": "Python 3",
   "language": "python",
   "name": "python3"
  },
  "language_info": {
   "codemirror_mode": {
    "name": "ipython",
    "version": 3
   },
   "file_extension": ".py",
   "mimetype": "text/x-python",
   "name": "python",
   "nbconvert_exporter": "python",
   "pygments_lexer": "ipython3",
   "version": "3.7.4"
  }
 },
 "nbformat": 4,
 "nbformat_minor": 2
}
