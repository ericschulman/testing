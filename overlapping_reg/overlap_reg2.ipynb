{
 "cells": [
  {
   "cell_type": "code",
   "execution_count": 1,
   "metadata": {},
   "outputs": [],
   "source": [
    "%load_ext autoreload\n",
    "%autoreload 2\n",
    "\n",
    "import numpy as np\n",
    "import matplotlib.pyplot as plt\n",
    "import statsmodels.api as sm\n",
    "import scipy.stats as stats\n",
    "import sys\n",
    "\n",
    "sys.path.append(\"../\")\n",
    "import vuong_tests2"
   ]
  },
  {
   "cell_type": "code",
   "execution_count": 2,
   "metadata": {},
   "outputs": [],
   "source": [
    "#generate the sample\n",
    "def gen_data(beta=3):\n",
    "    nobs = 1000\n",
    "    x = np.random.uniform(low=-3., high=3., size=(nobs,3))\n",
    "    e = np.random.normal(loc=0.0, scale=1.0, size=nobs)\n",
    "    y = 1 + beta * x[:,1] + e\n",
    "    return y,x,nobs\n",
    "\n",
    "yn,xn,nobs = gen_data()"
   ]
  },
  {
   "cell_type": "code",
   "execution_count": 3,
   "metadata": {},
   "outputs": [],
   "source": [
    "def compute_loglike(resid):\n",
    "    sigma = np.sqrt(np.sum(resid**2)/resid.shape[0])\n",
    "    ll = np.log(stats.norm.pdf(resid,loc=0,scale=sigma))\n",
    "    return ll"
   ]
  },
  {
   "cell_type": "code",
   "execution_count": 11,
   "metadata": {},
   "outputs": [],
   "source": [
    "def compute_score(yn,xn,params):\n",
    "    \n",
    "    xn = sm.add_constant(xn)\n",
    "    resid = yn - np.matmul(xn,params)\n",
    "    \n",
    "    k = len(params)\n",
    "    scale = (resid**2).mean()\n",
    "    \n",
    "    tile_resid = np.tile( resid, k)\n",
    "    tile_resid = np.reshape(tile_resid, (k,xn.shape[0]) ).transpose()\n",
    "    grad = tile_resid*xn/scale     \n",
    "    return grad\n",
    "    \n",
    "def compute_hess(yn,xn,params):\n",
    "    pass\n",
    "\n",
    "\n",
    "def setup_shi(yn,xn):\n",
    "    x1n,x2n = xn[:,0:2],xn[:,1:3]\n",
    "    \n",
    "    # model 1 grad, etc.\n",
    "    model1 = sm.OLS(yn,sm.add_constant(x1n))\n",
    "    model1_fit = model1.fit(disp=False)\n",
    "    k1 = (model1_fit.params)\n",
    "    \n",
    "    ll1 = compute_loglike(model1_fit.resid)\n",
    "    grad1 =  compute_score(yn,x1n,model1_fit.params)\n",
    "    hess1 = model1.hessian(model1_fit.params)\n",
    "    \n",
    "    #model 2 grad, etc.\n",
    "    model2 = sm.OLS(yn,sm.add_constant(x2n))\n",
    "    model2_fit = model2.fit(disp=False)\n",
    "    k2 = (model1_fit.params)\n",
    "    \n",
    "    ll2 = compute_loglike(model2_fit.resid)\n",
    "    grad2 =  compute_score(yn,x2n,model2_fit.params)\n",
    "    hess2 = model2.hessian(model2_fit.params)\n",
    "    \n",
    "    return ll1,grad1,hess1,ll2,k1, grad2,hess2,k2\n",
    "\n",
    "yn,xn,nobs = gen_data()\n",
    "ll1,grad1,hess1,ll2,k1, grad2,hess2,k2 = setup_shi(yn,xn)"
   ]
  },
  {
   "cell_type": "markdown",
   "metadata": {},
   "source": [
    "# Random stuff..."
   ]
  },
  {
   "cell_type": "code",
   "execution_count": 12,
   "metadata": {},
   "outputs": [
    {
     "name": "stdout",
     "output_type": "stream",
     "text": [
      "reg: [0.93 0.03 0.04], boot1: [0.93 0.03 0.04], boot2: [0.93 0.03 0.04], llr:-0.2963342776583525, std: 16.106537039288217, omega:1.000824367524204\n",
      "[0.97 0.02 0.01]\n"
     ]
    }
   ],
   "source": [
    "## generate the sample\n",
    "def gen_data(beta=1):\n",
    "    nobs = 250\n",
    "    #x = np.random.normal(low=-3., high=3., size=(nobs,3))\n",
    "    x = np.random.normal(scale=3., size=(nobs,3))\n",
    "    e = np.random.normal(loc=0.0, scale=1.0, size=nobs)\n",
    "    y = 1 + 2*x[:,2] + 2*x[:,0] + beta * x[:,1] + e\n",
    "    return y,x,nobs\n",
    "\n",
    "\n",
    "reg,boot1,boot2, llr, std, omega = vuong_tests2.monte_carlo(100,gen_data,setup_shi,trials=200,c=3)\n",
    "print(\"reg: %s, boot1: %s, boot2: %s, llr:%s, std: %s, omega:%s\"%(reg,boot1,boot2,llr,std, omega))\n",
    "shi_result = vuong_tests2.monte_carlo_shi(100,setup_shi,gen_data)\n",
    "print(shi_result)"
   ]
  },
  {
   "cell_type": "code",
   "execution_count": 13,
   "metadata": {},
   "outputs": [
    {
     "name": "stdout",
     "output_type": "stream",
     "text": [
      "reg: [0.96 0.03 0.01], boot1: [0.97 0.02 0.01], boot2: [0.97 0.02 0.01], llr:0.6626431297061243, std: 14.773571842595809, omega:1.0050994156087973\n",
      "[0.97 0.   0.03]\n"
     ]
    }
   ],
   "source": [
    "## generate the sample\n",
    "def gen_data(beta=1):\n",
    "    nobs = 250\n",
    "    #x = np.random.normal(low=-3., high=3., size=(nobs,3))\n",
    "    x = np.random.normal(scale=3., size=(nobs,3))\n",
    "    e = np.random.normal(loc=0.0, scale=1.0, size=nobs)\n",
    "    y = 1 + 2*x[:,2] + 2*x[:,0] + beta * x[:,1] + e\n",
    "    return y,x,nobs\n",
    "\n",
    "\n",
    "reg,boot1,boot2, llr, std, omega = vuong_tests2.monte_carlo(100,gen_data,setup_shi,trials=500,c=3)\n",
    "print(\"reg: %s, boot1: %s, boot2: %s, llr:%s, std: %s, omega:%s\"%(reg,boot1,boot2,llr,std, omega))\n",
    "shi_result = vuong_tests2.monte_carlo_shi(100,setup_shi,gen_data)\n",
    "print(shi_result)"
   ]
  },
  {
   "cell_type": "code",
   "execution_count": 14,
   "metadata": {},
   "outputs": [
    {
     "name": "stdout",
     "output_type": "stream",
     "text": [
      "reg: [1. 0. 0.], boot1: [0.99 0.01 0.  ], boot2: [0.99 0.01 0.  ], llr:0.07917567902266559, std: 1.121060147774017, omega:0.08078138538513635\n",
      "[0.99 0.   0.01]\n"
     ]
    }
   ],
   "source": [
    "#generate the sample\n",
    "def gen_data(beta=3):\n",
    "    nobs = 250\n",
    "    #x = np.random.normal(low=-3., high=3., size=(nobs,3))\n",
    "    x = np.random.normal(scale=3., size=(nobs,3))\n",
    "    e = np.random.normal(loc=0.0, scale=1.0, size=nobs)\n",
    "    y = 1 + .01*x[:,0] + beta * x[:,1] + e\n",
    "    return y,x,nobs\n",
    "\n",
    "\n",
    "reg,boot1,boot2, llr, std, omega = vuong_tests2.monte_carlo(100,gen_data,setup_shi,trials=200)\n",
    "print(\"reg: %s, boot1: %s, boot2: %s, llr:%s, std: %s, omega:%s\"%(reg,boot1,boot2,llr,std, omega))\n",
    "shi_result = vuong_tests2.monte_carlo_shi(100,setup_shi,gen_data)\n",
    "print(shi_result)"
   ]
  },
  {
   "cell_type": "code",
   "execution_count": 15,
   "metadata": {},
   "outputs": [
    {
     "name": "stdout",
     "output_type": "stream",
     "text": [
      "reg: [0.92 0.06 0.02], boot1: [0.9  0.08 0.02], boot2: [0.9  0.08 0.02], llr:1.8129673712031755, std: 10.227148378643099, omega:0.39948805136228543\n",
      "[0.99 0.01 0.  ]\n"
     ]
    }
   ],
   "source": [
    "#generate the sample\n",
    "def gen_data(beta=1):\n",
    "    nobs = 500\n",
    "    #x = np.random.normal(low=-3., high=3., size=(nobs,3))\n",
    "    x = np.random.normal(scale=3., size=(nobs,3))\n",
    "    e = np.random.normal(loc=0.0, scale=1.0, size=nobs)\n",
    "    y = 1 + .1*x[:,2] + .1*x[:,0] + beta * x[:,1] + e\n",
    "    return y,x,nobs\n",
    "\n",
    "\n",
    "reg,boot1,boot2, llr, std, omega = vuong_tests2.monte_carlo(100,gen_data,setup_shi,trials=200,c=3)\n",
    "print(\"reg: %s, boot1: %s, boot2: %s, llr:%s, std: %s, omega:%s\"%(reg,boot1,boot2,llr,std, omega))\n",
    "shi_result = vuong_tests2.monte_carlo_shi(100,setup_shi,gen_data)\n",
    "print(shi_result)"
   ]
  },
  {
   "cell_type": "markdown",
   "metadata": {},
   "source": [
    "# Main examples"
   ]
  },
  {
   "cell_type": "code",
   "execution_count": 16,
   "metadata": {},
   "outputs": [
    {
     "name": "stdout",
     "output_type": "stream",
     "text": [
      "reg: [0.947 0.03  0.023], boot1: [0.947 0.03  0.023], boot2: [0.947 0.03  0.023], llr:-0.18369691892373033, std: 22.01699393281042, omega:0.9977871756566581\n",
      "[0.965 0.022 0.013]\n"
     ]
    }
   ],
   "source": [
    "#generate the sample\n",
    "def gen_data(beta=1):\n",
    "    nobs = 500\n",
    "    #x = np.random.normal(low=-3., high=3., size=(nobs,3))\n",
    "    x = np.random.normal(scale=3., size=(nobs,3))\n",
    "    e = np.random.normal(loc=0.0, scale=1.0, size=nobs)\n",
    "    y = 1 + 2*x[:,2] + 2*x[:,0] + beta * x[:,1] + e\n",
    "    return y,x,nobs\n",
    "\n",
    "\n",
    "reg,boot1,boot2, llr, std, omega = vuong_tests2.monte_carlo(1000,gen_data,setup_shi,trials=500,c=3)\n",
    "print(\"reg: %s, boot1: %s, boot2: %s, llr:%s, std: %s, omega:%s\"%(reg,boot1,boot2,llr,std, omega))\n",
    "shi_result = vuong_tests2.monte_carlo_shi(1000,setup_shi,gen_data)\n",
    "print(shi_result)"
   ]
  },
  {
   "cell_type": "code",
   "execution_count": 17,
   "metadata": {},
   "outputs": [
    {
     "name": "stdout",
     "output_type": "stream",
     "text": [
      "reg: [0.999 0.001 0.   ], boot1: [0.995 0.004 0.001], boot2: [0.994 0.005 0.001], llr:0.24721722440056673, std: 1.2520591865175081, omega:0.06189544288974968\n",
      "[1. 0. 0.]\n"
     ]
    }
   ],
   "source": [
    "#generate the sample\n",
    "def gen_data(beta=3):\n",
    "    nobs = 500\n",
    "    #x = np.random.normal(low=-3., high=3., size=(nobs,3))\n",
    "    x = np.random.normal(scale=3., size=(nobs,3))\n",
    "    e = np.random.normal(loc=0.0, scale=1.0, size=nobs)\n",
    "    y = 1 + .01*x[:,0] + beta * x[:,1] + e\n",
    "    return y,x,nobs\n",
    "\n",
    "\n",
    "reg,boot1,boot2, llr, std, omega = vuong_tests2.monte_carlo(1000,gen_data,setup_shi,trials=200)\n",
    "print(\"reg: %s, boot1: %s, boot2: %s, llr:%s, std: %s, omega:%s\"%(reg,boot1,boot2,llr,std, omega))\n",
    "shi_result = vuong_tests2.monte_carlo_shi(1000,setup_shi,gen_data)\n",
    "print(shi_result)"
   ]
  },
  {
   "cell_type": "markdown",
   "metadata": {},
   "source": [
    "# Other examples "
   ]
  },
  {
   "cell_type": "code",
   "execution_count": 18,
   "metadata": {},
   "outputs": [
    {
     "name": "stdout",
     "output_type": "stream",
     "text": [
      "reg: [0.95 0.03 0.02], boot1: [0.94 0.03 0.03], boot2: [0.94 0.03 0.03], llr:2.0829904861738044, std: 16.605611196729207, omega:0.9907918860793139\n",
      "[0.9  0.06 0.04]\n"
     ]
    }
   ],
   "source": [
    "#generate the sample\n",
    "def gen_data(beta=1):\n",
    "    nobs = 250\n",
    "    #x = np.random.normal(low=-3., high=3., size=(nobs,3))\n",
    "    x = np.random.normal(scale=3., size=(nobs,3))\n",
    "    e = np.random.normal(loc=0.0, scale=1.0, size=nobs)\n",
    "    y = 1 + 2*x[:,2] + 2*x[:,0] + beta * x[:,1] + e\n",
    "    return y,x,nobs\n",
    "\n",
    "\n",
    "reg,boot1,boot2, llr, std, omega = vuong_tests2.monte_carlo(100,gen_data,setup_shi,trials=500,c=10)\n",
    "print(\"reg: %s, boot1: %s, boot2: %s, llr:%s, std: %s, omega:%s\"%(reg,boot1,boot2,llr,std, omega))\n",
    "shi_result = vuong_tests2.monte_carlo_shi(100,setup_shi,gen_data)\n",
    "print(shi_result)"
   ]
  },
  {
   "cell_type": "code",
   "execution_count": 19,
   "metadata": {},
   "outputs": [
    {
     "name": "stdout",
     "output_type": "stream",
     "text": [
      "reg: [0.955 0.019 0.026], boot1: [0.941 0.027 0.032], boot2: [0.941 0.027 0.032], llr:-0.6923945257781836, std: 31.808361328345402, omega:0.9987231366041868\n",
      "[0.97 0.   0.03]\n"
     ]
    }
   ],
   "source": [
    "#generate the sample\n",
    "def gen_data(beta=1):\n",
    "    nobs = 1000\n",
    "    #x = np.random.normal(low=-3., high=3., size=(nobs,3))\n",
    "    x = np.random.normal(scale=3., size=(nobs,3))\n",
    "    e = np.random.normal(loc=0.0, scale=1.0, size=nobs)\n",
    "    y = 1 + 2*x[:,2] + 2*x[:,0] + beta * x[:,1] + e\n",
    "    return y,x,nobs\n",
    "\n",
    "\n",
    "reg,boot1,boot2, llr, std, omega = vuong_tests2.monte_carlo(1000,gen_data,setup_shi,trials=200)\n",
    "print(\"reg: %s, boot1: %s, boot2: %s, llr:%s, std: %s, omega:%s\"%(reg,boot1,boot2,llr,std, omega))\n",
    "shi_result = vuong_tests2.monte_carlo_shi(100,setup_shi,gen_data)\n",
    "print(shi_result)"
   ]
  },
  {
   "cell_type": "code",
   "execution_count": 20,
   "metadata": {},
   "outputs": [
    {
     "name": "stdout",
     "output_type": "stream",
     "text": [
      "reg: [0.95 0.02 0.03], boot1: [0.96 0.01 0.03], boot2: [0.96 0.01 0.03], llr:-5.011827962390932, std: 31.255978375915713, omega:0.9978545836173103\n",
      "[0.96 0.01 0.03]\n"
     ]
    }
   ],
   "source": [
    "#generate the sample\n",
    "def gen_data(beta=3):\n",
    "    nobs = 1000\n",
    "    #x = np.random.normal(low=-3., high=3., size=(nobs,3))\n",
    "    x = np.random.normal(scale=3., size=(nobs,3))\n",
    "    e = np.random.normal(loc=0.0, scale=1.0, size=nobs)\n",
    "    y = 1 + 1*x[:,2] + 1*x[:,0] + beta * x[:,1] + e\n",
    "    return y,x,nobs\n",
    "\n",
    "reg,boot1,boot2, llr, std, omega = vuong_tests2.monte_carlo(100,gen_data,setup_shi,trials=200)\n",
    "print(\"reg: %s, boot1: %s, boot2: %s, llr:%s, std: %s, omega:%s\"%(reg,boot1,boot2,llr,std, omega))\n",
    "shi_result = vuong_tests2.monte_carlo_shi(100,setup_shi,gen_data)\n",
    "print(shi_result)"
   ]
  },
  {
   "cell_type": "code",
   "execution_count": 21,
   "metadata": {},
   "outputs": [
    {
     "name": "stdout",
     "output_type": "stream",
     "text": [
      "reg: [1. 0. 0.], boot1: [0.999 0.    0.001], boot2: [0.999 0.    0.001], llr:-0.06671077039157422, std: 0.9399051995819258, omega:0.03835526548735606\n",
      "[1. 0. 0.]\n"
     ]
    }
   ],
   "source": [
    "#generate the sample\n",
    "def gen_data(beta=1):\n",
    "    nobs = 1000\n",
    "    #x = np.random.normal(low=-3., high=3., size=(nobs,3))\n",
    "    x = np.random.normal(scale=3., size=(nobs,3))\n",
    "    e = np.random.normal(loc=0.0, scale=1.0, size=nobs)\n",
    "    y = 1 + beta * x[:,1] + e\n",
    "    return y,x,nobs\n",
    "\n",
    "\n",
    "reg,boot1,boot2, llr, std, omega = vuong_tests2.monte_carlo(1000,gen_data,setup_shi,trials=200)\n",
    "print(\"reg: %s, boot1: %s, boot2: %s, llr:%s, std: %s, omega:%s\"%(reg,boot1,boot2,llr,std, omega))\n",
    "shi_result = vuong_tests2.monte_carlo_shi(100,setup_shi,gen_data)\n",
    "print(shi_result)"
   ]
  },
  {
   "cell_type": "code",
   "execution_count": 22,
   "metadata": {},
   "outputs": [
    {
     "name": "stdout",
     "output_type": "stream",
     "text": [
      "reg: [0. 1. 0.], boot1: [0. 1. 0.], boot2: [0. 1. 0.], llr:42.25071125473383, std: 8.342823684925522, omega:0.28550504818177513\n",
      "[0. 1. 0.]\n"
     ]
    }
   ],
   "source": [
    "#generate the sample\n",
    "def gen_data(beta=3):\n",
    "    nobs = 1000\n",
    "    #x = np.random.normal(low=-3., high=3., size=(nobs,3))\n",
    "    x = np.random.normal(scale=3., size=(nobs,3))\n",
    "    e = np.random.normal(loc=0.0, scale=1.0, size=nobs)\n",
    "    y = 1 + .1*x[:,0] + beta * x[:,1] + e\n",
    "    return y,x,nobs\n",
    "\n",
    "\n",
    "reg,boot1,boot2, llr, std, omega = vuong_tests2.monte_carlo(100,gen_data,setup_shi,trials=200)\n",
    "print(\"reg: %s, boot1: %s, boot2: %s, llr:%s, std: %s, omega:%s\"%(reg,boot1,boot2,llr,std, omega))\n",
    "shi_result = vuong_tests2.monte_carlo_shi(100,setup_shi,gen_data)\n",
    "print(shi_result)"
   ]
  },
  {
   "cell_type": "code",
   "execution_count": 23,
   "metadata": {},
   "outputs": [
    {
     "name": "stdout",
     "output_type": "stream",
     "text": [
      "reg: [1. 0. 0.], boot1: [0.99 0.01 0.  ], boot2: [0.99 0.01 0.  ], llr:0.4852169889978496, std: 1.298174117665726, omega:0.04879211398289716\n",
      "[1. 0. 0.]\n"
     ]
    }
   ],
   "source": [
    "#generate the sample\n",
    "def gen_data(beta=2):\n",
    "    nobs = 1000\n",
    "    #x = np.random.normal(low=-3., high=3., size=(nobs,3))\n",
    "    x = np.random.normal(scale=3., size=(nobs,3))\n",
    "    e = np.random.normal(loc=0.0, scale=1.0, size=nobs)\n",
    "    y = 1 + .01*x[:,0] + beta * x[:,1] + e\n",
    "    return y,x,nobs\n",
    "\n",
    "\n",
    "reg,boot1,boot2, llr, std, omega = vuong_tests2.monte_carlo(100,gen_data,setup_shi,trials=200)\n",
    "print(\"reg: %s, boot1: %s, boot2: %s, llr:%s, std: %s, omega:%s\"%(reg,boot1,boot2,llr,std, omega))\n",
    "shi_result = vuong_tests2.monte_carlo_shi(100,setup_shi,gen_data)\n",
    "print(shi_result)"
   ]
  },
  {
   "cell_type": "code",
   "execution_count": null,
   "metadata": {},
   "outputs": [],
   "source": []
  },
  {
   "cell_type": "code",
   "execution_count": null,
   "metadata": {},
   "outputs": [],
   "source": []
  },
  {
   "cell_type": "code",
   "execution_count": null,
   "metadata": {},
   "outputs": [],
   "source": []
  }
 ],
 "metadata": {
  "kernelspec": {
   "display_name": "Python 3",
   "language": "python",
   "name": "python3"
  },
  "language_info": {
   "codemirror_mode": {
    "name": "ipython",
    "version": 3
   },
   "file_extension": ".py",
   "mimetype": "text/x-python",
   "name": "python",
   "nbconvert_exporter": "python",
   "pygments_lexer": "ipython3",
   "version": "3.7.4"
  }
 },
 "nbformat": 4,
 "nbformat_minor": 2
}
