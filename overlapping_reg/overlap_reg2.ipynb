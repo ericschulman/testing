{
 "cells": [
  {
   "cell_type": "code",
   "execution_count": 1,
   "metadata": {},
   "outputs": [],
   "source": [
    "%load_ext autoreload\n",
    "%autoreload 2\n",
    "\n",
    "import numpy as np\n",
    "import matplotlib.pyplot as plt\n",
    "import statsmodels.api as sm\n",
    "import scipy.stats as stats\n",
    "import sys\n",
    "\n",
    "sys.path.append(\"../\")\n",
    "import vuong_tests2"
   ]
  },
  {
   "cell_type": "code",
   "execution_count": 2,
   "metadata": {},
   "outputs": [],
   "source": [
    "#generate the sample\n",
    "def gen_data(beta=3):\n",
    "    nobs = 1000\n",
    "    x = np.random.uniform(low=-3., high=3., size=(nobs,3))\n",
    "    e = np.random.normal(loc=0.0, scale=1.0, size=nobs)\n",
    "    y = 1 + beta * x[:,1] + e\n",
    "    return y,x,nobs\n",
    "\n",
    "yn,xn,nobs = gen_data()"
   ]
  },
  {
   "cell_type": "code",
   "execution_count": 3,
   "metadata": {},
   "outputs": [],
   "source": [
    "def compute_loglike(resid):\n",
    "    sigma = np.sqrt(np.sum(resid**2)/resid.shape[0])\n",
    "    ll = np.log(stats.norm.pdf(resid,loc=0,scale=sigma))\n",
    "    return ll"
   ]
  },
  {
   "cell_type": "code",
   "execution_count": 4,
   "metadata": {},
   "outputs": [],
   "source": [
    "def compute_score(yn,xn,params):\n",
    "    \n",
    "    xn = sm.add_constant(xn)\n",
    "    resid = yn - np.matmul(xn,params)\n",
    "    \n",
    "    k = len(params)\n",
    "    scale = (resid**2).mean()\n",
    "    \n",
    "    tile_resid = np.tile( resid, k)\n",
    "    tile_resid = np.reshape(tile_resid, (k,xn.shape[0]) ).transpose()\n",
    "    grad = tile_resid*xn/scale     \n",
    "    return grad\n",
    "    \n",
    "def compute_hess(yn,xn,params):\n",
    "    pass\n",
    "\n",
    "\n",
    "def setup_shi(yn,xn):\n",
    "    x1n,x2n = xn[:,0:2],xn[:,1:3]\n",
    "    \n",
    "    # model 1 grad, etc.\n",
    "    model1 = sm.OLS(yn,sm.add_constant(x1n))\n",
    "    model1_fit = model1.fit(disp=False)\n",
    "    k1 = len(model1_fit.params)\n",
    "    \n",
    "    ll1 = compute_loglike(model1_fit.resid)\n",
    "    grad1 =  compute_score(yn,x1n,model1_fit.params)\n",
    "    hess1 = model1.hessian(model1_fit.params)\n",
    "    \n",
    "    #model 2 grad, etc.\n",
    "    model2 = sm.OLS(yn,sm.add_constant(x2n))\n",
    "    model2_fit = model2.fit(disp=False)\n",
    "    k2 = len(model1_fit.params)\n",
    "    \n",
    "    ll2 = compute_loglike(model2_fit.resid)\n",
    "    grad2 =  compute_score(yn,x2n,model2_fit.params)\n",
    "    hess2 = model2.hessian(model2_fit.params)\n",
    "    \n",
    "    return ll1,grad1,hess1,ll2,k1, grad2,hess2,k2\n",
    "\n",
    "yn,xn,nobs = gen_data()\n",
    "ll1,grad1,hess1,ll2,k1, grad2,hess2,k2 = setup_shi(yn,xn)"
   ]
  },
  {
   "cell_type": "markdown",
   "metadata": {},
   "source": [
    "# Main examples"
   ]
  },
  {
   "cell_type": "code",
   "execution_count": 5,
   "metadata": {},
   "outputs": [
    {
     "name": "stdout",
     "output_type": "stream",
     "text": [
      "reg: [0.95  0.022 0.028], boot1: [0.946 0.021 0.033], boot2: [0.946 0.021 0.033], llr:-0.4805492601816843, std: 22.16442878640675, omega:0.9973000519921233\n",
      "[0.972 0.012 0.016]\n"
     ]
    }
   ],
   "source": [
    "#generate the sample\n",
    "def gen_data(beta=1):\n",
    "    nobs = 500\n",
    "    #x = np.random.normal(low=-3., high=3., size=(nobs,3))\n",
    "    x = np.random.normal(scale=3., size=(nobs,3))\n",
    "    e = np.random.normal(loc=0.0, scale=1.0, size=nobs)\n",
    "    y = 1 + 2*x[:,2] + 2*x[:,0] + beta * x[:,1] + e\n",
    "    return y,x,nobs\n",
    "\n",
    "\n",
    "reg,boot1,boot2, llr, std, omega = vuong_tests2.monte_carlo(1000,gen_data,setup_shi,trials=500,c=3)\n",
    "print(\"reg: %s, boot1: %s, boot2: %s, llr:%s, std: %s, omega:%s\"%(reg,boot1,boot2,llr,std, omega))\n",
    "shi_result = vuong_tests2.monte_carlo_shi(1000,setup_shi,gen_data)\n",
    "print(shi_result)"
   ]
  },
  {
   "cell_type": "code",
   "execution_count": 6,
   "metadata": {},
   "outputs": [
    {
     "name": "stdout",
     "output_type": "stream",
     "text": [
      "reg: [1. 0. 0.], boot1: [0.993 0.005 0.002], boot2: [0.993 0.005 0.002], llr:0.16784420400880187, std: 1.2014428477172345, omega:0.061783095643456444\n",
      "[1. 0. 0.]\n"
     ]
    }
   ],
   "source": [
    "#generate the sample\n",
    "def gen_data(beta=3):\n",
    "    nobs = 500\n",
    "    #x = np.random.normal(low=-3., high=3., size=(nobs,3))\n",
    "    x = np.random.normal(scale=3., size=(nobs,3))\n",
    "    e = np.random.normal(loc=0.0, scale=1.0, size=nobs)\n",
    "    y = 1 + .01*x[:,0] + beta * x[:,1] + e\n",
    "    return y,x,nobs\n",
    "\n",
    "\n",
    "reg,boot1,boot2, llr, std, omega = vuong_tests2.monte_carlo(1000,gen_data,setup_shi,trials=200)\n",
    "print(\"reg: %s, boot1: %s, boot2: %s, llr:%s, std: %s, omega:%s\"%(reg,boot1,boot2,llr,std, omega))\n",
    "shi_result = vuong_tests2.monte_carlo_shi(1000,setup_shi,gen_data)\n",
    "print(shi_result)"
   ]
  },
  {
   "cell_type": "markdown",
   "metadata": {},
   "source": [
    "# Other examples "
   ]
  },
  {
   "cell_type": "code",
   "execution_count": 7,
   "metadata": {},
   "outputs": [
    {
     "name": "stdout",
     "output_type": "stream",
     "text": [
      "reg: [0.95 0.01 0.04], boot1: [0.94 0.02 0.04], boot2: [0.94 0.02 0.04], llr:-2.1035723764218592, std: 15.907869209266984, omega:0.9982548572563921\n",
      "[0.95 0.01 0.04]\n"
     ]
    }
   ],
   "source": [
    "#generate the sample\n",
    "def gen_data(beta=1):\n",
    "    nobs = 250\n",
    "    #x = np.random.normal(low=-3., high=3., size=(nobs,3))\n",
    "    x = np.random.normal(scale=3., size=(nobs,3))\n",
    "    e = np.random.normal(loc=0.0, scale=1.0, size=nobs)\n",
    "    y = 1 + 2*x[:,2] + 2*x[:,0] + beta * x[:,1] + e\n",
    "    return y,x,nobs\n",
    "\n",
    "\n",
    "reg,boot1,boot2, llr, std, omega = vuong_tests2.monte_carlo(100,gen_data,setup_shi,trials=500,c=10)\n",
    "print(\"reg: %s, boot1: %s, boot2: %s, llr:%s, std: %s, omega:%s\"%(reg,boot1,boot2,llr,std, omega))\n",
    "shi_result = vuong_tests2.monte_carlo_shi(100,setup_shi,gen_data)\n",
    "print(shi_result)"
   ]
  },
  {
   "cell_type": "code",
   "execution_count": 8,
   "metadata": {},
   "outputs": [
    {
     "name": "stdout",
     "output_type": "stream",
     "text": [
      "reg: [0.946 0.025 0.029], boot1: [0.938 0.029 0.033], boot2: [0.938 0.029 0.033], llr:1.079463852114208, std: 31.246925559915244, omega:0.9976038608421213\n",
      "[0.96 0.   0.04]\n"
     ]
    }
   ],
   "source": [
    "#generate the sample\n",
    "def gen_data(beta=1):\n",
    "    nobs = 1000\n",
    "    #x = np.random.normal(low=-3., high=3., size=(nobs,3))\n",
    "    x = np.random.normal(scale=3., size=(nobs,3))\n",
    "    e = np.random.normal(loc=0.0, scale=1.0, size=nobs)\n",
    "    y = 1 + 2*x[:,2] + 2*x[:,0] + beta * x[:,1] + e\n",
    "    return y,x,nobs\n",
    "\n",
    "\n",
    "reg,boot1,boot2, llr, std, omega = vuong_tests2.monte_carlo(1000,gen_data,setup_shi,trials=200)\n",
    "print(\"reg: %s, boot1: %s, boot2: %s, llr:%s, std: %s, omega:%s\"%(reg,boot1,boot2,llr,std, omega))\n",
    "shi_result = vuong_tests2.monte_carlo_shi(100,setup_shi,gen_data)\n",
    "print(shi_result)"
   ]
  },
  {
   "cell_type": "code",
   "execution_count": 9,
   "metadata": {},
   "outputs": [
    {
     "name": "stdout",
     "output_type": "stream",
     "text": [
      "reg: [0.95 0.03 0.02], boot1: [0.95 0.03 0.02], boot2: [0.95 0.03 0.02], llr:2.158888495170042, std: 32.972490786287, omega:0.9926272999842125\n",
      "[0.94 0.02 0.04]\n"
     ]
    }
   ],
   "source": [
    "#generate the sample\n",
    "def gen_data(beta=3):\n",
    "    nobs = 1000\n",
    "    #x = np.random.normal(low=-3., high=3., size=(nobs,3))\n",
    "    x = np.random.normal(scale=3., size=(nobs,3))\n",
    "    e = np.random.normal(loc=0.0, scale=1.0, size=nobs)\n",
    "    y = 1 + 1*x[:,2] + 1*x[:,0] + beta * x[:,1] + e\n",
    "    return y,x,nobs\n",
    "\n",
    "reg,boot1,boot2, llr, std, omega = vuong_tests2.monte_carlo(100,gen_data,setup_shi,trials=200)\n",
    "print(\"reg: %s, boot1: %s, boot2: %s, llr:%s, std: %s, omega:%s\"%(reg,boot1,boot2,llr,std, omega))\n",
    "shi_result = vuong_tests2.monte_carlo_shi(100,setup_shi,gen_data)\n",
    "print(shi_result)"
   ]
  },
  {
   "cell_type": "code",
   "execution_count": 10,
   "metadata": {},
   "outputs": [
    {
     "name": "stdout",
     "output_type": "stream",
     "text": [
      "reg: [1. 0. 0.], boot1: [0.997 0.    0.003], boot2: [0.997 0.    0.003], llr:-0.027609454543062843, std: 0.9135450829069639, omega:0.038968966040388235\n",
      "[1. 0. 0.]\n"
     ]
    }
   ],
   "source": [
    "#generate the sample\n",
    "def gen_data(beta=1):\n",
    "    nobs = 1000\n",
    "    #x = np.random.normal(low=-3., high=3., size=(nobs,3))\n",
    "    x = np.random.normal(scale=3., size=(nobs,3))\n",
    "    e = np.random.normal(loc=0.0, scale=1.0, size=nobs)\n",
    "    y = 1 + beta * x[:,1] + e\n",
    "    return y,x,nobs\n",
    "\n",
    "\n",
    "reg,boot1,boot2, llr, std, omega = vuong_tests2.monte_carlo(1000,gen_data,setup_shi,trials=200)\n",
    "print(\"reg: %s, boot1: %s, boot2: %s, llr:%s, std: %s, omega:%s\"%(reg,boot1,boot2,llr,std, omega))\n",
    "shi_result = vuong_tests2.monte_carlo_shi(100,setup_shi,gen_data)\n",
    "print(shi_result)"
   ]
  },
  {
   "cell_type": "code",
   "execution_count": 11,
   "metadata": {},
   "outputs": [
    {
     "name": "stdout",
     "output_type": "stream",
     "text": [
      "reg: [0. 1. 0.], boot1: [0. 1. 0.], boot2: [0. 1. 0.], llr:43.48549630024081, std: 9.204253531705588, omega:0.2898659097890787\n",
      "[0. 1. 0.]\n"
     ]
    }
   ],
   "source": [
    "#generate the sample\n",
    "def gen_data(beta=3):\n",
    "    nobs = 1000\n",
    "    #x = np.random.normal(low=-3., high=3., size=(nobs,3))\n",
    "    x = np.random.normal(scale=3., size=(nobs,3))\n",
    "    e = np.random.normal(loc=0.0, scale=1.0, size=nobs)\n",
    "    y = 1 + .1*x[:,0] + beta * x[:,1] + e\n",
    "    return y,x,nobs\n",
    "\n",
    "\n",
    "reg,boot1,boot2, llr, std, omega = vuong_tests2.monte_carlo(100,gen_data,setup_shi,trials=200)\n",
    "print(\"reg: %s, boot1: %s, boot2: %s, llr:%s, std: %s, omega:%s\"%(reg,boot1,boot2,llr,std, omega))\n",
    "shi_result = vuong_tests2.monte_carlo_shi(100,setup_shi,gen_data)\n",
    "print(shi_result)"
   ]
  },
  {
   "cell_type": "code",
   "execution_count": 12,
   "metadata": {},
   "outputs": [
    {
     "name": "stdout",
     "output_type": "stream",
     "text": [
      "reg: [1. 0. 0.], boot1: [1. 0. 0.], boot2: [1. 0. 0.], llr:0.25332673713984905, std: 1.39656037004952, omega:0.04931013977854134\n",
      "[1. 0. 0.]\n"
     ]
    }
   ],
   "source": [
    "#generate the sample\n",
    "def gen_data(beta=2):\n",
    "    nobs = 1000\n",
    "    #x = np.random.normal(low=-3., high=3., size=(nobs,3))\n",
    "    x = np.random.normal(scale=3., size=(nobs,3))\n",
    "    e = np.random.normal(loc=0.0, scale=1.0, size=nobs)\n",
    "    y = 1 + .01*x[:,0] + beta * x[:,1] + e\n",
    "    return y,x,nobs\n",
    "\n",
    "\n",
    "reg,boot1,boot2, llr, std, omega = vuong_tests2.monte_carlo(100,gen_data,setup_shi,trials=200)\n",
    "print(\"reg: %s, boot1: %s, boot2: %s, llr:%s, std: %s, omega:%s\"%(reg,boot1,boot2,llr,std, omega))\n",
    "shi_result = vuong_tests2.monte_carlo_shi(100,setup_shi,gen_data)\n",
    "print(shi_result)"
   ]
  },
  {
   "cell_type": "code",
   "execution_count": null,
   "metadata": {},
   "outputs": [],
   "source": []
  },
  {
   "cell_type": "code",
   "execution_count": null,
   "metadata": {},
   "outputs": [],
   "source": []
  },
  {
   "cell_type": "code",
   "execution_count": null,
   "metadata": {},
   "outputs": [],
   "source": []
  }
 ],
 "metadata": {
  "kernelspec": {
   "display_name": "Python 3",
   "language": "python",
   "name": "python3"
  },
  "language_info": {
   "codemirror_mode": {
    "name": "ipython",
    "version": 3
   },
   "file_extension": ".py",
   "mimetype": "text/x-python",
   "name": "python",
   "nbconvert_exporter": "python",
   "pygments_lexer": "ipython3",
   "version": "3.7.4"
  }
 },
 "nbformat": 4,
 "nbformat_minor": 2
}
