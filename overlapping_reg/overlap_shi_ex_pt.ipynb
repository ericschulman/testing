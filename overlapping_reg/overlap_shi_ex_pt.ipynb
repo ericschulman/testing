{
 "cells": [
  {
   "cell_type": "code",
   "execution_count": 4,
   "metadata": {},
   "outputs": [
    {
     "name": "stdout",
     "output_type": "stream",
     "text": [
      "The autoreload extension is already loaded. To reload it, use:\n",
      "  %reload_ext autoreload\n"
     ]
    }
   ],
   "source": [
    "%load_ext autoreload\n",
    "%autoreload 2\n",
    "\n",
    "import numpy as np\n",
    "import matplotlib.pyplot as plt\n",
    "import statsmodels.api as sm\n",
    "import scipy.stats as stats\n",
    "import sys\n",
    "\n",
    "sys.path.append(\"../\")\n",
    "import vuong_tests3"
   ]
  },
  {
   "cell_type": "code",
   "execution_count": 5,
   "metadata": {},
   "outputs": [],
   "source": [
    "def compute_loglike(resid):\n",
    "    sigma = np.sqrt(np.sum(resid**2)/resid.shape[0])\n",
    "    ll = np.log(stats.norm.pdf(resid,loc=0,scale=sigma))\n",
    "    return ll\n",
    "\n",
    "def compute_score(yn,xn,params):\n",
    "    \n",
    "    xn = sm.add_constant(xn)\n",
    "    resid = yn - np.matmul(xn,params)\n",
    "    \n",
    "    k = len(params)\n",
    "    scale = (resid**2).mean()\n",
    "    \n",
    "    tile_resid = np.tile( resid, k)\n",
    "    tile_resid = np.reshape(tile_resid, (k,xn.shape[0]) ).transpose()\n",
    "    grad = tile_resid*xn/scale     \n",
    "    return grad\n",
    "    \n",
    "def compute_hess(yn,xn,params):\n",
    "    pass\n",
    "\n",
    "\n",
    "def setup_shi(yn,xn,return_model=False,num_params=15):\n",
    "    x1n,x2n = xn[:,0],xn[:,1:num_params]\n",
    "    \n",
    "    # model 1 grad, etc.\n",
    "    model1 = sm.OLS(yn,sm.add_constant(x1n))\n",
    "    model1_fit = model1.fit(disp=False)\n",
    "    params1 = (model1_fit.params)\n",
    "    \n",
    "    ll1 = compute_loglike(model1_fit.resid)\n",
    "    grad1 =  compute_score(yn,x1n,model1_fit.params)\n",
    "    hess1 = model1.hessian(model1_fit.params)\n",
    "    \n",
    "    #model 2 grad, etc.\n",
    "    model2 = sm.OLS(yn,sm.add_constant(x2n))\n",
    "    model2_fit = model2.fit(disp=False)\n",
    "    params2 = (model2_fit.params)\n",
    "    \n",
    "    ll2 = compute_loglike(model2_fit.resid)\n",
    "    grad2 =  compute_score(yn,x2n,model2_fit.params)\n",
    "    hess2 = model2.hessian(model2_fit.params)\n",
    "    \n",
    "    if return_model:\n",
    "        return ll1,grad1,hess1,params1,model1,ll2,grad2,hess2,params2,model2\n",
    "    return ll1,grad1,hess1,params1,ll2,grad2,hess2,params2\n"
   ]
  },
  {
   "cell_type": "markdown",
   "metadata": {},
   "source": [
    "# a  = .25"
   ]
  },
  {
   "cell_type": "code",
   "execution_count": 6,
   "metadata": {},
   "outputs": [
    {
     "name": "stdout",
     "output_type": "stream",
     "text": [
      "\\begin{tabular}{|c|c|c|c|c|c|}\n",
      "\\hline\n",
      "Model &  Normal & Bootstrap & Bootstrap-bc & Bootstrap-bc & Shi (2015) \\\\ \\hline \\hline\n",
      "No selection & 0.93 & 0.94 & 0.94 & 0.94 & 0.94   \\\\\n",
      "Model 1 & 0.06 & 0.06 & 0.06 & 0.06 & 0.06   \\\\\n",
      "Model 2 & 0.01 & 0.00 & 0.00 & 0.00 & 0.00   \\\\\n",
      "\\hline\n",
      "\\end{tabular}\n",
      "(array([0.928, 0.059, 0.013]), array([0.938, 0.059, 0.003]), array([0.939, 0.059, 0.002]), array([0.938, 0.059, 0.003]), array([0.939, 0.059, 0.002]), 7.00464336115551, 24.465497461589536, 24.172227129017035)\n"
     ]
    }
   ],
   "source": [
    "def gen_data(nobs=1000, a=0.25, num_params=15):\n",
    "    x = np.random.normal(scale=3., size=(nobs,1+num_params))\n",
    "    e = np.random.normal(loc=0.0, scale=1.0, size=nobs)\n",
    "    y = 1 + a*x[:,0] + a/np.sqrt(num_params)*x[:,1:num_params+1].sum(axis=1) + e\n",
    "    return y,x,nobs\n",
    "\n",
    "gen_data_ex = lambda : gen_data(nobs=1000, a=0.25, num_params=15)\n",
    "mc_out = vuong_tests3.monte_carlo(1000,gen_data_ex,setup_shi)\n",
    "vuong_tests3.print_mc(mc_out)\n",
    "print(mc_out)"
   ]
  },
  {
   "cell_type": "code",
   "execution_count": 7,
   "metadata": {},
   "outputs": [
    {
     "name": "stdout",
     "output_type": "stream",
     "text": [
      "\\begin{tabular}{|c|c|c|c|c|c|}\n",
      "\\hline\n",
      "Model &  Normal & Bootstrap & Bootstrap-bc & Bootstrap-bc & Shi (2015) \\\\ \\hline \\hline\n",
      "No selection & 0.95 & 0.97 & 0.97 & 0.97 & 0.97   \\\\\n",
      "Model 1 & 0.03 & 0.03 & 0.03 & 0.03 & 0.03   \\\\\n",
      "Model 2 & 0.02 & 0.00 & 0.00 & 0.01 & 0.00   \\\\\n",
      "\\hline\n",
      "\\end{tabular}\n",
      "(array([0.95 , 0.027, 0.023]), array([0.97 , 0.027, 0.003]), array([0.969, 0.027, 0.004]), array([0.968, 0.027, 0.005]), array([0.97 , 0.027, 0.003]), -0.1027299514889731, 16.890402511514225, 17.155496315549406)\n"
     ]
    }
   ],
   "source": [
    "gen_data_ex = lambda : gen_data(nobs=500, a=0.25, num_params=15)\n",
    "mc_out = vuong_tests3.monte_carlo(1000,gen_data_ex,setup_shi)\n",
    "vuong_tests3.print_mc(mc_out)\n",
    "print(mc_out)"
   ]
  },
  {
   "cell_type": "code",
   "execution_count": 8,
   "metadata": {},
   "outputs": [
    {
     "name": "stdout",
     "output_type": "stream",
     "text": [
      "\\begin{tabular}{|c|c|c|c|c|c|}\n",
      "\\hline\n",
      "Model &  Normal & Bootstrap & Bootstrap-bc & Bootstrap-bc & Shi (2015) \\\\ \\hline \\hline\n",
      "No selection & 0.93 & 0.98 & 0.98 & 0.98 & 0.99   \\\\\n",
      "Model 1 & 0.01 & 0.01 & 0.01 & 0.01 & 0.01   \\\\\n",
      "Model 2 & 0.06 & 0.00 & 0.00 & 0.00 & 0.00   \\\\\n",
      "\\hline\n",
      "\\end{tabular}\n",
      "(array([0.925, 0.014, 0.061]), array([0.984, 0.014, 0.002]), array([0.983, 0.014, 0.003]), array([0.984, 0.014, 0.002]), array([0.986, 0.014, 0.   ]), -4.2112830467208, 12.46606814117043, 12.136453886165292)\n"
     ]
    }
   ],
   "source": [
    "gen_data_ex = lambda : gen_data(nobs=250, a=0.25, num_params=15)\n",
    "mc_out = vuong_tests3.monte_carlo(1000,gen_data_ex,setup_shi)\n",
    "vuong_tests3.print_mc(mc_out)\n",
    "print(mc_out)"
   ]
  },
  {
   "cell_type": "markdown",
   "metadata": {},
   "source": [
    "# a  = .125"
   ]
  },
  {
   "cell_type": "code",
   "execution_count": 9,
   "metadata": {},
   "outputs": [
    {
     "name": "stdout",
     "output_type": "stream",
     "text": [
      "\\begin{tabular}{|c|c|c|c|c|c|}\n",
      "\\hline\n",
      "Model &  Normal & Bootstrap & Bootstrap-bc & Bootstrap-bc & Shi (2015) \\\\ \\hline \\hline\n",
      "No selection & 0.95 & 0.98 & 0.98 & 0.98 & 0.98   \\\\\n",
      "Model 1 & 0.01 & 0.01 & 0.01 & 0.01 & 0.01   \\\\\n",
      "Model 2 & 0.04 & 0.01 & 0.01 & 0.01 & 0.01   \\\\\n",
      "\\hline\n",
      "\\end{tabular}\n",
      "(array([0.948, 0.013, 0.039]), array([0.978, 0.013, 0.009]), array([0.979, 0.013, 0.008]), array([0.978, 0.013, 0.009]), array([0.981, 0.013, 0.006]), -3.126398788717006, 15.273729166214324, 15.308045039558609)\n"
     ]
    }
   ],
   "source": [
    "gen_data_ex = lambda : gen_data(nobs=1000, a=0.125, num_params=15)\n",
    "mc_out = vuong_tests3.monte_carlo(1000,gen_data_ex,setup_shi)\n",
    "vuong_tests3.print_mc(mc_out)\n",
    "print(mc_out)"
   ]
  },
  {
   "cell_type": "code",
   "execution_count": 10,
   "metadata": {},
   "outputs": [
    {
     "name": "stdout",
     "output_type": "stream",
     "text": [
      "\\begin{tabular}{|c|c|c|c|c|c|}\n",
      "\\hline\n",
      "Model &  Normal & Bootstrap & Bootstrap-bc & Bootstrap-bc & Shi (2015) \\\\ \\hline \\hline\n",
      "No selection & 0.94 & 0.99 & 0.99 & 0.99 & 0.99   \\\\\n",
      "Model 1 & 0.01 & 0.01 & 0.01 & 0.01 & 0.01   \\\\\n",
      "Model 2 & 0.05 & 0.00 & 0.00 & 0.00 & 0.00   \\\\\n",
      "\\hline\n",
      "\\end{tabular}\n",
      "(array([0.944, 0.007, 0.049]), array([0.992, 0.007, 0.001]), array([0.992, 0.007, 0.001]), array([0.992, 0.007, 0.001]), array([0.992, 0.007, 0.001]), -4.1468054634982146, 10.889293741453333, 11.040234272145536)\n"
     ]
    }
   ],
   "source": [
    "gen_data_ex = lambda : gen_data(nobs=500, a=0.125, num_params=15)\n",
    "mc_out = vuong_tests3.monte_carlo(1000,gen_data_ex,setup_shi)\n",
    "vuong_tests3.print_mc(mc_out)\n",
    "print(mc_out)"
   ]
  },
  {
   "cell_type": "code",
   "execution_count": 11,
   "metadata": {},
   "outputs": [
    {
     "name": "stdout",
     "output_type": "stream",
     "text": [
      "\\begin{tabular}{|c|c|c|c|c|c|}\n",
      "\\hline\n",
      "Model &  Normal & Bootstrap & Bootstrap-bc & Bootstrap-bc & Shi (2015) \\\\ \\hline \\hline\n",
      "No selection & 0.91 & 0.99 & 0.99 & 0.99 & 0.99   \\\\\n",
      "Model 1 & 0.01 & 0.01 & 0.01 & 0.01 & 0.01   \\\\\n",
      "Model 2 & 0.09 & 0.00 & 0.00 & 0.00 & 0.00   \\\\\n",
      "\\hline\n",
      "\\end{tabular}\n",
      "(array([0.91 , 0.005, 0.085]), array([0.994, 0.005, 0.001]), array([0.993, 0.005, 0.002]), array([0.994, 0.005, 0.001]), array([0.994, 0.005, 0.001]), -5.519932940631679, 7.880307229519544, 8.122512662850248)\n"
     ]
    }
   ],
   "source": [
    "gen_data_ex = lambda : gen_data(nobs=250, a=0.125, num_params=15)\n",
    "mc_out = vuong_tests3.monte_carlo(1000,gen_data_ex,setup_shi)\n",
    "vuong_tests3.print_mc(mc_out)\n",
    "print(mc_out)"
   ]
  },
  {
   "cell_type": "markdown",
   "metadata": {},
   "source": [
    "# a = 0"
   ]
  },
  {
   "cell_type": "code",
   "execution_count": 12,
   "metadata": {},
   "outputs": [
    {
     "name": "stdout",
     "output_type": "stream",
     "text": [
      "\\begin{tabular}{|c|c|c|c|c|c|}\n",
      "\\hline\n",
      "Model &  Normal & Bootstrap & Bootstrap-bc & Bootstrap-bc & Shi (2015) \\\\ \\hline \\hline\n",
      "No selection & 0.72 & 1.00 & 1.00 & 1.00 & 1.00   \\\\\n",
      "Model 1 & 0.00 & 0.00 & 0.00 & 0.00 & 0.00   \\\\\n",
      "Model 2 & 0.28 & 0.00 & 0.00 & 0.00 & 0.00   \\\\\n",
      "\\hline\n",
      "\\end{tabular}\n",
      "(array([0.721, 0.   , 0.279]), array([1., 0., 0.]), array([1., 0., 0.]), array([1., 0., 0.]), array([1., 0., 0.]), -6.627882929155079, 2.835444238319601, 3.804666555189614)\n"
     ]
    }
   ],
   "source": [
    "gen_data_ex = lambda : gen_data(nobs=1000, a=0.0, num_params=15)\n",
    "mc_out = vuong_tests3.monte_carlo(1000,gen_data_ex,setup_shi)\n",
    "vuong_tests3.print_mc(mc_out)\n",
    "print(mc_out)"
   ]
  },
  {
   "cell_type": "code",
   "execution_count": 13,
   "metadata": {},
   "outputs": [
    {
     "name": "stdout",
     "output_type": "stream",
     "text": [
      "\\begin{tabular}{|c|c|c|c|c|c|}\n",
      "\\hline\n",
      "Model &  Normal & Bootstrap & Bootstrap-bc & Bootstrap-bc & Shi (2015) \\\\ \\hline \\hline\n",
      "No selection & 0.73 & 1.00 & 1.00 & 1.00 & 1.00   \\\\\n",
      "Model 1 & 0.00 & 0.00 & 0.00 & 0.00 & 0.00   \\\\\n",
      "Model 2 & 0.27 & 0.00 & 0.00 & 0.00 & 0.00   \\\\\n",
      "\\hline\n",
      "\\end{tabular}\n",
      "(array([0.732, 0.   , 0.268]), array([0.998, 0.002, 0.   ]), array([0.998, 0.002, 0.   ]), array([0.998, 0.002, 0.   ]), array([0.999, 0.001, 0.   ]), -6.583812776023755, 2.7504561840508877, 3.795966688576055)\n"
     ]
    }
   ],
   "source": [
    "gen_data_ex = lambda : gen_data(nobs=500, a=0.0, num_params=15)\n",
    "mc_out = vuong_tests3.monte_carlo(1000,gen_data_ex,setup_shi)\n",
    "vuong_tests3.print_mc(mc_out)\n",
    "print(mc_out)"
   ]
  },
  {
   "cell_type": "code",
   "execution_count": 14,
   "metadata": {},
   "outputs": [
    {
     "name": "stdout",
     "output_type": "stream",
     "text": [
      "\\begin{tabular}{|c|c|c|c|c|c|}\n",
      "\\hline\n",
      "Model &  Normal & Bootstrap & Bootstrap-bc & Bootstrap-bc & Shi (2015) \\\\ \\hline \\hline\n",
      "No selection & 0.69 & 0.99 & 0.99 & 0.99 & 1.00   \\\\\n",
      "Model 1 & 0.00 & 0.01 & 0.01 & 0.01 & 0.00   \\\\\n",
      "Model 2 & 0.31 & 0.00 & 0.00 & 0.00 & 0.00   \\\\\n",
      "\\hline\n",
      "\\end{tabular}\n",
      "(array([0.688, 0.   , 0.312]), array([0.995, 0.005, 0.   ]), array([0.994, 0.006, 0.   ]), array([0.994, 0.006, 0.   ]), array([0.997, 0.003, 0.   ]), -6.776967658143603, 2.8135620847609655, 3.784296133594625)\n"
     ]
    }
   ],
   "source": [
    "gen_data_ex = lambda : gen_data(nobs=250, a=0.0, num_params=15)\n",
    "mc_out = vuong_tests3.monte_carlo(1000,gen_data_ex,setup_shi)\n",
    "vuong_tests3.print_mc(mc_out)\n",
    "print(mc_out)"
   ]
  },
  {
   "cell_type": "markdown",
   "metadata": {},
   "source": [
    "# other weird DGPs"
   ]
  },
  {
   "cell_type": "code",
   "execution_count": 20,
   "metadata": {},
   "outputs": [
    {
     "name": "stdout",
     "output_type": "stream",
     "text": [
      "\\begin{tabular}{|c|c|c|c|c|c|}\n",
      "\\hline\n",
      "Model &  Normal & Bootstrap & Bootstrap-bc & Bootstrap-bc & Shi (2015) \\\\ \\hline \\hline\n",
      "No selection & 0.95 & 0.94 & 0.94 & 0.97 & 0.98   \\\\\n",
      "Model 1 & 0.01 & 0.03 & 0.02 & 0.01 & 0.01   \\\\\n",
      "Model 2 & 0.04 & 0.03 & 0.04 & 0.02 & 0.01   \\\\\n",
      "\\hline\n",
      "\\end{tabular}\n"
     ]
    }
   ],
   "source": [
    "def gen_data(beta=0):\n",
    "    nobs = 250\n",
    "    #x = np.random.normal(low=-3., high=3., size=(nobs,3))\n",
    "    x = np.random.normal(scale=3., size=(nobs,4))\n",
    "    e = np.random.normal(loc=0.0, scale=1.0, size=nobs)\n",
    "    y = 1 + 1/np.sqrt(2)*x[:,3] + 1/np.sqrt(2)*x[:,2] + 1*x[:,0] + beta * x[:,1] + e\n",
    "    return y,x,nobs\n",
    "\n",
    "yn,xn,nobs = gen_data()\n",
    "ll1,grad1,hess1,ll2,k1, grad2,hess2,k2 = setup_shi(yn,xn)\n",
    "\n",
    "\n",
    "mc_out = vuong_tests3.monte_carlo(100,gen_data,setup_shi)\n",
    "vuong_tests3.print_mc(mc_out)"
   ]
  },
  {
   "cell_type": "code",
   "execution_count": null,
   "metadata": {},
   "outputs": [],
   "source": []
  },
  {
   "cell_type": "code",
   "execution_count": null,
   "metadata": {},
   "outputs": [],
   "source": []
  },
  {
   "cell_type": "code",
   "execution_count": null,
   "metadata": {},
   "outputs": [],
   "source": []
  },
  {
   "cell_type": "code",
   "execution_count": null,
   "metadata": {},
   "outputs": [],
   "source": []
  }
 ],
 "metadata": {
  "kernelspec": {
   "display_name": "Python 3",
   "language": "python",
   "name": "python3"
  },
  "language_info": {
   "codemirror_mode": {
    "name": "ipython",
    "version": 3
   },
   "file_extension": ".py",
   "mimetype": "text/x-python",
   "name": "python",
   "nbconvert_exporter": "python",
   "pygments_lexer": "ipython3",
   "version": "3.8.8"
  }
 },
 "nbformat": 4,
 "nbformat_minor": 2
}
