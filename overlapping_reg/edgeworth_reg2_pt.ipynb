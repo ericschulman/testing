{
 "cells": [
  {
   "cell_type": "code",
   "execution_count": 1,
   "metadata": {},
   "outputs": [],
   "source": [
    "%load_ext autoreload\n",
    "%autoreload 2\n",
    "\n",
    "import numpy as np\n",
    "import scipy.stats as stats\n",
    "import scipy.special\n",
    "#graphing\n",
    "import matplotlib.pyplot as plt\n",
    "#stats\n",
    "import statsmodels.api as sm\n",
    "from statsmodels.base.model import GenericLikelihoodModel\n",
    "from scipy import stats\n",
    "\n",
    "#import testing\n",
    "import sys\n",
    "sys.path.append(\"../\")\n",
    "import vuong_plots"
   ]
  },
  {
   "cell_type": "code",
   "execution_count": 2,
   "metadata": {},
   "outputs": [],
   "source": [
    "#generate the sample\n",
    "def gen_data(beta=0):\n",
    "    nobs = 500\n",
    "    #x = np.random.normal(low=-3., high=3., size=(nobs,3))\n",
    "    x = np.random.normal(scale=3., size=(nobs,3))\n",
    "    e = np.random.normal(loc=0.0, scale=1.0, size=nobs)\n",
    "    y = 1*x[:,2] + 1*x[:,0] + beta * x[:,1] + e\n",
    "    return y,x,nobs"
   ]
  },
  {
   "cell_type": "code",
   "execution_count": 3,
   "metadata": {},
   "outputs": [],
   "source": [
    "def compute_loglike(resid):\n",
    "    sigma = np.sqrt(np.sum(resid**2)/resid.shape[0])\n",
    "    ll = np.log(stats.norm.pdf(resid,loc=0,scale=sigma))\n",
    "    return ll"
   ]
  },
  {
   "cell_type": "code",
   "execution_count": 4,
   "metadata": {},
   "outputs": [],
   "source": [
    "def compute_score(yn,xn,params):\n",
    "    \n",
    "    xn = sm.add_constant(xn)\n",
    "    resid = yn - np.matmul(xn,params)\n",
    "    \n",
    "    k = len(params)\n",
    "    scale = (resid**2).mean()\n",
    "    \n",
    "    tile_resid = np.tile( resid, k)\n",
    "    tile_resid = np.reshape(tile_resid, (k,xn.shape[0]) ).transpose()\n",
    "    grad = tile_resid*xn/scale     \n",
    "    return grad\n",
    "    \n",
    "def compute_hess(yn,xn,params):\n",
    "    pass\n",
    "\n",
    "\n",
    "def setup_shi(yn,xn):\n",
    "    x1n,x2n = xn[:,0:2],xn[:,1:3]\n",
    "    \n",
    "    # model 1 grad, etc.\n",
    "    model1 = sm.OLS(yn,sm.add_constant(x1n))\n",
    "    model1_fit = model1.fit(disp=False)\n",
    "    k1 = (model1_fit.params)\n",
    "    \n",
    "    ll1 = compute_loglike(model1_fit.resid)\n",
    "    grad1 =  compute_score(yn,x1n,model1_fit.params)\n",
    "    hess1 = model1.hessian(model1_fit.params)\n",
    "    \n",
    "    #model 2 grad, etc.\n",
    "    model2 = sm.OLS(yn,sm.add_constant(x2n))\n",
    "    model2_fit = model2.fit(disp=False)\n",
    "    k2 = (model2_fit.params)\n",
    "    \n",
    "    ll2 = compute_loglike(model2_fit.resid)\n",
    "    grad2 =  compute_score(yn,x2n,model2_fit.params)\n",
    "    hess2 = model2.hessian(model2_fit.params)\n",
    "    \n",
    "    return ll1,grad1,hess1,ll2,model1_fit.params, grad2,hess2,model2_fit.params\n",
    "\n",
    "yn,xn,nobs = gen_data()\n",
    "ll1,grad1,hess1,ll2,k1, grad2,hess2,k2 = setup_shi(yn,xn)"
   ]
  },
  {
   "cell_type": "code",
   "execution_count": 5,
   "metadata": {},
   "outputs": [
    {
     "name": "stdout",
     "output_type": "stream",
     "text": [
      "-0.0920087772294812 -0.385531954332341\n",
      "0.6958496291807226\n",
      "14.249045003222317\n"
     ]
    }
   ],
   "source": [
    "yn,xn,nobs = gen_data()\n",
    "ll1,grad1,hess1,ll2,k1, grad2,hess2,k2 = setup_shi(yn,xn)\n",
    "\n",
    "V = vuong_plots.compute_eigen2(ll1,grad1,hess1,ll2,k1, grad2,hess2,k2)\n",
    "tr_Vsq = (V*V).sum()\n",
    "V_nmlzd = V/np.sqrt(tr_Vsq) #V, normalized by sqrt(trVsq);\n",
    "\n",
    "print(V_nmlzd.sum(),V.sum())\n",
    "print((ll1-ll2).sum()/np.sqrt((ll1-ll2).var()*nobs))\n",
    "print( (ll1-ll2).sum() )"
   ]
  },
  {
   "cell_type": "markdown",
   "metadata": {},
   "source": [
    "# Main examples"
   ]
  },
  {
   "cell_type": "code",
   "execution_count": 6,
   "metadata": {
    "scrolled": true
   },
   "outputs": [
    {
     "name": "stdout",
     "output_type": "stream",
     "text": [
      "[[-11.75871831]] 19.40390226892386\n"
     ]
    },
    {
     "data": {
      "image/png": "[encoded data removed]",
      "text/plain": [
       "<Figure size 432x288 with 1 Axes>"
      ]
     },
     "metadata": {
      "needs_background": "light"
     },
     "output_type": "display_data"
    }
   ],
   "source": [
    "#generate the sample\n",
    "def gen_data(beta=0):\n",
    "    nobs = 500\n",
    "    #x = np.random.normal(low=-3., high=3., size=(nobs,3))\n",
    "    x = np.random.normal(scale=3., size=(nobs,3))\n",
    "    e = np.random.normal(loc=0.0, scale=1.0, size=nobs)\n",
    "    y = 1*x[:,2] + 1*x[:,0] + beta * x[:,1] + e\n",
    "    return y,x,nobs\n",
    "\n",
    "\n",
    "true_stats = vuong_plots.plot_true2(gen_data,setup_shi)\n",
    "yn,xn,nobs = gen_data()\n",
    "anayltic_stats = vuong_plots.plot_analytic2(yn,xn,nobs,setup_shi)\n",
    "bootstrap_stats = vuong_plots.plot_bootstrap_recenter(yn,xn,nobs,setup_shi,trials=300)\n",
    "\n",
    "plt.legend()\n",
    "plt.show()"
   ]
  },
  {
   "cell_type": "code",
   "execution_count": 7,
   "metadata": {},
   "outputs": [
    {
     "name": "stdout",
     "output_type": "stream",
     "text": [
      "1 --------\n",
      "0.0 -0.030746433707540953\n",
      "0.0 0.00047933267566276354\n",
      "0.0 0.01544212428631875\n",
      "0.0 31.519494117195492\n",
      "---------\n",
      "2 --------\n",
      "0.9965819278010073 0.9985790859729532\n",
      "0.36196548116605826 0.36203788874380705\n",
      "1.0261273666994657 1.026332633226111\n",
      "156190.0759445857 156712.4507805208\n",
      "---------\n",
      "3 --------\n",
      "-0.15643348956424033 -0.15737648948926022\n",
      "0.0005591431283057546 0.0005594787708099326\n",
      "0.04346701610168552 0.04349310848732924\n",
      "-23104818.079317234 -23337676.226555526\n",
      "---------\n",
      "4 --------\n",
      "3.28719457344664 0.32407606839714187\n",
      "0.34833754195534955 -0.04462473785053207\n",
      "3.2374350729395034 0.07999816691390917\n",
      "122374686614.79187 50851359488.258156\n",
      "---------\n",
      "true mean:-0.030746433707540953, eigen: 0.012491077791421779, test_stat: 0.87387221122421, boot_mean:31.519494117195492\n"
     ]
    }
   ],
   "source": [
    "overlap,normal = anayltic_stats\n",
    "\n",
    "#print moments/kstats\n",
    "for i in range(1,5):\n",
    "    print('%s --------'%i)\n",
    "    for distr in [true_stats,overlap,normal,bootstrap_stats]:\n",
    "        m, k = stats.moment(distr, i), stats.kstat(distr, i)\n",
    "        print(m,k)\n",
    "    print('---------')\n",
    "ll1,grad1,hess1,ll2,k1, grad2,hess2,k2 = setup_shi(yn,xn)\n",
    "thing1 = np.array(true_stats).mean()\n",
    "thing2 = vuong_plots.compute_eigen2(ll1,grad1,hess1,ll2,k1, grad2,hess2,k2).sum()\n",
    "\n",
    "sqrt_nobs = np.sqrt(yn.shape[0])\n",
    "thing3 = sqrt_nobs*(ll1-ll2).mean()/ (ll1-ll2).std()\n",
    "thing4 = np.array(bootstrap_stats).mean()\n",
    "print('true mean:%s, eigen: %s, test_stat: %s, boot_mean:%s'%(thing1,thing2,thing3,thing4))"
   ]
  },
  {
   "cell_type": "code",
   "execution_count": 8,
   "metadata": {},
   "outputs": [
    {
     "name": "stdout",
     "output_type": "stream",
     "text": [
      "[[-33.65118038]] 36.82404679826408\n"
     ]
    },
    {
     "data": {
      "image/png": "[encoded data removed]",
      "text/plain": [
       "<Figure size 432x288 with 1 Axes>"
      ]
     },
     "metadata": {
      "needs_background": "light"
     },
     "output_type": "display_data"
    }
   ],
   "source": [
    "#generate the sample\n",
    "def gen_data(beta=0):\n",
    "    nobs = 1000\n",
    "    #x = np.random.normal(low=-3., high=3., size=(nobs,3))\n",
    "    x = np.random.normal(scale=3., size=(nobs,3))\n",
    "    e = np.random.normal(loc=0.0, scale=1.0, size=nobs)\n",
    "    y = 1*x[:,2] + 1*x[:,0] + beta * x[:,1] + e\n",
    "    return y,x,nobs\n",
    "\n",
    "\n",
    "true_stats = vuong_plots.plot_true2(gen_data,setup_shi)\n",
    "yn,xn,nobs = gen_data()\n",
    "anayltic_stats = vuong_plots.plot_analytic2(yn,xn,nobs,setup_shi)\n",
    "bootstrap_stats = vuong_plots.plot_bootstrap_recenter(yn,xn,nobs,setup_shi,trials=300)\n",
    "\n",
    "plt.legend()\n",
    "plt.show()"
   ]
  },
  {
   "cell_type": "code",
   "execution_count": 9,
   "metadata": {},
   "outputs": [
    {
     "name": "stdout",
     "output_type": "stream",
     "text": [
      "1 0.03862914882208611 0.03862914882208611\n",
      "2 0.9124453337432734 0.9142738815062859\n",
      "3 -0.06157852387321953 -0.05399451892790165\n",
      "4 -0.08394018945773363 -0.060760496727971854\n",
      "1 0.006057216344633766 0.006057216344633766\n",
      "2 0.3586637093902641 0.3587354564815603\n",
      "3 0.025218134299101597 0.005420067897303884\n",
      "4 -0.4111839353179705 -0.052814125209197475\n",
      "1 0.002400060859829159 0.002400060859829159\n",
      "2 0.9796926516662928 0.9798886293921715\n",
      "3 -0.01132497694591665 -0.010988356034484429\n",
      "4 -0.02185486984235885 -0.01985250592133952\n",
      "1 68.38765741709189 68.38765741709189\n",
      "2 600249.9955882673 602257.5206571243\n",
      "3 -0.06197831468525474 -29113409.432883978\n",
      "4 0.9396276732898952 353917572093.47986\n"
     ]
    }
   ],
   "source": [
    "overlap,normal = anayltic_stats\n",
    "#print moments/kstats\n",
    "for distr in [true_stats,overlap,normal,bootstrap_stats]:\n",
    "    print(1, np.array(distr).mean(), stats.kstat(distr, 1))\n",
    "    print(2, np.array(distr).var(), stats.kstat(distr, 2))\n",
    "    print(3, stats.skew(distr), stats.kstat(distr, 3) )\n",
    "    print(4, stats.kurtosis(distr),  stats.kstat(distr, 4) )\n"
   ]
  },
  {
   "cell_type": "code",
   "execution_count": 10,
   "metadata": {},
   "outputs": [
    {
     "name": "stdout",
     "output_type": "stream",
     "text": [
      "[[30.68207298]] 2.6184698528860664\n"
     ]
    },
    {
     "data": {
      "image/png": "[encoded data removed]",
      "text/plain": [
       "<Figure size 432x288 with 1 Axes>"
      ]
     },
     "metadata": {
      "needs_background": "light"
     },
     "output_type": "display_data"
    }
   ],
   "source": [
    "#generate the sample\n",
    "def gen_data(beta=10):\n",
    "    nobs = 1000\n",
    "    #x = np.random.normal(low=-3., high=3., size=(nobs,3))\n",
    "    x = np.random.normal(scale=3., size=(nobs,3))\n",
    "    e = np.random.normal(loc=0.0, scale=1.0, size=nobs)\n",
    "    y =  beta * x[:,1] + e\n",
    "    return y,x,nobs\n",
    "\n",
    "true_stats = vuong_plots.plot_true2(gen_data,setup_shi)\n",
    "yn,xn,nobs = gen_data()\n",
    "anayltic_stats = vuong_plots.plot_analytic2(yn,xn,nobs,setup_shi)\n",
    "bootstrap_stats = vuong_plots.plot_bootstrap_recenter(yn,xn,nobs,setup_shi,trials=300)\n",
    "\n",
    "plt.legend()\n",
    "plt.show()"
   ]
  },
  {
   "cell_type": "code",
   "execution_count": 11,
   "metadata": {},
   "outputs": [
    {
     "name": "stdout",
     "output_type": "stream",
     "text": [
      "1 0.007218838367058225 0.007218838367058225\n",
      "2 0.24443553039234592 0.2449253811546553\n",
      "3 0.07157016186823208 0.008701389722941122\n",
      "4 -0.1703781014204382 -0.009598004132968185\n",
      "-----------\n",
      "1 0.054025375082170306 0.054025375082170306\n",
      "2 0.2754336462556417 0.2754887440044426\n",
      "3 -0.10545242733882972 -0.01525255810829774\n",
      "4 -0.2798972966409612 -0.021172650963522065\n",
      "-----------\n",
      "1 -0.03498800665851191 -0.03498800665851191\n",
      "2 1.010136660459311 1.010338728204952\n",
      "3 -0.015017400402853539 -0.01525546957338537\n",
      "4 -0.059992377428368826 -0.06007464128804627\n",
      "-----------\n",
      "1 -28.29089971280393 -28.29089971280393\n",
      "2 273174.2019926993 274087.8280863203\n",
      "3 -0.11378149552897762 -16409155.078242706\n",
      "4 4.438400328150768 340578367134.4227\n",
      "-----------\n"
     ]
    }
   ],
   "source": [
    "overlap,normal = anayltic_stats\n",
    "\n",
    "#print moments/kstats\n",
    "for distr in [true_stats,overlap,normal,bootstrap_stats]:\n",
    "    print(1, np.array(distr).mean(), stats.kstat(distr, 1))\n",
    "    print(2, np.array(distr).var(), stats.kstat(distr, 2))\n",
    "    print(3, stats.skew(distr), stats.kstat(distr, 3) )\n",
    "    print(4, stats.kurtosis(distr),  stats.kstat(distr, 4) )\n",
    "    print('-----------')"
   ]
  },
  {
   "cell_type": "markdown",
   "metadata": {},
   "source": [
    "# Other examples"
   ]
  },
  {
   "cell_type": "code",
   "execution_count": 12,
   "metadata": {},
   "outputs": [
    {
     "name": "stdout",
     "output_type": "stream",
     "text": [
      "[[-13.33744933]] -0.42119866294547503\n"
     ]
    },
    {
     "data": {
      "image/png": "[encoded data removed]",
      "text/plain": [
       "<Figure size 432x288 with 1 Axes>"
      ]
     },
     "metadata": {
      "needs_background": "light"
     },
     "output_type": "display_data"
    }
   ],
   "source": [
    "#generate the sample\n",
    "def gen_data(beta=3):\n",
    "    nobs = 500\n",
    "    #x = np.random.normal(low=-3., high=3., size=(nobs,3))\n",
    "    x = np.random.normal(scale=3., size=(nobs,3))\n",
    "    e = np.random.normal(loc=0.0, scale=1.0, size=nobs)\n",
    "    y = 1 + .01*x[:,0] + beta * x[:,1] + e\n",
    "    return y,x,nobs\n",
    "\n",
    "true_stats = vuong_plots.plot_true2(gen_data,setup_shi)\n",
    "yn,xn,nobs = gen_data()\n",
    "anayltic_stats = vuong_plots.plot_analytic2(yn,xn,nobs,setup_shi)\n",
    "bootstrap_stats = vuong_plots.plot_bootstrap_recenter(yn,xn,nobs,setup_shi,trials=300)\n",
    "\n",
    "plt.legend()\n",
    "plt.show()"
   ]
  },
  {
   "cell_type": "code",
   "execution_count": 13,
   "metadata": {},
   "outputs": [
    {
     "name": "stdout",
     "output_type": "stream",
     "text": [
      "1 0.10645783273013683 0.10645783273013683\n",
      "2 0.3423774990939688 0.3430636263466621\n",
      "3 -0.11928046235978658 -0.024040154647429746\n",
      "4 0.06268304038191319 0.008875331232620067\n",
      "1 0.061407165162849296 0.061407165162849296\n",
      "2 0.2668331929136737 0.2668865702277193\n",
      "3 -0.13692718270240556 -0.018884699222430943\n",
      "4 -0.09053628398513958 -0.006369669243261291\n",
      "1 0.00359336451174455 0.00359336451174455\n",
      "2 0.9955015566411483 0.9957006967805043\n",
      "3 0.025065062150586122 0.02491106650304838\n",
      "4 0.10063577484676411 0.10106280805205714\n",
      "1 12.870076924085822 12.870076924085822\n",
      "2 72482.48013818057 72724.89645971295\n",
      "3 -0.44649794131209264 -8800839.191543095\n",
      "4 7.7701139992374095 41895878608.600006\n"
     ]
    }
   ],
   "source": [
    "overlap,normal = anayltic_stats\n",
    "\n",
    "#print moments/kstats\n",
    "for distr in [true_stats,overlap,normal,bootstrap_stats]:\n",
    "    print(1, np.array(distr).mean(), stats.kstat(distr, 1))\n",
    "    print(2, np.array(distr).var(), stats.kstat(distr, 2))\n",
    "    print(3, stats.skew(distr), stats.kstat(distr, 3) )\n",
    "    print(4, stats.kurtosis(distr),  stats.kstat(distr, 4) )\n"
   ]
  },
  {
   "cell_type": "code",
   "execution_count": 14,
   "metadata": {},
   "outputs": [
    {
     "name": "stdout",
     "output_type": "stream",
     "text": [
      "[[-25.75379896]] 15.472367630973032\n"
     ]
    },
    {
     "data": {
      "image/png": "[encoded data removed]",
      "text/plain": [
       "<Figure size 432x288 with 1 Axes>"
      ]
     },
     "metadata": {
      "needs_background": "light"
     },
     "output_type": "display_data"
    }
   ],
   "source": [
    "#generate the sample\n",
    "def gen_data(beta=10):\n",
    "    nobs = 1000\n",
    "    #x = np.random.normal(low=-3., high=3., size=(nobs,3))\n",
    "    x = np.random.normal(scale=3., size=(nobs,3))\n",
    "    e = np.random.normal(loc=0.0, scale=1.0, size=nobs)\n",
    "    y = .1*x[:,2] + .1*x[:,0] + beta * x[:,1] + e\n",
    "    return y,x,nobs\n",
    "\n",
    "\n",
    "true_stats = vuong_plots.plot_true2(gen_data,setup_shi)\n",
    "yn,xn,nobs = gen_data()\n",
    "anayltic_stats = vuong_plots.plot_analytic2(yn,xn,nobs,setup_shi)\n",
    "bootstrap_stats = vuong_plots.plot_bootstrap_recenter(yn,xn,nobs,setup_shi,trials=300)\n",
    "\n",
    "plt.legend()\n",
    "plt.show()"
   ]
  },
  {
   "cell_type": "code",
   "execution_count": 15,
   "metadata": {},
   "outputs": [
    {
     "name": "stdout",
     "output_type": "stream",
     "text": [
      "1 -0.04074414117691399 -0.04074414117691399\n",
      "2 1.0129607181703462 1.014990699569485\n",
      "3 -0.05535851679922608 -0.05677844210566925\n",
      "4 -0.17511174903119198 -0.16975621345806793\n",
      "1 -0.005542625741833689 -0.005542625741833689\n",
      "2 0.3269885639997755 0.32705397479473436\n",
      "3 0.036986528707059416 0.00691995132477002\n",
      "4 -0.3215487369026935 -0.03430019543587096\n",
      "1 0.02463544122909371 0.02463544122909371\n",
      "2 0.9931378998980214 0.9933365672114637\n",
      "3 0.0014488272714117793 0.00143480065332335\n",
      "4 0.016048349881469637 0.01703604380049465\n",
      "1 41.42859554107473 41.42859554107473\n",
      "2 282793.4100171641 283739.207375081\n",
      "3 -0.01900021482218982 -2886140.675181828\n",
      "4 4.331741450837202 356254309511.6007\n"
     ]
    }
   ],
   "source": [
    "overlap,normal = anayltic_stats\n",
    "\n",
    "#print moments/kstats\n",
    "for distr in [true_stats,overlap,normal,bootstrap_stats]:\n",
    "    print(1, np.array(distr).mean(), stats.kstat(distr, 1))\n",
    "    print(2, np.array(distr).var(), stats.kstat(distr, 2))\n",
    "    print(3, stats.skew(distr), stats.kstat(distr, 3) )\n",
    "    print(4, stats.kurtosis(distr),  stats.kstat(distr, 4) )\n",
    "\n"
   ]
  },
  {
   "cell_type": "code",
   "execution_count": 16,
   "metadata": {},
   "outputs": [
    {
     "name": "stdout",
     "output_type": "stream",
     "text": [
      "[[-92.53444048]] -63.655295323409675\n"
     ]
    },
    {
     "data": {
      "image/png": "[encoded data removed]",
      "text/plain": [
       "<Figure size 432x288 with 1 Axes>"
      ]
     },
     "metadata": {
      "needs_background": "light"
     },
     "output_type": "display_data"
    }
   ],
   "source": [
    "#generate the sample\n",
    "def gen_data(beta=1):\n",
    "    nobs = 1000\n",
    "    #x = np.random.normal(low=-3., high=3., size=(nobs,3))\n",
    "    x = np.random.normal(scale=3., size=(nobs,3))\n",
    "    e = np.random.normal(loc=0.0, scale=1.0, size=nobs)\n",
    "    y = 1 + 2*x[:,2] + 2*x[:,0] + beta * x[:,1] + e\n",
    "\n",
    "    return y,x,nobs\n",
    "\n",
    "true_stats = vuong_plots.plot_true2(gen_data,setup_shi)\n",
    "yn,xn,nobs = gen_data()\n",
    "anayltic_stats = vuong_plots.plot_analytic2(yn,xn,nobs,setup_shi)\n",
    "bootstrap_stats = vuong_plots.plot_bootstrap_recenter(yn,xn,nobs,setup_shi,trials=300)\n",
    "\n",
    "plt.legend()\n",
    "plt.show()"
   ]
  },
  {
   "cell_type": "code",
   "execution_count": 17,
   "metadata": {},
   "outputs": [
    {
     "name": "stdout",
     "output_type": "stream",
     "text": [
      "1 -0.03614076703923165 -0.03614076703923165\n",
      "2 0.9512430349942089 0.9531493336615319\n",
      "3 0.08829014191546795 0.0824061396687899\n",
      "4 -0.10912627028991562 -0.08914936134031015\n",
      "1 -0.003631644675603111 -0.003631644675603111\n",
      "2 0.33191379581167774 0.3319801918500477\n",
      "3 0.04100636425297022 0.007846027776075144\n",
      "4 -0.3421282759901838 -0.03761162186675384\n",
      "1 0.030775629809532558 0.030775629809532558\n",
      "2 1.0060309828460714 1.0062322292919295\n",
      "3 -0.007672793438726007 -0.007746957272025533\n",
      "4 -0.019689567163810207 -0.018739725186368066\n",
      "1 25.872559951088025 25.872559951088025\n",
      "2 604677.460953785 606699.7935991153\n",
      "3 0.5429555312270372 257872475.86552072\n",
      "4 3.4316046937209377 1291889460966.9988\n"
     ]
    }
   ],
   "source": [
    "overlap,normal = anayltic_stats\n",
    "#print moments/kstats\n",
    "for distr in [true_stats,overlap,normal,bootstrap_stats]:\n",
    "    print(1, np.array(distr).mean(), stats.kstat(distr, 1))\n",
    "    print(2, np.array(distr).var(), stats.kstat(distr, 2))\n",
    "    print(3, stats.skew(distr), stats.kstat(distr, 3) )\n",
    "    print(4, stats.kurtosis(distr),  stats.kstat(distr, 4) )"
   ]
  },
  {
   "cell_type": "code",
   "execution_count": null,
   "metadata": {},
   "outputs": [],
   "source": []
  },
  {
   "cell_type": "code",
   "execution_count": null,
   "metadata": {},
   "outputs": [],
   "source": []
  }
 ],
 "metadata": {
  "kernelspec": {
   "display_name": "Python 3",
   "language": "python",
   "name": "python3"
  },
  "language_info": {
   "codemirror_mode": {
    "name": "ipython",
    "version": 3
   },
   "file_extension": ".py",
   "mimetype": "text/x-python",
   "name": "python",
   "nbconvert_exporter": "python",
   "pygments_lexer": "ipython3",
   "version": "3.7.4"
  }
 },
 "nbformat": 4,
 "nbformat_minor": 2
}
