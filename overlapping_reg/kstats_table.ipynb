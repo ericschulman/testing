{
 "cells": [
  {
   "cell_type": "code",
   "execution_count": 11,
   "metadata": {},
   "outputs": [
    {
     "name": "stdout",
     "output_type": "stream",
     "text": [
      "The autoreload extension is already loaded. To reload it, use:\n",
      "  %reload_ext autoreload\n"
     ]
    }
   ],
   "source": [
    "%load_ext autoreload\n",
    "%autoreload 2\n",
    "\n",
    "import numpy as np\n",
    "import scipy.stats as stats\n",
    "import scipy.special\n",
    "#graphing\n",
    "import matplotlib.pyplot as plt\n",
    "#stats\n",
    "import statsmodels.api as sm\n",
    "from statsmodels.base.model import GenericLikelihoodModel\n",
    "\n",
    "#import testing\n",
    "import sys\n",
    "sys.path.append(\"../\")\n",
    "import vuong_plots"
   ]
  },
  {
   "cell_type": "code",
   "execution_count": 12,
   "metadata": {},
   "outputs": [
    {
     "name": "stdout",
     "output_type": "stream",
     "text": [
      "(1000, 2) (2, 2)\n"
     ]
    }
   ],
   "source": [
    "class OLS_loglike(GenericLikelihoodModel):\n",
    "    \n",
    "    def __init__(self, *args,ols=False, **kwargs):\n",
    "        super(OLS_loglike,self).__init__(*args,**kwargs)\n",
    "        self.ols = ols\n",
    "\n",
    "    def loglikeobs(self, params):\n",
    "        y = self.endog\n",
    "        x = self.exog\n",
    "        mu_y = np.matmul(x,params)  \n",
    "        resid = y - mu_y\n",
    "        sigma = np.sqrt(np.sum(resid**2)/resid.shape[0])\n",
    "        pr_y = stats.norm.logpdf( resid, loc=0,scale=sigma )\n",
    "        return pr_y\n",
    "\n",
    "\n",
    "def setup_shi(yn,xn,return_model=False,num_params=4):\n",
    "    x1n,x2n = xn[:,0].reshape(xn.shape[0],1),xn[:,1:num_params]\n",
    "    # model 1 grad, etc.\n",
    "    model1 = sm.OLS(yn,sm.add_constant(x1n))\n",
    "    model1_fit = model1.fit(disp=False)\n",
    "    params1 = (model1_fit.params)\n",
    "    \n",
    "    model1_deriv = OLS_loglike(yn,sm.add_constant(x1n))\n",
    "    ll1 = model1_deriv.loglikeobs(model1_fit.params)\n",
    "    grad1 =  model1_deriv.score_obs(model1_fit.params)    \n",
    "    hess1 = model1_deriv.hessian(model1_fit.params)\n",
    "    \n",
    "    #model 2 grad, etc.\n",
    "    model2 = sm.OLS(yn,sm.add_constant(x2n))\n",
    "    model2_fit = model2.fit(disp=False)\n",
    "    params2 = (model2_fit.params)\n",
    "    \n",
    "    model2_deriv = OLS_loglike(yn,sm.add_constant(x2n))\n",
    "    ll2 = model2_deriv.loglikeobs(model2_fit.params)\n",
    "    grad2 =  model2_deriv.score_obs(model2_fit.params)    \n",
    "    hess2 = model2_deriv.hessian(model2_fit.params)\n",
    "    \n",
    "    if return_model:\n",
    "        return ll1,grad1,hess1,params1,model1,ll2,grad2,hess2,params2,model2\n",
    "    return ll1,grad1,hess1,params1,ll2,grad2,hess2,params2\n",
    "\n",
    "def gen_data(nobs=1000, a=0.0, num_params=1):\n",
    "    x = np.random.normal(scale=1., size=(nobs,1+num_params))\n",
    "    e = np.random.normal(loc=0.0, scale=1.0, size=nobs)\n",
    "    y = 1 + a*x[:,0] + a/np.sqrt(num_params)*x[:,1:num_params+1].sum(axis=1) + e\n",
    "    return y,x,nobs\n",
    "\n",
    "yn,xn,nobs = gen_data()\n",
    "ll1,grad1,hess1,params1,ll2,grad2,hess2,params2 = setup_shi(yn,xn,return_model=False,num_params=15)\n",
    "print(grad1.shape,hess1.shape)"
   ]
  },
  {
   "cell_type": "markdown",
   "metadata": {},
   "source": [
    "# a = 0"
   ]
  },
  {
   "cell_type": "code",
   "execution_count": 21,
   "metadata": {},
   "outputs": [
    {
     "name": "stdout",
     "output_type": "stream",
     "text": [
      "../figs/a0_k1.png\n"
     ]
    },
    {
     "data": {
      "image/png": "[encoded data removed]",
      "text/plain": [
       "<Figure size 432x288 with 1 Axes>"
      ]
     },
     "metadata": {
      "needs_background": "light"
     },
     "output_type": "display_data"
    },
    {
     "name": "stdout",
     "output_type": "stream",
     "text": [
      "\\begin{center}\n",
      "\\begin{tabular}{ccccccc}\n",
      "\\toprule\n",
      "\\textbf{Test} & \\textbf{Mean} & \\textbf{Var} & \\textbf{K-Stat 3} & \\textbf{K-Stat 4} & \\textbf{Skew} & \\textbf{Kurtosis} \\\\ \\midrule\n",
      "True & -0.010 & 0.265 & 0.007 & -0.001 & 0.007 & 0.209 \\\\\n",
      "Bootstrap & -0.317 & 0.891 & -0.310 & 0.124 & -0.309 & 2.496 \\\\\n",
      "Normal & 0.004 & 0.957 & -0.025 & -0.110 & -0.024 & 2.638 \\\\\n",
      "Overlapping & -0.052 & 0.259 & 0.001 & -0.010 & 0.001 & 0.191 \\\\\n",
      "\\bottomrule\n",
      "\\end{tabular}\n",
      "\\end{center}\n"
     ]
    }
   ],
   "source": [
    "a = 0\n",
    "k = 1\n",
    "gen_data_ex = lambda : gen_data(nobs=1000,a=a,num_params=k)\n",
    "\n",
    "vuong_plots.plot_kstats_table(gen_data_ex,setup_shi,figtitle='../figs/a%s_k%s.png'%(int(a*100),k))"
   ]
  },
  {
   "cell_type": "code",
   "execution_count": 14,
   "metadata": {},
   "outputs": [
    {
     "name": "stdout",
     "output_type": "stream",
     "text": [
      "../figs/a0_k9.png\n"
     ]
    },
    {
     "data": {
      "image/png": "[encoded data removed]",
      "text/plain": [
       "<Figure size 432x288 with 1 Axes>"
      ]
     },
     "metadata": {
      "needs_background": "light"
     },
     "output_type": "display_data"
    },
    {
     "name": "stdout",
     "output_type": "stream",
     "text": [
      "\\begin{center}\n",
      "\\begin{tabular}{ccccccc}\n",
      "\\toprule\n",
      "\\textbf{Test} & \\textbf{Mean} & \\textbf{Var} & \\textbf{K-Stat 3} & \\textbf{K-Stat 4} & \\textbf{Skew} & \\textbf{Kurtosis} \\\\ \\midrule\n",
      "True & 0.160 & 0.476 & 0.049 & -0.055 & 0.049 & 0.622 \\\\\n",
      "Bootstrap & 0.197 & 0.768 & 0.145 & -0.014 & 0.144 & 1.746 \\\\\n",
      "Normal & 0.014 & 0.989 & 0.023 & -0.018 & 0.023 & 2.917 \\\\\n",
      "Overlapping & 0.153 & 0.462 & 0.075 & 0.028 & 0.075 & 0.667 \\\\\n",
      "\\bottomrule\n",
      "\\end{tabular}\n",
      "\\end{center}\n"
     ]
    }
   ],
   "source": [
    "a = 0\n",
    "k = 9\n",
    "gen_data_ex = lambda : gen_data(nobs=1000,a=a,num_params=k)\n",
    "vuong_plots.plot_kstats_table(gen_data_ex,setup_shi,figtitle='../figs/a%s_k%s.png'%(int(a*100),k))"
   ]
  },
  {
   "cell_type": "code",
   "execution_count": 15,
   "metadata": {},
   "outputs": [
    {
     "name": "stdout",
     "output_type": "stream",
     "text": [
      "../figs/a0_k4.png\n"
     ]
    },
    {
     "data": {
      "image/png": "[encoded data removed]",
      "text/plain": [
       "<Figure size 432x288 with 1 Axes>"
      ]
     },
     "metadata": {
      "needs_background": "light"
     },
     "output_type": "display_data"
    },
    {
     "name": "stdout",
     "output_type": "stream",
     "text": [
      "\\begin{center}\n",
      "\\begin{tabular}{ccccccc}\n",
      "\\toprule\n",
      "\\textbf{Test} & \\textbf{Mean} & \\textbf{Var} & \\textbf{K-Stat 3} & \\textbf{K-Stat 4} & \\textbf{Skew} & \\textbf{Kurtosis} \\\\ \\midrule\n",
      "True & 0.135 & 0.448 & 0.057 & 0.041 & 0.057 & 0.641 \\\\\n",
      "Bootstrap & 0.159 & 0.480 & 0.115 & 0.100 & 0.114 & 0.787 \\\\\n",
      "Normal & 0.004 & 1.032 & -0.023 & 0.026 & -0.023 & 3.217 \\\\\n",
      "Overlapping & 0.156 & 0.482 & 0.128 & 0.217 & 0.128 & 0.913 \\\\\n",
      "\\bottomrule\n",
      "\\end{tabular}\n",
      "\\end{center}\n"
     ]
    }
   ],
   "source": [
    "a = 0\n",
    "k = 4\n",
    "gen_data_ex = lambda : gen_data(nobs=1000,a=a,num_params=k)\n",
    "vuong_plots.plot_kstats_table(gen_data_ex,setup_shi,figtitle='../figs/a%s_k%s.png'%(int(a*100),k))"
   ]
  },
  {
   "cell_type": "code",
   "execution_count": 16,
   "metadata": {},
   "outputs": [
    {
     "name": "stdout",
     "output_type": "stream",
     "text": [
      "../figs/a0_k19.png\n"
     ]
    },
    {
     "data": {
      "image/png": "[encoded data removed]",
      "text/plain": [
       "<Figure size 432x288 with 1 Axes>"
      ]
     },
     "metadata": {
      "needs_background": "light"
     },
     "output_type": "display_data"
    },
    {
     "name": "stdout",
     "output_type": "stream",
     "text": [
      "\\begin{center}\n",
      "\\begin{tabular}{ccccccc}\n",
      "\\toprule\n",
      "\\textbf{Test} & \\textbf{Mean} & \\textbf{Var} & \\textbf{K-Stat 3} & \\textbf{K-Stat 4} & \\textbf{Skew} & \\textbf{Kurtosis} \\\\ \\midrule\n",
      "True & 0.149 & 0.430 & 0.037 & -0.024 & 0.037 & 0.529 \\\\\n",
      "Bootstrap & 0.081 & 0.495 & 0.026 & -0.128 & 0.026 & 0.606 \\\\\n",
      "Normal & 0.006 & 1.003 & 0.006 & 0.029 & 0.006 & 3.045 \\\\\n",
      "Overlapping & 0.151 & 0.479 & 0.117 & 0.114 & 0.117 & 0.803 \\\\\n",
      "\\bottomrule\n",
      "\\end{tabular}\n",
      "\\end{center}\n"
     ]
    }
   ],
   "source": [
    "a = 0\n",
    "k = 19\n",
    "gen_data_ex = lambda : gen_data(nobs=1000,a=a,num_params=k)\n",
    "\n",
    "vuong_plots.plot_kstats_table(gen_data_ex,setup_shi,figtitle='../figs/a%s_k%s.png'%(int(a*100),k))"
   ]
  },
  {
   "cell_type": "markdown",
   "metadata": {},
   "source": [
    "# a = .25"
   ]
  },
  {
   "cell_type": "code",
   "execution_count": 17,
   "metadata": {},
   "outputs": [
    {
     "name": "stdout",
     "output_type": "stream",
     "text": [
      "../figs/a25_k1.png\n"
     ]
    },
    {
     "data": {
      "image/png": "[encoded data removed]",
      "text/plain": [
       "<Figure size 432x288 with 1 Axes>"
      ]
     },
     "metadata": {
      "needs_background": "light"
     },
     "output_type": "display_data"
    },
    {
     "name": "stdout",
     "output_type": "stream",
     "text": [
      "\\begin{center}\n",
      "\\begin{tabular}{ccccccc}\n",
      "\\toprule\n",
      "\\textbf{Test} & \\textbf{Mean} & \\textbf{Var} & \\textbf{K-Stat 3} & \\textbf{K-Stat 4} & \\textbf{Skew} & \\textbf{Kurtosis} \\\\ \\midrule\n",
      "True & -0.003 & 1.133 & -0.050 & -0.107 & -0.050 & 3.727 \\\\\n",
      "Bootstrap & 0.008 & 0.999 & -0.052 & -0.087 & -0.052 & 2.898 \\\\\n",
      "Normal & 0.024 & 1.024 & -0.038 & -0.029 & -0.038 & 3.112 \\\\\n",
      "Overlapping & -0.000 & 0.304 & -0.003 & -0.028 & -0.003 & 0.248 \\\\\n",
      "\\bottomrule\n",
      "\\end{tabular}\n",
      "\\end{center}\n"
     ]
    }
   ],
   "source": [
    "a=.25\n",
    "k = 1\n",
    "gen_data_ex = lambda : gen_data(nobs=1000,a=a,num_params=k)\n",
    "\n",
    "vuong_plots.plot_kstats_table(gen_data_ex,setup_shi,figtitle='../figs/a%s_k%s.png'%(int(a*100),k))"
   ]
  },
  {
   "cell_type": "code",
   "execution_count": 18,
   "metadata": {},
   "outputs": [
    {
     "name": "stdout",
     "output_type": "stream",
     "text": [
      "../figs/a25_k9.png\n"
     ]
    },
    {
     "data": {
      "image/png": "[encoded data removed]",
      "text/plain": [
       "<Figure size 432x288 with 1 Axes>"
      ]
     },
     "metadata": {
      "needs_background": "light"
     },
     "output_type": "display_data"
    },
    {
     "name": "stdout",
     "output_type": "stream",
     "text": [
      "\\begin{center}\n",
      "\\begin{tabular}{ccccccc}\n",
      "\\toprule\n",
      "\\textbf{Test} & \\textbf{Mean} & \\textbf{Var} & \\textbf{K-Stat 3} & \\textbf{K-Stat 4} & \\textbf{Skew} & \\textbf{Kurtosis} \\\\ \\midrule\n",
      "True & -0.047 & 1.015 & -0.132 & -0.077 & -0.132 & 3.003 \\\\\n",
      "Bootstrap & -0.026 & 0.948 & -0.045 & 0.265 & -0.045 & 2.948 \\\\\n",
      "Normal & 0.005 & 1.002 & -0.040 & -0.017 & -0.040 & 2.992 \\\\\n",
      "Overlapping & 0.111 & 0.416 & 0.045 & -0.019 & 0.045 & 0.499 \\\\\n",
      "\\bottomrule\n",
      "\\end{tabular}\n",
      "\\end{center}\n"
     ]
    }
   ],
   "source": [
    "a=.25\n",
    "k = 9\n",
    "gen_data_ex = lambda : gen_data(nobs=1000,a=a,num_params=k)\n",
    "\n",
    "vuong_plots.plot_kstats_table(gen_data_ex,setup_shi,figtitle='../figs/a%s_k%s.png'%(int(a*100),k))"
   ]
  },
  {
   "cell_type": "code",
   "execution_count": 19,
   "metadata": {},
   "outputs": [
    {
     "name": "stdout",
     "output_type": "stream",
     "text": [
      "../figs/a25_k4.png\n"
     ]
    },
    {
     "data": {
      "image/png": "[encoded data removed]",
      "text/plain": [
       "<Figure size 432x288 with 1 Axes>"
      ]
     },
     "metadata": {
      "needs_background": "light"
     },
     "output_type": "display_data"
    },
    {
     "name": "stdout",
     "output_type": "stream",
     "text": [
      "\\begin{center}\n",
      "\\begin{tabular}{ccccccc}\n",
      "\\toprule\n",
      "\\textbf{Test} & \\textbf{Mean} & \\textbf{Var} & \\textbf{K-Stat 3} & \\textbf{K-Stat 4} & \\textbf{Skew} & \\textbf{Kurtosis} \\\\ \\midrule\n",
      "True & -0.011 & 1.007 & -0.032 & -0.037 & -0.032 & 2.996 \\\\\n",
      "Bootstrap & -0.006 & 0.959 & 0.083 & -0.039 & 0.083 & 2.708 \\\\\n",
      "Normal & 0.012 & 1.035 & -0.025 & -0.002 & -0.025 & 3.207 \\\\\n",
      "Overlapping & 0.118 & 0.432 & 0.046 & 0.073 & 0.046 & 0.632 \\\\\n",
      "\\bottomrule\n",
      "\\end{tabular}\n",
      "\\end{center}\n"
     ]
    }
   ],
   "source": [
    "a=.25\n",
    "k = 4\n",
    "gen_data_ex = lambda : gen_data(nobs=1000,a=a,num_params=k)\n",
    "\n",
    "vuong_plots.plot_kstats_table(gen_data_ex,setup_shi,figtitle='../figs/a%s_k%s.png'%(int(a*100),k))"
   ]
  },
  {
   "cell_type": "code",
   "execution_count": 20,
   "metadata": {},
   "outputs": [
    {
     "name": "stdout",
     "output_type": "stream",
     "text": [
      "../figs/a25_k19.png\n"
     ]
    },
    {
     "data": {
      "image/png": "[encoded data removed]",
      "text/plain": [
       "<Figure size 432x288 with 1 Axes>"
      ]
     },
     "metadata": {
      "needs_background": "light"
     },
     "output_type": "display_data"
    },
    {
     "name": "stdout",
     "output_type": "stream",
     "text": [
      "\\begin{center}\n",
      "\\begin{tabular}{ccccccc}\n",
      "\\toprule\n",
      "\\textbf{Test} & \\textbf{Mean} & \\textbf{Var} & \\textbf{K-Stat 3} & \\textbf{K-Stat 4} & \\textbf{Skew} & \\textbf{Kurtosis} \\\\ \\midrule\n",
      "True & -0.075 & 0.996 & -0.074 & -0.081 & -0.074 & 2.887 \\\\\n",
      "Bootstrap & -0.046 & 0.971 & -0.177 & -0.026 & -0.177 & 2.794 \\\\\n",
      "Normal & 0.007 & 0.992 & 0.014 & 0.011 & 0.014 & 2.964 \\\\\n",
      "Overlapping & 0.140 & 0.435 & 0.025 & -0.010 & 0.025 & 0.558 \\\\\n",
      "\\bottomrule\n",
      "\\end{tabular}\n",
      "\\end{center}\n"
     ]
    }
   ],
   "source": [
    "a= .25\n",
    "k = 19\n",
    "gen_data_ex = lambda : gen_data(nobs=1000,a=a,num_params=k)\n",
    "\n",
    "vuong_plots.plot_kstats_table(gen_data_ex,setup_shi,figtitle='../figs/a%s_k%s.png'%(int(a*100),k))"
   ]
  },
  {
   "cell_type": "code",
   "execution_count": null,
   "metadata": {},
   "outputs": [],
   "source": []
  },
  {
   "cell_type": "code",
   "execution_count": null,
   "metadata": {},
   "outputs": [],
   "source": []
  },
  {
   "cell_type": "code",
   "execution_count": null,
   "metadata": {},
   "outputs": [],
   "source": []
  },
  {
   "cell_type": "code",
   "execution_count": null,
   "metadata": {},
   "outputs": [],
   "source": []
  },
  {
   "cell_type": "code",
   "execution_count": null,
   "metadata": {},
   "outputs": [],
   "source": []
  }
 ],
 "metadata": {
  "kernelspec": {
   "display_name": "Python 3",
   "language": "python",
   "name": "python3"
  },
  "language_info": {
   "codemirror_mode": {
    "name": "ipython",
    "version": 3
   },
   "file_extension": ".py",
   "mimetype": "text/x-python",
   "name": "python",
   "nbconvert_exporter": "python",
   "pygments_lexer": "ipython3",
   "version": "3.8.8"
  }
 },
 "nbformat": 4,
 "nbformat_minor": 2
}
