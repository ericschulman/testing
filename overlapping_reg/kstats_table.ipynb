{
 "cells": [
  {
   "cell_type": "code",
   "execution_count": 15,
   "metadata": {},
   "outputs": [
    {
     "name": "stdout",
     "output_type": "stream",
     "text": [
      "The autoreload extension is already loaded. To reload it, use:\n",
      "  %reload_ext autoreload\n"
     ]
    }
   ],
   "source": [
    "%load_ext autoreload\n",
    "%autoreload 2\n",
    "\n",
    "import numpy as np\n",
    "import scipy.stats as stats\n",
    "import scipy.special\n",
    "#graphing\n",
    "import matplotlib.pyplot as plt\n",
    "#stats\n",
    "import statsmodels.api as sm\n",
    "from statsmodels.base.model import GenericLikelihoodModel\n",
    "\n",
    "#import testing\n",
    "import sys\n",
    "sys.path.append(\"../\")\n",
    "import vuong_plots"
   ]
  },
  {
   "cell_type": "code",
   "execution_count": 16,
   "metadata": {},
   "outputs": [
    {
     "name": "stdout",
     "output_type": "stream",
     "text": [
      "(1000, 2) (2, 2)\n"
     ]
    }
   ],
   "source": [
    "class OLS_loglike(GenericLikelihoodModel):\n",
    "    \n",
    "    def __init__(self, *args,ols=False, **kwargs):\n",
    "        super(OLS_loglike,self).__init__(*args,**kwargs)\n",
    "        self.ols = ols\n",
    "\n",
    "    def loglikeobs(self, params):\n",
    "        y = self.endog\n",
    "        x = self.exog\n",
    "        mu_y = np.matmul(x,params)  \n",
    "        resid = y - mu_y\n",
    "        sigma = np.sqrt(np.sum(resid**2)/resid.shape[0])\n",
    "        pr_y = stats.norm.logpdf( resid, loc=0,scale=sigma )\n",
    "        return pr_y\n",
    "\n",
    "\n",
    "def setup_shi(yn,xn,return_model=False,num_params=4):\n",
    "    x1n,x2n = xn[:,0].reshape(xn.shape[0],1),xn[:,1:num_params]\n",
    "    # model 1 grad, etc.\n",
    "    model1 = sm.OLS(yn,sm.add_constant(x1n))\n",
    "    model1_fit = model1.fit(disp=False)\n",
    "    params1 = (model1_fit.params)\n",
    "    \n",
    "    model1_deriv = OLS_loglike(yn,sm.add_constant(x1n))\n",
    "    ll1 = model1_deriv.loglikeobs(model1_fit.params)\n",
    "    grad1 =  model1_deriv.score_obs(model1_fit.params)    \n",
    "    hess1 = model1_deriv.hessian(model1_fit.params)\n",
    "    \n",
    "    #model 2 grad, etc.\n",
    "    model2 = sm.OLS(yn,sm.add_constant(x2n))\n",
    "    model2_fit = model2.fit(disp=False)\n",
    "    params2 = (model2_fit.params)\n",
    "    \n",
    "    model2_deriv = OLS_loglike(yn,sm.add_constant(x2n))\n",
    "    ll2 = model2_deriv.loglikeobs(model2_fit.params)\n",
    "    grad2 =  model2_deriv.score_obs(model2_fit.params)    \n",
    "    hess2 = model2_deriv.hessian(model2_fit.params)\n",
    "    \n",
    "    if return_model:\n",
    "        return ll1,grad1,hess1,params1,model1,ll2,grad2,hess2,params2,model2\n",
    "    return ll1,grad1,hess1,params1,ll2,grad2,hess2,params2\n",
    "\n",
    "def gen_data(nobs=1000, a=0.0, num_params=1):\n",
    "    x = np.random.normal(scale=1., size=(nobs,1+num_params))\n",
    "    e = np.random.normal(loc=0.0, scale=1.0, size=nobs)\n",
    "    y = 1 + a*x[:,0] + a/np.sqrt(num_params)*x[:,1:num_params+1].sum(axis=1) + e\n",
    "    return y,x,nobs\n",
    "\n",
    "yn,xn,nobs = gen_data()\n",
    "ll1,grad1,hess1,params1,ll2,grad2,hess2,params2 = setup_shi(yn,xn,return_model=False,num_params=15)\n",
    "print(grad1.shape,hess1.shape)"
   ]
  },
  {
   "cell_type": "markdown",
   "metadata": {},
   "source": [
    "# a = .25"
   ]
  },
  {
   "cell_type": "code",
   "execution_count": 17,
   "metadata": {},
   "outputs": [
    {
     "name": "stdout",
     "output_type": "stream",
     "text": [
      "../figs/a25_k1.png\n"
     ]
    },
    {
     "data": {
      "image/png": "[encoded data removed]",
      "text/plain": [
       "<Figure size 432x288 with 1 Axes>"
      ]
     },
     "metadata": {
      "needs_background": "light"
     },
     "output_type": "display_data"
    },
    {
     "name": "stdout",
     "output_type": "stream",
     "text": [
      "\\begin{center}\n",
      "\\begin{tabular}{ccccccc}\n",
      "\\toprule\n",
      "\\textbf{Test} & \\textbf{Mean} & \\textbf{Var} & \\textbf{K-Stat 3} & \\textbf{K-Stat 4} & \\textbf{Skew} & \\textbf{Kurtosis} \\\\ \\midrule\n",
      "True & 0.001 & 1.026 & 0.232 & 0.110 & 0.231 & 3.253 \\\\\n",
      "Bootstrap & 0.001 & 0.952 & -0.078 & -0.104 & -0.078 & 2.606 \\\\\n",
      "Normal & -0.013 & 0.978 & 0.033 & 0.161 & 0.033 & 3.025 \\\\\n",
      "Overlapping & -0.006 & 0.297 & 0.010 & -0.027 & 0.010 & 0.237 \\\\\n",
      "\\bottomrule\n",
      "\\end{tabular}\n",
      "\\end{center}\n"
     ]
    }
   ],
   "source": [
    "a=.25\n",
    "k = 1\n",
    "gen_data_ex = lambda : gen_data(nobs=1000,a=a,num_params=k)\n",
    "\n",
    "vuong_plots.plot_kstats_table(gen_data_ex,setup_shi,figtitle='../figs/a%s_k%s.png'%(int(a*100),k))"
   ]
  },
  {
   "cell_type": "code",
   "execution_count": 21,
   "metadata": {},
   "outputs": [
    {
     "name": "stdout",
     "output_type": "stream",
     "text": [
      "../figs/a25_k9.png\n"
     ]
    },
    {
     "data": {
      "image/png": "[encoded data removed]",
      "text/plain": [
       "<Figure size 432x288 with 1 Axes>"
      ]
     },
     "metadata": {
      "needs_background": "light"
     },
     "output_type": "display_data"
    },
    {
     "name": "stdout",
     "output_type": "stream",
     "text": [
      "\\begin{center}\n",
      "\\begin{tabular}{ccccccc}\n",
      "\\toprule\n",
      "\\textbf{Test} & \\textbf{Mean} & \\textbf{Var} & \\textbf{K-Stat 3} & \\textbf{K-Stat 4} & \\textbf{Skew} & \\textbf{Kurtosis} \\\\ \\midrule\n",
      "True & -0.046 & 0.945 & -0.081 & -0.074 & -0.081 & 2.595 \\\\\n",
      "Bootstrap & -0.027 & 0.893 & -0.059 & -0.154 & -0.059 & 2.231 \\\\\n",
      "Normal & 0.011 & 0.986 & -0.006 & -0.007 & -0.006 & 2.907 \\\\\n",
      "Overlapping & 0.159 & 0.462 & 0.088 & 0.037 & 0.088 & 0.676 \\\\\n",
      "\\bottomrule\n",
      "\\end{tabular}\n",
      "\\end{center}\n"
     ]
    }
   ],
   "source": [
    "a=.25\n",
    "k = 9\n",
    "gen_data_ex = lambda : gen_data(nobs=1000,a=a,num_params=k)\n",
    "\n",
    "vuong_plots.plot_kstats_table(gen_data_ex,setup_shi,figtitle='../figs/a%s_k%s.png'%(int(a*100),k))"
   ]
  },
  {
   "cell_type": "code",
   "execution_count": 22,
   "metadata": {},
   "outputs": [
    {
     "name": "stdout",
     "output_type": "stream",
     "text": [
      "../figs/a25_k4.png\n"
     ]
    },
    {
     "data": {
      "image/png": "[encoded data removed]",
      "text/plain": [
       "<Figure size 432x288 with 1 Axes>"
      ]
     },
     "metadata": {
      "needs_background": "light"
     },
     "output_type": "display_data"
    },
    {
     "name": "stdout",
     "output_type": "stream",
     "text": [
      "\\begin{center}\n",
      "\\begin{tabular}{ccccccc}\n",
      "\\toprule\n",
      "\\textbf{Test} & \\textbf{Mean} & \\textbf{Var} & \\textbf{K-Stat 3} & \\textbf{K-Stat 4} & \\textbf{Skew} & \\textbf{Kurtosis} \\\\ \\midrule\n",
      "True & -0.017 & 0.957 & -0.079 & 0.002 & -0.079 & 2.737 \\\\\n",
      "Bootstrap & 0.002 & 0.990 & 0.091 & -0.149 & 0.091 & 2.781 \\\\\n",
      "Normal & -0.005 & 0.995 & 0.054 & -0.202 & 0.054 & 2.767 \\\\\n",
      "Overlapping & 0.119 & 0.445 & 0.092 & 0.160 & 0.092 & 0.753 \\\\\n",
      "\\bottomrule\n",
      "\\end{tabular}\n",
      "\\end{center}\n"
     ]
    }
   ],
   "source": [
    "a=.25\n",
    "k = 4\n",
    "gen_data_ex = lambda : gen_data(nobs=1000,a=a,num_params=k)\n",
    "\n",
    "vuong_plots.plot_kstats_table(gen_data_ex,setup_shi,figtitle='../figs/a%s_k%s.png'%(int(a*100),k))"
   ]
  },
  {
   "cell_type": "code",
   "execution_count": 28,
   "metadata": {
    "scrolled": false
   },
   "outputs": [
    {
     "name": "stdout",
     "output_type": "stream",
     "text": [
      "../figs/a25_k191.png\n"
     ]
    },
    {
     "data": {
      "image/png": "[encoded data removed]",
      "text/plain": [
       "<Figure size 432x288 with 1 Axes>"
      ]
     },
     "metadata": {
      "needs_background": "light"
     },
     "output_type": "display_data"
    },
    {
     "name": "stdout",
     "output_type": "stream",
     "text": [
      "\\begin{center}\n",
      "\\begin{tabular}{ccccccc}\n",
      "\\toprule\n",
      "\\textbf{Test} & \\textbf{Mean} & \\textbf{Var} & \\textbf{K-Stat 3} & \\textbf{K-Stat 4} & \\textbf{Skew} & \\textbf{Kurtosis} \\\\ \\midrule\n",
      "True & -0.080 & 0.952 & -0.195 & 0.008 & -0.194 & 2.718 \\\\\n",
      "Bootstrap & -0.100 & 1.051 & -0.421 & 0.674 & -0.418 & 3.950 \\\\\n",
      "Normal & -0.008 & 1.021 & -0.016 & -0.068 & -0.016 & 3.057 \\\\\n",
      "Overlapping & 0.121 & 0.429 & 0.028 & -0.066 & 0.028 & 0.485 \\\\\n",
      "\\bottomrule\n",
      "\\end{tabular}\n",
      "\\end{center}\n"
     ]
    }
   ],
   "source": [
    "a= .25\n",
    "k = 19\n",
    "gen_data_ex = lambda : gen_data(nobs=1000,a=a,num_params=k)\n",
    "\n",
    "vuong_plots.plot_kstats_table(gen_data_ex,setup_shi,figtitle='../figs/a%s_k%s1.png'%(int(a*100),k))"
   ]
  },
  {
   "cell_type": "markdown",
   "metadata": {},
   "source": [
    "# a = 0"
   ]
  },
  {
   "cell_type": "code",
   "execution_count": 7,
   "metadata": {},
   "outputs": [
    {
     "name": "stdout",
     "output_type": "stream",
     "text": [
      "../figs/a0_k1.png\n"
     ]
    },
    {
     "data": {
      "image/png": "[encoded data removed]",
      "text/plain": [
       "<Figure size 432x288 with 1 Axes>"
      ]
     },
     "metadata": {
      "needs_background": "light"
     },
     "output_type": "display_data"
    },
    {
     "name": "stdout",
     "output_type": "stream",
     "text": [
      "\\begin{center}\n",
      "\\begin{tabular}{ccccccc}\n",
      "\\toprule\n",
      "\\textbf{Test} & \\textbf{Mean} & \\textbf{Var} & \\textbf{K-Stat 3} & \\textbf{K-Stat 4} & \\textbf{Skew} & \\textbf{Kurtosis} \\\\ \\midrule\n",
      "True & 0.006 & 0.263 & 0.049 & 0.167 & 0.049 & 0.372 \\\\\n",
      "Bootstrap & -0.313 & 0.872 & -0.186 & 0.068 & -0.185 & 2.337 \\\\\n",
      "Normal & 0.005 & 0.986 & -0.005 & 0.172 & -0.005 & 3.088 \\\\\n",
      "Overlapping & -0.040 & 0.261 & 0.014 & 0.001 & 0.014 & 0.204 \\\\\n",
      "\\bottomrule\n",
      "\\end{tabular}\n",
      "\\end{center}\n"
     ]
    }
   ],
   "source": [
    "a = 0\n",
    "k = 1\n",
    "gen_data_ex = lambda : gen_data(nobs=1000,a=a,num_params=k)\n",
    "\n",
    "vuong_plots.plot_kstats_table(gen_data_ex,setup_shi,figtitle='../figs/a%s_k%s.png'%(int(a*100),k))"
   ]
  },
  {
   "cell_type": "code",
   "execution_count": 8,
   "metadata": {},
   "outputs": [
    {
     "name": "stdout",
     "output_type": "stream",
     "text": [
      "../figs/a0_k9.png\n"
     ]
    },
    {
     "data": {
      "image/png": "[encoded data removed]",
      "text/plain": [
       "<Figure size 432x288 with 1 Axes>"
      ]
     },
     "metadata": {
      "needs_background": "light"
     },
     "output_type": "display_data"
    },
    {
     "name": "stdout",
     "output_type": "stream",
     "text": [
      "\\begin{center}\n",
      "\\begin{tabular}{ccccccc}\n",
      "\\toprule\n",
      "\\textbf{Test} & \\textbf{Mean} & \\textbf{Var} & \\textbf{K-Stat 3} & \\textbf{K-Stat 4} & \\textbf{Skew} & \\textbf{Kurtosis} \\\\ \\midrule\n",
      "True & 0.179 & 0.511 & 0.192 & 0.386 & 0.192 & 1.165 \\\\\n",
      "Bootstrap & 0.054 & 0.698 & 0.049 & -0.178 & 0.049 & 1.279 \\\\\n",
      "Normal & -0.023 & 1.008 & -0.061 & -0.112 & -0.061 & 2.936 \\\\\n",
      "Overlapping & 0.136 & 0.419 & 0.047 & 0.037 & 0.047 & 0.562 \\\\\n",
      "\\bottomrule\n",
      "\\end{tabular}\n",
      "\\end{center}\n"
     ]
    }
   ],
   "source": [
    "a = 0\n",
    "k = 9\n",
    "gen_data_ex = lambda : gen_data(nobs=1000,a=a,num_params=k)\n",
    "vuong_plots.plot_kstats_table(gen_data_ex,setup_shi,figtitle='../figs/a%s_k%s.png'%(int(a*100),k))"
   ]
  },
  {
   "cell_type": "code",
   "execution_count": 9,
   "metadata": {},
   "outputs": [
    {
     "name": "stdout",
     "output_type": "stream",
     "text": [
      "../figs/a0_k4.png\n"
     ]
    },
    {
     "data": {
      "image/png": "[encoded data removed]",
      "text/plain": [
       "<Figure size 432x288 with 1 Axes>"
      ]
     },
     "metadata": {
      "needs_background": "light"
     },
     "output_type": "display_data"
    },
    {
     "name": "stdout",
     "output_type": "stream",
     "text": [
      "\\begin{center}\n",
      "\\begin{tabular}{ccccccc}\n",
      "\\toprule\n",
      "\\textbf{Test} & \\textbf{Mean} & \\textbf{Var} & \\textbf{K-Stat 3} & \\textbf{K-Stat 4} & \\textbf{Skew} & \\textbf{Kurtosis} \\\\ \\midrule\n",
      "True & 0.154 & 0.440 & 0.039 & 0.046 & 0.039 & 0.623 \\\\\n",
      "Bootstrap & 0.266 & 0.768 & 0.285 & 0.215 & 0.284 & 1.977 \\\\\n",
      "Normal & -0.015 & 0.995 & -0.017 & -0.126 & -0.017 & 2.844 \\\\\n",
      "Overlapping & 0.155 & 0.446 & 0.079 & 0.043 & 0.079 & 0.638 \\\\\n",
      "\\bottomrule\n",
      "\\end{tabular}\n",
      "\\end{center}\n"
     ]
    }
   ],
   "source": [
    "a = 0\n",
    "k = 4\n",
    "gen_data_ex = lambda : gen_data(nobs=1000,a=a,num_params=k)\n",
    "vuong_plots.plot_kstats_table(gen_data_ex,setup_shi,figtitle='../figs/a%s_k%s.png'%(int(a*100),k))"
   ]
  },
  {
   "cell_type": "code",
   "execution_count": 10,
   "metadata": {},
   "outputs": [
    {
     "name": "stdout",
     "output_type": "stream",
     "text": [
      "../figs/a0_k19.png\n"
     ]
    },
    {
     "data": {
      "image/png": "[encoded data removed]",
      "text/plain": [
       "<Figure size 432x288 with 1 Axes>"
      ]
     },
     "metadata": {
      "needs_background": "light"
     },
     "output_type": "display_data"
    },
    {
     "name": "stdout",
     "output_type": "stream",
     "text": [
      "\\begin{center}\n",
      "\\begin{tabular}{ccccccc}\n",
      "\\toprule\n",
      "\\textbf{Test} & \\textbf{Mean} & \\textbf{Var} & \\textbf{K-Stat 3} & \\textbf{K-Stat 4} & \\textbf{Skew} & \\textbf{Kurtosis} \\\\ \\midrule\n",
      "True & 0.167 & 0.491 & 0.141 & 0.175 & 0.140 & 0.895 \\\\\n",
      "Bootstrap & 0.191 & 0.613 & 0.251 & 0.362 & 0.250 & 1.482 \\\\\n",
      "Normal & -0.003 & 1.024 & -0.014 & 0.042 & -0.014 & 3.186 \\\\\n",
      "Overlapping & 0.155 & 0.460 & 0.081 & 0.073 & 0.081 & 0.708 \\\\\n",
      "\\bottomrule\n",
      "\\end{tabular}\n",
      "\\end{center}\n"
     ]
    }
   ],
   "source": [
    "a = 0\n",
    "k = 19\n",
    "gen_data_ex = lambda : gen_data(nobs=1000,a=a,num_params=k)\n",
    "\n",
    "vuong_plots.plot_kstats_table(gen_data_ex,setup_shi,figtitle='../figs/a%s_k%s.png'%(int(a*100),k))"
   ]
  }
 ],
 "metadata": {
  "kernelspec": {
   "display_name": "Python 3",
   "language": "python",
   "name": "python3"
  },
  "language_info": {
   "codemirror_mode": {
    "name": "ipython",
    "version": 3
   },
   "file_extension": ".py",
   "mimetype": "text/x-python",
   "name": "python",
   "nbconvert_exporter": "python",
   "pygments_lexer": "ipython3",
   "version": "3.8.8"
  }
 },
 "nbformat": 4,
 "nbformat_minor": 2
}
