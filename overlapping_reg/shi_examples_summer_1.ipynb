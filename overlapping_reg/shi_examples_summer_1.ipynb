{
 "cells": [
  {
   "cell_type": "code",
   "execution_count": 1,
   "metadata": {},
   "outputs": [],
   "source": [
    "%load_ext autoreload\n",
    "%autoreload 2\n",
    "\n",
    "import numpy as np\n",
    "import matplotlib.pyplot as plt\n",
    "import statsmodels.api as sm\n",
    "from statsmodels.base.model import GenericLikelihoodModel\n",
    "import scipy.stats as stats\n",
    "import sys\n",
    "\n",
    "sys.path.append(\"../\")\n",
    "import vuong_tests5"
   ]
  },
  {
   "cell_type": "code",
   "execution_count": 2,
   "metadata": {},
   "outputs": [
    {
     "name": "stdout",
     "output_type": "stream",
     "text": [
      "(1000, 2) (2, 2)\n"
     ]
    }
   ],
   "source": [
    "class OLS_loglike(GenericLikelihoodModel):\n",
    "    \n",
    "    def __init__(self, *args,ols=False, **kwargs):\n",
    "        super(OLS_loglike,self).__init__(*args,**kwargs)\n",
    "        self.ols = ols\n",
    "\n",
    "    def loglikeobs(self, params):\n",
    "        y = self.endog\n",
    "        x = self.exog\n",
    "        mu_y = np.matmul(x,params)  \n",
    "        resid = y - mu_y\n",
    "        sigma = np.sqrt(np.sum(resid**2)/resid.shape[0])\n",
    "        pr_y = stats.norm.logpdf( resid, loc=0,scale=sigma )\n",
    "        return pr_y\n",
    "\n",
    "\n",
    "def setup_shi(yn,xn,return_model=False,num_params=4):\n",
    "    x1n,x2n = xn[:,0],xn[:,1:num_params]\n",
    "    \n",
    "    # model 1 grad, etc.\n",
    "    model1 = sm.OLS(yn,sm.add_constant(x1n))\n",
    "    model1_fit = model1.fit(disp=False)\n",
    "    params1 = (model1_fit.params)\n",
    "    \n",
    "    model1_deriv = OLS_loglike(yn,sm.add_constant(x1n))\n",
    "    ll1 = model1_deriv.loglikeobs(model1_fit.params)\n",
    "    grad1 =  model1_deriv.score_obs(model1_fit.params)    \n",
    "    hess1 = model1_deriv.hessian(model1_fit.params)\n",
    "    \n",
    "    #model 2 grad, etc.\n",
    "    model2 = sm.OLS(yn,sm.add_constant(x2n))\n",
    "    model2_fit = model2.fit(disp=False)\n",
    "    params2 = (model2_fit.params)\n",
    "    \n",
    "    model2_deriv = OLS_loglike(yn,sm.add_constant(x2n))\n",
    "    ll2 = model2_deriv.loglikeobs(model2_fit.params)\n",
    "    grad2 =  model2_deriv.score_obs(model2_fit.params)    \n",
    "    hess2 = model2_deriv.hessian(model2_fit.params)\n",
    "    \n",
    "    if return_model:\n",
    "        return ll1,grad1,hess1,params1,model1,ll2,grad2,hess2,params2,model2\n",
    "    return ll1,grad1,hess1,params1,ll2,grad2,hess2,params2\n",
    "\n",
    "def gen_data(nobs=1000, a=0.25, num_params=4):\n",
    "    x = np.random.normal(scale=1., size=(nobs,1+num_params))\n",
    "    e = np.random.normal(loc=0.0, scale=1.0, size=nobs)\n",
    "    y = 1 + a*x[:,0] + a/np.sqrt(num_params)*x[:,1:num_params+1].sum(axis=1) + e\n",
    "    return y,x,nobs\n",
    "\n",
    "yn,xn,nobs = gen_data()\n",
    "ll1,grad1,hess1,params1,ll2,grad2,hess2,params2 = setup_shi(yn,xn,return_model=False,num_params=15)\n",
    "print(grad1.shape,hess1.shape)"
   ]
  },
  {
   "cell_type": "markdown",
   "metadata": {},
   "source": [
    "# a  = .25, k= 4, something not right?"
   ]
  },
  {
   "cell_type": "code",
   "execution_count": 3,
   "metadata": {},
   "outputs": [],
   "source": [
    "a = 0.25\n",
    "num_params=4\n",
    "num_sims = 100"
   ]
  },
  {
   "cell_type": "code",
   "execution_count": 4,
   "metadata": {
    "scrolled": true
   },
   "outputs": [
    {
     "name": "stdout",
     "output_type": "stream",
     "text": [
      "\\begin{tabular}{|c|c|c|c|c|c|}\n",
      "\\hline\n",
      "Model &  Normal & Bootstrap & Bootstrap-pt & Bootstrap-bc & Shi (2015) \\\\ \\hline \\hline\n",
      "No selection & 0.95 & 0.93 & 0.94 & 0.93 & 0.95   \\\\\n",
      "Model 1 & 0.05 & 0.07 & 0.06 & 0.07 & 0.05   \\\\\n",
      "Model 2 & 0.00 & 0.00 & 0.00 & 0.00 & 0.00   \\\\\n",
      "\\hline\n",
      "\\end{tabular}\n",
      "(array([0.95, 0.05, 0.  ]), array([0.93, 0.07, 0.  ]), array([0.94, 0.06, 0.  ]), array([0.93, 0.07, 0.  ]), array([0.95, 0.05, 0.  ]), 1.8714427873189774, 5.283079467463424, 5.276201175810691)\n"
     ]
    }
   ],
   "source": [
    "setup_shi_ex  = lambda yn,xn: setup_shi(yn,xn,num_params=num_params)\n",
    "gen_data_ex = lambda : gen_data(nobs=250, a=a,  num_params=num_params)\n",
    "mc_out = vuong_tests5.monte_carlo(num_sims,gen_data_ex,setup_shi_ex)\n",
    "vuong_tests5.print_mc(mc_out)\n",
    "print(mc_out)"
   ]
  },
  {
   "cell_type": "code",
   "execution_count": 5,
   "metadata": {},
   "outputs": [
    {
     "name": "stdout",
     "output_type": "stream",
     "text": [
      "\\begin{tabular}{|c|c|c|c|c|c|}\n",
      "\\hline\n",
      "Model &  Normal & Bootstrap & Bootstrap-pt & Bootstrap-bc & Shi (2015) \\\\ \\hline \\hline\n",
      "No selection & 0.94 & 0.95 & 0.94 & 0.94 & 0.98   \\\\\n",
      "Model 1 & 0.05 & 0.04 & 0.05 & 0.05 & 0.02   \\\\\n",
      "Model 2 & 0.01 & 0.01 & 0.01 & 0.01 & 0.00   \\\\\n",
      "\\hline\n",
      "\\end{tabular}\n",
      "(array([0.94, 0.05, 0.01]), array([0.95, 0.04, 0.01]), array([0.94, 0.05, 0.01]), array([0.94, 0.05, 0.01]), array([0.98, 0.02, 0.  ]), 2.259710440421776, 6.916139647033011, 7.091409881833634)\n"
     ]
    }
   ],
   "source": [
    "setup_shi_ex  = lambda yn,xn: setup_shi(yn,xn,num_params=num_params)\n",
    "gen_data_ex = lambda : gen_data(nobs=500, a=a,  num_params=num_params)\n",
    "mc_out = vuong_tests5.monte_carlo(num_sims,gen_data_ex,setup_shi_ex)\n",
    "vuong_tests5.print_mc(mc_out)\n",
    "print(mc_out)"
   ]
  },
  {
   "cell_type": "markdown",
   "metadata": {},
   "source": [
    "# a  = .25, k= 9"
   ]
  },
  {
   "cell_type": "code",
   "execution_count": 6,
   "metadata": {},
   "outputs": [],
   "source": [
    "a = 0.25\n",
    "num_params=9\n",
    "num_sims = 100"
   ]
  },
  {
   "cell_type": "code",
   "execution_count": 7,
   "metadata": {
    "scrolled": true
   },
   "outputs": [
    {
     "name": "stdout",
     "output_type": "stream",
     "text": [
      "\\begin{tabular}{|c|c|c|c|c|c|}\n",
      "\\hline\n",
      "Model &  Normal & Bootstrap & Bootstrap-pt & Bootstrap-bc & Shi (2015) \\\\ \\hline \\hline\n",
      "No selection & 0.99 & 0.97 & 0.99 & 0.96 & 0.99   \\\\\n",
      "Model 1 & 0.00 & 0.01 & 0.00 & 0.03 & 0.00   \\\\\n",
      "Model 2 & 0.01 & 0.02 & 0.01 & 0.01 & 0.01   \\\\\n",
      "\\hline\n",
      "\\end{tabular}\n",
      "(array([0.99, 0.  , 0.01]), array([0.97, 0.01, 0.02]), array([0.99, 0.  , 0.01]), array([0.96, 0.03, 0.01]), array([0.99, 0.  , 0.01]), -3.0220647032619765, 5.236344130107664, 5.66381038622029)\n"
     ]
    }
   ],
   "source": [
    "setup_shi_ex  = lambda yn,xn: setup_shi(yn,xn,num_params=num_params)\n",
    "gen_data_ex = lambda : gen_data(nobs=250, a=a,  num_params=num_params)\n",
    "mc_out = vuong_tests5.monte_carlo(num_sims,gen_data_ex,setup_shi_ex)\n",
    "vuong_tests5.print_mc(mc_out)\n",
    "print(mc_out)"
   ]
  },
  {
   "cell_type": "code",
   "execution_count": 8,
   "metadata": {},
   "outputs": [
    {
     "name": "stdout",
     "output_type": "stream",
     "text": [
      "\\begin{tabular}{|c|c|c|c|c|c|}\n",
      "\\hline\n",
      "Model &  Normal & Bootstrap & Bootstrap-pt & Bootstrap-bc & Shi (2015) \\\\ \\hline \\hline\n",
      "No selection & 0.97 & 0.97 & 0.97 & 0.97 & 0.97   \\\\\n",
      "Model 1 & 0.03 & 0.03 & 0.03 & 0.03 & 0.03   \\\\\n",
      "Model 2 & 0.00 & 0.00 & 0.00 & 0.00 & 0.00   \\\\\n",
      "\\hline\n",
      "\\end{tabular}\n",
      "(array([0.97, 0.03, 0.  ]), array([0.97, 0.03, 0.  ]), array([0.97, 0.03, 0.  ]), array([0.97, 0.03, 0.  ]), array([0.97, 0.03, 0.  ]), -2.466876609807727, 6.657199768168614, 7.717131849861435)\n"
     ]
    }
   ],
   "source": [
    "setup_shi_ex  = lambda yn,xn: setup_shi(yn,xn,num_params=num_params)\n",
    "gen_data_ex = lambda : gen_data(nobs=500, a=a,  num_params=num_params)\n",
    "mc_out = vuong_tests5.monte_carlo(num_sims,gen_data_ex,setup_shi_ex)\n",
    "vuong_tests5.print_mc(mc_out)\n",
    "print(mc_out)"
   ]
  },
  {
   "cell_type": "code",
   "execution_count": 9,
   "metadata": {},
   "outputs": [
    {
     "name": "stdout",
     "output_type": "stream",
     "text": [
      "\\begin{tabular}{|c|c|c|c|c|c|}\n",
      "\\hline\n",
      "Model &  Normal & Bootstrap & Bootstrap-pt & Bootstrap-bc & Shi (2015) \\\\ \\hline \\hline\n",
      "No selection & 0.98 & 0.98 & 0.98 & 0.98 & 0.98   \\\\\n",
      "Model 1 & 0.01 & 0.01 & 0.01 & 0.01 & 0.01   \\\\\n",
      "Model 2 & 0.01 & 0.01 & 0.01 & 0.01 & 0.01   \\\\\n",
      "\\hline\n",
      "\\end{tabular}\n",
      "(array([0.98, 0.01, 0.01]), array([0.98, 0.01, 0.01]), array([0.98, 0.01, 0.01]), array([0.98, 0.01, 0.01]), array([0.98, 0.01, 0.01]), -3.338449699538242, 4.077166205928686, 4.155363682678933)\n"
     ]
    }
   ],
   "source": [
    "setup_shi_ex  = lambda yn,xn: setup_shi(yn,xn,num_params=num_params)\n",
    "gen_data_ex = lambda : gen_data(nobs=100, a=a,  num_params=num_params)\n",
    "mc_out = vuong_tests5.monte_carlo(num_sims,gen_data_ex,setup_shi_ex)\n",
    "vuong_tests5.print_mc(mc_out)\n",
    "print(mc_out)"
   ]
  },
  {
   "cell_type": "markdown",
   "metadata": {},
   "source": [
    "# a  = 0, k= 9"
   ]
  },
  {
   "cell_type": "code",
   "execution_count": 10,
   "metadata": {},
   "outputs": [],
   "source": [
    "a = 0.00 \n",
    "num_params=9\n",
    "num_sims = 100"
   ]
  },
  {
   "cell_type": "code",
   "execution_count": 11,
   "metadata": {},
   "outputs": [
    {
     "name": "stdout",
     "output_type": "stream",
     "text": [
      "\\begin{tabular}{|c|c|c|c|c|c|}\n",
      "\\hline\n",
      "Model &  Normal & Bootstrap & Bootstrap-pt & Bootstrap-bc & Shi (2015) \\\\ \\hline \\hline\n",
      "No selection & 0.98 & 0.97 & 0.98 & 0.97 & 0.98   \\\\\n",
      "Model 1 & 0.02 & 0.03 & 0.02 & 0.03 & 0.02   \\\\\n",
      "Model 2 & 0.00 & 0.00 & 0.00 & 0.00 & 0.00   \\\\\n",
      "\\hline\n",
      "\\end{tabular}\n",
      "(array([0.98, 0.02, 0.  ]), array([0.97, 0.03, 0.  ]), array([0.98, 0.02, 0.  ]), array([0.97, 0.03, 0.  ]), array([0.98, 0.02, 0.  ]), -3.465399936689703, 1.7782895633767204, 2.8060839335381753)\n"
     ]
    }
   ],
   "source": [
    "setup_shi_ex  = lambda yn,xn: setup_shi(yn,xn,num_params=num_params)\n",
    "gen_data_ex = lambda : gen_data(nobs=250, a=a,  num_params=num_params)\n",
    "mc_out = vuong_tests5.monte_carlo(num_sims,gen_data_ex,setup_shi_ex)\n",
    "vuong_tests5.print_mc(mc_out)\n",
    "print(mc_out)"
   ]
  },
  {
   "cell_type": "code",
   "execution_count": 12,
   "metadata": {},
   "outputs": [
    {
     "name": "stdout",
     "output_type": "stream",
     "text": [
      "\\begin{tabular}{|c|c|c|c|c|c|}\n",
      "\\hline\n",
      "Model &  Normal & Bootstrap & Bootstrap-pt & Bootstrap-bc & Shi (2015) \\\\ \\hline \\hline\n",
      "No selection & 0.98 & 1.00 & 0.98 & 0.98 & 0.98   \\\\\n",
      "Model 1 & 0.01 & 0.00 & 0.01 & 0.01 & 0.01   \\\\\n",
      "Model 2 & 0.01 & 0.00 & 0.01 & 0.01 & 0.01   \\\\\n",
      "\\hline\n",
      "\\end{tabular}\n",
      "(array([0.98, 0.01, 0.01]), array([1., 0., 0.]), array([0.98, 0.01, 0.01]), array([0.98, 0.01, 0.01]), array([0.98, 0.01, 0.01]), -3.465069246826007, 2.230909320099721, 2.8188770315392513)\n"
     ]
    }
   ],
   "source": [
    "setup_shi_ex  = lambda yn,xn: setup_shi(yn,xn,num_params=num_params)\n",
    "gen_data_ex = lambda : gen_data(nobs=500, a=a,  num_params=num_params)\n",
    "mc_out = vuong_tests5.monte_carlo(num_sims,gen_data_ex,setup_shi_ex)\n",
    "vuong_tests5.print_mc(mc_out)\n",
    "print(mc_out)"
   ]
  },
  {
   "cell_type": "markdown",
   "metadata": {},
   "source": [
    "# a  = .25"
   ]
  },
  {
   "cell_type": "code",
   "execution_count": 13,
   "metadata": {},
   "outputs": [],
   "source": [
    "a = 0.25\n",
    "num_params=19\n",
    "num_sims = 100"
   ]
  },
  {
   "cell_type": "code",
   "execution_count": 14,
   "metadata": {},
   "outputs": [
    {
     "name": "stdout",
     "output_type": "stream",
     "text": [
      "\\begin{tabular}{|c|c|c|c|c|c|}\n",
      "\\hline\n",
      "Model &  Normal & Bootstrap & Bootstrap-pt & Bootstrap-bc & Shi (2015) \\\\ \\hline \\hline\n",
      "No selection & 0.93 & 0.93 & 0.94 & 0.92 & 0.93   \\\\\n",
      "Model 1 & 0.04 & 0.04 & 0.04 & 0.04 & 0.04   \\\\\n",
      "Model 2 & 0.03 & 0.03 & 0.02 & 0.04 & 0.03   \\\\\n",
      "\\hline\n",
      "\\end{tabular}\n",
      "(array([0.93, 0.04, 0.03]), array([0.93, 0.04, 0.03]), array([0.94, 0.04, 0.02]), array([0.92, 0.04, 0.04]), array([0.93, 0.04, 0.03]), -8.786849345797961, 7.1027920682289585, 6.716246382760796)\n"
     ]
    }
   ],
   "source": [
    "setup_shi_ex  = lambda yn,xn: setup_shi(yn,xn,num_params=num_params)\n",
    "gen_data_ex = lambda : gen_data(nobs=250, a=a,  num_params=num_params)\n",
    "mc_out = vuong_tests5.monte_carlo(num_sims,gen_data_ex,setup_shi_ex)\n",
    "vuong_tests5.print_mc(mc_out)\n",
    "print(mc_out)"
   ]
  },
  {
   "cell_type": "code",
   "execution_count": 15,
   "metadata": {},
   "outputs": [
    {
     "name": "stdout",
     "output_type": "stream",
     "text": [
      "\\begin{tabular}{|c|c|c|c|c|c|}\n",
      "\\hline\n",
      "Model &  Normal & Bootstrap & Bootstrap-pt & Bootstrap-bc & Shi (2015) \\\\ \\hline \\hline\n",
      "No selection & 0.98 & 0.99 & 0.98 & 0.98 & 0.98   \\\\\n",
      "Model 1 & 0.02 & 0.01 & 0.02 & 0.02 & 0.02   \\\\\n",
      "Model 2 & 0.00 & 0.00 & 0.00 & 0.00 & 0.00   \\\\\n",
      "\\hline\n",
      "\\end{tabular}\n",
      "(array([0.98, 0.02, 0.  ]), array([0.99, 0.01, 0.  ]), array([0.98, 0.02, 0.  ]), array([0.98, 0.02, 0.  ]), array([0.98, 0.02, 0.  ]), -7.5222000299593095, 7.448524868587301, 8.406076994816766)\n"
     ]
    }
   ],
   "source": [
    "setup_shi_ex  = lambda yn,xn: setup_shi(yn,xn,num_params=num_params)\n",
    "gen_data_ex = lambda : gen_data(nobs=500, a=a,  num_params=num_params)\n",
    "mc_out = vuong_tests5.monte_carlo(num_sims,gen_data_ex,setup_shi_ex)\n",
    "vuong_tests5.print_mc(mc_out)\n",
    "print(mc_out)"
   ]
  },
  {
   "cell_type": "code",
   "execution_count": 16,
   "metadata": {},
   "outputs": [
    {
     "name": "stdout",
     "output_type": "stream",
     "text": [
      "\\begin{tabular}{|c|c|c|c|c|c|}\n",
      "\\hline\n",
      "Model &  Normal & Bootstrap & Bootstrap-pt & Bootstrap-bc & Shi (2015) \\\\ \\hline \\hline\n",
      "No selection & 0.93 & 0.92 & 0.93 & 0.92 & 0.93   \\\\\n",
      "Model 1 & 0.06 & 0.07 & 0.06 & 0.07 & 0.06   \\\\\n",
      "Model 2 & 0.01 & 0.01 & 0.01 & 0.01 & 0.01   \\\\\n",
      "\\hline\n",
      "\\end{tabular}\n",
      "(array([0.93, 0.06, 0.01]), array([0.92, 0.07, 0.01]), array([0.93, 0.06, 0.01]), array([0.92, 0.07, 0.01]), array([0.93, 0.06, 0.01]), -5.841382533679308, 11.693416920976954, 11.145870868789473)\n"
     ]
    }
   ],
   "source": [
    "setup_shi_ex  = lambda yn,xn: setup_shi(yn,xn,num_params=num_params)\n",
    "gen_data_ex = lambda : gen_data(nobs=1000, a=a,  num_params=num_params)\n",
    "mc_out = vuong_tests5.monte_carlo(num_sims,gen_data_ex,setup_shi_ex)\n",
    "vuong_tests5.print_mc(mc_out)\n",
    "print(mc_out)"
   ]
  },
  {
   "cell_type": "markdown",
   "metadata": {},
   "source": [
    "# a = 0"
   ]
  },
  {
   "cell_type": "code",
   "execution_count": 17,
   "metadata": {},
   "outputs": [],
   "source": [
    "a = 0.0\n",
    "num_params=19\n",
    "num_sims = 100"
   ]
  },
  {
   "cell_type": "code",
   "execution_count": 18,
   "metadata": {},
   "outputs": [
    {
     "name": "stdout",
     "output_type": "stream",
     "text": [
      "\\begin{tabular}{|c|c|c|c|c|c|}\n",
      "\\hline\n",
      "Model &  Normal & Bootstrap & Bootstrap-pt & Bootstrap-bc & Shi (2015) \\\\ \\hline \\hline\n",
      "No selection & 0.98 & 0.98 & 0.98 & 0.99 & 0.98   \\\\\n",
      "Model 1 & 0.02 & 0.02 & 0.02 & 0.01 & 0.02   \\\\\n",
      "Model 2 & 0.00 & 0.00 & 0.00 & 0.00 & 0.00   \\\\\n",
      "\\hline\n",
      "\\end{tabular}\n",
      "(array([0.98, 0.02, 0.  ]), array([0.98, 0.02, 0.  ]), array([0.98, 0.02, 0.  ]), array([0.99, 0.01, 0.  ]), array([0.98, 0.02, 0.  ]), -8.545930986781144, 2.8530859188573943, 4.233656928178262)\n"
     ]
    }
   ],
   "source": [
    "setup_shi_ex  = lambda yn,xn: setup_shi(yn,xn,num_params=num_params)\n",
    "gen_data_ex = lambda : gen_data(nobs=250, a=a,  num_params=num_params)\n",
    "mc_out = vuong_tests5.monte_carlo(num_sims,gen_data_ex,setup_shi_ex)\n",
    "vuong_tests5.print_mc(mc_out)\n",
    "print(mc_out)"
   ]
  },
  {
   "cell_type": "code",
   "execution_count": 19,
   "metadata": {},
   "outputs": [
    {
     "name": "stdout",
     "output_type": "stream",
     "text": [
      "\\begin{tabular}{|c|c|c|c|c|c|}\n",
      "\\hline\n",
      "Model &  Normal & Bootstrap & Bootstrap-pt & Bootstrap-bc & Shi (2015) \\\\ \\hline \\hline\n",
      "No selection & 0.99 & 0.99 & 0.99 & 0.99 & 0.99   \\\\\n",
      "Model 1 & 0.01 & 0.01 & 0.01 & 0.01 & 0.01   \\\\\n",
      "Model 2 & 0.00 & 0.00 & 0.00 & 0.00 & 0.00   \\\\\n",
      "\\hline\n",
      "\\end{tabular}\n",
      "(array([0.99, 0.01, 0.  ]), array([0.99, 0.01, 0.  ]), array([0.99, 0.01, 0.  ]), array([0.99, 0.01, 0.  ]), array([0.99, 0.01, 0.  ]), -9.105564347783021, 3.374059786254432, 4.404871281372424)\n"
     ]
    }
   ],
   "source": [
    "setup_shi_ex  = lambda yn,xn: setup_shi(yn,xn,num_params=num_params)\n",
    "gen_data_ex = lambda : gen_data(nobs=500, a=a,  num_params=num_params)\n",
    "mc_out = vuong_tests5.monte_carlo(num_sims,gen_data_ex,setup_shi_ex)\n",
    "vuong_tests5.print_mc(mc_out)\n",
    "print(mc_out)"
   ]
  },
  {
   "cell_type": "markdown",
   "metadata": {},
   "source": [
    "# evidence of power"
   ]
  },
  {
   "cell_type": "code",
   "execution_count": 20,
   "metadata": {},
   "outputs": [],
   "source": [
    "a1,a2 = np.sqrt(1.09-1), 0.00\n",
    "num_params= 9\n",
    "num_sims = 100\n",
    "\n",
    "def gen_data2(nobs=1000, a1=np.sqrt(1.09-1), a2=0.00 , num_params=19):\n",
    "    x = np.random.normal(scale=1., size=(nobs,1+num_params))\n",
    "    e = np.random.normal(loc=0.0, scale=1.0, size=nobs)\n",
    "    y = 1 + a1*x[:,0] + a2/np.sqrt(num_params)*x[:,1:num_params+1].sum(axis=1) + e\n",
    "    return y,x,nobs"
   ]
  },
  {
   "cell_type": "code",
   "execution_count": 21,
   "metadata": {},
   "outputs": [
    {
     "name": "stdout",
     "output_type": "stream",
     "text": [
      "\\begin{tabular}{|c|c|c|c|c|c|}\n",
      "\\hline\n",
      "Model &  Normal & Bootstrap & Bootstrap-pt & Bootstrap-bc & Shi (2015) \\\\ \\hline \\hline\n",
      "No selection & 0.53 & 0.49 & 0.51 & 0.49 & 0.60   \\\\\n",
      "Model 1 & 0.47 & 0.51 & 0.49 & 0.51 & 0.40   \\\\\n",
      "Model 2 & 0.00 & 0.00 & 0.00 & 0.00 & 0.00   \\\\\n",
      "\\hline\n",
      "\\end{tabular}\n",
      "(array([0.53, 0.47, 0.  ]), array([0.49, 0.51, 0.  ]), array([0.51, 0.49, 0.  ]), array([0.49, 0.51, 0.  ]), array([0.6, 0.4, 0. ]), 6.979357403436703, 4.925982680123298, 5.215754245964105)\n"
     ]
    }
   ],
   "source": [
    "a1,a2 = np.sqrt(1.09-1), 0.00\n",
    "setup_shi_ex  = lambda yn,xn: setup_shi(yn,xn,num_params=num_params)\n",
    "gen_data_ex = lambda : gen_data2(nobs=250, a1=a1, a2=a2, num_params=num_params)\n",
    "mc_out = vuong_tests5.monte_carlo(num_sims,gen_data_ex,setup_shi_ex)\n",
    "vuong_tests5.print_mc(mc_out)\n",
    "print(mc_out)"
   ]
  },
  {
   "cell_type": "code",
   "execution_count": 22,
   "metadata": {},
   "outputs": [
    {
     "name": "stdout",
     "output_type": "stream",
     "text": [
      "\\begin{tabular}{|c|c|c|c|c|c|}\n",
      "\\hline\n",
      "Model &  Normal & Bootstrap & Bootstrap-pt & Bootstrap-bc & Shi (2015) \\\\ \\hline \\hline\n",
      "No selection & 0.63 & 0.60 & 0.65 & 0.61 & 0.69   \\\\\n",
      "Model 1 & 0.37 & 0.40 & 0.35 & 0.39 & 0.31   \\\\\n",
      "Model 2 & 0.00 & 0.00 & 0.00 & 0.00 & 0.00   \\\\\n",
      "\\hline\n",
      "\\end{tabular}\n",
      "(array([0.63, 0.37, 0.  ]), array([0.6, 0.4, 0. ]), array([0.65, 0.35, 0.  ]), array([0.61, 0.39, 0.  ]), array([0.69, 0.31, 0.  ]), 6.088128793586734, 4.910784617440597, 5.154244328999802)\n"
     ]
    }
   ],
   "source": [
    "a1,a2 = np.sqrt(1.09**.5-1), 0.00\n",
    "setup_shi_ex  = lambda yn,xn: setup_shi(yn,xn,num_params=num_params)\n",
    "gen_data_ex = lambda : gen_data2(nobs=500, a1=a1, a2=a2, num_params=num_params)\n",
    "mc_out = vuong_tests5.monte_carlo(num_sims,gen_data_ex,setup_shi_ex)\n",
    "vuong_tests5.print_mc(mc_out)\n",
    "print(mc_out)"
   ]
  },
  {
   "cell_type": "code",
   "execution_count": 23,
   "metadata": {},
   "outputs": [
    {
     "name": "stdout",
     "output_type": "stream",
     "text": [
      "\\begin{tabular}{|c|c|c|c|c|c|}\n",
      "\\hline\n",
      "Model &  Normal & Bootstrap & Bootstrap-pt & Bootstrap-bc & Shi (2015) \\\\ \\hline \\hline\n",
      "No selection & 0.55 & 0.55 & 0.49 & 0.50 & 0.62   \\\\\n",
      "Model 1 & 0.00 & 0.00 & 0.00 & 0.00 & 0.00   \\\\\n",
      "Model 2 & 0.45 & 0.45 & 0.51 & 0.50 & 0.38   \\\\\n",
      "\\hline\n",
      "\\end{tabular}\n",
      "(array([0.55, 0.  , 0.45]), array([0.55, 0.  , 0.45]), array([0.49, 0.  , 0.51]), array([0.5, 0. , 0.5]), array([0.62, 0.  , 0.38]), -13.685559141967138, 4.8481870887803735, 5.045509028219955)\n"
     ]
    }
   ],
   "source": [
    "a1,a2 = 0.00,np.sqrt(1.09-1)\n",
    "setup_shi_ex  = lambda yn,xn: setup_shi(yn,xn,num_params=num_params)\n",
    "gen_data_ex = lambda : gen_data2(nobs=250, a1=a1, a2=a2, num_params=num_params)\n",
    "mc_out = vuong_tests5.monte_carlo(num_sims,gen_data_ex,setup_shi_ex)\n",
    "vuong_tests5.print_mc(mc_out)\n",
    "print(mc_out)"
   ]
  },
  {
   "cell_type": "code",
   "execution_count": 24,
   "metadata": {},
   "outputs": [
    {
     "name": "stdout",
     "output_type": "stream",
     "text": [
      "\\begin{tabular}{|c|c|c|c|c|c|}\n",
      "\\hline\n",
      "Model &  Normal & Bootstrap & Bootstrap-pt & Bootstrap-bc & Shi (2015) \\\\ \\hline \\hline\n",
      "No selection & 0.59 & 0.60 & 0.62 & 0.59 & 0.65   \\\\\n",
      "Model 1 & 0.00 & 0.00 & 0.00 & 0.00 & 0.00   \\\\\n",
      "Model 2 & 0.41 & 0.40 & 0.38 & 0.41 & 0.35   \\\\\n",
      "\\hline\n",
      "\\end{tabular}\n",
      "(array([0.59, 0.  , 0.41]), array([0.6, 0. , 0.4]), array([0.62, 0.  , 0.38]), array([0.59, 0.  , 0.41]), array([0.65, 0.  , 0.35]), -12.855128639265535, 4.404265997010801, 5.185499295629134)\n"
     ]
    }
   ],
   "source": [
    "a1,a2 =  0.00,np.sqrt(1.09**.5-1)\n",
    "setup_shi_ex  = lambda yn,xn: setup_shi(yn,xn,num_params=num_params)\n",
    "gen_data_ex = lambda : gen_data2(nobs=500, a1=a1, a2=a2, num_params=num_params)\n",
    "mc_out = vuong_tests5.monte_carlo(num_sims,gen_data_ex,setup_shi_ex)\n",
    "vuong_tests5.print_mc(mc_out)\n",
    "print(mc_out)"
   ]
  },
  {
   "cell_type": "code",
   "execution_count": null,
   "metadata": {},
   "outputs": [],
   "source": []
  },
  {
   "cell_type": "code",
   "execution_count": null,
   "metadata": {},
   "outputs": [],
   "source": []
  },
  {
   "cell_type": "code",
   "execution_count": null,
   "metadata": {},
   "outputs": [],
   "source": []
  }
 ],
 "metadata": {
  "kernelspec": {
   "display_name": "Python 3",
   "language": "python",
   "name": "python3"
  },
  "language_info": {
   "codemirror_mode": {
    "name": "ipython",
    "version": 3
   },
   "file_extension": ".py",
   "mimetype": "text/x-python",
   "name": "python",
   "nbconvert_exporter": "python",
   "pygments_lexer": "ipython3",
   "version": "3.8.8"
  }
 },
 "nbformat": 4,
 "nbformat_minor": 2
}
