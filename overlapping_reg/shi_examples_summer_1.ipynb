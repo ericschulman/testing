{
 "cells": [
  {
   "cell_type": "code",
   "execution_count": 1,
   "metadata": {},
   "outputs": [],
   "source": [
    "%load_ext autoreload\n",
    "%autoreload 2\n",
    "\n",
    "import numpy as np\n",
    "import matplotlib.pyplot as plt\n",
    "import statsmodels.api as sm\n",
    "from statsmodels.base.model import GenericLikelihoodModel\n",
    "import scipy.stats as stats\n",
    "import sys\n",
    "\n",
    "sys.path.append(\"../\")\n",
    "import vuong_tests5"
   ]
  },
  {
   "cell_type": "code",
   "execution_count": 2,
   "metadata": {},
   "outputs": [
    {
     "name": "stdout",
     "output_type": "stream",
     "text": [
      "(1000, 2) (2, 2)\n"
     ]
    }
   ],
   "source": [
    "class OLS_loglike(GenericLikelihoodModel):\n",
    "    \n",
    "    def __init__(self, *args,ols=False, **kwargs):\n",
    "        super(OLS_loglike,self).__init__(*args,**kwargs)\n",
    "        self.ols = ols\n",
    "\n",
    "    def loglikeobs(self, params):\n",
    "        y = self.endog\n",
    "        x = self.exog\n",
    "        mu_y = np.matmul(x,params)  \n",
    "        resid = y - mu_y\n",
    "        sigma = np.sqrt(np.sum(resid**2)/resid.shape[0])\n",
    "        pr_y = stats.norm.logpdf( resid, loc=0,scale=sigma )\n",
    "        return pr_y\n",
    "\n",
    "\n",
    "def setup_shi(yn,xn,return_model=False,num_params=4):\n",
    "    x1n,x2n = xn[:,0],xn[:,1:num_params]\n",
    "    \n",
    "    # model 1 grad, etc.\n",
    "    model1 = sm.OLS(yn,sm.add_constant(x1n))\n",
    "    model1_fit = model1.fit(disp=False)\n",
    "    params1 = (model1_fit.params)\n",
    "    \n",
    "    model1_deriv = OLS_loglike(yn,sm.add_constant(x1n))\n",
    "    ll1 = model1_deriv.loglikeobs(model1_fit.params)\n",
    "    grad1 =  model1_deriv.score_obs(model1_fit.params)    \n",
    "    hess1 = model1_deriv.hessian(model1_fit.params)\n",
    "    \n",
    "    #model 2 grad, etc.\n",
    "    model2 = sm.OLS(yn,sm.add_constant(x2n))\n",
    "    model2_fit = model2.fit(disp=False)\n",
    "    params2 = (model2_fit.params)\n",
    "    \n",
    "    model2_deriv = OLS_loglike(yn,sm.add_constant(x2n))\n",
    "    ll2 = model2_deriv.loglikeobs(model2_fit.params)\n",
    "    grad2 =  model2_deriv.score_obs(model2_fit.params)    \n",
    "    hess2 = model2_deriv.hessian(model2_fit.params)\n",
    "    \n",
    "    if return_model:\n",
    "        return ll1,grad1,hess1,params1,model1,ll2,grad2,hess2,params2,model2\n",
    "    return ll1,grad1,hess1,params1,ll2,grad2,hess2,params2\n",
    "\n",
    "def gen_data(nobs=1000, a=0.25, num_params=4):\n",
    "    x = np.random.normal(scale=1., size=(nobs,1+num_params))\n",
    "    e = np.random.normal(loc=0.0, scale=1.0, size=nobs)\n",
    "    y = 1 + a*x[:,0] + a/np.sqrt(num_params)*x[:,1:num_params+1].sum(axis=1) + e\n",
    "    return y,x,nobs\n",
    "\n",
    "yn,xn,nobs = gen_data()\n",
    "ll1,grad1,hess1,params1,ll2,grad2,hess2,params2 = setup_shi(yn,xn,return_model=False,num_params=15)\n",
    "print(grad1.shape,hess1.shape)"
   ]
  },
  {
   "cell_type": "markdown",
   "metadata": {},
   "source": [
    "# a  = .25, k= 4, something not right?"
   ]
  },
  {
   "cell_type": "code",
   "execution_count": 3,
   "metadata": {},
   "outputs": [],
   "source": [
    "a = 0.25\n",
    "num_params=4\n",
    "num_sims = 100"
   ]
  },
  {
   "cell_type": "code",
   "execution_count": 4,
   "metadata": {
    "scrolled": false
   },
   "outputs": [
    {
     "name": "stdout",
     "output_type": "stream",
     "text": [
      "\\begin{tabular}{|c|c|c|c|c|c|c|}\n",
      "\\hline\n",
      "Model &  Normal & Two-Step & Bootstrap & Bootstrap-pt & Bootstrap-bc & Shi (2015) \\\\ \\hline \\hline\n",
      "No selection & 0.95 & 0.95 & 0.96 & 0.94 & 0.97 & 0.99   \\\\\n",
      "Model 1 & 0.02 & 0.02 & 0.03 & 0.05 & 0.03 & 0.01   \\\\\n",
      "Model 2 & 0.03 & 0.03 & 0.01 & 0.01 & 0.00 & 0.00   \\\\\n",
      "\\hline\n",
      "\\end{tabular}\n",
      "(array([0.95, 0.02, 0.03]), array([0.95, 0.02, 0.03]), array([0.96, 0.03, 0.01]), array([0.94, 0.05, 0.01]), array([0.97, 0.03, 0.  ]), array([0.99, 0.01, 0.  ]), 0.8488602649149568, 5.742349796505308, 5.2099405125670355)\n"
     ]
    }
   ],
   "source": [
    "setup_shi_ex  = lambda yn,xn: setup_shi(yn,xn,num_params=num_params)\n",
    "gen_data_ex = lambda : gen_data(nobs=250, a=a,  num_params=num_params)\n",
    "mc_out = vuong_tests5.monte_carlo(num_sims,gen_data_ex,setup_shi_ex)\n",
    "vuong_tests5.print_mc(mc_out)\n",
    "print(mc_out)"
   ]
  },
  {
   "cell_type": "code",
   "execution_count": 5,
   "metadata": {},
   "outputs": [
    {
     "name": "stdout",
     "output_type": "stream",
     "text": [
      "\\begin{tabular}{|c|c|c|c|c|c|c|}\n",
      "\\hline\n",
      "Model &  Normal & Two-Step & Bootstrap & Bootstrap-pt & Bootstrap-bc & Shi (2015) \\\\ \\hline \\hline\n",
      "No selection & 0.96 & 0.96 & 0.96 & 0.97 & 0.94 & 0.99   \\\\\n",
      "Model 1 & 0.03 & 0.03 & 0.04 & 0.03 & 0.05 & 0.01   \\\\\n",
      "Model 2 & 0.01 & 0.01 & 0.00 & 0.00 & 0.01 & 0.00   \\\\\n",
      "\\hline\n",
      "\\end{tabular}\n",
      "(array([0.96, 0.03, 0.01]), array([0.96, 0.03, 0.01]), array([0.96, 0.04, 0.  ]), array([0.97, 0.03, 0.  ]), array([0.94, 0.05, 0.01]), array([0.99, 0.01, 0.  ]), 3.1879670510537563, 6.413646098274674, 6.996725060424468)\n"
     ]
    }
   ],
   "source": [
    "setup_shi_ex  = lambda yn,xn: setup_shi(yn,xn,num_params=num_params)\n",
    "gen_data_ex = lambda : gen_data(nobs=500, a=a,  num_params=num_params)\n",
    "mc_out = vuong_tests5.monte_carlo(num_sims,gen_data_ex,setup_shi_ex)\n",
    "vuong_tests5.print_mc(mc_out)\n",
    "print(mc_out)"
   ]
  },
  {
   "cell_type": "markdown",
   "metadata": {},
   "source": [
    "# a  = .25, k= 9"
   ]
  },
  {
   "cell_type": "code",
   "execution_count": 6,
   "metadata": {},
   "outputs": [],
   "source": [
    "a = 0.25\n",
    "num_params=9\n",
    "num_sims = 100"
   ]
  },
  {
   "cell_type": "code",
   "execution_count": 7,
   "metadata": {
    "scrolled": true
   },
   "outputs": [
    {
     "name": "stdout",
     "output_type": "stream",
     "text": [
      "\\begin{tabular}{|c|c|c|c|c|c|c|}\n",
      "\\hline\n",
      "Model &  Normal & Two-Step & Bootstrap & Bootstrap-pt & Bootstrap-bc & Shi (2015) \\\\ \\hline \\hline\n",
      "No selection & 0.93 & 0.93 & 0.97 & 0.97 & 0.97 & 0.98   \\\\\n",
      "Model 1 & 0.01 & 0.01 & 0.02 & 0.02 & 0.02 & 0.02   \\\\\n",
      "Model 2 & 0.06 & 0.06 & 0.01 & 0.01 & 0.01 & 0.00   \\\\\n",
      "\\hline\n",
      "\\end{tabular}\n",
      "(array([0.93, 0.01, 0.06]), array([0.93, 0.01, 0.06]), array([0.97, 0.02, 0.01]), array([0.97, 0.02, 0.01]), array([0.97, 0.02, 0.01]), array([0.98, 0.02, 0.  ]), -2.684095638776855, 4.961967636959473, 5.645374648477944)\n"
     ]
    }
   ],
   "source": [
    "setup_shi_ex  = lambda yn,xn: setup_shi(yn,xn,num_params=num_params)\n",
    "gen_data_ex = lambda : gen_data(nobs=250, a=a,  num_params=num_params)\n",
    "mc_out = vuong_tests5.monte_carlo(num_sims,gen_data_ex,setup_shi_ex)\n",
    "vuong_tests5.print_mc(mc_out)\n",
    "print(mc_out)"
   ]
  },
  {
   "cell_type": "code",
   "execution_count": 8,
   "metadata": {},
   "outputs": [
    {
     "name": "stdout",
     "output_type": "stream",
     "text": [
      "\\begin{tabular}{|c|c|c|c|c|c|c|}\n",
      "\\hline\n",
      "Model &  Normal & Two-Step & Bootstrap & Bootstrap-pt & Bootstrap-bc & Shi (2015) \\\\ \\hline \\hline\n",
      "No selection & 0.97 & 0.97 & 0.94 & 0.94 & 0.94 & 0.98   \\\\\n",
      "Model 1 & 0.01 & 0.01 & 0.06 & 0.05 & 0.05 & 0.02   \\\\\n",
      "Model 2 & 0.02 & 0.02 & 0.00 & 0.01 & 0.01 & 0.00   \\\\\n",
      "\\hline\n",
      "\\end{tabular}\n",
      "(array([0.97, 0.01, 0.02]), array([0.97, 0.01, 0.02]), array([0.94, 0.06, 0.  ]), array([0.94, 0.05, 0.01]), array([0.94, 0.05, 0.01]), array([0.98, 0.02, 0.  ]), -1.0985999115826912, 7.8951865432907855, 7.873216133246676)\n"
     ]
    }
   ],
   "source": [
    "setup_shi_ex  = lambda yn,xn: setup_shi(yn,xn,num_params=num_params)\n",
    "gen_data_ex = lambda : gen_data(nobs=500, a=a,  num_params=num_params)\n",
    "mc_out = vuong_tests5.monte_carlo(num_sims,gen_data_ex,setup_shi_ex)\n",
    "vuong_tests5.print_mc(mc_out)\n",
    "print(mc_out)"
   ]
  },
  {
   "cell_type": "code",
   "execution_count": 9,
   "metadata": {},
   "outputs": [
    {
     "name": "stdout",
     "output_type": "stream",
     "text": [
      "\\begin{tabular}{|c|c|c|c|c|c|c|}\n",
      "\\hline\n",
      "Model &  Normal & Two-Step & Bootstrap & Bootstrap-pt & Bootstrap-bc & Shi (2015) \\\\ \\hline \\hline\n",
      "No selection & 0.92 & 0.92 & 0.98 & 0.98 & 0.98 & 0.99   \\\\\n",
      "Model 1 & 0.00 & 0.00 & 0.00 & 0.01 & 0.00 & 0.00   \\\\\n",
      "Model 2 & 0.08 & 0.08 & 0.02 & 0.01 & 0.02 & 0.01   \\\\\n",
      "\\hline\n",
      "\\end{tabular}\n",
      "(array([0.92, 0.  , 0.08]), array([0.92, 0.  , 0.08]), array([0.98, 0.  , 0.02]), array([0.98, 0.01, 0.01]), array([0.98, 0.  , 0.02]), array([0.99, 0.  , 0.01]), -3.5106779377062862, 4.071044809147577, 4.282369115210032)\n"
     ]
    }
   ],
   "source": [
    "setup_shi_ex  = lambda yn,xn: setup_shi(yn,xn,num_params=num_params)\n",
    "gen_data_ex = lambda : gen_data(nobs=100, a=a,  num_params=num_params)\n",
    "mc_out = vuong_tests5.monte_carlo(num_sims,gen_data_ex,setup_shi_ex)\n",
    "vuong_tests5.print_mc(mc_out)\n",
    "print(mc_out)"
   ]
  },
  {
   "cell_type": "markdown",
   "metadata": {},
   "source": [
    "# a  = 0, k= 9"
   ]
  },
  {
   "cell_type": "code",
   "execution_count": 10,
   "metadata": {},
   "outputs": [],
   "source": [
    "a = 0.00 \n",
    "num_params=9\n",
    "num_sims = 100"
   ]
  },
  {
   "cell_type": "code",
   "execution_count": 11,
   "metadata": {},
   "outputs": [
    {
     "name": "stdout",
     "output_type": "stream",
     "text": [
      "\\begin{tabular}{|c|c|c|c|c|c|c|}\n",
      "\\hline\n",
      "Model &  Normal & Two-Step & Bootstrap & Bootstrap-pt & Bootstrap-bc & Shi (2015) \\\\ \\hline \\hline\n",
      "No selection & 0.98 & 0.98 & 0.97 & 0.99 & 0.97 & 0.99   \\\\\n",
      "Model 1 & 0.00 & 0.00 & 0.03 & 0.01 & 0.03 & 0.01   \\\\\n",
      "Model 2 & 0.02 & 0.02 & 0.00 & 0.00 & 0.00 & 0.00   \\\\\n",
      "\\hline\n",
      "\\end{tabular}\n",
      "(array([0.98, 0.  , 0.02]), array([0.98, 0.  , 0.02]), array([0.97, 0.03, 0.  ]), array([0.99, 0.01, 0.  ]), array([0.97, 0.03, 0.  ]), array([0.99, 0.01, 0.  ]), -3.4107995423513904, 1.9979417733559255, 2.7950479141178617)\n"
     ]
    }
   ],
   "source": [
    "setup_shi_ex  = lambda yn,xn: setup_shi(yn,xn,num_params=num_params)\n",
    "gen_data_ex = lambda : gen_data(nobs=250, a=a,  num_params=num_params)\n",
    "mc_out = vuong_tests5.monte_carlo(num_sims,gen_data_ex,setup_shi_ex)\n",
    "vuong_tests5.print_mc(mc_out)\n",
    "print(mc_out)"
   ]
  },
  {
   "cell_type": "code",
   "execution_count": 12,
   "metadata": {},
   "outputs": [
    {
     "name": "stdout",
     "output_type": "stream",
     "text": [
      "\\begin{tabular}{|c|c|c|c|c|c|c|}\n",
      "\\hline\n",
      "Model &  Normal & Two-Step & Bootstrap & Bootstrap-pt & Bootstrap-bc & Shi (2015) \\\\ \\hline \\hline\n",
      "No selection & 0.98 & 0.98 & 0.97 & 0.99 & 0.99 & 0.99   \\\\\n",
      "Model 1 & 0.00 & 0.00 & 0.03 & 0.01 & 0.01 & 0.01   \\\\\n",
      "Model 2 & 0.02 & 0.02 & 0.00 & 0.00 & 0.00 & 0.00   \\\\\n",
      "\\hline\n",
      "\\end{tabular}\n",
      "(array([0.98, 0.  , 0.02]), array([0.98, 0.  , 0.02]), array([0.97, 0.03, 0.  ]), array([0.99, 0.01, 0.  ]), array([0.99, 0.01, 0.  ]), array([0.99, 0.01, 0.  ]), -3.3257068826768874, 2.213662414587975, 2.8201487922253774)\n"
     ]
    }
   ],
   "source": [
    "setup_shi_ex  = lambda yn,xn: setup_shi(yn,xn,num_params=num_params)\n",
    "gen_data_ex = lambda : gen_data(nobs=500, a=a,  num_params=num_params)\n",
    "mc_out = vuong_tests5.monte_carlo(num_sims,gen_data_ex,setup_shi_ex)\n",
    "vuong_tests5.print_mc(mc_out)\n",
    "print(mc_out)"
   ]
  },
  {
   "cell_type": "markdown",
   "metadata": {},
   "source": [
    "# a  = .25, K = 19"
   ]
  },
  {
   "cell_type": "code",
   "execution_count": 13,
   "metadata": {},
   "outputs": [],
   "source": [
    "a = 0.25\n",
    "num_params=19\n",
    "num_sims = 100"
   ]
  },
  {
   "cell_type": "code",
   "execution_count": 14,
   "metadata": {},
   "outputs": [
    {
     "name": "stdout",
     "output_type": "stream",
     "text": [
      "\\begin{tabular}{|c|c|c|c|c|c|c|}\n",
      "\\hline\n",
      "Model &  Normal & Two-Step & Bootstrap & Bootstrap-pt & Bootstrap-bc & Shi (2015) \\\\ \\hline \\hline\n",
      "No selection & 0.73 & 0.73 & 0.99 & 0.98 & 0.99 & 1.00   \\\\\n",
      "Model 1 & 0.00 & 0.00 & 0.00 & 0.01 & 0.00 & 0.00   \\\\\n",
      "Model 2 & 0.27 & 0.27 & 0.01 & 0.01 & 0.01 & 0.00   \\\\\n",
      "\\hline\n",
      "\\end{tabular}\n",
      "(array([0.73, 0.  , 0.27]), array([0.73, 0.  , 0.27]), array([0.99, 0.  , 0.01]), array([0.98, 0.01, 0.01]), array([0.99, 0.  , 0.01]), array([1., 0., 0.]), -9.549747640604519, 5.683417753641636, 6.759046723459051)\n"
     ]
    }
   ],
   "source": [
    "setup_shi_ex  = lambda yn,xn: setup_shi(yn,xn,num_params=num_params)\n",
    "gen_data_ex = lambda : gen_data(nobs=250, a=a,  num_params=num_params)\n",
    "mc_out = vuong_tests5.monte_carlo(num_sims,gen_data_ex,setup_shi_ex)\n",
    "vuong_tests5.print_mc(mc_out)\n",
    "print(mc_out)"
   ]
  },
  {
   "cell_type": "code",
   "execution_count": 15,
   "metadata": {},
   "outputs": [
    {
     "name": "stdout",
     "output_type": "stream",
     "text": [
      "\\begin{tabular}{|c|c|c|c|c|c|c|}\n",
      "\\hline\n",
      "Model &  Normal & Two-Step & Bootstrap & Bootstrap-pt & Bootstrap-bc & Shi (2015) \\\\ \\hline \\hline\n",
      "No selection & 0.85 & 0.85 & 0.97 & 0.95 & 0.97 & 0.98   \\\\\n",
      "Model 1 & 0.00 & 0.00 & 0.02 & 0.03 & 0.01 & 0.02   \\\\\n",
      "Model 2 & 0.15 & 0.15 & 0.01 & 0.02 & 0.02 & 0.00   \\\\\n",
      "\\hline\n",
      "\\end{tabular}\n",
      "(array([0.85, 0.  , 0.15]), array([0.85, 0.  , 0.15]), array([0.97, 0.02, 0.01]), array([0.95, 0.03, 0.02]), array([0.97, 0.01, 0.02]), array([0.98, 0.02, 0.  ]), -7.9721585972270805, 7.878111872166247, 8.515159897779391)\n"
     ]
    }
   ],
   "source": [
    "setup_shi_ex  = lambda yn,xn: setup_shi(yn,xn,num_params=num_params)\n",
    "gen_data_ex = lambda : gen_data(nobs=500, a=a,  num_params=num_params)\n",
    "mc_out = vuong_tests5.monte_carlo(num_sims,gen_data_ex,setup_shi_ex)\n",
    "vuong_tests5.print_mc(mc_out)\n",
    "print(mc_out)"
   ]
  },
  {
   "cell_type": "code",
   "execution_count": 16,
   "metadata": {},
   "outputs": [
    {
     "name": "stdout",
     "output_type": "stream",
     "text": [
      "\\begin{tabular}{|c|c|c|c|c|c|c|}\n",
      "\\hline\n",
      "Model &  Normal & Two-Step & Bootstrap & Bootstrap-pt & Bootstrap-bc & Shi (2015) \\\\ \\hline \\hline\n",
      "No selection & 0.93 & 0.93 & 0.94 & 0.93 & 0.94 & 0.94   \\\\\n",
      "Model 1 & 0.02 & 0.02 & 0.06 & 0.07 & 0.05 & 0.06   \\\\\n",
      "Model 2 & 0.05 & 0.05 & 0.00 & 0.00 & 0.01 & 0.00   \\\\\n",
      "\\hline\n",
      "\\end{tabular}\n",
      "(array([0.93, 0.02, 0.05]), array([0.93, 0.02, 0.05]), array([0.94, 0.06, 0.  ]), array([0.93, 0.07, 0.  ]), array([0.94, 0.05, 0.01]), array([0.94, 0.06, 0.  ]), -5.846913483015742, 11.168092473854982, 11.112929602424952)\n"
     ]
    }
   ],
   "source": [
    "setup_shi_ex  = lambda yn,xn: setup_shi(yn,xn,num_params=num_params)\n",
    "gen_data_ex = lambda : gen_data(nobs=1000, a=a,  num_params=num_params)\n",
    "mc_out = vuong_tests5.monte_carlo(num_sims,gen_data_ex,setup_shi_ex)\n",
    "vuong_tests5.print_mc(mc_out)\n",
    "print(mc_out)"
   ]
  },
  {
   "cell_type": "markdown",
   "metadata": {},
   "source": [
    "# a = 0"
   ]
  },
  {
   "cell_type": "code",
   "execution_count": 17,
   "metadata": {},
   "outputs": [],
   "source": [
    "a = 0.0\n",
    "num_params=19\n",
    "num_sims = 100"
   ]
  },
  {
   "cell_type": "code",
   "execution_count": 18,
   "metadata": {},
   "outputs": [
    {
     "name": "stdout",
     "output_type": "stream",
     "text": [
      "\\begin{tabular}{|c|c|c|c|c|c|c|}\n",
      "\\hline\n",
      "Model &  Normal & Two-Step & Bootstrap & Bootstrap-pt & Bootstrap-bc & Shi (2015) \\\\ \\hline \\hline\n",
      "No selection & 0.49 & 0.49 & 0.99 & 0.98 & 0.98 & 0.99   \\\\\n",
      "Model 1 & 0.00 & 0.00 & 0.01 & 0.01 & 0.01 & 0.01   \\\\\n",
      "Model 2 & 0.51 & 0.51 & 0.00 & 0.01 & 0.01 & 0.00   \\\\\n",
      "\\hline\n",
      "\\end{tabular}\n",
      "(array([0.49, 0.  , 0.51]), array([0.49, 0.  , 0.51]), array([0.99, 0.01, 0.  ]), array([0.98, 0.01, 0.01]), array([0.98, 0.01, 0.01]), array([0.99, 0.01, 0.  ]), -8.78190951510698, 3.4735315903000705, 4.240917490653393)\n"
     ]
    }
   ],
   "source": [
    "setup_shi_ex  = lambda yn,xn: setup_shi(yn,xn,num_params=num_params)\n",
    "gen_data_ex = lambda : gen_data(nobs=250, a=a,  num_params=num_params)\n",
    "mc_out = vuong_tests5.monte_carlo(num_sims,gen_data_ex,setup_shi_ex)\n",
    "vuong_tests5.print_mc(mc_out)\n",
    "print(mc_out)"
   ]
  },
  {
   "cell_type": "code",
   "execution_count": 19,
   "metadata": {},
   "outputs": [
    {
     "name": "stdout",
     "output_type": "stream",
     "text": [
      "\\begin{tabular}{|c|c|c|c|c|c|c|}\n",
      "\\hline\n",
      "Model &  Normal & Two-Step & Bootstrap & Bootstrap-pt & Bootstrap-bc & Shi (2015) \\\\ \\hline \\hline\n",
      "No selection & 0.41 & 0.41 & 0.99 & 0.99 & 0.99 & 0.99   \\\\\n",
      "Model 1 & 0.00 & 0.00 & 0.01 & 0.01 & 0.01 & 0.01   \\\\\n",
      "Model 2 & 0.59 & 0.59 & 0.00 & 0.00 & 0.00 & 0.00   \\\\\n",
      "\\hline\n",
      "\\end{tabular}\n",
      "(array([0.41, 0.  , 0.59]), array([0.41, 0.  , 0.59]), array([0.99, 0.01, 0.  ]), array([0.99, 0.01, 0.  ]), array([0.99, 0.01, 0.  ]), array([0.99, 0.01, 0.  ]), -8.926101859066554, 3.2739175110108816, 4.383246340557531)\n"
     ]
    }
   ],
   "source": [
    "setup_shi_ex  = lambda yn,xn: setup_shi(yn,xn,num_params=num_params)\n",
    "gen_data_ex = lambda : gen_data(nobs=500, a=a,  num_params=num_params)\n",
    "mc_out = vuong_tests5.monte_carlo(num_sims,gen_data_ex,setup_shi_ex)\n",
    "vuong_tests5.print_mc(mc_out)\n",
    "print(mc_out)"
   ]
  },
  {
   "cell_type": "markdown",
   "metadata": {},
   "source": [
    "# evidence of power"
   ]
  },
  {
   "cell_type": "code",
   "execution_count": 20,
   "metadata": {},
   "outputs": [],
   "source": [
    "a1,a2 = np.sqrt(1.09-1), 0.00\n",
    "num_params= 9\n",
    "num_sims = 100\n",
    "\n",
    "def gen_data2(nobs=1000, a1=np.sqrt(1.09-1), a2=0.00 , num_params=19):\n",
    "    x = np.random.normal(scale=1., size=(nobs,1+num_params))\n",
    "    e = np.random.normal(loc=0.0, scale=1.0, size=nobs)\n",
    "    y = 1 + a1*x[:,0] + a2/np.sqrt(num_params)*x[:,1:num_params+1].sum(axis=1) + e\n",
    "    return y,x,nobs"
   ]
  },
  {
   "cell_type": "code",
   "execution_count": 21,
   "metadata": {},
   "outputs": [
    {
     "name": "stdout",
     "output_type": "stream",
     "text": [
      "\\begin{tabular}{|c|c|c|c|c|c|c|}\n",
      "\\hline\n",
      "Model &  Normal & Two-Step & Bootstrap & Bootstrap-pt & Bootstrap-bc & Shi (2015) \\\\ \\hline \\hline\n",
      "No selection & 0.84 & 0.84 & 0.48 & 0.51 & 0.49 & 0.60   \\\\\n",
      "Model 1 & 0.16 & 0.16 & 0.52 & 0.49 & 0.51 & 0.40   \\\\\n",
      "Model 2 & 0.00 & 0.00 & 0.00 & 0.00 & 0.00 & 0.00   \\\\\n",
      "\\hline\n",
      "\\end{tabular}\n",
      "(array([0.84, 0.16, 0.  ]), array([0.84, 0.16, 0.  ]), array([0.48, 0.52, 0.  ]), array([0.51, 0.49, 0.  ]), array([0.49, 0.51, 0.  ]), array([0.6, 0.4, 0. ]), 6.215476741598551, 5.373122666140737, 4.974366686244583)\n"
     ]
    }
   ],
   "source": [
    "a1,a2 = np.sqrt(1.09-1), 0.00\n",
    "setup_shi_ex  = lambda yn,xn: setup_shi(yn,xn,num_params=num_params)\n",
    "gen_data_ex = lambda : gen_data2(nobs=250, a1=a1, a2=a2, num_params=num_params)\n",
    "mc_out = vuong_tests5.monte_carlo(num_sims,gen_data_ex,setup_shi_ex)\n",
    "vuong_tests5.print_mc(mc_out)\n",
    "print(mc_out)"
   ]
  },
  {
   "cell_type": "code",
   "execution_count": 22,
   "metadata": {},
   "outputs": [
    {
     "name": "stdout",
     "output_type": "stream",
     "text": [
      "\\begin{tabular}{|c|c|c|c|c|c|c|}\n",
      "\\hline\n",
      "Model &  Normal & Two-Step & Bootstrap & Bootstrap-pt & Bootstrap-bc & Shi (2015) \\\\ \\hline \\hline\n",
      "No selection & 0.79 & 0.79 & 0.52 & 0.51 & 0.47 & 0.54   \\\\\n",
      "Model 1 & 0.21 & 0.21 & 0.48 & 0.49 & 0.53 & 0.46   \\\\\n",
      "Model 2 & 0.00 & 0.00 & 0.00 & 0.00 & 0.00 & 0.00   \\\\\n",
      "\\hline\n",
      "\\end{tabular}\n",
      "(array([0.79, 0.21, 0.  ]), array([0.79, 0.21, 0.  ]), array([0.52, 0.48, 0.  ]), array([0.51, 0.49, 0.  ]), array([0.47, 0.53, 0.  ]), array([0.54, 0.46, 0.  ]), 7.219461457623967, 4.475706382469549, 5.372532759880559)\n"
     ]
    }
   ],
   "source": [
    "a1,a2 = np.sqrt(1.09**.5-1), 0.00\n",
    "setup_shi_ex  = lambda yn,xn: setup_shi(yn,xn,num_params=num_params)\n",
    "gen_data_ex = lambda : gen_data2(nobs=500, a1=a1, a2=a2, num_params=num_params)\n",
    "mc_out = vuong_tests5.monte_carlo(num_sims,gen_data_ex,setup_shi_ex)\n",
    "vuong_tests5.print_mc(mc_out)\n",
    "print(mc_out)"
   ]
  },
  {
   "cell_type": "code",
   "execution_count": 23,
   "metadata": {},
   "outputs": [
    {
     "name": "stdout",
     "output_type": "stream",
     "text": [
      "\\begin{tabular}{|c|c|c|c|c|c|c|}\n",
      "\\hline\n",
      "Model &  Normal & Two-Step & Bootstrap & Bootstrap-pt & Bootstrap-bc & Shi (2015) \\\\ \\hline \\hline\n",
      "No selection & 0.12 & 0.12 & 0.50 & 0.53 & 0.48 & 0.57   \\\\\n",
      "Model 1 & 0.00 & 0.00 & 0.00 & 0.00 & 0.00 & 0.00   \\\\\n",
      "Model 2 & 0.88 & 0.88 & 0.50 & 0.47 & 0.52 & 0.43   \\\\\n",
      "\\hline\n",
      "\\end{tabular}\n",
      "(array([0.12, 0.  , 0.88]), array([0.12, 0.  , 0.88]), array([0.5, 0. , 0.5]), array([0.53, 0.  , 0.47]), array([0.48, 0.  , 0.52]), array([0.57, 0.  , 0.43]), -14.339085274935174, 5.818415056232851, 5.2509620911971435)\n"
     ]
    }
   ],
   "source": [
    "a1,a2 = 0.00,np.sqrt(1.09-1)\n",
    "setup_shi_ex  = lambda yn,xn: setup_shi(yn,xn,num_params=num_params)\n",
    "gen_data_ex = lambda : gen_data2(nobs=250, a1=a1, a2=a2, num_params=num_params)\n",
    "mc_out = vuong_tests5.monte_carlo(num_sims,gen_data_ex,setup_shi_ex)\n",
    "vuong_tests5.print_mc(mc_out)\n",
    "print(mc_out)"
   ]
  },
  {
   "cell_type": "code",
   "execution_count": 24,
   "metadata": {},
   "outputs": [
    {
     "name": "stdout",
     "output_type": "stream",
     "text": [
      "\\begin{tabular}{|c|c|c|c|c|c|c|}\n",
      "\\hline\n",
      "Model &  Normal & Two-Step & Bootstrap & Bootstrap-pt & Bootstrap-bc & Shi (2015) \\\\ \\hline \\hline\n",
      "No selection & 0.16 & 0.16 & 0.54 & 0.52 & 0.52 & 0.59   \\\\\n",
      "Model 1 & 0.00 & 0.00 & 0.00 & 0.00 & 0.00 & 0.00   \\\\\n",
      "Model 2 & 0.84 & 0.84 & 0.46 & 0.48 & 0.48 & 0.41   \\\\\n",
      "\\hline\n",
      "\\end{tabular}\n",
      "(array([0.16, 0.  , 0.84]), array([0.16, 0.  , 0.84]), array([0.54, 0.  , 0.46]), array([0.52, 0.  , 0.48]), array([0.52, 0.  , 0.48]), array([0.59, 0.  , 0.41]), -13.545118893551194, 4.6864122193996245, 5.227885131513371)\n"
     ]
    }
   ],
   "source": [
    "a1,a2 =  0.00,np.sqrt(1.09**.5-1)\n",
    "setup_shi_ex  = lambda yn,xn: setup_shi(yn,xn,num_params=num_params)\n",
    "gen_data_ex = lambda : gen_data2(nobs=500, a1=a1, a2=a2, num_params=num_params)\n",
    "mc_out = vuong_tests5.monte_carlo(num_sims,gen_data_ex,setup_shi_ex)\n",
    "vuong_tests5.print_mc(mc_out)\n",
    "print(mc_out)"
   ]
  },
  {
   "cell_type": "code",
   "execution_count": null,
   "metadata": {},
   "outputs": [],
   "source": []
  },
  {
   "cell_type": "code",
   "execution_count": null,
   "metadata": {},
   "outputs": [],
   "source": []
  },
  {
   "cell_type": "code",
   "execution_count": null,
   "metadata": {},
   "outputs": [],
   "source": []
  }
 ],
 "metadata": {
  "kernelspec": {
   "display_name": "Python 3",
   "language": "python",
   "name": "python3"
  },
  "language_info": {
   "codemirror_mode": {
    "name": "ipython",
    "version": 3
   },
   "file_extension": ".py",
   "mimetype": "text/x-python",
   "name": "python",
   "nbconvert_exporter": "python",
   "pygments_lexer": "ipython3",
   "version": "3.8.8"
  }
 },
 "nbformat": 4,
 "nbformat_minor": 2
}
